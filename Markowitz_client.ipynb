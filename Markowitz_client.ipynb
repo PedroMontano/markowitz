{
 "cells": [
  {
   "cell_type": "code",
   "execution_count": 3,
   "metadata": {
    "colab": {
     "base_uri": "https://localhost:8080/"
    },
    "id": "5agkD_By16D8",
    "outputId": "b450340c-24a0-4aca-fa89-121af296bde7"
   },
   "outputs": [],
   "source": [
    "!pip install gurobipy"
   ]
  },
  {
   "cell_type": "markdown",
   "metadata": {},
   "source": [
    "### Imports utilizados:"
   ]
  },
  {
   "cell_type": "code",
   "execution_count": 1,
   "metadata": {
    "id": "w0-5tusG366w"
   },
   "outputs": [],
   "source": [
    "import gurobipy as gp\n",
    "import math\n",
    "import numpy as np\n",
    "import pandas as pd\n",
    "import matplotlib.pyplot as plt\n",
    "import time\n",
    "from scipy.stats import gmean\n",
    "\n",
    "%matplotlib inline\n",
    "\n",
    "from markowitz import Markowitz"
   ]
  },
  {
   "cell_type": "markdown",
   "metadata": {
    "id": "obF-hAt416EK"
   },
   "source": [
    "### Leitura dos dados de entrada:"
   ]
  },
  {
   "cell_type": "code",
   "execution_count": 2,
   "metadata": {
    "id": "1buNeH-sW6IW"
   },
   "outputs": [],
   "source": [
    "df = pd.read_excel('seriehistorica.xlsx', index_col = 0)\n",
    "df.fillna(method='ffill',inplace=True)\n",
    "\n",
    "pf = pd.read_excel('perfilfundos.xlsx', usecols = ['CNPJ', 'APLICACAO_MINIMA', 'CATEGORIA', 'SUBCATEGORIA'])\n",
    "pf['CNPJ'] = pf['CNPJ'].str.replace('[./-]', '', regex=True)\n",
    "pf['APLICACAO_MINIMA'] = pf['APLICACAO_MINIMA'].str.replace('-', '0').str.replace('R\\$ ','').str.replace('.', '').astype(float)\n",
    "\n",
    "pf.set_index('CNPJ',inplace=True)\n",
    "pf.drop(index=(list(set(pf.index)-set(df.columns))),inplace=True)\n",
    "pf.reset_index(inplace=True)\n",
    "\n",
    "CNPJ_dict_tipos = dict()\n",
    "for cat in pf.CATEGORIA.unique():\n",
    "    CNPJ_dict_tipos[cat] = pf.query('CATEGORIA == @cat').index.to_list()\n",
    "\n",
    "CNPJ_list = list(pf.CNPJ)\n",
    "df = df[CNPJ_list]\n",
    "\n",
    "pf.set_index('CNPJ',inplace=True)"
   ]
  },
  {
   "cell_type": "markdown",
   "metadata": {
    "id": "aQjAmbCh16Ef"
   },
   "source": [
    "### Parâmetros de entrada do modelo:"
   ]
  },
  {
   "cell_type": "code",
   "execution_count": 3,
   "metadata": {
    "id": "q21UNpeDylW9"
   },
   "outputs": [],
   "source": [
    "df_retorno = df.pct_change().dropna()\n",
    "sigma = (df_retorno.cov()*252).to_numpy()\n",
    "media = (df_retorno+1).apply(gmean)**252-1"
   ]
  },
  {
   "cell_type": "code",
   "execution_count": 4,
   "metadata": {
    "id": "MS648prM16Ei"
   },
   "outputs": [],
   "source": [
    "valorMinFundos = np.array(pf['APLICACAO_MINIMA'])"
   ]
  },
  {
   "cell_type": "code",
   "execution_count": 5,
   "metadata": {
    "id": "_LN8uP-l16Ej"
   },
   "outputs": [],
   "source": [
    "minRetorno = 0.002\n",
    "C = 100000\n",
    "K_min = 3\n",
    "K_max = 10\n",
    "P_min = 0.05\n",
    "P_max = 0.3\n",
    "\n",
    "P_categorias = {\n",
    "    'Ações': 0.25,\n",
    "    'Cambial': 0.00,\n",
    "    'Multimercados': 0.35,\n",
    "    'Renda Fixa': 0.40\n",
    "}"
   ]
  },
  {
   "cell_type": "markdown",
   "metadata": {
    "id": "rnK02-7-16El"
   },
   "source": [
    "### Instanciando e resolvendo o modelo para minimização do risco com retorno mínimo pré-definido:"
   ]
  },
  {
   "cell_type": "code",
   "execution_count": 6,
   "metadata": {
    "colab": {
     "base_uri": "https://localhost:8080/"
    },
    "id": "1YPFX6Wn16Em",
    "outputId": "8e8794d8-1ee4-41ce-f79e-c345f714ac5b"
   },
   "outputs": [
    {
     "name": "stdout",
     "output_type": "stream",
     "text": [
      "Academic license - for non-commercial use only - expires 2021-11-05\n",
      "Using license file C:\\Users\\Eduardo\\gurobi.lic\n",
      "Tempo para instanciar o modelo: 6.053346395492554 s\n",
      "Changed value of parameter TimeLimit to 30.0\n",
      "   Prev: inf  Min: 0.0  Max: inf  Default: inf\n",
      "Fim do processo de solução\n",
      "Tempo total do processo: 38.71321415901184 s\n"
     ]
    }
   ],
   "source": [
    "tempo_init = time.time()\n",
    "modelo = Markowitz(C, CNPJ_list, CNPJ_dict_tipos, P_min, P_max, P_categorias, K_min, K_max, \n",
    "                   valorMinFundos, sigma, media, minRetorno)\n",
    "print('Tempo para instanciar o modelo:', time.time() - tempo_init, 's')\n",
    "carteira = modelo.solve(time = 30)\n",
    "print('Fim do processo de solução')\n",
    "print('Tempo total do processo:', time.time() - tempo_init, 's')"
   ]
  },
  {
   "cell_type": "markdown",
   "metadata": {},
   "source": [
    "### Imprimindo resultados:"
   ]
  },
  {
   "cell_type": "code",
   "execution_count": 8,
   "metadata": {
    "colab": {
     "base_uri": "https://localhost:8080/"
    },
    "id": "1Xw0a10_16Eo",
    "outputId": "605b1fe2-3327-40eb-8079-753bfa76ed6c"
   },
   "outputs": [
    {
     "name": "stdout",
     "output_type": "stream",
     "text": [
      "Resultado obtido:\n",
      "Retorno esperado --> 5.53%\n",
      "Risco estimado --> 1.66%\n",
      "Fundo 76 (09720734000110) \t Peso: 6.63% \t Valor: R$ 6626.88\n",
      "Fundo 154 (14799785000119) \t Peso: 14.7% \t Valor: R$ 14703.11\n",
      "Fundo 193 (18558694000142) \t Peso: 5.0% \t Valor: R$ 5000.0\n",
      "Fundo 257 (22232929000189) \t Peso: 20.0% \t Valor: R$ 20000.0\n",
      "Fundo 260 (22407091000117) \t Peso: 5.0% \t Valor: R$ 5000.0\n",
      "Fundo 299 (22003346000186) \t Peso: 11.72% \t Valor: R$ 11717.02\n",
      "Fundo 417 (29319740000177) \t Peso: 5.0% \t Valor: R$ 5000.0\n",
      "Fundo 437 (32102192000133) \t Peso: 5.3% \t Valor: R$ 5296.89\n",
      "Fundo 450 (31923761000149) \t Peso: 5.0% \t Valor: R$ 5000.0\n",
      "Fundo 470 (31963396000104) \t Peso: 21.66% \t Valor: R$ 21656.1\n",
      "\n",
      "Categorias dos fundos escolhidos:\n",
      "09720734000110 --> Renda Fixa --> Renda Fixa Duração Livre Grau de Investimento\n",
      "14799785000119 --> Ações --> Ações Livre\n",
      "18558694000142 --> Ações --> Ações Livre\n",
      "22232929000189 --> Multimercados --> Multimercados Livre\n",
      "22407091000117 --> Multimercados --> Multimercados Livre\n",
      "22003346000186 --> Renda Fixa --> Renda Fixa Duração Livre Grau de Investimento\n",
      "29319740000177 --> Multimercados --> Multimercados Livre\n",
      "32102192000133 --> Ações --> Ações Investimento no Exterior\n",
      "31923761000149 --> Multimercados --> Multimercados Livre\n",
      "31963396000104 --> Renda Fixa --> Renda Fixa Duração Livre Crédito Livre\n"
     ]
    }
   ],
   "source": [
    "print('Resultado obtido:')\n",
    "\n",
    "carteira.exibir(C)\n",
    "\n",
    "print()\n",
    "print('Categorias dos fundos escolhidos:')\n",
    "\n",
    "categoria = np.array(pf['CATEGORIA'][carteira.CNPJ_list])\n",
    "subcategoria = np.array(pf['SUBCATEGORIA'][carteira.CNPJ_list])\n",
    "\n",
    "for i in range(len(categoria)):\n",
    "    print(f\"{carteira.CNPJ_list[i]} --> {categoria[i]} --> {subcategoria[i]}\")\n"
   ]
  },
  {
   "cell_type": "code",
   "execution_count": 6,
   "metadata": {
    "id": "nLBAds-m16Eq",
    "outputId": "d5f41bd3-e9be-4629-fdb5-57040fcd99c0"
   },
   "outputs": [
    {
     "name": "stdout",
     "output_type": "stream",
     "text": [
      "Academic license - for non-commercial use only - expires 2021-11-05\n",
      "Using license file C:\\Users\\Eduardo\\gurobi.lic\n",
      "Tempo para instanciar o modelo: 6.064346790313721 s\n",
      "minRetorno atual: 0.0\tChanged value of parameter TimeLimit to 30.0\n",
      "   Prev: inf  Min: 0.0  Max: inf  Default: inf\n",
      "minRetorno atual: 0.01\tminRetorno atual: 0.02\tminRetorno atual: 0.03\tminRetorno atual: 0.04\tminRetorno atual: 0.05\tminRetorno atual: 0.06\tminRetorno atual: 0.07\tminRetorno atual: 0.08\tminRetorno atual: 0.09\tminRetorno atual: 0.1\t\n",
      "Tempo total do processo: 217.63444805145264 s\n"
     ]
    }
   ],
   "source": [
    "minRetorno = 0.0\n",
    "tempo_init = time.time()\n",
    "modelo = Markowitz(C, CNPJ_list, CNPJ_dict_tipos, P_min, P_max, P_categorias, K_min, K_max, \n",
    "                   valorMinFundos, sigma, media, minRetorno)\n",
    "print('Tempo para instanciar o modelo:', time.time() - tempo_init, 's')\n",
    "lista_GAP = list()\n",
    "\n",
    "while(minRetorno < 0.1):\n",
    "    print('minRetorno atual:', round(minRetorno, 5), end='\\t')\n",
    "    carteira = modelo.solve(time = 30)\n",
    "    minRetorno += 0.01\n",
    "    modelo.update_minRetorno(minRetorno)\n",
    "    if(carteira.Retorno == 0):\n",
    "        break\n",
    "    else:\n",
    "        lista_GAP.append(modelo.GAP)\n",
    "print()        \n",
    "\n",
    "print('Tempo total do processo:', time.time() - tempo_init, 's')"
   ]
  },
  {
   "cell_type": "code",
   "execution_count": 7,
   "metadata": {
    "id": "vCY6-fda16Es",
    "outputId": "a5f4a3d5-38c9-450f-c44a-503e04e85683"
   },
   "outputs": [
    {
     "data": {
      "text/plain": [
       "array([2.46155275e+00, 0.00000000e+00, 0.00000000e+00, 0.00000000e+00,\n",
       "       0.00000000e+00, 0.00000000e+00, 2.86065684e-03, 0.00000000e+00,\n",
       "       4.63649684e-01, 4.19046516e+00, 4.03647168e+00])"
      ]
     },
     "execution_count": 7,
     "metadata": {},
     "output_type": "execute_result"
    }
   ],
   "source": [
    "np.array(lista_GAP) * 100"
   ]
  },
  {
   "cell_type": "markdown",
   "metadata": {
    "id": "4oMQNKAV16Et"
   },
   "source": [
    "### Rodando o modelo sem limitar o retorno, mas utilizando a função objetivo original de Markowitz:"
   ]
  },
  {
   "cell_type": "code",
   "execution_count": 8,
   "metadata": {
    "id": "CxfHMEcr16Ev",
    "outputId": "9bec43ab-81c0-4ff0-dcca-97a7bf42838a"
   },
   "outputs": [
    {
     "name": "stdout",
     "output_type": "stream",
     "text": [
      "Changed value of parameter TimeLimit to 10.0\n",
      "   Prev: inf  Min: 0.0  Max: inf  Default: inf\n",
      "Retorno esperado --> 46.6%\n",
      "Risco estimado --> 6.06%\n",
      "Fundo 160 (15188380000107) \t Peso: 5.0% \t Valor: R$ 5000.0\n",
      "Fundo 248 (21732619000160) \t Peso: 17.35% \t Valor: R$ 17350.46\n",
      "Fundo 331 (26664935000166) \t Peso: 5.0% \t Valor: R$ 5000.0\n",
      "Fundo 381 (29177024000100) \t Peso: 20.0% \t Valor: R$ 20000.0\n",
      "Fundo 419 (08968733000126) \t Peso: 5.0% \t Valor: R$ 5000.0\n",
      "Fundo 435 (31964074000171) \t Peso: 7.65% \t Valor: R$ 7649.54\n",
      "Fundo 444 (30934757000113) \t Peso: 30.0% \t Valor: R$ 30000.0\n",
      "Fundo 505 (35088108000162) \t Peso: 10.0% \t Valor: R$ 10000.0\n"
     ]
    }
   ],
   "source": [
    "modelo = Markowitz(C, CNPJ_list, CNPJ_dict_tipos, P_min, P_max, P_categorias, K_min, K_max, \n",
    "                   valorMinFundos, sigma, media, obj_type='markowitz', l=50)\n",
    "carteira = modelo.solve(time = 10)\n",
    "\n",
    "carteira.exibir(C)\n"
   ]
  },
  {
   "cell_type": "code",
   "execution_count": 9,
   "metadata": {},
   "outputs": [
    {
     "data": {
      "text/plain": [
       "0.009686989137228782"
      ]
     },
     "execution_count": 9,
     "metadata": {},
     "output_type": "execute_result"
    }
   ],
   "source": [
    "modelo.GAP * 100"
   ]
  },
  {
   "cell_type": "markdown",
   "metadata": {},
   "source": [
    "### Percentuais e tipos de fundos escolhidos:"
   ]
  },
  {
   "cell_type": "code",
   "execution_count": 43,
   "metadata": {},
   "outputs": [
    {
     "data": {
      "text/html": [
       "        <script type=\"text/javascript\">\n",
       "        window.PlotlyConfig = {MathJaxConfig: 'local'};\n",
       "        if (window.MathJax) {MathJax.Hub.Config({SVG: {font: \"STIX-Web\"}});}\n",
       "        if (typeof require !== 'undefined') {\n",
       "        require.undef(\"plotly\");\n",
       "        requirejs.config({\n",
       "            paths: {\n",
       "                'plotly': ['https://cdn.plot.ly/plotly-latest.min']\n",
       "            }\n",
       "        });\n",
       "        require(['plotly'], function(Plotly) {\n",
       "            window._Plotly = Plotly;\n",
       "        });\n",
       "        }\n",
       "        </script>\n",
       "        "
      ]
     },
     "metadata": {},
     "output_type": "display_data"
    },
    {
     "data": {
      "application/vnd.plotly.v1+json": {
       "config": {
        "plotlyServerURL": "https://plot.ly"
       },
       "data": [
        {
         "domain": {
          "x": [
           0,
           1
          ],
          "y": [
           0,
           1
          ]
         },
         "hovertemplate": "Tipo=%{label}<br>porcentagem=%{value}<extra></extra>",
         "labels": [
          "Ações",
          "Multimercados",
          "Renda Fixa",
          "Renda Fixa",
          "Multimercados",
          "Renda Fixa",
          "Multimercados",
          "Ações",
          "Renda Fixa",
          "Renda Fixa"
         ],
         "legendgroup": "",
         "name": "",
         "showlegend": true,
         "textfont": {
          "color": "white",
          "size": 22
         },
         "textposition": "inside",
         "type": "pie",
         "values": [
          0.09999999999999981,
          0.1029205367892106,
          0.06036942231641862,
          0.13508768976034416,
          0.1970794632107894,
          0.09573112529288474,
          0.05,
          0.05,
          0.05239351615692342,
          0.15641824647342903
         ]
        }
       ],
       "layout": {
        "legend": {
         "tracegroupgap": 0
        },
        "template": {
         "data": {
          "bar": [
           {
            "error_x": {
             "color": "#2a3f5f"
            },
            "error_y": {
             "color": "#2a3f5f"
            },
            "marker": {
             "line": {
              "color": "#E5ECF6",
              "width": 0.5
             }
            },
            "type": "bar"
           }
          ],
          "barpolar": [
           {
            "marker": {
             "line": {
              "color": "#E5ECF6",
              "width": 0.5
             }
            },
            "type": "barpolar"
           }
          ],
          "carpet": [
           {
            "aaxis": {
             "endlinecolor": "#2a3f5f",
             "gridcolor": "white",
             "linecolor": "white",
             "minorgridcolor": "white",
             "startlinecolor": "#2a3f5f"
            },
            "baxis": {
             "endlinecolor": "#2a3f5f",
             "gridcolor": "white",
             "linecolor": "white",
             "minorgridcolor": "white",
             "startlinecolor": "#2a3f5f"
            },
            "type": "carpet"
           }
          ],
          "choropleth": [
           {
            "colorbar": {
             "outlinewidth": 0,
             "ticks": ""
            },
            "type": "choropleth"
           }
          ],
          "contour": [
           {
            "colorbar": {
             "outlinewidth": 0,
             "ticks": ""
            },
            "colorscale": [
             [
              0,
              "#0d0887"
             ],
             [
              0.1111111111111111,
              "#46039f"
             ],
             [
              0.2222222222222222,
              "#7201a8"
             ],
             [
              0.3333333333333333,
              "#9c179e"
             ],
             [
              0.4444444444444444,
              "#bd3786"
             ],
             [
              0.5555555555555556,
              "#d8576b"
             ],
             [
              0.6666666666666666,
              "#ed7953"
             ],
             [
              0.7777777777777778,
              "#fb9f3a"
             ],
             [
              0.8888888888888888,
              "#fdca26"
             ],
             [
              1,
              "#f0f921"
             ]
            ],
            "type": "contour"
           }
          ],
          "contourcarpet": [
           {
            "colorbar": {
             "outlinewidth": 0,
             "ticks": ""
            },
            "type": "contourcarpet"
           }
          ],
          "heatmap": [
           {
            "colorbar": {
             "outlinewidth": 0,
             "ticks": ""
            },
            "colorscale": [
             [
              0,
              "#0d0887"
             ],
             [
              0.1111111111111111,
              "#46039f"
             ],
             [
              0.2222222222222222,
              "#7201a8"
             ],
             [
              0.3333333333333333,
              "#9c179e"
             ],
             [
              0.4444444444444444,
              "#bd3786"
             ],
             [
              0.5555555555555556,
              "#d8576b"
             ],
             [
              0.6666666666666666,
              "#ed7953"
             ],
             [
              0.7777777777777778,
              "#fb9f3a"
             ],
             [
              0.8888888888888888,
              "#fdca26"
             ],
             [
              1,
              "#f0f921"
             ]
            ],
            "type": "heatmap"
           }
          ],
          "heatmapgl": [
           {
            "colorbar": {
             "outlinewidth": 0,
             "ticks": ""
            },
            "colorscale": [
             [
              0,
              "#0d0887"
             ],
             [
              0.1111111111111111,
              "#46039f"
             ],
             [
              0.2222222222222222,
              "#7201a8"
             ],
             [
              0.3333333333333333,
              "#9c179e"
             ],
             [
              0.4444444444444444,
              "#bd3786"
             ],
             [
              0.5555555555555556,
              "#d8576b"
             ],
             [
              0.6666666666666666,
              "#ed7953"
             ],
             [
              0.7777777777777778,
              "#fb9f3a"
             ],
             [
              0.8888888888888888,
              "#fdca26"
             ],
             [
              1,
              "#f0f921"
             ]
            ],
            "type": "heatmapgl"
           }
          ],
          "histogram": [
           {
            "marker": {
             "colorbar": {
              "outlinewidth": 0,
              "ticks": ""
             }
            },
            "type": "histogram"
           }
          ],
          "histogram2d": [
           {
            "colorbar": {
             "outlinewidth": 0,
             "ticks": ""
            },
            "colorscale": [
             [
              0,
              "#0d0887"
             ],
             [
              0.1111111111111111,
              "#46039f"
             ],
             [
              0.2222222222222222,
              "#7201a8"
             ],
             [
              0.3333333333333333,
              "#9c179e"
             ],
             [
              0.4444444444444444,
              "#bd3786"
             ],
             [
              0.5555555555555556,
              "#d8576b"
             ],
             [
              0.6666666666666666,
              "#ed7953"
             ],
             [
              0.7777777777777778,
              "#fb9f3a"
             ],
             [
              0.8888888888888888,
              "#fdca26"
             ],
             [
              1,
              "#f0f921"
             ]
            ],
            "type": "histogram2d"
           }
          ],
          "histogram2dcontour": [
           {
            "colorbar": {
             "outlinewidth": 0,
             "ticks": ""
            },
            "colorscale": [
             [
              0,
              "#0d0887"
             ],
             [
              0.1111111111111111,
              "#46039f"
             ],
             [
              0.2222222222222222,
              "#7201a8"
             ],
             [
              0.3333333333333333,
              "#9c179e"
             ],
             [
              0.4444444444444444,
              "#bd3786"
             ],
             [
              0.5555555555555556,
              "#d8576b"
             ],
             [
              0.6666666666666666,
              "#ed7953"
             ],
             [
              0.7777777777777778,
              "#fb9f3a"
             ],
             [
              0.8888888888888888,
              "#fdca26"
             ],
             [
              1,
              "#f0f921"
             ]
            ],
            "type": "histogram2dcontour"
           }
          ],
          "mesh3d": [
           {
            "colorbar": {
             "outlinewidth": 0,
             "ticks": ""
            },
            "type": "mesh3d"
           }
          ],
          "parcoords": [
           {
            "line": {
             "colorbar": {
              "outlinewidth": 0,
              "ticks": ""
             }
            },
            "type": "parcoords"
           }
          ],
          "pie": [
           {
            "automargin": true,
            "type": "pie"
           }
          ],
          "scatter": [
           {
            "marker": {
             "colorbar": {
              "outlinewidth": 0,
              "ticks": ""
             }
            },
            "type": "scatter"
           }
          ],
          "scatter3d": [
           {
            "line": {
             "colorbar": {
              "outlinewidth": 0,
              "ticks": ""
             }
            },
            "marker": {
             "colorbar": {
              "outlinewidth": 0,
              "ticks": ""
             }
            },
            "type": "scatter3d"
           }
          ],
          "scattercarpet": [
           {
            "marker": {
             "colorbar": {
              "outlinewidth": 0,
              "ticks": ""
             }
            },
            "type": "scattercarpet"
           }
          ],
          "scattergeo": [
           {
            "marker": {
             "colorbar": {
              "outlinewidth": 0,
              "ticks": ""
             }
            },
            "type": "scattergeo"
           }
          ],
          "scattergl": [
           {
            "marker": {
             "colorbar": {
              "outlinewidth": 0,
              "ticks": ""
             }
            },
            "type": "scattergl"
           }
          ],
          "scattermapbox": [
           {
            "marker": {
             "colorbar": {
              "outlinewidth": 0,
              "ticks": ""
             }
            },
            "type": "scattermapbox"
           }
          ],
          "scatterpolar": [
           {
            "marker": {
             "colorbar": {
              "outlinewidth": 0,
              "ticks": ""
             }
            },
            "type": "scatterpolar"
           }
          ],
          "scatterpolargl": [
           {
            "marker": {
             "colorbar": {
              "outlinewidth": 0,
              "ticks": ""
             }
            },
            "type": "scatterpolargl"
           }
          ],
          "scatterternary": [
           {
            "marker": {
             "colorbar": {
              "outlinewidth": 0,
              "ticks": ""
             }
            },
            "type": "scatterternary"
           }
          ],
          "surface": [
           {
            "colorbar": {
             "outlinewidth": 0,
             "ticks": ""
            },
            "colorscale": [
             [
              0,
              "#0d0887"
             ],
             [
              0.1111111111111111,
              "#46039f"
             ],
             [
              0.2222222222222222,
              "#7201a8"
             ],
             [
              0.3333333333333333,
              "#9c179e"
             ],
             [
              0.4444444444444444,
              "#bd3786"
             ],
             [
              0.5555555555555556,
              "#d8576b"
             ],
             [
              0.6666666666666666,
              "#ed7953"
             ],
             [
              0.7777777777777778,
              "#fb9f3a"
             ],
             [
              0.8888888888888888,
              "#fdca26"
             ],
             [
              1,
              "#f0f921"
             ]
            ],
            "type": "surface"
           }
          ],
          "table": [
           {
            "cells": {
             "fill": {
              "color": "#EBF0F8"
             },
             "line": {
              "color": "white"
             }
            },
            "header": {
             "fill": {
              "color": "#C8D4E3"
             },
             "line": {
              "color": "white"
             }
            },
            "type": "table"
           }
          ]
         },
         "layout": {
          "annotationdefaults": {
           "arrowcolor": "#2a3f5f",
           "arrowhead": 0,
           "arrowwidth": 1
          },
          "autotypenumbers": "strict",
          "coloraxis": {
           "colorbar": {
            "outlinewidth": 0,
            "ticks": ""
           }
          },
          "colorscale": {
           "diverging": [
            [
             0,
             "#8e0152"
            ],
            [
             0.1,
             "#c51b7d"
            ],
            [
             0.2,
             "#de77ae"
            ],
            [
             0.3,
             "#f1b6da"
            ],
            [
             0.4,
             "#fde0ef"
            ],
            [
             0.5,
             "#f7f7f7"
            ],
            [
             0.6,
             "#e6f5d0"
            ],
            [
             0.7,
             "#b8e186"
            ],
            [
             0.8,
             "#7fbc41"
            ],
            [
             0.9,
             "#4d9221"
            ],
            [
             1,
             "#276419"
            ]
           ],
           "sequential": [
            [
             0,
             "#0d0887"
            ],
            [
             0.1111111111111111,
             "#46039f"
            ],
            [
             0.2222222222222222,
             "#7201a8"
            ],
            [
             0.3333333333333333,
             "#9c179e"
            ],
            [
             0.4444444444444444,
             "#bd3786"
            ],
            [
             0.5555555555555556,
             "#d8576b"
            ],
            [
             0.6666666666666666,
             "#ed7953"
            ],
            [
             0.7777777777777778,
             "#fb9f3a"
            ],
            [
             0.8888888888888888,
             "#fdca26"
            ],
            [
             1,
             "#f0f921"
            ]
           ],
           "sequentialminus": [
            [
             0,
             "#0d0887"
            ],
            [
             0.1111111111111111,
             "#46039f"
            ],
            [
             0.2222222222222222,
             "#7201a8"
            ],
            [
             0.3333333333333333,
             "#9c179e"
            ],
            [
             0.4444444444444444,
             "#bd3786"
            ],
            [
             0.5555555555555556,
             "#d8576b"
            ],
            [
             0.6666666666666666,
             "#ed7953"
            ],
            [
             0.7777777777777778,
             "#fb9f3a"
            ],
            [
             0.8888888888888888,
             "#fdca26"
            ],
            [
             1,
             "#f0f921"
            ]
           ]
          },
          "colorway": [
           "#636efa",
           "#EF553B",
           "#00cc96",
           "#ab63fa",
           "#FFA15A",
           "#19d3f3",
           "#FF6692",
           "#B6E880",
           "#FF97FF",
           "#FECB52"
          ],
          "font": {
           "color": "#2a3f5f"
          },
          "geo": {
           "bgcolor": "white",
           "lakecolor": "white",
           "landcolor": "#E5ECF6",
           "showlakes": true,
           "showland": true,
           "subunitcolor": "white"
          },
          "hoverlabel": {
           "align": "left"
          },
          "hovermode": "closest",
          "mapbox": {
           "style": "light"
          },
          "paper_bgcolor": "white",
          "plot_bgcolor": "#E5ECF6",
          "polar": {
           "angularaxis": {
            "gridcolor": "white",
            "linecolor": "white",
            "ticks": ""
           },
           "bgcolor": "#E5ECF6",
           "radialaxis": {
            "gridcolor": "white",
            "linecolor": "white",
            "ticks": ""
           }
          },
          "scene": {
           "xaxis": {
            "backgroundcolor": "#E5ECF6",
            "gridcolor": "white",
            "gridwidth": 2,
            "linecolor": "white",
            "showbackground": true,
            "ticks": "",
            "zerolinecolor": "white"
           },
           "yaxis": {
            "backgroundcolor": "#E5ECF6",
            "gridcolor": "white",
            "gridwidth": 2,
            "linecolor": "white",
            "showbackground": true,
            "ticks": "",
            "zerolinecolor": "white"
           },
           "zaxis": {
            "backgroundcolor": "#E5ECF6",
            "gridcolor": "white",
            "gridwidth": 2,
            "linecolor": "white",
            "showbackground": true,
            "ticks": "",
            "zerolinecolor": "white"
           }
          },
          "shapedefaults": {
           "line": {
            "color": "#2a3f5f"
           }
          },
          "ternary": {
           "aaxis": {
            "gridcolor": "white",
            "linecolor": "white",
            "ticks": ""
           },
           "baxis": {
            "gridcolor": "white",
            "linecolor": "white",
            "ticks": ""
           },
           "bgcolor": "#E5ECF6",
           "caxis": {
            "gridcolor": "white",
            "linecolor": "white",
            "ticks": ""
           }
          },
          "title": {
           "x": 0.05
          },
          "xaxis": {
           "automargin": true,
           "gridcolor": "white",
           "linecolor": "white",
           "ticks": "",
           "title": {
            "standoff": 15
           },
           "zerolinecolor": "white",
           "zerolinewidth": 2
          },
          "yaxis": {
           "automargin": true,
           "gridcolor": "white",
           "linecolor": "white",
           "ticks": "",
           "title": {
            "standoff": 15
           },
           "zerolinecolor": "white",
           "zerolinewidth": 2
          }
         }
        },
        "title": {
         "text": "CARTEIRA 1"
        }
       }
      },
      "text/html": [
       "<div>                            <div id=\"0d852de0-ab16-428b-ad94-853df69f218f\" class=\"plotly-graph-div\" style=\"height:525px; width:100%;\"></div>            <script type=\"text/javascript\">                require([\"plotly\"], function(Plotly) {                    window.PLOTLYENV=window.PLOTLYENV || {};                                    if (document.getElementById(\"0d852de0-ab16-428b-ad94-853df69f218f\")) {                    Plotly.newPlot(                        \"0d852de0-ab16-428b-ad94-853df69f218f\",                        [{\"domain\": {\"x\": [0.0, 1.0], \"y\": [0.0, 1.0]}, \"hovertemplate\": \"Tipo=%{label}<br>porcentagem=%{value}<extra></extra>\", \"labels\": [\"A\\u00e7\\u00f5es\", \"Multimercados\", \"Renda Fixa\", \"Renda Fixa\", \"Multimercados\", \"Renda Fixa\", \"Multimercados\", \"A\\u00e7\\u00f5es\", \"Renda Fixa\", \"Renda Fixa\"], \"legendgroup\": \"\", \"name\": \"\", \"showlegend\": true, \"textfont\": {\"color\": \"white\", \"size\": 22}, \"textposition\": \"inside\", \"type\": \"pie\", \"values\": [0.09999999999999981, 0.1029205367892106, 0.06036942231641862, 0.13508768976034416, 0.1970794632107894, 0.09573112529288474, 0.05, 0.05, 0.05239351615692342, 0.15641824647342903]}],                        {\"legend\": {\"tracegroupgap\": 0}, \"template\": {\"data\": {\"bar\": [{\"error_x\": {\"color\": \"#2a3f5f\"}, \"error_y\": {\"color\": \"#2a3f5f\"}, \"marker\": {\"line\": {\"color\": \"#E5ECF6\", \"width\": 0.5}}, \"type\": \"bar\"}], \"barpolar\": [{\"marker\": {\"line\": {\"color\": \"#E5ECF6\", \"width\": 0.5}}, \"type\": \"barpolar\"}], \"carpet\": [{\"aaxis\": {\"endlinecolor\": \"#2a3f5f\", \"gridcolor\": \"white\", \"linecolor\": \"white\", \"minorgridcolor\": \"white\", \"startlinecolor\": \"#2a3f5f\"}, \"baxis\": {\"endlinecolor\": \"#2a3f5f\", \"gridcolor\": \"white\", \"linecolor\": \"white\", \"minorgridcolor\": \"white\", \"startlinecolor\": \"#2a3f5f\"}, \"type\": \"carpet\"}], \"choropleth\": [{\"colorbar\": {\"outlinewidth\": 0, \"ticks\": \"\"}, \"type\": \"choropleth\"}], \"contour\": [{\"colorbar\": {\"outlinewidth\": 0, \"ticks\": \"\"}, \"colorscale\": [[0.0, \"#0d0887\"], [0.1111111111111111, \"#46039f\"], [0.2222222222222222, \"#7201a8\"], [0.3333333333333333, \"#9c179e\"], [0.4444444444444444, \"#bd3786\"], [0.5555555555555556, \"#d8576b\"], [0.6666666666666666, \"#ed7953\"], [0.7777777777777778, \"#fb9f3a\"], [0.8888888888888888, \"#fdca26\"], [1.0, \"#f0f921\"]], \"type\": \"contour\"}], \"contourcarpet\": [{\"colorbar\": {\"outlinewidth\": 0, \"ticks\": \"\"}, \"type\": \"contourcarpet\"}], \"heatmap\": [{\"colorbar\": {\"outlinewidth\": 0, \"ticks\": \"\"}, \"colorscale\": [[0.0, \"#0d0887\"], [0.1111111111111111, \"#46039f\"], [0.2222222222222222, \"#7201a8\"], [0.3333333333333333, \"#9c179e\"], [0.4444444444444444, \"#bd3786\"], [0.5555555555555556, \"#d8576b\"], [0.6666666666666666, \"#ed7953\"], [0.7777777777777778, \"#fb9f3a\"], [0.8888888888888888, \"#fdca26\"], [1.0, \"#f0f921\"]], \"type\": \"heatmap\"}], \"heatmapgl\": [{\"colorbar\": {\"outlinewidth\": 0, \"ticks\": \"\"}, \"colorscale\": [[0.0, \"#0d0887\"], [0.1111111111111111, \"#46039f\"], [0.2222222222222222, \"#7201a8\"], [0.3333333333333333, \"#9c179e\"], [0.4444444444444444, \"#bd3786\"], [0.5555555555555556, \"#d8576b\"], [0.6666666666666666, \"#ed7953\"], [0.7777777777777778, \"#fb9f3a\"], [0.8888888888888888, \"#fdca26\"], [1.0, \"#f0f921\"]], \"type\": \"heatmapgl\"}], \"histogram\": [{\"marker\": {\"colorbar\": {\"outlinewidth\": 0, \"ticks\": \"\"}}, \"type\": \"histogram\"}], \"histogram2d\": [{\"colorbar\": {\"outlinewidth\": 0, \"ticks\": \"\"}, \"colorscale\": [[0.0, \"#0d0887\"], [0.1111111111111111, \"#46039f\"], [0.2222222222222222, \"#7201a8\"], [0.3333333333333333, \"#9c179e\"], [0.4444444444444444, \"#bd3786\"], [0.5555555555555556, \"#d8576b\"], [0.6666666666666666, \"#ed7953\"], [0.7777777777777778, \"#fb9f3a\"], [0.8888888888888888, \"#fdca26\"], [1.0, \"#f0f921\"]], \"type\": \"histogram2d\"}], \"histogram2dcontour\": [{\"colorbar\": {\"outlinewidth\": 0, \"ticks\": \"\"}, \"colorscale\": [[0.0, \"#0d0887\"], [0.1111111111111111, \"#46039f\"], [0.2222222222222222, \"#7201a8\"], [0.3333333333333333, \"#9c179e\"], [0.4444444444444444, \"#bd3786\"], [0.5555555555555556, \"#d8576b\"], [0.6666666666666666, \"#ed7953\"], [0.7777777777777778, \"#fb9f3a\"], [0.8888888888888888, \"#fdca26\"], [1.0, \"#f0f921\"]], \"type\": \"histogram2dcontour\"}], \"mesh3d\": [{\"colorbar\": {\"outlinewidth\": 0, \"ticks\": \"\"}, \"type\": \"mesh3d\"}], \"parcoords\": [{\"line\": {\"colorbar\": {\"outlinewidth\": 0, \"ticks\": \"\"}}, \"type\": \"parcoords\"}], \"pie\": [{\"automargin\": true, \"type\": \"pie\"}], \"scatter\": [{\"marker\": {\"colorbar\": {\"outlinewidth\": 0, \"ticks\": \"\"}}, \"type\": \"scatter\"}], \"scatter3d\": [{\"line\": {\"colorbar\": {\"outlinewidth\": 0, \"ticks\": \"\"}}, \"marker\": {\"colorbar\": {\"outlinewidth\": 0, \"ticks\": \"\"}}, \"type\": \"scatter3d\"}], \"scattercarpet\": [{\"marker\": {\"colorbar\": {\"outlinewidth\": 0, \"ticks\": \"\"}}, \"type\": \"scattercarpet\"}], \"scattergeo\": [{\"marker\": {\"colorbar\": {\"outlinewidth\": 0, \"ticks\": \"\"}}, \"type\": \"scattergeo\"}], \"scattergl\": [{\"marker\": {\"colorbar\": {\"outlinewidth\": 0, \"ticks\": \"\"}}, \"type\": \"scattergl\"}], \"scattermapbox\": [{\"marker\": {\"colorbar\": {\"outlinewidth\": 0, \"ticks\": \"\"}}, \"type\": \"scattermapbox\"}], \"scatterpolar\": [{\"marker\": {\"colorbar\": {\"outlinewidth\": 0, \"ticks\": \"\"}}, \"type\": \"scatterpolar\"}], \"scatterpolargl\": [{\"marker\": {\"colorbar\": {\"outlinewidth\": 0, \"ticks\": \"\"}}, \"type\": \"scatterpolargl\"}], \"scatterternary\": [{\"marker\": {\"colorbar\": {\"outlinewidth\": 0, \"ticks\": \"\"}}, \"type\": \"scatterternary\"}], \"surface\": [{\"colorbar\": {\"outlinewidth\": 0, \"ticks\": \"\"}, \"colorscale\": [[0.0, \"#0d0887\"], [0.1111111111111111, \"#46039f\"], [0.2222222222222222, \"#7201a8\"], [0.3333333333333333, \"#9c179e\"], [0.4444444444444444, \"#bd3786\"], [0.5555555555555556, \"#d8576b\"], [0.6666666666666666, \"#ed7953\"], [0.7777777777777778, \"#fb9f3a\"], [0.8888888888888888, \"#fdca26\"], [1.0, \"#f0f921\"]], \"type\": \"surface\"}], \"table\": [{\"cells\": {\"fill\": {\"color\": \"#EBF0F8\"}, \"line\": {\"color\": \"white\"}}, \"header\": {\"fill\": {\"color\": \"#C8D4E3\"}, \"line\": {\"color\": \"white\"}}, \"type\": \"table\"}]}, \"layout\": {\"annotationdefaults\": {\"arrowcolor\": \"#2a3f5f\", \"arrowhead\": 0, \"arrowwidth\": 1}, \"autotypenumbers\": \"strict\", \"coloraxis\": {\"colorbar\": {\"outlinewidth\": 0, \"ticks\": \"\"}}, \"colorscale\": {\"diverging\": [[0, \"#8e0152\"], [0.1, \"#c51b7d\"], [0.2, \"#de77ae\"], [0.3, \"#f1b6da\"], [0.4, \"#fde0ef\"], [0.5, \"#f7f7f7\"], [0.6, \"#e6f5d0\"], [0.7, \"#b8e186\"], [0.8, \"#7fbc41\"], [0.9, \"#4d9221\"], [1, \"#276419\"]], \"sequential\": [[0.0, \"#0d0887\"], [0.1111111111111111, \"#46039f\"], [0.2222222222222222, \"#7201a8\"], [0.3333333333333333, \"#9c179e\"], [0.4444444444444444, \"#bd3786\"], [0.5555555555555556, \"#d8576b\"], [0.6666666666666666, \"#ed7953\"], [0.7777777777777778, \"#fb9f3a\"], [0.8888888888888888, \"#fdca26\"], [1.0, \"#f0f921\"]], \"sequentialminus\": [[0.0, \"#0d0887\"], [0.1111111111111111, \"#46039f\"], [0.2222222222222222, \"#7201a8\"], [0.3333333333333333, \"#9c179e\"], [0.4444444444444444, \"#bd3786\"], [0.5555555555555556, \"#d8576b\"], [0.6666666666666666, \"#ed7953\"], [0.7777777777777778, \"#fb9f3a\"], [0.8888888888888888, \"#fdca26\"], [1.0, \"#f0f921\"]]}, \"colorway\": [\"#636efa\", \"#EF553B\", \"#00cc96\", \"#ab63fa\", \"#FFA15A\", \"#19d3f3\", \"#FF6692\", \"#B6E880\", \"#FF97FF\", \"#FECB52\"], \"font\": {\"color\": \"#2a3f5f\"}, \"geo\": {\"bgcolor\": \"white\", \"lakecolor\": \"white\", \"landcolor\": \"#E5ECF6\", \"showlakes\": true, \"showland\": true, \"subunitcolor\": \"white\"}, \"hoverlabel\": {\"align\": \"left\"}, \"hovermode\": \"closest\", \"mapbox\": {\"style\": \"light\"}, \"paper_bgcolor\": \"white\", \"plot_bgcolor\": \"#E5ECF6\", \"polar\": {\"angularaxis\": {\"gridcolor\": \"white\", \"linecolor\": \"white\", \"ticks\": \"\"}, \"bgcolor\": \"#E5ECF6\", \"radialaxis\": {\"gridcolor\": \"white\", \"linecolor\": \"white\", \"ticks\": \"\"}}, \"scene\": {\"xaxis\": {\"backgroundcolor\": \"#E5ECF6\", \"gridcolor\": \"white\", \"gridwidth\": 2, \"linecolor\": \"white\", \"showbackground\": true, \"ticks\": \"\", \"zerolinecolor\": \"white\"}, \"yaxis\": {\"backgroundcolor\": \"#E5ECF6\", \"gridcolor\": \"white\", \"gridwidth\": 2, \"linecolor\": \"white\", \"showbackground\": true, \"ticks\": \"\", \"zerolinecolor\": \"white\"}, \"zaxis\": {\"backgroundcolor\": \"#E5ECF6\", \"gridcolor\": \"white\", \"gridwidth\": 2, \"linecolor\": \"white\", \"showbackground\": true, \"ticks\": \"\", \"zerolinecolor\": \"white\"}}, \"shapedefaults\": {\"line\": {\"color\": \"#2a3f5f\"}}, \"ternary\": {\"aaxis\": {\"gridcolor\": \"white\", \"linecolor\": \"white\", \"ticks\": \"\"}, \"baxis\": {\"gridcolor\": \"white\", \"linecolor\": \"white\", \"ticks\": \"\"}, \"bgcolor\": \"#E5ECF6\", \"caxis\": {\"gridcolor\": \"white\", \"linecolor\": \"white\", \"ticks\": \"\"}}, \"title\": {\"x\": 0.05}, \"xaxis\": {\"automargin\": true, \"gridcolor\": \"white\", \"linecolor\": \"white\", \"ticks\": \"\", \"title\": {\"standoff\": 15}, \"zerolinecolor\": \"white\", \"zerolinewidth\": 2}, \"yaxis\": {\"automargin\": true, \"gridcolor\": \"white\", \"linecolor\": \"white\", \"ticks\": \"\", \"title\": {\"standoff\": 15}, \"zerolinecolor\": \"white\", \"zerolinewidth\": 2}}}, \"title\": {\"text\": \"CARTEIRA 1\"}},                        {\"responsive\": true}                    ).then(function(){\n",
       "                            \n",
       "var gd = document.getElementById('0d852de0-ab16-428b-ad94-853df69f218f');\n",
       "var x = new MutationObserver(function (mutations, observer) {{\n",
       "        var display = window.getComputedStyle(gd).display;\n",
       "        if (!display || display === 'none') {{\n",
       "            console.log([gd, 'removed!']);\n",
       "            Plotly.purge(gd);\n",
       "            observer.disconnect();\n",
       "        }}\n",
       "}});\n",
       "\n",
       "// Listen for the removal of the full notebook cells\n",
       "var notebookContainer = gd.closest('#notebook-container');\n",
       "if (notebookContainer) {{\n",
       "    x.observe(notebookContainer, {childList: true});\n",
       "}}\n",
       "\n",
       "// Listen for the clearing of the current output cell\n",
       "var outputEl = gd.closest('.output');\n",
       "if (outputEl) {{\n",
       "    x.observe(outputEl, {childList: true});\n",
       "}}\n",
       "\n",
       "                        })                };                });            </script>        </div>"
      ]
     },
     "metadata": {},
     "output_type": "display_data"
    }
   ],
   "source": [
    "import cufflinks as cf\n",
    "from plotly.offline import plot, iplot\n",
    "import plotly.express as px\n",
    "import plotly.graph_objects as go\n",
    "\n",
    "cf.go_offline()\n",
    "\n",
    "pie_dados = list()\n",
    "\n",
    "categoria = np.array(pf['CATEGORIA'][carteira.CNPJ_list])\n",
    "subcategoria = np.array(pf['SUBCATEGORIA'][carteira.CNPJ_list])\n",
    "\n",
    "for i in range(len(categoria)):\n",
    "    pie_dados.append( [carteira.CNPJ_list[i], carteira.porcentagem[i], categoria[i]])\n",
    "\n",
    "pie_dados = pd.DataFrame(pie_dados, columns = ['CNPJ', 'porcentagem', 'Tipo'])\n",
    "pie_dados\n",
    "#pie_dados.iplot(kind='pie', values='porcentagem', labels='Tipo', colorscale='plotly', title='CARTEIRA 1')\n",
    "#pie_dados.iplot(kind='pie', values='porcentagem', labels='Tipo', colorscale='plotly', title='CARTEIRA 1', asImage=True)\n",
    "\n",
    "fig = px.pie(pie_dados, values='porcentagem', names='Tipo', title='CARTEIRA 1')\n",
    "fig.update_traces(textposition='inside', textfont_size=22, textfont_color='white')\n",
    "fig.show()"
   ]
  },
  {
   "cell_type": "markdown",
   "metadata": {
    "id": "XLrGdXHD16Ex"
   },
   "source": [
    "### Para gerar um conjunto de pontos da Fronteira Eficiente igualmente espaçados sobre o retorno mínimo esperado:"
   ]
  },
  {
   "cell_type": "code",
   "execution_count": 17,
   "metadata": {
    "id": "m8mcWv2P16Ey"
   },
   "outputs": [],
   "source": [
    "modelo = Markowitz(C, CNPJ_list, CNPJ_dict_tipos, P_min, P_max, P_categorias, K_min, K_max, \n",
    "                   valorMinFundos, sigma, media)"
   ]
  },
  {
   "cell_type": "code",
   "execution_count": 18,
   "metadata": {
    "id": "CBRKIp3s16Ez",
    "outputId": "a7c6b631-0a54-462e-82a2-f219056bf7a0"
   },
   "outputs": [
    {
     "name": "stdout",
     "output_type": "stream",
     "text": [
      "minRetorno atual: 0.0\n",
      "Changed value of parameter TimeLimit to 15.0\n",
      "   Prev: inf  Min: 0.0  Max: inf  Default: inf\n",
      "minRetorno atual: 0.03\n",
      "minRetorno atual: 0.06\n",
      "minRetorno atual: 0.09\n",
      "minRetorno atual: 0.12\n",
      "minRetorno atual: 0.15\n",
      "minRetorno atual: 0.18\n",
      "minRetorno atual: 0.21\n",
      "minRetorno atual: 0.24\n",
      "minRetorno atual: 0.27\n",
      "minRetorno atual: 0.30000000000000004\n",
      "minRetorno atual: 0.33000000000000007\n",
      "minRetorno atual: 0.3600000000000001\n",
      "minRetorno atual: 0.3900000000000001\n",
      "minRetorno atual: 0.42000000000000015\n",
      "minRetorno atual: 0.4500000000000002\n",
      "minRetorno atual: 0.4800000000000002\n"
     ]
    }
   ],
   "source": [
    "carteiras, idx_max_sharpe = modelo.solve_fronteira(0.0, 0.5, 0.03, print_steps=True)"
   ]
  },
  {
   "cell_type": "code",
   "execution_count": 19,
   "metadata": {
    "id": "QCEZzw0_16E1",
    "outputId": "29d035bd-1b70-4165-9332-7b021c487c3c"
   },
   "outputs": [
    {
     "data": {
      "text/plain": [
       "[Carteira(Retorno=0.06066188721235282, Risco=0.01057550627456946, Qtd. de fundos=10,\n",
       " fundos=[154, 257, 272, 299, 346, 354, 417, 437, 444, 470], \n",
       " porcentagem=[0.0999999999999999, 0.1029205367892107, 0.06036942231641867, 0.1350876897603441, 0.19707946321078929, 0.09573112529288473, 0.05, 0.05, 0.05239351615692341, 0.15641824647342908], \n",
       " CNPJ_list=['14799785000119', '22232929000189', '20584638000124', '22003346000186', '26841302000186', '27826059000190', '29319740000177', '32102192000133', '30934757000113', '31963396000104'], \n",
       " valorMinFundos=[5000.0, 5000.0, 1000.0, 100.0, 10000.0, 500.0, 1000.0, 5000.0, 1000.0, 100.0],\n",
       " Carteira(Retorno=0.060661887212352814, Risco=0.010575506274569465, Qtd. de fundos=10,\n",
       " fundos=[154, 257, 272, 299, 346, 354, 417, 437, 444, 470], \n",
       " porcentagem=[0.1000000000000002, 0.10292053678921105, 0.06036942231641885, 0.13508768976034377, 0.19707946321078912, 0.0957311252928845, 0.04999999999999982, 0.04999999999999982, 0.05239351615692337, 0.15641824647342956], \n",
       " CNPJ_list=['14799785000119', '22232929000189', '20584638000124', '22003346000186', '26841302000186', '27826059000190', '29319740000177', '32102192000133', '30934757000113', '31963396000104'], \n",
       " valorMinFundos=[5000.0, 5000.0, 1000.0, 100.0, 10000.0, 500.0, 1000.0, 5000.0, 1000.0, 100.0],\n",
       " Carteira(Retorno=0.060661887212352814, Risco=0.010575506274569465, Qtd. de fundos=10,\n",
       " fundos=[154, 257, 272, 299, 346, 354, 417, 437, 444, 470], \n",
       " porcentagem=[0.1000000000000002, 0.10292053678921105, 0.06036942231641885, 0.13508768976034377, 0.19707946321078912, 0.0957311252928845, 0.04999999999999982, 0.04999999999999982, 0.05239351615692337, 0.15641824647342956], \n",
       " CNPJ_list=['14799785000119', '22232929000189', '20584638000124', '22003346000186', '26841302000186', '27826059000190', '29319740000177', '32102192000133', '30934757000113', '31963396000104'], \n",
       " valorMinFundos=[5000.0, 5000.0, 1000.0, 100.0, 10000.0, 500.0, 1000.0, 5000.0, 1000.0, 100.0],\n",
       " Carteira(Retorno=0.09, Risco=0.01091123486984386, Qtd. de fundos=9,\n",
       " fundos=[154, 231, 257, 276, 405, 437, 444, 453, 470], \n",
       " porcentagem=[0.09999999999999978, 0.04999999999999999, 0.04999999999999999, 0.3, 0.05144681787738137, 0.05, 0.08868998247650539, 0.05, 0.25986319964611326], \n",
       " CNPJ_list=['14799785000119', '20146294000171', '22232929000189', '22652091000182', '29283824000106', '32102192000133', '30934757000113', '32102131000176', '31963396000104'], \n",
       " valorMinFundos=[5000.0, 1000.0, 5000.0, 15000.0, 3000.0, 5000.0, 1000.0, 1000.0, 100.0],\n",
       " Carteira(Retorno=0.12000000000000008, Risco=0.012561217340494419, Qtd. de fundos=9,\n",
       " fundos=[76, 154, 257, 276, 376, 419, 444, 450, 470], \n",
       " porcentagem=[0.05, 0.10000000000000003, 0.052025087284974215, 0.24797491271502578, 0.0775543880703804, 0.04999999999999999, 0.09791379608470777, 0.05, 0.2745318158449118], \n",
       " CNPJ_list=['09720734000110', '14799785000119', '22232929000189', '22652091000182', '29044189000104', '08968733000126', '30934757000113', '31923761000149', '31963396000104'], \n",
       " valorMinFundos=[1000.0, 5000.0, 5000.0, 15000.0, 1000.0, 250.0, 1000.0, 5000.0, 100.0],\n",
       " Carteira(Retorno=0.14999999999999997, Risco=0.014426984244576379, Qtd. de fundos=7,\n",
       " fundos=[154, 248, 276, 419, 444, 453, 470], \n",
       " porcentagem=[0.08716721957629739, 0.049999999999999954, 0.3, 0.06283278042370263, 0.15000000000000002, 0.05, 0.3], \n",
       " CNPJ_list=['14799785000119', '21732619000160', '22652091000182', '08968733000126', '30934757000113', '32102131000176', '31963396000104'], \n",
       " valorMinFundos=[5000.0, 1000.0, 15000.0, 250.0, 1000.0, 1000.0, 100.0],\n",
       " Carteira(Retorno=0.18, Risco=0.01765239533364303, Qtd. de fundos=6,\n",
       " fundos=[154, 248, 276, 381, 444, 470], \n",
       " porcentagem=[0.062405706593402596, 0.05, 0.3, 0.08759429340659729, 0.21018538755244967, 0.28981461244755036], \n",
       " CNPJ_list=['14799785000119', '21732619000160', '22652091000182', '29177024000100', '30934757000113', '31963396000104'], \n",
       " valorMinFundos=[5000.0, 1000.0, 15000.0, 250.0, 1000.0, 100.0],\n",
       " Carteira(Retorno=0.20999999999999996, Risco=0.021250102171496532, Qtd. de fundos=8,\n",
       " fundos=[154, 248, 276, 381, 419, 435, 444, 453], \n",
       " porcentagem=[0.05, 0.08024525609514896, 0.21975474390485103, 0.051085237039327526, 0.05, 0.05, 0.3, 0.19891476296067231], \n",
       " CNPJ_list=['14799785000119', '21732619000160', '22652091000182', '29177024000100', '08968733000126', '31964074000171', '30934757000113', '32102131000176'], \n",
       " valorMinFundos=[5000.0, 1000.0, 15000.0, 250.0, 250.0, 5000.0, 1000.0, 1000.0],\n",
       " Carteira(Retorno=0.24, Risco=0.02540274568803065, Qtd. de fundos=6,\n",
       " fundos=[248, 276, 381, 419, 444, 470], \n",
       " porcentagem=[0.04999999999999999, 0.3, 0.07252452021635951, 0.07747547978364051, 0.2179552743294232, 0.28204472567057676], \n",
       " CNPJ_list=['21732619000160', '22652091000182', '29177024000100', '08968733000126', '30934757000113', '31963396000104'], \n",
       " valorMinFundos=[1000.0, 15000.0, 250.0, 250.0, 1000.0, 100.0],\n",
       " Carteira(Retorno=0.26999999999999996, Risco=0.029004292907212906, Qtd. de fundos=8,\n",
       " fundos=[248, 276, 331, 381, 419, 435, 444, 453], \n",
       " porcentagem=[0.11905920304471217, 0.1809407969552878, 0.04999999999999999, 0.1047529490225202, 0.05238234227546576, 0.04999999999999999, 0.3, 0.1428647087020139], \n",
       " CNPJ_list=['21732619000160', '22652091000182', '26664935000166', '29177024000100', '08968733000126', '31964074000171', '30934757000113', '32102131000176'], \n",
       " valorMinFundos=[1000.0, 15000.0, 1000.0, 250.0, 250.0, 5000.0, 1000.0, 1000.0],\n",
       " Carteira(Retorno=0.30000000000000004, Risco=0.033185630144092565, Qtd. de fundos=10,\n",
       " fundos=[248, 276, 331, 342, 381, 419, 435, 444, 453, 478], \n",
       " porcentagem=[0.09999999999999998, 0.15, 0.05620596623754205, 0.05439164423870683, 0.1207992162600618, 0.05162586837582077, 0.05, 0.3, 0.06697730488786854, 0.05], \n",
       " CNPJ_list=['21732619000160', '22652091000182', '26664935000166', '26759909000111', '29177024000100', '08968733000126', '31964074000171', '30934757000113', '32102131000176', '33736873000116'], \n",
       " valorMinFundos=[1000.0, 15000.0, 1000.0, 1000.0, 250.0, 250.0, 5000.0, 1000.0, 1000.0, 500.0],\n",
       " Carteira(Retorno=0.33000000000000007, Risco=0.03804921270282855, Qtd. de fundos=9,\n",
       " fundos=[248, 276, 331, 342, 381, 419, 435, 444, 478], \n",
       " porcentagem=[0.09931065616821605, 0.15, 0.06529365004460541, 0.08078023826147676, 0.1413263943774666, 0.06259971731645132, 0.05068934383178391, 0.3, 0.05], \n",
       " CNPJ_list=['21732619000160', '22652091000182', '26664935000166', '26759909000111', '29177024000100', '08968733000126', '31964074000171', '30934757000113', '33736873000116'], \n",
       " valorMinFundos=[1000.0, 15000.0, 1000.0, 1000.0, 250.0, 250.0, 5000.0, 1000.0, 500.0],\n",
       " Carteira(Retorno=0.36000000000000004, Risco=0.04282675344848448, Qtd. de fundos=8,\n",
       " fundos=[248, 331, 342, 381, 419, 435, 444, 478], \n",
       " porcentagem=[0.2295054169810298, 0.06053982175644598, 0.07051718657891778, 0.141831136180945, 0.07711185548369119, 0.06227481927501552, 0.29999999999999993, 0.05821976374395465], \n",
       " CNPJ_list=['21732619000160', '26664935000166', '26759909000111', '29177024000100', '08968733000126', '31964074000171', '30934757000113', '33736873000116'], \n",
       " valorMinFundos=[1000.0, 1000.0, 1000.0, 250.0, 250.0, 5000.0, 1000.0, 500.0],\n",
       " Carteira(Retorno=0.3900000000000002, Risco=0.04760699205233696, Qtd. de fundos=8,\n",
       " fundos=[248, 331, 342, 381, 419, 435, 444, 478], \n",
       " porcentagem=[0.22014081623228265, 0.05205489806837235, 0.04999999999999982, 0.1632626684175773, 0.0846824335140505, 0.06779857375264232, 0.3, 0.062060610015075006], \n",
       " CNPJ_list=['21732619000160', '26664935000166', '26759909000111', '29177024000100', '08968733000126', '31964074000171', '30934757000113', '33736873000116'], \n",
       " valorMinFundos=[1000.0, 1000.0, 1000.0, 250.0, 250.0, 5000.0, 1000.0, 500.0],\n",
       " Carteira(Retorno=0.4200000000000001, Risco=0.05391932694309056, Qtd. de fundos=7,\n",
       " fundos=[160, 248, 381, 435, 444, 453, 478], \n",
       " porcentagem=[0.04999999999999993, 0.13078222809319193, 0.25, 0.10280048240779041, 0.3, 0.05, 0.11641728949901763], \n",
       " CNPJ_list=['15188380000107', '21732619000160', '29177024000100', '31964074000171', '30934757000113', '32102131000176', '33736873000116'], \n",
       " valorMinFundos=[500.0, 1000.0, 250.0, 5000.0, 1000.0, 1000.0, 500.0],\n",
       " Carteira(Retorno=0.4500000000000002, Risco=0.058329307050696104, Qtd. de fundos=8,\n",
       " fundos=[248, 331, 342, 381, 419, 435, 444, 505], \n",
       " porcentagem=[0.18574979174842113, 0.06092480221745519, 0.05, 0.1711838132372641, 0.06789138454528075, 0.06425020825157884, 0.3, 0.1], \n",
       " CNPJ_list=['21732619000160', '26664935000166', '26759909000111', '29177024000100', '08968733000126', '31964074000171', '30934757000113', '35088108000162'], \n",
       " valorMinFundos=[1000.0, 1000.0, 1000.0, 250.0, 250.0, 5000.0, 1000.0, 10000.0],\n",
       " Carteira(Retorno=0.4800000000000002, Risco=0.06370432103238212, Qtd. de fundos=7,\n",
       " fundos=[160, 248, 331, 381, 435, 444, 505], \n",
       " porcentagem=[0.05, 0.13505883862141377, 0.05, 0.25, 0.10967471926476195, 0.3, 0.10526644211382424], \n",
       " CNPJ_list=['15188380000107', '21732619000160', '26664935000166', '29177024000100', '31964074000171', '30934757000113', '35088108000162'], \n",
       " valorMinFundos=[500.0, 1000.0, 1000.0, 250.0, 5000.0, 1000.0, 10000.0]]"
      ]
     },
     "execution_count": 19,
     "metadata": {},
     "output_type": "execute_result"
    }
   ],
   "source": [
    "carteiras"
   ]
  },
  {
   "cell_type": "markdown",
   "metadata": {},
   "source": [
    "### Calculando os valores de Sharpe das soluções obtidas:"
   ]
  },
  {
   "cell_type": "code",
   "execution_count": 20,
   "metadata": {
    "id": "h0HD1ZQu16E2",
    "outputId": "8b2bb5ae-3736-4517-8154-8262e2ed0711"
   },
   "outputs": [
    {
     "name": "stdout",
     "output_type": "stream",
     "text": [
      "0.7717727171113709\n",
      "0.7717727171113697\n",
      "0.7717727171113697\n",
      "3.4368245617772706\n",
      "5.373682993478341\n",
      "6.7581691604504055\n",
      "7.2228158043233135\n",
      "7.411729069767013\n",
      "7.381091882848981\n",
      "7.498889929701102\n",
      "7.458047321245698\n",
      "7.293186383837344\n",
      "7.180091303672742\n",
      "7.089294774787873\n",
      "6.815737896503788\n",
      "6.814756082298708\n",
      "6.710690783168285\n"
     ]
    }
   ],
   "source": [
    "for cart in carteiras:\n",
    "    print( (cart.Retorno - 0.0525)/cart.Risco )"
   ]
  },
  {
   "cell_type": "markdown",
   "metadata": {},
   "source": [
    "### Plot da Fronteira Eficiente construída:"
   ]
  },
  {
   "cell_type": "code",
   "execution_count": 21,
   "metadata": {
    "id": "bIJXa7Qr16E4",
    "outputId": "587765bd-d7a7-4ef5-e71a-f5a07f3bd7f7"
   },
   "outputs": [
    {
     "data": {
      "text/plain": [
       "<Figure size 432x288 with 0 Axes>"
      ]
     },
     "metadata": {},
     "output_type": "display_data"
    },
    {
     "data": {
      "image/png": "[encoded data removed]",
      "text/plain": [
       "<Figure size 576x432 with 1 Axes>"
      ]
     },
     "metadata": {
      "needs_background": "light"
     },
     "output_type": "display_data"
    }
   ],
   "source": [
    "fig = plt.figure() \n",
    "plt.figure(figsize=(8,6))\n",
    "plt.plot([cart.Risco for cart in carteiras], [cart.Retorno for cart in carteiras], 'ob')\n",
    "plt.plot(carteiras[idx_max_sharpe].Risco, carteiras[idx_max_sharpe].Retorno, 'pr', markersize='11')\n",
    "#plt.ylim((0,1.25))\n",
    "#plt.xlim((-0.01,0.7))\n",
    "plt.grid()\n",
    "plt.xlabel('VOLATILIDADE ESPERADA')\n",
    "plt.ylabel('RETORNO ESPERADO')\n",
    "#plt.savefig('conservador.pdf')\n",
    "plt.show()"
   ]
  },
  {
   "cell_type": "markdown",
   "metadata": {},
   "source": [
    "### Olhando com mais detalhes para a solução construída:\n",
    "\n",
    "`Vamos padronizar os dados utilizando escores-Z para os dados poderem ser colocados em uma mesma imagem`"
   ]
  },
  {
   "cell_type": "code",
   "execution_count": 44,
   "metadata": {
    "id": "gQrQCGe116E6",
    "outputId": "816c4059-e832-4abf-f8b2-ceded6b26a4c"
   },
   "outputs": [
    {
     "data": {
      "text/html": [
       "        <script type=\"text/javascript\">\n",
       "        window.PlotlyConfig = {MathJaxConfig: 'local'};\n",
       "        if (window.MathJax) {MathJax.Hub.Config({SVG: {font: \"STIX-Web\"}});}\n",
       "        if (typeof require !== 'undefined') {\n",
       "        require.undef(\"plotly\");\n",
       "        requirejs.config({\n",
       "            paths: {\n",
       "                'plotly': ['https://cdn.plot.ly/plotly-latest.min']\n",
       "            }\n",
       "        });\n",
       "        require(['plotly'], function(Plotly) {\n",
       "            window._Plotly = Plotly;\n",
       "        });\n",
       "        }\n",
       "        </script>\n",
       "        "
      ]
     },
     "metadata": {},
     "output_type": "display_data"
    },
    {
     "data": {
      "application/vnd.plotly.v1+json": {
       "config": {
        "linkText": "Export to plot.ly",
        "plotlyServerURL": "https://plot.ly",
        "showLink": true
       },
       "data": [
        {
         "line": {
          "color": "rgba(255, 153, 51, 1.0)",
          "dash": "solid",
          "shape": "linear",
          "width": 1.3
         },
         "mode": "lines",
         "name": "14799785000119",
         "text": "",
         "type": "scatter",
         "x": [
          "2020-09-03",
          "2020-09-04",
          "2020-09-08",
          "2020-09-09",
          "2020-09-10",
          "2020-09-11",
          "2020-09-14",
          "2020-09-15",
          "2020-09-16",
          "2020-09-17",
          "2020-09-18",
          "2020-09-21",
          "2020-09-22",
          "2020-09-23",
          "2020-09-24",
          "2020-09-25",
          "2020-09-28",
          "2020-09-29",
          "2020-09-30",
          "2020-10-01",
          "2020-10-02",
          "2020-10-05",
          "2020-10-06",
          "2020-10-07",
          "2020-10-08",
          "2020-10-09",
          "2020-10-13",
          "2020-10-14",
          "2020-10-15",
          "2020-10-16",
          "2020-10-19",
          "2020-10-20",
          "2020-10-21",
          "2020-10-22",
          "2020-10-23",
          "2020-10-26",
          "2020-10-27",
          "2020-10-28",
          "2020-10-29",
          "2020-10-30",
          "2020-11-03",
          "2020-11-04",
          "2020-11-05",
          "2020-11-06",
          "2020-11-09",
          "2020-11-10",
          "2020-11-11",
          "2020-11-12",
          "2020-11-13",
          "2020-11-16",
          "2020-11-17",
          "2020-11-18",
          "2020-11-19",
          "2020-11-20",
          "2020-11-23",
          "2020-11-24",
          "2020-11-25",
          "2020-11-26",
          "2020-11-27",
          "2020-11-30",
          "2020-12-01",
          "2020-12-02",
          "2020-12-03",
          "2020-12-04",
          "2020-12-07",
          "2020-12-08",
          "2020-12-09",
          "2020-12-10",
          "2020-12-11",
          "2020-12-14",
          "2020-12-15",
          "2020-12-16",
          "2020-12-17",
          "2020-12-18",
          "2020-12-21",
          "2020-12-22",
          "2020-12-23",
          "2020-12-24",
          "2020-12-28",
          "2020-12-29",
          "2020-12-30",
          "2020-12-31",
          "2021-01-04",
          "2021-01-05",
          "2021-01-06",
          "2021-01-07",
          "2021-01-08",
          "2021-01-11",
          "2021-01-12",
          "2021-01-13",
          "2021-01-14",
          "2021-01-15",
          "2021-01-18",
          "2021-01-19",
          "2021-01-20",
          "2021-01-21",
          "2021-01-22",
          "2021-01-25",
          "2021-01-26",
          "2021-01-27",
          "2021-01-28",
          "2021-01-29",
          "2021-02-01",
          "2021-02-02",
          "2021-02-03",
          "2021-02-04",
          "2021-02-05",
          "2021-02-08",
          "2021-02-09",
          "2021-02-10",
          "2021-02-11",
          "2021-02-12",
          "2021-02-17",
          "2021-02-18",
          "2021-02-19",
          "2021-02-22",
          "2021-02-23",
          "2021-02-24",
          "2021-02-25",
          "2021-02-26",
          "2021-03-01",
          "2021-03-02",
          "2021-03-03",
          "2021-03-04",
          "2021-03-05",
          "2021-03-08",
          "2021-03-09",
          "2021-03-10",
          "2021-03-11",
          "2021-03-12",
          "2021-03-15",
          "2021-03-16",
          "2021-03-17",
          "2021-03-18",
          "2021-03-19",
          "2021-03-22",
          "2021-03-23",
          "2021-03-24",
          "2021-03-25",
          "2021-03-26",
          "2021-03-29",
          "2021-03-30",
          "2021-03-31",
          "2021-04-01",
          "2021-04-05",
          "2021-04-06",
          "2021-04-07",
          "2021-04-08",
          "2021-04-09",
          "2021-04-12",
          "2021-04-13",
          "2021-04-14",
          "2021-04-15",
          "2021-04-16",
          "2021-04-19",
          "2021-04-20",
          "2021-04-22",
          "2021-04-23",
          "2021-04-26",
          "2021-04-27",
          "2021-04-28",
          "2021-04-29",
          "2021-04-30",
          "2021-05-03",
          "2021-05-04",
          "2021-05-05",
          "2021-05-06",
          "2021-05-07",
          "2021-05-10",
          "2021-05-11",
          "2021-05-12",
          "2021-05-13",
          "2021-05-14",
          "2021-05-17",
          "2021-05-18",
          "2021-05-19",
          "2021-05-20",
          "2021-05-21",
          "2021-05-24",
          "2021-05-25",
          "2021-05-26",
          "2021-05-27",
          "2021-05-28",
          "2021-05-31",
          "2021-06-01",
          "2021-06-02",
          "2021-06-04",
          "2021-06-07",
          "2021-06-08",
          "2021-06-09",
          "2021-06-10",
          "2021-06-11",
          "2021-06-14",
          "2021-06-15",
          "2021-06-16",
          "2021-06-17",
          "2021-06-18",
          "2021-06-21",
          "2021-06-22",
          "2021-06-23",
          "2021-06-24",
          "2021-06-25",
          "2021-06-28",
          "2021-06-29",
          "2021-06-30",
          "2021-07-01",
          "2021-07-02",
          "2021-07-05",
          "2021-07-06",
          "2021-07-07",
          "2021-07-08",
          "2021-07-09",
          "2021-07-12",
          "2021-07-13",
          "2021-07-14",
          "2021-07-15",
          "2021-07-16",
          "2021-07-19",
          "2021-07-20",
          "2021-07-21",
          "2021-07-22",
          "2021-07-23",
          "2021-07-26",
          "2021-07-27",
          "2021-07-28",
          "2021-07-29",
          "2021-07-30",
          "2021-08-02",
          "2021-08-03",
          "2021-08-04",
          "2021-08-05",
          "2021-08-06",
          "2021-08-09",
          "2021-08-10",
          "2021-08-11",
          "2021-08-12",
          "2021-08-13",
          "2021-08-16",
          "2021-08-17",
          "2021-08-18",
          "2021-08-19",
          "2021-08-20",
          "2021-08-23",
          "2021-08-24",
          "2021-08-25",
          "2021-08-26",
          "2021-08-27",
          "2021-08-30",
          "2021-08-31",
          "2021-09-01",
          "2021-09-02",
          "2021-09-03"
         ],
         "y": [
          -1.8291016045628479,
          -1.7434045379809844,
          -1.5982440755036194,
          -1.369899890790639,
          -1.8134673348094006,
          -1.9968923913164298,
          -1.4535928259979607,
          -1.367781237623263,
          -1.5391958211071408,
          -1.8101809683615457,
          -1.7417501070809802,
          -1.9230646905486977,
          -1.7878430836634538,
          -1.8988699167811276,
          -1.7983095575154031,
          -1.6890925777308705,
          -2.1198356259845714,
          -2.040881029955635,
          -1.8303449840278698,
          -1.5417316608055425,
          -1.7769205676721969,
          -1.9331323831577518,
          -1.8594478346310603,
          -1.926612821094441,
          -1.726068801591187,
          -1.3341465960751933,
          -0.9550467412922393,
          -1.021050149571194,
          -0.6210950583009054,
          -0.5559342032120662,
          -0.5755276549462482,
          -0.2512203429368994,
          -0.4065916502643594,
          -0.6463655189082825,
          -0.703505758434923,
          -0.8791167476132504,
          -0.7562021433933148,
          -1.1515354623100642,
          -1.1263917936876084,
          -1.6180604357274173,
          -1.46200404267499,
          -0.5189088985833922,
          0.16528723746150442,
          0.12028017287890455,
          -0.01792309068397288,
          -0.5238312906431113,
          -0.3613248666158731,
          -0.45765609967490967,
          -0.3309479610674427,
          -0.557731786353111,
          -0.5589465353699268,
          -0.5963849364655945,
          -0.423986692582581,
          -0.30515601729629016,
          -0.4366249904342959,
          -0.6511181733107754,
          -0.16006917597145684,
          -0.18552368946016812,
          -0.12260827952362639,
          -0.07051108894557385,
          -0.3136531253179477,
          -0.3146102003008885,
          -0.2551795249176342,
          -0.2933929931469291,
          -0.5846484977324374,
          -0.46454376750088855,
          -0.7671553348647987,
          -0.9096531656588407,
          -0.8664477742813177,
          -0.5901107782440717,
          -0.2971824374704285,
          -0.10071007670871376,
          0.0805738312787767,
          0.03633160866972849,
          -0.19176921723349377,
          -0.14665376595411223,
          -0.0539299693692524,
          -0.05778689974924,
          -0.042483925182199546,
          0.08889711157917579,
          0.314519358680409,
          0.3099773425754451,
          0.2577492699484572,
          -0.03370869280651579,
          -1.5629836335037517,
          -1.6010478143959717,
          -0.5797547361209245,
          -0.4807506462184983,
          -0.25625316672542076,
          -0.056874815470624715,
          -0.024144078073115204,
          0.29253730955289803,
          0.4172760823300642,
          0.5148977305904598,
          0.8595633363075424,
          0.8405690789537087,
          0.7186135947487344,
          0.7221167345901525,
          0.452818738747981,
          0.11750915449879976,
          0.5616573876097699,
          0.2708538350995463,
          0.47435497089626,
          0.89499965106068,
          1.196234911878603,
          1.1014763084389838,
          1.3012248104884685,
          1.3188243560081845,
          1.3909710404597175,
          1.1085050834739918,
          1.3971327219204268,
          1.413298699997734,
          1.1064211958508747,
          1.1755330527923846,
          1.2131575518014068,
          1.3256956635780441,
          0.886418696726415,
          0.610308699242817,
          0.25004767938056915,
          0.2339103317514682,
          0.6153415230313384,
          0.5513626964470676,
          0.40934749320852803,
          0.16997649587153194,
          0.31714722481948227,
          -0.8305042915884944,
          -0.6011519060921859,
          -0.5181276963537214,
          0.5101062205796942,
          0.048409567749377075,
          -0.08246430107231248,
          0.10204257737056742,
          0.3262639775416302,
          -0.8249458945721565,
          -0.6500711169191745,
          -0.5037449861933512,
          -0.7382692576551896,
          -1.301820775016613,
          -0.8949371152800523,
          -1.0735338512000454,
          -1.1317906782067864,
          -0.7285389953285766,
          -0.476523565043822,
          -0.29172015695878517,
          0.11913290991857707,
          0.4559210523144926,
          0.7362601760047874,
          1.1358389813843437,
          1.0970733545110376,
          1.1545776097363232,
          1.359698410888782,
          0.9045479055379705,
          1.192208243841389,
          1.1094028525285085,
          0.761915102630952,
          0.6147545988430773,
          0.4890362557307985,
          0.7445180152807098,
          0.5692444563848328,
          0.3772588958636808,
          0.6330515002798476,
          0.6315749871651339,
          0.423936751602404,
          0.7108956439247271,
          0.37608709251917904,
          0.26011741702163493,
          -0.21429933494098397,
          0.3897724467624858,
          -0.15440648232236936,
          -0.3604864034897896,
          -1.4201442823632364,
          -0.8847262704299573,
          -0.11932804817181523,
          -0.053762276744037524,
          -0.18791637691752916,
          -0.5699631228338669,
          -0.07316758553285341,
          -0.2725807023318993,
          0.0711462336903641,
          0.17974561380641785,
          0.19209760717605148,
          0.10778093720420728,
          0.33189599571049994,
          0.42587135188843683,
          0.23624166824838455,
          0.09365999114173512,
          0.11147631005502356,
          0.21144565506845475,
          0.11584654347073144,
          0.14278779523423202,
          0.3435444980670266,
          0.24547907785941953,
          0.4448226635699566,
          0.5051960987120622,
          0.4693057868516194,
          0.9418288391684989,
          0.9558966143985814,
          0.9699132638282949,
          1.1132393325883447,
          0.9425282401175739,
          1.3470764732931955,
          1.3088405097117377,
          1.442618323994497,
          1.4544488342003463,
          1.3177486691683773,
          1.2268633563648648,
          1.6964988234767846,
          1.719075976920621,
          1.709713820356685,
          2.2107752944406567,
          2.11717213408942,
          2.1231129520925247,
          1.9947769680012573,
          2.095519335116295,
          2.031066061104586,
          2.030423921051924,
          2.1546105351850877,
          1.6882062186566125,
          1.7745761007713559,
          1.7237570552025934,
          1.8743000419430083,
          2.0620871517376904,
          1.4759973365407124,
          1.0064518508374436,
          0.9451254307764202,
          1.1965846123531405,
          0.5619886827961768,
          0.7080530494241021,
          0.4924023784272195,
          0.22329457056243468,
          0.2908092575003529,
          0.03719665721200678,
          0.10329004689961245,
          -0.039682231321867864,
          -0.07643759172457985,
          0.07278634936626059,
          -0.001865499303447316,
          -0.550120177193874,
          -1.0405556649287364,
          -1.32470059319865,
          -0.994607885619315,
          -0.7940986316603107,
          -0.9803601475719306,
          -0.42343453393857877,
          -0.15332466038651862,
          -0.5854194748020235,
          -0.4185469074231095,
          -0.43033447195664476,
          -0.5620652091925575,
          -0.4860104685606587,
          -0.7147984252208688,
          -0.36693438943258
         ]
        },
        {
         "line": {
          "color": "rgba(55, 128, 191, 1.0)",
          "dash": "solid",
          "shape": "linear",
          "width": 1.3
         },
         "mode": "lines",
         "name": "22232929000189",
         "text": "",
         "type": "scatter",
         "x": [
          "2020-09-03",
          "2020-09-04",
          "2020-09-08",
          "2020-09-09",
          "2020-09-10",
          "2020-09-11",
          "2020-09-14",
          "2020-09-15",
          "2020-09-16",
          "2020-09-17",
          "2020-09-18",
          "2020-09-21",
          "2020-09-22",
          "2020-09-23",
          "2020-09-24",
          "2020-09-25",
          "2020-09-28",
          "2020-09-29",
          "2020-09-30",
          "2020-10-01",
          "2020-10-02",
          "2020-10-05",
          "2020-10-06",
          "2020-10-07",
          "2020-10-08",
          "2020-10-09",
          "2020-10-13",
          "2020-10-14",
          "2020-10-15",
          "2020-10-16",
          "2020-10-19",
          "2020-10-20",
          "2020-10-21",
          "2020-10-22",
          "2020-10-23",
          "2020-10-26",
          "2020-10-27",
          "2020-10-28",
          "2020-10-29",
          "2020-10-30",
          "2020-11-03",
          "2020-11-04",
          "2020-11-05",
          "2020-11-06",
          "2020-11-09",
          "2020-11-10",
          "2020-11-11",
          "2020-11-12",
          "2020-11-13",
          "2020-11-16",
          "2020-11-17",
          "2020-11-18",
          "2020-11-19",
          "2020-11-20",
          "2020-11-23",
          "2020-11-24",
          "2020-11-25",
          "2020-11-26",
          "2020-11-27",
          "2020-11-30",
          "2020-12-01",
          "2020-12-02",
          "2020-12-03",
          "2020-12-04",
          "2020-12-07",
          "2020-12-08",
          "2020-12-09",
          "2020-12-10",
          "2020-12-11",
          "2020-12-14",
          "2020-12-15",
          "2020-12-16",
          "2020-12-17",
          "2020-12-18",
          "2020-12-21",
          "2020-12-22",
          "2020-12-23",
          "2020-12-24",
          "2020-12-28",
          "2020-12-29",
          "2020-12-30",
          "2020-12-31",
          "2021-01-04",
          "2021-01-05",
          "2021-01-06",
          "2021-01-07",
          "2021-01-08",
          "2021-01-11",
          "2021-01-12",
          "2021-01-13",
          "2021-01-14",
          "2021-01-15",
          "2021-01-18",
          "2021-01-19",
          "2021-01-20",
          "2021-01-21",
          "2021-01-22",
          "2021-01-25",
          "2021-01-26",
          "2021-01-27",
          "2021-01-28",
          "2021-01-29",
          "2021-02-01",
          "2021-02-02",
          "2021-02-03",
          "2021-02-04",
          "2021-02-05",
          "2021-02-08",
          "2021-02-09",
          "2021-02-10",
          "2021-02-11",
          "2021-02-12",
          "2021-02-17",
          "2021-02-18",
          "2021-02-19",
          "2021-02-22",
          "2021-02-23",
          "2021-02-24",
          "2021-02-25",
          "2021-02-26",
          "2021-03-01",
          "2021-03-02",
          "2021-03-03",
          "2021-03-04",
          "2021-03-05",
          "2021-03-08",
          "2021-03-09",
          "2021-03-10",
          "2021-03-11",
          "2021-03-12",
          "2021-03-15",
          "2021-03-16",
          "2021-03-17",
          "2021-03-18",
          "2021-03-19",
          "2021-03-22",
          "2021-03-23",
          "2021-03-24",
          "2021-03-25",
          "2021-03-26",
          "2021-03-29",
          "2021-03-30",
          "2021-03-31",
          "2021-04-01",
          "2021-04-05",
          "2021-04-06",
          "2021-04-07",
          "2021-04-08",
          "2021-04-09",
          "2021-04-12",
          "2021-04-13",
          "2021-04-14",
          "2021-04-15",
          "2021-04-16",
          "2021-04-19",
          "2021-04-20",
          "2021-04-22",
          "2021-04-23",
          "2021-04-26",
          "2021-04-27",
          "2021-04-28",
          "2021-04-29",
          "2021-04-30",
          "2021-05-03",
          "2021-05-04",
          "2021-05-05",
          "2021-05-06",
          "2021-05-07",
          "2021-05-10",
          "2021-05-11",
          "2021-05-12",
          "2021-05-13",
          "2021-05-14",
          "2021-05-17",
          "2021-05-18",
          "2021-05-19",
          "2021-05-20",
          "2021-05-21",
          "2021-05-24",
          "2021-05-25",
          "2021-05-26",
          "2021-05-27",
          "2021-05-28",
          "2021-05-31",
          "2021-06-01",
          "2021-06-02",
          "2021-06-04",
          "2021-06-07",
          "2021-06-08",
          "2021-06-09",
          "2021-06-10",
          "2021-06-11",
          "2021-06-14",
          "2021-06-15",
          "2021-06-16",
          "2021-06-17",
          "2021-06-18",
          "2021-06-21",
          "2021-06-22",
          "2021-06-23",
          "2021-06-24",
          "2021-06-25",
          "2021-06-28",
          "2021-06-29",
          "2021-06-30",
          "2021-07-01",
          "2021-07-02",
          "2021-07-05",
          "2021-07-06",
          "2021-07-07",
          "2021-07-08",
          "2021-07-09",
          "2021-07-12",
          "2021-07-13",
          "2021-07-14",
          "2021-07-15",
          "2021-07-16",
          "2021-07-19",
          "2021-07-20",
          "2021-07-21",
          "2021-07-22",
          "2021-07-23",
          "2021-07-26",
          "2021-07-27",
          "2021-07-28",
          "2021-07-29",
          "2021-07-30",
          "2021-08-02",
          "2021-08-03",
          "2021-08-04",
          "2021-08-05",
          "2021-08-06",
          "2021-08-09",
          "2021-08-10",
          "2021-08-11",
          "2021-08-12",
          "2021-08-13",
          "2021-08-16",
          "2021-08-17",
          "2021-08-18",
          "2021-08-19",
          "2021-08-20",
          "2021-08-23",
          "2021-08-24",
          "2021-08-25",
          "2021-08-26",
          "2021-08-27",
          "2021-08-30",
          "2021-08-31",
          "2021-09-01",
          "2021-09-02",
          "2021-09-03"
         ],
         "y": [
          -1.0946895771987395,
          -1.0829540540791527,
          -1.1011615394282082,
          -1.1441435151577644,
          -0.8735340287071477,
          -0.8992996797367726,
          -1.0114185051288163,
          -1.0048741293359391,
          -1.0511192412665127,
          -1.0601256782152062,
          -1.0427192679113422,
          -1.0608452880015677,
          -1.1153545978559158,
          -1.1101589246814807,
          -1.0821122464045514,
          -1.113354173166805,
          -0.9723830686049251,
          -0.9326053930561145,
          -1.026693241159909,
          -1.3254535003848524,
          -1.3608456294998503,
          -1.5454504318619346,
          -1.4938240870007187,
          -1.4829303715557332,
          -1.5253556680165972,
          -1.3635430347367448,
          -1.1676869749603467,
          -1.1111003010057738,
          -1.1343405290115949,
          -1.1086337140022322,
          -1.1575626536265538,
          -1.2303880691750702,
          -1.1449355385075246,
          -1.075210328642356,
          -1.1015055038543895,
          -1.0905710557799941,
          -1.025312857607468,
          -0.8361188456644814,
          -0.9989905273091512,
          -0.9177651384054641,
          -0.8604814839031074,
          -1.1075972948759725,
          -1.1646365536018397,
          -1.2708310443376758,
          -1.2756918047813506,
          -1.1974172685864886,
          -1.2445222915825056,
          -1.1444467469545256,
          -1.2220786127741605,
          -1.3621717028797349,
          -1.3377547544685522,
          -1.2422322126397702,
          -1.198087094047999,
          -1.19406361543122,
          -1.174063894387849,
          -1.0987718918357907,
          -1.0722142174564055,
          -1.0211219226253037,
          -1.148488328962167,
          -0.9356060300897805,
          -1.002937066514816,
          -1.0224660993960404,
          -1.0896613603896896,
          -1.0581795636986522,
          -1.0923994982560041,
          -1.0553961673552121,
          -1.0016788808506245,
          -0.993328691820295,
          -0.9470518989557426,
          -1.0084133422474448,
          -0.9433452296788616,
          -0.9195392707089275,
          -0.9225082268086048,
          -0.9370090428807792,
          -0.9131985580631398,
          -0.9222819344229575,
          -0.880884005392922,
          -0.8791777608051518,
          -0.8488681586717602,
          -1.2265003659896774,
          -0.8096200073053684,
          -0.808162684341803,
          -0.7727388742928163,
          -0.6924458100179913,
          -0.6249201621413075,
          -0.6064592293203215,
          -0.5884146744889356,
          -0.6164341976795915,
          -0.6915768472571169,
          -0.6473819443405049,
          -0.6426886402622052,
          -0.5905644521525693,
          -0.598018523335741,
          -0.5490126443002952,
          -0.6412086880600821,
          -0.6511791305716367,
          -0.6296587246967226,
          -0.6283417030122691,
          -0.5970907245545944,
          -0.5873918329058125,
          -0.6600135853072495,
          -0.6360311182765093,
          -0.6598189738555911,
          -0.6234899942640254,
          -0.6344515974247043,
          -0.594402371013121,
          -0.45072028367120986,
          -0.425511311910267,
          -0.39745558193790664,
          -0.38559333508236454,
          -0.3493639241404708,
          -0.3280064487832263,
          -0.2818156470252192,
          -0.22629254728317935,
          -0.2219160525447878,
          -0.21443935212305834,
          -0.21627232044678382,
          -0.028354597558840802,
          -0.03416578602221992,
          -0.11054851787309442,
          -0.07692599521384433,
          -0.09416947500004885,
          -0.0623980240553865,
          -0.07143614193807886,
          -0.04612760152745402,
          0.08184979425063767,
          0.11684364876689772,
          0.10555165872317421,
          0.019832103040561433,
          -0.005014800903337833,
          -0.015876835414334628,
          -0.003027953757363778,
          -0.061832293091273444,
          -0.01844751691527392,
          0.023968727850169118,
          0.03925704142439844,
          0.033364387702179484,
          0.06710005655424817,
          0.06331644786625297,
          0.12482724413247821,
          0.18019193920457408,
          0.12162746979944826,
          0.1324849784627295,
          0.14816704078798118,
          0.143876537156135,
          0.10430705060211945,
          0.14772350771211784,
          0.19065117326911737,
          0.18196607150802746,
          0.23698680215394194,
          0.3350347670065279,
          0.3397144935416809,
          0.2910933115618364,
          0.3135596196087493,
          0.3077574828407912,
          0.3328171016272011,
          0.361999767680082,
          0.3363789437772646,
          0.34629055026854705,
          0.36799651589968846,
          0.37189327078051226,
          0.4044476933795038,
          0.4109106039135514,
          0.3974462069676265,
          0.3377231205480013,
          0.3731424047492725,
          0.3587773641084843,
          0.36649393445899764,
          0.44946177473215937,
          0.484310802121602,
          0.5325065544164354,
          0.5626305967935995,
          0.5334705599792863,
          0.541621611710252,
          0.5675547191052519,
          0.6368907060671036,
          0.6659511742317348,
          0.663027476609193,
          0.7147895969018055,
          0.7443795892488354,
          0.740777014469362,
          0.7439224786298354,
          0.7991876050522393,
          0.8202690036989955,
          0.8554257887329252,
          0.9358319992005687,
          0.9351350186527848,
          0.9559131855027696,
          0.9695450388140696,
          0.9673318992824583,
          1.0272179162197532,
          0.9768633345658551,
          1.0253261118757455,
          0.9995016248258587,
          1.0096802563322083,
          1.027684078534174,
          1.0585956184133931,
          1.128316302430846,
          1.2035042104854967,
          1.1199615875528008,
          1.058844540037598,
          1.0966353684404346,
          1.0664886968247127,
          1.0058649667102142,
          1.061238713477731,
          1.0490370280437131,
          0.9964421517719306,
          0.9649015190606209,
          0.9657433267352222,
          0.9690336180225131,
          1.0421667912155066,
          1.0503631014235977,
          1.0313816961156341,
          1.0753503066465988,
          0.97802647742808,
          0.9494050164915966,
          0.9857339960831722,
          1.0230224553898735,
          1.0633115517302505,
          1.13312727854967,
          1.1444871563090866,
          1.154140789480733,
          1.268671891703762,
          1.2996467934509586,
          1.2993209324156194,
          1.2502245364259226,
          1.26491543810204,
          1.3491957742119498,
          1.3856605292349018,
          1.2922560841357644,
          1.3919378800127118,
          1.315260968060507,
          1.3089700397395603,
          1.3627371105689887,
          1.4065382647345785,
          1.4733895613020462,
          1.587146743566167,
          1.7366400193714573,
          1.7672935859310301,
          1.8380687924655952,
          1.9825836357866864,
          2.064619151430986,
          2.1472520789733873,
          2.0333229144961757,
          2.103668165498014,
          2.105487556278603,
          2.0082542440143447,
          2.0734400286234522,
          2.2406565240725245,
          2.1789918489840607,
          2.1695961891320503,
          2.2369543806433594
         ]
        },
        {
         "line": {
          "color": "rgba(50, 171, 96, 1.0)",
          "dash": "solid",
          "shape": "linear",
          "width": 1.3
         },
         "mode": "lines",
         "name": "20584638000124",
         "text": "",
         "type": "scatter",
         "x": [
          "2020-09-03",
          "2020-09-04",
          "2020-09-08",
          "2020-09-09",
          "2020-09-10",
          "2020-09-11",
          "2020-09-14",
          "2020-09-15",
          "2020-09-16",
          "2020-09-17",
          "2020-09-18",
          "2020-09-21",
          "2020-09-22",
          "2020-09-23",
          "2020-09-24",
          "2020-09-25",
          "2020-09-28",
          "2020-09-29",
          "2020-09-30",
          "2020-10-01",
          "2020-10-02",
          "2020-10-05",
          "2020-10-06",
          "2020-10-07",
          "2020-10-08",
          "2020-10-09",
          "2020-10-13",
          "2020-10-14",
          "2020-10-15",
          "2020-10-16",
          "2020-10-19",
          "2020-10-20",
          "2020-10-21",
          "2020-10-22",
          "2020-10-23",
          "2020-10-26",
          "2020-10-27",
          "2020-10-28",
          "2020-10-29",
          "2020-10-30",
          "2020-11-03",
          "2020-11-04",
          "2020-11-05",
          "2020-11-06",
          "2020-11-09",
          "2020-11-10",
          "2020-11-11",
          "2020-11-12",
          "2020-11-13",
          "2020-11-16",
          "2020-11-17",
          "2020-11-18",
          "2020-11-19",
          "2020-11-20",
          "2020-11-23",
          "2020-11-24",
          "2020-11-25",
          "2020-11-26",
          "2020-11-27",
          "2020-11-30",
          "2020-12-01",
          "2020-12-02",
          "2020-12-03",
          "2020-12-04",
          "2020-12-07",
          "2020-12-08",
          "2020-12-09",
          "2020-12-10",
          "2020-12-11",
          "2020-12-14",
          "2020-12-15",
          "2020-12-16",
          "2020-12-17",
          "2020-12-18",
          "2020-12-21",
          "2020-12-22",
          "2020-12-23",
          "2020-12-24",
          "2020-12-28",
          "2020-12-29",
          "2020-12-30",
          "2020-12-31",
          "2021-01-04",
          "2021-01-05",
          "2021-01-06",
          "2021-01-07",
          "2021-01-08",
          "2021-01-11",
          "2021-01-12",
          "2021-01-13",
          "2021-01-14",
          "2021-01-15",
          "2021-01-18",
          "2021-01-19",
          "2021-01-20",
          "2021-01-21",
          "2021-01-22",
          "2021-01-25",
          "2021-01-26",
          "2021-01-27",
          "2021-01-28",
          "2021-01-29",
          "2021-02-01",
          "2021-02-02",
          "2021-02-03",
          "2021-02-04",
          "2021-02-05",
          "2021-02-08",
          "2021-02-09",
          "2021-02-10",
          "2021-02-11",
          "2021-02-12",
          "2021-02-17",
          "2021-02-18",
          "2021-02-19",
          "2021-02-22",
          "2021-02-23",
          "2021-02-24",
          "2021-02-25",
          "2021-02-26",
          "2021-03-01",
          "2021-03-02",
          "2021-03-03",
          "2021-03-04",
          "2021-03-05",
          "2021-03-08",
          "2021-03-09",
          "2021-03-10",
          "2021-03-11",
          "2021-03-12",
          "2021-03-15",
          "2021-03-16",
          "2021-03-17",
          "2021-03-18",
          "2021-03-19",
          "2021-03-22",
          "2021-03-23",
          "2021-03-24",
          "2021-03-25",
          "2021-03-26",
          "2021-03-29",
          "2021-03-30",
          "2021-03-31",
          "2021-04-01",
          "2021-04-05",
          "2021-04-06",
          "2021-04-07",
          "2021-04-08",
          "2021-04-09",
          "2021-04-12",
          "2021-04-13",
          "2021-04-14",
          "2021-04-15",
          "2021-04-16",
          "2021-04-19",
          "2021-04-20",
          "2021-04-22",
          "2021-04-23",
          "2021-04-26",
          "2021-04-27",
          "2021-04-28",
          "2021-04-29",
          "2021-04-30",
          "2021-05-03",
          "2021-05-04",
          "2021-05-05",
          "2021-05-06",
          "2021-05-07",
          "2021-05-10",
          "2021-05-11",
          "2021-05-12",
          "2021-05-13",
          "2021-05-14",
          "2021-05-17",
          "2021-05-18",
          "2021-05-19",
          "2021-05-20",
          "2021-05-21",
          "2021-05-24",
          "2021-05-25",
          "2021-05-26",
          "2021-05-27",
          "2021-05-28",
          "2021-05-31",
          "2021-06-01",
          "2021-06-02",
          "2021-06-04",
          "2021-06-07",
          "2021-06-08",
          "2021-06-09",
          "2021-06-10",
          "2021-06-11",
          "2021-06-14",
          "2021-06-15",
          "2021-06-16",
          "2021-06-17",
          "2021-06-18",
          "2021-06-21",
          "2021-06-22",
          "2021-06-23",
          "2021-06-24",
          "2021-06-25",
          "2021-06-28",
          "2021-06-29",
          "2021-06-30",
          "2021-07-01",
          "2021-07-02",
          "2021-07-05",
          "2021-07-06",
          "2021-07-07",
          "2021-07-08",
          "2021-07-09",
          "2021-07-12",
          "2021-07-13",
          "2021-07-14",
          "2021-07-15",
          "2021-07-16",
          "2021-07-19",
          "2021-07-20",
          "2021-07-21",
          "2021-07-22",
          "2021-07-23",
          "2021-07-26",
          "2021-07-27",
          "2021-07-28",
          "2021-07-29",
          "2021-07-30",
          "2021-08-02",
          "2021-08-03",
          "2021-08-04",
          "2021-08-05",
          "2021-08-06",
          "2021-08-09",
          "2021-08-10",
          "2021-08-11",
          "2021-08-12",
          "2021-08-13",
          "2021-08-16",
          "2021-08-17",
          "2021-08-18",
          "2021-08-19",
          "2021-08-20",
          "2021-08-23",
          "2021-08-24",
          "2021-08-25",
          "2021-08-26",
          "2021-08-27",
          "2021-08-30",
          "2021-08-31",
          "2021-09-01",
          "2021-09-02",
          "2021-09-03"
         ],
         "y": [
          -1.5682831160445976,
          -1.5510818111905567,
          -1.5362063734055214,
          -1.5343327752047589,
          -1.5780072906368792,
          -1.5633183195957756,
          -1.5111598128431938,
          -1.5923220978495656,
          -1.5938697961072514,
          -1.5841666668138035,
          -1.5851605445419865,
          -1.639862580715871,
          -1.562776473301703,
          -1.5389170618581258,
          -1.5195658016522036,
          -1.4727307032406245,
          -1.4897183713303157,
          -1.4812275753632183,
          -1.4748626082015792,
          -1.4984963546830778,
          -1.4068466900201944,
          -1.41067973505228,
          -1.3683871348853012,
          -1.3715809748331564,
          -1.3626698233048145,
          -1.34608498921603,
          -1.343447975498054,
          -1.295154524216708,
          -1.2673499070906928,
          -1.243055057621702,
          -1.2438911549671472,
          -1.2481776938118074,
          -1.260766408783661,
          -1.219112657549713,
          -1.1488870531413506,
          -1.10610400577554,
          -1.0813988539226722,
          -1.1093008082539184,
          -1.0664650559050879,
          -1.0698807780574544,
          -1.0170230925151784,
          -1.0313170109197038,
          -1.0293456923813376,
          -0.9982600268268411,
          -0.9799656831134633,
          -0.9412341525665977,
          -0.9424118852631659,
          -0.9065901694695278,
          -0.9466239345424007,
          -0.9561908359976061,
          -0.9602782269567167,
          -0.9606656817007884,
          -0.9767260507538332,
          -0.9741936591522241,
          -0.9926912195089156,
          -0.949103275802248,
          -0.9708393299139325,
          -0.9665393598516367,
          -0.9349094736616543,
          -0.9355441351198306,
          -0.9604827872614283,
          -0.9017402102013726,
          -0.8460222203204311,
          -1.3965932693319865,
          -1.1611937934861625,
          -1.1866665861047172,
          -1.030942669015687,
          -0.9633578071205696,
          -0.8811879595455424,
          -0.8523129353508019,
          -0.8687284303311629,
          -0.8629882171485479,
          -0.7998509014266707,
          -0.7771970024741285,
          -0.7622428498752065,
          -0.6922412591824136,
          -0.6301991084346477,
          -0.5894178575168991,
          -0.6172411887701879,
          -0.5813940675234842,
          -0.5927628458802459,
          -0.5520369333059902,
          -0.5744290719108229,
          -0.5885762883937713,
          -0.5808332157056947,
          -0.5237321233889108,
          -0.48654118966041676,
          -0.49784876936740724,
          -0.5070661245976129,
          -0.49559699793899686,
          -0.4442524963643065,
          -0.4269217035638664,
          -0.3571140048281343,
          -0.33735213465318725,
          -0.29831332115836634,
          -0.3108586990033062,
          -0.281401669767321,
          -0.2681075217746529,
          -0.24647963510275764,
          -0.2221629470890504,
          -0.1865581165905063,
          -0.15309829849673698,
          -0.15801594807992891,
          -0.10884173485353073,
          -0.1013874846089606,
          -0.14585047025638334,
          -0.10600258373832025,
          -0.16541786028514788,
          -0.18221666030834457,
          -0.12841672277478935,
          -0.11405411575259547,
          -0.11140802557495658,
          -0.15406948507578752,
          -0.1399335682994653,
          -0.10005008284897589,
          -0.08072495658722167,
          -0.07590042435704653,
          -0.11217253113073111,
          -0.11650452242464691,
          -0.11810974449915781,
          -0.14394937286514015,
          -0.13975355005093365,
          -0.1737712628282042,
          -0.06483646826713184,
          -0.043235962068650824,
          -0.0901760009742019,
          -0.0663713882510596,
          -0.039372244862565846,
          -0.06354079555738064,
          0.014779980181071371,
          0.004086788294379496,
          0.0161297770824411,
          0.009993464394552797,
          0.1028235328881085,
          0.1799433937238778,
          0.13167071792984894,
          0.11838364979155593,
          0.08160615905308607,
          0.12634803807994874,
          0.16512897111677943,
          0.2390436329395587,
          0.20617408151587505,
          0.1303969593120394,
          0.10748461329731204,
          0.12107965510105641,
          0.15577792427666473,
          0.1736682036485819,
          0.13876102480651184,
          0.14283909107936962,
          0.13850986265545057,
          0.13606432877951524,
          0.14551354924059712,
          0.18280677931012057,
          0.18545245397801485,
          0.20992448327830307,
          0.24013403304218764,
          0.24722213825681402,
          0.24650167133791864,
          0.2505375390884876,
          0.2926165402647228,
          0.30103856127445705,
          0.3249813714599681,
          0.3635720927689186,
          0.4239250345111181,
          0.439045315461326,
          0.44692982335004583,
          0.4089681514195834,
          0.38329893601188136,
          0.4044652722991095,
          0.37735825826349234,
          0.4301803070997478,
          0.43779076202775985,
          0.4848197092265585,
          0.5000314886606213,
          0.47312887843903073,
          0.5117212348058228,
          0.5585671148858721,
          0.5526822935190949,
          0.5371869097963837,
          0.5402122524477619,
          0.5821407797373098,
          0.5963638294470696,
          0.5696366236969417,
          0.5911613884045285,
          0.6264721837009184,
          0.6377388977545608,
          0.6855474329732907,
          0.6839860121015261,
          0.6909876157417025,
          0.7107723659338512,
          0.7461954352014252,
          0.7857292233324522,
          0.8162807538062263,
          0.862313627011028,
          0.8653628371897821,
          0.9303434728632527,
          0.9541070472536699,
          0.939243119628232,
          0.9543122227286402,
          0.9753466427657694,
          1.0054477444858783,
          1.0495513249952253,
          1.0267140081689692,
          1.0592304140819202,
          1.0819146020761012,
          1.0956789883844915,
          1.0745054103559686,
          1.0732025120936144,
          1.0906823595721187,
          1.1253405401515575,
          1.1458853979716423,
          1.1685280835572656,
          1.1732334400374809,
          1.1950271690604535,
          1.203096373729517,
          1.2043593075090029,
          1.2146291381340737,
          1.190996033803995,
          1.1992084490335368,
          1.1853903864206443,
          1.2151841944003408,
          1.282012963462975,
          1.2859696091540076,
          1.3501065118159326,
          1.3716813643347459,
          1.3720598397513066,
          1.4623479653153126,
          1.504904052623735,
          1.500728427900181,
          1.512091853196326,
          1.5335476486822583,
          1.5271618520709915,
          1.5457442681518465,
          1.5544543885102071,
          1.6069648643952783,
          1.6538339806437405,
          1.6990402484725045,
          1.7538952839689406,
          1.7917868912429649,
          1.8360424781684541,
          1.8643915209867041,
          1.8837171814752818,
          1.9283115491459801,
          1.9392433839290348,
          1.8934112019316829,
          1.9142924877405023,
          1.8647153865508992,
          1.8708172820808393,
          1.9238662208234805,
          1.9332267272556187,
          1.9199858886237717,
          1.9503819914712826
         ]
        },
        {
         "line": {
          "color": "rgba(128, 0, 128, 1.0)",
          "dash": "solid",
          "shape": "linear",
          "width": 1.3
         },
         "mode": "lines",
         "name": "22003346000186",
         "text": "",
         "type": "scatter",
         "x": [
          "2020-09-03",
          "2020-09-04",
          "2020-09-08",
          "2020-09-09",
          "2020-09-10",
          "2020-09-11",
          "2020-09-14",
          "2020-09-15",
          "2020-09-16",
          "2020-09-17",
          "2020-09-18",
          "2020-09-21",
          "2020-09-22",
          "2020-09-23",
          "2020-09-24",
          "2020-09-25",
          "2020-09-28",
          "2020-09-29",
          "2020-09-30",
          "2020-10-01",
          "2020-10-02",
          "2020-10-05",
          "2020-10-06",
          "2020-10-07",
          "2020-10-08",
          "2020-10-09",
          "2020-10-13",
          "2020-10-14",
          "2020-10-15",
          "2020-10-16",
          "2020-10-19",
          "2020-10-20",
          "2020-10-21",
          "2020-10-22",
          "2020-10-23",
          "2020-10-26",
          "2020-10-27",
          "2020-10-28",
          "2020-10-29",
          "2020-10-30",
          "2020-11-03",
          "2020-11-04",
          "2020-11-05",
          "2020-11-06",
          "2020-11-09",
          "2020-11-10",
          "2020-11-11",
          "2020-11-12",
          "2020-11-13",
          "2020-11-16",
          "2020-11-17",
          "2020-11-18",
          "2020-11-19",
          "2020-11-20",
          "2020-11-23",
          "2020-11-24",
          "2020-11-25",
          "2020-11-26",
          "2020-11-27",
          "2020-11-30",
          "2020-12-01",
          "2020-12-02",
          "2020-12-03",
          "2020-12-04",
          "2020-12-07",
          "2020-12-08",
          "2020-12-09",
          "2020-12-10",
          "2020-12-11",
          "2020-12-14",
          "2020-12-15",
          "2020-12-16",
          "2020-12-17",
          "2020-12-18",
          "2020-12-21",
          "2020-12-22",
          "2020-12-23",
          "2020-12-24",
          "2020-12-28",
          "2020-12-29",
          "2020-12-30",
          "2020-12-31",
          "2021-01-04",
          "2021-01-05",
          "2021-01-06",
          "2021-01-07",
          "2021-01-08",
          "2021-01-11",
          "2021-01-12",
          "2021-01-13",
          "2021-01-14",
          "2021-01-15",
          "2021-01-18",
          "2021-01-19",
          "2021-01-20",
          "2021-01-21",
          "2021-01-22",
          "2021-01-25",
          "2021-01-26",
          "2021-01-27",
          "2021-01-28",
          "2021-01-29",
          "2021-02-01",
          "2021-02-02",
          "2021-02-03",
          "2021-02-04",
          "2021-02-05",
          "2021-02-08",
          "2021-02-09",
          "2021-02-10",
          "2021-02-11",
          "2021-02-12",
          "2021-02-17",
          "2021-02-18",
          "2021-02-19",
          "2021-02-22",
          "2021-02-23",
          "2021-02-24",
          "2021-02-25",
          "2021-02-26",
          "2021-03-01",
          "2021-03-02",
          "2021-03-03",
          "2021-03-04",
          "2021-03-05",
          "2021-03-08",
          "2021-03-09",
          "2021-03-10",
          "2021-03-11",
          "2021-03-12",
          "2021-03-15",
          "2021-03-16",
          "2021-03-17",
          "2021-03-18",
          "2021-03-19",
          "2021-03-22",
          "2021-03-23",
          "2021-03-24",
          "2021-03-25",
          "2021-03-26",
          "2021-03-29",
          "2021-03-30",
          "2021-03-31",
          "2021-04-01",
          "2021-04-05",
          "2021-04-06",
          "2021-04-07",
          "2021-04-08",
          "2021-04-09",
          "2021-04-12",
          "2021-04-13",
          "2021-04-14",
          "2021-04-15",
          "2021-04-16",
          "2021-04-19",
          "2021-04-20",
          "2021-04-22",
          "2021-04-23",
          "2021-04-26",
          "2021-04-27",
          "2021-04-28",
          "2021-04-29",
          "2021-04-30",
          "2021-05-03",
          "2021-05-04",
          "2021-05-05",
          "2021-05-06",
          "2021-05-07",
          "2021-05-10",
          "2021-05-11",
          "2021-05-12",
          "2021-05-13",
          "2021-05-14",
          "2021-05-17",
          "2021-05-18",
          "2021-05-19",
          "2021-05-20",
          "2021-05-21",
          "2021-05-24",
          "2021-05-25",
          "2021-05-26",
          "2021-05-27",
          "2021-05-28",
          "2021-05-31",
          "2021-06-01",
          "2021-06-02",
          "2021-06-04",
          "2021-06-07",
          "2021-06-08",
          "2021-06-09",
          "2021-06-10",
          "2021-06-11",
          "2021-06-14",
          "2021-06-15",
          "2021-06-16",
          "2021-06-17",
          "2021-06-18",
          "2021-06-21",
          "2021-06-22",
          "2021-06-23",
          "2021-06-24",
          "2021-06-25",
          "2021-06-28",
          "2021-06-29",
          "2021-06-30",
          "2021-07-01",
          "2021-07-02",
          "2021-07-05",
          "2021-07-06",
          "2021-07-07",
          "2021-07-08",
          "2021-07-09",
          "2021-07-12",
          "2021-07-13",
          "2021-07-14",
          "2021-07-15",
          "2021-07-16",
          "2021-07-19",
          "2021-07-20",
          "2021-07-21",
          "2021-07-22",
          "2021-07-23",
          "2021-07-26",
          "2021-07-27",
          "2021-07-28",
          "2021-07-29",
          "2021-07-30",
          "2021-08-02",
          "2021-08-03",
          "2021-08-04",
          "2021-08-05",
          "2021-08-06",
          "2021-08-09",
          "2021-08-10",
          "2021-08-11",
          "2021-08-12",
          "2021-08-13",
          "2021-08-16",
          "2021-08-17",
          "2021-08-18",
          "2021-08-19",
          "2021-08-20",
          "2021-08-23",
          "2021-08-24",
          "2021-08-25",
          "2021-08-26",
          "2021-08-27",
          "2021-08-30",
          "2021-08-31",
          "2021-09-01",
          "2021-09-02",
          "2021-09-03"
         ],
         "y": [
          -1.6421410460673729,
          -1.6299219228242625,
          -1.2745899767142876,
          -1.155143473286402,
          -1.224334708626307,
          -1.2254994678619648,
          -1.2393459007907852,
          -1.2505260114557835,
          -1.2428293297665103,
          -1.2337390792372853,
          -1.2221546067715998,
          -1.188367219578889,
          -1.1909492176135517,
          -1.1850899164966942,
          -1.1795777747794478,
          -1.1740133619026107,
          -1.1646311818782522,
          -1.147939915744318,
          -1.1356986019145876,
          -1.1444836085966985,
          -1.1384147297172797,
          -1.1337847870993523,
          -1.1178287690688706,
          -1.103699776003711,
          -1.0995215351046086,
          -1.1032268699465544,
          -1.0268325701887098,
          -0.990210705397979,
          -0.98638652763655,
          -0.9895321665714474,
          -1.006379753060042,
          -0.9924199015773683,
          -1.0327934548798943,
          -1.0353389617276678,
          -1.0322110752620708,
          -1.0279623176099113,
          -1.0270105880058458,
          -1.0220758946649593,
          -1.0141622383509292,
          -1.0072412409451734,
          -1.0182379094274163,
          -1.006374821818567,
          -0.9985109710434069,
          -0.9985159022848706,
          -1.0143787198515422,
          -1.0127834632353905,
          -1.0063358650109464,
          -0.999670305913435,
          -0.9886677199414289,
          -0.9606888420784175,
          -0.9539882711664608,
          -0.9748784894136737,
          -0.9602578515737688,
          -0.9460972985631949,
          -0.9386683832858369,
          -0.9243322780788589,
          -0.909317140921205,
          -0.9003210771041004,
          -0.8929626785797993,
          -0.8871028843387867,
          -0.9481565850018421,
          -0.9416093756996586,
          -0.935354589016753,
          -0.9232390218445462,
          -0.9232266937408758,
          -0.9140960070315864,
          -0.9046640214683582,
          -0.9067607853421936,
          -0.9011445944298994,
          -0.8770204680254318,
          -0.8613001633373069,
          -0.862324382191006,
          -0.8480440000126608,
          -0.8512705113076977,
          -0.8255309101970465,
          -0.810570509819737,
          -0.8044128685938278,
          -0.7890767076163581,
          -0.7817873464726596,
          -0.7767352895847442,
          -0.7715362817009629,
          -0.7601007327277313,
          -0.756472818376883,
          -0.7440061468118787,
          -0.7333753764468574,
          -0.7270525386316485,
          -0.7168685387439667,
          -0.6970128949575356,
          -0.6812215803922096,
          -0.6736235235323765,
          -0.6575185820094414,
          -0.6467768587112988,
          -0.6775734479513291,
          -0.6664456084459436,
          -0.6519931259402252,
          -0.6412962769394774,
          -0.6324895727948909,
          -0.6188827982016024,
          -0.6168664135637625,
          -0.6064698771686433,
          -0.6006810928048318,
          -0.5907781736810456,
          -0.5846175737102602,
          -0.5677339891589209,
          -0.5568211517817047,
          -0.5449881447458371,
          -0.5289670343279286,
          -0.51447460876629,
          -0.4996917330819616,
          -0.4897710614888751,
          -0.478176233416107,
          -0.444024427478618,
          -0.4264129916860326,
          -0.4156372428217329,
          -0.3944940518869963,
          -0.374403681006508,
          -0.3488465358303233,
          -0.33683205910828845,
          -0.32608639081697044,
          -0.3031344205103675,
          -0.2826623715399558,
          -0.25400840671944414,
          -0.22326754050803557,
          -0.19660283849726923,
          -0.183273199674701,
          -0.16986564723686917,
          -0.1595810500231706,
          -0.15314134178506636,
          -0.14386321095577762,
          -0.13919184590948633,
          -0.1309423720512164,
          -0.12297644457757398,
          -0.11583354130559734,
          -0.11540205767680436,
          -0.09411290199451199,
          -0.08415080797307277,
          -0.06118157832131371,
          -0.050319532731255424,
          -0.04003444239340172,
          -0.036234427715191364,
          -0.003930357957211498,
          0.0074519336081302345,
          0.010455059664492028,
          -0.055207379278159475,
          -0.04243546386605202,
          -0.03049199702121829,
          -0.014540417108056444,
          0.003246570880933157,
          0.020011805636944525,
          0.03547913763756769,
          0.05267733539481553,
          0.06473422079350247,
          0.06566523918339157,
          0.1704018493007264,
          0.1807170202115508,
          0.18922538424709653,
          0.20764209177203646,
          0.21771070060926645,
          0.23018970027795202,
          0.24571472780379564,
          0.2627087721641011,
          0.2757307015188342,
          0.2966396584836468,
          0.32655010363119397,
          0.3443163804059962,
          0.3675459796074636,
          0.3828969343093575,
          0.40451746941855937,
          0.42299483121360676,
          0.44205210700573483,
          0.4531883296216373,
          0.4938414843156154,
          0.5084167547339813,
          0.5666044178535806,
          0.5829662770572038,
          0.6047490500108292,
          0.5956938112960606,
          0.6276152167158288,
          0.6388362566850354,
          0.6510583386730329,
          0.6644224961859133,
          0.6777595318706882,
          0.6835926974077504,
          0.6649506321475476,
          0.7364743447036334,
          0.7671185585821897,
          0.7896454558739289,
          0.8262870456305477,
          0.8484791116263461,
          0.8578031030013291,
          0.8781020653960794,
          0.9072886042955559,
          0.9098439736262679,
          0.8838232917517209,
          0.9050665868883301,
          0.9231371212619472,
          0.9482041010358301,
          0.9617625494627033,
          0.979961296114587,
          1.0029916731605977,
          1.0263401152815372,
          1.0456602262441275,
          1.0685135717212904,
          1.0818821673515013,
          1.085189057882523,
          1.1086479598124397,
          1.1320619874449505,
          1.1470702208645527,
          1.1691355539545174,
          1.1910351973310271,
          1.2162634287010452,
          1.2378834706861028,
          1.2557720422494085,
          1.273550154003737,
          1.2913899062764724,
          1.3332758713384225,
          1.3524514969258785,
          1.367944471382153,
          1.3841756526867668,
          1.4089225948891333,
          1.429423245060083,
          1.4474858894473384,
          1.46899547162343,
          1.4843631925463248,
          1.5027749688297898,
          1.5187714230403466,
          1.5342190300750818,
          1.5640525478556646,
          1.5803394521889114,
          1.6009362615685583,
          1.6172108377981236,
          1.6409661073404935,
          1.6580454621782692,
          1.6748412706314064,
          1.694072126123351,
          1.7096923266096034,
          1.730288642865106,
          1.7457791517006485,
          1.850297800944927,
          1.8687199328354858,
          1.884071380661524,
          1.9015309342167794,
          1.9180106500915755,
          1.9364959018729737,
          1.9554954821398813,
          1.9768438127198376,
          1.9906996150074634,
          2.0093313246605726,
          2.0279295018716796,
          2.1320600624121275,
          2.1539621714093804,
          2.1720016389617167
         ]
        },
        {
         "line": {
          "color": "rgba(219, 64, 82, 1.0)",
          "dash": "solid",
          "shape": "linear",
          "width": 1.3
         },
         "mode": "lines",
         "name": "26841302000186",
         "text": "",
         "type": "scatter",
         "x": [
          "2020-09-03",
          "2020-09-04",
          "2020-09-08",
          "2020-09-09",
          "2020-09-10",
          "2020-09-11",
          "2020-09-14",
          "2020-09-15",
          "2020-09-16",
          "2020-09-17",
          "2020-09-18",
          "2020-09-21",
          "2020-09-22",
          "2020-09-23",
          "2020-09-24",
          "2020-09-25",
          "2020-09-28",
          "2020-09-29",
          "2020-09-30",
          "2020-10-01",
          "2020-10-02",
          "2020-10-05",
          "2020-10-06",
          "2020-10-07",
          "2020-10-08",
          "2020-10-09",
          "2020-10-13",
          "2020-10-14",
          "2020-10-15",
          "2020-10-16",
          "2020-10-19",
          "2020-10-20",
          "2020-10-21",
          "2020-10-22",
          "2020-10-23",
          "2020-10-26",
          "2020-10-27",
          "2020-10-28",
          "2020-10-29",
          "2020-10-30",
          "2020-11-03",
          "2020-11-04",
          "2020-11-05",
          "2020-11-06",
          "2020-11-09",
          "2020-11-10",
          "2020-11-11",
          "2020-11-12",
          "2020-11-13",
          "2020-11-16",
          "2020-11-17",
          "2020-11-18",
          "2020-11-19",
          "2020-11-20",
          "2020-11-23",
          "2020-11-24",
          "2020-11-25",
          "2020-11-26",
          "2020-11-27",
          "2020-11-30",
          "2020-12-01",
          "2020-12-02",
          "2020-12-03",
          "2020-12-04",
          "2020-12-07",
          "2020-12-08",
          "2020-12-09",
          "2020-12-10",
          "2020-12-11",
          "2020-12-14",
          "2020-12-15",
          "2020-12-16",
          "2020-12-17",
          "2020-12-18",
          "2020-12-21",
          "2020-12-22",
          "2020-12-23",
          "2020-12-24",
          "2020-12-28",
          "2020-12-29",
          "2020-12-30",
          "2020-12-31",
          "2021-01-04",
          "2021-01-05",
          "2021-01-06",
          "2021-01-07",
          "2021-01-08",
          "2021-01-11",
          "2021-01-12",
          "2021-01-13",
          "2021-01-14",
          "2021-01-15",
          "2021-01-18",
          "2021-01-19",
          "2021-01-20",
          "2021-01-21",
          "2021-01-22",
          "2021-01-25",
          "2021-01-26",
          "2021-01-27",
          "2021-01-28",
          "2021-01-29",
          "2021-02-01",
          "2021-02-02",
          "2021-02-03",
          "2021-02-04",
          "2021-02-05",
          "2021-02-08",
          "2021-02-09",
          "2021-02-10",
          "2021-02-11",
          "2021-02-12",
          "2021-02-17",
          "2021-02-18",
          "2021-02-19",
          "2021-02-22",
          "2021-02-23",
          "2021-02-24",
          "2021-02-25",
          "2021-02-26",
          "2021-03-01",
          "2021-03-02",
          "2021-03-03",
          "2021-03-04",
          "2021-03-05",
          "2021-03-08",
          "2021-03-09",
          "2021-03-10",
          "2021-03-11",
          "2021-03-12",
          "2021-03-15",
          "2021-03-16",
          "2021-03-17",
          "2021-03-18",
          "2021-03-19",
          "2021-03-22",
          "2021-03-23",
          "2021-03-24",
          "2021-03-25",
          "2021-03-26",
          "2021-03-29",
          "2021-03-30",
          "2021-03-31",
          "2021-04-01",
          "2021-04-05",
          "2021-04-06",
          "2021-04-07",
          "2021-04-08",
          "2021-04-09",
          "2021-04-12",
          "2021-04-13",
          "2021-04-14",
          "2021-04-15",
          "2021-04-16",
          "2021-04-19",
          "2021-04-20",
          "2021-04-22",
          "2021-04-23",
          "2021-04-26",
          "2021-04-27",
          "2021-04-28",
          "2021-04-29",
          "2021-04-30",
          "2021-05-03",
          "2021-05-04",
          "2021-05-05",
          "2021-05-06",
          "2021-05-07",
          "2021-05-10",
          "2021-05-11",
          "2021-05-12",
          "2021-05-13",
          "2021-05-14",
          "2021-05-17",
          "2021-05-18",
          "2021-05-19",
          "2021-05-20",
          "2021-05-21",
          "2021-05-24",
          "2021-05-25",
          "2021-05-26",
          "2021-05-27",
          "2021-05-28",
          "2021-05-31",
          "2021-06-01",
          "2021-06-02",
          "2021-06-04",
          "2021-06-07",
          "2021-06-08",
          "2021-06-09",
          "2021-06-10",
          "2021-06-11",
          "2021-06-14",
          "2021-06-15",
          "2021-06-16",
          "2021-06-17",
          "2021-06-18",
          "2021-06-21",
          "2021-06-22",
          "2021-06-23",
          "2021-06-24",
          "2021-06-25",
          "2021-06-28",
          "2021-06-29",
          "2021-06-30",
          "2021-07-01",
          "2021-07-02",
          "2021-07-05",
          "2021-07-06",
          "2021-07-07",
          "2021-07-08",
          "2021-07-09",
          "2021-07-12",
          "2021-07-13",
          "2021-07-14",
          "2021-07-15",
          "2021-07-16",
          "2021-07-19",
          "2021-07-20",
          "2021-07-21",
          "2021-07-22",
          "2021-07-23",
          "2021-07-26",
          "2021-07-27",
          "2021-07-28",
          "2021-07-29",
          "2021-07-30",
          "2021-08-02",
          "2021-08-03",
          "2021-08-04",
          "2021-08-05",
          "2021-08-06",
          "2021-08-09",
          "2021-08-10",
          "2021-08-11",
          "2021-08-12",
          "2021-08-13",
          "2021-08-16",
          "2021-08-17",
          "2021-08-18",
          "2021-08-19",
          "2021-08-20",
          "2021-08-23",
          "2021-08-24",
          "2021-08-25",
          "2021-08-26",
          "2021-08-27",
          "2021-08-30",
          "2021-08-31",
          "2021-09-01",
          "2021-09-02",
          "2021-09-03"
         ],
         "y": [
          -1.5370514179025345,
          -1.5269186035296967,
          -1.5167906937136733,
          -1.5066529747840316,
          -1.4965201604111937,
          -1.486156831868216,
          -1.4760093038249453,
          -1.4659402486906523,
          -1.4558025297610109,
          -1.4456648108313583,
          -1.435517282788088,
          -1.4253991820856935,
          -1.4152810813832881,
          -1.4050501758742255,
          -1.394799652137916,
          -1.3845981739697077,
          -1.3743721730174596,
          -1.3641510766220153,
          -1.3539299802265707,
          -1.343703979274312,
          -1.3335025011061146,
          -1.3233010229379172,
          -1.3130995447697198,
          -1.3028637347038428,
          -1.2926132109675224,
          -1.2814847715619295,
          -1.2708075513829982,
          -1.2600616674087075,
          -1.2493697335593545,
          -1.2386925133804232,
          -1.2279809613038122,
          -1.2173037411248917,
          -1.206621616389146,
          -1.192761338839468,
          -1.1815397128544542,
          -1.1703033731990078,
          -1.159091556327612,
          -1.1478650257857839,
          -1.1366188770166976,
          -1.1253874419180656,
          -1.1141903387171026,
          -1.1029441899480272,
          -1.0916833275085192,
          -1.0804224650690002,
          -1.0681855958239737,
          -1.0567089328847585,
          -1.045462784115683,
          -1.0341136396535577,
          -1.022754686077814,
          -1.0114251598429467,
          -0.9997866465289403,
          -0.9883394109305794,
          -0.9768725571049823,
          -0.9654007987225707,
          -0.9521388771039131,
          -0.9406425959374399,
          -0.9291463147709776,
          -0.917468565002477,
          -0.9059477610519531,
          -0.8944220525446037,
          -0.8828865349236473,
          -0.8713510173026799,
          -0.8598007860112908,
          -0.848103418015543,
          -0.8364845229287836,
          -0.8248705323988279,
          -0.8132516373120685,
          -0.8016621695661852,
          -0.7900040380249316,
          -0.7783851429381722,
          -0.7668054843058961,
          -0.7551865892191367,
          -0.7435676941323773,
          -0.7319733218296796,
          -0.7203200948452405,
          -0.7086962952016667,
          -0.6970577818876601,
          -0.6854339822440862,
          -0.6738003734868943,
          -0.6621618601728878,
          -0.6505233468588812,
          -0.6388750244312458,
          -0.6272168928899923,
          -0.6155636659055531,
          -0.6036799247509633,
          -0.5921983572549336,
          -0.5981475846674449,
          -0.5691469402402569,
          -0.5575378542671157,
          -0.5459189591803563,
          -0.5343000640935969,
          -0.5226909781204556,
          -0.5110818921473252,
          -0.4994629970605658,
          -0.48775581995118905,
          -0.47604864284182313,
          -0.46433656117564276,
          -0.4526195749526479,
          -0.440902588729653,
          -0.42918069794985453,
          -0.41745880717004513,
          -0.40573201183343216,
          -0.3940052164968192,
          -0.38227842116019534,
          -0.37054672126676785,
          -0.35881011681653674,
          -0.34694599388919406,
          -0.3351112983027166,
          -0.3232716981594355,
          -0.31142719345933995,
          -0.29957287964561535,
          -0.2877185658319017,
          -0.2758740611318061,
          -0.26403446098852507,
          -0.25217524261799684,
          -0.2403307379179013,
          -0.22835871474069414,
          -0.21640630979074496,
          -0.20439014560225088,
          -0.1924083133114256,
          -0.18064228152031842,
          -0.16898414997906486,
          -0.15732601843781127,
          -0.1452853314652447,
          -0.13336725841297523,
          -0.12146880358795285,
          -0.10956544420611598,
          -0.0976571802674755,
          -0.08574891632882413,
          -0.07383574783336916,
          -0.06199124313327358,
          -0.05005355185375701,
          -0.03813057424467304,
          -0.02620269207878546,
          -0.012455219335775753,
          0.001302062520862949,
          0.015064248934305257,
          0.028831339904562065,
          0.042657285556549275,
          0.05648813576536187,
          0.07032389053097808,
          0.08416454985340878,
          0.09800520917583949,
          0.11185567761188829,
          0.1257404779456277,
          0.1396154691657381,
          0.15349046038584852,
          0.1673703561627734,
          0.1812306337124512,
          0.1950958158189435,
          0.20896590248223942,
          0.22283598914553532,
          0.23669626669521313,
          0.25057616247213804,
          0.2644511536922484,
          0.27844385427584145,
          0.29239241384812575,
          0.3063458779772245,
          0.3202993421063233,
          0.3342626153490402,
          0.34823569770538615,
          0.36221858917536104,
          0.37620148064532505,
          0.3902677495810919,
          0.4041574544716349,
          0.41798340012363305,
          0.4318044412188166,
          0.44734698175488685,
          0.4630219453248614,
          0.4785742949745498,
          0.4943522542375743,
          0.5099977904666946,
          0.5255942811276807,
          0.5411956763454923,
          0.5567627396656132,
          0.5723935622242899,
          0.588083239464708,
          0.603699348352952,
          0.6194184529342354,
          0.6352895987766809,
          0.6511362218350757,
          0.6670416995752009,
          0.6832954008489595,
          0.6996668114861896,
          0.7158077079532692,
          0.732203641374561,
          0.7485848611254202,
          0.764990603660341,
          0.7814453917633633,
          0.7978609434119022,
          0.81428630417407,
          0.8309519882199958,
          0.8473184943004225,
          0.863645763926344,
          0.8800171745635851,
          0.8964572489961747,
          0.9148297188125545,
          0.9330452428109685,
          0.9514716627522751,
          0.9699373191480759,
          0.9884127846574949,
          1.0069667230759023,
          1.0253735247899727,
          1.043834276628959,
          1.068219733096395,
          1.086258693049585,
          1.1042829393323423,
          1.1235137065907583,
          1.1423373956338105,
          1.1615877811194737,
          1.18054389319643,
          1.1994754824893359,
          1.2184414036799323,
          1.2374024203137033,
          1.2560740680955933,
          1.2750301801725608,
          1.2940059104767643,
          1.3129865453377934,
          1.331972084755626,
          1.3510606198664976,
          1.3701344413069476,
          1.389257308315499,
          1.4083654616536287,
          1.427365714741894,
          1.4464346316255297,
          1.4655133576227832,
          1.4845969881768513,
          1.503685523287734,
          1.5227789629554203,
          1.5418822117367355,
          1.5609952696316687,
          1.582923543136479,
          1.6045084976644814,
          1.626103261306102,
          1.6474822244480154,
          1.6689887060670294,
          1.690500092242858,
          1.7120360012027371,
          1.7335375782649367,
          1.7550440598839507,
          1.7757854306403495,
          1.797968741099372,
          1.8194506999343247,
          1.8409277542124736,
          1.862429331274673,
          1.883832817200648,
          1.9052461122402409,
          1.9260757650192464,
          1.94721440487738,
          1.9690494918027803,
          1.9907276329102037,
          2.01247934236979
         ]
        },
        {
         "line": {
          "color": "rgba(0, 128, 128, 1.0)",
          "dash": "solid",
          "shape": "linear",
          "width": 1.3
         },
         "mode": "lines",
         "name": "27826059000190",
         "text": "",
         "type": "scatter",
         "x": [
          "2020-09-03",
          "2020-09-04",
          "2020-09-08",
          "2020-09-09",
          "2020-09-10",
          "2020-09-11",
          "2020-09-14",
          "2020-09-15",
          "2020-09-16",
          "2020-09-17",
          "2020-09-18",
          "2020-09-21",
          "2020-09-22",
          "2020-09-23",
          "2020-09-24",
          "2020-09-25",
          "2020-09-28",
          "2020-09-29",
          "2020-09-30",
          "2020-10-01",
          "2020-10-02",
          "2020-10-05",
          "2020-10-06",
          "2020-10-07",
          "2020-10-08",
          "2020-10-09",
          "2020-10-13",
          "2020-10-14",
          "2020-10-15",
          "2020-10-16",
          "2020-10-19",
          "2020-10-20",
          "2020-10-21",
          "2020-10-22",
          "2020-10-23",
          "2020-10-26",
          "2020-10-27",
          "2020-10-28",
          "2020-10-29",
          "2020-10-30",
          "2020-11-03",
          "2020-11-04",
          "2020-11-05",
          "2020-11-06",
          "2020-11-09",
          "2020-11-10",
          "2020-11-11",
          "2020-11-12",
          "2020-11-13",
          "2020-11-16",
          "2020-11-17",
          "2020-11-18",
          "2020-11-19",
          "2020-11-20",
          "2020-11-23",
          "2020-11-24",
          "2020-11-25",
          "2020-11-26",
          "2020-11-27",
          "2020-11-30",
          "2020-12-01",
          "2020-12-02",
          "2020-12-03",
          "2020-12-04",
          "2020-12-07",
          "2020-12-08",
          "2020-12-09",
          "2020-12-10",
          "2020-12-11",
          "2020-12-14",
          "2020-12-15",
          "2020-12-16",
          "2020-12-17",
          "2020-12-18",
          "2020-12-21",
          "2020-12-22",
          "2020-12-23",
          "2020-12-24",
          "2020-12-28",
          "2020-12-29",
          "2020-12-30",
          "2020-12-31",
          "2021-01-04",
          "2021-01-05",
          "2021-01-06",
          "2021-01-07",
          "2021-01-08",
          "2021-01-11",
          "2021-01-12",
          "2021-01-13",
          "2021-01-14",
          "2021-01-15",
          "2021-01-18",
          "2021-01-19",
          "2021-01-20",
          "2021-01-21",
          "2021-01-22",
          "2021-01-25",
          "2021-01-26",
          "2021-01-27",
          "2021-01-28",
          "2021-01-29",
          "2021-02-01",
          "2021-02-02",
          "2021-02-03",
          "2021-02-04",
          "2021-02-05",
          "2021-02-08",
          "2021-02-09",
          "2021-02-10",
          "2021-02-11",
          "2021-02-12",
          "2021-02-17",
          "2021-02-18",
          "2021-02-19",
          "2021-02-22",
          "2021-02-23",
          "2021-02-24",
          "2021-02-25",
          "2021-02-26",
          "2021-03-01",
          "2021-03-02",
          "2021-03-03",
          "2021-03-04",
          "2021-03-05",
          "2021-03-08",
          "2021-03-09",
          "2021-03-10",
          "2021-03-11",
          "2021-03-12",
          "2021-03-15",
          "2021-03-16",
          "2021-03-17",
          "2021-03-18",
          "2021-03-19",
          "2021-03-22",
          "2021-03-23",
          "2021-03-24",
          "2021-03-25",
          "2021-03-26",
          "2021-03-29",
          "2021-03-30",
          "2021-03-31",
          "2021-04-01",
          "2021-04-05",
          "2021-04-06",
          "2021-04-07",
          "2021-04-08",
          "2021-04-09",
          "2021-04-12",
          "2021-04-13",
          "2021-04-14",
          "2021-04-15",
          "2021-04-16",
          "2021-04-19",
          "2021-04-20",
          "2021-04-22",
          "2021-04-23",
          "2021-04-26",
          "2021-04-27",
          "2021-04-28",
          "2021-04-29",
          "2021-04-30",
          "2021-05-03",
          "2021-05-04",
          "2021-05-05",
          "2021-05-06",
          "2021-05-07",
          "2021-05-10",
          "2021-05-11",
          "2021-05-12",
          "2021-05-13",
          "2021-05-14",
          "2021-05-17",
          "2021-05-18",
          "2021-05-19",
          "2021-05-20",
          "2021-05-21",
          "2021-05-24",
          "2021-05-25",
          "2021-05-26",
          "2021-05-27",
          "2021-05-28",
          "2021-05-31",
          "2021-06-01",
          "2021-06-02",
          "2021-06-04",
          "2021-06-07",
          "2021-06-08",
          "2021-06-09",
          "2021-06-10",
          "2021-06-11",
          "2021-06-14",
          "2021-06-15",
          "2021-06-16",
          "2021-06-17",
          "2021-06-18",
          "2021-06-21",
          "2021-06-22",
          "2021-06-23",
          "2021-06-24",
          "2021-06-25",
          "2021-06-28",
          "2021-06-29",
          "2021-06-30",
          "2021-07-01",
          "2021-07-02",
          "2021-07-05",
          "2021-07-06",
          "2021-07-07",
          "2021-07-08",
          "2021-07-09",
          "2021-07-12",
          "2021-07-13",
          "2021-07-14",
          "2021-07-15",
          "2021-07-16",
          "2021-07-19",
          "2021-07-20",
          "2021-07-21",
          "2021-07-22",
          "2021-07-23",
          "2021-07-26",
          "2021-07-27",
          "2021-07-28",
          "2021-07-29",
          "2021-07-30",
          "2021-08-02",
          "2021-08-03",
          "2021-08-04",
          "2021-08-05",
          "2021-08-06",
          "2021-08-09",
          "2021-08-10",
          "2021-08-11",
          "2021-08-12",
          "2021-08-13",
          "2021-08-16",
          "2021-08-17",
          "2021-08-18",
          "2021-08-19",
          "2021-08-20",
          "2021-08-23",
          "2021-08-24",
          "2021-08-25",
          "2021-08-26",
          "2021-08-27",
          "2021-08-30",
          "2021-08-31",
          "2021-09-01",
          "2021-09-02",
          "2021-09-03"
         ],
         "y": [
          -2.253617233225255,
          -2.2125074728629572,
          -2.2327521786733278,
          -2.1968122545750477,
          -2.2285037776101557,
          -2.22202686259643,
          -2.1951456106311817,
          -2.217844842799853,
          -2.2289415778685155,
          -2.1897726793014636,
          -2.2421474986584715,
          -2.2496106496333,
          -2.217798217862592,
          -2.2413398599147025,
          -2.170921189836783,
          -2.137172637789879,
          -2.1804958972924124,
          -2.163081088097988,
          -2.1291776464289827,
          -2.1516461246708576,
          -2.207648996349498,
          -2.166256325350924,
          -1.1394029316207999,
          -1.128886242381804,
          -1.0886568240553107,
          -1.0448033046730483,
          -1.0047738203995613,
          -0.9847851566175576,
          -0.9976670736061783,
          -1.0003152119920966,
          -0.9648067661268056,
          -0.936913990098902,
          -0.9382850793557151,
          -0.9416989730672091,
          -0.9606484539254612,
          -0.9469549469271733,
          -0.9453989384276555,
          -0.9398355560830137,
          -0.9133557527301516,
          -0.9124042879087023,
          -0.9116930600521491,
          -0.8825967284403278,
          -0.862859365167641,
          -0.8319106801160451,
          -0.8576800458655407,
          -0.8568755681344485,
          -0.8697345677810411,
          -0.8645750048082924,
          -0.835120688508652,
          -0.8153335392860103,
          -0.7932001283898913,
          -0.7961691095644329,
          -0.7863636481820077,
          -0.7924794174952381,
          -0.7916488614094236,
          -0.7688658624043136,
          -0.7549874361633212,
          -0.6295663549249967,
          -0.6046046279193049,
          -0.6058990626182366,
          -0.5804631837081584,
          -0.5533322117399495,
          -0.5119916974508733,
          -0.5098469503367578,
          -0.48452012636468933,
          -0.4768522998178221,
          -0.4728148963520773,
          -0.4338878152562599,
          -0.40931252205261703,
          -0.4036242797064948,
          -0.3762657148241839,
          -0.3748566934150233,
          -0.3826082867983471,
          -0.36972795031606465,
          -0.36145874110380555,
          -0.3409161098468575,
          -0.32063821340318965,
          -0.3090546823793639,
          -0.31477295434608943,
          -0.2872942709813481,
          -0.27151370535064384,
          -0.259586414196149,
          -0.2484967914060437,
          -0.25055540092419515,
          -0.2510018939674857,
          -0.26512292793288167,
          -0.2565739690970408,
          -0.25853616772797666,
          -0.24080762802346897,
          -0.23801724406624356,
          -0.32596451979562946,
          -0.30964184048760574,
          -0.2878585117475442,
          -0.27747221428226543,
          -0.2663146297192095,
          -0.27094314255905944,
          -0.2585061381073559,
          -0.2627648124617968,
          -0.22725794710284405,
          -0.20174383312856362,
          -0.18219613061761386,
          -0.16711889031173616,
          -0.1509194904988371,
          -0.12244587838809749,
          -0.10913169291330113,
          -0.10399188626990413,
          -0.08408066729895117,
          -0.07363273008609257,
          -0.06442311959682251,
          -0.033647499990341175,
          -0.006619260934753706,
          0.015526003758972793,
          0.0075515589805971225,
          0.028862316322628232,
          0.04020323962205039,
          0.04512256562992046,
          0.08250391151748926,
          0.0830191565868996,
          0.12176052818686084,
          0.14087991347751583,
          0.14171679158871867,
          0.1438797145258474,
          0.13307932439740636,
          0.2098682253105672,
          0.24696033853647173,
          0.21752814932570783,
          0.21943503023445216,
          0.2245131971302868,
          0.23384134559564906,
          0.23562494700926873,
          0.2694833442473339,
          0.2870222231900871,
          0.29702998938504344,
          0.3092970894043441,
          -0.016735291814550638,
          -0.011653173652835119,
          -0.013730749247169051,
          -0.027926857264090662,
          -0.003530951530933165,
          0.007996471517531826,
          0.010531603699577079,
          0.04743405616372708,
          0.0978063739779439,
          0.11117982844077758,
          0.13457132238983677,
          0.14041445435804278,
          0.14049110891592428,
          0.1775674170783405,
          0.17086369940368162,
          0.18968436899458987,
          0.19623556780667248,
          0.21644945374325303,
          0.24742026588370805,
          0.2811079684362187,
          0.3092409814290009,
          0.3063036103814008,
          0.3644804685415904,
          0.3609124754611819,
          0.3768613650179332,
          0.39673307133020047,
          0.41488597698910457,
          0.43370822708635115,
          0.4465530021758112,
          0.4443260687315951,
          0.4405360145093214,
          0.4606171379126773,
          0.4933099117191721,
          0.504472237801278,
          0.5188161231617259,
          0.5441405763742694,
          0.5378398878183345,
          0.5571923977953105,
          0.5718073399944269,
          0.5904272852791423,
          0.5943477312751333,
          0.6046557936761922,
          0.2929933761724853,
          0.3120692975385737,
          0.31745961443811843,
          0.3337206539985798,
          0.375087246642396,
          0.4007965531506677,
          0.42462584735808656,
          0.431792653392676,
          0.44818171396732953,
          0.472973536540636,
          0.5085309781027127,
          0.5150055223569139,
          0.5218736126917565,
          0.5526033976141462,
          0.546384895388312,
          0.550728126832361,
          0.5706077356763549,
          0.6031598444178985,
          0.6191751152412621,
          0.627891607749981,
          0.62825196319729,
          0.6584728250756577,
          0.6920743900322044,
          0.7188450065530867,
          0.7597951357742332,
          0.7793625946145346,
          0.8106653130880337,
          0.8399007292584856,
          0.8565339780638811,
          0.8719494467282087,
          0.8919665596244772,
          0.9053408043404801,
          0.9179445522118924,
          0.9496099968922432,
          0.968411700406969,
          0.9876480431673779,
          1.0179234325147328,
          1.0305295511456702,
          1.0669760275284472,
          1.0738393763442398,
          1.114605376575851,
          1.13245324450962,
          1.1545684795827433,
          1.171600015987795,
          1.209046952888807,
          1.2197114194713292,
          1.2474643206874334,
          1.2689378701833098,
          1.298452245724157,
          1.3272917450544424,
          1.3271052453053995,
          1.3470370108588732,
          1.3624485282573375,
          1.3845740366217123,
          1.3883388027424328,
          1.4146534431819422,
          1.428524757144377,
          1.4588396591504353,
          1.477441428612155,
          1.4968508368176434,
          1.50780453606183,
          1.5341934602996958,
          1.567162032463909,
          1.5733876469683183,
          1.610734221716234,
          1.6458657168175583,
          1.6739031091762941,
          1.7100232109982285,
          1.7476005396729402,
          1.7655440282407557,
          1.798642201925482,
          1.8405113955879495,
          1.855688998046906,
          1.8812932008830312,
          1.9102006619863023,
          1.9308476066622102
         ]
        },
        {
         "line": {
          "color": "rgba(255, 255, 51, 1.0)",
          "dash": "solid",
          "shape": "linear",
          "width": 1.3
         },
         "mode": "lines",
         "name": "29319740000177",
         "text": "",
         "type": "scatter",
         "x": [
          "2020-09-03",
          "2020-09-04",
          "2020-09-08",
          "2020-09-09",
          "2020-09-10",
          "2020-09-11",
          "2020-09-14",
          "2020-09-15",
          "2020-09-16",
          "2020-09-17",
          "2020-09-18",
          "2020-09-21",
          "2020-09-22",
          "2020-09-23",
          "2020-09-24",
          "2020-09-25",
          "2020-09-28",
          "2020-09-29",
          "2020-09-30",
          "2020-10-01",
          "2020-10-02",
          "2020-10-05",
          "2020-10-06",
          "2020-10-07",
          "2020-10-08",
          "2020-10-09",
          "2020-10-13",
          "2020-10-14",
          "2020-10-15",
          "2020-10-16",
          "2020-10-19",
          "2020-10-20",
          "2020-10-21",
          "2020-10-22",
          "2020-10-23",
          "2020-10-26",
          "2020-10-27",
          "2020-10-28",
          "2020-10-29",
          "2020-10-30",
          "2020-11-03",
          "2020-11-04",
          "2020-11-05",
          "2020-11-06",
          "2020-11-09",
          "2020-11-10",
          "2020-11-11",
          "2020-11-12",
          "2020-11-13",
          "2020-11-16",
          "2020-11-17",
          "2020-11-18",
          "2020-11-19",
          "2020-11-20",
          "2020-11-23",
          "2020-11-24",
          "2020-11-25",
          "2020-11-26",
          "2020-11-27",
          "2020-11-30",
          "2020-12-01",
          "2020-12-02",
          "2020-12-03",
          "2020-12-04",
          "2020-12-07",
          "2020-12-08",
          "2020-12-09",
          "2020-12-10",
          "2020-12-11",
          "2020-12-14",
          "2020-12-15",
          "2020-12-16",
          "2020-12-17",
          "2020-12-18",
          "2020-12-21",
          "2020-12-22",
          "2020-12-23",
          "2020-12-24",
          "2020-12-28",
          "2020-12-29",
          "2020-12-30",
          "2020-12-31",
          "2021-01-04",
          "2021-01-05",
          "2021-01-06",
          "2021-01-07",
          "2021-01-08",
          "2021-01-11",
          "2021-01-12",
          "2021-01-13",
          "2021-01-14",
          "2021-01-15",
          "2021-01-18",
          "2021-01-19",
          "2021-01-20",
          "2021-01-21",
          "2021-01-22",
          "2021-01-25",
          "2021-01-26",
          "2021-01-27",
          "2021-01-28",
          "2021-01-29",
          "2021-02-01",
          "2021-02-02",
          "2021-02-03",
          "2021-02-04",
          "2021-02-05",
          "2021-02-08",
          "2021-02-09",
          "2021-02-10",
          "2021-02-11",
          "2021-02-12",
          "2021-02-17",
          "2021-02-18",
          "2021-02-19",
          "2021-02-22",
          "2021-02-23",
          "2021-02-24",
          "2021-02-25",
          "2021-02-26",
          "2021-03-01",
          "2021-03-02",
          "2021-03-03",
          "2021-03-04",
          "2021-03-05",
          "2021-03-08",
          "2021-03-09",
          "2021-03-10",
          "2021-03-11",
          "2021-03-12",
          "2021-03-15",
          "2021-03-16",
          "2021-03-17",
          "2021-03-18",
          "2021-03-19",
          "2021-03-22",
          "2021-03-23",
          "2021-03-24",
          "2021-03-25",
          "2021-03-26",
          "2021-03-29",
          "2021-03-30",
          "2021-03-31",
          "2021-04-01",
          "2021-04-05",
          "2021-04-06",
          "2021-04-07",
          "2021-04-08",
          "2021-04-09",
          "2021-04-12",
          "2021-04-13",
          "2021-04-14",
          "2021-04-15",
          "2021-04-16",
          "2021-04-19",
          "2021-04-20",
          "2021-04-22",
          "2021-04-23",
          "2021-04-26",
          "2021-04-27",
          "2021-04-28",
          "2021-04-29",
          "2021-04-30",
          "2021-05-03",
          "2021-05-04",
          "2021-05-05",
          "2021-05-06",
          "2021-05-07",
          "2021-05-10",
          "2021-05-11",
          "2021-05-12",
          "2021-05-13",
          "2021-05-14",
          "2021-05-17",
          "2021-05-18",
          "2021-05-19",
          "2021-05-20",
          "2021-05-21",
          "2021-05-24",
          "2021-05-25",
          "2021-05-26",
          "2021-05-27",
          "2021-05-28",
          "2021-05-31",
          "2021-06-01",
          "2021-06-02",
          "2021-06-04",
          "2021-06-07",
          "2021-06-08",
          "2021-06-09",
          "2021-06-10",
          "2021-06-11",
          "2021-06-14",
          "2021-06-15",
          "2021-06-16",
          "2021-06-17",
          "2021-06-18",
          "2021-06-21",
          "2021-06-22",
          "2021-06-23",
          "2021-06-24",
          "2021-06-25",
          "2021-06-28",
          "2021-06-29",
          "2021-06-30",
          "2021-07-01",
          "2021-07-02",
          "2021-07-05",
          "2021-07-06",
          "2021-07-07",
          "2021-07-08",
          "2021-07-09",
          "2021-07-12",
          "2021-07-13",
          "2021-07-14",
          "2021-07-15",
          "2021-07-16",
          "2021-07-19",
          "2021-07-20",
          "2021-07-21",
          "2021-07-22",
          "2021-07-23",
          "2021-07-26",
          "2021-07-27",
          "2021-07-28",
          "2021-07-29",
          "2021-07-30",
          "2021-08-02",
          "2021-08-03",
          "2021-08-04",
          "2021-08-05",
          "2021-08-06",
          "2021-08-09",
          "2021-08-10",
          "2021-08-11",
          "2021-08-12",
          "2021-08-13",
          "2021-08-16",
          "2021-08-17",
          "2021-08-18",
          "2021-08-19",
          "2021-08-20",
          "2021-08-23",
          "2021-08-24",
          "2021-08-25",
          "2021-08-26",
          "2021-08-27",
          "2021-08-30",
          "2021-08-31",
          "2021-09-01",
          "2021-09-02",
          "2021-09-03"
         ],
         "y": [
          0.9180750513675648,
          0.8386858900682569,
          0.7017216996498987,
          0.699792635297512,
          1.1178363532959346,
          1.0773502429322956,
          1.0942374529621115,
          1.0839218336388212,
          1.010305301356084,
          0.9036590073298493,
          1.0720130226305875,
          1.0344222003818706,
          1.0095768706176274,
          0.996987049387066,
          1.018753187120105,
          0.902550588905614,
          0.9871548310682214,
          1.0222892628137183,
          0.9551378807560328,
          0.8307811049292531,
          0.8343413267233332,
          0.8405615615690528,
          0.5258113379475681,
          0.41148499379549663,
          0.5861749147887109,
          0.6330095810625856,
          0.5596201420887806,
          0.6344157575206475,
          0.5249969038524306,
          0.40961751267959884,
          0.3378759528237096,
          0.3663678184382476,
          0.23501763629462127,
          0.33788433739581236,
          0.38884486475069885,
          0.5210617648163328,
          0.9282908131557178,
          1.3532930269263042,
          1.0852527431351575,
          1.194127495035423,
          1.1576420381565047,
          0.9082854010422967,
          0.7449966943267845,
          0.6289143864569576,
          0.3551082809896874,
          0.5578138234704154,
          0.384471179797519,
          0.819680729789075,
          0.8846980419015181,
          0.9502080544280164,
          1.1512670123722153,
          1.0630496000368779,
          1.0156178577247719,
          1.0219924023563165,
          0.842307405975645,
          1.088709719906145,
          1.0598067146624428,
          1.0278162234361237,
          1.031334809335225,
          1.1061927006046213,
          1.0657118764483062,
          1.0685324154340514,
          1.1499014037794875,
          1.1533955264056854,
          1.2126001076855129,
          1.0866727090426063,
          1.1096772044911278,
          1.174912569419154,
          1.162278408776161,
          1.0181317405873058,
          1.1309993806416168,
          1.1636338721661004,
          1.2137127982283178,
          1.0319921265605703,
          0.9531828298399782,
          0.8762317061951267,
          1.0386479233132866,
          0.9311993534687504,
          1.0132933375967001,
          0.9689982020002273,
          0.8407987396669703,
          0.8196001226791352,
          0.962084479325266,
          1.2107801010266395,
          1.0579308015064541,
          1.4175595206728642,
          1.3905025453315074,
          1.313853024627198,
          1.2793944528277523,
          1.5501200393178944,
          1.4950333013450268,
          1.4384786181209475,
          1.402692293446107,
          1.6546577537063591,
          1.675398923888879,
          1.720167131887979,
          1.5266451685112958,
          1.5268719640665085,
          1.720927577624092,
          1.5570111327102463,
          1.5988833233135793,
          1.7256044103849366,
          1.5794173999431091,
          1.2690044770649809,
          1.1925945380646914,
          0.9750150106423727,
          0.7514803139129241,
          0.37646839269002985,
          0.31637001947615484,
          0.3081563666374012,
          0.3127596089194137,
          0.1570331389507896,
          0.15596234321924268,
          0.0996335191365018,
          -0.01751648825772867,
          -0.22287330968101948,
          -0.18683579306476852,
          -0.3091347864696879,
          0.003371634173082173,
          0.03215826086554151,
          -0.21364255387365985,
          -0.19197060988219963,
          -0.13746161121693762,
          -0.5232229185172602,
          -0.43902315967786726,
          -0.5820887790506057,
          -0.5308146587739159,
          -0.6819088641035095,
          -0.6027034233214584,
          -0.7249407881795414,
          -0.7929272680089096,
          -0.7616827037884716,
          -0.21537053737241715,
          -0.26961442734637786,
          -0.30443611196324116,
          -0.2610353055520872,
          -0.27452919121997876,
          0.12328585115936021,
          -0.21985653157601828,
          -0.16463062178899038,
          -0.3838909365880339,
          -0.2914373820987716,
          -0.298619644105701,
          0.06983602288480857,
          0.05819110366137435,
          -0.2182238055332129,
          -0.4697140616468201,
          -0.6030013798577659,
          -0.7319294994812314,
          -0.8261487507826294,
          -0.83478152434479,
          -0.7292144710359983,
          -0.8776674973154701,
          -0.9842315379557781,
          -1.041989938055111,
          -1.0022591123631297,
          -1.1197381850843513,
          -1.1534929943936274,
          -1.2781885449077892,
          -1.1578503676213572,
          -1.1005967334345896,
          -1.1637894086020724,
          -1.2085600137343673,
          -1.42459612396836,
          -1.4746707282863887,
          -1.4541192531142184,
          -1.5287459860891377,
          -1.5079604074498354,
          -1.5399705158994081,
          -1.4991862569698882,
          -1.4376591966853025,
          -1.421346737637735,
          -1.4730047983886907,
          -1.3761106916600767,
          -1.4135319496389798,
          -1.4813585767165607,
          -1.5269139225622974,
          -1.4865482168980113,
          -1.4520357452026005,
          -1.4289972864114397,
          -1.5019948512847243,
          -1.56095923377674,
          -1.487297803253937,
          -1.483823692698319,
          -1.5231422071649818,
          -1.4607773045961754,
          -1.5747240925896084,
          -1.5835480089356295,
          -1.5726878412138112,
          -1.6001200078169062,
          -1.6156593104967973,
          -1.439768518549742,
          -1.43713997677157,
          -1.4361002035252837,
          -1.4280259943627798,
          -1.4393886236423037,
          -1.3413949296921337,
          -1.3000285967650047,
          -1.326631599094434,
          -1.3280564153668042,
          -1.4688168966524393,
          -1.3187577501352579,
          -1.2991255205247938,
          -1.2502634081861763,
          -1.3253247450778693,
          -1.2864448434149993,
          -1.3008770524589435,
          -1.2815435065080012,
          -1.170421775589352,
          -1.090186758547053,
          -1.1895269811179687,
          -1.187638394010221,
          -1.0068984152096214,
          -1.0546734675592253,
          -1.0531037552653377,
          -0.9072849086659666,
          -0.7177848967954226,
          -0.7387740246235266,
          -0.6960774381212979,
          -0.7356163248618585,
          -0.7301732746895607,
          -0.5603498857828124,
          -0.5026883505779738,
          -0.45080790232142687,
          -0.4966978564601171,
          -0.4899265463680499,
          -0.3971852258556159,
          -0.38919389579338365,
          -0.3594826661299172,
          -0.25136603619217796,
          -0.2616361984477634,
          -0.10668891975371131,
          -0.1344289356525303,
          -0.20943175315034546,
          -0.14653967330756285,
          -0.10989773174609495,
          -0.1464511045221075,
          -0.10355483531414114,
          -0.18076895100972667,
          -0.10639367536540463,
          -0.05578760439373883,
          -0.19522156265630078,
          -0.13108355179693407,
          -0.15464342481726942,
          -0.2778540904827935,
          -0.10170012308596876,
          -0.041520996042932606,
          -0.025669988372422573,
          -0.11584372894411486,
          -0.12821682430500306,
          -0.058556398961525945,
          -0.002179535121223635
         ]
        },
        {
         "line": {
          "color": "rgba(128, 128, 0, 1.0)",
          "dash": "solid",
          "shape": "linear",
          "width": 1.3
         },
         "mode": "lines",
         "name": "32102192000133",
         "text": "",
         "type": "scatter",
         "x": [
          "2020-09-03",
          "2020-09-04",
          "2020-09-08",
          "2020-09-09",
          "2020-09-10",
          "2020-09-11",
          "2020-09-14",
          "2020-09-15",
          "2020-09-16",
          "2020-09-17",
          "2020-09-18",
          "2020-09-21",
          "2020-09-22",
          "2020-09-23",
          "2020-09-24",
          "2020-09-25",
          "2020-09-28",
          "2020-09-29",
          "2020-09-30",
          "2020-10-01",
          "2020-10-02",
          "2020-10-05",
          "2020-10-06",
          "2020-10-07",
          "2020-10-08",
          "2020-10-09",
          "2020-10-13",
          "2020-10-14",
          "2020-10-15",
          "2020-10-16",
          "2020-10-19",
          "2020-10-20",
          "2020-10-21",
          "2020-10-22",
          "2020-10-23",
          "2020-10-26",
          "2020-10-27",
          "2020-10-28",
          "2020-10-29",
          "2020-10-30",
          "2020-11-03",
          "2020-11-04",
          "2020-11-05",
          "2020-11-06",
          "2020-11-09",
          "2020-11-10",
          "2020-11-11",
          "2020-11-12",
          "2020-11-13",
          "2020-11-16",
          "2020-11-17",
          "2020-11-18",
          "2020-11-19",
          "2020-11-20",
          "2020-11-23",
          "2020-11-24",
          "2020-11-25",
          "2020-11-26",
          "2020-11-27",
          "2020-11-30",
          "2020-12-01",
          "2020-12-02",
          "2020-12-03",
          "2020-12-04",
          "2020-12-07",
          "2020-12-08",
          "2020-12-09",
          "2020-12-10",
          "2020-12-11",
          "2020-12-14",
          "2020-12-15",
          "2020-12-16",
          "2020-12-17",
          "2020-12-18",
          "2020-12-21",
          "2020-12-22",
          "2020-12-23",
          "2020-12-24",
          "2020-12-28",
          "2020-12-29",
          "2020-12-30",
          "2020-12-31",
          "2021-01-04",
          "2021-01-05",
          "2021-01-06",
          "2021-01-07",
          "2021-01-08",
          "2021-01-11",
          "2021-01-12",
          "2021-01-13",
          "2021-01-14",
          "2021-01-15",
          "2021-01-18",
          "2021-01-19",
          "2021-01-20",
          "2021-01-21",
          "2021-01-22",
          "2021-01-25",
          "2021-01-26",
          "2021-01-27",
          "2021-01-28",
          "2021-01-29",
          "2021-02-01",
          "2021-02-02",
          "2021-02-03",
          "2021-02-04",
          "2021-02-05",
          "2021-02-08",
          "2021-02-09",
          "2021-02-10",
          "2021-02-11",
          "2021-02-12",
          "2021-02-17",
          "2021-02-18",
          "2021-02-19",
          "2021-02-22",
          "2021-02-23",
          "2021-02-24",
          "2021-02-25",
          "2021-02-26",
          "2021-03-01",
          "2021-03-02",
          "2021-03-03",
          "2021-03-04",
          "2021-03-05",
          "2021-03-08",
          "2021-03-09",
          "2021-03-10",
          "2021-03-11",
          "2021-03-12",
          "2021-03-15",
          "2021-03-16",
          "2021-03-17",
          "2021-03-18",
          "2021-03-19",
          "2021-03-22",
          "2021-03-23",
          "2021-03-24",
          "2021-03-25",
          "2021-03-26",
          "2021-03-29",
          "2021-03-30",
          "2021-03-31",
          "2021-04-01",
          "2021-04-05",
          "2021-04-06",
          "2021-04-07",
          "2021-04-08",
          "2021-04-09",
          "2021-04-12",
          "2021-04-13",
          "2021-04-14",
          "2021-04-15",
          "2021-04-16",
          "2021-04-19",
          "2021-04-20",
          "2021-04-22",
          "2021-04-23",
          "2021-04-26",
          "2021-04-27",
          "2021-04-28",
          "2021-04-29",
          "2021-04-30",
          "2021-05-03",
          "2021-05-04",
          "2021-05-05",
          "2021-05-06",
          "2021-05-07",
          "2021-05-10",
          "2021-05-11",
          "2021-05-12",
          "2021-05-13",
          "2021-05-14",
          "2021-05-17",
          "2021-05-18",
          "2021-05-19",
          "2021-05-20",
          "2021-05-21",
          "2021-05-24",
          "2021-05-25",
          "2021-05-26",
          "2021-05-27",
          "2021-05-28",
          "2021-05-31",
          "2021-06-01",
          "2021-06-02",
          "2021-06-04",
          "2021-06-07",
          "2021-06-08",
          "2021-06-09",
          "2021-06-10",
          "2021-06-11",
          "2021-06-14",
          "2021-06-15",
          "2021-06-16",
          "2021-06-17",
          "2021-06-18",
          "2021-06-21",
          "2021-06-22",
          "2021-06-23",
          "2021-06-24",
          "2021-06-25",
          "2021-06-28",
          "2021-06-29",
          "2021-06-30",
          "2021-07-01",
          "2021-07-02",
          "2021-07-05",
          "2021-07-06",
          "2021-07-07",
          "2021-07-08",
          "2021-07-09",
          "2021-07-12",
          "2021-07-13",
          "2021-07-14",
          "2021-07-15",
          "2021-07-16",
          "2021-07-19",
          "2021-07-20",
          "2021-07-21",
          "2021-07-22",
          "2021-07-23",
          "2021-07-26",
          "2021-07-27",
          "2021-07-28",
          "2021-07-29",
          "2021-07-30",
          "2021-08-02",
          "2021-08-03",
          "2021-08-04",
          "2021-08-05",
          "2021-08-06",
          "2021-08-09",
          "2021-08-10",
          "2021-08-11",
          "2021-08-12",
          "2021-08-13",
          "2021-08-16",
          "2021-08-17",
          "2021-08-18",
          "2021-08-19",
          "2021-08-20",
          "2021-08-23",
          "2021-08-24",
          "2021-08-25",
          "2021-08-26",
          "2021-08-27",
          "2021-08-30",
          "2021-08-31",
          "2021-09-01",
          "2021-09-02",
          "2021-09-03"
         ],
         "y": [
          -1.5433610407968728,
          -1.58052417154635,
          -1.6773334794419292,
          -1.57412842058433,
          -1.6494089338309939,
          -1.6362584172749723,
          -1.5776987546958194,
          -1.5279900328936302,
          -1.527105450449885,
          -1.561019705610688,
          -1.6417412826385132,
          -1.8835710567715336,
          -1.7228769565917634,
          -1.9980180198314512,
          -2.0041630701574955,
          -1.9262089973712817,
          -1.737933037469439,
          -1.7492515779061166,
          -1.7111718603763852,
          -1.734961859372026,
          -1.740380933779125,
          -1.6531845746725966,
          -1.7961025519464033,
          -1.6360602951918302,
          -1.5330830767298451,
          -1.490776718473643,
          -1.473817577014924,
          -1.5380745557838762,
          -1.6304064134587195,
          -1.591032044316453,
          -1.7029674289685321,
          -1.6584534246430287,
          -1.695443361857186,
          -1.633778298912204,
          -1.596021890496175,
          -1.7927112897177537,
          -1.8817052257247957,
          -2.206832817116221,
          -2.1428226200848974,
          -2.174980555636126,
          -1.8510338589468607,
          -1.7780270687499768,
          -1.6353683919168545,
          -1.5974009072814768,
          -1.0403819768255298,
          -0.9346380161299433,
          -0.990186876195054,
          -1.0706862734582137,
          -0.9379810541372573,
          -0.7634565085381108,
          -0.8160766452379085,
          -0.9180720708054622,
          -0.9293895226592648,
          -0.9726184549015301,
          -0.8648925113665066,
          -0.6775012427666959,
          -0.7307017029968437,
          -0.7209208947285565,
          -0.6989362015718391,
          -0.7756688843729653,
          -0.6452398918423995,
          -0.6151475422953633,
          -0.6054836478277903,
          -0.517828886472847,
          -0.5538648985141625,
          -0.5741107982455849,
          -0.5919875062091436,
          -0.6281755932780135,
          -0.5356955794739617,
          -0.546311548523494,
          -0.41578534554224433,
          -0.4052276156764919,
          -0.3670306577711885,
          -0.3492072903684754,
          -0.4515329919801265,
          -0.4625089553862257,
          -0.41299715822601935,
          -0.3700156608711071,
          -0.2509548481562924,
          -0.2620521885528879,
          -0.2476226959777241,
          -0.2285631338628317,
          -0.33353409185929855,
          -0.3073243908504194,
          -0.1881624487865703,
          -0.11833290542522737,
          -0.005002937252742802,
          -0.07680216246704431,
          -0.15842922272980203,
          -0.17767493251621844,
          -0.29181567721356455,
          -0.351605220724225,
          -0.3763501246172982,
          -0.29373942086922183,
          -0.2570644106806292,
          -0.2770279320144319,
          -0.3127879882970818,
          -0.35530912395440495,
          -0.3417807602826759,
          -0.6120378964563233,
          -0.37624572951964347,
          -0.5619492592309656,
          -0.4205201367544904,
          -0.24531370284281231,
          -0.3012414986065055,
          -0.1718948840279643,
          -0.18538808647285093,
          -0.10406365224917695,
          -0.02670514315355143,
          -0.040163837521318704,
          -0.06311214423846404,
          -0.020540824910631028,
          0.0382259949895201,
          0.06179022189700985,
          -0.014317505475918457,
          0.01722396559353316,
          0.04655517799478136,
          0.12855300958456492,
          -0.10218083930959769,
          -0.2086145261144072,
          0.025315619815596317,
          0.011786602994141717,
          -0.10639604991588651,
          -0.1755565502426176,
          0.07144159766152587,
          0.20372161651173804,
          0.2616875659911874,
          0.31686108268120083,
          0.3039409102614065,
          0.3212579777692291,
          0.3581271911426182,
          0.33518759308846596,
          0.35794082575451824,
          0.20267374663683035,
          0.18352927505773517,
          0.17654645135154598,
          0.13891490339120952,
          0.15844146755922328,
          0.19745606006149644,
          0.30200236187865775,
          0.34991230933917145,
          0.2891292162390349,
          0.2466831928000464,
          0.3693329543935059,
          0.45910664231348636,
          0.4464573093128428,
          0.4128750719287354,
          0.44716401731490996,
          0.5020119388671865,
          0.542743770853842,
          0.5368637904577176,
          0.5229593214028815,
          0.6272997721984909,
          0.712828748916284,
          0.6717573879310994,
          0.6167567382015432,
          0.761019768474971,
          0.8292756564330663,
          0.8049068579231026,
          0.8085389146835706,
          0.7989697269260709,
          0.8850568200835758,
          0.7941446921935384,
          0.8865911776450568,
          0.847445955197853,
          0.8534014832454616,
          0.908174292579406,
          0.980201793622469,
          0.962817342834719,
          0.8829722927373688,
          0.7877664674157961,
          0.8678948756353565,
          0.9684381316484479,
          0.8882652003893241,
          0.8669984276382798,
          0.8357882123375114,
          0.9297131021907677,
          0.917227818629299,
          0.9699255712880418,
          0.9611415783578534,
          0.9984818215409964,
          1.0383475769927728,
          1.0414829133876475,
          1.044153098320288,
          1.0327508458605694,
          1.0563790814410723,
          1.0898301445888128,
          1.0814751621694276,
          1.0925428931118404,
          1.086929833236521,
          1.1099210301189208,
          1.116974176278795,
          1.134181841207742,
          1.1259396359741494,
          1.081079244578006,
          1.0665289193037824,
          0.9390017621415303,
          1.0538339746807026,
          1.0861634708929362,
          1.0470281545498923,
          1.1170588680264242,
          1.1879301851985788,
          1.1199458986676467,
          1.0920069837627695,
          1.0952143843439297,
          1.1097463125675764,
          1.119631624791805,
          1.1286389949278233,
          1.0395260768126087,
          1.0328232366217176,
          0.9474345782364341,
          1.055913821120549,
          1.096519377493774,
          1.072918574201704,
          1.0679797825587958,
          1.059223766208479,
          0.9830093577138614,
          0.7846371182267307,
          0.9122146767760659,
          1.0277693817689826,
          0.9858418503530739,
          1.0359408291157386,
          1.0110485311014716,
          0.9847591458261865,
          1.0188855657892109,
          0.9910642178347684,
          0.9735682961606795,
          0.9853811620806244,
          0.9986123426276402,
          0.9234520089303107,
          1.0159811178219973,
          1.007905139193327,
          0.9693907505218435,
          1.000980445812631,
          1.0177896894095433,
          1.0263189539471185,
          1.0588847815013884,
          0.9977944903140945,
          0.9248999330115643,
          0.813979216456722,
          0.7776929392125825,
          0.8292361408747261,
          0.8900635392978501,
          1.0158032433803192,
          1.0377258873131976,
          0.9759237717843264,
          1.0467026682704423,
          1.0330733929662572,
          1.095113037278324,
          1.165637858521552,
          1.1612729677700304,
          1.1199992392284925
         ]
        },
        {
         "line": {
          "color": "rgba(251, 128, 114, 1.0)",
          "dash": "solid",
          "shape": "linear",
          "width": 1.3
         },
         "mode": "lines",
         "name": "30934757000113",
         "text": "",
         "type": "scatter",
         "x": [
          "2020-09-03",
          "2020-09-04",
          "2020-09-08",
          "2020-09-09",
          "2020-09-10",
          "2020-09-11",
          "2020-09-14",
          "2020-09-15",
          "2020-09-16",
          "2020-09-17",
          "2020-09-18",
          "2020-09-21",
          "2020-09-22",
          "2020-09-23",
          "2020-09-24",
          "2020-09-25",
          "2020-09-28",
          "2020-09-29",
          "2020-09-30",
          "2020-10-01",
          "2020-10-02",
          "2020-10-05",
          "2020-10-06",
          "2020-10-07",
          "2020-10-08",
          "2020-10-09",
          "2020-10-13",
          "2020-10-14",
          "2020-10-15",
          "2020-10-16",
          "2020-10-19",
          "2020-10-20",
          "2020-10-21",
          "2020-10-22",
          "2020-10-23",
          "2020-10-26",
          "2020-10-27",
          "2020-10-28",
          "2020-10-29",
          "2020-10-30",
          "2020-11-03",
          "2020-11-04",
          "2020-11-05",
          "2020-11-06",
          "2020-11-09",
          "2020-11-10",
          "2020-11-11",
          "2020-11-12",
          "2020-11-13",
          "2020-11-16",
          "2020-11-17",
          "2020-11-18",
          "2020-11-19",
          "2020-11-20",
          "2020-11-23",
          "2020-11-24",
          "2020-11-25",
          "2020-11-26",
          "2020-11-27",
          "2020-11-30",
          "2020-12-01",
          "2020-12-02",
          "2020-12-03",
          "2020-12-04",
          "2020-12-07",
          "2020-12-08",
          "2020-12-09",
          "2020-12-10",
          "2020-12-11",
          "2020-12-14",
          "2020-12-15",
          "2020-12-16",
          "2020-12-17",
          "2020-12-18",
          "2020-12-21",
          "2020-12-22",
          "2020-12-23",
          "2020-12-24",
          "2020-12-28",
          "2020-12-29",
          "2020-12-30",
          "2020-12-31",
          "2021-01-04",
          "2021-01-05",
          "2021-01-06",
          "2021-01-07",
          "2021-01-08",
          "2021-01-11",
          "2021-01-12",
          "2021-01-13",
          "2021-01-14",
          "2021-01-15",
          "2021-01-18",
          "2021-01-19",
          "2021-01-20",
          "2021-01-21",
          "2021-01-22",
          "2021-01-25",
          "2021-01-26",
          "2021-01-27",
          "2021-01-28",
          "2021-01-29",
          "2021-02-01",
          "2021-02-02",
          "2021-02-03",
          "2021-02-04",
          "2021-02-05",
          "2021-02-08",
          "2021-02-09",
          "2021-02-10",
          "2021-02-11",
          "2021-02-12",
          "2021-02-17",
          "2021-02-18",
          "2021-02-19",
          "2021-02-22",
          "2021-02-23",
          "2021-02-24",
          "2021-02-25",
          "2021-02-26",
          "2021-03-01",
          "2021-03-02",
          "2021-03-03",
          "2021-03-04",
          "2021-03-05",
          "2021-03-08",
          "2021-03-09",
          "2021-03-10",
          "2021-03-11",
          "2021-03-12",
          "2021-03-15",
          "2021-03-16",
          "2021-03-17",
          "2021-03-18",
          "2021-03-19",
          "2021-03-22",
          "2021-03-23",
          "2021-03-24",
          "2021-03-25",
          "2021-03-26",
          "2021-03-29",
          "2021-03-30",
          "2021-03-31",
          "2021-04-01",
          "2021-04-05",
          "2021-04-06",
          "2021-04-07",
          "2021-04-08",
          "2021-04-09",
          "2021-04-12",
          "2021-04-13",
          "2021-04-14",
          "2021-04-15",
          "2021-04-16",
          "2021-04-19",
          "2021-04-20",
          "2021-04-22",
          "2021-04-23",
          "2021-04-26",
          "2021-04-27",
          "2021-04-28",
          "2021-04-29",
          "2021-04-30",
          "2021-05-03",
          "2021-05-04",
          "2021-05-05",
          "2021-05-06",
          "2021-05-07",
          "2021-05-10",
          "2021-05-11",
          "2021-05-12",
          "2021-05-13",
          "2021-05-14",
          "2021-05-17",
          "2021-05-18",
          "2021-05-19",
          "2021-05-20",
          "2021-05-21",
          "2021-05-24",
          "2021-05-25",
          "2021-05-26",
          "2021-05-27",
          "2021-05-28",
          "2021-05-31",
          "2021-06-01",
          "2021-06-02",
          "2021-06-04",
          "2021-06-07",
          "2021-06-08",
          "2021-06-09",
          "2021-06-10",
          "2021-06-11",
          "2021-06-14",
          "2021-06-15",
          "2021-06-16",
          "2021-06-17",
          "2021-06-18",
          "2021-06-21",
          "2021-06-22",
          "2021-06-23",
          "2021-06-24",
          "2021-06-25",
          "2021-06-28",
          "2021-06-29",
          "2021-06-30",
          "2021-07-01",
          "2021-07-02",
          "2021-07-05",
          "2021-07-06",
          "2021-07-07",
          "2021-07-08",
          "2021-07-09",
          "2021-07-12",
          "2021-07-13",
          "2021-07-14",
          "2021-07-15",
          "2021-07-16",
          "2021-07-19",
          "2021-07-20",
          "2021-07-21",
          "2021-07-22",
          "2021-07-23",
          "2021-07-26",
          "2021-07-27",
          "2021-07-28",
          "2021-07-29",
          "2021-07-30",
          "2021-08-02",
          "2021-08-03",
          "2021-08-04",
          "2021-08-05",
          "2021-08-06",
          "2021-08-09",
          "2021-08-10",
          "2021-08-11",
          "2021-08-12",
          "2021-08-13",
          "2021-08-16",
          "2021-08-17",
          "2021-08-18",
          "2021-08-19",
          "2021-08-20",
          "2021-08-23",
          "2021-08-24",
          "2021-08-25",
          "2021-08-26",
          "2021-08-27",
          "2021-08-30",
          "2021-08-31",
          "2021-09-01",
          "2021-09-02",
          "2021-09-03"
         ],
         "y": [
          -1.4516433363564947,
          -1.454992368270105,
          -1.454779634845463,
          -1.4592227243715006,
          -1.4506617235542318,
          -1.457344592136826,
          -1.4452461383727067,
          -1.4407422678682056,
          -1.4308592807692546,
          -1.418545054531568,
          -1.4262946292862835,
          -1.4244742389811536,
          -1.4161502839799147,
          -1.4148222196003823,
          -1.4117558192366597,
          -1.373725161009023,
          -1.388397689211281,
          -1.3910842084595774,
          -1.3959314914924292,
          -1.3909930369918757,
          -1.3782594220027624,
          -1.350634467288906,
          -1.344984875340276,
          -1.348838389375164,
          -1.351603923895475,
          -1.3414565395401876,
          -1.3499719546235989,
          -1.3364147573762382,
          -1.31752099021936,
          -1.320678562050791,
          -1.3059908386039207,
          -1.2900662222452197,
          -1.2966457631644113,
          -1.297861382733779,
          -1.2879935908794475,
          -1.2748983290684457,
          -1.2480969566128368,
          -1.234658282273491,
          -1.2284403881761812,
          -1.2306710500859688,
          -1.2230703887285,
          -1.2099356192814978,
          -1.209628675340229,
          -1.2121055002128156,
          -1.2219094720397587,
          -1.2132968073907953,
          -1.2133970960052658,
          -1.1989524964722689,
          -1.22109500692828,
          -1.235047280535686,
          -1.1953208330087848,
          -1.1975788463588857,
          -1.1755153511748826,
          -1.1733849778795653,
          -1.1978705950555353,
          -1.1959803066251666,
          -1.1999827340573082,
          -1.002204469170295,
          -1.0018337052016377,
          -1.0059242650525557,
          -0.9991502250022597,
          -0.9803658636066209,
          -0.9834018734811117,
          -1.007297915165939,
          -0.9826177988588715,
          -0.9834018734811117,
          -0.7143518332421391,
          -0.6988192541945583,
          -0.689215859596563,
          -0.6944187113534462,
          -0.6988830742219467,
          -0.7027639396971481,
          -0.7128505430739721,
          -0.7155431404201188,
          -0.7097233617317728,
          -0.6993450096583058,
          -0.6936711053182879,
          -0.6919783550679486,
          -0.6917838559368443,
          -0.7369927477215912,
          -0.7427091987465348,
          -0.7405788254512177,
          -0.7568407762404192,
          -0.7353516613029464,
          -0.7336345986612123,
          -0.6892857577218019,
          -0.6561510073097864,
          -0.6309907212728222,
          -0.6253502464709612,
          -0.605961114339567,
          -0.5899969903448588,
          -0.5869731366660619,
          -0.5695077225031866,
          -0.5516593881759667,
          -0.5273135672504746,
          -0.48747163586448367,
          -0.4393361399664921,
          -0.43632444248338925,
          -0.4125499627555023,
          -0.3644023106618168,
          -0.3802144822103532,
          -0.3768776064924371,
          -0.3859856361159165,
          -0.38969327580248314,
          -0.3961542938136667,
          -0.3980081136569534,
          -0.3847852117911679,
          -0.4119451920197402,
          -0.38738663766961295,
          -0.37528210580764315,
          -0.3589958426270604,
          -0.3627824975856348,
          -0.35661626732001933,
          -0.31195440434149646,
          -0.3004911118023708,
          -0.28819208080930353,
          -0.15717868172082378,
          -0.14509542320131683,
          -0.1614576626049889,
          -0.15441010815158773,
          -0.16063408034674806,
          -0.13469275873646194,
          -0.13100943144128332,
          -0.09068429127647046,
          -0.05858585654734449,
          -0.05062962646584437,
          -0.05678977863360942,
          -0.052975772234721816,
          -0.039151138682099504,
          -0.0040470845677143255,
          -0.024840257301730083,
          -0.00627166837965837,
          -0.0035638757888924056,
          0.08413699804305969,
          0.24356854361440522,
          0.24514277095673634,
          0.25329046112041553,
          0.26570193692364735,
          0.3087044791899878,
          0.3107102514794463,
          0.34121622457269674,
          0.3467320983686992,
          0.35556965263799184,
          0.368756085916702,
          0.3790007198375347,
          0.4063004963165848,
          0.4294124633791648,
          0.45574278325164586,
          0.471585345289414,
          0.46505442915299156,
          0.4761104891363846,
          0.5104517419709855,
          0.5147611133443958,
          0.5205140329564214,
          0.5217296525257893,
          0.5237779715001667,
          0.5385507883168952,
          0.5515427224645011,
          0.5248416386233626,
          0.5322842694368092,
          0.5451485635296313,
          0.5496615511809079,
          0.6395535792866405,
          0.5942170474471166,
          0.6097070798097717,
          0.6139313578133172,
          0.6058930734108842,
          0.6016839906519511,
          0.606883803359916,
          0.5973320725936152,
          0.6458383324602641,
          0.6163322064628143,
          0.6262395059531533,
          0.621294973354756,
          0.6229451769201696,
          0.6456438333291666,
          0.9608691829105367,
          0.9470992522385341,
          0.9499468410797778,
          0.9502841755102716,
          0.9637745136813186,
          0.9820513539067474,
          0.9840115404623483,
          0.9827229837188232,
          0.9852180428849473,
          0.9925391117414537,
          1.0439172728407344,
          1.0422154054436195,
          0.9847500293507379,
          0.9804801656133415,
          0.9865430682155545,
          0.9965172267822071,
          1.0104816565853072,
          1.0135450179001113,
          1.0106609604717856,
          1.045026525697781,
          1.0585958791408359,
          1.0661965404982978,
          1.0922472678698234,
          1.106761765528059,
          1.1065581492501928,
          1.1089073340679954,
          1.1023794569804983,
          1.121303614626608,
          1.1241633596635459,
          1.1255825955107799,
          1.1211607793272118,
          1.1218415262860564,
          1.1234218317262312,
          1.1340372296157213,
          1.1519402668235676,
          1.1574743749131144,
          1.162279111261034,
          1.1659290090180556,
          1.1743076668999144,
          1.1835646099206405,
          1.1962435220291339,
          1.1986869173635635,
          1.1960064762131106,
          1.1855278355251666,
          1.1964319430623878,
          1.2223975770640552,
          1.2621361807866502,
          1.2585470640080918,
          1.327287311606852,
          1.3365564108232721,
          1.3808140802949807,
          1.384825624873891,
          1.3578084799447216,
          1.3387354089013586,
          1.3534231323482289,
          1.3541433869430808,
          1.3560306363245243,
          1.3780941315085276,
          1.3889617704586599,
          1.4099555204216236,
          1.4167386776186883,
          1.433274142810995,
          1.4418321045793387,
          1.4661323397709733,
          1.4780606067953832,
          1.4792610311201317,
          1.4851659031783293,
          1.4941888394319573,
          1.50691637632322,
          1.4949546797606532,
          1.5220690742553749,
          1.5333682581526413,
          1.5468737915683008,
          1.5637526692889583,
          1.571730172712928,
          1.5779997306419324
         ]
        },
        {
         "line": {
          "color": "rgba(128, 177, 211, 1.0)",
          "dash": "solid",
          "shape": "linear",
          "width": 1.3
         },
         "mode": "lines",
         "name": "31963396000104",
         "text": "",
         "type": "scatter",
         "x": [
          "2020-09-03",
          "2020-09-04",
          "2020-09-08",
          "2020-09-09",
          "2020-09-10",
          "2020-09-11",
          "2020-09-14",
          "2020-09-15",
          "2020-09-16",
          "2020-09-17",
          "2020-09-18",
          "2020-09-21",
          "2020-09-22",
          "2020-09-23",
          "2020-09-24",
          "2020-09-25",
          "2020-09-28",
          "2020-09-29",
          "2020-09-30",
          "2020-10-01",
          "2020-10-02",
          "2020-10-05",
          "2020-10-06",
          "2020-10-07",
          "2020-10-08",
          "2020-10-09",
          "2020-10-13",
          "2020-10-14",
          "2020-10-15",
          "2020-10-16",
          "2020-10-19",
          "2020-10-20",
          "2020-10-21",
          "2020-10-22",
          "2020-10-23",
          "2020-10-26",
          "2020-10-27",
          "2020-10-28",
          "2020-10-29",
          "2020-10-30",
          "2020-11-03",
          "2020-11-04",
          "2020-11-05",
          "2020-11-06",
          "2020-11-09",
          "2020-11-10",
          "2020-11-11",
          "2020-11-12",
          "2020-11-13",
          "2020-11-16",
          "2020-11-17",
          "2020-11-18",
          "2020-11-19",
          "2020-11-20",
          "2020-11-23",
          "2020-11-24",
          "2020-11-25",
          "2020-11-26",
          "2020-11-27",
          "2020-11-30",
          "2020-12-01",
          "2020-12-02",
          "2020-12-03",
          "2020-12-04",
          "2020-12-07",
          "2020-12-08",
          "2020-12-09",
          "2020-12-10",
          "2020-12-11",
          "2020-12-14",
          "2020-12-15",
          "2020-12-16",
          "2020-12-17",
          "2020-12-18",
          "2020-12-21",
          "2020-12-22",
          "2020-12-23",
          "2020-12-24",
          "2020-12-28",
          "2020-12-29",
          "2020-12-30",
          "2020-12-31",
          "2021-01-04",
          "2021-01-05",
          "2021-01-06",
          "2021-01-07",
          "2021-01-08",
          "2021-01-11",
          "2021-01-12",
          "2021-01-13",
          "2021-01-14",
          "2021-01-15",
          "2021-01-18",
          "2021-01-19",
          "2021-01-20",
          "2021-01-21",
          "2021-01-22",
          "2021-01-25",
          "2021-01-26",
          "2021-01-27",
          "2021-01-28",
          "2021-01-29",
          "2021-02-01",
          "2021-02-02",
          "2021-02-03",
          "2021-02-04",
          "2021-02-05",
          "2021-02-08",
          "2021-02-09",
          "2021-02-10",
          "2021-02-11",
          "2021-02-12",
          "2021-02-17",
          "2021-02-18",
          "2021-02-19",
          "2021-02-22",
          "2021-02-23",
          "2021-02-24",
          "2021-02-25",
          "2021-02-26",
          "2021-03-01",
          "2021-03-02",
          "2021-03-03",
          "2021-03-04",
          "2021-03-05",
          "2021-03-08",
          "2021-03-09",
          "2021-03-10",
          "2021-03-11",
          "2021-03-12",
          "2021-03-15",
          "2021-03-16",
          "2021-03-17",
          "2021-03-18",
          "2021-03-19",
          "2021-03-22",
          "2021-03-23",
          "2021-03-24",
          "2021-03-25",
          "2021-03-26",
          "2021-03-29",
          "2021-03-30",
          "2021-03-31",
          "2021-04-01",
          "2021-04-05",
          "2021-04-06",
          "2021-04-07",
          "2021-04-08",
          "2021-04-09",
          "2021-04-12",
          "2021-04-13",
          "2021-04-14",
          "2021-04-15",
          "2021-04-16",
          "2021-04-19",
          "2021-04-20",
          "2021-04-22",
          "2021-04-23",
          "2021-04-26",
          "2021-04-27",
          "2021-04-28",
          "2021-04-29",
          "2021-04-30",
          "2021-05-03",
          "2021-05-04",
          "2021-05-05",
          "2021-05-06",
          "2021-05-07",
          "2021-05-10",
          "2021-05-11",
          "2021-05-12",
          "2021-05-13",
          "2021-05-14",
          "2021-05-17",
          "2021-05-18",
          "2021-05-19",
          "2021-05-20",
          "2021-05-21",
          "2021-05-24",
          "2021-05-25",
          "2021-05-26",
          "2021-05-27",
          "2021-05-28",
          "2021-05-31",
          "2021-06-01",
          "2021-06-02",
          "2021-06-04",
          "2021-06-07",
          "2021-06-08",
          "2021-06-09",
          "2021-06-10",
          "2021-06-11",
          "2021-06-14",
          "2021-06-15",
          "2021-06-16",
          "2021-06-17",
          "2021-06-18",
          "2021-06-21",
          "2021-06-22",
          "2021-06-23",
          "2021-06-24",
          "2021-06-25",
          "2021-06-28",
          "2021-06-29",
          "2021-06-30",
          "2021-07-01",
          "2021-07-02",
          "2021-07-05",
          "2021-07-06",
          "2021-07-07",
          "2021-07-08",
          "2021-07-09",
          "2021-07-12",
          "2021-07-13",
          "2021-07-14",
          "2021-07-15",
          "2021-07-16",
          "2021-07-19",
          "2021-07-20",
          "2021-07-21",
          "2021-07-22",
          "2021-07-23",
          "2021-07-26",
          "2021-07-27",
          "2021-07-28",
          "2021-07-29",
          "2021-07-30",
          "2021-08-02",
          "2021-08-03",
          "2021-08-04",
          "2021-08-05",
          "2021-08-06",
          "2021-08-09",
          "2021-08-10",
          "2021-08-11",
          "2021-08-12",
          "2021-08-13",
          "2021-08-16",
          "2021-08-17",
          "2021-08-18",
          "2021-08-19",
          "2021-08-20",
          "2021-08-23",
          "2021-08-24",
          "2021-08-25",
          "2021-08-26",
          "2021-08-27",
          "2021-08-30",
          "2021-08-31",
          "2021-09-01",
          "2021-09-02",
          "2021-09-03"
         ],
         "y": [
          -1.5454637262715467,
          -1.539189341873839,
          -1.5162457751825111,
          -1.5032924314418357,
          -1.4866705653167067,
          -1.4493815177072102,
          -1.4400428687831834,
          -1.4251669258659976,
          -1.421578276646688,
          -1.403005161187963,
          -1.376125236552922,
          -1.3728695368861967,
          -1.358404246220298,
          -1.3333153904952406,
          -1.3354341998383445,
          -1.3232756809096464,
          -1.2843023513392413,
          -1.2591010654523587,
          -1.2186296799419676,
          -1.1997292581434087,
          -1.1774090494149356,
          -1.196331175877933,
          -1.1886546701570904,
          -1.1933906279389492,
          -1.2006109016131583,
          -1.1853568634413378,
          -1.1677127076208538,
          -1.1588467862884346,
          -1.1636270215857616,
          -1.166303206711814,
          -1.170050299981562,
          -1.2187907285521429,
          -1.216538652569348,
          -1.2043766608943407,
          -1.1773921197766657,
          -1.17092195930567,
          -1.156282163137635,
          -1.1383758149706606,
          -1.1178193272749732,
          -1.1545757424189824,
          -1.1347589496875707,
          -1.1070334113257612,
          -1.1065815202120193,
          -1.1623655464882323,
          -1.1654497793058447,
          -1.165404199510508,
          -1.1372588929383325,
          -1.1260861998687126,
          -1.1100138958473216,
          -1.0960577966092977,
          -1.1243715313775728,
          -1.1014375147385909,
          -1.099511876909048,
          -1.099511876909048,
          -0.9358218090655392,
          -0.9358218090655392,
          -0.9398154673233855,
          -0.9390193402315492,
          -0.9390193402315492,
          -0.9164121958391149,
          -0.9244155738064955,
          -0.9157159102037253,
          -0.9131577984522581,
          -0.8949106870534986,
          -0.8879942786815113,
          -0.8780769834033841,
          -0.8679587029324953,
          -0.8536466471975807,
          -0.8461242445942948,
          -0.833451759211544,
          -0.8387685338139442,
          -0.815998170344884,
          -0.8214829390500878,
          -0.8128153983506935,
          -0.8003004888318087,
          -0.7919706727111764,
          -0.787020706937891,
          -0.7775409776949724,
          -0.768611678742374,
          -0.7799059179328788,
          -0.7150918830610385,
          -0.6964141511196987,
          -0.6836014536046287,
          -0.6668723664371387,
          -0.6507618622063257,
          -0.6146396573573855,
          -0.588496389033597,
          -0.5510975158220122,
          -0.557152249015543,
          -0.5134216910921174,
          -0.5050089631533086,
          -0.5300010160749423,
          -0.5201214869129414,
          -0.5014845597407508,
          -0.47739411858015984,
          -0.4620042092089116,
          -0.43781349249858775,
          -0.4304634249309874,
          -0.42466480677791035,
          -0.4237935815470984,
          -0.42138262742056914,
          -0.44386779159882267,
          -0.42873964048077856,
          -0.42383829315585286,
          -0.41155171670692786,
          -0.39032802762620367,
          -0.38296927819282994,
          -0.36895848320040986,
          -0.3531214577415975,
          -0.3478302946432407,
          -0.32517192724271954,
          -0.300722490932205,
          -0.2912058637597232,
          -0.28107412639688323,
          -0.26109845552173716,
          -0.2227445770745816,
          -0.21960130756968158,
          -0.19248219753245677,
          -0.1631726527594617,
          -0.1479151418413222,
          -0.12756875529746575,
          -0.10482096467942593,
          -0.07601106128194068,
          -0.10034068784472504,
          -0.10826375855365622,
          -0.07757336302868793,
          -0.06374618949746355,
          -0.050969521725374625,
          -0.05654545002125173,
          -0.03748094095949436,
          -0.03340480497675778,
          -0.026327782087881384,
          -0.022573309232218834,
          0.011762167639619488,
          0.04472590971855385,
          0.05386183707666424,
          0.07636827182607937,
          0.09811547741321186,
          0.09952107148265601,
          0.11543710192004936,
          0.1396477869216664,
          0.13063731252404612,
          0.15396635405591352,
          0.16588612167572372,
          0.16875981924821878,
          0.18726478206058678,
          0.2083395771432184,
          0.1940270873150078,
          0.22598069431067935,
          0.23860933627124817,
          0.24755165802252108,
          0.24277185681848026,
          0.2827878784688201,
          0.26568156423327755,
          0.25606118876475353,
          0.285244412390686,
          0.2802979193637099,
          0.2786027850705676,
          0.28604748497514093,
          0.29163556788310074,
          0.2914944875642186,
          0.29397229205723646,
          0.33589962645858606,
          0.36413999946103054,
          0.3932068860855325,
          0.39977949257272133,
          0.4081982978175764,
          0.4235730139237092,
          0.4421348429569144,
          0.4467483864313062,
          0.4984315334073214,
          0.5166391423167904,
          0.5608050958089837,
          0.5655297671653324,
          0.5887372625763053,
          0.6125095133561412,
          0.612465235840673,
          0.6120632654551592,
          0.6225479206618766,
          0.623256360909349,
          0.6268302509568389,
          0.625629548919752,
          0.6231434966542374,
          0.6555924040925369,
          0.6765348007220597,
          0.6800014697271789,
          0.6882205920591502,
          0.7093105804068877,
          0.7275820010298318,
          0.7524247258600868,
          0.7827522193955455,
          0.8078458501467807,
          0.8342304743391937,
          0.8513684773848259,
          0.866782261886963,
          0.9052850343322015,
          0.9349283968443629,
          0.927198497648983,
          0.9501802645497425,
          0.9670113636401202,
          0.9720051728355875,
          0.9925178171091026,
          0.9838246649056552,
          0.9980446928633241,
          1.0282028900161204,
          1.0512120047940685,
          1.0576517787348525,
          1.0764688546219294,
          1.101127957990979,
          1.1167917802275238,
          1.141218643687018,
          1.1543725385271497,
          1.173038984042989,
          1.1862332495589933,
          1.2707729175715718,
          1.29487724971741,
          1.304732903748522,
          1.3180725905163098,
          1.3509647072025681,
          1.3663815303577187,
          1.379083968177414,
          1.406968384682958,
          1.4212431083950328,
          1.4420001471901955,
          1.4556285059950993,
          1.460105744176777,
          1.5375380027702485,
          1.5582880960727925,
          1.5710986231214121,
          1.5847977391324,
          1.6134557098787694,
          1.6274191887026983,
          1.6409763562082218,
          1.6514128270598754,
          1.6692002336656921,
          1.6892714050643933,
          1.7076934560585848,
          1.7829556823008652,
          1.7919466225004883,
          1.8137372374165166,
          1.817319375236484,
          1.8240226438036269,
          1.8441602314755303,
          1.849081112998463,
          1.8569095513704212,
          1.8678157111606497,
          1.8815347954629307,
          1.8983893355909205,
          1.972210372114062,
          1.9502265856844827,
          1.96453039364691,
          1.97580032361324
         ]
        }
       ],
       "layout": {
        "legend": {
         "bgcolor": "#F5F6F9",
         "font": {
          "color": "#4D5663"
         }
        },
        "paper_bgcolor": "#F5F6F9",
        "plot_bgcolor": "#F5F6F9",
        "template": {
         "data": {
          "bar": [
           {
            "error_x": {
             "color": "#2a3f5f"
            },
            "error_y": {
             "color": "#2a3f5f"
            },
            "marker": {
             "line": {
              "color": "#E5ECF6",
              "width": 0.5
             }
            },
            "type": "bar"
           }
          ],
          "barpolar": [
           {
            "marker": {
             "line": {
              "color": "#E5ECF6",
              "width": 0.5
             }
            },
            "type": "barpolar"
           }
          ],
          "carpet": [
           {
            "aaxis": {
             "endlinecolor": "#2a3f5f",
             "gridcolor": "white",
             "linecolor": "white",
             "minorgridcolor": "white",
             "startlinecolor": "#2a3f5f"
            },
            "baxis": {
             "endlinecolor": "#2a3f5f",
             "gridcolor": "white",
             "linecolor": "white",
             "minorgridcolor": "white",
             "startlinecolor": "#2a3f5f"
            },
            "type": "carpet"
           }
          ],
          "choropleth": [
           {
            "colorbar": {
             "outlinewidth": 0,
             "ticks": ""
            },
            "type": "choropleth"
           }
          ],
          "contour": [
           {
            "colorbar": {
             "outlinewidth": 0,
             "ticks": ""
            },
            "colorscale": [
             [
              0,
              "#0d0887"
             ],
             [
              0.1111111111111111,
              "#46039f"
             ],
             [
              0.2222222222222222,
              "#7201a8"
             ],
             [
              0.3333333333333333,
              "#9c179e"
             ],
             [
              0.4444444444444444,
              "#bd3786"
             ],
             [
              0.5555555555555556,
              "#d8576b"
             ],
             [
              0.6666666666666666,
              "#ed7953"
             ],
             [
              0.7777777777777778,
              "#fb9f3a"
             ],
             [
              0.8888888888888888,
              "#fdca26"
             ],
             [
              1,
              "#f0f921"
             ]
            ],
            "type": "contour"
           }
          ],
          "contourcarpet": [
           {
            "colorbar": {
             "outlinewidth": 0,
             "ticks": ""
            },
            "type": "contourcarpet"
           }
          ],
          "heatmap": [
           {
            "colorbar": {
             "outlinewidth": 0,
             "ticks": ""
            },
            "colorscale": [
             [
              0,
              "#0d0887"
             ],
             [
              0.1111111111111111,
              "#46039f"
             ],
             [
              0.2222222222222222,
              "#7201a8"
             ],
             [
              0.3333333333333333,
              "#9c179e"
             ],
             [
              0.4444444444444444,
              "#bd3786"
             ],
             [
              0.5555555555555556,
              "#d8576b"
             ],
             [
              0.6666666666666666,
              "#ed7953"
             ],
             [
              0.7777777777777778,
              "#fb9f3a"
             ],
             [
              0.8888888888888888,
              "#fdca26"
             ],
             [
              1,
              "#f0f921"
             ]
            ],
            "type": "heatmap"
           }
          ],
          "heatmapgl": [
           {
            "colorbar": {
             "outlinewidth": 0,
             "ticks": ""
            },
            "colorscale": [
             [
              0,
              "#0d0887"
             ],
             [
              0.1111111111111111,
              "#46039f"
             ],
             [
              0.2222222222222222,
              "#7201a8"
             ],
             [
              0.3333333333333333,
              "#9c179e"
             ],
             [
              0.4444444444444444,
              "#bd3786"
             ],
             [
              0.5555555555555556,
              "#d8576b"
             ],
             [
              0.6666666666666666,
              "#ed7953"
             ],
             [
              0.7777777777777778,
              "#fb9f3a"
             ],
             [
              0.8888888888888888,
              "#fdca26"
             ],
             [
              1,
              "#f0f921"
             ]
            ],
            "type": "heatmapgl"
           }
          ],
          "histogram": [
           {
            "marker": {
             "colorbar": {
              "outlinewidth": 0,
              "ticks": ""
             }
            },
            "type": "histogram"
           }
          ],
          "histogram2d": [
           {
            "colorbar": {
             "outlinewidth": 0,
             "ticks": ""
            },
            "colorscale": [
             [
              0,
              "#0d0887"
             ],
             [
              0.1111111111111111,
              "#46039f"
             ],
             [
              0.2222222222222222,
              "#7201a8"
             ],
             [
              0.3333333333333333,
              "#9c179e"
             ],
             [
              0.4444444444444444,
              "#bd3786"
             ],
             [
              0.5555555555555556,
              "#d8576b"
             ],
             [
              0.6666666666666666,
              "#ed7953"
             ],
             [
              0.7777777777777778,
              "#fb9f3a"
             ],
             [
              0.8888888888888888,
              "#fdca26"
             ],
             [
              1,
              "#f0f921"
             ]
            ],
            "type": "histogram2d"
           }
          ],
          "histogram2dcontour": [
           {
            "colorbar": {
             "outlinewidth": 0,
             "ticks": ""
            },
            "colorscale": [
             [
              0,
              "#0d0887"
             ],
             [
              0.1111111111111111,
              "#46039f"
             ],
             [
              0.2222222222222222,
              "#7201a8"
             ],
             [
              0.3333333333333333,
              "#9c179e"
             ],
             [
              0.4444444444444444,
              "#bd3786"
             ],
             [
              0.5555555555555556,
              "#d8576b"
             ],
             [
              0.6666666666666666,
              "#ed7953"
             ],
             [
              0.7777777777777778,
              "#fb9f3a"
             ],
             [
              0.8888888888888888,
              "#fdca26"
             ],
             [
              1,
              "#f0f921"
             ]
            ],
            "type": "histogram2dcontour"
           }
          ],
          "mesh3d": [
           {
            "colorbar": {
             "outlinewidth": 0,
             "ticks": ""
            },
            "type": "mesh3d"
           }
          ],
          "parcoords": [
           {
            "line": {
             "colorbar": {
              "outlinewidth": 0,
              "ticks": ""
             }
            },
            "type": "parcoords"
           }
          ],
          "pie": [
           {
            "automargin": true,
            "type": "pie"
           }
          ],
          "scatter": [
           {
            "marker": {
             "colorbar": {
              "outlinewidth": 0,
              "ticks": ""
             }
            },
            "type": "scatter"
           }
          ],
          "scatter3d": [
           {
            "line": {
             "colorbar": {
              "outlinewidth": 0,
              "ticks": ""
             }
            },
            "marker": {
             "colorbar": {
              "outlinewidth": 0,
              "ticks": ""
             }
            },
            "type": "scatter3d"
           }
          ],
          "scattercarpet": [
           {
            "marker": {
             "colorbar": {
              "outlinewidth": 0,
              "ticks": ""
             }
            },
            "type": "scattercarpet"
           }
          ],
          "scattergeo": [
           {
            "marker": {
             "colorbar": {
              "outlinewidth": 0,
              "ticks": ""
             }
            },
            "type": "scattergeo"
           }
          ],
          "scattergl": [
           {
            "marker": {
             "colorbar": {
              "outlinewidth": 0,
              "ticks": ""
             }
            },
            "type": "scattergl"
           }
          ],
          "scattermapbox": [
           {
            "marker": {
             "colorbar": {
              "outlinewidth": 0,
              "ticks": ""
             }
            },
            "type": "scattermapbox"
           }
          ],
          "scatterpolar": [
           {
            "marker": {
             "colorbar": {
              "outlinewidth": 0,
              "ticks": ""
             }
            },
            "type": "scatterpolar"
           }
          ],
          "scatterpolargl": [
           {
            "marker": {
             "colorbar": {
              "outlinewidth": 0,
              "ticks": ""
             }
            },
            "type": "scatterpolargl"
           }
          ],
          "scatterternary": [
           {
            "marker": {
             "colorbar": {
              "outlinewidth": 0,
              "ticks": ""
             }
            },
            "type": "scatterternary"
           }
          ],
          "surface": [
           {
            "colorbar": {
             "outlinewidth": 0,
             "ticks": ""
            },
            "colorscale": [
             [
              0,
              "#0d0887"
             ],
             [
              0.1111111111111111,
              "#46039f"
             ],
             [
              0.2222222222222222,
              "#7201a8"
             ],
             [
              0.3333333333333333,
              "#9c179e"
             ],
             [
              0.4444444444444444,
              "#bd3786"
             ],
             [
              0.5555555555555556,
              "#d8576b"
             ],
             [
              0.6666666666666666,
              "#ed7953"
             ],
             [
              0.7777777777777778,
              "#fb9f3a"
             ],
             [
              0.8888888888888888,
              "#fdca26"
             ],
             [
              1,
              "#f0f921"
             ]
            ],
            "type": "surface"
           }
          ],
          "table": [
           {
            "cells": {
             "fill": {
              "color": "#EBF0F8"
             },
             "line": {
              "color": "white"
             }
            },
            "header": {
             "fill": {
              "color": "#C8D4E3"
             },
             "line": {
              "color": "white"
             }
            },
            "type": "table"
           }
          ]
         },
         "layout": {
          "annotationdefaults": {
           "arrowcolor": "#2a3f5f",
           "arrowhead": 0,
           "arrowwidth": 1
          },
          "autotypenumbers": "strict",
          "coloraxis": {
           "colorbar": {
            "outlinewidth": 0,
            "ticks": ""
           }
          },
          "colorscale": {
           "diverging": [
            [
             0,
             "#8e0152"
            ],
            [
             0.1,
             "#c51b7d"
            ],
            [
             0.2,
             "#de77ae"
            ],
            [
             0.3,
             "#f1b6da"
            ],
            [
             0.4,
             "#fde0ef"
            ],
            [
             0.5,
             "#f7f7f7"
            ],
            [
             0.6,
             "#e6f5d0"
            ],
            [
             0.7,
             "#b8e186"
            ],
            [
             0.8,
             "#7fbc41"
            ],
            [
             0.9,
             "#4d9221"
            ],
            [
             1,
             "#276419"
            ]
           ],
           "sequential": [
            [
             0,
             "#0d0887"
            ],
            [
             0.1111111111111111,
             "#46039f"
            ],
            [
             0.2222222222222222,
             "#7201a8"
            ],
            [
             0.3333333333333333,
             "#9c179e"
            ],
            [
             0.4444444444444444,
             "#bd3786"
            ],
            [
             0.5555555555555556,
             "#d8576b"
            ],
            [
             0.6666666666666666,
             "#ed7953"
            ],
            [
             0.7777777777777778,
             "#fb9f3a"
            ],
            [
             0.8888888888888888,
             "#fdca26"
            ],
            [
             1,
             "#f0f921"
            ]
           ],
           "sequentialminus": [
            [
             0,
             "#0d0887"
            ],
            [
             0.1111111111111111,
             "#46039f"
            ],
            [
             0.2222222222222222,
             "#7201a8"
            ],
            [
             0.3333333333333333,
             "#9c179e"
            ],
            [
             0.4444444444444444,
             "#bd3786"
            ],
            [
             0.5555555555555556,
             "#d8576b"
            ],
            [
             0.6666666666666666,
             "#ed7953"
            ],
            [
             0.7777777777777778,
             "#fb9f3a"
            ],
            [
             0.8888888888888888,
             "#fdca26"
            ],
            [
             1,
             "#f0f921"
            ]
           ]
          },
          "colorway": [
           "#636efa",
           "#EF553B",
           "#00cc96",
           "#ab63fa",
           "#FFA15A",
           "#19d3f3",
           "#FF6692",
           "#B6E880",
           "#FF97FF",
           "#FECB52"
          ],
          "font": {
           "color": "#2a3f5f"
          },
          "geo": {
           "bgcolor": "white",
           "lakecolor": "white",
           "landcolor": "#E5ECF6",
           "showlakes": true,
           "showland": true,
           "subunitcolor": "white"
          },
          "hoverlabel": {
           "align": "left"
          },
          "hovermode": "closest",
          "mapbox": {
           "style": "light"
          },
          "paper_bgcolor": "white",
          "plot_bgcolor": "#E5ECF6",
          "polar": {
           "angularaxis": {
            "gridcolor": "white",
            "linecolor": "white",
            "ticks": ""
           },
           "bgcolor": "#E5ECF6",
           "radialaxis": {
            "gridcolor": "white",
            "linecolor": "white",
            "ticks": ""
           }
          },
          "scene": {
           "xaxis": {
            "backgroundcolor": "#E5ECF6",
            "gridcolor": "white",
            "gridwidth": 2,
            "linecolor": "white",
            "showbackground": true,
            "ticks": "",
            "zerolinecolor": "white"
           },
           "yaxis": {
            "backgroundcolor": "#E5ECF6",
            "gridcolor": "white",
            "gridwidth": 2,
            "linecolor": "white",
            "showbackground": true,
            "ticks": "",
            "zerolinecolor": "white"
           },
           "zaxis": {
            "backgroundcolor": "#E5ECF6",
            "gridcolor": "white",
            "gridwidth": 2,
            "linecolor": "white",
            "showbackground": true,
            "ticks": "",
            "zerolinecolor": "white"
           }
          },
          "shapedefaults": {
           "line": {
            "color": "#2a3f5f"
           }
          },
          "ternary": {
           "aaxis": {
            "gridcolor": "white",
            "linecolor": "white",
            "ticks": ""
           },
           "baxis": {
            "gridcolor": "white",
            "linecolor": "white",
            "ticks": ""
           },
           "bgcolor": "#E5ECF6",
           "caxis": {
            "gridcolor": "white",
            "linecolor": "white",
            "ticks": ""
           }
          },
          "title": {
           "x": 0.05
          },
          "xaxis": {
           "automargin": true,
           "gridcolor": "white",
           "linecolor": "white",
           "ticks": "",
           "title": {
            "standoff": 15
           },
           "zerolinecolor": "white",
           "zerolinewidth": 2
          },
          "yaxis": {
           "automargin": true,
           "gridcolor": "white",
           "linecolor": "white",
           "ticks": "",
           "title": {
            "standoff": 15
           },
           "zerolinecolor": "white",
           "zerolinewidth": 2
          }
         }
        },
        "title": {
         "font": {
          "color": "#4D5663"
         }
        },
        "xaxis": {
         "gridcolor": "#E1E5ED",
         "showgrid": true,
         "tickfont": {
          "color": "#4D5663"
         },
         "title": {
          "font": {
           "color": "#4D5663"
          },
          "text": ""
         },
         "zerolinecolor": "#E1E5ED"
        },
        "yaxis": {
         "gridcolor": "#E1E5ED",
         "showgrid": true,
         "tickfont": {
          "color": "#4D5663"
         },
         "title": {
          "font": {
           "color": "#4D5663"
          },
          "text": ""
         },
         "zerolinecolor": "#E1E5ED"
        }
       }
      },
      "text/html": [
       "<div>                            <div id=\"878a72d1-f5c8-42b0-9b83-f88184703e7b\" class=\"plotly-graph-div\" style=\"height:525px; width:100%;\"></div>            <script type=\"text/javascript\">                require([\"plotly\"], function(Plotly) {                    window.PLOTLYENV=window.PLOTLYENV || {};\n",
       "                    window.PLOTLYENV.BASE_URL='https://plot.ly';                                    if (document.getElementById(\"878a72d1-f5c8-42b0-9b83-f88184703e7b\")) {                    Plotly.newPlot(                        \"878a72d1-f5c8-42b0-9b83-f88184703e7b\",                        [{\"line\": {\"color\": \"rgba(255, 153, 51, 1.0)\", \"dash\": \"solid\", \"shape\": \"linear\", \"width\": 1.3}, \"mode\": \"lines\", \"name\": \"14799785000119\", \"text\": \"\", \"type\": \"scatter\", \"x\": [\"2020-09-03\", \"2020-09-04\", \"2020-09-08\", \"2020-09-09\", \"2020-09-10\", \"2020-09-11\", \"2020-09-14\", \"2020-09-15\", \"2020-09-16\", \"2020-09-17\", \"2020-09-18\", \"2020-09-21\", \"2020-09-22\", \"2020-09-23\", \"2020-09-24\", \"2020-09-25\", \"2020-09-28\", \"2020-09-29\", \"2020-09-30\", \"2020-10-01\", \"2020-10-02\", \"2020-10-05\", \"2020-10-06\", \"2020-10-07\", \"2020-10-08\", \"2020-10-09\", \"2020-10-13\", \"2020-10-14\", \"2020-10-15\", \"2020-10-16\", \"2020-10-19\", \"2020-10-20\", \"2020-10-21\", \"2020-10-22\", \"2020-10-23\", \"2020-10-26\", \"2020-10-27\", \"2020-10-28\", \"2020-10-29\", \"2020-10-30\", \"2020-11-03\", \"2020-11-04\", \"2020-11-05\", \"2020-11-06\", \"2020-11-09\", \"2020-11-10\", \"2020-11-11\", \"2020-11-12\", \"2020-11-13\", \"2020-11-16\", \"2020-11-17\", \"2020-11-18\", \"2020-11-19\", \"2020-11-20\", \"2020-11-23\", \"2020-11-24\", \"2020-11-25\", \"2020-11-26\", \"2020-11-27\", \"2020-11-30\", \"2020-12-01\", \"2020-12-02\", \"2020-12-03\", \"2020-12-04\", \"2020-12-07\", \"2020-12-08\", \"2020-12-09\", \"2020-12-10\", \"2020-12-11\", \"2020-12-14\", \"2020-12-15\", \"2020-12-16\", \"2020-12-17\", \"2020-12-18\", \"2020-12-21\", \"2020-12-22\", \"2020-12-23\", \"2020-12-24\", \"2020-12-28\", \"2020-12-29\", \"2020-12-30\", \"2020-12-31\", \"2021-01-04\", \"2021-01-05\", \"2021-01-06\", \"2021-01-07\", \"2021-01-08\", \"2021-01-11\", \"2021-01-12\", \"2021-01-13\", \"2021-01-14\", \"2021-01-15\", \"2021-01-18\", \"2021-01-19\", \"2021-01-20\", \"2021-01-21\", \"2021-01-22\", \"2021-01-25\", \"2021-01-26\", \"2021-01-27\", \"2021-01-28\", \"2021-01-29\", \"2021-02-01\", \"2021-02-02\", \"2021-02-03\", \"2021-02-04\", \"2021-02-05\", \"2021-02-08\", \"2021-02-09\", \"2021-02-10\", \"2021-02-11\", \"2021-02-12\", \"2021-02-17\", \"2021-02-18\", \"2021-02-19\", \"2021-02-22\", \"2021-02-23\", \"2021-02-24\", \"2021-02-25\", \"2021-02-26\", \"2021-03-01\", \"2021-03-02\", \"2021-03-03\", \"2021-03-04\", \"2021-03-05\", \"2021-03-08\", \"2021-03-09\", \"2021-03-10\", \"2021-03-11\", \"2021-03-12\", \"2021-03-15\", \"2021-03-16\", \"2021-03-17\", \"2021-03-18\", \"2021-03-19\", \"2021-03-22\", \"2021-03-23\", \"2021-03-24\", \"2021-03-25\", \"2021-03-26\", \"2021-03-29\", \"2021-03-30\", \"2021-03-31\", \"2021-04-01\", \"2021-04-05\", \"2021-04-06\", \"2021-04-07\", \"2021-04-08\", \"2021-04-09\", \"2021-04-12\", \"2021-04-13\", \"2021-04-14\", \"2021-04-15\", \"2021-04-16\", \"2021-04-19\", \"2021-04-20\", \"2021-04-22\", \"2021-04-23\", \"2021-04-26\", \"2021-04-27\", \"2021-04-28\", \"2021-04-29\", \"2021-04-30\", \"2021-05-03\", \"2021-05-04\", \"2021-05-05\", \"2021-05-06\", \"2021-05-07\", \"2021-05-10\", \"2021-05-11\", \"2021-05-12\", \"2021-05-13\", \"2021-05-14\", \"2021-05-17\", \"2021-05-18\", \"2021-05-19\", \"2021-05-20\", \"2021-05-21\", \"2021-05-24\", \"2021-05-25\", \"2021-05-26\", \"2021-05-27\", \"2021-05-28\", \"2021-05-31\", \"2021-06-01\", \"2021-06-02\", \"2021-06-04\", \"2021-06-07\", \"2021-06-08\", \"2021-06-09\", \"2021-06-10\", \"2021-06-11\", \"2021-06-14\", \"2021-06-15\", \"2021-06-16\", \"2021-06-17\", \"2021-06-18\", \"2021-06-21\", \"2021-06-22\", \"2021-06-23\", \"2021-06-24\", \"2021-06-25\", \"2021-06-28\", \"2021-06-29\", \"2021-06-30\", \"2021-07-01\", \"2021-07-02\", \"2021-07-05\", \"2021-07-06\", \"2021-07-07\", \"2021-07-08\", \"2021-07-09\", \"2021-07-12\", \"2021-07-13\", \"2021-07-14\", \"2021-07-15\", \"2021-07-16\", \"2021-07-19\", \"2021-07-20\", \"2021-07-21\", \"2021-07-22\", \"2021-07-23\", \"2021-07-26\", \"2021-07-27\", \"2021-07-28\", \"2021-07-29\", \"2021-07-30\", \"2021-08-02\", \"2021-08-03\", \"2021-08-04\", \"2021-08-05\", \"2021-08-06\", \"2021-08-09\", \"2021-08-10\", \"2021-08-11\", \"2021-08-12\", \"2021-08-13\", \"2021-08-16\", \"2021-08-17\", \"2021-08-18\", \"2021-08-19\", \"2021-08-20\", \"2021-08-23\", \"2021-08-24\", \"2021-08-25\", \"2021-08-26\", \"2021-08-27\", \"2021-08-30\", \"2021-08-31\", \"2021-09-01\", \"2021-09-02\", \"2021-09-03\"], \"y\": [-1.8291016045628479, -1.7434045379809844, -1.5982440755036194, -1.369899890790639, -1.8134673348094006, -1.9968923913164298, -1.4535928259979607, -1.367781237623263, -1.5391958211071408, -1.8101809683615457, -1.7417501070809802, -1.9230646905486977, -1.7878430836634538, -1.8988699167811276, -1.7983095575154031, -1.6890925777308705, -2.1198356259845714, -2.040881029955635, -1.8303449840278698, -1.5417316608055425, -1.7769205676721969, -1.9331323831577518, -1.8594478346310603, -1.926612821094441, -1.726068801591187, -1.3341465960751933, -0.9550467412922393, -1.021050149571194, -0.6210950583009054, -0.5559342032120662, -0.5755276549462482, -0.2512203429368994, -0.4065916502643594, -0.6463655189082825, -0.703505758434923, -0.8791167476132504, -0.7562021433933148, -1.1515354623100642, -1.1263917936876084, -1.6180604357274173, -1.46200404267499, -0.5189088985833922, 0.16528723746150442, 0.12028017287890455, -0.01792309068397288, -0.5238312906431113, -0.3613248666158731, -0.45765609967490967, -0.3309479610674427, -0.557731786353111, -0.5589465353699268, -0.5963849364655945, -0.423986692582581, -0.30515601729629016, -0.4366249904342959, -0.6511181733107754, -0.16006917597145684, -0.18552368946016812, -0.12260827952362639, -0.07051108894557385, -0.3136531253179477, -0.3146102003008885, -0.2551795249176342, -0.2933929931469291, -0.5846484977324374, -0.46454376750088855, -0.7671553348647987, -0.9096531656588407, -0.8664477742813177, -0.5901107782440717, -0.2971824374704285, -0.10071007670871376, 0.0805738312787767, 0.03633160866972849, -0.19176921723349377, -0.14665376595411223, -0.0539299693692524, -0.05778689974924, -0.042483925182199546, 0.08889711157917579, 0.314519358680409, 0.3099773425754451, 0.2577492699484572, -0.03370869280651579, -1.5629836335037517, -1.6010478143959717, -0.5797547361209245, -0.4807506462184983, -0.25625316672542076, -0.056874815470624715, -0.024144078073115204, 0.29253730955289803, 0.4172760823300642, 0.5148977305904598, 0.8595633363075424, 0.8405690789537087, 0.7186135947487344, 0.7221167345901525, 0.452818738747981, 0.11750915449879976, 0.5616573876097699, 0.2708538350995463, 0.47435497089626, 0.89499965106068, 1.196234911878603, 1.1014763084389838, 1.3012248104884685, 1.3188243560081845, 1.3909710404597175, 1.1085050834739918, 1.3971327219204268, 1.413298699997734, 1.1064211958508747, 1.1755330527923846, 1.2131575518014068, 1.3256956635780441, 0.886418696726415, 0.610308699242817, 0.25004767938056915, 0.2339103317514682, 0.6153415230313384, 0.5513626964470676, 0.40934749320852803, 0.16997649587153194, 0.31714722481948227, -0.8305042915884944, -0.6011519060921859, -0.5181276963537214, 0.5101062205796942, 0.048409567749377075, -0.08246430107231248, 0.10204257737056742, 0.3262639775416302, -0.8249458945721565, -0.6500711169191745, -0.5037449861933512, -0.7382692576551896, -1.301820775016613, -0.8949371152800523, -1.0735338512000454, -1.1317906782067864, -0.7285389953285766, -0.476523565043822, -0.29172015695878517, 0.11913290991857707, 0.4559210523144926, 0.7362601760047874, 1.1358389813843437, 1.0970733545110376, 1.1545776097363232, 1.359698410888782, 0.9045479055379705, 1.192208243841389, 1.1094028525285085, 0.761915102630952, 0.6147545988430773, 0.4890362557307985, 0.7445180152807098, 0.5692444563848328, 0.3772588958636808, 0.6330515002798476, 0.6315749871651339, 0.423936751602404, 0.7108956439247271, 0.37608709251917904, 0.26011741702163493, -0.21429933494098397, 0.3897724467624858, -0.15440648232236936, -0.3604864034897896, -1.4201442823632364, -0.8847262704299573, -0.11932804817181523, -0.053762276744037524, -0.18791637691752916, -0.5699631228338669, -0.07316758553285341, -0.2725807023318993, 0.0711462336903641, 0.17974561380641785, 0.19209760717605148, 0.10778093720420728, 0.33189599571049994, 0.42587135188843683, 0.23624166824838455, 0.09365999114173512, 0.11147631005502356, 0.21144565506845475, 0.11584654347073144, 0.14278779523423202, 0.3435444980670266, 0.24547907785941953, 0.4448226635699566, 0.5051960987120622, 0.4693057868516194, 0.9418288391684989, 0.9558966143985814, 0.9699132638282949, 1.1132393325883447, 0.9425282401175739, 1.3470764732931955, 1.3088405097117377, 1.442618323994497, 1.4544488342003463, 1.3177486691683773, 1.2268633563648648, 1.6964988234767846, 1.719075976920621, 1.709713820356685, 2.2107752944406567, 2.11717213408942, 2.1231129520925247, 1.9947769680012573, 2.095519335116295, 2.031066061104586, 2.030423921051924, 2.1546105351850877, 1.6882062186566125, 1.7745761007713559, 1.7237570552025934, 1.8743000419430083, 2.0620871517376904, 1.4759973365407124, 1.0064518508374436, 0.9451254307764202, 1.1965846123531405, 0.5619886827961768, 0.7080530494241021, 0.4924023784272195, 0.22329457056243468, 0.2908092575003529, 0.03719665721200678, 0.10329004689961245, -0.039682231321867864, -0.07643759172457985, 0.07278634936626059, -0.001865499303447316, -0.550120177193874, -1.0405556649287364, -1.32470059319865, -0.994607885619315, -0.7940986316603107, -0.9803601475719306, -0.42343453393857877, -0.15332466038651862, -0.5854194748020235, -0.4185469074231095, -0.43033447195664476, -0.5620652091925575, -0.4860104685606587, -0.7147984252208688, -0.36693438943258]}, {\"line\": {\"color\": \"rgba(55, 128, 191, 1.0)\", \"dash\": \"solid\", \"shape\": \"linear\", \"width\": 1.3}, \"mode\": \"lines\", \"name\": \"22232929000189\", \"text\": \"\", \"type\": \"scatter\", \"x\": [\"2020-09-03\", \"2020-09-04\", \"2020-09-08\", \"2020-09-09\", \"2020-09-10\", \"2020-09-11\", \"2020-09-14\", \"2020-09-15\", \"2020-09-16\", \"2020-09-17\", \"2020-09-18\", \"2020-09-21\", \"2020-09-22\", \"2020-09-23\", \"2020-09-24\", \"2020-09-25\", \"2020-09-28\", \"2020-09-29\", \"2020-09-30\", \"2020-10-01\", \"2020-10-02\", \"2020-10-05\", \"2020-10-06\", \"2020-10-07\", \"2020-10-08\", \"2020-10-09\", \"2020-10-13\", \"2020-10-14\", \"2020-10-15\", \"2020-10-16\", \"2020-10-19\", \"2020-10-20\", \"2020-10-21\", \"2020-10-22\", \"2020-10-23\", \"2020-10-26\", \"2020-10-27\", \"2020-10-28\", \"2020-10-29\", \"2020-10-30\", \"2020-11-03\", \"2020-11-04\", \"2020-11-05\", \"2020-11-06\", \"2020-11-09\", \"2020-11-10\", \"2020-11-11\", \"2020-11-12\", \"2020-11-13\", \"2020-11-16\", \"2020-11-17\", \"2020-11-18\", \"2020-11-19\", \"2020-11-20\", \"2020-11-23\", \"2020-11-24\", \"2020-11-25\", \"2020-11-26\", \"2020-11-27\", \"2020-11-30\", \"2020-12-01\", \"2020-12-02\", \"2020-12-03\", \"2020-12-04\", \"2020-12-07\", \"2020-12-08\", \"2020-12-09\", \"2020-12-10\", \"2020-12-11\", \"2020-12-14\", \"2020-12-15\", \"2020-12-16\", \"2020-12-17\", \"2020-12-18\", \"2020-12-21\", \"2020-12-22\", \"2020-12-23\", \"2020-12-24\", \"2020-12-28\", \"2020-12-29\", \"2020-12-30\", \"2020-12-31\", \"2021-01-04\", \"2021-01-05\", \"2021-01-06\", \"2021-01-07\", \"2021-01-08\", \"2021-01-11\", \"2021-01-12\", \"2021-01-13\", \"2021-01-14\", \"2021-01-15\", \"2021-01-18\", \"2021-01-19\", \"2021-01-20\", \"2021-01-21\", \"2021-01-22\", \"2021-01-25\", \"2021-01-26\", \"2021-01-27\", \"2021-01-28\", \"2021-01-29\", \"2021-02-01\", \"2021-02-02\", \"2021-02-03\", \"2021-02-04\", \"2021-02-05\", \"2021-02-08\", \"2021-02-09\", \"2021-02-10\", \"2021-02-11\", \"2021-02-12\", \"2021-02-17\", \"2021-02-18\", \"2021-02-19\", \"2021-02-22\", \"2021-02-23\", \"2021-02-24\", \"2021-02-25\", \"2021-02-26\", \"2021-03-01\", \"2021-03-02\", \"2021-03-03\", \"2021-03-04\", \"2021-03-05\", \"2021-03-08\", \"2021-03-09\", \"2021-03-10\", \"2021-03-11\", \"2021-03-12\", \"2021-03-15\", \"2021-03-16\", \"2021-03-17\", \"2021-03-18\", \"2021-03-19\", \"2021-03-22\", \"2021-03-23\", \"2021-03-24\", \"2021-03-25\", \"2021-03-26\", \"2021-03-29\", \"2021-03-30\", \"2021-03-31\", \"2021-04-01\", \"2021-04-05\", \"2021-04-06\", \"2021-04-07\", \"2021-04-08\", \"2021-04-09\", \"2021-04-12\", \"2021-04-13\", \"2021-04-14\", \"2021-04-15\", \"2021-04-16\", \"2021-04-19\", \"2021-04-20\", \"2021-04-22\", \"2021-04-23\", \"2021-04-26\", \"2021-04-27\", \"2021-04-28\", \"2021-04-29\", \"2021-04-30\", \"2021-05-03\", \"2021-05-04\", \"2021-05-05\", \"2021-05-06\", \"2021-05-07\", \"2021-05-10\", \"2021-05-11\", \"2021-05-12\", \"2021-05-13\", \"2021-05-14\", \"2021-05-17\", \"2021-05-18\", \"2021-05-19\", \"2021-05-20\", \"2021-05-21\", \"2021-05-24\", \"2021-05-25\", \"2021-05-26\", \"2021-05-27\", \"2021-05-28\", \"2021-05-31\", \"2021-06-01\", \"2021-06-02\", \"2021-06-04\", \"2021-06-07\", \"2021-06-08\", \"2021-06-09\", \"2021-06-10\", \"2021-06-11\", \"2021-06-14\", \"2021-06-15\", \"2021-06-16\", \"2021-06-17\", \"2021-06-18\", \"2021-06-21\", \"2021-06-22\", \"2021-06-23\", \"2021-06-24\", \"2021-06-25\", \"2021-06-28\", \"2021-06-29\", \"2021-06-30\", \"2021-07-01\", \"2021-07-02\", \"2021-07-05\", \"2021-07-06\", \"2021-07-07\", \"2021-07-08\", \"2021-07-09\", \"2021-07-12\", \"2021-07-13\", \"2021-07-14\", \"2021-07-15\", \"2021-07-16\", \"2021-07-19\", \"2021-07-20\", \"2021-07-21\", \"2021-07-22\", \"2021-07-23\", \"2021-07-26\", \"2021-07-27\", \"2021-07-28\", \"2021-07-29\", \"2021-07-30\", \"2021-08-02\", \"2021-08-03\", \"2021-08-04\", \"2021-08-05\", \"2021-08-06\", \"2021-08-09\", \"2021-08-10\", \"2021-08-11\", \"2021-08-12\", \"2021-08-13\", \"2021-08-16\", \"2021-08-17\", \"2021-08-18\", \"2021-08-19\", \"2021-08-20\", \"2021-08-23\", \"2021-08-24\", \"2021-08-25\", \"2021-08-26\", \"2021-08-27\", \"2021-08-30\", \"2021-08-31\", \"2021-09-01\", \"2021-09-02\", \"2021-09-03\"], \"y\": [-1.0946895771987395, -1.0829540540791527, -1.1011615394282082, -1.1441435151577644, -0.8735340287071477, -0.8992996797367726, -1.0114185051288163, -1.0048741293359391, -1.0511192412665127, -1.0601256782152062, -1.0427192679113422, -1.0608452880015677, -1.1153545978559158, -1.1101589246814807, -1.0821122464045514, -1.113354173166805, -0.9723830686049251, -0.9326053930561145, -1.026693241159909, -1.3254535003848524, -1.3608456294998503, -1.5454504318619346, -1.4938240870007187, -1.4829303715557332, -1.5253556680165972, -1.3635430347367448, -1.1676869749603467, -1.1111003010057738, -1.1343405290115949, -1.1086337140022322, -1.1575626536265538, -1.2303880691750702, -1.1449355385075246, -1.075210328642356, -1.1015055038543895, -1.0905710557799941, -1.025312857607468, -0.8361188456644814, -0.9989905273091512, -0.9177651384054641, -0.8604814839031074, -1.1075972948759725, -1.1646365536018397, -1.2708310443376758, -1.2756918047813506, -1.1974172685864886, -1.2445222915825056, -1.1444467469545256, -1.2220786127741605, -1.3621717028797349, -1.3377547544685522, -1.2422322126397702, -1.198087094047999, -1.19406361543122, -1.174063894387849, -1.0987718918357907, -1.0722142174564055, -1.0211219226253037, -1.148488328962167, -0.9356060300897805, -1.002937066514816, -1.0224660993960404, -1.0896613603896896, -1.0581795636986522, -1.0923994982560041, -1.0553961673552121, -1.0016788808506245, -0.993328691820295, -0.9470518989557426, -1.0084133422474448, -0.9433452296788616, -0.9195392707089275, -0.9225082268086048, -0.9370090428807792, -0.9131985580631398, -0.9222819344229575, -0.880884005392922, -0.8791777608051518, -0.8488681586717602, -1.2265003659896774, -0.8096200073053684, -0.808162684341803, -0.7727388742928163, -0.6924458100179913, -0.6249201621413075, -0.6064592293203215, -0.5884146744889356, -0.6164341976795915, -0.6915768472571169, -0.6473819443405049, -0.6426886402622052, -0.5905644521525693, -0.598018523335741, -0.5490126443002952, -0.6412086880600821, -0.6511791305716367, -0.6296587246967226, -0.6283417030122691, -0.5970907245545944, -0.5873918329058125, -0.6600135853072495, -0.6360311182765093, -0.6598189738555911, -0.6234899942640254, -0.6344515974247043, -0.594402371013121, -0.45072028367120986, -0.425511311910267, -0.39745558193790664, -0.38559333508236454, -0.3493639241404708, -0.3280064487832263, -0.2818156470252192, -0.22629254728317935, -0.2219160525447878, -0.21443935212305834, -0.21627232044678382, -0.028354597558840802, -0.03416578602221992, -0.11054851787309442, -0.07692599521384433, -0.09416947500004885, -0.0623980240553865, -0.07143614193807886, -0.04612760152745402, 0.08184979425063767, 0.11684364876689772, 0.10555165872317421, 0.019832103040561433, -0.005014800903337833, -0.015876835414334628, -0.003027953757363778, -0.061832293091273444, -0.01844751691527392, 0.023968727850169118, 0.03925704142439844, 0.033364387702179484, 0.06710005655424817, 0.06331644786625297, 0.12482724413247821, 0.18019193920457408, 0.12162746979944826, 0.1324849784627295, 0.14816704078798118, 0.143876537156135, 0.10430705060211945, 0.14772350771211784, 0.19065117326911737, 0.18196607150802746, 0.23698680215394194, 0.3350347670065279, 0.3397144935416809, 0.2910933115618364, 0.3135596196087493, 0.3077574828407912, 0.3328171016272011, 0.361999767680082, 0.3363789437772646, 0.34629055026854705, 0.36799651589968846, 0.37189327078051226, 0.4044476933795038, 0.4109106039135514, 0.3974462069676265, 0.3377231205480013, 0.3731424047492725, 0.3587773641084843, 0.36649393445899764, 0.44946177473215937, 0.484310802121602, 0.5325065544164354, 0.5626305967935995, 0.5334705599792863, 0.541621611710252, 0.5675547191052519, 0.6368907060671036, 0.6659511742317348, 0.663027476609193, 0.7147895969018055, 0.7443795892488354, 0.740777014469362, 0.7439224786298354, 0.7991876050522393, 0.8202690036989955, 0.8554257887329252, 0.9358319992005687, 0.9351350186527848, 0.9559131855027696, 0.9695450388140696, 0.9673318992824583, 1.0272179162197532, 0.9768633345658551, 1.0253261118757455, 0.9995016248258587, 1.0096802563322083, 1.027684078534174, 1.0585956184133931, 1.128316302430846, 1.2035042104854967, 1.1199615875528008, 1.058844540037598, 1.0966353684404346, 1.0664886968247127, 1.0058649667102142, 1.061238713477731, 1.0490370280437131, 0.9964421517719306, 0.9649015190606209, 0.9657433267352222, 0.9690336180225131, 1.0421667912155066, 1.0503631014235977, 1.0313816961156341, 1.0753503066465988, 0.97802647742808, 0.9494050164915966, 0.9857339960831722, 1.0230224553898735, 1.0633115517302505, 1.13312727854967, 1.1444871563090866, 1.154140789480733, 1.268671891703762, 1.2996467934509586, 1.2993209324156194, 1.2502245364259226, 1.26491543810204, 1.3491957742119498, 1.3856605292349018, 1.2922560841357644, 1.3919378800127118, 1.315260968060507, 1.3089700397395603, 1.3627371105689887, 1.4065382647345785, 1.4733895613020462, 1.587146743566167, 1.7366400193714573, 1.7672935859310301, 1.8380687924655952, 1.9825836357866864, 2.064619151430986, 2.1472520789733873, 2.0333229144961757, 2.103668165498014, 2.105487556278603, 2.0082542440143447, 2.0734400286234522, 2.2406565240725245, 2.1789918489840607, 2.1695961891320503, 2.2369543806433594]}, {\"line\": {\"color\": \"rgba(50, 171, 96, 1.0)\", \"dash\": \"solid\", \"shape\": \"linear\", \"width\": 1.3}, \"mode\": \"lines\", \"name\": \"20584638000124\", \"text\": \"\", \"type\": \"scatter\", \"x\": [\"2020-09-03\", \"2020-09-04\", \"2020-09-08\", \"2020-09-09\", \"2020-09-10\", \"2020-09-11\", \"2020-09-14\", \"2020-09-15\", \"2020-09-16\", \"2020-09-17\", \"2020-09-18\", \"2020-09-21\", \"2020-09-22\", \"2020-09-23\", \"2020-09-24\", \"2020-09-25\", \"2020-09-28\", \"2020-09-29\", \"2020-09-30\", \"2020-10-01\", \"2020-10-02\", \"2020-10-05\", \"2020-10-06\", \"2020-10-07\", \"2020-10-08\", \"2020-10-09\", \"2020-10-13\", \"2020-10-14\", \"2020-10-15\", \"2020-10-16\", \"2020-10-19\", \"2020-10-20\", \"2020-10-21\", \"2020-10-22\", \"2020-10-23\", \"2020-10-26\", \"2020-10-27\", \"2020-10-28\", \"2020-10-29\", \"2020-10-30\", \"2020-11-03\", \"2020-11-04\", \"2020-11-05\", \"2020-11-06\", \"2020-11-09\", \"2020-11-10\", \"2020-11-11\", \"2020-11-12\", \"2020-11-13\", \"2020-11-16\", \"2020-11-17\", \"2020-11-18\", \"2020-11-19\", \"2020-11-20\", \"2020-11-23\", \"2020-11-24\", \"2020-11-25\", \"2020-11-26\", \"2020-11-27\", \"2020-11-30\", \"2020-12-01\", \"2020-12-02\", \"2020-12-03\", \"2020-12-04\", \"2020-12-07\", \"2020-12-08\", \"2020-12-09\", \"2020-12-10\", \"2020-12-11\", \"2020-12-14\", \"2020-12-15\", \"2020-12-16\", \"2020-12-17\", \"2020-12-18\", \"2020-12-21\", \"2020-12-22\", \"2020-12-23\", \"2020-12-24\", \"2020-12-28\", \"2020-12-29\", \"2020-12-30\", \"2020-12-31\", \"2021-01-04\", \"2021-01-05\", \"2021-01-06\", \"2021-01-07\", \"2021-01-08\", \"2021-01-11\", \"2021-01-12\", \"2021-01-13\", \"2021-01-14\", \"2021-01-15\", \"2021-01-18\", \"2021-01-19\", \"2021-01-20\", \"2021-01-21\", \"2021-01-22\", \"2021-01-25\", \"2021-01-26\", \"2021-01-27\", \"2021-01-28\", \"2021-01-29\", \"2021-02-01\", \"2021-02-02\", \"2021-02-03\", \"2021-02-04\", \"2021-02-05\", \"2021-02-08\", \"2021-02-09\", \"2021-02-10\", \"2021-02-11\", \"2021-02-12\", \"2021-02-17\", \"2021-02-18\", \"2021-02-19\", \"2021-02-22\", \"2021-02-23\", \"2021-02-24\", \"2021-02-25\", \"2021-02-26\", \"2021-03-01\", \"2021-03-02\", \"2021-03-03\", \"2021-03-04\", \"2021-03-05\", \"2021-03-08\", \"2021-03-09\", \"2021-03-10\", \"2021-03-11\", \"2021-03-12\", \"2021-03-15\", \"2021-03-16\", \"2021-03-17\", \"2021-03-18\", \"2021-03-19\", \"2021-03-22\", \"2021-03-23\", \"2021-03-24\", \"2021-03-25\", \"2021-03-26\", \"2021-03-29\", \"2021-03-30\", \"2021-03-31\", \"2021-04-01\", \"2021-04-05\", \"2021-04-06\", \"2021-04-07\", \"2021-04-08\", \"2021-04-09\", \"2021-04-12\", \"2021-04-13\", \"2021-04-14\", \"2021-04-15\", \"2021-04-16\", \"2021-04-19\", \"2021-04-20\", \"2021-04-22\", \"2021-04-23\", \"2021-04-26\", \"2021-04-27\", \"2021-04-28\", \"2021-04-29\", \"2021-04-30\", \"2021-05-03\", \"2021-05-04\", \"2021-05-05\", \"2021-05-06\", \"2021-05-07\", \"2021-05-10\", \"2021-05-11\", \"2021-05-12\", \"2021-05-13\", \"2021-05-14\", \"2021-05-17\", \"2021-05-18\", \"2021-05-19\", \"2021-05-20\", \"2021-05-21\", \"2021-05-24\", \"2021-05-25\", \"2021-05-26\", \"2021-05-27\", \"2021-05-28\", \"2021-05-31\", \"2021-06-01\", \"2021-06-02\", \"2021-06-04\", \"2021-06-07\", \"2021-06-08\", \"2021-06-09\", \"2021-06-10\", \"2021-06-11\", \"2021-06-14\", \"2021-06-15\", \"2021-06-16\", \"2021-06-17\", \"2021-06-18\", \"2021-06-21\", \"2021-06-22\", \"2021-06-23\", \"2021-06-24\", \"2021-06-25\", \"2021-06-28\", \"2021-06-29\", \"2021-06-30\", \"2021-07-01\", \"2021-07-02\", \"2021-07-05\", \"2021-07-06\", \"2021-07-07\", \"2021-07-08\", \"2021-07-09\", \"2021-07-12\", \"2021-07-13\", \"2021-07-14\", \"2021-07-15\", \"2021-07-16\", \"2021-07-19\", \"2021-07-20\", \"2021-07-21\", \"2021-07-22\", \"2021-07-23\", \"2021-07-26\", \"2021-07-27\", \"2021-07-28\", \"2021-07-29\", \"2021-07-30\", \"2021-08-02\", \"2021-08-03\", \"2021-08-04\", \"2021-08-05\", \"2021-08-06\", \"2021-08-09\", \"2021-08-10\", \"2021-08-11\", \"2021-08-12\", \"2021-08-13\", \"2021-08-16\", \"2021-08-17\", \"2021-08-18\", \"2021-08-19\", \"2021-08-20\", \"2021-08-23\", \"2021-08-24\", \"2021-08-25\", \"2021-08-26\", \"2021-08-27\", \"2021-08-30\", \"2021-08-31\", \"2021-09-01\", \"2021-09-02\", \"2021-09-03\"], \"y\": [-1.5682831160445976, -1.5510818111905567, -1.5362063734055214, -1.5343327752047589, -1.5780072906368792, -1.5633183195957756, -1.5111598128431938, -1.5923220978495656, -1.5938697961072514, -1.5841666668138035, -1.5851605445419865, -1.639862580715871, -1.562776473301703, -1.5389170618581258, -1.5195658016522036, -1.4727307032406245, -1.4897183713303157, -1.4812275753632183, -1.4748626082015792, -1.4984963546830778, -1.4068466900201944, -1.41067973505228, -1.3683871348853012, -1.3715809748331564, -1.3626698233048145, -1.34608498921603, -1.343447975498054, -1.295154524216708, -1.2673499070906928, -1.243055057621702, -1.2438911549671472, -1.2481776938118074, -1.260766408783661, -1.219112657549713, -1.1488870531413506, -1.10610400577554, -1.0813988539226722, -1.1093008082539184, -1.0664650559050879, -1.0698807780574544, -1.0170230925151784, -1.0313170109197038, -1.0293456923813376, -0.9982600268268411, -0.9799656831134633, -0.9412341525665977, -0.9424118852631659, -0.9065901694695278, -0.9466239345424007, -0.9561908359976061, -0.9602782269567167, -0.9606656817007884, -0.9767260507538332, -0.9741936591522241, -0.9926912195089156, -0.949103275802248, -0.9708393299139325, -0.9665393598516367, -0.9349094736616543, -0.9355441351198306, -0.9604827872614283, -0.9017402102013726, -0.8460222203204311, -1.3965932693319865, -1.1611937934861625, -1.1866665861047172, -1.030942669015687, -0.9633578071205696, -0.8811879595455424, -0.8523129353508019, -0.8687284303311629, -0.8629882171485479, -0.7998509014266707, -0.7771970024741285, -0.7622428498752065, -0.6922412591824136, -0.6301991084346477, -0.5894178575168991, -0.6172411887701879, -0.5813940675234842, -0.5927628458802459, -0.5520369333059902, -0.5744290719108229, -0.5885762883937713, -0.5808332157056947, -0.5237321233889108, -0.48654118966041676, -0.49784876936740724, -0.5070661245976129, -0.49559699793899686, -0.4442524963643065, -0.4269217035638664, -0.3571140048281343, -0.33735213465318725, -0.29831332115836634, -0.3108586990033062, -0.281401669767321, -0.2681075217746529, -0.24647963510275764, -0.2221629470890504, -0.1865581165905063, -0.15309829849673698, -0.15801594807992891, -0.10884173485353073, -0.1013874846089606, -0.14585047025638334, -0.10600258373832025, -0.16541786028514788, -0.18221666030834457, -0.12841672277478935, -0.11405411575259547, -0.11140802557495658, -0.15406948507578752, -0.1399335682994653, -0.10005008284897589, -0.08072495658722167, -0.07590042435704653, -0.11217253113073111, -0.11650452242464691, -0.11810974449915781, -0.14394937286514015, -0.13975355005093365, -0.1737712628282042, -0.06483646826713184, -0.043235962068650824, -0.0901760009742019, -0.0663713882510596, -0.039372244862565846, -0.06354079555738064, 0.014779980181071371, 0.004086788294379496, 0.0161297770824411, 0.009993464394552797, 0.1028235328881085, 0.1799433937238778, 0.13167071792984894, 0.11838364979155593, 0.08160615905308607, 0.12634803807994874, 0.16512897111677943, 0.2390436329395587, 0.20617408151587505, 0.1303969593120394, 0.10748461329731204, 0.12107965510105641, 0.15577792427666473, 0.1736682036485819, 0.13876102480651184, 0.14283909107936962, 0.13850986265545057, 0.13606432877951524, 0.14551354924059712, 0.18280677931012057, 0.18545245397801485, 0.20992448327830307, 0.24013403304218764, 0.24722213825681402, 0.24650167133791864, 0.2505375390884876, 0.2926165402647228, 0.30103856127445705, 0.3249813714599681, 0.3635720927689186, 0.4239250345111181, 0.439045315461326, 0.44692982335004583, 0.4089681514195834, 0.38329893601188136, 0.4044652722991095, 0.37735825826349234, 0.4301803070997478, 0.43779076202775985, 0.4848197092265585, 0.5000314886606213, 0.47312887843903073, 0.5117212348058228, 0.5585671148858721, 0.5526822935190949, 0.5371869097963837, 0.5402122524477619, 0.5821407797373098, 0.5963638294470696, 0.5696366236969417, 0.5911613884045285, 0.6264721837009184, 0.6377388977545608, 0.6855474329732907, 0.6839860121015261, 0.6909876157417025, 0.7107723659338512, 0.7461954352014252, 0.7857292233324522, 0.8162807538062263, 0.862313627011028, 0.8653628371897821, 0.9303434728632527, 0.9541070472536699, 0.939243119628232, 0.9543122227286402, 0.9753466427657694, 1.0054477444858783, 1.0495513249952253, 1.0267140081689692, 1.0592304140819202, 1.0819146020761012, 1.0956789883844915, 1.0745054103559686, 1.0732025120936144, 1.0906823595721187, 1.1253405401515575, 1.1458853979716423, 1.1685280835572656, 1.1732334400374809, 1.1950271690604535, 1.203096373729517, 1.2043593075090029, 1.2146291381340737, 1.190996033803995, 1.1992084490335368, 1.1853903864206443, 1.2151841944003408, 1.282012963462975, 1.2859696091540076, 1.3501065118159326, 1.3716813643347459, 1.3720598397513066, 1.4623479653153126, 1.504904052623735, 1.500728427900181, 1.512091853196326, 1.5335476486822583, 1.5271618520709915, 1.5457442681518465, 1.5544543885102071, 1.6069648643952783, 1.6538339806437405, 1.6990402484725045, 1.7538952839689406, 1.7917868912429649, 1.8360424781684541, 1.8643915209867041, 1.8837171814752818, 1.9283115491459801, 1.9392433839290348, 1.8934112019316829, 1.9142924877405023, 1.8647153865508992, 1.8708172820808393, 1.9238662208234805, 1.9332267272556187, 1.9199858886237717, 1.9503819914712826]}, {\"line\": {\"color\": \"rgba(128, 0, 128, 1.0)\", \"dash\": \"solid\", \"shape\": \"linear\", \"width\": 1.3}, \"mode\": \"lines\", \"name\": \"22003346000186\", \"text\": \"\", \"type\": \"scatter\", \"x\": [\"2020-09-03\", \"2020-09-04\", \"2020-09-08\", \"2020-09-09\", \"2020-09-10\", \"2020-09-11\", \"2020-09-14\", \"2020-09-15\", \"2020-09-16\", \"2020-09-17\", \"2020-09-18\", \"2020-09-21\", \"2020-09-22\", \"2020-09-23\", \"2020-09-24\", \"2020-09-25\", \"2020-09-28\", \"2020-09-29\", \"2020-09-30\", \"2020-10-01\", \"2020-10-02\", \"2020-10-05\", \"2020-10-06\", \"2020-10-07\", \"2020-10-08\", \"2020-10-09\", \"2020-10-13\", \"2020-10-14\", \"2020-10-15\", \"2020-10-16\", \"2020-10-19\", \"2020-10-20\", \"2020-10-21\", \"2020-10-22\", \"2020-10-23\", \"2020-10-26\", \"2020-10-27\", \"2020-10-28\", \"2020-10-29\", \"2020-10-30\", \"2020-11-03\", \"2020-11-04\", \"2020-11-05\", \"2020-11-06\", \"2020-11-09\", \"2020-11-10\", \"2020-11-11\", \"2020-11-12\", \"2020-11-13\", \"2020-11-16\", \"2020-11-17\", \"2020-11-18\", \"2020-11-19\", \"2020-11-20\", \"2020-11-23\", \"2020-11-24\", \"2020-11-25\", \"2020-11-26\", \"2020-11-27\", \"2020-11-30\", \"2020-12-01\", \"2020-12-02\", \"2020-12-03\", \"2020-12-04\", \"2020-12-07\", \"2020-12-08\", \"2020-12-09\", \"2020-12-10\", \"2020-12-11\", \"2020-12-14\", \"2020-12-15\", \"2020-12-16\", \"2020-12-17\", \"2020-12-18\", \"2020-12-21\", \"2020-12-22\", \"2020-12-23\", \"2020-12-24\", \"2020-12-28\", \"2020-12-29\", \"2020-12-30\", \"2020-12-31\", \"2021-01-04\", \"2021-01-05\", \"2021-01-06\", \"2021-01-07\", \"2021-01-08\", \"2021-01-11\", \"2021-01-12\", \"2021-01-13\", \"2021-01-14\", \"2021-01-15\", \"2021-01-18\", \"2021-01-19\", \"2021-01-20\", \"2021-01-21\", \"2021-01-22\", \"2021-01-25\", \"2021-01-26\", \"2021-01-27\", \"2021-01-28\", \"2021-01-29\", \"2021-02-01\", \"2021-02-02\", \"2021-02-03\", \"2021-02-04\", \"2021-02-05\", \"2021-02-08\", \"2021-02-09\", \"2021-02-10\", \"2021-02-11\", \"2021-02-12\", \"2021-02-17\", \"2021-02-18\", \"2021-02-19\", \"2021-02-22\", \"2021-02-23\", \"2021-02-24\", \"2021-02-25\", \"2021-02-26\", \"2021-03-01\", \"2021-03-02\", \"2021-03-03\", \"2021-03-04\", \"2021-03-05\", \"2021-03-08\", \"2021-03-09\", \"2021-03-10\", \"2021-03-11\", \"2021-03-12\", \"2021-03-15\", \"2021-03-16\", \"2021-03-17\", \"2021-03-18\", \"2021-03-19\", \"2021-03-22\", \"2021-03-23\", \"2021-03-24\", \"2021-03-25\", \"2021-03-26\", \"2021-03-29\", \"2021-03-30\", \"2021-03-31\", \"2021-04-01\", \"2021-04-05\", \"2021-04-06\", \"2021-04-07\", \"2021-04-08\", \"2021-04-09\", \"2021-04-12\", \"2021-04-13\", \"2021-04-14\", \"2021-04-15\", \"2021-04-16\", \"2021-04-19\", \"2021-04-20\", \"2021-04-22\", \"2021-04-23\", \"2021-04-26\", \"2021-04-27\", \"2021-04-28\", \"2021-04-29\", \"2021-04-30\", \"2021-05-03\", \"2021-05-04\", \"2021-05-05\", \"2021-05-06\", \"2021-05-07\", \"2021-05-10\", \"2021-05-11\", \"2021-05-12\", \"2021-05-13\", \"2021-05-14\", \"2021-05-17\", \"2021-05-18\", \"2021-05-19\", \"2021-05-20\", \"2021-05-21\", \"2021-05-24\", \"2021-05-25\", \"2021-05-26\", \"2021-05-27\", \"2021-05-28\", \"2021-05-31\", \"2021-06-01\", \"2021-06-02\", \"2021-06-04\", \"2021-06-07\", \"2021-06-08\", \"2021-06-09\", \"2021-06-10\", \"2021-06-11\", \"2021-06-14\", \"2021-06-15\", \"2021-06-16\", \"2021-06-17\", \"2021-06-18\", \"2021-06-21\", \"2021-06-22\", \"2021-06-23\", \"2021-06-24\", \"2021-06-25\", \"2021-06-28\", \"2021-06-29\", \"2021-06-30\", \"2021-07-01\", \"2021-07-02\", \"2021-07-05\", \"2021-07-06\", \"2021-07-07\", \"2021-07-08\", \"2021-07-09\", \"2021-07-12\", \"2021-07-13\", \"2021-07-14\", \"2021-07-15\", \"2021-07-16\", \"2021-07-19\", \"2021-07-20\", \"2021-07-21\", \"2021-07-22\", \"2021-07-23\", \"2021-07-26\", \"2021-07-27\", \"2021-07-28\", \"2021-07-29\", \"2021-07-30\", \"2021-08-02\", \"2021-08-03\", \"2021-08-04\", \"2021-08-05\", \"2021-08-06\", \"2021-08-09\", \"2021-08-10\", \"2021-08-11\", \"2021-08-12\", \"2021-08-13\", \"2021-08-16\", \"2021-08-17\", \"2021-08-18\", \"2021-08-19\", \"2021-08-20\", \"2021-08-23\", \"2021-08-24\", \"2021-08-25\", \"2021-08-26\", \"2021-08-27\", \"2021-08-30\", \"2021-08-31\", \"2021-09-01\", \"2021-09-02\", \"2021-09-03\"], \"y\": [-1.6421410460673729, -1.6299219228242625, -1.2745899767142876, -1.155143473286402, -1.224334708626307, -1.2254994678619648, -1.2393459007907852, -1.2505260114557835, -1.2428293297665103, -1.2337390792372853, -1.2221546067715998, -1.188367219578889, -1.1909492176135517, -1.1850899164966942, -1.1795777747794478, -1.1740133619026107, -1.1646311818782522, -1.147939915744318, -1.1356986019145876, -1.1444836085966985, -1.1384147297172797, -1.1337847870993523, -1.1178287690688706, -1.103699776003711, -1.0995215351046086, -1.1032268699465544, -1.0268325701887098, -0.990210705397979, -0.98638652763655, -0.9895321665714474, -1.006379753060042, -0.9924199015773683, -1.0327934548798943, -1.0353389617276678, -1.0322110752620708, -1.0279623176099113, -1.0270105880058458, -1.0220758946649593, -1.0141622383509292, -1.0072412409451734, -1.0182379094274163, -1.006374821818567, -0.9985109710434069, -0.9985159022848706, -1.0143787198515422, -1.0127834632353905, -1.0063358650109464, -0.999670305913435, -0.9886677199414289, -0.9606888420784175, -0.9539882711664608, -0.9748784894136737, -0.9602578515737688, -0.9460972985631949, -0.9386683832858369, -0.9243322780788589, -0.909317140921205, -0.9003210771041004, -0.8929626785797993, -0.8871028843387867, -0.9481565850018421, -0.9416093756996586, -0.935354589016753, -0.9232390218445462, -0.9232266937408758, -0.9140960070315864, -0.9046640214683582, -0.9067607853421936, -0.9011445944298994, -0.8770204680254318, -0.8613001633373069, -0.862324382191006, -0.8480440000126608, -0.8512705113076977, -0.8255309101970465, -0.810570509819737, -0.8044128685938278, -0.7890767076163581, -0.7817873464726596, -0.7767352895847442, -0.7715362817009629, -0.7601007327277313, -0.756472818376883, -0.7440061468118787, -0.7333753764468574, -0.7270525386316485, -0.7168685387439667, -0.6970128949575356, -0.6812215803922096, -0.6736235235323765, -0.6575185820094414, -0.6467768587112988, -0.6775734479513291, -0.6664456084459436, -0.6519931259402252, -0.6412962769394774, -0.6324895727948909, -0.6188827982016024, -0.6168664135637625, -0.6064698771686433, -0.6006810928048318, -0.5907781736810456, -0.5846175737102602, -0.5677339891589209, -0.5568211517817047, -0.5449881447458371, -0.5289670343279286, -0.51447460876629, -0.4996917330819616, -0.4897710614888751, -0.478176233416107, -0.444024427478618, -0.4264129916860326, -0.4156372428217329, -0.3944940518869963, -0.374403681006508, -0.3488465358303233, -0.33683205910828845, -0.32608639081697044, -0.3031344205103675, -0.2826623715399558, -0.25400840671944414, -0.22326754050803557, -0.19660283849726923, -0.183273199674701, -0.16986564723686917, -0.1595810500231706, -0.15314134178506636, -0.14386321095577762, -0.13919184590948633, -0.1309423720512164, -0.12297644457757398, -0.11583354130559734, -0.11540205767680436, -0.09411290199451199, -0.08415080797307277, -0.06118157832131371, -0.050319532731255424, -0.04003444239340172, -0.036234427715191364, -0.003930357957211498, 0.0074519336081302345, 0.010455059664492028, -0.055207379278159475, -0.04243546386605202, -0.03049199702121829, -0.014540417108056444, 0.003246570880933157, 0.020011805636944525, 0.03547913763756769, 0.05267733539481553, 0.06473422079350247, 0.06566523918339157, 0.1704018493007264, 0.1807170202115508, 0.18922538424709653, 0.20764209177203646, 0.21771070060926645, 0.23018970027795202, 0.24571472780379564, 0.2627087721641011, 0.2757307015188342, 0.2966396584836468, 0.32655010363119397, 0.3443163804059962, 0.3675459796074636, 0.3828969343093575, 0.40451746941855937, 0.42299483121360676, 0.44205210700573483, 0.4531883296216373, 0.4938414843156154, 0.5084167547339813, 0.5666044178535806, 0.5829662770572038, 0.6047490500108292, 0.5956938112960606, 0.6276152167158288, 0.6388362566850354, 0.6510583386730329, 0.6644224961859133, 0.6777595318706882, 0.6835926974077504, 0.6649506321475476, 0.7364743447036334, 0.7671185585821897, 0.7896454558739289, 0.8262870456305477, 0.8484791116263461, 0.8578031030013291, 0.8781020653960794, 0.9072886042955559, 0.9098439736262679, 0.8838232917517209, 0.9050665868883301, 0.9231371212619472, 0.9482041010358301, 0.9617625494627033, 0.979961296114587, 1.0029916731605977, 1.0263401152815372, 1.0456602262441275, 1.0685135717212904, 1.0818821673515013, 1.085189057882523, 1.1086479598124397, 1.1320619874449505, 1.1470702208645527, 1.1691355539545174, 1.1910351973310271, 1.2162634287010452, 1.2378834706861028, 1.2557720422494085, 1.273550154003737, 1.2913899062764724, 1.3332758713384225, 1.3524514969258785, 1.367944471382153, 1.3841756526867668, 1.4089225948891333, 1.429423245060083, 1.4474858894473384, 1.46899547162343, 1.4843631925463248, 1.5027749688297898, 1.5187714230403466, 1.5342190300750818, 1.5640525478556646, 1.5803394521889114, 1.6009362615685583, 1.6172108377981236, 1.6409661073404935, 1.6580454621782692, 1.6748412706314064, 1.694072126123351, 1.7096923266096034, 1.730288642865106, 1.7457791517006485, 1.850297800944927, 1.8687199328354858, 1.884071380661524, 1.9015309342167794, 1.9180106500915755, 1.9364959018729737, 1.9554954821398813, 1.9768438127198376, 1.9906996150074634, 2.0093313246605726, 2.0279295018716796, 2.1320600624121275, 2.1539621714093804, 2.1720016389617167]}, {\"line\": {\"color\": \"rgba(219, 64, 82, 1.0)\", \"dash\": \"solid\", \"shape\": \"linear\", \"width\": 1.3}, \"mode\": \"lines\", \"name\": \"26841302000186\", \"text\": \"\", \"type\": \"scatter\", \"x\": [\"2020-09-03\", \"2020-09-04\", \"2020-09-08\", \"2020-09-09\", \"2020-09-10\", \"2020-09-11\", \"2020-09-14\", \"2020-09-15\", \"2020-09-16\", \"2020-09-17\", \"2020-09-18\", \"2020-09-21\", \"2020-09-22\", \"2020-09-23\", \"2020-09-24\", \"2020-09-25\", \"2020-09-28\", \"2020-09-29\", \"2020-09-30\", \"2020-10-01\", \"2020-10-02\", \"2020-10-05\", \"2020-10-06\", \"2020-10-07\", \"2020-10-08\", \"2020-10-09\", \"2020-10-13\", \"2020-10-14\", \"2020-10-15\", \"2020-10-16\", \"2020-10-19\", \"2020-10-20\", \"2020-10-21\", \"2020-10-22\", \"2020-10-23\", \"2020-10-26\", \"2020-10-27\", \"2020-10-28\", \"2020-10-29\", \"2020-10-30\", \"2020-11-03\", \"2020-11-04\", \"2020-11-05\", \"2020-11-06\", \"2020-11-09\", \"2020-11-10\", \"2020-11-11\", \"2020-11-12\", \"2020-11-13\", \"2020-11-16\", \"2020-11-17\", \"2020-11-18\", \"2020-11-19\", \"2020-11-20\", \"2020-11-23\", \"2020-11-24\", \"2020-11-25\", \"2020-11-26\", \"2020-11-27\", \"2020-11-30\", \"2020-12-01\", \"2020-12-02\", \"2020-12-03\", \"2020-12-04\", \"2020-12-07\", \"2020-12-08\", \"2020-12-09\", \"2020-12-10\", \"2020-12-11\", \"2020-12-14\", \"2020-12-15\", \"2020-12-16\", \"2020-12-17\", \"2020-12-18\", \"2020-12-21\", \"2020-12-22\", \"2020-12-23\", \"2020-12-24\", \"2020-12-28\", \"2020-12-29\", \"2020-12-30\", \"2020-12-31\", \"2021-01-04\", \"2021-01-05\", \"2021-01-06\", \"2021-01-07\", \"2021-01-08\", \"2021-01-11\", \"2021-01-12\", \"2021-01-13\", \"2021-01-14\", \"2021-01-15\", \"2021-01-18\", \"2021-01-19\", \"2021-01-20\", \"2021-01-21\", \"2021-01-22\", \"2021-01-25\", \"2021-01-26\", \"2021-01-27\", \"2021-01-28\", \"2021-01-29\", \"2021-02-01\", \"2021-02-02\", \"2021-02-03\", \"2021-02-04\", \"2021-02-05\", \"2021-02-08\", \"2021-02-09\", \"2021-02-10\", \"2021-02-11\", \"2021-02-12\", \"2021-02-17\", \"2021-02-18\", \"2021-02-19\", \"2021-02-22\", \"2021-02-23\", \"2021-02-24\", \"2021-02-25\", \"2021-02-26\", \"2021-03-01\", \"2021-03-02\", \"2021-03-03\", \"2021-03-04\", \"2021-03-05\", \"2021-03-08\", \"2021-03-09\", \"2021-03-10\", \"2021-03-11\", \"2021-03-12\", \"2021-03-15\", \"2021-03-16\", \"2021-03-17\", \"2021-03-18\", \"2021-03-19\", \"2021-03-22\", \"2021-03-23\", \"2021-03-24\", \"2021-03-25\", \"2021-03-26\", \"2021-03-29\", \"2021-03-30\", \"2021-03-31\", \"2021-04-01\", \"2021-04-05\", \"2021-04-06\", \"2021-04-07\", \"2021-04-08\", \"2021-04-09\", \"2021-04-12\", \"2021-04-13\", \"2021-04-14\", \"2021-04-15\", \"2021-04-16\", \"2021-04-19\", \"2021-04-20\", \"2021-04-22\", \"2021-04-23\", \"2021-04-26\", \"2021-04-27\", \"2021-04-28\", \"2021-04-29\", \"2021-04-30\", \"2021-05-03\", \"2021-05-04\", \"2021-05-05\", \"2021-05-06\", \"2021-05-07\", \"2021-05-10\", \"2021-05-11\", \"2021-05-12\", \"2021-05-13\", \"2021-05-14\", \"2021-05-17\", \"2021-05-18\", \"2021-05-19\", \"2021-05-20\", \"2021-05-21\", \"2021-05-24\", \"2021-05-25\", \"2021-05-26\", \"2021-05-27\", \"2021-05-28\", \"2021-05-31\", \"2021-06-01\", \"2021-06-02\", \"2021-06-04\", \"2021-06-07\", \"2021-06-08\", \"2021-06-09\", \"2021-06-10\", \"2021-06-11\", \"2021-06-14\", \"2021-06-15\", \"2021-06-16\", \"2021-06-17\", \"2021-06-18\", \"2021-06-21\", \"2021-06-22\", \"2021-06-23\", \"2021-06-24\", \"2021-06-25\", \"2021-06-28\", \"2021-06-29\", \"2021-06-30\", \"2021-07-01\", \"2021-07-02\", \"2021-07-05\", \"2021-07-06\", \"2021-07-07\", \"2021-07-08\", \"2021-07-09\", \"2021-07-12\", \"2021-07-13\", \"2021-07-14\", \"2021-07-15\", \"2021-07-16\", \"2021-07-19\", \"2021-07-20\", \"2021-07-21\", \"2021-07-22\", \"2021-07-23\", \"2021-07-26\", \"2021-07-27\", \"2021-07-28\", \"2021-07-29\", \"2021-07-30\", \"2021-08-02\", \"2021-08-03\", \"2021-08-04\", \"2021-08-05\", \"2021-08-06\", \"2021-08-09\", \"2021-08-10\", \"2021-08-11\", \"2021-08-12\", \"2021-08-13\", \"2021-08-16\", \"2021-08-17\", \"2021-08-18\", \"2021-08-19\", \"2021-08-20\", \"2021-08-23\", \"2021-08-24\", \"2021-08-25\", \"2021-08-26\", \"2021-08-27\", \"2021-08-30\", \"2021-08-31\", \"2021-09-01\", \"2021-09-02\", \"2021-09-03\"], \"y\": [-1.5370514179025345, -1.5269186035296967, -1.5167906937136733, -1.5066529747840316, -1.4965201604111937, -1.486156831868216, -1.4760093038249453, -1.4659402486906523, -1.4558025297610109, -1.4456648108313583, -1.435517282788088, -1.4253991820856935, -1.4152810813832881, -1.4050501758742255, -1.394799652137916, -1.3845981739697077, -1.3743721730174596, -1.3641510766220153, -1.3539299802265707, -1.343703979274312, -1.3335025011061146, -1.3233010229379172, -1.3130995447697198, -1.3028637347038428, -1.2926132109675224, -1.2814847715619295, -1.2708075513829982, -1.2600616674087075, -1.2493697335593545, -1.2386925133804232, -1.2279809613038122, -1.2173037411248917, -1.206621616389146, -1.192761338839468, -1.1815397128544542, -1.1703033731990078, -1.159091556327612, -1.1478650257857839, -1.1366188770166976, -1.1253874419180656, -1.1141903387171026, -1.1029441899480272, -1.0916833275085192, -1.0804224650690002, -1.0681855958239737, -1.0567089328847585, -1.045462784115683, -1.0341136396535577, -1.022754686077814, -1.0114251598429467, -0.9997866465289403, -0.9883394109305794, -0.9768725571049823, -0.9654007987225707, -0.9521388771039131, -0.9406425959374399, -0.9291463147709776, -0.917468565002477, -0.9059477610519531, -0.8944220525446037, -0.8828865349236473, -0.8713510173026799, -0.8598007860112908, -0.848103418015543, -0.8364845229287836, -0.8248705323988279, -0.8132516373120685, -0.8016621695661852, -0.7900040380249316, -0.7783851429381722, -0.7668054843058961, -0.7551865892191367, -0.7435676941323773, -0.7319733218296796, -0.7203200948452405, -0.7086962952016667, -0.6970577818876601, -0.6854339822440862, -0.6738003734868943, -0.6621618601728878, -0.6505233468588812, -0.6388750244312458, -0.6272168928899923, -0.6155636659055531, -0.6036799247509633, -0.5921983572549336, -0.5981475846674449, -0.5691469402402569, -0.5575378542671157, -0.5459189591803563, -0.5343000640935969, -0.5226909781204556, -0.5110818921473252, -0.4994629970605658, -0.48775581995118905, -0.47604864284182313, -0.46433656117564276, -0.4526195749526479, -0.440902588729653, -0.42918069794985453, -0.41745880717004513, -0.40573201183343216, -0.3940052164968192, -0.38227842116019534, -0.37054672126676785, -0.35881011681653674, -0.34694599388919406, -0.3351112983027166, -0.3232716981594355, -0.31142719345933995, -0.29957287964561535, -0.2877185658319017, -0.2758740611318061, -0.26403446098852507, -0.25217524261799684, -0.2403307379179013, -0.22835871474069414, -0.21640630979074496, -0.20439014560225088, -0.1924083133114256, -0.18064228152031842, -0.16898414997906486, -0.15732601843781127, -0.1452853314652447, -0.13336725841297523, -0.12146880358795285, -0.10956544420611598, -0.0976571802674755, -0.08574891632882413, -0.07383574783336916, -0.06199124313327358, -0.05005355185375701, -0.03813057424467304, -0.02620269207878546, -0.012455219335775753, 0.001302062520862949, 0.015064248934305257, 0.028831339904562065, 0.042657285556549275, 0.05648813576536187, 0.07032389053097808, 0.08416454985340878, 0.09800520917583949, 0.11185567761188829, 0.1257404779456277, 0.1396154691657381, 0.15349046038584852, 0.1673703561627734, 0.1812306337124512, 0.1950958158189435, 0.20896590248223942, 0.22283598914553532, 0.23669626669521313, 0.25057616247213804, 0.2644511536922484, 0.27844385427584145, 0.29239241384812575, 0.3063458779772245, 0.3202993421063233, 0.3342626153490402, 0.34823569770538615, 0.36221858917536104, 0.37620148064532505, 0.3902677495810919, 0.4041574544716349, 0.41798340012363305, 0.4318044412188166, 0.44734698175488685, 0.4630219453248614, 0.4785742949745498, 0.4943522542375743, 0.5099977904666946, 0.5255942811276807, 0.5411956763454923, 0.5567627396656132, 0.5723935622242899, 0.588083239464708, 0.603699348352952, 0.6194184529342354, 0.6352895987766809, 0.6511362218350757, 0.6670416995752009, 0.6832954008489595, 0.6996668114861896, 0.7158077079532692, 0.732203641374561, 0.7485848611254202, 0.764990603660341, 0.7814453917633633, 0.7978609434119022, 0.81428630417407, 0.8309519882199958, 0.8473184943004225, 0.863645763926344, 0.8800171745635851, 0.8964572489961747, 0.9148297188125545, 0.9330452428109685, 0.9514716627522751, 0.9699373191480759, 0.9884127846574949, 1.0069667230759023, 1.0253735247899727, 1.043834276628959, 1.068219733096395, 1.086258693049585, 1.1042829393323423, 1.1235137065907583, 1.1423373956338105, 1.1615877811194737, 1.18054389319643, 1.1994754824893359, 1.2184414036799323, 1.2374024203137033, 1.2560740680955933, 1.2750301801725608, 1.2940059104767643, 1.3129865453377934, 1.331972084755626, 1.3510606198664976, 1.3701344413069476, 1.389257308315499, 1.4083654616536287, 1.427365714741894, 1.4464346316255297, 1.4655133576227832, 1.4845969881768513, 1.503685523287734, 1.5227789629554203, 1.5418822117367355, 1.5609952696316687, 1.582923543136479, 1.6045084976644814, 1.626103261306102, 1.6474822244480154, 1.6689887060670294, 1.690500092242858, 1.7120360012027371, 1.7335375782649367, 1.7550440598839507, 1.7757854306403495, 1.797968741099372, 1.8194506999343247, 1.8409277542124736, 1.862429331274673, 1.883832817200648, 1.9052461122402409, 1.9260757650192464, 1.94721440487738, 1.9690494918027803, 1.9907276329102037, 2.01247934236979]}, {\"line\": {\"color\": \"rgba(0, 128, 128, 1.0)\", \"dash\": \"solid\", \"shape\": \"linear\", \"width\": 1.3}, \"mode\": \"lines\", \"name\": \"27826059000190\", \"text\": \"\", \"type\": \"scatter\", \"x\": [\"2020-09-03\", \"2020-09-04\", \"2020-09-08\", \"2020-09-09\", \"2020-09-10\", \"2020-09-11\", \"2020-09-14\", \"2020-09-15\", \"2020-09-16\", \"2020-09-17\", \"2020-09-18\", \"2020-09-21\", \"2020-09-22\", \"2020-09-23\", \"2020-09-24\", \"2020-09-25\", \"2020-09-28\", \"2020-09-29\", \"2020-09-30\", \"2020-10-01\", \"2020-10-02\", \"2020-10-05\", \"2020-10-06\", \"2020-10-07\", \"2020-10-08\", \"2020-10-09\", \"2020-10-13\", \"2020-10-14\", \"2020-10-15\", \"2020-10-16\", \"2020-10-19\", \"2020-10-20\", \"2020-10-21\", \"2020-10-22\", \"2020-10-23\", \"2020-10-26\", \"2020-10-27\", \"2020-10-28\", \"2020-10-29\", \"2020-10-30\", \"2020-11-03\", \"2020-11-04\", \"2020-11-05\", \"2020-11-06\", \"2020-11-09\", \"2020-11-10\", \"2020-11-11\", \"2020-11-12\", \"2020-11-13\", \"2020-11-16\", \"2020-11-17\", \"2020-11-18\", \"2020-11-19\", \"2020-11-20\", \"2020-11-23\", \"2020-11-24\", \"2020-11-25\", \"2020-11-26\", \"2020-11-27\", \"2020-11-30\", \"2020-12-01\", \"2020-12-02\", \"2020-12-03\", \"2020-12-04\", \"2020-12-07\", \"2020-12-08\", \"2020-12-09\", \"2020-12-10\", \"2020-12-11\", \"2020-12-14\", \"2020-12-15\", \"2020-12-16\", \"2020-12-17\", \"2020-12-18\", \"2020-12-21\", \"2020-12-22\", \"2020-12-23\", \"2020-12-24\", \"2020-12-28\", \"2020-12-29\", \"2020-12-30\", \"2020-12-31\", \"2021-01-04\", \"2021-01-05\", \"2021-01-06\", \"2021-01-07\", \"2021-01-08\", \"2021-01-11\", \"2021-01-12\", \"2021-01-13\", \"2021-01-14\", \"2021-01-15\", \"2021-01-18\", \"2021-01-19\", \"2021-01-20\", \"2021-01-21\", \"2021-01-22\", \"2021-01-25\", \"2021-01-26\", \"2021-01-27\", \"2021-01-28\", \"2021-01-29\", \"2021-02-01\", \"2021-02-02\", \"2021-02-03\", \"2021-02-04\", \"2021-02-05\", \"2021-02-08\", \"2021-02-09\", \"2021-02-10\", \"2021-02-11\", \"2021-02-12\", \"2021-02-17\", \"2021-02-18\", \"2021-02-19\", \"2021-02-22\", \"2021-02-23\", \"2021-02-24\", \"2021-02-25\", \"2021-02-26\", \"2021-03-01\", \"2021-03-02\", \"2021-03-03\", \"2021-03-04\", \"2021-03-05\", \"2021-03-08\", \"2021-03-09\", \"2021-03-10\", \"2021-03-11\", \"2021-03-12\", \"2021-03-15\", \"2021-03-16\", \"2021-03-17\", \"2021-03-18\", \"2021-03-19\", \"2021-03-22\", \"2021-03-23\", \"2021-03-24\", \"2021-03-25\", \"2021-03-26\", \"2021-03-29\", \"2021-03-30\", \"2021-03-31\", \"2021-04-01\", \"2021-04-05\", \"2021-04-06\", \"2021-04-07\", \"2021-04-08\", \"2021-04-09\", \"2021-04-12\", \"2021-04-13\", \"2021-04-14\", \"2021-04-15\", \"2021-04-16\", \"2021-04-19\", \"2021-04-20\", \"2021-04-22\", \"2021-04-23\", \"2021-04-26\", \"2021-04-27\", \"2021-04-28\", \"2021-04-29\", \"2021-04-30\", \"2021-05-03\", \"2021-05-04\", \"2021-05-05\", \"2021-05-06\", \"2021-05-07\", \"2021-05-10\", \"2021-05-11\", \"2021-05-12\", \"2021-05-13\", \"2021-05-14\", \"2021-05-17\", \"2021-05-18\", \"2021-05-19\", \"2021-05-20\", \"2021-05-21\", \"2021-05-24\", \"2021-05-25\", \"2021-05-26\", \"2021-05-27\", \"2021-05-28\", \"2021-05-31\", \"2021-06-01\", \"2021-06-02\", \"2021-06-04\", \"2021-06-07\", \"2021-06-08\", \"2021-06-09\", \"2021-06-10\", \"2021-06-11\", \"2021-06-14\", \"2021-06-15\", \"2021-06-16\", \"2021-06-17\", \"2021-06-18\", \"2021-06-21\", \"2021-06-22\", \"2021-06-23\", \"2021-06-24\", \"2021-06-25\", \"2021-06-28\", \"2021-06-29\", \"2021-06-30\", \"2021-07-01\", \"2021-07-02\", \"2021-07-05\", \"2021-07-06\", \"2021-07-07\", \"2021-07-08\", \"2021-07-09\", \"2021-07-12\", \"2021-07-13\", \"2021-07-14\", \"2021-07-15\", \"2021-07-16\", \"2021-07-19\", \"2021-07-20\", \"2021-07-21\", \"2021-07-22\", \"2021-07-23\", \"2021-07-26\", \"2021-07-27\", \"2021-07-28\", \"2021-07-29\", \"2021-07-30\", \"2021-08-02\", \"2021-08-03\", \"2021-08-04\", \"2021-08-05\", \"2021-08-06\", \"2021-08-09\", \"2021-08-10\", \"2021-08-11\", \"2021-08-12\", \"2021-08-13\", \"2021-08-16\", \"2021-08-17\", \"2021-08-18\", \"2021-08-19\", \"2021-08-20\", \"2021-08-23\", \"2021-08-24\", \"2021-08-25\", \"2021-08-26\", \"2021-08-27\", \"2021-08-30\", \"2021-08-31\", \"2021-09-01\", \"2021-09-02\", \"2021-09-03\"], \"y\": [-2.253617233225255, -2.2125074728629572, -2.2327521786733278, -2.1968122545750477, -2.2285037776101557, -2.22202686259643, -2.1951456106311817, -2.217844842799853, -2.2289415778685155, -2.1897726793014636, -2.2421474986584715, -2.2496106496333, -2.217798217862592, -2.2413398599147025, -2.170921189836783, -2.137172637789879, -2.1804958972924124, -2.163081088097988, -2.1291776464289827, -2.1516461246708576, -2.207648996349498, -2.166256325350924, -1.1394029316207999, -1.128886242381804, -1.0886568240553107, -1.0448033046730483, -1.0047738203995613, -0.9847851566175576, -0.9976670736061783, -1.0003152119920966, -0.9648067661268056, -0.936913990098902, -0.9382850793557151, -0.9416989730672091, -0.9606484539254612, -0.9469549469271733, -0.9453989384276555, -0.9398355560830137, -0.9133557527301516, -0.9124042879087023, -0.9116930600521491, -0.8825967284403278, -0.862859365167641, -0.8319106801160451, -0.8576800458655407, -0.8568755681344485, -0.8697345677810411, -0.8645750048082924, -0.835120688508652, -0.8153335392860103, -0.7932001283898913, -0.7961691095644329, -0.7863636481820077, -0.7924794174952381, -0.7916488614094236, -0.7688658624043136, -0.7549874361633212, -0.6295663549249967, -0.6046046279193049, -0.6058990626182366, -0.5804631837081584, -0.5533322117399495, -0.5119916974508733, -0.5098469503367578, -0.48452012636468933, -0.4768522998178221, -0.4728148963520773, -0.4338878152562599, -0.40931252205261703, -0.4036242797064948, -0.3762657148241839, -0.3748566934150233, -0.3826082867983471, -0.36972795031606465, -0.36145874110380555, -0.3409161098468575, -0.32063821340318965, -0.3090546823793639, -0.31477295434608943, -0.2872942709813481, -0.27151370535064384, -0.259586414196149, -0.2484967914060437, -0.25055540092419515, -0.2510018939674857, -0.26512292793288167, -0.2565739690970408, -0.25853616772797666, -0.24080762802346897, -0.23801724406624356, -0.32596451979562946, -0.30964184048760574, -0.2878585117475442, -0.27747221428226543, -0.2663146297192095, -0.27094314255905944, -0.2585061381073559, -0.2627648124617968, -0.22725794710284405, -0.20174383312856362, -0.18219613061761386, -0.16711889031173616, -0.1509194904988371, -0.12244587838809749, -0.10913169291330113, -0.10399188626990413, -0.08408066729895117, -0.07363273008609257, -0.06442311959682251, -0.033647499990341175, -0.006619260934753706, 0.015526003758972793, 0.0075515589805971225, 0.028862316322628232, 0.04020323962205039, 0.04512256562992046, 0.08250391151748926, 0.0830191565868996, 0.12176052818686084, 0.14087991347751583, 0.14171679158871867, 0.1438797145258474, 0.13307932439740636, 0.2098682253105672, 0.24696033853647173, 0.21752814932570783, 0.21943503023445216, 0.2245131971302868, 0.23384134559564906, 0.23562494700926873, 0.2694833442473339, 0.2870222231900871, 0.29702998938504344, 0.3092970894043441, -0.016735291814550638, -0.011653173652835119, -0.013730749247169051, -0.027926857264090662, -0.003530951530933165, 0.007996471517531826, 0.010531603699577079, 0.04743405616372708, 0.0978063739779439, 0.11117982844077758, 0.13457132238983677, 0.14041445435804278, 0.14049110891592428, 0.1775674170783405, 0.17086369940368162, 0.18968436899458987, 0.19623556780667248, 0.21644945374325303, 0.24742026588370805, 0.2811079684362187, 0.3092409814290009, 0.3063036103814008, 0.3644804685415904, 0.3609124754611819, 0.3768613650179332, 0.39673307133020047, 0.41488597698910457, 0.43370822708635115, 0.4465530021758112, 0.4443260687315951, 0.4405360145093214, 0.4606171379126773, 0.4933099117191721, 0.504472237801278, 0.5188161231617259, 0.5441405763742694, 0.5378398878183345, 0.5571923977953105, 0.5718073399944269, 0.5904272852791423, 0.5943477312751333, 0.6046557936761922, 0.2929933761724853, 0.3120692975385737, 0.31745961443811843, 0.3337206539985798, 0.375087246642396, 0.4007965531506677, 0.42462584735808656, 0.431792653392676, 0.44818171396732953, 0.472973536540636, 0.5085309781027127, 0.5150055223569139, 0.5218736126917565, 0.5526033976141462, 0.546384895388312, 0.550728126832361, 0.5706077356763549, 0.6031598444178985, 0.6191751152412621, 0.627891607749981, 0.62825196319729, 0.6584728250756577, 0.6920743900322044, 0.7188450065530867, 0.7597951357742332, 0.7793625946145346, 0.8106653130880337, 0.8399007292584856, 0.8565339780638811, 0.8719494467282087, 0.8919665596244772, 0.9053408043404801, 0.9179445522118924, 0.9496099968922432, 0.968411700406969, 0.9876480431673779, 1.0179234325147328, 1.0305295511456702, 1.0669760275284472, 1.0738393763442398, 1.114605376575851, 1.13245324450962, 1.1545684795827433, 1.171600015987795, 1.209046952888807, 1.2197114194713292, 1.2474643206874334, 1.2689378701833098, 1.298452245724157, 1.3272917450544424, 1.3271052453053995, 1.3470370108588732, 1.3624485282573375, 1.3845740366217123, 1.3883388027424328, 1.4146534431819422, 1.428524757144377, 1.4588396591504353, 1.477441428612155, 1.4968508368176434, 1.50780453606183, 1.5341934602996958, 1.567162032463909, 1.5733876469683183, 1.610734221716234, 1.6458657168175583, 1.6739031091762941, 1.7100232109982285, 1.7476005396729402, 1.7655440282407557, 1.798642201925482, 1.8405113955879495, 1.855688998046906, 1.8812932008830312, 1.9102006619863023, 1.9308476066622102]}, {\"line\": {\"color\": \"rgba(255, 255, 51, 1.0)\", \"dash\": \"solid\", \"shape\": \"linear\", \"width\": 1.3}, \"mode\": \"lines\", \"name\": \"29319740000177\", \"text\": \"\", \"type\": \"scatter\", \"x\": [\"2020-09-03\", \"2020-09-04\", \"2020-09-08\", \"2020-09-09\", \"2020-09-10\", \"2020-09-11\", \"2020-09-14\", \"2020-09-15\", \"2020-09-16\", \"2020-09-17\", \"2020-09-18\", \"2020-09-21\", \"2020-09-22\", \"2020-09-23\", \"2020-09-24\", \"2020-09-25\", \"2020-09-28\", \"2020-09-29\", \"2020-09-30\", \"2020-10-01\", \"2020-10-02\", \"2020-10-05\", \"2020-10-06\", \"2020-10-07\", \"2020-10-08\", \"2020-10-09\", \"2020-10-13\", \"2020-10-14\", \"2020-10-15\", \"2020-10-16\", \"2020-10-19\", \"2020-10-20\", \"2020-10-21\", \"2020-10-22\", \"2020-10-23\", \"2020-10-26\", \"2020-10-27\", \"2020-10-28\", \"2020-10-29\", \"2020-10-30\", \"2020-11-03\", \"2020-11-04\", \"2020-11-05\", \"2020-11-06\", \"2020-11-09\", \"2020-11-10\", \"2020-11-11\", \"2020-11-12\", \"2020-11-13\", \"2020-11-16\", \"2020-11-17\", \"2020-11-18\", \"2020-11-19\", \"2020-11-20\", \"2020-11-23\", \"2020-11-24\", \"2020-11-25\", \"2020-11-26\", \"2020-11-27\", \"2020-11-30\", \"2020-12-01\", \"2020-12-02\", \"2020-12-03\", \"2020-12-04\", \"2020-12-07\", \"2020-12-08\", \"2020-12-09\", \"2020-12-10\", \"2020-12-11\", \"2020-12-14\", \"2020-12-15\", \"2020-12-16\", \"2020-12-17\", \"2020-12-18\", \"2020-12-21\", \"2020-12-22\", \"2020-12-23\", \"2020-12-24\", \"2020-12-28\", \"2020-12-29\", \"2020-12-30\", \"2020-12-31\", \"2021-01-04\", \"2021-01-05\", \"2021-01-06\", \"2021-01-07\", \"2021-01-08\", \"2021-01-11\", \"2021-01-12\", \"2021-01-13\", \"2021-01-14\", \"2021-01-15\", \"2021-01-18\", \"2021-01-19\", \"2021-01-20\", \"2021-01-21\", \"2021-01-22\", \"2021-01-25\", \"2021-01-26\", \"2021-01-27\", \"2021-01-28\", \"2021-01-29\", \"2021-02-01\", \"2021-02-02\", \"2021-02-03\", \"2021-02-04\", \"2021-02-05\", \"2021-02-08\", \"2021-02-09\", \"2021-02-10\", \"2021-02-11\", \"2021-02-12\", \"2021-02-17\", \"2021-02-18\", \"2021-02-19\", \"2021-02-22\", \"2021-02-23\", \"2021-02-24\", \"2021-02-25\", \"2021-02-26\", \"2021-03-01\", \"2021-03-02\", \"2021-03-03\", \"2021-03-04\", \"2021-03-05\", \"2021-03-08\", \"2021-03-09\", \"2021-03-10\", \"2021-03-11\", \"2021-03-12\", \"2021-03-15\", \"2021-03-16\", \"2021-03-17\", \"2021-03-18\", \"2021-03-19\", \"2021-03-22\", \"2021-03-23\", \"2021-03-24\", \"2021-03-25\", \"2021-03-26\", \"2021-03-29\", \"2021-03-30\", \"2021-03-31\", \"2021-04-01\", \"2021-04-05\", \"2021-04-06\", \"2021-04-07\", \"2021-04-08\", \"2021-04-09\", \"2021-04-12\", \"2021-04-13\", \"2021-04-14\", \"2021-04-15\", \"2021-04-16\", \"2021-04-19\", \"2021-04-20\", \"2021-04-22\", \"2021-04-23\", \"2021-04-26\", \"2021-04-27\", \"2021-04-28\", \"2021-04-29\", \"2021-04-30\", \"2021-05-03\", \"2021-05-04\", \"2021-05-05\", \"2021-05-06\", \"2021-05-07\", \"2021-05-10\", \"2021-05-11\", \"2021-05-12\", \"2021-05-13\", \"2021-05-14\", \"2021-05-17\", \"2021-05-18\", \"2021-05-19\", \"2021-05-20\", \"2021-05-21\", \"2021-05-24\", \"2021-05-25\", \"2021-05-26\", \"2021-05-27\", \"2021-05-28\", \"2021-05-31\", \"2021-06-01\", \"2021-06-02\", \"2021-06-04\", \"2021-06-07\", \"2021-06-08\", \"2021-06-09\", \"2021-06-10\", \"2021-06-11\", \"2021-06-14\", \"2021-06-15\", \"2021-06-16\", \"2021-06-17\", \"2021-06-18\", \"2021-06-21\", \"2021-06-22\", \"2021-06-23\", \"2021-06-24\", \"2021-06-25\", \"2021-06-28\", \"2021-06-29\", \"2021-06-30\", \"2021-07-01\", \"2021-07-02\", \"2021-07-05\", \"2021-07-06\", \"2021-07-07\", \"2021-07-08\", \"2021-07-09\", \"2021-07-12\", \"2021-07-13\", \"2021-07-14\", \"2021-07-15\", \"2021-07-16\", \"2021-07-19\", \"2021-07-20\", \"2021-07-21\", \"2021-07-22\", \"2021-07-23\", \"2021-07-26\", \"2021-07-27\", \"2021-07-28\", \"2021-07-29\", \"2021-07-30\", \"2021-08-02\", \"2021-08-03\", \"2021-08-04\", \"2021-08-05\", \"2021-08-06\", \"2021-08-09\", \"2021-08-10\", \"2021-08-11\", \"2021-08-12\", \"2021-08-13\", \"2021-08-16\", \"2021-08-17\", \"2021-08-18\", \"2021-08-19\", \"2021-08-20\", \"2021-08-23\", \"2021-08-24\", \"2021-08-25\", \"2021-08-26\", \"2021-08-27\", \"2021-08-30\", \"2021-08-31\", \"2021-09-01\", \"2021-09-02\", \"2021-09-03\"], \"y\": [0.9180750513675648, 0.8386858900682569, 0.7017216996498987, 0.699792635297512, 1.1178363532959346, 1.0773502429322956, 1.0942374529621115, 1.0839218336388212, 1.010305301356084, 0.9036590073298493, 1.0720130226305875, 1.0344222003818706, 1.0095768706176274, 0.996987049387066, 1.018753187120105, 0.902550588905614, 0.9871548310682214, 1.0222892628137183, 0.9551378807560328, 0.8307811049292531, 0.8343413267233332, 0.8405615615690528, 0.5258113379475681, 0.41148499379549663, 0.5861749147887109, 0.6330095810625856, 0.5596201420887806, 0.6344157575206475, 0.5249969038524306, 0.40961751267959884, 0.3378759528237096, 0.3663678184382476, 0.23501763629462127, 0.33788433739581236, 0.38884486475069885, 0.5210617648163328, 0.9282908131557178, 1.3532930269263042, 1.0852527431351575, 1.194127495035423, 1.1576420381565047, 0.9082854010422967, 0.7449966943267845, 0.6289143864569576, 0.3551082809896874, 0.5578138234704154, 0.384471179797519, 0.819680729789075, 0.8846980419015181, 0.9502080544280164, 1.1512670123722153, 1.0630496000368779, 1.0156178577247719, 1.0219924023563165, 0.842307405975645, 1.088709719906145, 1.0598067146624428, 1.0278162234361237, 1.031334809335225, 1.1061927006046213, 1.0657118764483062, 1.0685324154340514, 1.1499014037794875, 1.1533955264056854, 1.2126001076855129, 1.0866727090426063, 1.1096772044911278, 1.174912569419154, 1.162278408776161, 1.0181317405873058, 1.1309993806416168, 1.1636338721661004, 1.2137127982283178, 1.0319921265605703, 0.9531828298399782, 0.8762317061951267, 1.0386479233132866, 0.9311993534687504, 1.0132933375967001, 0.9689982020002273, 0.8407987396669703, 0.8196001226791352, 0.962084479325266, 1.2107801010266395, 1.0579308015064541, 1.4175595206728642, 1.3905025453315074, 1.313853024627198, 1.2793944528277523, 1.5501200393178944, 1.4950333013450268, 1.4384786181209475, 1.402692293446107, 1.6546577537063591, 1.675398923888879, 1.720167131887979, 1.5266451685112958, 1.5268719640665085, 1.720927577624092, 1.5570111327102463, 1.5988833233135793, 1.7256044103849366, 1.5794173999431091, 1.2690044770649809, 1.1925945380646914, 0.9750150106423727, 0.7514803139129241, 0.37646839269002985, 0.31637001947615484, 0.3081563666374012, 0.3127596089194137, 0.1570331389507896, 0.15596234321924268, 0.0996335191365018, -0.01751648825772867, -0.22287330968101948, -0.18683579306476852, -0.3091347864696879, 0.003371634173082173, 0.03215826086554151, -0.21364255387365985, -0.19197060988219963, -0.13746161121693762, -0.5232229185172602, -0.43902315967786726, -0.5820887790506057, -0.5308146587739159, -0.6819088641035095, -0.6027034233214584, -0.7249407881795414, -0.7929272680089096, -0.7616827037884716, -0.21537053737241715, -0.26961442734637786, -0.30443611196324116, -0.2610353055520872, -0.27452919121997876, 0.12328585115936021, -0.21985653157601828, -0.16463062178899038, -0.3838909365880339, -0.2914373820987716, -0.298619644105701, 0.06983602288480857, 0.05819110366137435, -0.2182238055332129, -0.4697140616468201, -0.6030013798577659, -0.7319294994812314, -0.8261487507826294, -0.83478152434479, -0.7292144710359983, -0.8776674973154701, -0.9842315379557781, -1.041989938055111, -1.0022591123631297, -1.1197381850843513, -1.1534929943936274, -1.2781885449077892, -1.1578503676213572, -1.1005967334345896, -1.1637894086020724, -1.2085600137343673, -1.42459612396836, -1.4746707282863887, -1.4541192531142184, -1.5287459860891377, -1.5079604074498354, -1.5399705158994081, -1.4991862569698882, -1.4376591966853025, -1.421346737637735, -1.4730047983886907, -1.3761106916600767, -1.4135319496389798, -1.4813585767165607, -1.5269139225622974, -1.4865482168980113, -1.4520357452026005, -1.4289972864114397, -1.5019948512847243, -1.56095923377674, -1.487297803253937, -1.483823692698319, -1.5231422071649818, -1.4607773045961754, -1.5747240925896084, -1.5835480089356295, -1.5726878412138112, -1.6001200078169062, -1.6156593104967973, -1.439768518549742, -1.43713997677157, -1.4361002035252837, -1.4280259943627798, -1.4393886236423037, -1.3413949296921337, -1.3000285967650047, -1.326631599094434, -1.3280564153668042, -1.4688168966524393, -1.3187577501352579, -1.2991255205247938, -1.2502634081861763, -1.3253247450778693, -1.2864448434149993, -1.3008770524589435, -1.2815435065080012, -1.170421775589352, -1.090186758547053, -1.1895269811179687, -1.187638394010221, -1.0068984152096214, -1.0546734675592253, -1.0531037552653377, -0.9072849086659666, -0.7177848967954226, -0.7387740246235266, -0.6960774381212979, -0.7356163248618585, -0.7301732746895607, -0.5603498857828124, -0.5026883505779738, -0.45080790232142687, -0.4966978564601171, -0.4899265463680499, -0.3971852258556159, -0.38919389579338365, -0.3594826661299172, -0.25136603619217796, -0.2616361984477634, -0.10668891975371131, -0.1344289356525303, -0.20943175315034546, -0.14653967330756285, -0.10989773174609495, -0.1464511045221075, -0.10355483531414114, -0.18076895100972667, -0.10639367536540463, -0.05578760439373883, -0.19522156265630078, -0.13108355179693407, -0.15464342481726942, -0.2778540904827935, -0.10170012308596876, -0.041520996042932606, -0.025669988372422573, -0.11584372894411486, -0.12821682430500306, -0.058556398961525945, -0.002179535121223635]}, {\"line\": {\"color\": \"rgba(128, 128, 0, 1.0)\", \"dash\": \"solid\", \"shape\": \"linear\", \"width\": 1.3}, \"mode\": \"lines\", \"name\": \"32102192000133\", \"text\": \"\", \"type\": \"scatter\", \"x\": [\"2020-09-03\", \"2020-09-04\", \"2020-09-08\", \"2020-09-09\", \"2020-09-10\", \"2020-09-11\", \"2020-09-14\", \"2020-09-15\", \"2020-09-16\", \"2020-09-17\", \"2020-09-18\", \"2020-09-21\", \"2020-09-22\", \"2020-09-23\", \"2020-09-24\", \"2020-09-25\", \"2020-09-28\", \"2020-09-29\", \"2020-09-30\", \"2020-10-01\", \"2020-10-02\", \"2020-10-05\", \"2020-10-06\", \"2020-10-07\", \"2020-10-08\", \"2020-10-09\", \"2020-10-13\", \"2020-10-14\", \"2020-10-15\", \"2020-10-16\", \"2020-10-19\", \"2020-10-20\", \"2020-10-21\", \"2020-10-22\", \"2020-10-23\", \"2020-10-26\", \"2020-10-27\", \"2020-10-28\", \"2020-10-29\", \"2020-10-30\", \"2020-11-03\", \"2020-11-04\", \"2020-11-05\", \"2020-11-06\", \"2020-11-09\", \"2020-11-10\", \"2020-11-11\", \"2020-11-12\", \"2020-11-13\", \"2020-11-16\", \"2020-11-17\", \"2020-11-18\", \"2020-11-19\", \"2020-11-20\", \"2020-11-23\", \"2020-11-24\", \"2020-11-25\", \"2020-11-26\", \"2020-11-27\", \"2020-11-30\", \"2020-12-01\", \"2020-12-02\", \"2020-12-03\", \"2020-12-04\", \"2020-12-07\", \"2020-12-08\", \"2020-12-09\", \"2020-12-10\", \"2020-12-11\", \"2020-12-14\", \"2020-12-15\", \"2020-12-16\", \"2020-12-17\", \"2020-12-18\", \"2020-12-21\", \"2020-12-22\", \"2020-12-23\", \"2020-12-24\", \"2020-12-28\", \"2020-12-29\", \"2020-12-30\", \"2020-12-31\", \"2021-01-04\", \"2021-01-05\", \"2021-01-06\", \"2021-01-07\", \"2021-01-08\", \"2021-01-11\", \"2021-01-12\", \"2021-01-13\", \"2021-01-14\", \"2021-01-15\", \"2021-01-18\", \"2021-01-19\", \"2021-01-20\", \"2021-01-21\", \"2021-01-22\", \"2021-01-25\", \"2021-01-26\", \"2021-01-27\", \"2021-01-28\", \"2021-01-29\", \"2021-02-01\", \"2021-02-02\", \"2021-02-03\", \"2021-02-04\", \"2021-02-05\", \"2021-02-08\", \"2021-02-09\", \"2021-02-10\", \"2021-02-11\", \"2021-02-12\", \"2021-02-17\", \"2021-02-18\", \"2021-02-19\", \"2021-02-22\", \"2021-02-23\", \"2021-02-24\", \"2021-02-25\", \"2021-02-26\", \"2021-03-01\", \"2021-03-02\", \"2021-03-03\", \"2021-03-04\", \"2021-03-05\", \"2021-03-08\", \"2021-03-09\", \"2021-03-10\", \"2021-03-11\", \"2021-03-12\", \"2021-03-15\", \"2021-03-16\", \"2021-03-17\", \"2021-03-18\", \"2021-03-19\", \"2021-03-22\", \"2021-03-23\", \"2021-03-24\", \"2021-03-25\", \"2021-03-26\", \"2021-03-29\", \"2021-03-30\", \"2021-03-31\", \"2021-04-01\", \"2021-04-05\", \"2021-04-06\", \"2021-04-07\", \"2021-04-08\", \"2021-04-09\", \"2021-04-12\", \"2021-04-13\", \"2021-04-14\", \"2021-04-15\", \"2021-04-16\", \"2021-04-19\", \"2021-04-20\", \"2021-04-22\", \"2021-04-23\", \"2021-04-26\", \"2021-04-27\", \"2021-04-28\", \"2021-04-29\", \"2021-04-30\", \"2021-05-03\", \"2021-05-04\", \"2021-05-05\", \"2021-05-06\", \"2021-05-07\", \"2021-05-10\", \"2021-05-11\", \"2021-05-12\", \"2021-05-13\", \"2021-05-14\", \"2021-05-17\", \"2021-05-18\", \"2021-05-19\", \"2021-05-20\", \"2021-05-21\", \"2021-05-24\", \"2021-05-25\", \"2021-05-26\", \"2021-05-27\", \"2021-05-28\", \"2021-05-31\", \"2021-06-01\", \"2021-06-02\", \"2021-06-04\", \"2021-06-07\", \"2021-06-08\", \"2021-06-09\", \"2021-06-10\", \"2021-06-11\", \"2021-06-14\", \"2021-06-15\", \"2021-06-16\", \"2021-06-17\", \"2021-06-18\", \"2021-06-21\", \"2021-06-22\", \"2021-06-23\", \"2021-06-24\", \"2021-06-25\", \"2021-06-28\", \"2021-06-29\", \"2021-06-30\", \"2021-07-01\", \"2021-07-02\", \"2021-07-05\", \"2021-07-06\", \"2021-07-07\", \"2021-07-08\", \"2021-07-09\", \"2021-07-12\", \"2021-07-13\", \"2021-07-14\", \"2021-07-15\", \"2021-07-16\", \"2021-07-19\", \"2021-07-20\", \"2021-07-21\", \"2021-07-22\", \"2021-07-23\", \"2021-07-26\", \"2021-07-27\", \"2021-07-28\", \"2021-07-29\", \"2021-07-30\", \"2021-08-02\", \"2021-08-03\", \"2021-08-04\", \"2021-08-05\", \"2021-08-06\", \"2021-08-09\", \"2021-08-10\", \"2021-08-11\", \"2021-08-12\", \"2021-08-13\", \"2021-08-16\", \"2021-08-17\", \"2021-08-18\", \"2021-08-19\", \"2021-08-20\", \"2021-08-23\", \"2021-08-24\", \"2021-08-25\", \"2021-08-26\", \"2021-08-27\", \"2021-08-30\", \"2021-08-31\", \"2021-09-01\", \"2021-09-02\", \"2021-09-03\"], \"y\": [-1.5433610407968728, -1.58052417154635, -1.6773334794419292, -1.57412842058433, -1.6494089338309939, -1.6362584172749723, -1.5776987546958194, -1.5279900328936302, -1.527105450449885, -1.561019705610688, -1.6417412826385132, -1.8835710567715336, -1.7228769565917634, -1.9980180198314512, -2.0041630701574955, -1.9262089973712817, -1.737933037469439, -1.7492515779061166, -1.7111718603763852, -1.734961859372026, -1.740380933779125, -1.6531845746725966, -1.7961025519464033, -1.6360602951918302, -1.5330830767298451, -1.490776718473643, -1.473817577014924, -1.5380745557838762, -1.6304064134587195, -1.591032044316453, -1.7029674289685321, -1.6584534246430287, -1.695443361857186, -1.633778298912204, -1.596021890496175, -1.7927112897177537, -1.8817052257247957, -2.206832817116221, -2.1428226200848974, -2.174980555636126, -1.8510338589468607, -1.7780270687499768, -1.6353683919168545, -1.5974009072814768, -1.0403819768255298, -0.9346380161299433, -0.990186876195054, -1.0706862734582137, -0.9379810541372573, -0.7634565085381108, -0.8160766452379085, -0.9180720708054622, -0.9293895226592648, -0.9726184549015301, -0.8648925113665066, -0.6775012427666959, -0.7307017029968437, -0.7209208947285565, -0.6989362015718391, -0.7756688843729653, -0.6452398918423995, -0.6151475422953633, -0.6054836478277903, -0.517828886472847, -0.5538648985141625, -0.5741107982455849, -0.5919875062091436, -0.6281755932780135, -0.5356955794739617, -0.546311548523494, -0.41578534554224433, -0.4052276156764919, -0.3670306577711885, -0.3492072903684754, -0.4515329919801265, -0.4625089553862257, -0.41299715822601935, -0.3700156608711071, -0.2509548481562924, -0.2620521885528879, -0.2476226959777241, -0.2285631338628317, -0.33353409185929855, -0.3073243908504194, -0.1881624487865703, -0.11833290542522737, -0.005002937252742802, -0.07680216246704431, -0.15842922272980203, -0.17767493251621844, -0.29181567721356455, -0.351605220724225, -0.3763501246172982, -0.29373942086922183, -0.2570644106806292, -0.2770279320144319, -0.3127879882970818, -0.35530912395440495, -0.3417807602826759, -0.6120378964563233, -0.37624572951964347, -0.5619492592309656, -0.4205201367544904, -0.24531370284281231, -0.3012414986065055, -0.1718948840279643, -0.18538808647285093, -0.10406365224917695, -0.02670514315355143, -0.040163837521318704, -0.06311214423846404, -0.020540824910631028, 0.0382259949895201, 0.06179022189700985, -0.014317505475918457, 0.01722396559353316, 0.04655517799478136, 0.12855300958456492, -0.10218083930959769, -0.2086145261144072, 0.025315619815596317, 0.011786602994141717, -0.10639604991588651, -0.1755565502426176, 0.07144159766152587, 0.20372161651173804, 0.2616875659911874, 0.31686108268120083, 0.3039409102614065, 0.3212579777692291, 0.3581271911426182, 0.33518759308846596, 0.35794082575451824, 0.20267374663683035, 0.18352927505773517, 0.17654645135154598, 0.13891490339120952, 0.15844146755922328, 0.19745606006149644, 0.30200236187865775, 0.34991230933917145, 0.2891292162390349, 0.2466831928000464, 0.3693329543935059, 0.45910664231348636, 0.4464573093128428, 0.4128750719287354, 0.44716401731490996, 0.5020119388671865, 0.542743770853842, 0.5368637904577176, 0.5229593214028815, 0.6272997721984909, 0.712828748916284, 0.6717573879310994, 0.6167567382015432, 0.761019768474971, 0.8292756564330663, 0.8049068579231026, 0.8085389146835706, 0.7989697269260709, 0.8850568200835758, 0.7941446921935384, 0.8865911776450568, 0.847445955197853, 0.8534014832454616, 0.908174292579406, 0.980201793622469, 0.962817342834719, 0.8829722927373688, 0.7877664674157961, 0.8678948756353565, 0.9684381316484479, 0.8882652003893241, 0.8669984276382798, 0.8357882123375114, 0.9297131021907677, 0.917227818629299, 0.9699255712880418, 0.9611415783578534, 0.9984818215409964, 1.0383475769927728, 1.0414829133876475, 1.044153098320288, 1.0327508458605694, 1.0563790814410723, 1.0898301445888128, 1.0814751621694276, 1.0925428931118404, 1.086929833236521, 1.1099210301189208, 1.116974176278795, 1.134181841207742, 1.1259396359741494, 1.081079244578006, 1.0665289193037824, 0.9390017621415303, 1.0538339746807026, 1.0861634708929362, 1.0470281545498923, 1.1170588680264242, 1.1879301851985788, 1.1199458986676467, 1.0920069837627695, 1.0952143843439297, 1.1097463125675764, 1.119631624791805, 1.1286389949278233, 1.0395260768126087, 1.0328232366217176, 0.9474345782364341, 1.055913821120549, 1.096519377493774, 1.072918574201704, 1.0679797825587958, 1.059223766208479, 0.9830093577138614, 0.7846371182267307, 0.9122146767760659, 1.0277693817689826, 0.9858418503530739, 1.0359408291157386, 1.0110485311014716, 0.9847591458261865, 1.0188855657892109, 0.9910642178347684, 0.9735682961606795, 0.9853811620806244, 0.9986123426276402, 0.9234520089303107, 1.0159811178219973, 1.007905139193327, 0.9693907505218435, 1.000980445812631, 1.0177896894095433, 1.0263189539471185, 1.0588847815013884, 0.9977944903140945, 0.9248999330115643, 0.813979216456722, 0.7776929392125825, 0.8292361408747261, 0.8900635392978501, 1.0158032433803192, 1.0377258873131976, 0.9759237717843264, 1.0467026682704423, 1.0330733929662572, 1.095113037278324, 1.165637858521552, 1.1612729677700304, 1.1199992392284925]}, {\"line\": {\"color\": \"rgba(251, 128, 114, 1.0)\", \"dash\": \"solid\", \"shape\": \"linear\", \"width\": 1.3}, \"mode\": \"lines\", \"name\": \"30934757000113\", \"text\": \"\", \"type\": \"scatter\", \"x\": [\"2020-09-03\", \"2020-09-04\", \"2020-09-08\", \"2020-09-09\", \"2020-09-10\", \"2020-09-11\", \"2020-09-14\", \"2020-09-15\", \"2020-09-16\", \"2020-09-17\", \"2020-09-18\", \"2020-09-21\", \"2020-09-22\", \"2020-09-23\", \"2020-09-24\", \"2020-09-25\", \"2020-09-28\", \"2020-09-29\", \"2020-09-30\", \"2020-10-01\", \"2020-10-02\", \"2020-10-05\", \"2020-10-06\", \"2020-10-07\", \"2020-10-08\", \"2020-10-09\", \"2020-10-13\", \"2020-10-14\", \"2020-10-15\", \"2020-10-16\", \"2020-10-19\", \"2020-10-20\", \"2020-10-21\", \"2020-10-22\", \"2020-10-23\", \"2020-10-26\", \"2020-10-27\", \"2020-10-28\", \"2020-10-29\", \"2020-10-30\", \"2020-11-03\", \"2020-11-04\", \"2020-11-05\", \"2020-11-06\", \"2020-11-09\", \"2020-11-10\", \"2020-11-11\", \"2020-11-12\", \"2020-11-13\", \"2020-11-16\", \"2020-11-17\", \"2020-11-18\", \"2020-11-19\", \"2020-11-20\", \"2020-11-23\", \"2020-11-24\", \"2020-11-25\", \"2020-11-26\", \"2020-11-27\", \"2020-11-30\", \"2020-12-01\", \"2020-12-02\", \"2020-12-03\", \"2020-12-04\", \"2020-12-07\", \"2020-12-08\", \"2020-12-09\", \"2020-12-10\", \"2020-12-11\", \"2020-12-14\", \"2020-12-15\", \"2020-12-16\", \"2020-12-17\", \"2020-12-18\", \"2020-12-21\", \"2020-12-22\", \"2020-12-23\", \"2020-12-24\", \"2020-12-28\", \"2020-12-29\", \"2020-12-30\", \"2020-12-31\", \"2021-01-04\", \"2021-01-05\", \"2021-01-06\", \"2021-01-07\", \"2021-01-08\", \"2021-01-11\", \"2021-01-12\", \"2021-01-13\", \"2021-01-14\", \"2021-01-15\", \"2021-01-18\", \"2021-01-19\", \"2021-01-20\", \"2021-01-21\", \"2021-01-22\", \"2021-01-25\", \"2021-01-26\", \"2021-01-27\", \"2021-01-28\", \"2021-01-29\", \"2021-02-01\", \"2021-02-02\", \"2021-02-03\", \"2021-02-04\", \"2021-02-05\", \"2021-02-08\", \"2021-02-09\", \"2021-02-10\", \"2021-02-11\", \"2021-02-12\", \"2021-02-17\", \"2021-02-18\", \"2021-02-19\", \"2021-02-22\", \"2021-02-23\", \"2021-02-24\", \"2021-02-25\", \"2021-02-26\", \"2021-03-01\", \"2021-03-02\", \"2021-03-03\", \"2021-03-04\", \"2021-03-05\", \"2021-03-08\", \"2021-03-09\", \"2021-03-10\", \"2021-03-11\", \"2021-03-12\", \"2021-03-15\", \"2021-03-16\", \"2021-03-17\", \"2021-03-18\", \"2021-03-19\", \"2021-03-22\", \"2021-03-23\", \"2021-03-24\", \"2021-03-25\", \"2021-03-26\", \"2021-03-29\", \"2021-03-30\", \"2021-03-31\", \"2021-04-01\", \"2021-04-05\", \"2021-04-06\", \"2021-04-07\", \"2021-04-08\", \"2021-04-09\", \"2021-04-12\", \"2021-04-13\", \"2021-04-14\", \"2021-04-15\", \"2021-04-16\", \"2021-04-19\", \"2021-04-20\", \"2021-04-22\", \"2021-04-23\", \"2021-04-26\", \"2021-04-27\", \"2021-04-28\", \"2021-04-29\", \"2021-04-30\", \"2021-05-03\", \"2021-05-04\", \"2021-05-05\", \"2021-05-06\", \"2021-05-07\", \"2021-05-10\", \"2021-05-11\", \"2021-05-12\", \"2021-05-13\", \"2021-05-14\", \"2021-05-17\", \"2021-05-18\", \"2021-05-19\", \"2021-05-20\", \"2021-05-21\", \"2021-05-24\", \"2021-05-25\", \"2021-05-26\", \"2021-05-27\", \"2021-05-28\", \"2021-05-31\", \"2021-06-01\", \"2021-06-02\", \"2021-06-04\", \"2021-06-07\", \"2021-06-08\", \"2021-06-09\", \"2021-06-10\", \"2021-06-11\", \"2021-06-14\", \"2021-06-15\", \"2021-06-16\", \"2021-06-17\", \"2021-06-18\", \"2021-06-21\", \"2021-06-22\", \"2021-06-23\", \"2021-06-24\", \"2021-06-25\", \"2021-06-28\", \"2021-06-29\", \"2021-06-30\", \"2021-07-01\", \"2021-07-02\", \"2021-07-05\", \"2021-07-06\", \"2021-07-07\", \"2021-07-08\", \"2021-07-09\", \"2021-07-12\", \"2021-07-13\", \"2021-07-14\", \"2021-07-15\", \"2021-07-16\", \"2021-07-19\", \"2021-07-20\", \"2021-07-21\", \"2021-07-22\", \"2021-07-23\", \"2021-07-26\", \"2021-07-27\", \"2021-07-28\", \"2021-07-29\", \"2021-07-30\", \"2021-08-02\", \"2021-08-03\", \"2021-08-04\", \"2021-08-05\", \"2021-08-06\", \"2021-08-09\", \"2021-08-10\", \"2021-08-11\", \"2021-08-12\", \"2021-08-13\", \"2021-08-16\", \"2021-08-17\", \"2021-08-18\", \"2021-08-19\", \"2021-08-20\", \"2021-08-23\", \"2021-08-24\", \"2021-08-25\", \"2021-08-26\", \"2021-08-27\", \"2021-08-30\", \"2021-08-31\", \"2021-09-01\", \"2021-09-02\", \"2021-09-03\"], \"y\": [-1.4516433363564947, -1.454992368270105, -1.454779634845463, -1.4592227243715006, -1.4506617235542318, -1.457344592136826, -1.4452461383727067, -1.4407422678682056, -1.4308592807692546, -1.418545054531568, -1.4262946292862835, -1.4244742389811536, -1.4161502839799147, -1.4148222196003823, -1.4117558192366597, -1.373725161009023, -1.388397689211281, -1.3910842084595774, -1.3959314914924292, -1.3909930369918757, -1.3782594220027624, -1.350634467288906, -1.344984875340276, -1.348838389375164, -1.351603923895475, -1.3414565395401876, -1.3499719546235989, -1.3364147573762382, -1.31752099021936, -1.320678562050791, -1.3059908386039207, -1.2900662222452197, -1.2966457631644113, -1.297861382733779, -1.2879935908794475, -1.2748983290684457, -1.2480969566128368, -1.234658282273491, -1.2284403881761812, -1.2306710500859688, -1.2230703887285, -1.2099356192814978, -1.209628675340229, -1.2121055002128156, -1.2219094720397587, -1.2132968073907953, -1.2133970960052658, -1.1989524964722689, -1.22109500692828, -1.235047280535686, -1.1953208330087848, -1.1975788463588857, -1.1755153511748826, -1.1733849778795653, -1.1978705950555353, -1.1959803066251666, -1.1999827340573082, -1.002204469170295, -1.0018337052016377, -1.0059242650525557, -0.9991502250022597, -0.9803658636066209, -0.9834018734811117, -1.007297915165939, -0.9826177988588715, -0.9834018734811117, -0.7143518332421391, -0.6988192541945583, -0.689215859596563, -0.6944187113534462, -0.6988830742219467, -0.7027639396971481, -0.7128505430739721, -0.7155431404201188, -0.7097233617317728, -0.6993450096583058, -0.6936711053182879, -0.6919783550679486, -0.6917838559368443, -0.7369927477215912, -0.7427091987465348, -0.7405788254512177, -0.7568407762404192, -0.7353516613029464, -0.7336345986612123, -0.6892857577218019, -0.6561510073097864, -0.6309907212728222, -0.6253502464709612, -0.605961114339567, -0.5899969903448588, -0.5869731366660619, -0.5695077225031866, -0.5516593881759667, -0.5273135672504746, -0.48747163586448367, -0.4393361399664921, -0.43632444248338925, -0.4125499627555023, -0.3644023106618168, -0.3802144822103532, -0.3768776064924371, -0.3859856361159165, -0.38969327580248314, -0.3961542938136667, -0.3980081136569534, -0.3847852117911679, -0.4119451920197402, -0.38738663766961295, -0.37528210580764315, -0.3589958426270604, -0.3627824975856348, -0.35661626732001933, -0.31195440434149646, -0.3004911118023708, -0.28819208080930353, -0.15717868172082378, -0.14509542320131683, -0.1614576626049889, -0.15441010815158773, -0.16063408034674806, -0.13469275873646194, -0.13100943144128332, -0.09068429127647046, -0.05858585654734449, -0.05062962646584437, -0.05678977863360942, -0.052975772234721816, -0.039151138682099504, -0.0040470845677143255, -0.024840257301730083, -0.00627166837965837, -0.0035638757888924056, 0.08413699804305969, 0.24356854361440522, 0.24514277095673634, 0.25329046112041553, 0.26570193692364735, 0.3087044791899878, 0.3107102514794463, 0.34121622457269674, 0.3467320983686992, 0.35556965263799184, 0.368756085916702, 0.3790007198375347, 0.4063004963165848, 0.4294124633791648, 0.45574278325164586, 0.471585345289414, 0.46505442915299156, 0.4761104891363846, 0.5104517419709855, 0.5147611133443958, 0.5205140329564214, 0.5217296525257893, 0.5237779715001667, 0.5385507883168952, 0.5515427224645011, 0.5248416386233626, 0.5322842694368092, 0.5451485635296313, 0.5496615511809079, 0.6395535792866405, 0.5942170474471166, 0.6097070798097717, 0.6139313578133172, 0.6058930734108842, 0.6016839906519511, 0.606883803359916, 0.5973320725936152, 0.6458383324602641, 0.6163322064628143, 0.6262395059531533, 0.621294973354756, 0.6229451769201696, 0.6456438333291666, 0.9608691829105367, 0.9470992522385341, 0.9499468410797778, 0.9502841755102716, 0.9637745136813186, 0.9820513539067474, 0.9840115404623483, 0.9827229837188232, 0.9852180428849473, 0.9925391117414537, 1.0439172728407344, 1.0422154054436195, 0.9847500293507379, 0.9804801656133415, 0.9865430682155545, 0.9965172267822071, 1.0104816565853072, 1.0135450179001113, 1.0106609604717856, 1.045026525697781, 1.0585958791408359, 1.0661965404982978, 1.0922472678698234, 1.106761765528059, 1.1065581492501928, 1.1089073340679954, 1.1023794569804983, 1.121303614626608, 1.1241633596635459, 1.1255825955107799, 1.1211607793272118, 1.1218415262860564, 1.1234218317262312, 1.1340372296157213, 1.1519402668235676, 1.1574743749131144, 1.162279111261034, 1.1659290090180556, 1.1743076668999144, 1.1835646099206405, 1.1962435220291339, 1.1986869173635635, 1.1960064762131106, 1.1855278355251666, 1.1964319430623878, 1.2223975770640552, 1.2621361807866502, 1.2585470640080918, 1.327287311606852, 1.3365564108232721, 1.3808140802949807, 1.384825624873891, 1.3578084799447216, 1.3387354089013586, 1.3534231323482289, 1.3541433869430808, 1.3560306363245243, 1.3780941315085276, 1.3889617704586599, 1.4099555204216236, 1.4167386776186883, 1.433274142810995, 1.4418321045793387, 1.4661323397709733, 1.4780606067953832, 1.4792610311201317, 1.4851659031783293, 1.4941888394319573, 1.50691637632322, 1.4949546797606532, 1.5220690742553749, 1.5333682581526413, 1.5468737915683008, 1.5637526692889583, 1.571730172712928, 1.5779997306419324]}, {\"line\": {\"color\": \"rgba(128, 177, 211, 1.0)\", \"dash\": \"solid\", \"shape\": \"linear\", \"width\": 1.3}, \"mode\": \"lines\", \"name\": \"31963396000104\", \"text\": \"\", \"type\": \"scatter\", \"x\": [\"2020-09-03\", \"2020-09-04\", \"2020-09-08\", \"2020-09-09\", \"2020-09-10\", \"2020-09-11\", \"2020-09-14\", \"2020-09-15\", \"2020-09-16\", \"2020-09-17\", \"2020-09-18\", \"2020-09-21\", \"2020-09-22\", \"2020-09-23\", \"2020-09-24\", \"2020-09-25\", \"2020-09-28\", \"2020-09-29\", \"2020-09-30\", \"2020-10-01\", \"2020-10-02\", \"2020-10-05\", \"2020-10-06\", \"2020-10-07\", \"2020-10-08\", \"2020-10-09\", \"2020-10-13\", \"2020-10-14\", \"2020-10-15\", \"2020-10-16\", \"2020-10-19\", \"2020-10-20\", \"2020-10-21\", \"2020-10-22\", \"2020-10-23\", \"2020-10-26\", \"2020-10-27\", \"2020-10-28\", \"2020-10-29\", \"2020-10-30\", \"2020-11-03\", \"2020-11-04\", \"2020-11-05\", \"2020-11-06\", \"2020-11-09\", \"2020-11-10\", \"2020-11-11\", \"2020-11-12\", \"2020-11-13\", \"2020-11-16\", \"2020-11-17\", \"2020-11-18\", \"2020-11-19\", \"2020-11-20\", \"2020-11-23\", \"2020-11-24\", \"2020-11-25\", \"2020-11-26\", \"2020-11-27\", \"2020-11-30\", \"2020-12-01\", \"2020-12-02\", \"2020-12-03\", \"2020-12-04\", \"2020-12-07\", \"2020-12-08\", \"2020-12-09\", \"2020-12-10\", \"2020-12-11\", \"2020-12-14\", \"2020-12-15\", \"2020-12-16\", \"2020-12-17\", \"2020-12-18\", \"2020-12-21\", \"2020-12-22\", \"2020-12-23\", \"2020-12-24\", \"2020-12-28\", \"2020-12-29\", \"2020-12-30\", \"2020-12-31\", \"2021-01-04\", \"2021-01-05\", \"2021-01-06\", \"2021-01-07\", \"2021-01-08\", \"2021-01-11\", \"2021-01-12\", \"2021-01-13\", \"2021-01-14\", \"2021-01-15\", \"2021-01-18\", \"2021-01-19\", \"2021-01-20\", \"2021-01-21\", \"2021-01-22\", \"2021-01-25\", \"2021-01-26\", \"2021-01-27\", \"2021-01-28\", \"2021-01-29\", \"2021-02-01\", \"2021-02-02\", \"2021-02-03\", \"2021-02-04\", \"2021-02-05\", \"2021-02-08\", \"2021-02-09\", \"2021-02-10\", \"2021-02-11\", \"2021-02-12\", \"2021-02-17\", \"2021-02-18\", \"2021-02-19\", \"2021-02-22\", \"2021-02-23\", \"2021-02-24\", \"2021-02-25\", \"2021-02-26\", \"2021-03-01\", \"2021-03-02\", \"2021-03-03\", \"2021-03-04\", \"2021-03-05\", \"2021-03-08\", \"2021-03-09\", \"2021-03-10\", \"2021-03-11\", \"2021-03-12\", \"2021-03-15\", \"2021-03-16\", \"2021-03-17\", \"2021-03-18\", \"2021-03-19\", \"2021-03-22\", \"2021-03-23\", \"2021-03-24\", \"2021-03-25\", \"2021-03-26\", \"2021-03-29\", \"2021-03-30\", \"2021-03-31\", \"2021-04-01\", \"2021-04-05\", \"2021-04-06\", \"2021-04-07\", \"2021-04-08\", \"2021-04-09\", \"2021-04-12\", \"2021-04-13\", \"2021-04-14\", \"2021-04-15\", \"2021-04-16\", \"2021-04-19\", \"2021-04-20\", \"2021-04-22\", \"2021-04-23\", \"2021-04-26\", \"2021-04-27\", \"2021-04-28\", \"2021-04-29\", \"2021-04-30\", \"2021-05-03\", \"2021-05-04\", \"2021-05-05\", \"2021-05-06\", \"2021-05-07\", \"2021-05-10\", \"2021-05-11\", \"2021-05-12\", \"2021-05-13\", \"2021-05-14\", \"2021-05-17\", \"2021-05-18\", \"2021-05-19\", \"2021-05-20\", \"2021-05-21\", \"2021-05-24\", \"2021-05-25\", \"2021-05-26\", \"2021-05-27\", \"2021-05-28\", \"2021-05-31\", \"2021-06-01\", \"2021-06-02\", \"2021-06-04\", \"2021-06-07\", \"2021-06-08\", \"2021-06-09\", \"2021-06-10\", \"2021-06-11\", \"2021-06-14\", \"2021-06-15\", \"2021-06-16\", \"2021-06-17\", \"2021-06-18\", \"2021-06-21\", \"2021-06-22\", \"2021-06-23\", \"2021-06-24\", \"2021-06-25\", \"2021-06-28\", \"2021-06-29\", \"2021-06-30\", \"2021-07-01\", \"2021-07-02\", \"2021-07-05\", \"2021-07-06\", \"2021-07-07\", \"2021-07-08\", \"2021-07-09\", \"2021-07-12\", \"2021-07-13\", \"2021-07-14\", \"2021-07-15\", \"2021-07-16\", \"2021-07-19\", \"2021-07-20\", \"2021-07-21\", \"2021-07-22\", \"2021-07-23\", \"2021-07-26\", \"2021-07-27\", \"2021-07-28\", \"2021-07-29\", \"2021-07-30\", \"2021-08-02\", \"2021-08-03\", \"2021-08-04\", \"2021-08-05\", \"2021-08-06\", \"2021-08-09\", \"2021-08-10\", \"2021-08-11\", \"2021-08-12\", \"2021-08-13\", \"2021-08-16\", \"2021-08-17\", \"2021-08-18\", \"2021-08-19\", \"2021-08-20\", \"2021-08-23\", \"2021-08-24\", \"2021-08-25\", \"2021-08-26\", \"2021-08-27\", \"2021-08-30\", \"2021-08-31\", \"2021-09-01\", \"2021-09-02\", \"2021-09-03\"], \"y\": [-1.5454637262715467, -1.539189341873839, -1.5162457751825111, -1.5032924314418357, -1.4866705653167067, -1.4493815177072102, -1.4400428687831834, -1.4251669258659976, -1.421578276646688, -1.403005161187963, -1.376125236552922, -1.3728695368861967, -1.358404246220298, -1.3333153904952406, -1.3354341998383445, -1.3232756809096464, -1.2843023513392413, -1.2591010654523587, -1.2186296799419676, -1.1997292581434087, -1.1774090494149356, -1.196331175877933, -1.1886546701570904, -1.1933906279389492, -1.2006109016131583, -1.1853568634413378, -1.1677127076208538, -1.1588467862884346, -1.1636270215857616, -1.166303206711814, -1.170050299981562, -1.2187907285521429, -1.216538652569348, -1.2043766608943407, -1.1773921197766657, -1.17092195930567, -1.156282163137635, -1.1383758149706606, -1.1178193272749732, -1.1545757424189824, -1.1347589496875707, -1.1070334113257612, -1.1065815202120193, -1.1623655464882323, -1.1654497793058447, -1.165404199510508, -1.1372588929383325, -1.1260861998687126, -1.1100138958473216, -1.0960577966092977, -1.1243715313775728, -1.1014375147385909, -1.099511876909048, -1.099511876909048, -0.9358218090655392, -0.9358218090655392, -0.9398154673233855, -0.9390193402315492, -0.9390193402315492, -0.9164121958391149, -0.9244155738064955, -0.9157159102037253, -0.9131577984522581, -0.8949106870534986, -0.8879942786815113, -0.8780769834033841, -0.8679587029324953, -0.8536466471975807, -0.8461242445942948, -0.833451759211544, -0.8387685338139442, -0.815998170344884, -0.8214829390500878, -0.8128153983506935, -0.8003004888318087, -0.7919706727111764, -0.787020706937891, -0.7775409776949724, -0.768611678742374, -0.7799059179328788, -0.7150918830610385, -0.6964141511196987, -0.6836014536046287, -0.6668723664371387, -0.6507618622063257, -0.6146396573573855, -0.588496389033597, -0.5510975158220122, -0.557152249015543, -0.5134216910921174, -0.5050089631533086, -0.5300010160749423, -0.5201214869129414, -0.5014845597407508, -0.47739411858015984, -0.4620042092089116, -0.43781349249858775, -0.4304634249309874, -0.42466480677791035, -0.4237935815470984, -0.42138262742056914, -0.44386779159882267, -0.42873964048077856, -0.42383829315585286, -0.41155171670692786, -0.39032802762620367, -0.38296927819282994, -0.36895848320040986, -0.3531214577415975, -0.3478302946432407, -0.32517192724271954, -0.300722490932205, -0.2912058637597232, -0.28107412639688323, -0.26109845552173716, -0.2227445770745816, -0.21960130756968158, -0.19248219753245677, -0.1631726527594617, -0.1479151418413222, -0.12756875529746575, -0.10482096467942593, -0.07601106128194068, -0.10034068784472504, -0.10826375855365622, -0.07757336302868793, -0.06374618949746355, -0.050969521725374625, -0.05654545002125173, -0.03748094095949436, -0.03340480497675778, -0.026327782087881384, -0.022573309232218834, 0.011762167639619488, 0.04472590971855385, 0.05386183707666424, 0.07636827182607937, 0.09811547741321186, 0.09952107148265601, 0.11543710192004936, 0.1396477869216664, 0.13063731252404612, 0.15396635405591352, 0.16588612167572372, 0.16875981924821878, 0.18726478206058678, 0.2083395771432184, 0.1940270873150078, 0.22598069431067935, 0.23860933627124817, 0.24755165802252108, 0.24277185681848026, 0.2827878784688201, 0.26568156423327755, 0.25606118876475353, 0.285244412390686, 0.2802979193637099, 0.2786027850705676, 0.28604748497514093, 0.29163556788310074, 0.2914944875642186, 0.29397229205723646, 0.33589962645858606, 0.36413999946103054, 0.3932068860855325, 0.39977949257272133, 0.4081982978175764, 0.4235730139237092, 0.4421348429569144, 0.4467483864313062, 0.4984315334073214, 0.5166391423167904, 0.5608050958089837, 0.5655297671653324, 0.5887372625763053, 0.6125095133561412, 0.612465235840673, 0.6120632654551592, 0.6225479206618766, 0.623256360909349, 0.6268302509568389, 0.625629548919752, 0.6231434966542374, 0.6555924040925369, 0.6765348007220597, 0.6800014697271789, 0.6882205920591502, 0.7093105804068877, 0.7275820010298318, 0.7524247258600868, 0.7827522193955455, 0.8078458501467807, 0.8342304743391937, 0.8513684773848259, 0.866782261886963, 0.9052850343322015, 0.9349283968443629, 0.927198497648983, 0.9501802645497425, 0.9670113636401202, 0.9720051728355875, 0.9925178171091026, 0.9838246649056552, 0.9980446928633241, 1.0282028900161204, 1.0512120047940685, 1.0576517787348525, 1.0764688546219294, 1.101127957990979, 1.1167917802275238, 1.141218643687018, 1.1543725385271497, 1.173038984042989, 1.1862332495589933, 1.2707729175715718, 1.29487724971741, 1.304732903748522, 1.3180725905163098, 1.3509647072025681, 1.3663815303577187, 1.379083968177414, 1.406968384682958, 1.4212431083950328, 1.4420001471901955, 1.4556285059950993, 1.460105744176777, 1.5375380027702485, 1.5582880960727925, 1.5710986231214121, 1.5847977391324, 1.6134557098787694, 1.6274191887026983, 1.6409763562082218, 1.6514128270598754, 1.6692002336656921, 1.6892714050643933, 1.7076934560585848, 1.7829556823008652, 1.7919466225004883, 1.8137372374165166, 1.817319375236484, 1.8240226438036269, 1.8441602314755303, 1.849081112998463, 1.8569095513704212, 1.8678157111606497, 1.8815347954629307, 1.8983893355909205, 1.972210372114062, 1.9502265856844827, 1.96453039364691, 1.97580032361324]}],                        {\"legend\": {\"bgcolor\": \"#F5F6F9\", \"font\": {\"color\": \"#4D5663\"}}, \"paper_bgcolor\": \"#F5F6F9\", \"plot_bgcolor\": \"#F5F6F9\", \"template\": {\"data\": {\"bar\": [{\"error_x\": {\"color\": \"#2a3f5f\"}, \"error_y\": {\"color\": \"#2a3f5f\"}, \"marker\": {\"line\": {\"color\": \"#E5ECF6\", \"width\": 0.5}}, \"type\": \"bar\"}], \"barpolar\": [{\"marker\": {\"line\": {\"color\": \"#E5ECF6\", \"width\": 0.5}}, \"type\": \"barpolar\"}], \"carpet\": [{\"aaxis\": {\"endlinecolor\": \"#2a3f5f\", \"gridcolor\": \"white\", \"linecolor\": \"white\", \"minorgridcolor\": \"white\", \"startlinecolor\": \"#2a3f5f\"}, \"baxis\": {\"endlinecolor\": \"#2a3f5f\", \"gridcolor\": \"white\", \"linecolor\": \"white\", \"minorgridcolor\": \"white\", \"startlinecolor\": \"#2a3f5f\"}, \"type\": \"carpet\"}], \"choropleth\": [{\"colorbar\": {\"outlinewidth\": 0, \"ticks\": \"\"}, \"type\": \"choropleth\"}], \"contour\": [{\"colorbar\": {\"outlinewidth\": 0, \"ticks\": \"\"}, \"colorscale\": [[0.0, \"#0d0887\"], [0.1111111111111111, \"#46039f\"], [0.2222222222222222, \"#7201a8\"], [0.3333333333333333, \"#9c179e\"], [0.4444444444444444, \"#bd3786\"], [0.5555555555555556, \"#d8576b\"], [0.6666666666666666, \"#ed7953\"], [0.7777777777777778, \"#fb9f3a\"], [0.8888888888888888, \"#fdca26\"], [1.0, \"#f0f921\"]], \"type\": \"contour\"}], \"contourcarpet\": [{\"colorbar\": {\"outlinewidth\": 0, \"ticks\": \"\"}, \"type\": \"contourcarpet\"}], \"heatmap\": [{\"colorbar\": {\"outlinewidth\": 0, \"ticks\": \"\"}, \"colorscale\": [[0.0, \"#0d0887\"], [0.1111111111111111, \"#46039f\"], [0.2222222222222222, \"#7201a8\"], [0.3333333333333333, \"#9c179e\"], [0.4444444444444444, \"#bd3786\"], [0.5555555555555556, \"#d8576b\"], [0.6666666666666666, \"#ed7953\"], [0.7777777777777778, \"#fb9f3a\"], [0.8888888888888888, \"#fdca26\"], [1.0, \"#f0f921\"]], \"type\": \"heatmap\"}], \"heatmapgl\": [{\"colorbar\": {\"outlinewidth\": 0, \"ticks\": \"\"}, \"colorscale\": [[0.0, \"#0d0887\"], [0.1111111111111111, \"#46039f\"], [0.2222222222222222, \"#7201a8\"], [0.3333333333333333, \"#9c179e\"], [0.4444444444444444, \"#bd3786\"], [0.5555555555555556, \"#d8576b\"], [0.6666666666666666, \"#ed7953\"], [0.7777777777777778, \"#fb9f3a\"], [0.8888888888888888, \"#fdca26\"], [1.0, \"#f0f921\"]], \"type\": \"heatmapgl\"}], \"histogram\": [{\"marker\": {\"colorbar\": {\"outlinewidth\": 0, \"ticks\": \"\"}}, \"type\": \"histogram\"}], \"histogram2d\": [{\"colorbar\": {\"outlinewidth\": 0, \"ticks\": \"\"}, \"colorscale\": [[0.0, \"#0d0887\"], [0.1111111111111111, \"#46039f\"], [0.2222222222222222, \"#7201a8\"], [0.3333333333333333, \"#9c179e\"], [0.4444444444444444, \"#bd3786\"], [0.5555555555555556, \"#d8576b\"], [0.6666666666666666, \"#ed7953\"], [0.7777777777777778, \"#fb9f3a\"], [0.8888888888888888, \"#fdca26\"], [1.0, \"#f0f921\"]], \"type\": \"histogram2d\"}], \"histogram2dcontour\": [{\"colorbar\": {\"outlinewidth\": 0, \"ticks\": \"\"}, \"colorscale\": [[0.0, \"#0d0887\"], [0.1111111111111111, \"#46039f\"], [0.2222222222222222, \"#7201a8\"], [0.3333333333333333, \"#9c179e\"], [0.4444444444444444, \"#bd3786\"], [0.5555555555555556, \"#d8576b\"], [0.6666666666666666, \"#ed7953\"], [0.7777777777777778, \"#fb9f3a\"], [0.8888888888888888, \"#fdca26\"], [1.0, \"#f0f921\"]], \"type\": \"histogram2dcontour\"}], \"mesh3d\": [{\"colorbar\": {\"outlinewidth\": 0, \"ticks\": \"\"}, \"type\": \"mesh3d\"}], \"parcoords\": [{\"line\": {\"colorbar\": {\"outlinewidth\": 0, \"ticks\": \"\"}}, \"type\": \"parcoords\"}], \"pie\": [{\"automargin\": true, \"type\": \"pie\"}], \"scatter\": [{\"marker\": {\"colorbar\": {\"outlinewidth\": 0, \"ticks\": \"\"}}, \"type\": \"scatter\"}], \"scatter3d\": [{\"line\": {\"colorbar\": {\"outlinewidth\": 0, \"ticks\": \"\"}}, \"marker\": {\"colorbar\": {\"outlinewidth\": 0, \"ticks\": \"\"}}, \"type\": \"scatter3d\"}], \"scattercarpet\": [{\"marker\": {\"colorbar\": {\"outlinewidth\": 0, \"ticks\": \"\"}}, \"type\": \"scattercarpet\"}], \"scattergeo\": [{\"marker\": {\"colorbar\": {\"outlinewidth\": 0, \"ticks\": \"\"}}, \"type\": \"scattergeo\"}], \"scattergl\": [{\"marker\": {\"colorbar\": {\"outlinewidth\": 0, \"ticks\": \"\"}}, \"type\": \"scattergl\"}], \"scattermapbox\": [{\"marker\": {\"colorbar\": {\"outlinewidth\": 0, \"ticks\": \"\"}}, \"type\": \"scattermapbox\"}], \"scatterpolar\": [{\"marker\": {\"colorbar\": {\"outlinewidth\": 0, \"ticks\": \"\"}}, \"type\": \"scatterpolar\"}], \"scatterpolargl\": [{\"marker\": {\"colorbar\": {\"outlinewidth\": 0, \"ticks\": \"\"}}, \"type\": \"scatterpolargl\"}], \"scatterternary\": [{\"marker\": {\"colorbar\": {\"outlinewidth\": 0, \"ticks\": \"\"}}, \"type\": \"scatterternary\"}], \"surface\": [{\"colorbar\": {\"outlinewidth\": 0, \"ticks\": \"\"}, \"colorscale\": [[0.0, \"#0d0887\"], [0.1111111111111111, \"#46039f\"], [0.2222222222222222, \"#7201a8\"], [0.3333333333333333, \"#9c179e\"], [0.4444444444444444, \"#bd3786\"], [0.5555555555555556, \"#d8576b\"], [0.6666666666666666, \"#ed7953\"], [0.7777777777777778, \"#fb9f3a\"], [0.8888888888888888, \"#fdca26\"], [1.0, \"#f0f921\"]], \"type\": \"surface\"}], \"table\": [{\"cells\": {\"fill\": {\"color\": \"#EBF0F8\"}, \"line\": {\"color\": \"white\"}}, \"header\": {\"fill\": {\"color\": \"#C8D4E3\"}, \"line\": {\"color\": \"white\"}}, \"type\": \"table\"}]}, \"layout\": {\"annotationdefaults\": {\"arrowcolor\": \"#2a3f5f\", \"arrowhead\": 0, \"arrowwidth\": 1}, \"autotypenumbers\": \"strict\", \"coloraxis\": {\"colorbar\": {\"outlinewidth\": 0, \"ticks\": \"\"}}, \"colorscale\": {\"diverging\": [[0, \"#8e0152\"], [0.1, \"#c51b7d\"], [0.2, \"#de77ae\"], [0.3, \"#f1b6da\"], [0.4, \"#fde0ef\"], [0.5, \"#f7f7f7\"], [0.6, \"#e6f5d0\"], [0.7, \"#b8e186\"], [0.8, \"#7fbc41\"], [0.9, \"#4d9221\"], [1, \"#276419\"]], \"sequential\": [[0.0, \"#0d0887\"], [0.1111111111111111, \"#46039f\"], [0.2222222222222222, \"#7201a8\"], [0.3333333333333333, \"#9c179e\"], [0.4444444444444444, \"#bd3786\"], [0.5555555555555556, \"#d8576b\"], [0.6666666666666666, \"#ed7953\"], [0.7777777777777778, \"#fb9f3a\"], [0.8888888888888888, \"#fdca26\"], [1.0, \"#f0f921\"]], \"sequentialminus\": [[0.0, \"#0d0887\"], [0.1111111111111111, \"#46039f\"], [0.2222222222222222, \"#7201a8\"], [0.3333333333333333, \"#9c179e\"], [0.4444444444444444, \"#bd3786\"], [0.5555555555555556, \"#d8576b\"], [0.6666666666666666, \"#ed7953\"], [0.7777777777777778, \"#fb9f3a\"], [0.8888888888888888, \"#fdca26\"], [1.0, \"#f0f921\"]]}, \"colorway\": [\"#636efa\", \"#EF553B\", \"#00cc96\", \"#ab63fa\", \"#FFA15A\", \"#19d3f3\", \"#FF6692\", \"#B6E880\", \"#FF97FF\", \"#FECB52\"], \"font\": {\"color\": \"#2a3f5f\"}, \"geo\": {\"bgcolor\": \"white\", \"lakecolor\": \"white\", \"landcolor\": \"#E5ECF6\", \"showlakes\": true, \"showland\": true, \"subunitcolor\": \"white\"}, \"hoverlabel\": {\"align\": \"left\"}, \"hovermode\": \"closest\", \"mapbox\": {\"style\": \"light\"}, \"paper_bgcolor\": \"white\", \"plot_bgcolor\": \"#E5ECF6\", \"polar\": {\"angularaxis\": {\"gridcolor\": \"white\", \"linecolor\": \"white\", \"ticks\": \"\"}, \"bgcolor\": \"#E5ECF6\", \"radialaxis\": {\"gridcolor\": \"white\", \"linecolor\": \"white\", \"ticks\": \"\"}}, \"scene\": {\"xaxis\": {\"backgroundcolor\": \"#E5ECF6\", \"gridcolor\": \"white\", \"gridwidth\": 2, \"linecolor\": \"white\", \"showbackground\": true, \"ticks\": \"\", \"zerolinecolor\": \"white\"}, \"yaxis\": {\"backgroundcolor\": \"#E5ECF6\", \"gridcolor\": \"white\", \"gridwidth\": 2, \"linecolor\": \"white\", \"showbackground\": true, \"ticks\": \"\", \"zerolinecolor\": \"white\"}, \"zaxis\": {\"backgroundcolor\": \"#E5ECF6\", \"gridcolor\": \"white\", \"gridwidth\": 2, \"linecolor\": \"white\", \"showbackground\": true, \"ticks\": \"\", \"zerolinecolor\": \"white\"}}, \"shapedefaults\": {\"line\": {\"color\": \"#2a3f5f\"}}, \"ternary\": {\"aaxis\": {\"gridcolor\": \"white\", \"linecolor\": \"white\", \"ticks\": \"\"}, \"baxis\": {\"gridcolor\": \"white\", \"linecolor\": \"white\", \"ticks\": \"\"}, \"bgcolor\": \"#E5ECF6\", \"caxis\": {\"gridcolor\": \"white\", \"linecolor\": \"white\", \"ticks\": \"\"}}, \"title\": {\"x\": 0.05}, \"xaxis\": {\"automargin\": true, \"gridcolor\": \"white\", \"linecolor\": \"white\", \"ticks\": \"\", \"title\": {\"standoff\": 15}, \"zerolinecolor\": \"white\", \"zerolinewidth\": 2}, \"yaxis\": {\"automargin\": true, \"gridcolor\": \"white\", \"linecolor\": \"white\", \"ticks\": \"\", \"title\": {\"standoff\": 15}, \"zerolinecolor\": \"white\", \"zerolinewidth\": 2}}}, \"title\": {\"font\": {\"color\": \"#4D5663\"}}, \"xaxis\": {\"gridcolor\": \"#E1E5ED\", \"showgrid\": true, \"tickfont\": {\"color\": \"#4D5663\"}, \"title\": {\"font\": {\"color\": \"#4D5663\"}, \"text\": \"\"}, \"zerolinecolor\": \"#E1E5ED\"}, \"yaxis\": {\"gridcolor\": \"#E1E5ED\", \"showgrid\": true, \"tickfont\": {\"color\": \"#4D5663\"}, \"title\": {\"font\": {\"color\": \"#4D5663\"}, \"text\": \"\"}, \"zerolinecolor\": \"#E1E5ED\"}},                        {\"showLink\": true, \"linkText\": \"Export to plot.ly\", \"plotlyServerURL\": \"https://plot.ly\", \"responsive\": true}                    ).then(function(){\n",
       "                            \n",
       "var gd = document.getElementById('878a72d1-f5c8-42b0-9b83-f88184703e7b');\n",
       "var x = new MutationObserver(function (mutations, observer) {{\n",
       "        var display = window.getComputedStyle(gd).display;\n",
       "        if (!display || display === 'none') {{\n",
       "            console.log([gd, 'removed!']);\n",
       "            Plotly.purge(gd);\n",
       "            observer.disconnect();\n",
       "        }}\n",
       "}});\n",
       "\n",
       "// Listen for the removal of the full notebook cells\n",
       "var notebookContainer = gd.closest('#notebook-container');\n",
       "if (notebookContainer) {{\n",
       "    x.observe(notebookContainer, {childList: true});\n",
       "}}\n",
       "\n",
       "// Listen for the clearing of the current output cell\n",
       "var outputEl = gd.closest('.output');\n",
       "if (outputEl) {{\n",
       "    x.observe(outputEl, {childList: true});\n",
       "}}\n",
       "\n",
       "                        })                };                });            </script>        </div>"
      ]
     },
     "metadata": {},
     "output_type": "display_data"
    }
   ],
   "source": [
    "import cufflinks as cf\n",
    "from plotly.offline import plot, iplot\n",
    "\n",
    "cf.go_offline()\n",
    "\n",
    "series_temp = df.loc[:, carteira.CNPJ_list]\n",
    "series_temp = (series_temp - series_temp.mean())/series_temp.std()\n",
    "\n",
    "series_temp.iplot()"
   ]
  },
  {
   "cell_type": "code",
   "execution_count": 47,
   "metadata": {
    "id": "HdJu-vrL16E7",
    "outputId": "433d6e65-737a-4297-edc7-4e1bfe042a8d"
   },
   "outputs": [
    {
     "data": {
      "text/plain": [
       "<AxesSubplot:title={'center':'Soma dos Escores Z das Séries'}>"
      ]
     },
     "execution_count": 47,
     "metadata": {},
     "output_type": "execute_result"
    },
    {
     "data": {
      "image/png": "[encoded data removed]",
      "text/plain": [
       "<Figure size 1152x864 with 1 Axes>"
      ]
     },
     "metadata": {
      "needs_background": "light"
     },
     "output_type": "display_data"
    }
   ],
   "source": [
    "series_temp.sum(axis=1).plot(figsize=(16, 12), title='Soma dos Escores Z das Séries', grid=True, linewidth=2.0)"
   ]
  },
  {
   "cell_type": "markdown",
   "metadata": {
    "id": "xqnYztof16FD"
   },
   "source": [
    "### Fronteira Eficiente no Plotly:"
   ]
  },
  {
   "cell_type": "code",
   "execution_count": 24,
   "metadata": {
    "id": "6OsEuw9K16FD",
    "outputId": "ca9d51d4-9e93-420c-caf2-d7eb82fe4131"
   },
   "outputs": [
    {
     "data": {
      "text/html": [
       "        <script type=\"text/javascript\">\n",
       "        window.PlotlyConfig = {MathJaxConfig: 'local'};\n",
       "        if (window.MathJax) {MathJax.Hub.Config({SVG: {font: \"STIX-Web\"}});}\n",
       "        if (typeof require !== 'undefined') {\n",
       "        require.undef(\"plotly\");\n",
       "        requirejs.config({\n",
       "            paths: {\n",
       "                'plotly': ['https://cdn.plot.ly/plotly-latest.min']\n",
       "            }\n",
       "        });\n",
       "        require(['plotly'], function(Plotly) {\n",
       "            window._Plotly = Plotly;\n",
       "        });\n",
       "        }\n",
       "        </script>\n",
       "        "
      ]
     },
     "metadata": {},
     "output_type": "display_data"
    }
   ],
   "source": [
    "import cufflinks as cf\n",
    "from plotly.offline import plot, iplot\n",
    "import plotly.express as px\n",
    "import plotly.graph_objects as go\n",
    "\n",
    "cf.go_offline()\n",
    "\n",
    "taxa_livre_de_risco = 0.0525\n",
    "\n",
    "a_risco = [cart.Risco for cart in carteiras]\n",
    "a_retorno = [cart.Retorno for cart in carteiras]\n",
    "a_sharpe = [ (cart.Retorno - taxa_livre_de_risco)/cart.Risco for cart in carteiras  ]\n",
    "\n",
    "dados = pd.DataFrame([a_risco, a_retorno, a_sharpe]).T\n",
    "\n",
    "dados.columns = ['VOLATILIDADE ESPERADA', 'RETORNO ESPERADO', 'SHARPE']\n",
    "dados['Opt'] = ['No'] * len(a_risco)\n",
    "dados['Opt'][idx_max_sharpe] = 'Yes'\n"
   ]
  },
  {
   "cell_type": "code",
   "execution_count": 25,
   "metadata": {
    "id": "m2D4EDNf16FE",
    "outputId": "f50b8d56-4371-402e-ce2e-6b40a4bf7fea",
    "scrolled": false
   },
   "outputs": [
    {
     "data": {
      "application/vnd.plotly.v1+json": {
       "config": {
        "plotlyServerURL": "https://plot.ly"
       },
       "data": [
        {
         "hovertemplate": "VOLATILIDADE ESPERADA=%{x}<br>RETORNO ESPERADO=%{y}<br>SHARPE=%{marker.color}<extra></extra>",
         "legendgroup": "",
         "marker": {
          "color": [
           0.7717727171113709,
           0.7717727171113697,
           0.7717727171113697,
           3.4368245617772706,
           5.373682993478341,
           6.7581691604504055,
           7.2228158043233135,
           7.411729069767013,
           7.381091882848981,
           7.498889929701102,
           7.458047321245698,
           7.293186383837344,
           7.180091303672742,
           7.089294774787873,
           6.815737896503788,
           6.814756082298708,
           6.710690783168285
          ],
          "coloraxis": "coloraxis",
          "size": 12,
          "symbol": "circle"
         },
         "mode": "markers",
         "name": "",
         "orientation": "v",
         "showlegend": false,
         "type": "scatter",
         "x": [
          0.01057550627456946,
          0.010575506274569465,
          0.010575506274569465,
          0.01091123486984386,
          0.012561217340494419,
          0.014426984244576379,
          0.01765239533364303,
          0.021250102171496532,
          0.02540274568803065,
          0.029004292907212906,
          0.033185630144092565,
          0.03804921270282855,
          0.04282675344848448,
          0.04760699205233696,
          0.05391932694309056,
          0.058329307050696104,
          0.06370432103238212
         ],
         "xaxis": "x",
         "y": [
          0.06066188721235282,
          0.060661887212352814,
          0.060661887212352814,
          0.09,
          0.12000000000000008,
          0.14999999999999997,
          0.18,
          0.20999999999999996,
          0.24,
          0.26999999999999996,
          0.30000000000000004,
          0.33000000000000007,
          0.36000000000000004,
          0.3900000000000002,
          0.4200000000000001,
          0.4500000000000002,
          0.4800000000000002
         ],
         "yaxis": "y"
        }
       ],
       "layout": {
        "coloraxis": {
         "colorbar": {
          "title": {
           "text": "SHARPE"
          }
         },
         "colorscale": [
          [
           0,
           "#0d0887"
          ],
          [
           0.1111111111111111,
           "#46039f"
          ],
          [
           0.2222222222222222,
           "#7201a8"
          ],
          [
           0.3333333333333333,
           "#9c179e"
          ],
          [
           0.4444444444444444,
           "#bd3786"
          ],
          [
           0.5555555555555556,
           "#d8576b"
          ],
          [
           0.6666666666666666,
           "#ed7953"
          ],
          [
           0.7777777777777778,
           "#fb9f3a"
          ],
          [
           0.8888888888888888,
           "#fdca26"
          ],
          [
           1,
           "#f0f921"
          ]
         ]
        },
        "legend": {
         "tracegroupgap": 0
        },
        "margin": {
         "t": 60
        },
        "template": {
         "data": {
          "bar": [
           {
            "error_x": {
             "color": "#2a3f5f"
            },
            "error_y": {
             "color": "#2a3f5f"
            },
            "marker": {
             "line": {
              "color": "#E5ECF6",
              "width": 0.5
             }
            },
            "type": "bar"
           }
          ],
          "barpolar": [
           {
            "marker": {
             "line": {
              "color": "#E5ECF6",
              "width": 0.5
             }
            },
            "type": "barpolar"
           }
          ],
          "carpet": [
           {
            "aaxis": {
             "endlinecolor": "#2a3f5f",
             "gridcolor": "white",
             "linecolor": "white",
             "minorgridcolor": "white",
             "startlinecolor": "#2a3f5f"
            },
            "baxis": {
             "endlinecolor": "#2a3f5f",
             "gridcolor": "white",
             "linecolor": "white",
             "minorgridcolor": "white",
             "startlinecolor": "#2a3f5f"
            },
            "type": "carpet"
           }
          ],
          "choropleth": [
           {
            "colorbar": {
             "outlinewidth": 0,
             "ticks": ""
            },
            "type": "choropleth"
           }
          ],
          "contour": [
           {
            "colorbar": {
             "outlinewidth": 0,
             "ticks": ""
            },
            "colorscale": [
             [
              0,
              "#0d0887"
             ],
             [
              0.1111111111111111,
              "#46039f"
             ],
             [
              0.2222222222222222,
              "#7201a8"
             ],
             [
              0.3333333333333333,
              "#9c179e"
             ],
             [
              0.4444444444444444,
              "#bd3786"
             ],
             [
              0.5555555555555556,
              "#d8576b"
             ],
             [
              0.6666666666666666,
              "#ed7953"
             ],
             [
              0.7777777777777778,
              "#fb9f3a"
             ],
             [
              0.8888888888888888,
              "#fdca26"
             ],
             [
              1,
              "#f0f921"
             ]
            ],
            "type": "contour"
           }
          ],
          "contourcarpet": [
           {
            "colorbar": {
             "outlinewidth": 0,
             "ticks": ""
            },
            "type": "contourcarpet"
           }
          ],
          "heatmap": [
           {
            "colorbar": {
             "outlinewidth": 0,
             "ticks": ""
            },
            "colorscale": [
             [
              0,
              "#0d0887"
             ],
             [
              0.1111111111111111,
              "#46039f"
             ],
             [
              0.2222222222222222,
              "#7201a8"
             ],
             [
              0.3333333333333333,
              "#9c179e"
             ],
             [
              0.4444444444444444,
              "#bd3786"
             ],
             [
              0.5555555555555556,
              "#d8576b"
             ],
             [
              0.6666666666666666,
              "#ed7953"
             ],
             [
              0.7777777777777778,
              "#fb9f3a"
             ],
             [
              0.8888888888888888,
              "#fdca26"
             ],
             [
              1,
              "#f0f921"
             ]
            ],
            "type": "heatmap"
           }
          ],
          "heatmapgl": [
           {
            "colorbar": {
             "outlinewidth": 0,
             "ticks": ""
            },
            "colorscale": [
             [
              0,
              "#0d0887"
             ],
             [
              0.1111111111111111,
              "#46039f"
             ],
             [
              0.2222222222222222,
              "#7201a8"
             ],
             [
              0.3333333333333333,
              "#9c179e"
             ],
             [
              0.4444444444444444,
              "#bd3786"
             ],
             [
              0.5555555555555556,
              "#d8576b"
             ],
             [
              0.6666666666666666,
              "#ed7953"
             ],
             [
              0.7777777777777778,
              "#fb9f3a"
             ],
             [
              0.8888888888888888,
              "#fdca26"
             ],
             [
              1,
              "#f0f921"
             ]
            ],
            "type": "heatmapgl"
           }
          ],
          "histogram": [
           {
            "marker": {
             "colorbar": {
              "outlinewidth": 0,
              "ticks": ""
             }
            },
            "type": "histogram"
           }
          ],
          "histogram2d": [
           {
            "colorbar": {
             "outlinewidth": 0,
             "ticks": ""
            },
            "colorscale": [
             [
              0,
              "#0d0887"
             ],
             [
              0.1111111111111111,
              "#46039f"
             ],
             [
              0.2222222222222222,
              "#7201a8"
             ],
             [
              0.3333333333333333,
              "#9c179e"
             ],
             [
              0.4444444444444444,
              "#bd3786"
             ],
             [
              0.5555555555555556,
              "#d8576b"
             ],
             [
              0.6666666666666666,
              "#ed7953"
             ],
             [
              0.7777777777777778,
              "#fb9f3a"
             ],
             [
              0.8888888888888888,
              "#fdca26"
             ],
             [
              1,
              "#f0f921"
             ]
            ],
            "type": "histogram2d"
           }
          ],
          "histogram2dcontour": [
           {
            "colorbar": {
             "outlinewidth": 0,
             "ticks": ""
            },
            "colorscale": [
             [
              0,
              "#0d0887"
             ],
             [
              0.1111111111111111,
              "#46039f"
             ],
             [
              0.2222222222222222,
              "#7201a8"
             ],
             [
              0.3333333333333333,
              "#9c179e"
             ],
             [
              0.4444444444444444,
              "#bd3786"
             ],
             [
              0.5555555555555556,
              "#d8576b"
             ],
             [
              0.6666666666666666,
              "#ed7953"
             ],
             [
              0.7777777777777778,
              "#fb9f3a"
             ],
             [
              0.8888888888888888,
              "#fdca26"
             ],
             [
              1,
              "#f0f921"
             ]
            ],
            "type": "histogram2dcontour"
           }
          ],
          "mesh3d": [
           {
            "colorbar": {
             "outlinewidth": 0,
             "ticks": ""
            },
            "type": "mesh3d"
           }
          ],
          "parcoords": [
           {
            "line": {
             "colorbar": {
              "outlinewidth": 0,
              "ticks": ""
             }
            },
            "type": "parcoords"
           }
          ],
          "pie": [
           {
            "automargin": true,
            "type": "pie"
           }
          ],
          "scatter": [
           {
            "marker": {
             "colorbar": {
              "outlinewidth": 0,
              "ticks": ""
             }
            },
            "type": "scatter"
           }
          ],
          "scatter3d": [
           {
            "line": {
             "colorbar": {
              "outlinewidth": 0,
              "ticks": ""
             }
            },
            "marker": {
             "colorbar": {
              "outlinewidth": 0,
              "ticks": ""
             }
            },
            "type": "scatter3d"
           }
          ],
          "scattercarpet": [
           {
            "marker": {
             "colorbar": {
              "outlinewidth": 0,
              "ticks": ""
             }
            },
            "type": "scattercarpet"
           }
          ],
          "scattergeo": [
           {
            "marker": {
             "colorbar": {
              "outlinewidth": 0,
              "ticks": ""
             }
            },
            "type": "scattergeo"
           }
          ],
          "scattergl": [
           {
            "marker": {
             "colorbar": {
              "outlinewidth": 0,
              "ticks": ""
             }
            },
            "type": "scattergl"
           }
          ],
          "scattermapbox": [
           {
            "marker": {
             "colorbar": {
              "outlinewidth": 0,
              "ticks": ""
             }
            },
            "type": "scattermapbox"
           }
          ],
          "scatterpolar": [
           {
            "marker": {
             "colorbar": {
              "outlinewidth": 0,
              "ticks": ""
             }
            },
            "type": "scatterpolar"
           }
          ],
          "scatterpolargl": [
           {
            "marker": {
             "colorbar": {
              "outlinewidth": 0,
              "ticks": ""
             }
            },
            "type": "scatterpolargl"
           }
          ],
          "scatterternary": [
           {
            "marker": {
             "colorbar": {
              "outlinewidth": 0,
              "ticks": ""
             }
            },
            "type": "scatterternary"
           }
          ],
          "surface": [
           {
            "colorbar": {
             "outlinewidth": 0,
             "ticks": ""
            },
            "colorscale": [
             [
              0,
              "#0d0887"
             ],
             [
              0.1111111111111111,
              "#46039f"
             ],
             [
              0.2222222222222222,
              "#7201a8"
             ],
             [
              0.3333333333333333,
              "#9c179e"
             ],
             [
              0.4444444444444444,
              "#bd3786"
             ],
             [
              0.5555555555555556,
              "#d8576b"
             ],
             [
              0.6666666666666666,
              "#ed7953"
             ],
             [
              0.7777777777777778,
              "#fb9f3a"
             ],
             [
              0.8888888888888888,
              "#fdca26"
             ],
             [
              1,
              "#f0f921"
             ]
            ],
            "type": "surface"
           }
          ],
          "table": [
           {
            "cells": {
             "fill": {
              "color": "#EBF0F8"
             },
             "line": {
              "color": "white"
             }
            },
            "header": {
             "fill": {
              "color": "#C8D4E3"
             },
             "line": {
              "color": "white"
             }
            },
            "type": "table"
           }
          ]
         },
         "layout": {
          "annotationdefaults": {
           "arrowcolor": "#2a3f5f",
           "arrowhead": 0,
           "arrowwidth": 1
          },
          "autotypenumbers": "strict",
          "coloraxis": {
           "colorbar": {
            "outlinewidth": 0,
            "ticks": ""
           }
          },
          "colorscale": {
           "diverging": [
            [
             0,
             "#8e0152"
            ],
            [
             0.1,
             "#c51b7d"
            ],
            [
             0.2,
             "#de77ae"
            ],
            [
             0.3,
             "#f1b6da"
            ],
            [
             0.4,
             "#fde0ef"
            ],
            [
             0.5,
             "#f7f7f7"
            ],
            [
             0.6,
             "#e6f5d0"
            ],
            [
             0.7,
             "#b8e186"
            ],
            [
             0.8,
             "#7fbc41"
            ],
            [
             0.9,
             "#4d9221"
            ],
            [
             1,
             "#276419"
            ]
           ],
           "sequential": [
            [
             0,
             "#0d0887"
            ],
            [
             0.1111111111111111,
             "#46039f"
            ],
            [
             0.2222222222222222,
             "#7201a8"
            ],
            [
             0.3333333333333333,
             "#9c179e"
            ],
            [
             0.4444444444444444,
             "#bd3786"
            ],
            [
             0.5555555555555556,
             "#d8576b"
            ],
            [
             0.6666666666666666,
             "#ed7953"
            ],
            [
             0.7777777777777778,
             "#fb9f3a"
            ],
            [
             0.8888888888888888,
             "#fdca26"
            ],
            [
             1,
             "#f0f921"
            ]
           ],
           "sequentialminus": [
            [
             0,
             "#0d0887"
            ],
            [
             0.1111111111111111,
             "#46039f"
            ],
            [
             0.2222222222222222,
             "#7201a8"
            ],
            [
             0.3333333333333333,
             "#9c179e"
            ],
            [
             0.4444444444444444,
             "#bd3786"
            ],
            [
             0.5555555555555556,
             "#d8576b"
            ],
            [
             0.6666666666666666,
             "#ed7953"
            ],
            [
             0.7777777777777778,
             "#fb9f3a"
            ],
            [
             0.8888888888888888,
             "#fdca26"
            ],
            [
             1,
             "#f0f921"
            ]
           ]
          },
          "colorway": [
           "#636efa",
           "#EF553B",
           "#00cc96",
           "#ab63fa",
           "#FFA15A",
           "#19d3f3",
           "#FF6692",
           "#B6E880",
           "#FF97FF",
           "#FECB52"
          ],
          "font": {
           "color": "#2a3f5f"
          },
          "geo": {
           "bgcolor": "white",
           "lakecolor": "white",
           "landcolor": "#E5ECF6",
           "showlakes": true,
           "showland": true,
           "subunitcolor": "white"
          },
          "hoverlabel": {
           "align": "left"
          },
          "hovermode": "closest",
          "mapbox": {
           "style": "light"
          },
          "paper_bgcolor": "white",
          "plot_bgcolor": "#E5ECF6",
          "polar": {
           "angularaxis": {
            "gridcolor": "white",
            "linecolor": "white",
            "ticks": ""
           },
           "bgcolor": "#E5ECF6",
           "radialaxis": {
            "gridcolor": "white",
            "linecolor": "white",
            "ticks": ""
           }
          },
          "scene": {
           "xaxis": {
            "backgroundcolor": "#E5ECF6",
            "gridcolor": "white",
            "gridwidth": 2,
            "linecolor": "white",
            "showbackground": true,
            "ticks": "",
            "zerolinecolor": "white"
           },
           "yaxis": {
            "backgroundcolor": "#E5ECF6",
            "gridcolor": "white",
            "gridwidth": 2,
            "linecolor": "white",
            "showbackground": true,
            "ticks": "",
            "zerolinecolor": "white"
           },
           "zaxis": {
            "backgroundcolor": "#E5ECF6",
            "gridcolor": "white",
            "gridwidth": 2,
            "linecolor": "white",
            "showbackground": true,
            "ticks": "",
            "zerolinecolor": "white"
           }
          },
          "shapedefaults": {
           "line": {
            "color": "#2a3f5f"
           }
          },
          "ternary": {
           "aaxis": {
            "gridcolor": "white",
            "linecolor": "white",
            "ticks": ""
           },
           "baxis": {
            "gridcolor": "white",
            "linecolor": "white",
            "ticks": ""
           },
           "bgcolor": "#E5ECF6",
           "caxis": {
            "gridcolor": "white",
            "linecolor": "white",
            "ticks": ""
           }
          },
          "title": {
           "x": 0.05
          },
          "xaxis": {
           "automargin": true,
           "gridcolor": "white",
           "linecolor": "white",
           "ticks": "",
           "title": {
            "standoff": 15
           },
           "zerolinecolor": "white",
           "zerolinewidth": 2
          },
          "yaxis": {
           "automargin": true,
           "gridcolor": "white",
           "linecolor": "white",
           "ticks": "",
           "title": {
            "standoff": 15
           },
           "zerolinecolor": "white",
           "zerolinewidth": 2
          }
         }
        },
        "xaxis": {
         "anchor": "y",
         "domain": [
          0,
          1
         ],
         "title": {
          "text": "VOLATILIDADE ESPERADA"
         }
        },
        "yaxis": {
         "anchor": "x",
         "domain": [
          0,
          1
         ],
         "title": {
          "text": "RETORNO ESPERADO"
         }
        }
       }
      },
      "text/html": [
       "<div>                            <div id=\"cdfc99fc-10a6-4e3d-812e-1702c2dec677\" class=\"plotly-graph-div\" style=\"height:525px; width:100%;\"></div>            <script type=\"text/javascript\">                require([\"plotly\"], function(Plotly) {                    window.PLOTLYENV=window.PLOTLYENV || {};                                    if (document.getElementById(\"cdfc99fc-10a6-4e3d-812e-1702c2dec677\")) {                    Plotly.newPlot(                        \"cdfc99fc-10a6-4e3d-812e-1702c2dec677\",                        [{\"hovertemplate\": \"VOLATILIDADE ESPERADA=%{x}<br>RETORNO ESPERADO=%{y}<br>SHARPE=%{marker.color}<extra></extra>\", \"legendgroup\": \"\", \"marker\": {\"color\": [0.7717727171113709, 0.7717727171113697, 0.7717727171113697, 3.4368245617772706, 5.373682993478341, 6.7581691604504055, 7.2228158043233135, 7.411729069767013, 7.381091882848981, 7.498889929701102, 7.458047321245698, 7.293186383837344, 7.180091303672742, 7.089294774787873, 6.815737896503788, 6.814756082298708, 6.710690783168285], \"coloraxis\": \"coloraxis\", \"size\": 12, \"symbol\": \"circle\"}, \"mode\": \"markers\", \"name\": \"\", \"orientation\": \"v\", \"showlegend\": false, \"type\": \"scatter\", \"x\": [0.01057550627456946, 0.010575506274569465, 0.010575506274569465, 0.01091123486984386, 0.012561217340494419, 0.014426984244576379, 0.01765239533364303, 0.021250102171496532, 0.02540274568803065, 0.029004292907212906, 0.033185630144092565, 0.03804921270282855, 0.04282675344848448, 0.04760699205233696, 0.05391932694309056, 0.058329307050696104, 0.06370432103238212], \"xaxis\": \"x\", \"y\": [0.06066188721235282, 0.060661887212352814, 0.060661887212352814, 0.09, 0.12000000000000008, 0.14999999999999997, 0.18, 0.20999999999999996, 0.24, 0.26999999999999996, 0.30000000000000004, 0.33000000000000007, 0.36000000000000004, 0.3900000000000002, 0.4200000000000001, 0.4500000000000002, 0.4800000000000002], \"yaxis\": \"y\"}],                        {\"coloraxis\": {\"colorbar\": {\"title\": {\"text\": \"SHARPE\"}}, \"colorscale\": [[0.0, \"#0d0887\"], [0.1111111111111111, \"#46039f\"], [0.2222222222222222, \"#7201a8\"], [0.3333333333333333, \"#9c179e\"], [0.4444444444444444, \"#bd3786\"], [0.5555555555555556, \"#d8576b\"], [0.6666666666666666, \"#ed7953\"], [0.7777777777777778, \"#fb9f3a\"], [0.8888888888888888, \"#fdca26\"], [1.0, \"#f0f921\"]]}, \"legend\": {\"tracegroupgap\": 0}, \"margin\": {\"t\": 60}, \"template\": {\"data\": {\"bar\": [{\"error_x\": {\"color\": \"#2a3f5f\"}, \"error_y\": {\"color\": \"#2a3f5f\"}, \"marker\": {\"line\": {\"color\": \"#E5ECF6\", \"width\": 0.5}}, \"type\": \"bar\"}], \"barpolar\": [{\"marker\": {\"line\": {\"color\": \"#E5ECF6\", \"width\": 0.5}}, \"type\": \"barpolar\"}], \"carpet\": [{\"aaxis\": {\"endlinecolor\": \"#2a3f5f\", \"gridcolor\": \"white\", \"linecolor\": \"white\", \"minorgridcolor\": \"white\", \"startlinecolor\": \"#2a3f5f\"}, \"baxis\": {\"endlinecolor\": \"#2a3f5f\", \"gridcolor\": \"white\", \"linecolor\": \"white\", \"minorgridcolor\": \"white\", \"startlinecolor\": \"#2a3f5f\"}, \"type\": \"carpet\"}], \"choropleth\": [{\"colorbar\": {\"outlinewidth\": 0, \"ticks\": \"\"}, \"type\": \"choropleth\"}], \"contour\": [{\"colorbar\": {\"outlinewidth\": 0, \"ticks\": \"\"}, \"colorscale\": [[0.0, \"#0d0887\"], [0.1111111111111111, \"#46039f\"], [0.2222222222222222, \"#7201a8\"], [0.3333333333333333, \"#9c179e\"], [0.4444444444444444, \"#bd3786\"], [0.5555555555555556, \"#d8576b\"], [0.6666666666666666, \"#ed7953\"], [0.7777777777777778, \"#fb9f3a\"], [0.8888888888888888, \"#fdca26\"], [1.0, \"#f0f921\"]], \"type\": \"contour\"}], \"contourcarpet\": [{\"colorbar\": {\"outlinewidth\": 0, \"ticks\": \"\"}, \"type\": \"contourcarpet\"}], \"heatmap\": [{\"colorbar\": {\"outlinewidth\": 0, \"ticks\": \"\"}, \"colorscale\": [[0.0, \"#0d0887\"], [0.1111111111111111, \"#46039f\"], [0.2222222222222222, \"#7201a8\"], [0.3333333333333333, \"#9c179e\"], [0.4444444444444444, \"#bd3786\"], [0.5555555555555556, \"#d8576b\"], [0.6666666666666666, \"#ed7953\"], [0.7777777777777778, \"#fb9f3a\"], [0.8888888888888888, \"#fdca26\"], [1.0, \"#f0f921\"]], \"type\": \"heatmap\"}], \"heatmapgl\": [{\"colorbar\": {\"outlinewidth\": 0, \"ticks\": \"\"}, \"colorscale\": [[0.0, \"#0d0887\"], [0.1111111111111111, \"#46039f\"], [0.2222222222222222, \"#7201a8\"], [0.3333333333333333, \"#9c179e\"], [0.4444444444444444, \"#bd3786\"], [0.5555555555555556, \"#d8576b\"], [0.6666666666666666, \"#ed7953\"], [0.7777777777777778, \"#fb9f3a\"], [0.8888888888888888, \"#fdca26\"], [1.0, \"#f0f921\"]], \"type\": \"heatmapgl\"}], \"histogram\": [{\"marker\": {\"colorbar\": {\"outlinewidth\": 0, \"ticks\": \"\"}}, \"type\": \"histogram\"}], \"histogram2d\": [{\"colorbar\": {\"outlinewidth\": 0, \"ticks\": \"\"}, \"colorscale\": [[0.0, \"#0d0887\"], [0.1111111111111111, \"#46039f\"], [0.2222222222222222, \"#7201a8\"], [0.3333333333333333, \"#9c179e\"], [0.4444444444444444, \"#bd3786\"], [0.5555555555555556, \"#d8576b\"], [0.6666666666666666, \"#ed7953\"], [0.7777777777777778, \"#fb9f3a\"], [0.8888888888888888, \"#fdca26\"], [1.0, \"#f0f921\"]], \"type\": \"histogram2d\"}], \"histogram2dcontour\": [{\"colorbar\": {\"outlinewidth\": 0, \"ticks\": \"\"}, \"colorscale\": [[0.0, \"#0d0887\"], [0.1111111111111111, \"#46039f\"], [0.2222222222222222, \"#7201a8\"], [0.3333333333333333, \"#9c179e\"], [0.4444444444444444, \"#bd3786\"], [0.5555555555555556, \"#d8576b\"], [0.6666666666666666, \"#ed7953\"], [0.7777777777777778, \"#fb9f3a\"], [0.8888888888888888, \"#fdca26\"], [1.0, \"#f0f921\"]], \"type\": \"histogram2dcontour\"}], \"mesh3d\": [{\"colorbar\": {\"outlinewidth\": 0, \"ticks\": \"\"}, \"type\": \"mesh3d\"}], \"parcoords\": [{\"line\": {\"colorbar\": {\"outlinewidth\": 0, \"ticks\": \"\"}}, \"type\": \"parcoords\"}], \"pie\": [{\"automargin\": true, \"type\": \"pie\"}], \"scatter\": [{\"marker\": {\"colorbar\": {\"outlinewidth\": 0, \"ticks\": \"\"}}, \"type\": \"scatter\"}], \"scatter3d\": [{\"line\": {\"colorbar\": {\"outlinewidth\": 0, \"ticks\": \"\"}}, \"marker\": {\"colorbar\": {\"outlinewidth\": 0, \"ticks\": \"\"}}, \"type\": \"scatter3d\"}], \"scattercarpet\": [{\"marker\": {\"colorbar\": {\"outlinewidth\": 0, \"ticks\": \"\"}}, \"type\": \"scattercarpet\"}], \"scattergeo\": [{\"marker\": {\"colorbar\": {\"outlinewidth\": 0, \"ticks\": \"\"}}, \"type\": \"scattergeo\"}], \"scattergl\": [{\"marker\": {\"colorbar\": {\"outlinewidth\": 0, \"ticks\": \"\"}}, \"type\": \"scattergl\"}], \"scattermapbox\": [{\"marker\": {\"colorbar\": {\"outlinewidth\": 0, \"ticks\": \"\"}}, \"type\": \"scattermapbox\"}], \"scatterpolar\": [{\"marker\": {\"colorbar\": {\"outlinewidth\": 0, \"ticks\": \"\"}}, \"type\": \"scatterpolar\"}], \"scatterpolargl\": [{\"marker\": {\"colorbar\": {\"outlinewidth\": 0, \"ticks\": \"\"}}, \"type\": \"scatterpolargl\"}], \"scatterternary\": [{\"marker\": {\"colorbar\": {\"outlinewidth\": 0, \"ticks\": \"\"}}, \"type\": \"scatterternary\"}], \"surface\": [{\"colorbar\": {\"outlinewidth\": 0, \"ticks\": \"\"}, \"colorscale\": [[0.0, \"#0d0887\"], [0.1111111111111111, \"#46039f\"], [0.2222222222222222, \"#7201a8\"], [0.3333333333333333, \"#9c179e\"], [0.4444444444444444, \"#bd3786\"], [0.5555555555555556, \"#d8576b\"], [0.6666666666666666, \"#ed7953\"], [0.7777777777777778, \"#fb9f3a\"], [0.8888888888888888, \"#fdca26\"], [1.0, \"#f0f921\"]], \"type\": \"surface\"}], \"table\": [{\"cells\": {\"fill\": {\"color\": \"#EBF0F8\"}, \"line\": {\"color\": \"white\"}}, \"header\": {\"fill\": {\"color\": \"#C8D4E3\"}, \"line\": {\"color\": \"white\"}}, \"type\": \"table\"}]}, \"layout\": {\"annotationdefaults\": {\"arrowcolor\": \"#2a3f5f\", \"arrowhead\": 0, \"arrowwidth\": 1}, \"autotypenumbers\": \"strict\", \"coloraxis\": {\"colorbar\": {\"outlinewidth\": 0, \"ticks\": \"\"}}, \"colorscale\": {\"diverging\": [[0, \"#8e0152\"], [0.1, \"#c51b7d\"], [0.2, \"#de77ae\"], [0.3, \"#f1b6da\"], [0.4, \"#fde0ef\"], [0.5, \"#f7f7f7\"], [0.6, \"#e6f5d0\"], [0.7, \"#b8e186\"], [0.8, \"#7fbc41\"], [0.9, \"#4d9221\"], [1, \"#276419\"]], \"sequential\": [[0.0, \"#0d0887\"], [0.1111111111111111, \"#46039f\"], [0.2222222222222222, \"#7201a8\"], [0.3333333333333333, \"#9c179e\"], [0.4444444444444444, \"#bd3786\"], [0.5555555555555556, \"#d8576b\"], [0.6666666666666666, \"#ed7953\"], [0.7777777777777778, \"#fb9f3a\"], [0.8888888888888888, \"#fdca26\"], [1.0, \"#f0f921\"]], \"sequentialminus\": [[0.0, \"#0d0887\"], [0.1111111111111111, \"#46039f\"], [0.2222222222222222, \"#7201a8\"], [0.3333333333333333, \"#9c179e\"], [0.4444444444444444, \"#bd3786\"], [0.5555555555555556, \"#d8576b\"], [0.6666666666666666, \"#ed7953\"], [0.7777777777777778, \"#fb9f3a\"], [0.8888888888888888, \"#fdca26\"], [1.0, \"#f0f921\"]]}, \"colorway\": [\"#636efa\", \"#EF553B\", \"#00cc96\", \"#ab63fa\", \"#FFA15A\", \"#19d3f3\", \"#FF6692\", \"#B6E880\", \"#FF97FF\", \"#FECB52\"], \"font\": {\"color\": \"#2a3f5f\"}, \"geo\": {\"bgcolor\": \"white\", \"lakecolor\": \"white\", \"landcolor\": \"#E5ECF6\", \"showlakes\": true, \"showland\": true, \"subunitcolor\": \"white\"}, \"hoverlabel\": {\"align\": \"left\"}, \"hovermode\": \"closest\", \"mapbox\": {\"style\": \"light\"}, \"paper_bgcolor\": \"white\", \"plot_bgcolor\": \"#E5ECF6\", \"polar\": {\"angularaxis\": {\"gridcolor\": \"white\", \"linecolor\": \"white\", \"ticks\": \"\"}, \"bgcolor\": \"#E5ECF6\", \"radialaxis\": {\"gridcolor\": \"white\", \"linecolor\": \"white\", \"ticks\": \"\"}}, \"scene\": {\"xaxis\": {\"backgroundcolor\": \"#E5ECF6\", \"gridcolor\": \"white\", \"gridwidth\": 2, \"linecolor\": \"white\", \"showbackground\": true, \"ticks\": \"\", \"zerolinecolor\": \"white\"}, \"yaxis\": {\"backgroundcolor\": \"#E5ECF6\", \"gridcolor\": \"white\", \"gridwidth\": 2, \"linecolor\": \"white\", \"showbackground\": true, \"ticks\": \"\", \"zerolinecolor\": \"white\"}, \"zaxis\": {\"backgroundcolor\": \"#E5ECF6\", \"gridcolor\": \"white\", \"gridwidth\": 2, \"linecolor\": \"white\", \"showbackground\": true, \"ticks\": \"\", \"zerolinecolor\": \"white\"}}, \"shapedefaults\": {\"line\": {\"color\": \"#2a3f5f\"}}, \"ternary\": {\"aaxis\": {\"gridcolor\": \"white\", \"linecolor\": \"white\", \"ticks\": \"\"}, \"baxis\": {\"gridcolor\": \"white\", \"linecolor\": \"white\", \"ticks\": \"\"}, \"bgcolor\": \"#E5ECF6\", \"caxis\": {\"gridcolor\": \"white\", \"linecolor\": \"white\", \"ticks\": \"\"}}, \"title\": {\"x\": 0.05}, \"xaxis\": {\"automargin\": true, \"gridcolor\": \"white\", \"linecolor\": \"white\", \"ticks\": \"\", \"title\": {\"standoff\": 15}, \"zerolinecolor\": \"white\", \"zerolinewidth\": 2}, \"yaxis\": {\"automargin\": true, \"gridcolor\": \"white\", \"linecolor\": \"white\", \"ticks\": \"\", \"title\": {\"standoff\": 15}, \"zerolinecolor\": \"white\", \"zerolinewidth\": 2}}}, \"xaxis\": {\"anchor\": \"y\", \"domain\": [0.0, 1.0], \"title\": {\"text\": \"VOLATILIDADE ESPERADA\"}}, \"yaxis\": {\"anchor\": \"x\", \"domain\": [0.0, 1.0], \"title\": {\"text\": \"RETORNO ESPERADO\"}}},                        {\"responsive\": true}                    ).then(function(){\n",
       "                            \n",
       "var gd = document.getElementById('cdfc99fc-10a6-4e3d-812e-1702c2dec677');\n",
       "var x = new MutationObserver(function (mutations, observer) {{\n",
       "        var display = window.getComputedStyle(gd).display;\n",
       "        if (!display || display === 'none') {{\n",
       "            console.log([gd, 'removed!']);\n",
       "            Plotly.purge(gd);\n",
       "            observer.disconnect();\n",
       "        }}\n",
       "}});\n",
       "\n",
       "// Listen for the removal of the full notebook cells\n",
       "var notebookContainer = gd.closest('#notebook-container');\n",
       "if (notebookContainer) {{\n",
       "    x.observe(notebookContainer, {childList: true});\n",
       "}}\n",
       "\n",
       "// Listen for the clearing of the current output cell\n",
       "var outputEl = gd.closest('.output');\n",
       "if (outputEl) {{\n",
       "    x.observe(outputEl, {childList: true});\n",
       "}}\n",
       "\n",
       "                        })                };                });            </script>        </div>"
      ]
     },
     "metadata": {},
     "output_type": "display_data"
    }
   ],
   "source": [
    "fig = px.scatter(dados, x='VOLATILIDADE ESPERADA', y='RETORNO ESPERADO', color='SHARPE')\n",
    "\n",
    "#fig.add_trace(go.Scatter(x = [a_risco[idx_max_sharpe]], y = [a_retorno[idx_max_sharpe]], mode='markers', \n",
    "#    marker_color='rgb(255, 0, 0)', showlegend=False, name=f'Sharpe: {a_sharpe[idx_max_sharpe]}'))\n",
    "\n",
    "fig.update_traces(marker_size = 12)\n",
    "\n",
    "fig.show()"
   ]
  }
 ],
 "metadata": {
  "colab": {
   "collapsed_sections": [],
   "name": "Markowitz_client.ipynb",
   "provenance": []
  },
  "kernelspec": {
   "display_name": "Python 3",
   "language": "python",
   "name": "python3"
  },
  "language_info": {
   "codemirror_mode": {
    "name": "ipython",
    "version": 3
   },
   "file_extension": ".py",
   "mimetype": "text/x-python",
   "name": "python",
   "nbconvert_exporter": "python",
   "pygments_lexer": "ipython3",
   "version": "3.8.5"
  }
 },
 "nbformat": 4,
 "nbformat_minor": 1
}
