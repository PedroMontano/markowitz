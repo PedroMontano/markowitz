{
 "cells": [
  {
   "cell_type": "code",
   "execution_count": 95,
   "metadata": {},
   "outputs": [],
   "source": [
    "import gurobipy as gp\n",
    "import math\n",
    "import numpy as np\n",
    "import pandas as pd\n",
    "import matplotlib.pyplot as plt\n",
    "#import re\n",
    "import time\n",
    "\n",
    "%matplotlib inline\n",
    "\n",
    "from markowitz import Markowitz"
   ]
  },
  {
   "cell_type": "code",
   "execution_count": 36,
   "metadata": {},
   "outputs": [],
   "source": [
    "def geo_mean(iterable):\n",
    "    a = np.array(iterable)\n",
    "    return a.prod()**(1.0/len(a))"
   ]
  },
  {
   "cell_type": "markdown",
   "metadata": {},
   "source": [
    "### Leitura dos dados de entrada:"
   ]
  },
  {
   "cell_type": "code",
   "execution_count": 37,
   "metadata": {},
   "outputs": [],
   "source": [
    "df = pd.read_excel('seriehistorica.xlsx', index_col = 0)\n",
    "df.fillna(method='ffill',inplace=True)\n",
    "\n",
    "pf = pd.read_excel('perfilfundos.xlsx', usecols = ['CNPJ', 'APLICACAO_MINIMA', 'CATEGORIA', 'SUBCATEGORIA'])\n",
    "#pf['CNPJ'] = pf['CNPJ'].apply(lambda x: re.sub('\\W+', '', x))\n",
    "#pf['CNPJ'] = pf['CNPJ'].apply(lambda x: re.sub('\\D+', '', x))\n",
    "pf['CNPJ'] = pf['CNPJ'].str.replace('[./-]', '', regex=True)\n",
    "#pf['APLICACAO_MINIMA'] = pd.to_numeric(pf['APLICACAO_MINIMA'].apply(lambda x : re.sub('\\D+', '', x)), errors='coerce')\n",
    "pf['APLICACAO_MINIMA'] = pf['APLICACAO_MINIMA'].str.replace('-', '0').str.replace('R\\$ ','').str.replace('.', '').astype(float)\n",
    "pf.fillna(0, inplace=True)\n",
    "pf.set_index('CNPJ',inplace=True)\n",
    "\n",
    "pf_ordered = pf.sort_values(by ='CATEGORIA')\n",
    "pf_ordered.drop(index=(list(set(pf.index)-set(df.columns))),inplace=True)"
   ]
  },
  {
   "cell_type": "markdown",
   "metadata": {},
   "source": [
    "### Pré-processamento dos dados:"
   ]
  },
  {
   "cell_type": "code",
   "execution_count": 38,
   "metadata": {},
   "outputs": [
    {
     "name": "stdout",
     "output_type": "stream",
     "text": [
      "[0, 173, 177, 474, 569]\n"
     ]
    }
   ],
   "source": [
    "categorias = list(pf_ordered['CATEGORIA'].unique())\n",
    "\n",
    "limites = [0]\n",
    "\n",
    "a = 0\n",
    "\n",
    "for c in categorias:\n",
    "    a += len(pf_ordered[pf_ordered['CATEGORIA'] == c])\n",
    "    limites.append(a)\n",
    "\n",
    "print(limites)"
   ]
  },
  {
   "cell_type": "code",
   "execution_count": 39,
   "metadata": {},
   "outputs": [
    {
     "data": {
      "text/plain": [
       "['Ações', 'Cambial', 'Multimercados', 'Renda Fixa']"
      ]
     },
     "execution_count": 39,
     "metadata": {},
     "output_type": "execute_result"
    }
   ],
   "source": [
    "categorias"
   ]
  },
  {
   "cell_type": "code",
   "execution_count": 40,
   "metadata": {},
   "outputs": [],
   "source": [
    "cnpj = list(pf_ordered.index)\n",
    "df = df[cnpj]"
   ]
  },
  {
   "cell_type": "markdown",
   "metadata": {},
   "source": [
    "### Parâmetros de entrada do modelo:"
   ]
  },
  {
   "cell_type": "code",
   "execution_count": 41,
   "metadata": {},
   "outputs": [],
   "source": [
    "df_retorno = df.pct_change().dropna()\n",
    "sigma = (df_retorno.cov()*252).to_numpy()\n",
    "media = (df_retorno+1).apply(geo_mean)**252-1"
   ]
  },
  {
   "cell_type": "code",
   "execution_count": 42,
   "metadata": {},
   "outputs": [],
   "source": [
    "minFundos = np.array(pf_ordered['APLICACAO_MINIMA'])\n",
    "n = len(minFundos)"
   ]
  },
  {
   "cell_type": "code",
   "execution_count": 83,
   "metadata": {},
   "outputs": [],
   "source": [
    "minRetorno = 0.002\n",
    "C = 100000\n",
    "\n",
    "# CONSERVADOR:\n",
    "#P_categorias = [0.00, 0.00, 0.00, 1.00]\n",
    "# MODERADO:\n",
    "#P_categorias = [0.25, 0.00, 0.35, 0.50]\n",
    "# ARROJADO:\n",
    "P_categorias = [0.50, 0.10, 0.35, 0.35]\n",
    "\n",
    "#P_categorias = [0.25, 0.15, 0.25, 0.35]\n",
    "\n",
    "K_min = 3\n",
    "K_max = 10\n",
    "P_min = 0.05\n",
    "P_max = 0.3\n",
    "l = 1\n",
    "log = 0"
   ]
  },
  {
   "cell_type": "markdown",
   "metadata": {},
   "source": [
    "### Solução do modelo e visão do resultado:"
   ]
  },
  {
   "cell_type": "code",
   "execution_count": 55,
   "metadata": {},
   "outputs": [
    {
     "name": "stdout",
     "output_type": "stream",
     "text": [
      "Tempo para instanciar o modelo: 8.257472276687622 s\n",
      "Tempo total do processo: 11.508658170700073 s\n",
      "Retorno esperado --> 4.92%\n",
      "Risco estimado --> 0.13%\n",
      "Fundo 475 (22003346000186) --> 5.0%; R$ 5000.0 --> R$ 100.0\n",
      "Fundo 490 (00840011000180) --> 30.0%; R$ 30000.0 --> R$ 3000.0\n",
      "Fundo 517 (15174629000125) --> 14.3%; R$ 14299.26 --> R$ 1000.0\n",
      "Fundo 525 (31963396000104) --> 7.79%; R$ 7788.85 --> R$ 100.0\n",
      "Fundo 557 (34109809000178) --> 14.52%; R$ 14518.94 --> R$ 1000.0\n",
      "Fundo 559 (14237118000142) --> 15.31%; R$ 15305.38 --> R$ 5000.0\n",
      "Fundo 566 (30921203000181) --> 13.09%; R$ 13087.57 --> R$ 1000.0\n"
     ]
    }
   ],
   "source": [
    "import time\n",
    "\n",
    "tempo_init = time.time()\n",
    "modelo = Markowitz(C, minRetorno, K_min, K_max, P_min, P_max, P_categorias, limites,\n",
    "    n, minFundos, sigma, media, cnpj)\n",
    "print('Tempo para instanciar o modelo:', time.time() - tempo_init, 's')\n",
    "Carteira = modelo.solve(time = 30)\n",
    "print('Tempo total do processo:', time.time() - tempo_init, 's')\n",
    "\n",
    "Carteira.exibir(C)"
   ]
  },
  {
   "cell_type": "code",
   "execution_count": null,
   "metadata": {},
   "outputs": [],
   "source": [
    "categoria = np.array(pf['CATEGORIA'][Carteira.descricao])\n",
    "subcategoria = np.array(pf['SUBCATEGORIA'][Carteira.descricao])\n",
    "\n",
    "for i in range(len(categoria)):\n",
    "    print(f\"{Carteira.descricao[i]} --> {categoria[i]} --> {subcategoria[i]}\")\n",
    "    "
   ]
  },
  {
   "cell_type": "markdown",
   "metadata": {},
   "source": [
    "### Testando o GAP de solução:"
   ]
  },
  {
   "cell_type": "code",
   "execution_count": 84,
   "metadata": {},
   "outputs": [
    {
     "name": "stdout",
     "output_type": "stream",
     "text": [
      "Tempo para instanciar o modelo: 8.701497554779053 s\n",
      "minRetorno atual: 0.0\tminRetorno atual: 0.01\tminRetorno atual: 0.02\tminRetorno atual: 0.03\tminRetorno atual: 0.04\tminRetorno atual: 0.05\tminRetorno atual: 0.06\tminRetorno atual: 0.07\tminRetorno atual: 0.08\tminRetorno atual: 0.09\tminRetorno atual: 0.1\tTempo total do processo: 350.5360493659973 s\n"
     ]
    }
   ],
   "source": [
    "minRetorno = 0.0\n",
    "tempo_init = time.time()\n",
    "modelo = Markowitz(C, minRetorno, K_min, K_max, P_min, P_max, P_categorias, limites,\n",
    "    n, minFundos, sigma, media, cnpj)\n",
    "print('Tempo para instanciar o modelo:', time.time() - tempo_init, 's')\n",
    "lista_GAP = list()\n",
    "\n",
    "while(minRetorno < 0.1):\n",
    "    print('minRetorno atual:', round(minRetorno, 5), end='\\t')\n",
    "    Carteira = modelo.solve(time = 30)\n",
    "    minRetorno += 0.01\n",
    "    modelo.update_minRetorno(minRetorno)\n",
    "    if(Carteira.Retorno == 0):\n",
    "        break\n",
    "    else:\n",
    "        lista_GAP.append(modelo.model.MIPGap)\n",
    "        \n",
    "print('Tempo total do processo:', time.time() - tempo_init, 's')"
   ]
  },
  {
   "cell_type": "code",
   "execution_count": 94,
   "metadata": {},
   "outputs": [
    {
     "data": {
      "text/plain": [
       "array([ 7.35422759,  9.67193612,  9.35563851,  9.20968513,  9.78315415,\n",
       "        9.77512861,  8.73451326, 12.58130844,  4.78279246,  1.618448  ,\n",
       "        0.        ])"
      ]
     },
     "execution_count": 94,
     "metadata": {},
     "output_type": "execute_result"
    }
   ],
   "source": [
    "np.array(lista_GAP) * 100"
   ]
  },
  {
   "cell_type": "markdown",
   "metadata": {},
   "source": [
    "### Rodando o modelo sem limitar o retorno, mas utilizando a função objetivo original de Markowitz:"
   ]
  },
  {
   "cell_type": "code",
   "execution_count": 11,
   "metadata": {},
   "outputs": [
    {
     "name": "stdout",
     "output_type": "stream",
     "text": [
      "Retorno esperado --> 34.86%\n",
      "Risco estimado --> 4.57%\n",
      "Fundo 63 (29177024000100) --> 15.37%; R$ 15371.94 --> R$ 250.0\n",
      "Fundo 113 (08968733000126) --> 9.63%; R$ 9628.06 --> R$ 250.0\n",
      "Fundo 173 (20077065000142) --> 15.0%; R$ 15000.0 --> R$ 500.0\n",
      "Fundo 242 (33736873000116) --> 5.0%; R$ 5000.0 --> R$ 500.0\n",
      "Fundo 447 (19959703000170) --> 5.49%; R$ 5487.2 --> R$ 0.0\n",
      "Fundo 470 (21732619000160) --> 14.51%; R$ 14512.8 --> R$ 1000.0\n",
      "Fundo 495 (26664935000166) --> 5.0%; R$ 5000.0 --> R$ 1000.0\n",
      "Fundo 524 (30934757000113) --> 30.0%; R$ 30000.0 --> R$ 1000.0\n"
     ]
    }
   ],
   "source": [
    "modelo = Markowitz(C, minRetorno, K_min, K_max, P_min, P_max, P_categorias, limites,\n",
    "    n, minFundos, sigma, media, cnpj, obj_type='classico', l=80, log=0)\n",
    "Carteira = modelo.solve(time = 10)\n",
    "\n",
    "Carteira.exibir(C)\n",
    "\n",
    "GAP = modelo.model.MIPGap\n",
    "GAP"
   ]
  },
  {
   "cell_type": "markdown",
   "metadata": {},
   "source": [
    "### Fronteira Eficiente:"
   ]
  },
  {
   "cell_type": "code",
   "execution_count": 14,
   "metadata": {},
   "outputs": [],
   "source": [
    "modelo = Markowitz(C, minRetorno, K_min, K_max, P_min, P_max, P_categorias, limites,\n",
    "    n, minFundos, sigma, media, cnpj)"
   ]
  },
  {
   "cell_type": "code",
   "execution_count": 15,
   "metadata": {},
   "outputs": [
    {
     "name": "stdout",
     "output_type": "stream",
     "text": [
      "minRetorno atual: 0.0\n",
      "minRetorno atual: 0.01\n",
      "minRetorno atual: 0.02\n",
      "minRetorno atual: 0.03\n",
      "minRetorno atual: 0.04\n",
      "minRetorno atual: 0.05\n",
      "minRetorno atual: 0.060000000000000005\n",
      "minRetorno atual: 0.07\n",
      "minRetorno atual: 0.08\n",
      "minRetorno atual: 0.09\n",
      "minRetorno atual: 0.09999999999999999\n",
      "minRetorno atual: 0.10999999999999999\n",
      "minRetorno atual: 0.11999999999999998\n",
      "minRetorno atual: 0.12999999999999998\n",
      "minRetorno atual: 0.13999999999999999\n",
      "minRetorno atual: 0.15\n",
      "minRetorno atual: 0.16\n",
      "minRetorno atual: 0.17\n",
      "minRetorno atual: 0.18000000000000002\n",
      "minRetorno atual: 0.19000000000000003\n",
      "Nenhuma solucao encontrada!\n"
     ]
    }
   ],
   "source": [
    "carteiras, idx_max_sharpe = modelo.solve_fronteira(0.0, 0.2, 0.01, log_sol=1)"
   ]
  },
  {
   "cell_type": "code",
   "execution_count": 14,
   "metadata": {},
   "outputs": [
    {
     "data": {
      "text/plain": [
       "[Carteira(Retorno=0.04917008097863951, Risco=0.0012874795965331803, Qtd. de fundos=7,\n",
       " fundos=[475, 490, 517, 525, 557, 559, 566], \n",
       " porcentagem=[0.05, 0.3, 0.14299264208494603, 0.07788848808413537, 0.14518937880242522, 0.15305382798977646, 0.13087566303871678], \n",
       " descricao=['22003346000186', '00840011000180', '15174629000125', '31963396000104', '34109809000178', '14237118000142', '30921203000181'], \n",
       " minFundos=[100.0, 3000.0, 1000.0, 100.0, 1000.0, 5000.0, 1000.0],\n",
       " Carteira(Retorno=0.04444667177432185, Risco=0.0011347077331414893, Qtd. de fundos=7,\n",
       " fundos=[490, 517, 525, 557, 559, 563, 566], \n",
       " porcentagem=[0.3, 0.14299264208494614, 0.04999999999999999, 0.04999999999999999, 0.1530538279897766, 0.17307786688656052, 0.1308756630387168], \n",
       " descricao=['00840011000180', '15174629000125', '31963396000104', '34109809000178', '14237118000142', '35726805000100', '30921203000181'], \n",
       " minFundos=[3000.0, 1000.0, 100.0, 1000.0, 5000.0, 30.0, 1000.0],\n",
       " Carteira(Retorno=0.039859140949847466, Risco=0.0010432492623076238, Qtd. de fundos=7,\n",
       " fundos=[490, 517, 525, 557, 559, 563, 566], \n",
       " porcentagem=[0.3, 0.09056443964250156, 0.04999999999999982, 0.08705660508867628, 0.08985163137116785, 0.3, 0.08252732389765444], \n",
       " descricao=['00840011000180', '15174629000125', '31963396000104', '34109809000178', '14237118000142', '35726805000100', '30921203000181'], \n",
       " minFundos=[3000.0, 1000.0, 100.0, 1000.0, 5000.0, 30.0, 1000.0],\n",
       " Carteira(Retorno=0.039859140949847466, Risco=0.0010432492623076238, Qtd. de fundos=7,\n",
       " fundos=[490, 517, 525, 557, 559, 563, 566], \n",
       " porcentagem=[0.3, 0.09056443964250156, 0.04999999999999982, 0.08705660508867628, 0.08985163137116785, 0.3, 0.08252732389765444], \n",
       " descricao=['00840011000180', '15174629000125', '31963396000104', '34109809000178', '14237118000142', '35726805000100', '30921203000181'], \n",
       " minFundos=[3000.0, 1000.0, 100.0, 1000.0, 5000.0, 30.0, 1000.0],\n",
       " Carteira(Retorno=0.04, Risco=0.0010436383367397172, Qtd. de fundos=7,\n",
       " fundos=[490, 517, 525, 557, 559, 563, 566], \n",
       " porcentagem=[0.3, 0.09434748447594125, 0.04999999999999982, 0.07801732125986977, 0.09246248573098134, 0.3, 0.08517270853320782], \n",
       " descricao=['00840011000180', '15174629000125', '31963396000104', '34109809000178', '14237118000142', '35726805000100', '30921203000181'], \n",
       " minFundos=[3000.0, 1000.0, 100.0, 1000.0, 5000.0, 30.0, 1000.0],\n",
       " Carteira(Retorno=0.049999999999999996, Risco=0.0012980620531861677, Qtd. de fundos=8,\n",
       " fundos=[490, 517, 525, 549, 557, 559, 563, 566], \n",
       " porcentagem=[0.2921516449410532, 0.16314150933641325, 0.10159437682801103, 0.05, 0.04999999999999982, 0.15224316234284813, 0.04999999999999999, 0.14086930655167437], \n",
       " descricao=['00840011000180', '15174629000125', '31963396000104', '29283824000106', '34109809000178', '14237118000142', '35726805000100', '30921203000181'], \n",
       " minFundos=[3000.0, 1000.0, 100.0, 3000.0, 1000.0, 5000.0, 30.0, 1000.0],\n",
       " Carteira(Retorno=0.06, Risco=0.0016186514446309647, Qtd. de fundos=8,\n",
       " fundos=[482, 490, 517, 525, 533, 546, 559, 566], \n",
       " porcentagem=[0.1184535022031139, 0.17113665000773626, 0.21934580549802152, 0.12270310855400098, 0.06453447018071158, 0.055886482319128995, 0.1979399812372867, 0.04999999999999999], \n",
       " descricao=['32102131000176', '00840011000180', '15174629000125', '31963396000104', '29613915000154', '20146294000171', '14237118000142', '30921203000181'], \n",
       " minFundos=[1000.0, 3000.0, 1000.0, 100.0, 0.0, 1000.0, 5000.0, 1000.0],\n",
       " Carteira(Retorno=0.07, Risco=0.0021147177792505017, Qtd. de fundos=8,\n",
       " fundos=[482, 517, 524, 525, 533, 546, 549, 559], \n",
       " porcentagem=[0.2082240540401973, 0.23080367038595803, 0.05, 0.16603444264657402, 0.0834439441851595, 0.07026074780573222, 0.05, 0.14123314093637873], \n",
       " descricao=['32102131000176', '15174629000125', '30934757000113', '31963396000104', '29613915000154', '20146294000171', '29283824000106', '14237118000142'], \n",
       " minFundos=[1000.0, 1000.0, 1000.0, 100.0, 0.0, 1000.0, 3000.0, 5000.0],\n",
       " Carteira(Retorno=0.07999999999999999, Risco=0.0037703221801878507, Qtd. de fundos=5,\n",
       " fundos=[482, 524, 525, 546, 567], \n",
       " porcentagem=[0.3, 0.13140866153357367, 0.3, 0.183420988640589, 0.0851703498258373], \n",
       " descricao=['32102131000176', '30934757000113', '31963396000104', '20146294000171', '30910553000142'], \n",
       " minFundos=[1000.0, 1000.0, 100.0, 1000.0, 1000.0],\n",
       " Carteira(Retorno=0.09, Risco=0.014949947848637669, Qtd. de fundos=5,\n",
       " fundos=[482, 513, 524, 525, 539], \n",
       " porcentagem=[0.3, 0.23476083357334063, 0.3, 0.05731806573623996, 0.10792110069041938], \n",
       " descricao=['32102131000176', '30910199000156', '30934757000113', '31963396000104', '15188380000107'], \n",
       " minFundos=[1000.0, 500.0, 1000.0, 100.0, 500.0],\n",
       " Carteira(Retorno=0.09999999999999998, Risco=0.0207054319021403, Qtd. de fundos=6,\n",
       " fundos=[482, 513, 524, 525, 539, 547], \n",
       " porcentagem=[0.3, 0.05, 0.2613956939197396, 0.2886043060802603, 0.05, 0.05], \n",
       " descricao=['32102131000176', '30910199000156', '30934757000113', '31963396000104', '15188380000107', '35780106000130'], \n",
       " minFundos=[1000.0, 500.0, 1000.0, 100.0, 500.0, 100.0],\n",
       " Carteira(Retorno=0.10999999999999999, Risco=0.030656829656629157, Qtd. de fundos=5,\n",
       " fundos=[482, 513, 524, 539, 547], \n",
       " porcentagem=[0.3, 0.21658743378601256, 0.3, 0.11527172234835922, 0.06814084386562821], \n",
       " descricao=['32102131000176', '30910199000156', '30934757000113', '15188380000107', '35780106000130'], \n",
       " minFundos=[1000.0, 500.0, 1000.0, 500.0, 100.0],\n",
       " Carteira(Retorno=0.11999999999999998, Risco=0.04264798803775819, Qtd. de fundos=5,\n",
       " fundos=[482, 513, 524, 539, 547], \n",
       " porcentagem=[0.2561167119194685, 0.18695745248034057, 0.3, 0.15856019952808278, 0.09836563607210812], \n",
       " descricao=['32102131000176', '30910199000156', '30934757000113', '15188380000107', '35780106000130'], \n",
       " minFundos=[1000.0, 500.0, 1000.0, 500.0, 100.0],\n",
       " Carteira(Retorno=0.12999999999999995, Risco=0.05484974439971071, Qtd. de fundos=5,\n",
       " fundos=[482, 513, 524, 539, 547], \n",
       " porcentagem=[0.11854108055133261, 0.2505157911093603, 0.3, 0.20412686209642958, 0.12681626624287748], \n",
       " descricao=['32102131000176', '30910199000156', '30934757000113', '15188380000107', '35780106000130'], \n",
       " minFundos=[1000.0, 500.0, 1000.0, 500.0, 100.0],\n",
       " Carteira(Retorno=0.13999999999999999, Risco=0.0670908464493654, Qtd. de fundos=4,\n",
       " fundos=[513, 524, 539, 547], \n",
       " porcentagem=[0.2951419763831753, 0.3, 0.24923068817218552, 0.1556273354446391], \n",
       " descricao=['30910199000156', '30934757000113', '15188380000107', '35780106000130'], \n",
       " minFundos=[500.0, 1000.0, 500.0, 100.0],\n",
       " Carteira(Retorno=0.15, Risco=0.07948617914864516, Qtd. de fundos=4,\n",
       " fundos=[513, 524, 539, 547], \n",
       " porcentagem=[0.22186477967077906, 0.3, 0.29145211694430434, 0.18668310338491662], \n",
       " descricao=['30910199000156', '30934757000113', '15188380000107', '35780106000130'], \n",
       " minFundos=[500.0, 1000.0, 500.0, 100.0],\n",
       " Carteira(Retorno=0.16, Risco=0.09211767953805758, Qtd. de fundos=4,\n",
       " fundos=[513, 524, 539, 547], \n",
       " porcentagem=[0.17884040272707613, 0.3, 0.3, 0.22115959727292384], \n",
       " descricao=['30910199000156', '30934757000113', '15188380000107', '35780106000130'], \n",
       " minFundos=[500.0, 1000.0, 500.0, 100.0],\n",
       " Carteira(Retorno=0.17, Risco=0.10503763531650179, Qtd. de fundos=4,\n",
       " fundos=[513, 524, 539, 547], \n",
       " porcentagem=[0.14349557244191552, 0.3, 0.3, 0.25650442755808445], \n",
       " descricao=['30910199000156', '30934757000113', '15188380000107', '35780106000130'], \n",
       " minFundos=[500.0, 1000.0, 500.0, 100.0],\n",
       " Carteira(Retorno=0.18000000000000002, Risco=0.11815524241088568, Qtd. de fundos=4,\n",
       " fundos=[513, 524, 539, 547], \n",
       " porcentagem=[0.10815074215675496, 0.3, 0.3, 0.29184925784324506], \n",
       " descricao=['30910199000156', '30934757000113', '15188380000107', '35780106000130'], \n",
       " minFundos=[500.0, 1000.0, 500.0, 100.0]]"
      ]
     },
     "execution_count": 14,
     "metadata": {},
     "output_type": "execute_result"
    }
   ],
   "source": [
    "carteiras"
   ]
  },
  {
   "cell_type": "code",
   "execution_count": 16,
   "metadata": {},
   "outputs": [
    {
     "name": "stdout",
     "output_type": "stream",
     "text": [
      "-2.586385858328958\n",
      "-7.097270945164133\n",
      "-12.1168157092117\n",
      "-12.1168157092117\n",
      "-11.977329271986575\n",
      "-1.9259479882826933\n",
      "4.633486736676605\n",
      "8.27533592033371\n",
      "7.293806387291243\n",
      "2.5083699541746047\n",
      "2.294083998078299\n",
      "1.8756016406140787\n",
      "1.5827241355498218\n",
      "1.4129509781345255\n",
      "1.3042017597145346\n",
      "1.2266283402258855\n",
      "1.1669855400079565\n",
      "1.1186466607511332\n",
      "1.079088810605778\n"
     ]
    }
   ],
   "source": [
    "for cart in carteiras:\n",
    "    print( (cart.Retorno - 0.0525)/cart.Risco )"
   ]
  },
  {
   "cell_type": "code",
   "execution_count": 23,
   "metadata": {},
   "outputs": [
    {
     "data": {
      "text/plain": [
       "<Figure size 432x288 with 0 Axes>"
      ]
     },
     "metadata": {},
     "output_type": "display_data"
    },
    {
     "data": {
      "image/png": "[encoded data removed]",
      "text/plain": [
       "<Figure size 576x432 with 1 Axes>"
      ]
     },
     "metadata": {
      "needs_background": "light"
     },
     "output_type": "display_data"
    }
   ],
   "source": [
    "fig = plt.figure() \n",
    "plt.figure(figsize=(8,6))\n",
    "plt.plot([cart.Risco for cart in carteiras], [cart.Retorno for cart in carteiras], 'ob')\n",
    "plt.plot(carteiras[idx_max_sharpe].Risco, carteiras[idx_max_sharpe].Retorno, 'pr', markersize='11')\n",
    "#plt.ylim((0,1.25))\n",
    "#plt.xlim((-0.01,0.7))\n",
    "plt.grid()\n",
    "plt.xlabel('VOLATILIDADE ESPERADA')\n",
    "plt.ylabel('RETORNO ESPERADO')\n",
    "#plt.savefig('conservador.pdf')\n",
    "plt.show()"
   ]
  },
  {
   "cell_type": "code",
   "execution_count": 4,
   "metadata": {},
   "outputs": [
    {
     "data": {
      "text/html": [
       "        <script type=\"text/javascript\">\n",
       "        window.PlotlyConfig = {MathJaxConfig: 'local'};\n",
       "        if (window.MathJax) {MathJax.Hub.Config({SVG: {font: \"STIX-Web\"}});}\n",
       "        if (typeof require !== 'undefined') {\n",
       "        require.undef(\"plotly\");\n",
       "        requirejs.config({\n",
       "            paths: {\n",
       "                'plotly': ['https://cdn.plot.ly/plotly-latest.min']\n",
       "            }\n",
       "        });\n",
       "        require(['plotly'], function(Plotly) {\n",
       "            window._Plotly = Plotly;\n",
       "        });\n",
       "        }\n",
       "        </script>\n",
       "        "
      ]
     },
     "metadata": {},
     "output_type": "display_data"
    },
    {
     "data": {
      "application/vnd.plotly.v1+json": {
       "config": {
        "linkText": "Export to plot.ly",
        "plotlyServerURL": "https://plot.ly",
        "showLink": true
       },
       "data": [
        {
         "line": {
          "color": "rgba(255, 153, 51, 1.0)",
          "dash": "solid",
          "shape": "linear",
          "width": 1.3
         },
         "mode": "lines",
         "name": "29177024000100",
         "text": "",
         "type": "scatter",
         "x": [
          "2020-09-03",
          "2020-09-04",
          "2020-09-08",
          "2020-09-09",
          "2020-09-10",
          "2020-09-11",
          "2020-09-14",
          "2020-09-15",
          "2020-09-16",
          "2020-09-17",
          "2020-09-18",
          "2020-09-21",
          "2020-09-22",
          "2020-09-23",
          "2020-09-24",
          "2020-09-25",
          "2020-09-28",
          "2020-09-29",
          "2020-09-30",
          "2020-10-01",
          "2020-10-02",
          "2020-10-05",
          "2020-10-06",
          "2020-10-07",
          "2020-10-08",
          "2020-10-09",
          "2020-10-13",
          "2020-10-14",
          "2020-10-15",
          "2020-10-16",
          "2020-10-19",
          "2020-10-20",
          "2020-10-21",
          "2020-10-22",
          "2020-10-23",
          "2020-10-26",
          "2020-10-27",
          "2020-10-28",
          "2020-10-29",
          "2020-10-30",
          "2020-11-03",
          "2020-11-04",
          "2020-11-05",
          "2020-11-06",
          "2020-11-09",
          "2020-11-10",
          "2020-11-11",
          "2020-11-12",
          "2020-11-13",
          "2020-11-16",
          "2020-11-17",
          "2020-11-18",
          "2020-11-19",
          "2020-11-20",
          "2020-11-23",
          "2020-11-24",
          "2020-11-25",
          "2020-11-26",
          "2020-11-27",
          "2020-11-30",
          "2020-12-01",
          "2020-12-02",
          "2020-12-03",
          "2020-12-04",
          "2020-12-07",
          "2020-12-08",
          "2020-12-09",
          "2020-12-10",
          "2020-12-11",
          "2020-12-14",
          "2020-12-15",
          "2020-12-16",
          "2020-12-17",
          "2020-12-18",
          "2020-12-21",
          "2020-12-22",
          "2020-12-23",
          "2020-12-24",
          "2020-12-28",
          "2020-12-29",
          "2020-12-30",
          "2020-12-31",
          "2021-01-04",
          "2021-01-05",
          "2021-01-06",
          "2021-01-07",
          "2021-01-08",
          "2021-01-11",
          "2021-01-12",
          "2021-01-13",
          "2021-01-14",
          "2021-01-15",
          "2021-01-18",
          "2021-01-19",
          "2021-01-20",
          "2021-01-21",
          "2021-01-22",
          "2021-01-25",
          "2021-01-26",
          "2021-01-27",
          "2021-01-28",
          "2021-01-29",
          "2021-02-01",
          "2021-02-02",
          "2021-02-03",
          "2021-02-04",
          "2021-02-05",
          "2021-02-08",
          "2021-02-09",
          "2021-02-10",
          "2021-02-11",
          "2021-02-12",
          "2021-02-17",
          "2021-02-18",
          "2021-02-19",
          "2021-02-22",
          "2021-02-23",
          "2021-02-24",
          "2021-02-25",
          "2021-02-26",
          "2021-03-01",
          "2021-03-02",
          "2021-03-03",
          "2021-03-04",
          "2021-03-05",
          "2021-03-08",
          "2021-03-09",
          "2021-03-10",
          "2021-03-11",
          "2021-03-12",
          "2021-03-15",
          "2021-03-16",
          "2021-03-17",
          "2021-03-18",
          "2021-03-19",
          "2021-03-22",
          "2021-03-23",
          "2021-03-24",
          "2021-03-25",
          "2021-03-26",
          "2021-03-29",
          "2021-03-30",
          "2021-03-31",
          "2021-04-01",
          "2021-04-05",
          "2021-04-06",
          "2021-04-07",
          "2021-04-08",
          "2021-04-09",
          "2021-04-12",
          "2021-04-13",
          "2021-04-14",
          "2021-04-15",
          "2021-04-16",
          "2021-04-19",
          "2021-04-20",
          "2021-04-22",
          "2021-04-23",
          "2021-04-26",
          "2021-04-27",
          "2021-04-28",
          "2021-04-29",
          "2021-04-30",
          "2021-05-03",
          "2021-05-04",
          "2021-05-05",
          "2021-05-06",
          "2021-05-07",
          "2021-05-10",
          "2021-05-11",
          "2021-05-12",
          "2021-05-13",
          "2021-05-14",
          "2021-05-17",
          "2021-05-18",
          "2021-05-19",
          "2021-05-20",
          "2021-05-21",
          "2021-05-24",
          "2021-05-25",
          "2021-05-26",
          "2021-05-27",
          "2021-05-28",
          "2021-05-31",
          "2021-06-01",
          "2021-06-02",
          "2021-06-04",
          "2021-06-07",
          "2021-06-08",
          "2021-06-09",
          "2021-06-10",
          "2021-06-11",
          "2021-06-14",
          "2021-06-15",
          "2021-06-16",
          "2021-06-17",
          "2021-06-18",
          "2021-06-21",
          "2021-06-22",
          "2021-06-23",
          "2021-06-24",
          "2021-06-25",
          "2021-06-28",
          "2021-06-29",
          "2021-06-30",
          "2021-07-01",
          "2021-07-02",
          "2021-07-05",
          "2021-07-06",
          "2021-07-07",
          "2021-07-08",
          "2021-07-09",
          "2021-07-12",
          "2021-07-13",
          "2021-07-14",
          "2021-07-15",
          "2021-07-16",
          "2021-07-19",
          "2021-07-20",
          "2021-07-21",
          "2021-07-22",
          "2021-07-23",
          "2021-07-26",
          "2021-07-27",
          "2021-07-28",
          "2021-07-29",
          "2021-07-30",
          "2021-08-02",
          "2021-08-03",
          "2021-08-04",
          "2021-08-05",
          "2021-08-06",
          "2021-08-09",
          "2021-08-10",
          "2021-08-11",
          "2021-08-12",
          "2021-08-13",
          "2021-08-16",
          "2021-08-17",
          "2021-08-18",
          "2021-08-19",
          "2021-08-20",
          "2021-08-23",
          "2021-08-24",
          "2021-08-25",
          "2021-08-26",
          "2021-08-27",
          "2021-08-30",
          "2021-08-31",
          "2021-09-01",
          "2021-09-02",
          "2021-09-03"
         ],
         "y": [
          -1.4399411990821378,
          -1.4329865556721324,
          -1.4231193119642302,
          -1.4359557412813628,
          -1.4515156730741552,
          -1.4828011772983705,
          -1.4439585504220278,
          -1.4046963691827452,
          -1.4269037375861955,
          -1.424445054367575,
          -1.4690655559429608,
          -1.5137951128456433,
          -1.490889173053188,
          -1.5240179180734872,
          -1.5302914800998084,
          -1.5257241195337596,
          -1.4862942400081622,
          -1.4595954382382335,
          -1.3790465562025498,
          -1.3249783652822016,
          -1.3195624308109228,
          -1.311925471428623,
          -1.3233184608948376,
          -1.3066218845209372,
          -1.3113203172445107,
          -1.3351131031891335,
          -1.3020436184221582,
          -1.2628812330955907,
          -1.2805541632959498,
          -1.2700908190537479,
          -1.273638820956725,
          -1.2933782467269737,
          -1.2364330528136758,
          -1.2168779922759896,
          -1.2120404625689207,
          -1.2017904963916375,
          -1.2138732093618114,
          -1.325298329497195,
          -1.241261323106163,
          -1.276576730321146,
          -1.1969529666845684,
          -1.2177197759438594,
          -1.1565206012069147,
          -1.1078031173262355,
          -1.090261259283401,
          -1.0745136700217504,
          -1.064429344483097,
          -1.092005732990612,
          -1.0786299942152815,
          -1.0519799586954834,
          -1.0434203500912997,
          -1.0386710934699106,
          -1.0485364852948966,
          -1.0195845593100632,
          -1.0008513232577034,
          -0.9670087802555323,
          -0.9498146646714365,
          -0.9466802499531128,
          -0.921762753783954,
          -0.9315604490001085,
          -0.8985940523821443,
          -0.8855467141773148,
          -0.8709287734946441,
          -0.8429807738152463,
          -0.8188418915300321,
          -0.8161257965860376,
          -0.8438746159695427,
          -0.8241236673722592,
          -0.8033010958607085,
          -0.7797103709187371,
          -0.7568708931465022,
          -0.7298177644452434,
          -0.7337091877468209,
          -0.7308015258033675,
          -0.7544369017001001,
          -0.7498833273735397,
          -0.7239137559431197,
          -0.7241438009542853,
          -0.6902166886322669,
          -0.6551490221985391,
          -0.6032600859412095,
          -0.6034969211897349,
          -0.5602005158995469,
          -0.5425629772393668,
          -0.5012838897393996,
          -0.4077759425845668,
          -0.34913236627219835,
          -0.38194711425579014,
          -0.3636313749186855,
          -0.3968055939528193,
          -0.35696788865608553,
          -0.37005555675553775,
          -0.3624550177372599,
          -0.375928700542389,
          -0.3829736746857589,
          -0.41371019850765756,
          -0.4386011510216824,
          -0.43803077108344357,
          -0.48037530855462296,
          -0.5245215223386521,
          -0.4776462504302137,
          -0.5410341450095276,
          -0.46595099251909583,
          -0.4506999136437981,
          -0.4332298675051648,
          -0.4378754186832376,
          -0.38351257261441946,
          -0.3545122919089923,
          -0.3902645377274678,
          -0.3941094581913676,
          -0.3474306916368323,
          -0.3448030755432862,
          -0.3271974304222211,
          -0.3062909068851291,
          -0.28223268438916127,
          -0.38562886325828205,
          -0.35082436996344596,
          -0.32764064773353674,
          -0.36894627888863835,
          -0.38943818641723427,
          -0.38501938801403124,
          -0.3579290158896764,
          -0.39628212838179494,
          -0.3647425046685014,
          -0.30119082133347425,
          -0.3945950630449911,
          -0.39561236406037814,
          -0.3852467580832063,
          -0.3411007500639457,
          -0.30022681339312474,
          -0.2273729164044532,
          -0.16300270082039497,
          -0.1155465549705253,
          -0.18242812955393614,
          -0.1171327955707718,
          -0.0943410552248254,
          -0.12945481296669323,
          -0.1336810155465948,
          -0.12096475285425733,
          -0.07850313522981005,
          0.020854292763498223,
          0.09884613602122637,
          0.11324287957777598,
          0.07850361371454963,
          0.10844629705963514,
          0.12907503815927315,
          0.14959184322485608,
          0.19636094051275668,
          0.23610358248645041,
          0.2878886075356955,
          0.2876867522978118,
          0.3863069251256408,
          0.40045098954649205,
          0.4059831811119643,
          0.432917172012271,
          0.48450404558946547,
          0.5002129510746411,
          0.5312682045229223,
          0.567728075380215,
          0.6169885724849249,
          0.5889362500679053,
          0.6608265506457645,
          0.6940976848858539,
          0.5988718076789449,
          0.5624154348227154,
          0.654118619193172,
          0.724069998357602,
          0.7759733381487258,
          0.8195765387087242,
          0.8348537497096197,
          0.7620986198098203,
          0.7835687330477913,
          0.7834806657268797,
          0.84564981558246,
          0.8492558431501502,
          0.816616818278844,
          0.7981961389098127,
          0.7786095963625478,
          0.7840000160025342,
          0.7324594394982488,
          0.742454668892149,
          0.8021332419899935,
          0.8414427491260272,
          0.954738682536471,
          1.0304319275654594,
          1.1156000228888499,
          1.1884495988173833,
          1.1682912359785005,
          1.1561346534564407,
          1.217490826711739,
          1.2480896939035213,
          1.2202400497834598,
          1.2506644284515676,
          1.3129214398632905,
          1.2514175275042199,
          1.0797508618644183,
          1.1395179138127116,
          1.1378715899000682,
          1.2082746227313208,
          1.2193202812683337,
          1.2661041936195647,
          1.197674856447614,
          1.2286471866941964,
          1.1984678738653536,
          1.2585435729663728,
          1.2125024714293713,
          1.2417004920773111,
          1.2631697822562087,
          1.1638160580287327,
          1.202984822063123,
          1.1806103726676636,
          1.1801801185367624,
          1.2362645984234901,
          1.2482226179439622,
          1.3008247348888595,
          1.3546139087831426,
          1.3770033790067022,
          1.3158470033416023,
          1.372898166110669,
          1.40189391999119,
          1.4265751982061288,
          1.358888054554101,
          1.3608671000973849,
          1.3183394319822543,
          1.3773358948725727,
          1.388387520587872,
          1.3432003428400803,
          1.4124436854361546,
          1.418229996490706,
          1.3994683649002957,
          1.3911626700204212,
          1.3722784026279937,
          1.4481949024307879,
          1.5182755018698257,
          1.5282557104356265,
          1.4617093266600765,
          1.4382869172987258,
          1.2652058246403617,
          1.087435352908238,
          1.144146592279769,
          1.1911362693994847,
          1.2368524683670494,
          1.3083234203467373,
          1.4439816630313007,
          1.490136140955738,
          1.4385753995041404,
          1.5152447925948187,
          1.5781174521938472,
          1.5382906524298432,
          1.5256651320004073,
          1.3660268574319003,
          1.3547789321274675
         ]
        },
        {
         "line": {
          "color": "rgba(55, 128, 191, 1.0)",
          "dash": "solid",
          "shape": "linear",
          "width": 1.3
         },
         "mode": "lines",
         "name": "08968733000126",
         "text": "",
         "type": "scatter",
         "x": [
          "2020-09-03",
          "2020-09-04",
          "2020-09-08",
          "2020-09-09",
          "2020-09-10",
          "2020-09-11",
          "2020-09-14",
          "2020-09-15",
          "2020-09-16",
          "2020-09-17",
          "2020-09-18",
          "2020-09-21",
          "2020-09-22",
          "2020-09-23",
          "2020-09-24",
          "2020-09-25",
          "2020-09-28",
          "2020-09-29",
          "2020-09-30",
          "2020-10-01",
          "2020-10-02",
          "2020-10-05",
          "2020-10-06",
          "2020-10-07",
          "2020-10-08",
          "2020-10-09",
          "2020-10-13",
          "2020-10-14",
          "2020-10-15",
          "2020-10-16",
          "2020-10-19",
          "2020-10-20",
          "2020-10-21",
          "2020-10-22",
          "2020-10-23",
          "2020-10-26",
          "2020-10-27",
          "2020-10-28",
          "2020-10-29",
          "2020-10-30",
          "2020-11-03",
          "2020-11-04",
          "2020-11-05",
          "2020-11-06",
          "2020-11-09",
          "2020-11-10",
          "2020-11-11",
          "2020-11-12",
          "2020-11-13",
          "2020-11-16",
          "2020-11-17",
          "2020-11-18",
          "2020-11-19",
          "2020-11-20",
          "2020-11-23",
          "2020-11-24",
          "2020-11-25",
          "2020-11-26",
          "2020-11-27",
          "2020-11-30",
          "2020-12-01",
          "2020-12-02",
          "2020-12-03",
          "2020-12-04",
          "2020-12-07",
          "2020-12-08",
          "2020-12-09",
          "2020-12-10",
          "2020-12-11",
          "2020-12-14",
          "2020-12-15",
          "2020-12-16",
          "2020-12-17",
          "2020-12-18",
          "2020-12-21",
          "2020-12-22",
          "2020-12-23",
          "2020-12-24",
          "2020-12-28",
          "2020-12-29",
          "2020-12-30",
          "2020-12-31",
          "2021-01-04",
          "2021-01-05",
          "2021-01-06",
          "2021-01-07",
          "2021-01-08",
          "2021-01-11",
          "2021-01-12",
          "2021-01-13",
          "2021-01-14",
          "2021-01-15",
          "2021-01-18",
          "2021-01-19",
          "2021-01-20",
          "2021-01-21",
          "2021-01-22",
          "2021-01-25",
          "2021-01-26",
          "2021-01-27",
          "2021-01-28",
          "2021-01-29",
          "2021-02-01",
          "2021-02-02",
          "2021-02-03",
          "2021-02-04",
          "2021-02-05",
          "2021-02-08",
          "2021-02-09",
          "2021-02-10",
          "2021-02-11",
          "2021-02-12",
          "2021-02-17",
          "2021-02-18",
          "2021-02-19",
          "2021-02-22",
          "2021-02-23",
          "2021-02-24",
          "2021-02-25",
          "2021-02-26",
          "2021-03-01",
          "2021-03-02",
          "2021-03-03",
          "2021-03-04",
          "2021-03-05",
          "2021-03-08",
          "2021-03-09",
          "2021-03-10",
          "2021-03-11",
          "2021-03-12",
          "2021-03-15",
          "2021-03-16",
          "2021-03-17",
          "2021-03-18",
          "2021-03-19",
          "2021-03-22",
          "2021-03-23",
          "2021-03-24",
          "2021-03-25",
          "2021-03-26",
          "2021-03-29",
          "2021-03-30",
          "2021-03-31",
          "2021-04-01",
          "2021-04-05",
          "2021-04-06",
          "2021-04-07",
          "2021-04-08",
          "2021-04-09",
          "2021-04-12",
          "2021-04-13",
          "2021-04-14",
          "2021-04-15",
          "2021-04-16",
          "2021-04-19",
          "2021-04-20",
          "2021-04-22",
          "2021-04-23",
          "2021-04-26",
          "2021-04-27",
          "2021-04-28",
          "2021-04-29",
          "2021-04-30",
          "2021-05-03",
          "2021-05-04",
          "2021-05-05",
          "2021-05-06",
          "2021-05-07",
          "2021-05-10",
          "2021-05-11",
          "2021-05-12",
          "2021-05-13",
          "2021-05-14",
          "2021-05-17",
          "2021-05-18",
          "2021-05-19",
          "2021-05-20",
          "2021-05-21",
          "2021-05-24",
          "2021-05-25",
          "2021-05-26",
          "2021-05-27",
          "2021-05-28",
          "2021-05-31",
          "2021-06-01",
          "2021-06-02",
          "2021-06-04",
          "2021-06-07",
          "2021-06-08",
          "2021-06-09",
          "2021-06-10",
          "2021-06-11",
          "2021-06-14",
          "2021-06-15",
          "2021-06-16",
          "2021-06-17",
          "2021-06-18",
          "2021-06-21",
          "2021-06-22",
          "2021-06-23",
          "2021-06-24",
          "2021-06-25",
          "2021-06-28",
          "2021-06-29",
          "2021-06-30",
          "2021-07-01",
          "2021-07-02",
          "2021-07-05",
          "2021-07-06",
          "2021-07-07",
          "2021-07-08",
          "2021-07-09",
          "2021-07-12",
          "2021-07-13",
          "2021-07-14",
          "2021-07-15",
          "2021-07-16",
          "2021-07-19",
          "2021-07-20",
          "2021-07-21",
          "2021-07-22",
          "2021-07-23",
          "2021-07-26",
          "2021-07-27",
          "2021-07-28",
          "2021-07-29",
          "2021-07-30",
          "2021-08-02",
          "2021-08-03",
          "2021-08-04",
          "2021-08-05",
          "2021-08-06",
          "2021-08-09",
          "2021-08-10",
          "2021-08-11",
          "2021-08-12",
          "2021-08-13",
          "2021-08-16",
          "2021-08-17",
          "2021-08-18",
          "2021-08-19",
          "2021-08-20",
          "2021-08-23",
          "2021-08-24",
          "2021-08-25",
          "2021-08-26",
          "2021-08-27",
          "2021-08-30",
          "2021-08-31",
          "2021-09-01",
          "2021-09-02",
          "2021-09-03"
         ],
         "y": [
          -1.340205435616378,
          -1.31771174578048,
          -1.2951656010125185,
          -1.3060909124663325,
          -1.3363148335447979,
          -1.3539779091661157,
          -1.3087656649011326,
          -1.2990545863224936,
          -1.3155005099157389,
          -1.3147981168185852,
          -1.3568675561642072,
          -1.4032076712886483,
          -1.3757096551857537,
          -1.4214986342431695,
          -1.4226502176061626,
          -1.4072989763494341,
          -1.4348942226988335,
          -1.437651609615652,
          -1.3759509568552555,
          -1.34789556218914,
          -1.3512363754950325,
          -1.3617717779418463,
          -1.375075210986042,
          -1.3425044706182634,
          -1.3501797319662712,
          -1.36241969515493,
          -1.3619752653538157,
          -1.3259258827533436,
          -1.3239471461893677,
          -1.3175568959467854,
          -1.3340980288345294,
          -1.3281580916089015,
          -1.2978322247292504,
          -1.276834174107835,
          -1.2685572978027,
          -1.2555269627395649,
          -1.2717833210346585,
          -1.3744202428959598,
          -1.2980390354845184,
          -1.3402360193567335,
          -1.2661427990762124,
          -1.2832509212767162,
          -1.2131277489366281,
          -1.176276587310358,
          -1.1655019490560934,
          -1.1588054123095093,
          -1.1402136418764246,
          -1.1722936950971763,
          -1.1384460274319956,
          -1.1373708360548245,
          -1.1372626028473987,
          -1.1380077053969433,
          -1.1387964605098144,
          -1.1375851467875364,
          -1.1369127086901147,
          -1.1236516258179527,
          -1.1130910288361326,
          -1.095624075379474,
          -1.067661105585094,
          -1.0832602502878768,
          -1.0316736090260468,
          -1.0279591890593347,
          -1.0223510023329823,
          -1.0054663974243279,
          -0.984014800262749,
          -0.9725558227492499,
          -0.9901464584686682,
          -0.9680989499256233,
          -0.9438928400900788,
          -0.9008156642542375,
          -0.8763664563474087,
          -0.8176821418208503,
          -0.8028617372909986,
          -0.7920533266832135,
          -0.7964206488779577,
          -0.7940661050609774,
          -0.7516866965876984,
          -0.7518980881675131,
          -0.7043295036837667,
          -0.6438573651927205,
          -0.5601771976967659,
          -0.5604015682794629,
          -0.5271054857817526,
          -0.48161497888058263,
          -0.44605134332223423,
          -0.34120161374463176,
          -0.27508280061903206,
          -0.30107978830209525,
          -0.2881906953291485,
          -0.3182263535007555,
          -0.3000040580043894,
          -0.3043169492251084,
          -0.29596233363281466,
          -0.28639981748162985,
          -0.3367808485968434,
          -0.35972718677201276,
          -0.38815174200453534,
          -0.38838702572806366,
          -0.4284046598671863,
          -0.467963358260796,
          -0.44264271584903336,
          -0.48304680092172375,
          -0.42590995180108754,
          -0.38711036789092884,
          -0.3811671522320469,
          -0.35870189045436535,
          -0.3634514869485321,
          -0.33754252295283554,
          -0.3457011511106047,
          -0.33995194684428687,
          -0.2698672175023547,
          -0.24682620895322127,
          -0.2362365102625164,
          -0.2143857975347991,
          -0.18829975323334402,
          -0.2731798722102992,
          -0.2541445701769909,
          -0.22591923590220342,
          -0.28956337084158434,
          -0.3203694608278767,
          -0.3026548733854308,
          -0.29216119237002774,
          -0.3368554890909274,
          -0.2552605398746355,
          -0.20384783521544456,
          -0.2758411067216817,
          -0.2826742149138186,
          -0.2699676812720696,
          -0.23559209603290857,
          -0.1637045876816459,
          -0.1225198313041078,
          -0.05074060107031484,
          -0.029472551260914248,
          -0.07829318287736835,
          -0.037757376643938925,
          -0.021736661352730363,
          -0.04880794221207289,
          -0.07200833650940373,
          -0.06027940471796374,
          -0.004163495640651724,
          0.061306322430794195,
          0.11529425886600655,
          0.09600130790697187,
          0.0870156163683094,
          0.1266953922420935,
          0.14257598819422831,
          0.12635636631559635,
          0.16632971915076789,
          0.2223079340314128,
          0.2732010294748709,
          0.2797750965298985,
          0.3496081050719873,
          0.36543314729898296,
          0.41226098550750845,
          0.430181575324419,
          0.45570503149748326,
          0.47209948817964514,
          0.5229775387581711,
          0.5545819946068731,
          0.5934750812298364,
          0.5620691726882001,
          0.6178631665659986,
          0.6738688214838788,
          0.5806395659400675,
          0.5542580135453088,
          0.644173132349705,
          0.7208447730194133,
          0.7690996278943104,
          0.8153693689789024,
          0.8056789939308125,
          0.767109798549324,
          0.7849029336597314,
          0.7771447683694381,
          0.802759526663123,
          0.803036801278329,
          0.7769322091284647,
          0.7282972805463286,
          0.7219188416454696,
          0.7415699052999463,
          0.7063139035469364,
          0.7292735800053457,
          0.7542157654714746,
          0.7640735202556947,
          0.8643802395441762,
          0.9207125701262947,
          0.9729552124092327,
          1.0576661103382292,
          1.054488140853966,
          1.0818089419209675,
          1.182387860989617,
          1.202430450412699,
          1.2120242688649523,
          1.229954918531848,
          1.321079824117007,
          1.2719269479907869,
          1.1324879960919807,
          1.2058139731709823,
          1.2030283378361266,
          1.258073366900547,
          1.2584147730594057,
          1.3050317136986074,
          1.2767539244917567,
          1.2755568921636538,
          1.2383159113504716,
          1.2914142696227424,
          1.22857083586809,
          1.2482471389676175,
          1.2610195556447583,
          1.2191082894761296,
          1.2374438930149583,
          1.178226541169339,
          1.1778223058581185,
          1.2684487997685838,
          1.2912732071727326,
          1.3401533445982485,
          1.3753689722211844,
          1.4084733337386037,
          1.3461202278506212,
          1.4053113073201644,
          1.4449468018899978,
          1.4171620800625362,
          1.3762465594022255,
          1.395831470561043,
          1.342799174964342,
          1.4229854308124477,
          1.4198715030517486,
          1.3318960490725478,
          1.4143187353204014,
          1.435032415539568,
          1.403775249065565,
          1.3911252122598912,
          1.383986805584733,
          1.4215016927597777,
          1.5097448106046456,
          1.518439889244863,
          1.4500070860725347,
          1.4228594581374152,
          1.2541942168903335,
          1.0660771778565545,
          1.1264621459510802,
          1.1648680933205382,
          1.2058927453891668,
          1.2927582476166952,
          1.3764310498653403,
          1.4268443713026022,
          1.3613427569195982,
          1.4373051332553324,
          1.4972015249749264,
          1.4596299613236285,
          1.4297605601370378,
          1.3059617558117116,
          1.3102041382624479
         ]
        },
        {
         "line": {
          "color": "rgba(50, 171, 96, 1.0)",
          "dash": "solid",
          "shape": "linear",
          "width": 1.3
         },
         "mode": "lines",
         "name": "20077065000142",
         "text": "",
         "type": "scatter",
         "x": [
          "2020-09-03",
          "2020-09-04",
          "2020-09-08",
          "2020-09-09",
          "2020-09-10",
          "2020-09-11",
          "2020-09-14",
          "2020-09-15",
          "2020-09-16",
          "2020-09-17",
          "2020-09-18",
          "2020-09-21",
          "2020-09-22",
          "2020-09-23",
          "2020-09-24",
          "2020-09-25",
          "2020-09-28",
          "2020-09-29",
          "2020-09-30",
          "2020-10-01",
          "2020-10-02",
          "2020-10-05",
          "2020-10-06",
          "2020-10-07",
          "2020-10-08",
          "2020-10-09",
          "2020-10-13",
          "2020-10-14",
          "2020-10-15",
          "2020-10-16",
          "2020-10-19",
          "2020-10-20",
          "2020-10-21",
          "2020-10-22",
          "2020-10-23",
          "2020-10-26",
          "2020-10-27",
          "2020-10-28",
          "2020-10-29",
          "2020-10-30",
          "2020-11-03",
          "2020-11-04",
          "2020-11-05",
          "2020-11-06",
          "2020-11-09",
          "2020-11-10",
          "2020-11-11",
          "2020-11-12",
          "2020-11-13",
          "2020-11-16",
          "2020-11-17",
          "2020-11-18",
          "2020-11-19",
          "2020-11-20",
          "2020-11-23",
          "2020-11-24",
          "2020-11-25",
          "2020-11-26",
          "2020-11-27",
          "2020-11-30",
          "2020-12-01",
          "2020-12-02",
          "2020-12-03",
          "2020-12-04",
          "2020-12-07",
          "2020-12-08",
          "2020-12-09",
          "2020-12-10",
          "2020-12-11",
          "2020-12-14",
          "2020-12-15",
          "2020-12-16",
          "2020-12-17",
          "2020-12-18",
          "2020-12-21",
          "2020-12-22",
          "2020-12-23",
          "2020-12-24",
          "2020-12-28",
          "2020-12-29",
          "2020-12-30",
          "2020-12-31",
          "2021-01-04",
          "2021-01-05",
          "2021-01-06",
          "2021-01-07",
          "2021-01-08",
          "2021-01-11",
          "2021-01-12",
          "2021-01-13",
          "2021-01-14",
          "2021-01-15",
          "2021-01-18",
          "2021-01-19",
          "2021-01-20",
          "2021-01-21",
          "2021-01-22",
          "2021-01-25",
          "2021-01-26",
          "2021-01-27",
          "2021-01-28",
          "2021-01-29",
          "2021-02-01",
          "2021-02-02",
          "2021-02-03",
          "2021-02-04",
          "2021-02-05",
          "2021-02-08",
          "2021-02-09",
          "2021-02-10",
          "2021-02-11",
          "2021-02-12",
          "2021-02-17",
          "2021-02-18",
          "2021-02-19",
          "2021-02-22",
          "2021-02-23",
          "2021-02-24",
          "2021-02-25",
          "2021-02-26",
          "2021-03-01",
          "2021-03-02",
          "2021-03-03",
          "2021-03-04",
          "2021-03-05",
          "2021-03-08",
          "2021-03-09",
          "2021-03-10",
          "2021-03-11",
          "2021-03-12",
          "2021-03-15",
          "2021-03-16",
          "2021-03-17",
          "2021-03-18",
          "2021-03-19",
          "2021-03-22",
          "2021-03-23",
          "2021-03-24",
          "2021-03-25",
          "2021-03-26",
          "2021-03-29",
          "2021-03-30",
          "2021-03-31",
          "2021-04-01",
          "2021-04-05",
          "2021-04-06",
          "2021-04-07",
          "2021-04-08",
          "2021-04-09",
          "2021-04-12",
          "2021-04-13",
          "2021-04-14",
          "2021-04-15",
          "2021-04-16",
          "2021-04-19",
          "2021-04-20",
          "2021-04-22",
          "2021-04-23",
          "2021-04-26",
          "2021-04-27",
          "2021-04-28",
          "2021-04-29",
          "2021-04-30",
          "2021-05-03",
          "2021-05-04",
          "2021-05-05",
          "2021-05-06",
          "2021-05-07",
          "2021-05-10",
          "2021-05-11",
          "2021-05-12",
          "2021-05-13",
          "2021-05-14",
          "2021-05-17",
          "2021-05-18",
          "2021-05-19",
          "2021-05-20",
          "2021-05-21",
          "2021-05-24",
          "2021-05-25",
          "2021-05-26",
          "2021-05-27",
          "2021-05-28",
          "2021-05-31",
          "2021-06-01",
          "2021-06-02",
          "2021-06-04",
          "2021-06-07",
          "2021-06-08",
          "2021-06-09",
          "2021-06-10",
          "2021-06-11",
          "2021-06-14",
          "2021-06-15",
          "2021-06-16",
          "2021-06-17",
          "2021-06-18",
          "2021-06-21",
          "2021-06-22",
          "2021-06-23",
          "2021-06-24",
          "2021-06-25",
          "2021-06-28",
          "2021-06-29",
          "2021-06-30",
          "2021-07-01",
          "2021-07-02",
          "2021-07-05",
          "2021-07-06",
          "2021-07-07",
          "2021-07-08",
          "2021-07-09",
          "2021-07-12",
          "2021-07-13",
          "2021-07-14",
          "2021-07-15",
          "2021-07-16",
          "2021-07-19",
          "2021-07-20",
          "2021-07-21",
          "2021-07-22",
          "2021-07-23",
          "2021-07-26",
          "2021-07-27",
          "2021-07-28",
          "2021-07-29",
          "2021-07-30",
          "2021-08-02",
          "2021-08-03",
          "2021-08-04",
          "2021-08-05",
          "2021-08-06",
          "2021-08-09",
          "2021-08-10",
          "2021-08-11",
          "2021-08-12",
          "2021-08-13",
          "2021-08-16",
          "2021-08-17",
          "2021-08-18",
          "2021-08-19",
          "2021-08-20",
          "2021-08-23",
          "2021-08-24",
          "2021-08-25",
          "2021-08-26",
          "2021-08-27",
          "2021-08-30",
          "2021-08-31",
          "2021-09-01",
          "2021-09-02",
          "2021-09-03"
         ],
         "y": [
          -0.5060170338901533,
          -0.3797073709349626,
          -0.10151543518062196,
          -0.4472718280607213,
          -0.35243185101481617,
          -0.23217121077605235,
          -0.5321337442706534,
          -0.5136755143005366,
          -0.7582397063559567,
          -0.7275123323321877,
          -0.10204049912078049,
          0.13698277428159697,
          0.4870994707192384,
          1.0154274372294974,
          0.6955580464669137,
          0.8929340926686239,
          1.295718936504603,
          1.3178983018871355,
          1.2556173655566996,
          1.3198272282803445,
          1.3475067855369942,
          0.8610030288870771,
          1.0312340423838295,
          1.1077830807611433,
          1.031795448917077,
          0.756197682069447,
          1.0148771065341484,
          1.1087218733959647,
          1.1297820022846548,
          1.3259161701625122,
          1.0810697749874243,
          1.03887579366406,
          1.1677820483655013,
          1.115939281636887,
          1.2447990408938316,
          1.2587203307666586,
          1.5145074616880083,
          1.8310875593427305,
          1.956377437598501,
          1.8761305692176748,
          1.8954495994641027,
          1.4180816784769772,
          0.9183157596822273,
          0.15090487176760373,
          0.1407959775965049,
          -0.043657680862440276,
          0.12595816213795885,
          0.3507778271745208,
          0.46441742381896006,
          0.2410031210884978,
          -0.1454941262579469,
          -0.40195711403744366,
          -0.4307668682525184,
          -0.05616091736491424,
          0.2812827130558825,
          -0.05998231218492752,
          -0.38770862545350193,
          -0.4075158001804459,
          -0.3307893176502045,
          -0.19926455027334752,
          -0.8825934455630722,
          -0.7829573999624864,
          -1.3582488804891668,
          -1.4091045131654871,
          -1.6328356310090404,
          -1.457716250308494,
          -1.0923421256787622,
          -1.8178596951195234,
          -1.7234497144051812,
          -1.4381787030102804,
          -1.602153829443277,
          -1.4471894740035216,
          -1.6305831978506844,
          -1.588076439480129,
          -1.4201015510877004,
          -1.18029512364758,
          -0.9732555242567535,
          -0.9716116853160003,
          -0.6463893190246259,
          -1.0032292798104916,
          -1.0857256970168911,
          -1.0840667441723497,
          -0.7101682624302122,
          -0.6171304165082903,
          -0.6520686856513463,
          0.04971359392941523,
          0.22673824949433508,
          0.5030745209082029,
          -0.1323344156136351,
          -0.4074028497085903,
          -0.9579917505325343,
          -0.4827274311320683,
          -0.4748507797898363,
          -0.1655626215352002,
          -0.3298799452097892,
          -0.06764517678114798,
          0.4744844374780261,
          0.4761988848853491,
          -0.17069938747842905,
          0.0628806884656524,
          0.3134463694332067,
          0.532757766463852,
          0.4457191019878348,
          -0.10199734950231466,
          -0.006056249572458502,
          0.3608913362780781,
          -0.049005810712140684,
          -0.03509490443734293,
          0.01717266682383272,
          0.023116353706955833,
          0.08835142367565443,
          -0.0023250766819507126,
          0.2175932993399426,
          0.3102949474324592,
          0.16391413561385396,
          0.3308301277543015,
          0.32568482418603006,
          0.2518935540709846,
          0.7107985147822242,
          1.104621159789056,
          1.1799938518833906,
          1.5484211004525643,
          1.9768730448745344,
          1.4720603513194452,
          1.6803151777991956,
          2.131326988784677,
          2.2133211859665782,
          1.6105671653819797,
          0.892684194076145,
          1.0129358351966185,
          1.347017487323371,
          1.287452092623233,
          1.1133828398029983,
          0.9450595240101591,
          0.5307157742254768,
          0.6774468594174741,
          0.592237438793622,
          1.1743859013364248,
          1.5785936442218367,
          1.9954556472743372,
          2.153567963515494,
          1.9619105108663704,
          1.4984189995339403,
          1.8778423630388366,
          1.669555808898456,
          1.3131453829509157,
          1.4988931838437756,
          1.1569330344018045,
          1.7027386731086367,
          1.9728532079589192,
          1.7819686411228304,
          1.761204329404557,
          1.3687452815651027,
          1.1805092244653943,
          1.0422285420931923,
          1.06547395687301,
          0.5723223900205237,
          0.7123898588662944,
          0.5178866081183106,
          0.5376744001289402,
          0.01577538064952771,
          -0.051636322211945314,
          0.22709059958733496,
          0.23590938939041897,
          0.3773627224526642,
          -0.008030979170289478,
          -0.4099239873091862,
          -0.6837691181834178,
          -0.6145844736457414,
          -0.6579665693298474,
          -0.38579123639143403,
          -0.30493935036564696,
          -0.46299836413694034,
          -0.511131532784285,
          -0.5229282231277728,
          -0.18186936999442235,
          -0.38462954251899995,
          -0.007434499150381227,
          -0.1653776781170312,
          -0.12644668478654167,
          -0.2065081482559559,
          -0.5665332200494914,
          -0.7372154585671127,
          -0.6676405061169877,
          -0.8037979734395893,
          -1.1747547818610908,
          -1.3717708633312544,
          -1.3994195005404537,
          -1.3830362595757755,
          -1.2427597342897574,
          -1.1836102603771959,
          -0.9664152713707791,
          -1.2055497646453364,
          -1.3590592626284024,
          -1.239905167819228,
          -1.444099430604437,
          -1.2519193368547001,
          -1.4831635647362817,
          -1.6713860077852463,
          -1.7454191003609758,
          -2.054694567551359,
          -1.8170257768247577,
          -1.9594594369139253,
          -1.9254341167839364,
          -1.6776033601629996,
          -1.4398386942146282,
          -1.3690002886314225,
          -1.1411648806083086,
          -0.5276512603763438,
          -0.3518650219359304,
          -0.2295337768775651,
          -0.22523923610751795,
          -0.613943459527634,
          -0.6825657745455723,
          -1.1705758451490607,
          -0.8804518861569638,
          -0.9960894024348269,
          -0.2532863727342763,
          -0.44407806405469313,
          -0.4996773858023216,
          -0.4695760273661828,
          -0.3958665569289161,
          -0.6382500780256619,
          -0.6129878223893539,
          -0.930518480756655,
          -1.2183070531795048,
          -0.5760962830843839,
          -0.7608155309061545,
          -0.48705969897494283,
          -0.5468935673706941,
          -0.423004782608502,
          -0.28896914585576233,
          -0.3243909445468712,
          -0.5097825880274527,
          -0.4048055657224704,
          -0.23395003649113694,
          -0.2691964677489258,
          -0.12453517976334992,
          -0.15349538077648622,
          0.3467338772368269,
          0.7014493538666642,
          0.5205939582434983,
          0.46592835270498995,
          -0.22056142519702057,
          -0.4447569206189387,
          -0.19280629842140046,
          -0.5509942809776026,
          -0.5770030019386326,
          -0.6637382346056813,
          -0.6667603231243573,
          -0.5766647273896245,
          -0.5803796326432271
         ]
        },
        {
         "line": {
          "color": "rgba(128, 0, 128, 1.0)",
          "dash": "solid",
          "shape": "linear",
          "width": 1.3
         },
         "mode": "lines",
         "name": "33736873000116",
         "text": "",
         "type": "scatter",
         "x": [
          "2020-09-03",
          "2020-09-04",
          "2020-09-08",
          "2020-09-09",
          "2020-09-10",
          "2020-09-11",
          "2020-09-14",
          "2020-09-15",
          "2020-09-16",
          "2020-09-17",
          "2020-09-18",
          "2020-09-21",
          "2020-09-22",
          "2020-09-23",
          "2020-09-24",
          "2020-09-25",
          "2020-09-28",
          "2020-09-29",
          "2020-09-30",
          "2020-10-01",
          "2020-10-02",
          "2020-10-05",
          "2020-10-06",
          "2020-10-07",
          "2020-10-08",
          "2020-10-09",
          "2020-10-13",
          "2020-10-14",
          "2020-10-15",
          "2020-10-16",
          "2020-10-19",
          "2020-10-20",
          "2020-10-21",
          "2020-10-22",
          "2020-10-23",
          "2020-10-26",
          "2020-10-27",
          "2020-10-28",
          "2020-10-29",
          "2020-10-30",
          "2020-11-03",
          "2020-11-04",
          "2020-11-05",
          "2020-11-06",
          "2020-11-09",
          "2020-11-10",
          "2020-11-11",
          "2020-11-12",
          "2020-11-13",
          "2020-11-16",
          "2020-11-17",
          "2020-11-18",
          "2020-11-19",
          "2020-11-20",
          "2020-11-23",
          "2020-11-24",
          "2020-11-25",
          "2020-11-26",
          "2020-11-27",
          "2020-11-30",
          "2020-12-01",
          "2020-12-02",
          "2020-12-03",
          "2020-12-04",
          "2020-12-07",
          "2020-12-08",
          "2020-12-09",
          "2020-12-10",
          "2020-12-11",
          "2020-12-14",
          "2020-12-15",
          "2020-12-16",
          "2020-12-17",
          "2020-12-18",
          "2020-12-21",
          "2020-12-22",
          "2020-12-23",
          "2020-12-24",
          "2020-12-28",
          "2020-12-29",
          "2020-12-30",
          "2020-12-31",
          "2021-01-04",
          "2021-01-05",
          "2021-01-06",
          "2021-01-07",
          "2021-01-08",
          "2021-01-11",
          "2021-01-12",
          "2021-01-13",
          "2021-01-14",
          "2021-01-15",
          "2021-01-18",
          "2021-01-19",
          "2021-01-20",
          "2021-01-21",
          "2021-01-22",
          "2021-01-25",
          "2021-01-26",
          "2021-01-27",
          "2021-01-28",
          "2021-01-29",
          "2021-02-01",
          "2021-02-02",
          "2021-02-03",
          "2021-02-04",
          "2021-02-05",
          "2021-02-08",
          "2021-02-09",
          "2021-02-10",
          "2021-02-11",
          "2021-02-12",
          "2021-02-17",
          "2021-02-18",
          "2021-02-19",
          "2021-02-22",
          "2021-02-23",
          "2021-02-24",
          "2021-02-25",
          "2021-02-26",
          "2021-03-01",
          "2021-03-02",
          "2021-03-03",
          "2021-03-04",
          "2021-03-05",
          "2021-03-08",
          "2021-03-09",
          "2021-03-10",
          "2021-03-11",
          "2021-03-12",
          "2021-03-15",
          "2021-03-16",
          "2021-03-17",
          "2021-03-18",
          "2021-03-19",
          "2021-03-22",
          "2021-03-23",
          "2021-03-24",
          "2021-03-25",
          "2021-03-26",
          "2021-03-29",
          "2021-03-30",
          "2021-03-31",
          "2021-04-01",
          "2021-04-05",
          "2021-04-06",
          "2021-04-07",
          "2021-04-08",
          "2021-04-09",
          "2021-04-12",
          "2021-04-13",
          "2021-04-14",
          "2021-04-15",
          "2021-04-16",
          "2021-04-19",
          "2021-04-20",
          "2021-04-22",
          "2021-04-23",
          "2021-04-26",
          "2021-04-27",
          "2021-04-28",
          "2021-04-29",
          "2021-04-30",
          "2021-05-03",
          "2021-05-04",
          "2021-05-05",
          "2021-05-06",
          "2021-05-07",
          "2021-05-10",
          "2021-05-11",
          "2021-05-12",
          "2021-05-13",
          "2021-05-14",
          "2021-05-17",
          "2021-05-18",
          "2021-05-19",
          "2021-05-20",
          "2021-05-21",
          "2021-05-24",
          "2021-05-25",
          "2021-05-26",
          "2021-05-27",
          "2021-05-28",
          "2021-05-31",
          "2021-06-01",
          "2021-06-02",
          "2021-06-04",
          "2021-06-07",
          "2021-06-08",
          "2021-06-09",
          "2021-06-10",
          "2021-06-11",
          "2021-06-14",
          "2021-06-15",
          "2021-06-16",
          "2021-06-17",
          "2021-06-18",
          "2021-06-21",
          "2021-06-22",
          "2021-06-23",
          "2021-06-24",
          "2021-06-25",
          "2021-06-28",
          "2021-06-29",
          "2021-06-30",
          "2021-07-01",
          "2021-07-02",
          "2021-07-05",
          "2021-07-06",
          "2021-07-07",
          "2021-07-08",
          "2021-07-09",
          "2021-07-12",
          "2021-07-13",
          "2021-07-14",
          "2021-07-15",
          "2021-07-16",
          "2021-07-19",
          "2021-07-20",
          "2021-07-21",
          "2021-07-22",
          "2021-07-23",
          "2021-07-26",
          "2021-07-27",
          "2021-07-28",
          "2021-07-29",
          "2021-07-30",
          "2021-08-02",
          "2021-08-03",
          "2021-08-04",
          "2021-08-05",
          "2021-08-06",
          "2021-08-09",
          "2021-08-10",
          "2021-08-11",
          "2021-08-12",
          "2021-08-13",
          "2021-08-16",
          "2021-08-17",
          "2021-08-18",
          "2021-08-19",
          "2021-08-20",
          "2021-08-23",
          "2021-08-24",
          "2021-08-25",
          "2021-08-26",
          "2021-08-27",
          "2021-08-30",
          "2021-08-31",
          "2021-09-01",
          "2021-09-02",
          "2021-09-03"
         ],
         "y": [
          -1.62765393587953,
          -1.6920220593064035,
          -1.7162863103608903,
          -1.7140183155396493,
          -1.6892901306421595,
          -1.6963689547387013,
          -1.6754374181573901,
          -1.6813260276456892,
          -1.685774568314092,
          -1.6789262915128487,
          -1.6377253320111087,
          -1.7219676544236129,
          -1.698422302078112,
          -1.6778564612065856,
          -1.7017464987940722,
          -1.6693750464218948,
          -1.6162219699953975,
          -1.6351330945651983,
          -1.647529270566122,
          -1.6385089656749323,
          -1.7007942135373821,
          -1.7060780622633824,
          -1.707888369596912,
          -1.7107599894794892,
          -1.654726207562718,
          -1.6465099789526698,
          -1.5822491792667108,
          -1.5787421346958588,
          -1.5856517393490528,
          -1.5968826861628997,
          -1.5740840571999553,
          -1.564349964254108,
          -1.484608424754262,
          -1.452870693518915,
          -1.4486532679962922,
          -1.4357971331057329,
          -1.4078401503730964,
          -1.4324456795666836,
          -1.4007749546880996,
          -1.4244548875976042,
          -1.4033297140022616,
          -1.4131319490058318,
          -1.3349872050586462,
          -1.3319537477889738,
          -1.3612678931712767,
          -1.3584553297387258,
          -1.3097116122974413,
          -1.2724123534508702,
          -1.2619610653474798,
          -1.2501327398275892,
          -1.2019653906245504,
          -1.1823143568779657,
          -1.1666360050966786,
          -1.0970215110755521,
          -1.0329651375627642,
          -0.9451595533817845,
          -0.9682267756222573,
          -0.9692057498515553,
          -1.1834455150361807,
          -0.9735486703304862,
          -1.0043579660293462,
          -1.0290747939172151,
          -1.0139370357938706,
          -1.0556695033458565,
          -1.0524997619607375,
          -1.0748497890436672,
          -1.0898313882847275,
          -1.1375296929904337,
          -1.138643815634218,
          -1.0604865789764497,
          -1.0590232282868302,
          -0.9693482803222943,
          -0.8047630647505305,
          -0.8577963247255295,
          -0.8412236084366173,
          -0.8079379167899781,
          -0.826527070137035,
          -0.8466340878198884,
          -0.6018916661961613,
          -0.6449222399477859,
          -0.5695883558817069,
          -0.5393730317860074,
          -0.2952768240096947,
          -0.2643363548497167,
          -0.12148050578511313,
          0.13591021745311538,
          0.211224226752358,
          -0.18483274470142164,
          -0.11736075054522807,
          -0.0991588712262365,
          0.06923832462469492,
          -0.045903581713153126,
          -0.04519490431282528,
          0.08982858306690607,
          -0.054257230139611694,
          -0.14698039948632546,
          -0.06943303424518595,
          0.04972357499355673,
          -0.1138758521431365,
          -0.15356405796340852,
          -0.06091470917922785,
          0.16993638612701858,
          0.02195000796629341,
          0.10285961590562315,
          0.18889748153915034,
          0.2357014217372314,
          0.23518467779949215,
          0.4237496513347475,
          0.6001802279408339,
          0.5375576768926524,
          0.6321195460969475,
          0.6234337051390856,
          0.7752155959150265,
          0.7865550021707496,
          0.8555102217833992,
          0.7868105348872143,
          0.5345497728946274,
          0.6395640659032731,
          0.684414032596124,
          0.6050961095551264,
          0.6587841011347552,
          0.6560022016281803,
          0.8033389588386054,
          0.6748077060085093,
          0.7138599192900263,
          0.8503456216584147,
          0.9476439623308021,
          0.9847353879013152,
          0.9400995008398146,
          0.934235308922199,
          0.9369473628196066,
          0.9125854414823817,
          0.962349018387601,
          0.9671944865422447,
          0.9640326950638597,
          0.9114610975299393,
          0.868877989957368,
          0.8976787985048174,
          0.821835552557253,
          0.8943642552470352,
          1.0493056660994369,
          1.0682627865582017,
          1.0525202676725585,
          1.0721332554369145,
          1.0914742428208564,
          1.0914742428208564,
          0.9871691950630174,
          1.0318363139009765,
          1.0767152409683594,
          1.1485335627063695,
          1.2374720085970072,
          1.2324652709057509,
          1.2468494914407662,
          1.2128170764115704,
          1.0140978005745063,
          1.0482568462609716,
          0.9894695573616773,
          0.8954278391980071,
          0.9946074685140529,
          1.0372854071169564,
          1.0153107292019898,
          0.9633790991601926,
          1.0963475356490704,
          1.2093140067940853,
          1.1538276327410293,
          1.2076473656322575,
          1.1540456873257454,
          1.1944579025093334,
          1.2685646616859023,
          1.2438711156677544,
          1.2025770286871251,
          1.0108474244210803,
          1.1452014160836752,
          0.85242338656851,
          0.830305610332323,
          0.5850526911261479,
          0.6625688245908326,
          0.5244329487245646,
          0.5625635406753661,
          0.5708961786340269,
          0.6202741850626248,
          0.6292257800456097,
          0.47145022744237797,
          0.474419517607693,
          0.46549234019539165,
          0.5307605066347015,
          0.4799600347511194,
          0.42330843151098546,
          0.2876387302838397,
          0.4290516712761413,
          0.42354863226446215,
          0.4336291140037379,
          0.5376990716624286,
          0.5603835626786858,
          0.48414509279632345,
          0.42399269134062856,
          0.32435991734072084,
          0.17963016168871282,
          0.1619802330372836,
          0.1761617309505707,
          0.23141471845592262,
          0.11158520639715781,
          0.24097675270601623,
          0.3447951526016106,
          0.3079143995595596,
          0.2566812256094308,
          0.253297972443444,
          0.2770375296534577,
          0.3812267359131654,
          0.4330856810933909,
          0.329766989621105,
          0.34088379848826356,
          0.27950143289065443,
          0.2428870017242078,
          0.2324408242751472,
          0.18578566090309634,
          0.19802227091885016,
          0.16503470077475269,
          0.1178292902865823,
          0.24356047239471126,
          0.27503244960493395,
          0.26954076760287576,
          0.6043999248653822,
          0.5285038688230814,
          0.6019536249930963,
          0.5608963316630569,
          0.6038161745708812,
          0.665816361491853,
          0.6056486280731701,
          0.6915280634224903,
          0.7550586073898422,
          0.8428170599808953,
          0.9917369843324371,
          0.9510550401703592,
          1.0101978034707804,
          0.9413391184399069,
          1.029422949356591,
          1.0345744889205115,
          0.9991054121743053,
          1.0059735637423848,
          1.0755136693504956,
          1.136990298127957,
          1.1714219120453178,
          1.0736607732308892,
          1.0883294868569022,
          1.037351845623238,
          1.0716199186020607,
          1.0895338977271702,
          1.07198220720896,
          1.1586526582783565,
          1.196127950774047,
          1.2554240337043452
         ]
        },
        {
         "line": {
          "color": "rgba(219, 64, 82, 1.0)",
          "dash": "solid",
          "shape": "linear",
          "width": 1.3
         },
         "mode": "lines",
         "name": "31964074000171",
         "text": "",
         "type": "scatter",
         "x": [
          "2020-09-03",
          "2020-09-04",
          "2020-09-08",
          "2020-09-09",
          "2020-09-10",
          "2020-09-11",
          "2020-09-14",
          "2020-09-15",
          "2020-09-16",
          "2020-09-17",
          "2020-09-18",
          "2020-09-21",
          "2020-09-22",
          "2020-09-23",
          "2020-09-24",
          "2020-09-25",
          "2020-09-28",
          "2020-09-29",
          "2020-09-30",
          "2020-10-01",
          "2020-10-02",
          "2020-10-05",
          "2020-10-06",
          "2020-10-07",
          "2020-10-08",
          "2020-10-09",
          "2020-10-13",
          "2020-10-14",
          "2020-10-15",
          "2020-10-16",
          "2020-10-19",
          "2020-10-20",
          "2020-10-21",
          "2020-10-22",
          "2020-10-23",
          "2020-10-26",
          "2020-10-27",
          "2020-10-28",
          "2020-10-29",
          "2020-10-30",
          "2020-11-03",
          "2020-11-04",
          "2020-11-05",
          "2020-11-06",
          "2020-11-09",
          "2020-11-10",
          "2020-11-11",
          "2020-11-12",
          "2020-11-13",
          "2020-11-16",
          "2020-11-17",
          "2020-11-18",
          "2020-11-19",
          "2020-11-20",
          "2020-11-23",
          "2020-11-24",
          "2020-11-25",
          "2020-11-26",
          "2020-11-27",
          "2020-11-30",
          "2020-12-01",
          "2020-12-02",
          "2020-12-03",
          "2020-12-04",
          "2020-12-07",
          "2020-12-08",
          "2020-12-09",
          "2020-12-10",
          "2020-12-11",
          "2020-12-14",
          "2020-12-15",
          "2020-12-16",
          "2020-12-17",
          "2020-12-18",
          "2020-12-21",
          "2020-12-22",
          "2020-12-23",
          "2020-12-24",
          "2020-12-28",
          "2020-12-29",
          "2020-12-30",
          "2020-12-31",
          "2021-01-04",
          "2021-01-05",
          "2021-01-06",
          "2021-01-07",
          "2021-01-08",
          "2021-01-11",
          "2021-01-12",
          "2021-01-13",
          "2021-01-14",
          "2021-01-15",
          "2021-01-18",
          "2021-01-19",
          "2021-01-20",
          "2021-01-21",
          "2021-01-22",
          "2021-01-25",
          "2021-01-26",
          "2021-01-27",
          "2021-01-28",
          "2021-01-29",
          "2021-02-01",
          "2021-02-02",
          "2021-02-03",
          "2021-02-04",
          "2021-02-05",
          "2021-02-08",
          "2021-02-09",
          "2021-02-10",
          "2021-02-11",
          "2021-02-12",
          "2021-02-17",
          "2021-02-18",
          "2021-02-19",
          "2021-02-22",
          "2021-02-23",
          "2021-02-24",
          "2021-02-25",
          "2021-02-26",
          "2021-03-01",
          "2021-03-02",
          "2021-03-03",
          "2021-03-04",
          "2021-03-05",
          "2021-03-08",
          "2021-03-09",
          "2021-03-10",
          "2021-03-11",
          "2021-03-12",
          "2021-03-15",
          "2021-03-16",
          "2021-03-17",
          "2021-03-18",
          "2021-03-19",
          "2021-03-22",
          "2021-03-23",
          "2021-03-24",
          "2021-03-25",
          "2021-03-26",
          "2021-03-29",
          "2021-03-30",
          "2021-03-31",
          "2021-04-01",
          "2021-04-05",
          "2021-04-06",
          "2021-04-07",
          "2021-04-08",
          "2021-04-09",
          "2021-04-12",
          "2021-04-13",
          "2021-04-14",
          "2021-04-15",
          "2021-04-16",
          "2021-04-19",
          "2021-04-20",
          "2021-04-22",
          "2021-04-23",
          "2021-04-26",
          "2021-04-27",
          "2021-04-28",
          "2021-04-29",
          "2021-04-30",
          "2021-05-03",
          "2021-05-04",
          "2021-05-05",
          "2021-05-06",
          "2021-05-07",
          "2021-05-10",
          "2021-05-11",
          "2021-05-12",
          "2021-05-13",
          "2021-05-14",
          "2021-05-17",
          "2021-05-18",
          "2021-05-19",
          "2021-05-20",
          "2021-05-21",
          "2021-05-24",
          "2021-05-25",
          "2021-05-26",
          "2021-05-27",
          "2021-05-28",
          "2021-05-31",
          "2021-06-01",
          "2021-06-02",
          "2021-06-04",
          "2021-06-07",
          "2021-06-08",
          "2021-06-09",
          "2021-06-10",
          "2021-06-11",
          "2021-06-14",
          "2021-06-15",
          "2021-06-16",
          "2021-06-17",
          "2021-06-18",
          "2021-06-21",
          "2021-06-22",
          "2021-06-23",
          "2021-06-24",
          "2021-06-25",
          "2021-06-28",
          "2021-06-29",
          "2021-06-30",
          "2021-07-01",
          "2021-07-02",
          "2021-07-05",
          "2021-07-06",
          "2021-07-07",
          "2021-07-08",
          "2021-07-09",
          "2021-07-12",
          "2021-07-13",
          "2021-07-14",
          "2021-07-15",
          "2021-07-16",
          "2021-07-19",
          "2021-07-20",
          "2021-07-21",
          "2021-07-22",
          "2021-07-23",
          "2021-07-26",
          "2021-07-27",
          "2021-07-28",
          "2021-07-29",
          "2021-07-30",
          "2021-08-02",
          "2021-08-03",
          "2021-08-04",
          "2021-08-05",
          "2021-08-06",
          "2021-08-09",
          "2021-08-10",
          "2021-08-11",
          "2021-08-12",
          "2021-08-13",
          "2021-08-16",
          "2021-08-17",
          "2021-08-18",
          "2021-08-19",
          "2021-08-20",
          "2021-08-23",
          "2021-08-24",
          "2021-08-25",
          "2021-08-26",
          "2021-08-27",
          "2021-08-30",
          "2021-08-31",
          "2021-09-01",
          "2021-09-02",
          "2021-09-03"
         ],
         "y": [
          -1.7937863910163496,
          -1.8220246508484426,
          -1.8000344528600931,
          -1.8423555274946837,
          -1.8206235703137845,
          -1.7779647961617577,
          -1.592701847662347,
          -1.5492044116572747,
          -1.5614199467751262,
          -1.6142171557043015,
          -1.4088523951210281,
          -1.5288573949605684,
          -1.5265642662520944,
          -1.3560359422855282,
          -1.532788118020139,
          -1.4501181587636318,
          -1.2963382410110915,
          -1.2823423341726383,
          -1.2115632467111526,
          -1.164344287531393,
          -1.1485947021327243,
          -1.2543443127840168,
          -1.172771256188005,
          -1.1619667339435602,
          -1.106345636954057,
          -1.1893775058036995,
          -0.9744777000222259,
          -0.9656807517472451,
          -1.0651909913511997,
          -1.0171253002931615,
          -1.1738296710358527,
          -1.12465031649568,
          -0.9985983846720476,
          -0.9509858565693927,
          -0.8762015535077257,
          -1.0167776684369767,
          -0.9554640998024536,
          -1.0168248470460304,
          -0.9479682879034789,
          -1.099091305040895,
          -1.058039707452549,
          -1.077384178706867,
          -1.033986686860447,
          -1.2774742466437132,
          -1.169029868335821,
          -1.336996269676542,
          -1.241941925543466,
          -1.1728041570601082,
          -1.0920790738847181,
          -1.0970222747254257,
          -1.2373246295679314,
          -1.2769770089351358,
          -1.3212001264399933,
          -1.198299849855374,
          -1.0817736516623657,
          -1.1822690551159003,
          -1.416135282508091,
          -1.3899815722707622,
          -1.3231276209283007,
          -1.3956101044850895,
          -1.4919767588752628,
          -1.405470433777292,
          -1.4906197530938003,
          -1.4407749318575036,
          -1.4747776727905395,
          -1.4457398596892228,
          -1.334951449436773,
          -1.334951449436773,
          -1.4607097564961633,
          -1.364628656845,
          -1.4152078503774852,
          -1.295227060613644,
          -1.2642158159573091,
          -1.311995331505168,
          -1.3523504238388018,
          -1.301404975314978,
          -1.145929731492368,
          -1.146290399543159,
          -1.0405078880197636,
          -1.0853368781882562,
          -1.1147130115781814,
          -1.0023161832197065,
          -0.8562313449122757,
          -0.7121149719904902,
          -0.6775485708334984,
          -0.46215152734344594,
          -0.24040089091045297,
          -0.056590546952954526,
          -0.3983151446668995,
          -0.32178709538376526,
          -0.4194089490832311,
          -0.2886975088443847,
          -0.33213535081696766,
          -0.06429369642329755,
          -0.0745742877987802,
          0.14146525385404182,
          0.2511263436585802,
          0.1403056533051979,
          -0.18314468265454004,
          -0.049341801980338905,
          -0.17445823164813187,
          -0.07852549630701842,
          -0.07594557131719307,
          -0.050010993303493116,
          0.0776232842369504,
          0.10220147724035872,
          -0.12334765799262189,
          -0.013442605117582208,
          -0.005590470566017157,
          0.03928445666918483,
          0.08697954733768351,
          0.13189979086842546,
          0.40127661236985174,
          0.4509885885753921,
          0.39577409670339053,
          0.46123565830759816,
          0.35908527891015857,
          0.26806905124936664,
          0.47261811851295066,
          0.37388135978900733,
          0.42931498388463923,
          0.574792087214917,
          0.8031769051604877,
          0.5537038697391318,
          0.535438919552501,
          0.6002449467993328,
          0.4677345117047322,
          0.4098792592680719,
          0.3072527483818944,
          0.24822113457475403,
          0.3224411566412931,
          0.4550384996999396,
          0.42646378189275447,
          0.4447982584506227,
          0.3045319083360791,
          0.26937887842177544,
          0.22196561786525534,
          0.35697155307032263,
          0.3309494463214061,
          0.6238975699856502,
          0.5979319534133635,
          0.5679102180048109,
          0.4223381366852524,
          0.593504613416386,
          0.5168399944754639,
          0.4356089827950921,
          0.5620023387631908,
          0.5056574225874184,
          0.656581172178701,
          0.48575115342265957,
          0.37838815849596935,
          0.5430967527273054,
          0.4655978173315416,
          0.5163837276642215,
          0.4300381822997362,
          0.4911475172187503,
          0.17922179806269764,
          0.40628685649710966,
          0.46996556329602995,
          0.5775526566157246,
          0.343130218253638,
          0.5435424664286272,
          0.658019498983663,
          0.6436151247141947,
          0.6390443865765415,
          0.36746941435592057,
          0.3496464532435803,
          0.32321587906364707,
          0.33278134204926346,
          0.19330399209402435,
          0.275833036294543,
          0.3062824830404369,
          0.1879206644925399,
          0.327577417316417,
          0.3835324891963253,
          0.5058523447353498,
          0.2812685086744538,
          0.6299718159013006,
          0.5672037804113501,
          0.8598682116501006,
          0.8092716365248057,
          0.7816982226176662,
          0.6870933168129421,
          0.8146226840253579,
          0.7125983211757856,
          0.43233689794875646,
          0.37983393455499254,
          0.4887426496993608,
          0.5935263404073978,
          0.6371268244269812,
          0.8561243407132293,
          0.9618652605681162,
          0.8179804352933965,
          0.9060542076000556,
          0.8612935022604563,
          0.7785273234723269,
          0.9225325783543676,
          0.7160678112547396,
          1.0642682938324626,
          1.033913825075848,
          0.8687247539575691,
          1.1323327489598516,
          0.8899762342515283,
          0.9391605549610738,
          1.0383535804962594,
          1.132044711136156,
          1.1530416752496935,
          1.3042944335620068,
          1.5161561852288976,
          1.5429846737299284,
          1.5864504504052404,
          1.4914929465749585,
          1.407732913140845,
          1.3315667734508445,
          1.2169705528308306,
          1.4629852720543237,
          1.3466012304596469,
          1.6307822028651555,
          1.4328859402493002,
          1.4497938846544687,
          1.449954043616782,
          1.4759047616809473,
          1.217634777984612,
          1.0804145520098831,
          0.9148337742822267,
          0.9770971228095384,
          1.1466570437481634,
          1.0673572511831289,
          1.2503866650065563,
          1.1523041990976446,
          1.2482630068279719,
          1.2853373235188659,
          1.187125116435057,
          1.1190085165292414,
          1.0537902972243616,
          1.1328535759729559,
          1.0100948352154988,
          1.0772554475168088,
          0.9970418797869466,
          1.2738834746287624,
          1.3153547135292163,
          1.1606181874009969,
          1.261286786011451,
          1.006632173619434,
          1.0292468674065713,
          1.2197062913847672,
          1.121212254188981,
          1.316086602740719,
          1.3386733618251272,
          1.4284623248793542,
          1.536579556779731,
          1.5642529148455238
         ]
        },
        {
         "line": {
          "color": "rgba(0, 128, 128, 1.0)",
          "dash": "solid",
          "shape": "linear",
          "width": 1.3
         },
         "mode": "lines",
         "name": "19959703000170",
         "text": "",
         "type": "scatter",
         "x": [
          "2020-09-03",
          "2020-09-04",
          "2020-09-08",
          "2020-09-09",
          "2020-09-10",
          "2020-09-11",
          "2020-09-14",
          "2020-09-15",
          "2020-09-16",
          "2020-09-17",
          "2020-09-18",
          "2020-09-21",
          "2020-09-22",
          "2020-09-23",
          "2020-09-24",
          "2020-09-25",
          "2020-09-28",
          "2020-09-29",
          "2020-09-30",
          "2020-10-01",
          "2020-10-02",
          "2020-10-05",
          "2020-10-06",
          "2020-10-07",
          "2020-10-08",
          "2020-10-09",
          "2020-10-13",
          "2020-10-14",
          "2020-10-15",
          "2020-10-16",
          "2020-10-19",
          "2020-10-20",
          "2020-10-21",
          "2020-10-22",
          "2020-10-23",
          "2020-10-26",
          "2020-10-27",
          "2020-10-28",
          "2020-10-29",
          "2020-10-30",
          "2020-11-03",
          "2020-11-04",
          "2020-11-05",
          "2020-11-06",
          "2020-11-09",
          "2020-11-10",
          "2020-11-11",
          "2020-11-12",
          "2020-11-13",
          "2020-11-16",
          "2020-11-17",
          "2020-11-18",
          "2020-11-19",
          "2020-11-20",
          "2020-11-23",
          "2020-11-24",
          "2020-11-25",
          "2020-11-26",
          "2020-11-27",
          "2020-11-30",
          "2020-12-01",
          "2020-12-02",
          "2020-12-03",
          "2020-12-04",
          "2020-12-07",
          "2020-12-08",
          "2020-12-09",
          "2020-12-10",
          "2020-12-11",
          "2020-12-14",
          "2020-12-15",
          "2020-12-16",
          "2020-12-17",
          "2020-12-18",
          "2020-12-21",
          "2020-12-22",
          "2020-12-23",
          "2020-12-24",
          "2020-12-28",
          "2020-12-29",
          "2020-12-30",
          "2020-12-31",
          "2021-01-04",
          "2021-01-05",
          "2021-01-06",
          "2021-01-07",
          "2021-01-08",
          "2021-01-11",
          "2021-01-12",
          "2021-01-13",
          "2021-01-14",
          "2021-01-15",
          "2021-01-18",
          "2021-01-19",
          "2021-01-20",
          "2021-01-21",
          "2021-01-22",
          "2021-01-25",
          "2021-01-26",
          "2021-01-27",
          "2021-01-28",
          "2021-01-29",
          "2021-02-01",
          "2021-02-02",
          "2021-02-03",
          "2021-02-04",
          "2021-02-05",
          "2021-02-08",
          "2021-02-09",
          "2021-02-10",
          "2021-02-11",
          "2021-02-12",
          "2021-02-17",
          "2021-02-18",
          "2021-02-19",
          "2021-02-22",
          "2021-02-23",
          "2021-02-24",
          "2021-02-25",
          "2021-02-26",
          "2021-03-01",
          "2021-03-02",
          "2021-03-03",
          "2021-03-04",
          "2021-03-05",
          "2021-03-08",
          "2021-03-09",
          "2021-03-10",
          "2021-03-11",
          "2021-03-12",
          "2021-03-15",
          "2021-03-16",
          "2021-03-17",
          "2021-03-18",
          "2021-03-19",
          "2021-03-22",
          "2021-03-23",
          "2021-03-24",
          "2021-03-25",
          "2021-03-26",
          "2021-03-29",
          "2021-03-30",
          "2021-03-31",
          "2021-04-01",
          "2021-04-05",
          "2021-04-06",
          "2021-04-07",
          "2021-04-08",
          "2021-04-09",
          "2021-04-12",
          "2021-04-13",
          "2021-04-14",
          "2021-04-15",
          "2021-04-16",
          "2021-04-19",
          "2021-04-20",
          "2021-04-22",
          "2021-04-23",
          "2021-04-26",
          "2021-04-27",
          "2021-04-28",
          "2021-04-29",
          "2021-04-30",
          "2021-05-03",
          "2021-05-04",
          "2021-05-05",
          "2021-05-06",
          "2021-05-07",
          "2021-05-10",
          "2021-05-11",
          "2021-05-12",
          "2021-05-13",
          "2021-05-14",
          "2021-05-17",
          "2021-05-18",
          "2021-05-19",
          "2021-05-20",
          "2021-05-21",
          "2021-05-24",
          "2021-05-25",
          "2021-05-26",
          "2021-05-27",
          "2021-05-28",
          "2021-05-31",
          "2021-06-01",
          "2021-06-02",
          "2021-06-04",
          "2021-06-07",
          "2021-06-08",
          "2021-06-09",
          "2021-06-10",
          "2021-06-11",
          "2021-06-14",
          "2021-06-15",
          "2021-06-16",
          "2021-06-17",
          "2021-06-18",
          "2021-06-21",
          "2021-06-22",
          "2021-06-23",
          "2021-06-24",
          "2021-06-25",
          "2021-06-28",
          "2021-06-29",
          "2021-06-30",
          "2021-07-01",
          "2021-07-02",
          "2021-07-05",
          "2021-07-06",
          "2021-07-07",
          "2021-07-08",
          "2021-07-09",
          "2021-07-12",
          "2021-07-13",
          "2021-07-14",
          "2021-07-15",
          "2021-07-16",
          "2021-07-19",
          "2021-07-20",
          "2021-07-21",
          "2021-07-22",
          "2021-07-23",
          "2021-07-26",
          "2021-07-27",
          "2021-07-28",
          "2021-07-29",
          "2021-07-30",
          "2021-08-02",
          "2021-08-03",
          "2021-08-04",
          "2021-08-05",
          "2021-08-06",
          "2021-08-09",
          "2021-08-10",
          "2021-08-11",
          "2021-08-12",
          "2021-08-13",
          "2021-08-16",
          "2021-08-17",
          "2021-08-18",
          "2021-08-19",
          "2021-08-20",
          "2021-08-23",
          "2021-08-24",
          "2021-08-25",
          "2021-08-26",
          "2021-08-27",
          "2021-08-30",
          "2021-08-31",
          "2021-09-01",
          "2021-09-02",
          "2021-09-03"
         ],
         "y": [
          -1.891795260804448,
          -1.8704785288407502,
          -1.8165174575234309,
          -1.7933701658352166,
          -1.7075564495205067,
          -1.7210281761064574,
          -1.7195993045691353,
          -1.6149267406455934,
          -1.582895608872814,
          -1.6455107010967047,
          -1.5020293256182138,
          -1.6041281559517557,
          -1.615634915726375,
          -1.7168860178764485,
          -1.7223691578320082,
          -1.7785641008411266,
          -1.4990927212556653,
          -1.6060536857313321,
          -1.6588140106433833,
          -1.615317514628818,
          -1.6211258590247688,
          -1.5625200880665941,
          -1.522464135477196,
          -1.4974163031033534,
          -1.4623828070685985,
          -1.286322259347596,
          -1.3642449001558776,
          -1.361709292820004,
          -1.3046433636286798,
          -1.2728802922685185,
          -1.2816720444757295,
          -1.2185629053443494,
          -1.2031804801849408,
          -1.1766150100551296,
          -1.1942095002169346,
          -1.2807922367345352,
          -1.313578610214384,
          -1.5064577431178574,
          -1.4886007052193249,
          -1.5840738893671864,
          -1.449649827599126,
          -1.45255002913739,
          -1.321723050348777,
          -1.2617991775057222,
          -1.0931230820727713,
          -1.0915501348666827,
          -1.1203622420782047,
          -1.2355588977631302,
          -1.1928678209430579,
          -1.1035370237988154,
          -1.1581447377469702,
          -1.2308537017743306,
          -1.1603049439916129,
          -1.276719872941724,
          -1.3582144441076927,
          -1.289247576458349,
          -1.2822692224982013,
          -1.1041042302392798,
          -1.059397680787266,
          -1.142370791231124,
          -0.9411059852849307,
          -0.8742829391598884,
          -0.6854494243088489,
          -0.5681443304301937,
          -0.5666385394977496,
          -0.5464352926875815,
          -0.6183316959542322,
          -0.6102440536285755,
          -0.6341470686643756,
          -0.6024274522654408,
          -0.5799083207324879,
          -0.5573021208595108,
          -0.5294495143693203,
          -0.5744753237702016,
          -0.6153929005745044,
          -0.6979120820826652,
          -0.7044227682156857,
          -0.7151788152371217,
          -0.7475625742980208,
          -0.792677413095125,
          -0.7288031835386163,
          -0.7246781855085018,
          -0.8146025068506435,
          -0.6699777346819848,
          -0.4578256429789248,
          -0.5288641563415917,
          -0.4457151410732079,
          -0.423667581593918,
          -0.3749848878588504,
          -0.35185735876236846,
          -0.33266053110273747,
          -0.34509098667296884,
          -0.4872645663514947,
          -0.5298729223717625,
          -0.4713259856546184,
          -0.4857615285630943,
          -0.4504838471764443,
          -0.47512304909640046,
          -0.29842973050233723,
          -0.4039108704737054,
          -0.4133803624250356,
          -0.462364096810976,
          -0.49686019956970584,
          -0.34035758724663917,
          -0.3016626625930782,
          -0.37371807110681593,
          -0.3278619045199324,
          -0.23782199073241522,
          -0.280544638640919,
          -0.22801943223005633,
          -0.24619665886433237,
          -0.18805396545646394,
          -0.12002508312297236,
          -0.19065582583033236,
          -0.14881860054379428,
          -0.12832035083623047,
          -0.07643463526949776,
          0.0029308433734039335,
          0.17126131894053784,
          0.062190019092998594,
          -0.04203778495043387,
          0.09627474208648074,
          0.2924846874198045,
          0.23329967922884656,
          0.319518849980697,
          0.25402226865510164,
          0.346239460735447,
          0.25020667930067514,
          0.3135111958419594,
          0.40403448251446655,
          0.27310380537376944,
          0.2669275515045312,
          0.2500709512157455,
          0.420777827017025,
          0.548462988090736,
          0.46033124458337993,
          0.4046192733050935,
          0.41152234442581387,
          0.43452232693826676,
          0.478114076626443,
          0.38063261762553985,
          0.6095142318982635,
          0.6301230545138728,
          0.4660120602811559,
          0.4007009041649663,
          0.36370089674758055,
          0.36789206349665965,
          0.6166218149903291,
          0.616546145049908,
          0.5054631707593997,
          0.354726349829152,
          0.559768777293213,
          0.6335804796306318,
          0.6321360435671532,
          0.6731126002544443,
          0.5570710155222879,
          0.6870984697830477,
          0.6335782183475902,
          0.7487390013960624,
          0.7346807708101321,
          0.8100177660492752,
          0.7584800849387242,
          0.7025270634433355,
          0.6676569802412566,
          0.6558841402736343,
          0.693922613182695,
          0.7395660109212296,
          0.8122348454787535,
          0.777297370931794,
          0.9870288306823741,
          0.8794180117874173,
          0.9071127883866809,
          0.9146164920549289,
          0.9138090862530182,
          0.8970919573030097,
          0.937568489374707,
          0.9885090001281513,
          0.9582678016388049,
          0.9580124938404959,
          0.9324408831586338,
          1.0291285934851468,
          1.1425803448030711,
          1.172721446384902,
          1.0797492412809133,
          1.0832892351677086,
          1.1371970730716008,
          1.1134791395812824,
          1.092911313899458,
          1.1648792784702253,
          1.1010716200644086,
          0.996888919035945,
          0.9430141316361699,
          0.9574322128403425,
          0.9917348800819469,
          1.0072469112537814,
          1.1245315117757906,
          1.2493454566161237,
          1.2533855006697354,
          1.1886305179768644,
          1.1605273051129938,
          1.2561057602905823,
          1.280135891372337,
          1.3777586486243094,
          1.3646772284342419,
          1.3607353010685306,
          1.31860617991305,
          1.3208248946206609,
          1.2715356187363012,
          1.0913914761833754,
          1.059996473991631,
          1.018580627940606,
          1.0052755962416404,
          1.0576697414980563,
          1.1185110564754257,
          1.1294066591546692,
          1.0221957807434074,
          1.0767904610138266,
          0.8733504272602749,
          1.0024953040275082,
          1.108506603724293,
          1.0379670673771673,
          0.9185502941324227,
          0.9190610119339251,
          0.899360100847276,
          0.9226917893082524,
          1.0793079716975646,
          0.823312947752616,
          0.8373243812776375,
          0.8203301876648015,
          0.7578441917064839,
          0.8268578091469765,
          0.876826172602351,
          0.9185616644256825,
          0.9864480003309734,
          1.0139958063081511,
          1.043722645947025,
          1.0592731828086182,
          1.1517424760090589,
          1.1245408124201641,
          1.1932270803952802,
          0.9768014435296911,
          1.1426172918683586,
          1.0678438926821807,
          1.1466687828688953,
          1.0701708040343052,
          1.1257121314844278,
          1.2147031880987667,
          1.248709895549756,
          1.300029509766322,
          1.2721562962165498,
          1.2181689429135045,
          1.2794816268123375
         ]
        },
        {
         "line": {
          "color": "rgba(255, 255, 51, 1.0)",
          "dash": "solid",
          "shape": "linear",
          "width": 1.3
         },
         "mode": "lines",
         "name": "21732619000160",
         "text": "",
         "type": "scatter",
         "x": [
          "2020-09-03",
          "2020-09-04",
          "2020-09-08",
          "2020-09-09",
          "2020-09-10",
          "2020-09-11",
          "2020-09-14",
          "2020-09-15",
          "2020-09-16",
          "2020-09-17",
          "2020-09-18",
          "2020-09-21",
          "2020-09-22",
          "2020-09-23",
          "2020-09-24",
          "2020-09-25",
          "2020-09-28",
          "2020-09-29",
          "2020-09-30",
          "2020-10-01",
          "2020-10-02",
          "2020-10-05",
          "2020-10-06",
          "2020-10-07",
          "2020-10-08",
          "2020-10-09",
          "2020-10-13",
          "2020-10-14",
          "2020-10-15",
          "2020-10-16",
          "2020-10-19",
          "2020-10-20",
          "2020-10-21",
          "2020-10-22",
          "2020-10-23",
          "2020-10-26",
          "2020-10-27",
          "2020-10-28",
          "2020-10-29",
          "2020-10-30",
          "2020-11-03",
          "2020-11-04",
          "2020-11-05",
          "2020-11-06",
          "2020-11-09",
          "2020-11-10",
          "2020-11-11",
          "2020-11-12",
          "2020-11-13",
          "2020-11-16",
          "2020-11-17",
          "2020-11-18",
          "2020-11-19",
          "2020-11-20",
          "2020-11-23",
          "2020-11-24",
          "2020-11-25",
          "2020-11-26",
          "2020-11-27",
          "2020-11-30",
          "2020-12-01",
          "2020-12-02",
          "2020-12-03",
          "2020-12-04",
          "2020-12-07",
          "2020-12-08",
          "2020-12-09",
          "2020-12-10",
          "2020-12-11",
          "2020-12-14",
          "2020-12-15",
          "2020-12-16",
          "2020-12-17",
          "2020-12-18",
          "2020-12-21",
          "2020-12-22",
          "2020-12-23",
          "2020-12-24",
          "2020-12-28",
          "2020-12-29",
          "2020-12-30",
          "2020-12-31",
          "2021-01-04",
          "2021-01-05",
          "2021-01-06",
          "2021-01-07",
          "2021-01-08",
          "2021-01-11",
          "2021-01-12",
          "2021-01-13",
          "2021-01-14",
          "2021-01-15",
          "2021-01-18",
          "2021-01-19",
          "2021-01-20",
          "2021-01-21",
          "2021-01-22",
          "2021-01-25",
          "2021-01-26",
          "2021-01-27",
          "2021-01-28",
          "2021-01-29",
          "2021-02-01",
          "2021-02-02",
          "2021-02-03",
          "2021-02-04",
          "2021-02-05",
          "2021-02-08",
          "2021-02-09",
          "2021-02-10",
          "2021-02-11",
          "2021-02-12",
          "2021-02-17",
          "2021-02-18",
          "2021-02-19",
          "2021-02-22",
          "2021-02-23",
          "2021-02-24",
          "2021-02-25",
          "2021-02-26",
          "2021-03-01",
          "2021-03-02",
          "2021-03-03",
          "2021-03-04",
          "2021-03-05",
          "2021-03-08",
          "2021-03-09",
          "2021-03-10",
          "2021-03-11",
          "2021-03-12",
          "2021-03-15",
          "2021-03-16",
          "2021-03-17",
          "2021-03-18",
          "2021-03-19",
          "2021-03-22",
          "2021-03-23",
          "2021-03-24",
          "2021-03-25",
          "2021-03-26",
          "2021-03-29",
          "2021-03-30",
          "2021-03-31",
          "2021-04-01",
          "2021-04-05",
          "2021-04-06",
          "2021-04-07",
          "2021-04-08",
          "2021-04-09",
          "2021-04-12",
          "2021-04-13",
          "2021-04-14",
          "2021-04-15",
          "2021-04-16",
          "2021-04-19",
          "2021-04-20",
          "2021-04-22",
          "2021-04-23",
          "2021-04-26",
          "2021-04-27",
          "2021-04-28",
          "2021-04-29",
          "2021-04-30",
          "2021-05-03",
          "2021-05-04",
          "2021-05-05",
          "2021-05-06",
          "2021-05-07",
          "2021-05-10",
          "2021-05-11",
          "2021-05-12",
          "2021-05-13",
          "2021-05-14",
          "2021-05-17",
          "2021-05-18",
          "2021-05-19",
          "2021-05-20",
          "2021-05-21",
          "2021-05-24",
          "2021-05-25",
          "2021-05-26",
          "2021-05-27",
          "2021-05-28",
          "2021-05-31",
          "2021-06-01",
          "2021-06-02",
          "2021-06-04",
          "2021-06-07",
          "2021-06-08",
          "2021-06-09",
          "2021-06-10",
          "2021-06-11",
          "2021-06-14",
          "2021-06-15",
          "2021-06-16",
          "2021-06-17",
          "2021-06-18",
          "2021-06-21",
          "2021-06-22",
          "2021-06-23",
          "2021-06-24",
          "2021-06-25",
          "2021-06-28",
          "2021-06-29",
          "2021-06-30",
          "2021-07-01",
          "2021-07-02",
          "2021-07-05",
          "2021-07-06",
          "2021-07-07",
          "2021-07-08",
          "2021-07-09",
          "2021-07-12",
          "2021-07-13",
          "2021-07-14",
          "2021-07-15",
          "2021-07-16",
          "2021-07-19",
          "2021-07-20",
          "2021-07-21",
          "2021-07-22",
          "2021-07-23",
          "2021-07-26",
          "2021-07-27",
          "2021-07-28",
          "2021-07-29",
          "2021-07-30",
          "2021-08-02",
          "2021-08-03",
          "2021-08-04",
          "2021-08-05",
          "2021-08-06",
          "2021-08-09",
          "2021-08-10",
          "2021-08-11",
          "2021-08-12",
          "2021-08-13",
          "2021-08-16",
          "2021-08-17",
          "2021-08-18",
          "2021-08-19",
          "2021-08-20",
          "2021-08-23",
          "2021-08-24",
          "2021-08-25",
          "2021-08-26",
          "2021-08-27",
          "2021-08-30",
          "2021-08-31",
          "2021-09-01",
          "2021-09-02",
          "2021-09-03"
         ],
         "y": [
          -1.8833803386137076,
          -1.8821149636636323,
          -1.9102159426539531,
          -1.901787227194138,
          -1.8083611503593606,
          -1.7961465221729116,
          -1.7876472502228504,
          -1.7623666740926367,
          -1.7965262274954203,
          -1.7800531437726599,
          -1.7697342570741437,
          -1.7946629791279962,
          -1.7868358505850188,
          -1.8166524663381698,
          -1.8733260387536126,
          -1.8469100601553579,
          -1.8236486993710097,
          -1.8208450072585918,
          -1.824820308459046,
          -1.7525277572027693,
          -1.778730209580543,
          -1.8014484710649696,
          -1.7950408277007626,
          -1.7995629417006251,
          -1.7012935331603902,
          -1.8788350152420523,
          -1.8718378538343403,
          -1.8689710322306499,
          -1.8496079175324063,
          -1.8720263139332884,
          -1.6473725922394207,
          -1.6541682962999822,
          -1.6872899265962482,
          -1.6263764661419258,
          -1.616233970669025,
          -1.5987879500807622,
          -1.6115605315650798,
          -1.6498745625185476,
          -1.7043738809845617,
          -1.6918463904663616,
          -1.6574148232261834,
          -1.5768866584833965,
          -1.5137952305801565,
          -1.505323809876245,
          -1.287476932741401,
          -1.0933388930790455,
          -1.4348258072468902,
          -1.2046361861933055,
          -1.2638460787581303,
          -1.2290543020677451,
          -1.1883664165674404,
          -1.0966290536242136,
          -1.0645806246795881,
          -1.0761593160789507,
          -1.0651627157241217,
          -1.0275505361736295,
          -1.038851643486364,
          -1.069024755190233,
          -1.0509910733082077,
          -1.0163181286013967,
          -0.9411986758609113,
          -0.8926520970719906,
          -0.8722510592672296,
          -0.8184220274585567,
          -0.7634028190644118,
          -0.679078529471403,
          -0.6409148952471434,
          -0.6213401110781632,
          -0.5674228836566806,
          -0.5062086297439394,
          -0.46686967293215675,
          -0.4214981362043187,
          -0.3560319253793695,
          -0.34166161074092155,
          -0.36115469792119725,
          -0.3288184727663578,
          -0.2725858784149519,
          -0.25353562604845953,
          -0.24486367637226952,
          -0.24692838208684417,
          -0.22040842550296236,
          -0.19471565092973356,
          -0.18398085228871122,
          -0.19832331568100958,
          -0.20535111345948576,
          -0.19869466562967453,
          -0.19944386415110366,
          -0.2015902668543848,
          -0.20855307839184592,
          -0.1854848195808027,
          -0.13661330958680032,
          -0.10075947204323493,
          -0.027713080391170052,
          -0.028400077796198665,
          0.026868863438420675,
          0.21778265717149753,
          0.24339094963140528,
          0.30681937761305933,
          0.27204245492062124,
          0.1777344219577657,
          0.2597182784993162,
          0.15220411298707562,
          0.16943567897998296,
          0.19399954970927405,
          0.23433186763373315,
          0.2515625052517704,
          0.38672553119183256,
          0.3942546514010059,
          0.40342142488379185,
          0.4473493386861966,
          0.46328953523262334,
          0.4516449292173734,
          0.4658620620019964,
          0.48305649300003833,
          0.4909402524101873,
          0.4193374836835557,
          0.45987590082952445,
          0.5024335333213567,
          0.4813807763566902,
          0.4992622047597607,
          0.508525529229198,
          0.5041408147103412,
          0.4930309526211692,
          0.4683993105262485,
          0.4416704695962425,
          0.38251813627346143,
          0.3855362829812325,
          0.3857804455724798,
          0.41223727266508886,
          0.3982763713450435,
          0.3820613758366053,
          0.3968670982898611,
          0.4149899041595643,
          0.4059521747839405,
          0.42129821141250334,
          0.4362385482221524,
          0.4196011421471069,
          0.40489754092973373,
          0.40045898066832,
          0.4187953127585043,
          0.4177908111473676,
          0.4114472256493034,
          0.5455955378546409,
          0.5640423465545534,
          0.5829719101877294,
          0.5880296964885422,
          0.5912780801644857,
          0.5276621204587558,
          0.6261961158374162,
          0.6024362177469834,
          0.5936974250800339,
          0.5544735867523385,
          0.5753703767385654,
          0.5499199080068395,
          0.553435663645821,
          0.5512001369548598,
          0.45413018874881095,
          0.4767277614999232,
          0.47523214958167537,
          0.4541747507426499,
          0.47407725124132827,
          0.5000002627827316,
          0.5107211358006771,
          0.5239458358474959,
          0.5348291744679822,
          0.5325138075380589,
          0.5360193510534523,
          0.5516281177706962,
          0.571755284988316,
          0.578445154313508,
          0.59963438238431,
          0.6636486149099822,
          0.6892996126139866,
          0.7143165302806491,
          0.6959969089381521,
          0.6862183364149428,
          0.6970339036697994,
          0.702255083948023,
          0.6866723117271843,
          0.7000269842560354,
          0.7012450120876552,
          0.6886107584592136,
          0.6962327161555557,
          0.6959152119494477,
          0.707264594755508,
          0.7213192619375902,
          0.7306410740239434,
          0.754147525774411,
          0.7646743684441794,
          0.7803796861480767,
          0.7978702687301784,
          0.8027739448022939,
          0.8086542712393987,
          0.8058153008818577,
          0.8162344520665143,
          0.823615960671094,
          0.8411594606208802,
          0.8428769541334529,
          0.8468392580857045,
          0.8635360801525359,
          0.8687684009292198,
          0.8763903586255599,
          0.8760756395440664,
          0.8829326163461582,
          0.8546459623815058,
          0.863933424597606,
          0.8722470215733358,
          0.8730045754686107,
          0.8802951033357679,
          0.9365991825522922,
          0.9857501333826629,
          1.0091915988921154,
          1.0185524027230786,
          1.0265002199993725,
          1.0544535873850975,
          1.0724603463958433,
          1.0793108245738336,
          1.0739773109361375,
          1.074371870256593,
          1.0705627481581663,
          1.0826557592364288,
          1.083753098334732,
          1.0765210580844908,
          1.0731037101819052,
          1.0842776301372221,
          1.0935530234799917,
          1.104560764333281,
          1.114514799707236,
          1.118831742860461,
          1.1174763155478356,
          1.091585797126941,
          1.0953225059853768,
          1.0813616046653336,
          1.0809048442284754,
          1.0553940311300913,
          1.0471305663974317,
          1.0456637341002077,
          1.0304068214593227,
          1.0311244552351175,
          1.0570214722801137,
          1.0501180767344385,
          1.0037438951452062,
          0.9978672822075882,
          0.9852840891970889,
          0.9458560083976283,
          0.9626549517003423,
          0.9782377239211789,
          0.9987640923336132,
          1.0096093675843638,
          1.0472995306240738,
          1.0086364307188616,
          0.9969908963287414
         ]
        },
        {
         "line": {
          "color": "rgba(128, 128, 0, 1.0)",
          "dash": "solid",
          "shape": "linear",
          "width": 1.3
         },
         "mode": "lines",
         "name": "26664935000166",
         "text": "",
         "type": "scatter",
         "x": [
          "2020-09-03",
          "2020-09-04",
          "2020-09-08",
          "2020-09-09",
          "2020-09-10",
          "2020-09-11",
          "2020-09-14",
          "2020-09-15",
          "2020-09-16",
          "2020-09-17",
          "2020-09-18",
          "2020-09-21",
          "2020-09-22",
          "2020-09-23",
          "2020-09-24",
          "2020-09-25",
          "2020-09-28",
          "2020-09-29",
          "2020-09-30",
          "2020-10-01",
          "2020-10-02",
          "2020-10-05",
          "2020-10-06",
          "2020-10-07",
          "2020-10-08",
          "2020-10-09",
          "2020-10-13",
          "2020-10-14",
          "2020-10-15",
          "2020-10-16",
          "2020-10-19",
          "2020-10-20",
          "2020-10-21",
          "2020-10-22",
          "2020-10-23",
          "2020-10-26",
          "2020-10-27",
          "2020-10-28",
          "2020-10-29",
          "2020-10-30",
          "2020-11-03",
          "2020-11-04",
          "2020-11-05",
          "2020-11-06",
          "2020-11-09",
          "2020-11-10",
          "2020-11-11",
          "2020-11-12",
          "2020-11-13",
          "2020-11-16",
          "2020-11-17",
          "2020-11-18",
          "2020-11-19",
          "2020-11-20",
          "2020-11-23",
          "2020-11-24",
          "2020-11-25",
          "2020-11-26",
          "2020-11-27",
          "2020-11-30",
          "2020-12-01",
          "2020-12-02",
          "2020-12-03",
          "2020-12-04",
          "2020-12-07",
          "2020-12-08",
          "2020-12-09",
          "2020-12-10",
          "2020-12-11",
          "2020-12-14",
          "2020-12-15",
          "2020-12-16",
          "2020-12-17",
          "2020-12-18",
          "2020-12-21",
          "2020-12-22",
          "2020-12-23",
          "2020-12-24",
          "2020-12-28",
          "2020-12-29",
          "2020-12-30",
          "2020-12-31",
          "2021-01-04",
          "2021-01-05",
          "2021-01-06",
          "2021-01-07",
          "2021-01-08",
          "2021-01-11",
          "2021-01-12",
          "2021-01-13",
          "2021-01-14",
          "2021-01-15",
          "2021-01-18",
          "2021-01-19",
          "2021-01-20",
          "2021-01-21",
          "2021-01-22",
          "2021-01-25",
          "2021-01-26",
          "2021-01-27",
          "2021-01-28",
          "2021-01-29",
          "2021-02-01",
          "2021-02-02",
          "2021-02-03",
          "2021-02-04",
          "2021-02-05",
          "2021-02-08",
          "2021-02-09",
          "2021-02-10",
          "2021-02-11",
          "2021-02-12",
          "2021-02-17",
          "2021-02-18",
          "2021-02-19",
          "2021-02-22",
          "2021-02-23",
          "2021-02-24",
          "2021-02-25",
          "2021-02-26",
          "2021-03-01",
          "2021-03-02",
          "2021-03-03",
          "2021-03-04",
          "2021-03-05",
          "2021-03-08",
          "2021-03-09",
          "2021-03-10",
          "2021-03-11",
          "2021-03-12",
          "2021-03-15",
          "2021-03-16",
          "2021-03-17",
          "2021-03-18",
          "2021-03-19",
          "2021-03-22",
          "2021-03-23",
          "2021-03-24",
          "2021-03-25",
          "2021-03-26",
          "2021-03-29",
          "2021-03-30",
          "2021-03-31",
          "2021-04-01",
          "2021-04-05",
          "2021-04-06",
          "2021-04-07",
          "2021-04-08",
          "2021-04-09",
          "2021-04-12",
          "2021-04-13",
          "2021-04-14",
          "2021-04-15",
          "2021-04-16",
          "2021-04-19",
          "2021-04-20",
          "2021-04-22",
          "2021-04-23",
          "2021-04-26",
          "2021-04-27",
          "2021-04-28",
          "2021-04-29",
          "2021-04-30",
          "2021-05-03",
          "2021-05-04",
          "2021-05-05",
          "2021-05-06",
          "2021-05-07",
          "2021-05-10",
          "2021-05-11",
          "2021-05-12",
          "2021-05-13",
          "2021-05-14",
          "2021-05-17",
          "2021-05-18",
          "2021-05-19",
          "2021-05-20",
          "2021-05-21",
          "2021-05-24",
          "2021-05-25",
          "2021-05-26",
          "2021-05-27",
          "2021-05-28",
          "2021-05-31",
          "2021-06-01",
          "2021-06-02",
          "2021-06-04",
          "2021-06-07",
          "2021-06-08",
          "2021-06-09",
          "2021-06-10",
          "2021-06-11",
          "2021-06-14",
          "2021-06-15",
          "2021-06-16",
          "2021-06-17",
          "2021-06-18",
          "2021-06-21",
          "2021-06-22",
          "2021-06-23",
          "2021-06-24",
          "2021-06-25",
          "2021-06-28",
          "2021-06-29",
          "2021-06-30",
          "2021-07-01",
          "2021-07-02",
          "2021-07-05",
          "2021-07-06",
          "2021-07-07",
          "2021-07-08",
          "2021-07-09",
          "2021-07-12",
          "2021-07-13",
          "2021-07-14",
          "2021-07-15",
          "2021-07-16",
          "2021-07-19",
          "2021-07-20",
          "2021-07-21",
          "2021-07-22",
          "2021-07-23",
          "2021-07-26",
          "2021-07-27",
          "2021-07-28",
          "2021-07-29",
          "2021-07-30",
          "2021-08-02",
          "2021-08-03",
          "2021-08-04",
          "2021-08-05",
          "2021-08-06",
          "2021-08-09",
          "2021-08-10",
          "2021-08-11",
          "2021-08-12",
          "2021-08-13",
          "2021-08-16",
          "2021-08-17",
          "2021-08-18",
          "2021-08-19",
          "2021-08-20",
          "2021-08-23",
          "2021-08-24",
          "2021-08-25",
          "2021-08-26",
          "2021-08-27",
          "2021-08-30",
          "2021-08-31",
          "2021-09-01",
          "2021-09-02",
          "2021-09-03"
         ],
         "y": [
          -1.785310451568991,
          -1.7805859667106367,
          -1.7580743686444882,
          -1.737120176733855,
          -1.7335604384926622,
          -1.6989934979189476,
          -1.6821577653618054,
          -1.6743075517941268,
          -1.6601956260094062,
          -1.6376059591555099,
          -1.6141962392303484,
          -1.615509184224241,
          -1.5831228769082109,
          -1.5593654862376243,
          -1.5512555947107087,
          -1.5290291461997982,
          -1.5131735738887913,
          -1.4837575193064965,
          -1.6043013511836395,
          -1.4864426224849938,
          -1.4541228059585258,
          -1.4727303030375385,
          -1.4583444748958119,
          -1.4555743561306627,
          -1.4448236886182937,
          -1.4267954222483594,
          -1.3996446857104548,
          -1.376119185803467,
          -1.3547935055511524,
          -1.3550746855070157,
          -1.3425608542714254,
          -1.4822953835360195,
          -1.4798838519145818,
          -1.4543093771292428,
          -1.4292456574637213,
          -1.4099808608878899,
          -1.3936423206527033,
          -1.4204377780463717,
          -1.3910796134549903,
          -1.524538536904734,
          -1.5008304354264042,
          -1.4712228476741795,
          -1.451074815236996,
          -1.4474750502020872,
          -1.435273824917427,
          -1.3929552491605552,
          -1.3672729335921392,
          -1.3450358994828888,
          -1.316941721493089,
          -1.292725842094478,
          -1.2977454005065108,
          -1.2757303331624186,
          -1.27073326914685,
          -1.274807732107243,
          -1.1147035344402605,
          -1.1279702663576614,
          -1.1190280821613958,
          -1.1104950975008976,
          -1.074032673224737,
          -1.1576817252935807,
          -1.1573591953442102,
          -1.1354010255911857,
          -1.113012485105721,
          -1.0904092554539555,
          -1.0368917782550773,
          -1.0238268343060002,
          -0.9946089288926004,
          -0.9550909054961065,
          -0.9351244822304123,
          -0.8700395924473827,
          -0.8627901115854014,
          -0.8511965658053424,
          -0.8473827732040321,
          -0.836074046179265,
          -0.4846252345493805,
          -0.46452086770534157,
          -0.4323743903516672,
          -0.4193322715990079,
          -0.5162341619874373,
          -0.4898221017335817,
          -0.5270490046897314,
          -0.5042936070618596,
          -0.4982498920105935,
          -0.48774434725974675,
          -0.531978916315838,
          -0.5083095184314398,
          -0.46138157619814807,
          -0.4100179374611688,
          -0.41531801422916537,
          -0.38855365203061015,
          -0.36055904482517703,
          -0.36294543565056714,
          -0.35147494745119195,
          -0.33325547871126654,
          -0.3435440186961825,
          -0.33836402230933327,
          -0.31478691761044414,
          -0.307388576771832,
          -0.29409703485832234,
          -0.29778446187947344,
          -0.28946980518470494,
          -0.33935609135360034,
          -0.3198951304085648,
          -0.28935931800204484,
          -0.2854089050221814,
          -0.2535895888171445,
          -0.243203793647499,
          -0.19766521119610278,
          0.23985940092167746,
          0.16913999562314913,
          0.1715217552492577,
          0.5604449081964584,
          0.508540742344325,
          0.46664459812114384,
          0.37953868659494894,
          0.4084687960535275,
          0.4092349287332614,
          0.41862137725978243,
          0.4251421058361697,
          0.4413883528858471,
          0.43970755834969444,
          0.4740254065625119,
          0.4487559293292919,
          0.47880315021250514,
          0.607334477635772,
          0.4973365481031521,
          0.49482809209692363,
          0.5779048602556078,
          0.5710946817246617,
          0.5340798215352226,
          0.5104137316503069,
          0.4921502665172836,
          0.5130611236347183,
          0.5323986961991239,
          0.6017224565167449,
          0.5806610854229344,
          0.5917938268753321,
          0.6134254970796112,
          0.6179829279641911,
          0.6041614445338745,
          0.5986165758043019,
          0.6452342276863081,
          0.6518455954484595,
          0.6544830634344304,
          0.6411203995320915,
          0.6348345389188399,
          0.6207705791265844,
          0.6118039157341634,
          0.561106508092598,
          0.5615213312274778,
          0.5428119477644614,
          0.5477008401970068,
          0.5986867053932928,
          0.6325715364740796,
          0.6370356817733047,
          0.618838707429851,
          0.6431515112132454,
          0.6526325685249202,
          0.6413413738974044,
          0.5601584354414288,
          0.48396528340215694,
          0.4733707534652763,
          0.48516939521313446,
          0.5998157256160591,
          0.6263309954537174,
          0.5752052018793956,
          0.6706459488971936,
          0.677552390213031,
          0.6615790531205066,
          0.562317897502433,
          0.5600959142512414,
          0.547605239012015,
          0.58772366431426,
          0.6126143756069412,
          0.6230474751691599,
          0.6341057866332386,
          0.6179634107672559,
          0.6190249478006145,
          0.6269155189619621,
          0.6457760780012465,
          0.6491862946659092,
          0.648621619154553,
          0.7835413551749747,
          0.6270620633389559,
          0.578629312141881,
          0.6953464502197366,
          0.7086234369355241,
          0.7508249095107778,
          0.7722309741504699,
          0.6801772878009781,
          0.709557615988878,
          0.7242027912898882,
          0.7187227593501401,
          0.7360920722235252,
          0.7411367714316129,
          0.7588719490475598,
          0.7816458714725285,
          0.7970839742490724,
          0.8111621584390893,
          0.8310399273186957,
          0.8570646208333635,
          0.8012285667984562,
          0.717428339153337,
          0.810028837816995,
          0.8788253030173924,
          0.9236754907768491,
          0.9305600992961068,
          0.9231885532532873,
          0.9453650509720414,
          0.9417434531405531,
          0.9346993990463243,
          0.9446505230842088,
          1.0011776182106316,
          0.9881622942537647,
          1.0135568138673596,
          1.033711131503555,
          1.0418071294326476,
          1.041926879013849,
          1.0613468207653232,
          1.0521932554022466,
          1.072990978937438,
          1.0808051353107755,
          1.0912726380675974,
          1.0957758177606927,
          1.1112966205242514,
          1.0805973929433859,
          1.168039728016774,
          1.1696265753676651,
          1.1862046147652614,
          1.2081323509230646,
          1.2179094741882635,
          1.2412166461295215,
          1.2451038763193127,
          1.2468746484413376,
          1.2234827917133664,
          1.2218033203770127,
          1.2525968259430713,
          1.3293314974973356,
          1.3270327686581878,
          1.338505903257146,
          1.328260036465529,
          1.3334165460560683,
          1.3603572246269464,
          1.3702504586739104,
          1.374696079176046,
          1.3895953088371735,
          1.3993681317030442,
          1.402054558081333,
          1.5006405510053977,
          1.5274214532013515,
          1.5291389665317372,
          1.5317837121165656
         ]
        },
        {
         "line": {
          "color": "rgba(251, 128, 114, 1.0)",
          "dash": "solid",
          "shape": "linear",
          "width": 1.3
         },
         "mode": "lines",
         "name": "30934757000113",
         "text": "",
         "type": "scatter",
         "x": [
          "2020-09-03",
          "2020-09-04",
          "2020-09-08",
          "2020-09-09",
          "2020-09-10",
          "2020-09-11",
          "2020-09-14",
          "2020-09-15",
          "2020-09-16",
          "2020-09-17",
          "2020-09-18",
          "2020-09-21",
          "2020-09-22",
          "2020-09-23",
          "2020-09-24",
          "2020-09-25",
          "2020-09-28",
          "2020-09-29",
          "2020-09-30",
          "2020-10-01",
          "2020-10-02",
          "2020-10-05",
          "2020-10-06",
          "2020-10-07",
          "2020-10-08",
          "2020-10-09",
          "2020-10-13",
          "2020-10-14",
          "2020-10-15",
          "2020-10-16",
          "2020-10-19",
          "2020-10-20",
          "2020-10-21",
          "2020-10-22",
          "2020-10-23",
          "2020-10-26",
          "2020-10-27",
          "2020-10-28",
          "2020-10-29",
          "2020-10-30",
          "2020-11-03",
          "2020-11-04",
          "2020-11-05",
          "2020-11-06",
          "2020-11-09",
          "2020-11-10",
          "2020-11-11",
          "2020-11-12",
          "2020-11-13",
          "2020-11-16",
          "2020-11-17",
          "2020-11-18",
          "2020-11-19",
          "2020-11-20",
          "2020-11-23",
          "2020-11-24",
          "2020-11-25",
          "2020-11-26",
          "2020-11-27",
          "2020-11-30",
          "2020-12-01",
          "2020-12-02",
          "2020-12-03",
          "2020-12-04",
          "2020-12-07",
          "2020-12-08",
          "2020-12-09",
          "2020-12-10",
          "2020-12-11",
          "2020-12-14",
          "2020-12-15",
          "2020-12-16",
          "2020-12-17",
          "2020-12-18",
          "2020-12-21",
          "2020-12-22",
          "2020-12-23",
          "2020-12-24",
          "2020-12-28",
          "2020-12-29",
          "2020-12-30",
          "2020-12-31",
          "2021-01-04",
          "2021-01-05",
          "2021-01-06",
          "2021-01-07",
          "2021-01-08",
          "2021-01-11",
          "2021-01-12",
          "2021-01-13",
          "2021-01-14",
          "2021-01-15",
          "2021-01-18",
          "2021-01-19",
          "2021-01-20",
          "2021-01-21",
          "2021-01-22",
          "2021-01-25",
          "2021-01-26",
          "2021-01-27",
          "2021-01-28",
          "2021-01-29",
          "2021-02-01",
          "2021-02-02",
          "2021-02-03",
          "2021-02-04",
          "2021-02-05",
          "2021-02-08",
          "2021-02-09",
          "2021-02-10",
          "2021-02-11",
          "2021-02-12",
          "2021-02-17",
          "2021-02-18",
          "2021-02-19",
          "2021-02-22",
          "2021-02-23",
          "2021-02-24",
          "2021-02-25",
          "2021-02-26",
          "2021-03-01",
          "2021-03-02",
          "2021-03-03",
          "2021-03-04",
          "2021-03-05",
          "2021-03-08",
          "2021-03-09",
          "2021-03-10",
          "2021-03-11",
          "2021-03-12",
          "2021-03-15",
          "2021-03-16",
          "2021-03-17",
          "2021-03-18",
          "2021-03-19",
          "2021-03-22",
          "2021-03-23",
          "2021-03-24",
          "2021-03-25",
          "2021-03-26",
          "2021-03-29",
          "2021-03-30",
          "2021-03-31",
          "2021-04-01",
          "2021-04-05",
          "2021-04-06",
          "2021-04-07",
          "2021-04-08",
          "2021-04-09",
          "2021-04-12",
          "2021-04-13",
          "2021-04-14",
          "2021-04-15",
          "2021-04-16",
          "2021-04-19",
          "2021-04-20",
          "2021-04-22",
          "2021-04-23",
          "2021-04-26",
          "2021-04-27",
          "2021-04-28",
          "2021-04-29",
          "2021-04-30",
          "2021-05-03",
          "2021-05-04",
          "2021-05-05",
          "2021-05-06",
          "2021-05-07",
          "2021-05-10",
          "2021-05-11",
          "2021-05-12",
          "2021-05-13",
          "2021-05-14",
          "2021-05-17",
          "2021-05-18",
          "2021-05-19",
          "2021-05-20",
          "2021-05-21",
          "2021-05-24",
          "2021-05-25",
          "2021-05-26",
          "2021-05-27",
          "2021-05-28",
          "2021-05-31",
          "2021-06-01",
          "2021-06-02",
          "2021-06-04",
          "2021-06-07",
          "2021-06-08",
          "2021-06-09",
          "2021-06-10",
          "2021-06-11",
          "2021-06-14",
          "2021-06-15",
          "2021-06-16",
          "2021-06-17",
          "2021-06-18",
          "2021-06-21",
          "2021-06-22",
          "2021-06-23",
          "2021-06-24",
          "2021-06-25",
          "2021-06-28",
          "2021-06-29",
          "2021-06-30",
          "2021-07-01",
          "2021-07-02",
          "2021-07-05",
          "2021-07-06",
          "2021-07-07",
          "2021-07-08",
          "2021-07-09",
          "2021-07-12",
          "2021-07-13",
          "2021-07-14",
          "2021-07-15",
          "2021-07-16",
          "2021-07-19",
          "2021-07-20",
          "2021-07-21",
          "2021-07-22",
          "2021-07-23",
          "2021-07-26",
          "2021-07-27",
          "2021-07-28",
          "2021-07-29",
          "2021-07-30",
          "2021-08-02",
          "2021-08-03",
          "2021-08-04",
          "2021-08-05",
          "2021-08-06",
          "2021-08-09",
          "2021-08-10",
          "2021-08-11",
          "2021-08-12",
          "2021-08-13",
          "2021-08-16",
          "2021-08-17",
          "2021-08-18",
          "2021-08-19",
          "2021-08-20",
          "2021-08-23",
          "2021-08-24",
          "2021-08-25",
          "2021-08-26",
          "2021-08-27",
          "2021-08-30",
          "2021-08-31",
          "2021-09-01",
          "2021-09-02",
          "2021-09-03"
         ],
         "y": [
          -1.4516433363564947,
          -1.454992368270105,
          -1.454779634845463,
          -1.4592227243715006,
          -1.4506617235542318,
          -1.457344592136826,
          -1.4452461383727067,
          -1.4407422678682056,
          -1.4308592807692546,
          -1.418545054531568,
          -1.4262946292862835,
          -1.4244742389811536,
          -1.4161502839799147,
          -1.4148222196003823,
          -1.4117558192366597,
          -1.373725161009023,
          -1.388397689211281,
          -1.3910842084595774,
          -1.3959314914924292,
          -1.3909930369918757,
          -1.3782594220027624,
          -1.350634467288906,
          -1.344984875340276,
          -1.348838389375164,
          -1.351603923895475,
          -1.3414565395401876,
          -1.3499719546235989,
          -1.3364147573762382,
          -1.31752099021936,
          -1.320678562050791,
          -1.3059908386039207,
          -1.2900662222452197,
          -1.2966457631644113,
          -1.297861382733779,
          -1.2879935908794475,
          -1.2748983290684457,
          -1.2480969566128368,
          -1.234658282273491,
          -1.2284403881761812,
          -1.2306710500859688,
          -1.2230703887285,
          -1.2099356192814978,
          -1.209628675340229,
          -1.2121055002128156,
          -1.2219094720397587,
          -1.2132968073907953,
          -1.2133970960052658,
          -1.1989524964722689,
          -1.22109500692828,
          -1.235047280535686,
          -1.1953208330087848,
          -1.1975788463588857,
          -1.1755153511748826,
          -1.1733849778795653,
          -1.1978705950555353,
          -1.1959803066251666,
          -1.1999827340573082,
          -1.002204469170295,
          -1.0018337052016377,
          -1.0059242650525557,
          -0.9991502250022597,
          -0.9803658636066209,
          -0.9834018734811117,
          -1.007297915165939,
          -0.9826177988588715,
          -0.9834018734811117,
          -0.7143518332421391,
          -0.6988192541945583,
          -0.689215859596563,
          -0.6944187113534462,
          -0.6988830742219467,
          -0.7027639396971481,
          -0.7128505430739721,
          -0.7155431404201188,
          -0.7097233617317728,
          -0.6993450096583058,
          -0.6936711053182879,
          -0.6919783550679486,
          -0.6917838559368443,
          -0.7369927477215912,
          -0.7427091987465348,
          -0.7405788254512177,
          -0.7568407762404192,
          -0.7353516613029464,
          -0.7336345986612123,
          -0.6892857577218019,
          -0.6561510073097864,
          -0.6309907212728222,
          -0.6253502464709612,
          -0.605961114339567,
          -0.5899969903448588,
          -0.5869731366660619,
          -0.5695077225031866,
          -0.5516593881759667,
          -0.5273135672504746,
          -0.48747163586448367,
          -0.4393361399664921,
          -0.43632444248338925,
          -0.4125499627555023,
          -0.3644023106618168,
          -0.3802144822103532,
          -0.3768776064924371,
          -0.3859856361159165,
          -0.38969327580248314,
          -0.3961542938136667,
          -0.3980081136569534,
          -0.3847852117911679,
          -0.4119451920197402,
          -0.38738663766961295,
          -0.37528210580764315,
          -0.3589958426270604,
          -0.3627824975856348,
          -0.35661626732001933,
          -0.31195440434149646,
          -0.3004911118023708,
          -0.28819208080930353,
          -0.15717868172082378,
          -0.14509542320131683,
          -0.1614576626049889,
          -0.15441010815158773,
          -0.16063408034674806,
          -0.13469275873646194,
          -0.13100943144128332,
          -0.09068429127647046,
          -0.05858585654734449,
          -0.05062962646584437,
          -0.05678977863360942,
          -0.052975772234721816,
          -0.039151138682099504,
          -0.0040470845677143255,
          -0.024840257301730083,
          -0.00627166837965837,
          -0.0035638757888924056,
          0.08413699804305969,
          0.24356854361440522,
          0.24514277095673634,
          0.25329046112041553,
          0.26570193692364735,
          0.3087044791899878,
          0.3107102514794463,
          0.34121622457269674,
          0.3467320983686992,
          0.35556965263799184,
          0.368756085916702,
          0.3790007198375347,
          0.4063004963165848,
          0.4294124633791648,
          0.45574278325164586,
          0.471585345289414,
          0.46505442915299156,
          0.4761104891363846,
          0.5104517419709855,
          0.5147611133443958,
          0.5205140329564214,
          0.5217296525257893,
          0.5237779715001667,
          0.5385507883168952,
          0.5515427224645011,
          0.5248416386233626,
          0.5322842694368092,
          0.5451485635296313,
          0.5496615511809079,
          0.6395535792866405,
          0.5942170474471166,
          0.6097070798097717,
          0.6139313578133172,
          0.6058930734108842,
          0.6016839906519511,
          0.606883803359916,
          0.5973320725936152,
          0.6458383324602641,
          0.6163322064628143,
          0.6262395059531533,
          0.621294973354756,
          0.6229451769201696,
          0.6456438333291666,
          0.9608691829105367,
          0.9470992522385341,
          0.9499468410797778,
          0.9502841755102716,
          0.9637745136813186,
          0.9820513539067474,
          0.9840115404623483,
          0.9827229837188232,
          0.9852180428849473,
          0.9925391117414537,
          1.0439172728407344,
          1.0422154054436195,
          0.9847500293507379,
          0.9804801656133415,
          0.9865430682155545,
          0.9965172267822071,
          1.0104816565853072,
          1.0135450179001113,
          1.0106609604717856,
          1.045026525697781,
          1.0585958791408359,
          1.0661965404982978,
          1.0922472678698234,
          1.106761765528059,
          1.1065581492501928,
          1.1089073340679954,
          1.1023794569804983,
          1.121303614626608,
          1.1241633596635459,
          1.1255825955107799,
          1.1211607793272118,
          1.1218415262860564,
          1.1234218317262312,
          1.1340372296157213,
          1.1519402668235676,
          1.1574743749131144,
          1.162279111261034,
          1.1659290090180556,
          1.1743076668999144,
          1.1835646099206405,
          1.1962435220291339,
          1.1986869173635635,
          1.1960064762131106,
          1.1855278355251666,
          1.1964319430623878,
          1.2223975770640552,
          1.2621361807866502,
          1.2585470640080918,
          1.327287311606852,
          1.3365564108232721,
          1.3808140802949807,
          1.384825624873891,
          1.3578084799447216,
          1.3387354089013586,
          1.3534231323482289,
          1.3541433869430808,
          1.3560306363245243,
          1.3780941315085276,
          1.3889617704586599,
          1.4099555204216236,
          1.4167386776186883,
          1.433274142810995,
          1.4418321045793387,
          1.4661323397709733,
          1.4780606067953832,
          1.4792610311201317,
          1.4851659031783293,
          1.4941888394319573,
          1.50691637632322,
          1.4949546797606532,
          1.5220690742553749,
          1.5333682581526413,
          1.5468737915683008,
          1.5637526692889583,
          1.571730172712928,
          1.5779997306419324
         ]
        }
       ],
       "layout": {
        "legend": {
         "bgcolor": "#F5F6F9",
         "font": {
          "color": "#4D5663"
         }
        },
        "paper_bgcolor": "#F5F6F9",
        "plot_bgcolor": "#F5F6F9",
        "template": {
         "data": {
          "bar": [
           {
            "error_x": {
             "color": "#2a3f5f"
            },
            "error_y": {
             "color": "#2a3f5f"
            },
            "marker": {
             "line": {
              "color": "#E5ECF6",
              "width": 0.5
             }
            },
            "type": "bar"
           }
          ],
          "barpolar": [
           {
            "marker": {
             "line": {
              "color": "#E5ECF6",
              "width": 0.5
             }
            },
            "type": "barpolar"
           }
          ],
          "carpet": [
           {
            "aaxis": {
             "endlinecolor": "#2a3f5f",
             "gridcolor": "white",
             "linecolor": "white",
             "minorgridcolor": "white",
             "startlinecolor": "#2a3f5f"
            },
            "baxis": {
             "endlinecolor": "#2a3f5f",
             "gridcolor": "white",
             "linecolor": "white",
             "minorgridcolor": "white",
             "startlinecolor": "#2a3f5f"
            },
            "type": "carpet"
           }
          ],
          "choropleth": [
           {
            "colorbar": {
             "outlinewidth": 0,
             "ticks": ""
            },
            "type": "choropleth"
           }
          ],
          "contour": [
           {
            "colorbar": {
             "outlinewidth": 0,
             "ticks": ""
            },
            "colorscale": [
             [
              0,
              "#0d0887"
             ],
             [
              0.1111111111111111,
              "#46039f"
             ],
             [
              0.2222222222222222,
              "#7201a8"
             ],
             [
              0.3333333333333333,
              "#9c179e"
             ],
             [
              0.4444444444444444,
              "#bd3786"
             ],
             [
              0.5555555555555556,
              "#d8576b"
             ],
             [
              0.6666666666666666,
              "#ed7953"
             ],
             [
              0.7777777777777778,
              "#fb9f3a"
             ],
             [
              0.8888888888888888,
              "#fdca26"
             ],
             [
              1,
              "#f0f921"
             ]
            ],
            "type": "contour"
           }
          ],
          "contourcarpet": [
           {
            "colorbar": {
             "outlinewidth": 0,
             "ticks": ""
            },
            "type": "contourcarpet"
           }
          ],
          "heatmap": [
           {
            "colorbar": {
             "outlinewidth": 0,
             "ticks": ""
            },
            "colorscale": [
             [
              0,
              "#0d0887"
             ],
             [
              0.1111111111111111,
              "#46039f"
             ],
             [
              0.2222222222222222,
              "#7201a8"
             ],
             [
              0.3333333333333333,
              "#9c179e"
             ],
             [
              0.4444444444444444,
              "#bd3786"
             ],
             [
              0.5555555555555556,
              "#d8576b"
             ],
             [
              0.6666666666666666,
              "#ed7953"
             ],
             [
              0.7777777777777778,
              "#fb9f3a"
             ],
             [
              0.8888888888888888,
              "#fdca26"
             ],
             [
              1,
              "#f0f921"
             ]
            ],
            "type": "heatmap"
           }
          ],
          "heatmapgl": [
           {
            "colorbar": {
             "outlinewidth": 0,
             "ticks": ""
            },
            "colorscale": [
             [
              0,
              "#0d0887"
             ],
             [
              0.1111111111111111,
              "#46039f"
             ],
             [
              0.2222222222222222,
              "#7201a8"
             ],
             [
              0.3333333333333333,
              "#9c179e"
             ],
             [
              0.4444444444444444,
              "#bd3786"
             ],
             [
              0.5555555555555556,
              "#d8576b"
             ],
             [
              0.6666666666666666,
              "#ed7953"
             ],
             [
              0.7777777777777778,
              "#fb9f3a"
             ],
             [
              0.8888888888888888,
              "#fdca26"
             ],
             [
              1,
              "#f0f921"
             ]
            ],
            "type": "heatmapgl"
           }
          ],
          "histogram": [
           {
            "marker": {
             "colorbar": {
              "outlinewidth": 0,
              "ticks": ""
             }
            },
            "type": "histogram"
           }
          ],
          "histogram2d": [
           {
            "colorbar": {
             "outlinewidth": 0,
             "ticks": ""
            },
            "colorscale": [
             [
              0,
              "#0d0887"
             ],
             [
              0.1111111111111111,
              "#46039f"
             ],
             [
              0.2222222222222222,
              "#7201a8"
             ],
             [
              0.3333333333333333,
              "#9c179e"
             ],
             [
              0.4444444444444444,
              "#bd3786"
             ],
             [
              0.5555555555555556,
              "#d8576b"
             ],
             [
              0.6666666666666666,
              "#ed7953"
             ],
             [
              0.7777777777777778,
              "#fb9f3a"
             ],
             [
              0.8888888888888888,
              "#fdca26"
             ],
             [
              1,
              "#f0f921"
             ]
            ],
            "type": "histogram2d"
           }
          ],
          "histogram2dcontour": [
           {
            "colorbar": {
             "outlinewidth": 0,
             "ticks": ""
            },
            "colorscale": [
             [
              0,
              "#0d0887"
             ],
             [
              0.1111111111111111,
              "#46039f"
             ],
             [
              0.2222222222222222,
              "#7201a8"
             ],
             [
              0.3333333333333333,
              "#9c179e"
             ],
             [
              0.4444444444444444,
              "#bd3786"
             ],
             [
              0.5555555555555556,
              "#d8576b"
             ],
             [
              0.6666666666666666,
              "#ed7953"
             ],
             [
              0.7777777777777778,
              "#fb9f3a"
             ],
             [
              0.8888888888888888,
              "#fdca26"
             ],
             [
              1,
              "#f0f921"
             ]
            ],
            "type": "histogram2dcontour"
           }
          ],
          "mesh3d": [
           {
            "colorbar": {
             "outlinewidth": 0,
             "ticks": ""
            },
            "type": "mesh3d"
           }
          ],
          "parcoords": [
           {
            "line": {
             "colorbar": {
              "outlinewidth": 0,
              "ticks": ""
             }
            },
            "type": "parcoords"
           }
          ],
          "pie": [
           {
            "automargin": true,
            "type": "pie"
           }
          ],
          "scatter": [
           {
            "marker": {
             "colorbar": {
              "outlinewidth": 0,
              "ticks": ""
             }
            },
            "type": "scatter"
           }
          ],
          "scatter3d": [
           {
            "line": {
             "colorbar": {
              "outlinewidth": 0,
              "ticks": ""
             }
            },
            "marker": {
             "colorbar": {
              "outlinewidth": 0,
              "ticks": ""
             }
            },
            "type": "scatter3d"
           }
          ],
          "scattercarpet": [
           {
            "marker": {
             "colorbar": {
              "outlinewidth": 0,
              "ticks": ""
             }
            },
            "type": "scattercarpet"
           }
          ],
          "scattergeo": [
           {
            "marker": {
             "colorbar": {
              "outlinewidth": 0,
              "ticks": ""
             }
            },
            "type": "scattergeo"
           }
          ],
          "scattergl": [
           {
            "marker": {
             "colorbar": {
              "outlinewidth": 0,
              "ticks": ""
             }
            },
            "type": "scattergl"
           }
          ],
          "scattermapbox": [
           {
            "marker": {
             "colorbar": {
              "outlinewidth": 0,
              "ticks": ""
             }
            },
            "type": "scattermapbox"
           }
          ],
          "scatterpolar": [
           {
            "marker": {
             "colorbar": {
              "outlinewidth": 0,
              "ticks": ""
             }
            },
            "type": "scatterpolar"
           }
          ],
          "scatterpolargl": [
           {
            "marker": {
             "colorbar": {
              "outlinewidth": 0,
              "ticks": ""
             }
            },
            "type": "scatterpolargl"
           }
          ],
          "scatterternary": [
           {
            "marker": {
             "colorbar": {
              "outlinewidth": 0,
              "ticks": ""
             }
            },
            "type": "scatterternary"
           }
          ],
          "surface": [
           {
            "colorbar": {
             "outlinewidth": 0,
             "ticks": ""
            },
            "colorscale": [
             [
              0,
              "#0d0887"
             ],
             [
              0.1111111111111111,
              "#46039f"
             ],
             [
              0.2222222222222222,
              "#7201a8"
             ],
             [
              0.3333333333333333,
              "#9c179e"
             ],
             [
              0.4444444444444444,
              "#bd3786"
             ],
             [
              0.5555555555555556,
              "#d8576b"
             ],
             [
              0.6666666666666666,
              "#ed7953"
             ],
             [
              0.7777777777777778,
              "#fb9f3a"
             ],
             [
              0.8888888888888888,
              "#fdca26"
             ],
             [
              1,
              "#f0f921"
             ]
            ],
            "type": "surface"
           }
          ],
          "table": [
           {
            "cells": {
             "fill": {
              "color": "#EBF0F8"
             },
             "line": {
              "color": "white"
             }
            },
            "header": {
             "fill": {
              "color": "#C8D4E3"
             },
             "line": {
              "color": "white"
             }
            },
            "type": "table"
           }
          ]
         },
         "layout": {
          "annotationdefaults": {
           "arrowcolor": "#2a3f5f",
           "arrowhead": 0,
           "arrowwidth": 1
          },
          "autotypenumbers": "strict",
          "coloraxis": {
           "colorbar": {
            "outlinewidth": 0,
            "ticks": ""
           }
          },
          "colorscale": {
           "diverging": [
            [
             0,
             "#8e0152"
            ],
            [
             0.1,
             "#c51b7d"
            ],
            [
             0.2,
             "#de77ae"
            ],
            [
             0.3,
             "#f1b6da"
            ],
            [
             0.4,
             "#fde0ef"
            ],
            [
             0.5,
             "#f7f7f7"
            ],
            [
             0.6,
             "#e6f5d0"
            ],
            [
             0.7,
             "#b8e186"
            ],
            [
             0.8,
             "#7fbc41"
            ],
            [
             0.9,
             "#4d9221"
            ],
            [
             1,
             "#276419"
            ]
           ],
           "sequential": [
            [
             0,
             "#0d0887"
            ],
            [
             0.1111111111111111,
             "#46039f"
            ],
            [
             0.2222222222222222,
             "#7201a8"
            ],
            [
             0.3333333333333333,
             "#9c179e"
            ],
            [
             0.4444444444444444,
             "#bd3786"
            ],
            [
             0.5555555555555556,
             "#d8576b"
            ],
            [
             0.6666666666666666,
             "#ed7953"
            ],
            [
             0.7777777777777778,
             "#fb9f3a"
            ],
            [
             0.8888888888888888,
             "#fdca26"
            ],
            [
             1,
             "#f0f921"
            ]
           ],
           "sequentialminus": [
            [
             0,
             "#0d0887"
            ],
            [
             0.1111111111111111,
             "#46039f"
            ],
            [
             0.2222222222222222,
             "#7201a8"
            ],
            [
             0.3333333333333333,
             "#9c179e"
            ],
            [
             0.4444444444444444,
             "#bd3786"
            ],
            [
             0.5555555555555556,
             "#d8576b"
            ],
            [
             0.6666666666666666,
             "#ed7953"
            ],
            [
             0.7777777777777778,
             "#fb9f3a"
            ],
            [
             0.8888888888888888,
             "#fdca26"
            ],
            [
             1,
             "#f0f921"
            ]
           ]
          },
          "colorway": [
           "#636efa",
           "#EF553B",
           "#00cc96",
           "#ab63fa",
           "#FFA15A",
           "#19d3f3",
           "#FF6692",
           "#B6E880",
           "#FF97FF",
           "#FECB52"
          ],
          "font": {
           "color": "#2a3f5f"
          },
          "geo": {
           "bgcolor": "white",
           "lakecolor": "white",
           "landcolor": "#E5ECF6",
           "showlakes": true,
           "showland": true,
           "subunitcolor": "white"
          },
          "hoverlabel": {
           "align": "left"
          },
          "hovermode": "closest",
          "mapbox": {
           "style": "light"
          },
          "paper_bgcolor": "white",
          "plot_bgcolor": "#E5ECF6",
          "polar": {
           "angularaxis": {
            "gridcolor": "white",
            "linecolor": "white",
            "ticks": ""
           },
           "bgcolor": "#E5ECF6",
           "radialaxis": {
            "gridcolor": "white",
            "linecolor": "white",
            "ticks": ""
           }
          },
          "scene": {
           "xaxis": {
            "backgroundcolor": "#E5ECF6",
            "gridcolor": "white",
            "gridwidth": 2,
            "linecolor": "white",
            "showbackground": true,
            "ticks": "",
            "zerolinecolor": "white"
           },
           "yaxis": {
            "backgroundcolor": "#E5ECF6",
            "gridcolor": "white",
            "gridwidth": 2,
            "linecolor": "white",
            "showbackground": true,
            "ticks": "",
            "zerolinecolor": "white"
           },
           "zaxis": {
            "backgroundcolor": "#E5ECF6",
            "gridcolor": "white",
            "gridwidth": 2,
            "linecolor": "white",
            "showbackground": true,
            "ticks": "",
            "zerolinecolor": "white"
           }
          },
          "shapedefaults": {
           "line": {
            "color": "#2a3f5f"
           }
          },
          "ternary": {
           "aaxis": {
            "gridcolor": "white",
            "linecolor": "white",
            "ticks": ""
           },
           "baxis": {
            "gridcolor": "white",
            "linecolor": "white",
            "ticks": ""
           },
           "bgcolor": "#E5ECF6",
           "caxis": {
            "gridcolor": "white",
            "linecolor": "white",
            "ticks": ""
           }
          },
          "title": {
           "x": 0.05
          },
          "xaxis": {
           "automargin": true,
           "gridcolor": "white",
           "linecolor": "white",
           "ticks": "",
           "title": {
            "standoff": 15
           },
           "zerolinecolor": "white",
           "zerolinewidth": 2
          },
          "yaxis": {
           "automargin": true,
           "gridcolor": "white",
           "linecolor": "white",
           "ticks": "",
           "title": {
            "standoff": 15
           },
           "zerolinecolor": "white",
           "zerolinewidth": 2
          }
         }
        },
        "title": {
         "font": {
          "color": "#4D5663"
         }
        },
        "xaxis": {
         "gridcolor": "#E1E5ED",
         "showgrid": true,
         "tickfont": {
          "color": "#4D5663"
         },
         "title": {
          "font": {
           "color": "#4D5663"
          },
          "text": ""
         },
         "zerolinecolor": "#E1E5ED"
        },
        "yaxis": {
         "gridcolor": "#E1E5ED",
         "showgrid": true,
         "tickfont": {
          "color": "#4D5663"
         },
         "title": {
          "font": {
           "color": "#4D5663"
          },
          "text": ""
         },
         "zerolinecolor": "#E1E5ED"
        }
       }
      },
      "text/html": [
       "<div>                            <div id=\"f0cddbd1-4d96-43b6-b0da-7d541583183d\" class=\"plotly-graph-div\" style=\"height:525px; width:100%;\"></div>            <script type=\"text/javascript\">                require([\"plotly\"], function(Plotly) {                    window.PLOTLYENV=window.PLOTLYENV || {};\n",
       "                    window.PLOTLYENV.BASE_URL='https://plot.ly';                                    if (document.getElementById(\"f0cddbd1-4d96-43b6-b0da-7d541583183d\")) {                    Plotly.newPlot(                        \"f0cddbd1-4d96-43b6-b0da-7d541583183d\",                        [{\"line\": {\"color\": \"rgba(255, 153, 51, 1.0)\", \"dash\": \"solid\", \"shape\": \"linear\", \"width\": 1.3}, \"mode\": \"lines\", \"name\": \"29177024000100\", \"text\": \"\", \"type\": \"scatter\", \"x\": [\"2020-09-03\", \"2020-09-04\", \"2020-09-08\", \"2020-09-09\", \"2020-09-10\", \"2020-09-11\", \"2020-09-14\", \"2020-09-15\", \"2020-09-16\", \"2020-09-17\", \"2020-09-18\", \"2020-09-21\", \"2020-09-22\", \"2020-09-23\", \"2020-09-24\", \"2020-09-25\", \"2020-09-28\", \"2020-09-29\", \"2020-09-30\", \"2020-10-01\", \"2020-10-02\", \"2020-10-05\", \"2020-10-06\", \"2020-10-07\", \"2020-10-08\", \"2020-10-09\", \"2020-10-13\", \"2020-10-14\", \"2020-10-15\", \"2020-10-16\", \"2020-10-19\", \"2020-10-20\", \"2020-10-21\", \"2020-10-22\", \"2020-10-23\", \"2020-10-26\", \"2020-10-27\", \"2020-10-28\", \"2020-10-29\", \"2020-10-30\", \"2020-11-03\", \"2020-11-04\", \"2020-11-05\", \"2020-11-06\", \"2020-11-09\", \"2020-11-10\", \"2020-11-11\", \"2020-11-12\", \"2020-11-13\", \"2020-11-16\", \"2020-11-17\", \"2020-11-18\", \"2020-11-19\", \"2020-11-20\", \"2020-11-23\", \"2020-11-24\", \"2020-11-25\", \"2020-11-26\", \"2020-11-27\", \"2020-11-30\", \"2020-12-01\", \"2020-12-02\", \"2020-12-03\", \"2020-12-04\", \"2020-12-07\", \"2020-12-08\", \"2020-12-09\", \"2020-12-10\", \"2020-12-11\", \"2020-12-14\", \"2020-12-15\", \"2020-12-16\", \"2020-12-17\", \"2020-12-18\", \"2020-12-21\", \"2020-12-22\", \"2020-12-23\", \"2020-12-24\", \"2020-12-28\", \"2020-12-29\", \"2020-12-30\", \"2020-12-31\", \"2021-01-04\", \"2021-01-05\", \"2021-01-06\", \"2021-01-07\", \"2021-01-08\", \"2021-01-11\", \"2021-01-12\", \"2021-01-13\", \"2021-01-14\", \"2021-01-15\", \"2021-01-18\", \"2021-01-19\", \"2021-01-20\", \"2021-01-21\", \"2021-01-22\", \"2021-01-25\", \"2021-01-26\", \"2021-01-27\", \"2021-01-28\", \"2021-01-29\", \"2021-02-01\", \"2021-02-02\", \"2021-02-03\", \"2021-02-04\", \"2021-02-05\", \"2021-02-08\", \"2021-02-09\", \"2021-02-10\", \"2021-02-11\", \"2021-02-12\", \"2021-02-17\", \"2021-02-18\", \"2021-02-19\", \"2021-02-22\", \"2021-02-23\", \"2021-02-24\", \"2021-02-25\", \"2021-02-26\", \"2021-03-01\", \"2021-03-02\", \"2021-03-03\", \"2021-03-04\", \"2021-03-05\", \"2021-03-08\", \"2021-03-09\", \"2021-03-10\", \"2021-03-11\", \"2021-03-12\", \"2021-03-15\", \"2021-03-16\", \"2021-03-17\", \"2021-03-18\", \"2021-03-19\", \"2021-03-22\", \"2021-03-23\", \"2021-03-24\", \"2021-03-25\", \"2021-03-26\", \"2021-03-29\", \"2021-03-30\", \"2021-03-31\", \"2021-04-01\", \"2021-04-05\", \"2021-04-06\", \"2021-04-07\", \"2021-04-08\", \"2021-04-09\", \"2021-04-12\", \"2021-04-13\", \"2021-04-14\", \"2021-04-15\", \"2021-04-16\", \"2021-04-19\", \"2021-04-20\", \"2021-04-22\", \"2021-04-23\", \"2021-04-26\", \"2021-04-27\", \"2021-04-28\", \"2021-04-29\", \"2021-04-30\", \"2021-05-03\", \"2021-05-04\", \"2021-05-05\", \"2021-05-06\", \"2021-05-07\", \"2021-05-10\", \"2021-05-11\", \"2021-05-12\", \"2021-05-13\", \"2021-05-14\", \"2021-05-17\", \"2021-05-18\", \"2021-05-19\", \"2021-05-20\", \"2021-05-21\", \"2021-05-24\", \"2021-05-25\", \"2021-05-26\", \"2021-05-27\", \"2021-05-28\", \"2021-05-31\", \"2021-06-01\", \"2021-06-02\", \"2021-06-04\", \"2021-06-07\", \"2021-06-08\", \"2021-06-09\", \"2021-06-10\", \"2021-06-11\", \"2021-06-14\", \"2021-06-15\", \"2021-06-16\", \"2021-06-17\", \"2021-06-18\", \"2021-06-21\", \"2021-06-22\", \"2021-06-23\", \"2021-06-24\", \"2021-06-25\", \"2021-06-28\", \"2021-06-29\", \"2021-06-30\", \"2021-07-01\", \"2021-07-02\", \"2021-07-05\", \"2021-07-06\", \"2021-07-07\", \"2021-07-08\", \"2021-07-09\", \"2021-07-12\", \"2021-07-13\", \"2021-07-14\", \"2021-07-15\", \"2021-07-16\", \"2021-07-19\", \"2021-07-20\", \"2021-07-21\", \"2021-07-22\", \"2021-07-23\", \"2021-07-26\", \"2021-07-27\", \"2021-07-28\", \"2021-07-29\", \"2021-07-30\", \"2021-08-02\", \"2021-08-03\", \"2021-08-04\", \"2021-08-05\", \"2021-08-06\", \"2021-08-09\", \"2021-08-10\", \"2021-08-11\", \"2021-08-12\", \"2021-08-13\", \"2021-08-16\", \"2021-08-17\", \"2021-08-18\", \"2021-08-19\", \"2021-08-20\", \"2021-08-23\", \"2021-08-24\", \"2021-08-25\", \"2021-08-26\", \"2021-08-27\", \"2021-08-30\", \"2021-08-31\", \"2021-09-01\", \"2021-09-02\", \"2021-09-03\"], \"y\": [-1.4399411990821378, -1.4329865556721324, -1.4231193119642302, -1.4359557412813628, -1.4515156730741552, -1.4828011772983705, -1.4439585504220278, -1.4046963691827452, -1.4269037375861955, -1.424445054367575, -1.4690655559429608, -1.5137951128456433, -1.490889173053188, -1.5240179180734872, -1.5302914800998084, -1.5257241195337596, -1.4862942400081622, -1.4595954382382335, -1.3790465562025498, -1.3249783652822016, -1.3195624308109228, -1.311925471428623, -1.3233184608948376, -1.3066218845209372, -1.3113203172445107, -1.3351131031891335, -1.3020436184221582, -1.2628812330955907, -1.2805541632959498, -1.2700908190537479, -1.273638820956725, -1.2933782467269737, -1.2364330528136758, -1.2168779922759896, -1.2120404625689207, -1.2017904963916375, -1.2138732093618114, -1.325298329497195, -1.241261323106163, -1.276576730321146, -1.1969529666845684, -1.2177197759438594, -1.1565206012069147, -1.1078031173262355, -1.090261259283401, -1.0745136700217504, -1.064429344483097, -1.092005732990612, -1.0786299942152815, -1.0519799586954834, -1.0434203500912997, -1.0386710934699106, -1.0485364852948966, -1.0195845593100632, -1.0008513232577034, -0.9670087802555323, -0.9498146646714365, -0.9466802499531128, -0.921762753783954, -0.9315604490001085, -0.8985940523821443, -0.8855467141773148, -0.8709287734946441, -0.8429807738152463, -0.8188418915300321, -0.8161257965860376, -0.8438746159695427, -0.8241236673722592, -0.8033010958607085, -0.7797103709187371, -0.7568708931465022, -0.7298177644452434, -0.7337091877468209, -0.7308015258033675, -0.7544369017001001, -0.7498833273735397, -0.7239137559431197, -0.7241438009542853, -0.6902166886322669, -0.6551490221985391, -0.6032600859412095, -0.6034969211897349, -0.5602005158995469, -0.5425629772393668, -0.5012838897393996, -0.4077759425845668, -0.34913236627219835, -0.38194711425579014, -0.3636313749186855, -0.3968055939528193, -0.35696788865608553, -0.37005555675553775, -0.3624550177372599, -0.375928700542389, -0.3829736746857589, -0.41371019850765756, -0.4386011510216824, -0.43803077108344357, -0.48037530855462296, -0.5245215223386521, -0.4776462504302137, -0.5410341450095276, -0.46595099251909583, -0.4506999136437981, -0.4332298675051648, -0.4378754186832376, -0.38351257261441946, -0.3545122919089923, -0.3902645377274678, -0.3941094581913676, -0.3474306916368323, -0.3448030755432862, -0.3271974304222211, -0.3062909068851291, -0.28223268438916127, -0.38562886325828205, -0.35082436996344596, -0.32764064773353674, -0.36894627888863835, -0.38943818641723427, -0.38501938801403124, -0.3579290158896764, -0.39628212838179494, -0.3647425046685014, -0.30119082133347425, -0.3945950630449911, -0.39561236406037814, -0.3852467580832063, -0.3411007500639457, -0.30022681339312474, -0.2273729164044532, -0.16300270082039497, -0.1155465549705253, -0.18242812955393614, -0.1171327955707718, -0.0943410552248254, -0.12945481296669323, -0.1336810155465948, -0.12096475285425733, -0.07850313522981005, 0.020854292763498223, 0.09884613602122637, 0.11324287957777598, 0.07850361371454963, 0.10844629705963514, 0.12907503815927315, 0.14959184322485608, 0.19636094051275668, 0.23610358248645041, 0.2878886075356955, 0.2876867522978118, 0.3863069251256408, 0.40045098954649205, 0.4059831811119643, 0.432917172012271, 0.48450404558946547, 0.5002129510746411, 0.5312682045229223, 0.567728075380215, 0.6169885724849249, 0.5889362500679053, 0.6608265506457645, 0.6940976848858539, 0.5988718076789449, 0.5624154348227154, 0.654118619193172, 0.724069998357602, 0.7759733381487258, 0.8195765387087242, 0.8348537497096197, 0.7620986198098203, 0.7835687330477913, 0.7834806657268797, 0.84564981558246, 0.8492558431501502, 0.816616818278844, 0.7981961389098127, 0.7786095963625478, 0.7840000160025342, 0.7324594394982488, 0.742454668892149, 0.8021332419899935, 0.8414427491260272, 0.954738682536471, 1.0304319275654594, 1.1156000228888499, 1.1884495988173833, 1.1682912359785005, 1.1561346534564407, 1.217490826711739, 1.2480896939035213, 1.2202400497834598, 1.2506644284515676, 1.3129214398632905, 1.2514175275042199, 1.0797508618644183, 1.1395179138127116, 1.1378715899000682, 1.2082746227313208, 1.2193202812683337, 1.2661041936195647, 1.197674856447614, 1.2286471866941964, 1.1984678738653536, 1.2585435729663728, 1.2125024714293713, 1.2417004920773111, 1.2631697822562087, 1.1638160580287327, 1.202984822063123, 1.1806103726676636, 1.1801801185367624, 1.2362645984234901, 1.2482226179439622, 1.3008247348888595, 1.3546139087831426, 1.3770033790067022, 1.3158470033416023, 1.372898166110669, 1.40189391999119, 1.4265751982061288, 1.358888054554101, 1.3608671000973849, 1.3183394319822543, 1.3773358948725727, 1.388387520587872, 1.3432003428400803, 1.4124436854361546, 1.418229996490706, 1.3994683649002957, 1.3911626700204212, 1.3722784026279937, 1.4481949024307879, 1.5182755018698257, 1.5282557104356265, 1.4617093266600765, 1.4382869172987258, 1.2652058246403617, 1.087435352908238, 1.144146592279769, 1.1911362693994847, 1.2368524683670494, 1.3083234203467373, 1.4439816630313007, 1.490136140955738, 1.4385753995041404, 1.5152447925948187, 1.5781174521938472, 1.5382906524298432, 1.5256651320004073, 1.3660268574319003, 1.3547789321274675]}, {\"line\": {\"color\": \"rgba(55, 128, 191, 1.0)\", \"dash\": \"solid\", \"shape\": \"linear\", \"width\": 1.3}, \"mode\": \"lines\", \"name\": \"08968733000126\", \"text\": \"\", \"type\": \"scatter\", \"x\": [\"2020-09-03\", \"2020-09-04\", \"2020-09-08\", \"2020-09-09\", \"2020-09-10\", \"2020-09-11\", \"2020-09-14\", \"2020-09-15\", \"2020-09-16\", \"2020-09-17\", \"2020-09-18\", \"2020-09-21\", \"2020-09-22\", \"2020-09-23\", \"2020-09-24\", \"2020-09-25\", \"2020-09-28\", \"2020-09-29\", \"2020-09-30\", \"2020-10-01\", \"2020-10-02\", \"2020-10-05\", \"2020-10-06\", \"2020-10-07\", \"2020-10-08\", \"2020-10-09\", \"2020-10-13\", \"2020-10-14\", \"2020-10-15\", \"2020-10-16\", \"2020-10-19\", \"2020-10-20\", \"2020-10-21\", \"2020-10-22\", \"2020-10-23\", \"2020-10-26\", \"2020-10-27\", \"2020-10-28\", \"2020-10-29\", \"2020-10-30\", \"2020-11-03\", \"2020-11-04\", \"2020-11-05\", \"2020-11-06\", \"2020-11-09\", \"2020-11-10\", \"2020-11-11\", \"2020-11-12\", \"2020-11-13\", \"2020-11-16\", \"2020-11-17\", \"2020-11-18\", \"2020-11-19\", \"2020-11-20\", \"2020-11-23\", \"2020-11-24\", \"2020-11-25\", \"2020-11-26\", \"2020-11-27\", \"2020-11-30\", \"2020-12-01\", \"2020-12-02\", \"2020-12-03\", \"2020-12-04\", \"2020-12-07\", \"2020-12-08\", \"2020-12-09\", \"2020-12-10\", \"2020-12-11\", \"2020-12-14\", \"2020-12-15\", \"2020-12-16\", \"2020-12-17\", \"2020-12-18\", \"2020-12-21\", \"2020-12-22\", \"2020-12-23\", \"2020-12-24\", \"2020-12-28\", \"2020-12-29\", \"2020-12-30\", \"2020-12-31\", \"2021-01-04\", \"2021-01-05\", \"2021-01-06\", \"2021-01-07\", \"2021-01-08\", \"2021-01-11\", \"2021-01-12\", \"2021-01-13\", \"2021-01-14\", \"2021-01-15\", \"2021-01-18\", \"2021-01-19\", \"2021-01-20\", \"2021-01-21\", \"2021-01-22\", \"2021-01-25\", \"2021-01-26\", \"2021-01-27\", \"2021-01-28\", \"2021-01-29\", \"2021-02-01\", \"2021-02-02\", \"2021-02-03\", \"2021-02-04\", \"2021-02-05\", \"2021-02-08\", \"2021-02-09\", \"2021-02-10\", \"2021-02-11\", \"2021-02-12\", \"2021-02-17\", \"2021-02-18\", \"2021-02-19\", \"2021-02-22\", \"2021-02-23\", \"2021-02-24\", \"2021-02-25\", \"2021-02-26\", \"2021-03-01\", \"2021-03-02\", \"2021-03-03\", \"2021-03-04\", \"2021-03-05\", \"2021-03-08\", \"2021-03-09\", \"2021-03-10\", \"2021-03-11\", \"2021-03-12\", \"2021-03-15\", \"2021-03-16\", \"2021-03-17\", \"2021-03-18\", \"2021-03-19\", \"2021-03-22\", \"2021-03-23\", \"2021-03-24\", \"2021-03-25\", \"2021-03-26\", \"2021-03-29\", \"2021-03-30\", \"2021-03-31\", \"2021-04-01\", \"2021-04-05\", \"2021-04-06\", \"2021-04-07\", \"2021-04-08\", \"2021-04-09\", \"2021-04-12\", \"2021-04-13\", \"2021-04-14\", \"2021-04-15\", \"2021-04-16\", \"2021-04-19\", \"2021-04-20\", \"2021-04-22\", \"2021-04-23\", \"2021-04-26\", \"2021-04-27\", \"2021-04-28\", \"2021-04-29\", \"2021-04-30\", \"2021-05-03\", \"2021-05-04\", \"2021-05-05\", \"2021-05-06\", \"2021-05-07\", \"2021-05-10\", \"2021-05-11\", \"2021-05-12\", \"2021-05-13\", \"2021-05-14\", \"2021-05-17\", \"2021-05-18\", \"2021-05-19\", \"2021-05-20\", \"2021-05-21\", \"2021-05-24\", \"2021-05-25\", \"2021-05-26\", \"2021-05-27\", \"2021-05-28\", \"2021-05-31\", \"2021-06-01\", \"2021-06-02\", \"2021-06-04\", \"2021-06-07\", \"2021-06-08\", \"2021-06-09\", \"2021-06-10\", \"2021-06-11\", \"2021-06-14\", \"2021-06-15\", \"2021-06-16\", \"2021-06-17\", \"2021-06-18\", \"2021-06-21\", \"2021-06-22\", \"2021-06-23\", \"2021-06-24\", \"2021-06-25\", \"2021-06-28\", \"2021-06-29\", \"2021-06-30\", \"2021-07-01\", \"2021-07-02\", \"2021-07-05\", \"2021-07-06\", \"2021-07-07\", \"2021-07-08\", \"2021-07-09\", \"2021-07-12\", \"2021-07-13\", \"2021-07-14\", \"2021-07-15\", \"2021-07-16\", \"2021-07-19\", \"2021-07-20\", \"2021-07-21\", \"2021-07-22\", \"2021-07-23\", \"2021-07-26\", \"2021-07-27\", \"2021-07-28\", \"2021-07-29\", \"2021-07-30\", \"2021-08-02\", \"2021-08-03\", \"2021-08-04\", \"2021-08-05\", \"2021-08-06\", \"2021-08-09\", \"2021-08-10\", \"2021-08-11\", \"2021-08-12\", \"2021-08-13\", \"2021-08-16\", \"2021-08-17\", \"2021-08-18\", \"2021-08-19\", \"2021-08-20\", \"2021-08-23\", \"2021-08-24\", \"2021-08-25\", \"2021-08-26\", \"2021-08-27\", \"2021-08-30\", \"2021-08-31\", \"2021-09-01\", \"2021-09-02\", \"2021-09-03\"], \"y\": [-1.340205435616378, -1.31771174578048, -1.2951656010125185, -1.3060909124663325, -1.3363148335447979, -1.3539779091661157, -1.3087656649011326, -1.2990545863224936, -1.3155005099157389, -1.3147981168185852, -1.3568675561642072, -1.4032076712886483, -1.3757096551857537, -1.4214986342431695, -1.4226502176061626, -1.4072989763494341, -1.4348942226988335, -1.437651609615652, -1.3759509568552555, -1.34789556218914, -1.3512363754950325, -1.3617717779418463, -1.375075210986042, -1.3425044706182634, -1.3501797319662712, -1.36241969515493, -1.3619752653538157, -1.3259258827533436, -1.3239471461893677, -1.3175568959467854, -1.3340980288345294, -1.3281580916089015, -1.2978322247292504, -1.276834174107835, -1.2685572978027, -1.2555269627395649, -1.2717833210346585, -1.3744202428959598, -1.2980390354845184, -1.3402360193567335, -1.2661427990762124, -1.2832509212767162, -1.2131277489366281, -1.176276587310358, -1.1655019490560934, -1.1588054123095093, -1.1402136418764246, -1.1722936950971763, -1.1384460274319956, -1.1373708360548245, -1.1372626028473987, -1.1380077053969433, -1.1387964605098144, -1.1375851467875364, -1.1369127086901147, -1.1236516258179527, -1.1130910288361326, -1.095624075379474, -1.067661105585094, -1.0832602502878768, -1.0316736090260468, -1.0279591890593347, -1.0223510023329823, -1.0054663974243279, -0.984014800262749, -0.9725558227492499, -0.9901464584686682, -0.9680989499256233, -0.9438928400900788, -0.9008156642542375, -0.8763664563474087, -0.8176821418208503, -0.8028617372909986, -0.7920533266832135, -0.7964206488779577, -0.7940661050609774, -0.7516866965876984, -0.7518980881675131, -0.7043295036837667, -0.6438573651927205, -0.5601771976967659, -0.5604015682794629, -0.5271054857817526, -0.48161497888058263, -0.44605134332223423, -0.34120161374463176, -0.27508280061903206, -0.30107978830209525, -0.2881906953291485, -0.3182263535007555, -0.3000040580043894, -0.3043169492251084, -0.29596233363281466, -0.28639981748162985, -0.3367808485968434, -0.35972718677201276, -0.38815174200453534, -0.38838702572806366, -0.4284046598671863, -0.467963358260796, -0.44264271584903336, -0.48304680092172375, -0.42590995180108754, -0.38711036789092884, -0.3811671522320469, -0.35870189045436535, -0.3634514869485321, -0.33754252295283554, -0.3457011511106047, -0.33995194684428687, -0.2698672175023547, -0.24682620895322127, -0.2362365102625164, -0.2143857975347991, -0.18829975323334402, -0.2731798722102992, -0.2541445701769909, -0.22591923590220342, -0.28956337084158434, -0.3203694608278767, -0.3026548733854308, -0.29216119237002774, -0.3368554890909274, -0.2552605398746355, -0.20384783521544456, -0.2758411067216817, -0.2826742149138186, -0.2699676812720696, -0.23559209603290857, -0.1637045876816459, -0.1225198313041078, -0.05074060107031484, -0.029472551260914248, -0.07829318287736835, -0.037757376643938925, -0.021736661352730363, -0.04880794221207289, -0.07200833650940373, -0.06027940471796374, -0.004163495640651724, 0.061306322430794195, 0.11529425886600655, 0.09600130790697187, 0.0870156163683094, 0.1266953922420935, 0.14257598819422831, 0.12635636631559635, 0.16632971915076789, 0.2223079340314128, 0.2732010294748709, 0.2797750965298985, 0.3496081050719873, 0.36543314729898296, 0.41226098550750845, 0.430181575324419, 0.45570503149748326, 0.47209948817964514, 0.5229775387581711, 0.5545819946068731, 0.5934750812298364, 0.5620691726882001, 0.6178631665659986, 0.6738688214838788, 0.5806395659400675, 0.5542580135453088, 0.644173132349705, 0.7208447730194133, 0.7690996278943104, 0.8153693689789024, 0.8056789939308125, 0.767109798549324, 0.7849029336597314, 0.7771447683694381, 0.802759526663123, 0.803036801278329, 0.7769322091284647, 0.7282972805463286, 0.7219188416454696, 0.7415699052999463, 0.7063139035469364, 0.7292735800053457, 0.7542157654714746, 0.7640735202556947, 0.8643802395441762, 0.9207125701262947, 0.9729552124092327, 1.0576661103382292, 1.054488140853966, 1.0818089419209675, 1.182387860989617, 1.202430450412699, 1.2120242688649523, 1.229954918531848, 1.321079824117007, 1.2719269479907869, 1.1324879960919807, 1.2058139731709823, 1.2030283378361266, 1.258073366900547, 1.2584147730594057, 1.3050317136986074, 1.2767539244917567, 1.2755568921636538, 1.2383159113504716, 1.2914142696227424, 1.22857083586809, 1.2482471389676175, 1.2610195556447583, 1.2191082894761296, 1.2374438930149583, 1.178226541169339, 1.1778223058581185, 1.2684487997685838, 1.2912732071727326, 1.3401533445982485, 1.3753689722211844, 1.4084733337386037, 1.3461202278506212, 1.4053113073201644, 1.4449468018899978, 1.4171620800625362, 1.3762465594022255, 1.395831470561043, 1.342799174964342, 1.4229854308124477, 1.4198715030517486, 1.3318960490725478, 1.4143187353204014, 1.435032415539568, 1.403775249065565, 1.3911252122598912, 1.383986805584733, 1.4215016927597777, 1.5097448106046456, 1.518439889244863, 1.4500070860725347, 1.4228594581374152, 1.2541942168903335, 1.0660771778565545, 1.1264621459510802, 1.1648680933205382, 1.2058927453891668, 1.2927582476166952, 1.3764310498653403, 1.4268443713026022, 1.3613427569195982, 1.4373051332553324, 1.4972015249749264, 1.4596299613236285, 1.4297605601370378, 1.3059617558117116, 1.3102041382624479]}, {\"line\": {\"color\": \"rgba(50, 171, 96, 1.0)\", \"dash\": \"solid\", \"shape\": \"linear\", \"width\": 1.3}, \"mode\": \"lines\", \"name\": \"20077065000142\", \"text\": \"\", \"type\": \"scatter\", \"x\": [\"2020-09-03\", \"2020-09-04\", \"2020-09-08\", \"2020-09-09\", \"2020-09-10\", \"2020-09-11\", \"2020-09-14\", \"2020-09-15\", \"2020-09-16\", \"2020-09-17\", \"2020-09-18\", \"2020-09-21\", \"2020-09-22\", \"2020-09-23\", \"2020-09-24\", \"2020-09-25\", \"2020-09-28\", \"2020-09-29\", \"2020-09-30\", \"2020-10-01\", \"2020-10-02\", \"2020-10-05\", \"2020-10-06\", \"2020-10-07\", \"2020-10-08\", \"2020-10-09\", \"2020-10-13\", \"2020-10-14\", \"2020-10-15\", \"2020-10-16\", \"2020-10-19\", \"2020-10-20\", \"2020-10-21\", \"2020-10-22\", \"2020-10-23\", \"2020-10-26\", \"2020-10-27\", \"2020-10-28\", \"2020-10-29\", \"2020-10-30\", \"2020-11-03\", \"2020-11-04\", \"2020-11-05\", \"2020-11-06\", \"2020-11-09\", \"2020-11-10\", \"2020-11-11\", \"2020-11-12\", \"2020-11-13\", \"2020-11-16\", \"2020-11-17\", \"2020-11-18\", \"2020-11-19\", \"2020-11-20\", \"2020-11-23\", \"2020-11-24\", \"2020-11-25\", \"2020-11-26\", \"2020-11-27\", \"2020-11-30\", \"2020-12-01\", \"2020-12-02\", \"2020-12-03\", \"2020-12-04\", \"2020-12-07\", \"2020-12-08\", \"2020-12-09\", \"2020-12-10\", \"2020-12-11\", \"2020-12-14\", \"2020-12-15\", \"2020-12-16\", \"2020-12-17\", \"2020-12-18\", \"2020-12-21\", \"2020-12-22\", \"2020-12-23\", \"2020-12-24\", \"2020-12-28\", \"2020-12-29\", \"2020-12-30\", \"2020-12-31\", \"2021-01-04\", \"2021-01-05\", \"2021-01-06\", \"2021-01-07\", \"2021-01-08\", \"2021-01-11\", \"2021-01-12\", \"2021-01-13\", \"2021-01-14\", \"2021-01-15\", \"2021-01-18\", \"2021-01-19\", \"2021-01-20\", \"2021-01-21\", \"2021-01-22\", \"2021-01-25\", \"2021-01-26\", \"2021-01-27\", \"2021-01-28\", \"2021-01-29\", \"2021-02-01\", \"2021-02-02\", \"2021-02-03\", \"2021-02-04\", \"2021-02-05\", \"2021-02-08\", \"2021-02-09\", \"2021-02-10\", \"2021-02-11\", \"2021-02-12\", \"2021-02-17\", \"2021-02-18\", \"2021-02-19\", \"2021-02-22\", \"2021-02-23\", \"2021-02-24\", \"2021-02-25\", \"2021-02-26\", \"2021-03-01\", \"2021-03-02\", \"2021-03-03\", \"2021-03-04\", \"2021-03-05\", \"2021-03-08\", \"2021-03-09\", \"2021-03-10\", \"2021-03-11\", \"2021-03-12\", \"2021-03-15\", \"2021-03-16\", \"2021-03-17\", \"2021-03-18\", \"2021-03-19\", \"2021-03-22\", \"2021-03-23\", \"2021-03-24\", \"2021-03-25\", \"2021-03-26\", \"2021-03-29\", \"2021-03-30\", \"2021-03-31\", \"2021-04-01\", \"2021-04-05\", \"2021-04-06\", \"2021-04-07\", \"2021-04-08\", \"2021-04-09\", \"2021-04-12\", \"2021-04-13\", \"2021-04-14\", \"2021-04-15\", \"2021-04-16\", \"2021-04-19\", \"2021-04-20\", \"2021-04-22\", \"2021-04-23\", \"2021-04-26\", \"2021-04-27\", \"2021-04-28\", \"2021-04-29\", \"2021-04-30\", \"2021-05-03\", \"2021-05-04\", \"2021-05-05\", \"2021-05-06\", \"2021-05-07\", \"2021-05-10\", \"2021-05-11\", \"2021-05-12\", \"2021-05-13\", \"2021-05-14\", \"2021-05-17\", \"2021-05-18\", \"2021-05-19\", \"2021-05-20\", \"2021-05-21\", \"2021-05-24\", \"2021-05-25\", \"2021-05-26\", \"2021-05-27\", \"2021-05-28\", \"2021-05-31\", \"2021-06-01\", \"2021-06-02\", \"2021-06-04\", \"2021-06-07\", \"2021-06-08\", \"2021-06-09\", \"2021-06-10\", \"2021-06-11\", \"2021-06-14\", \"2021-06-15\", \"2021-06-16\", \"2021-06-17\", \"2021-06-18\", \"2021-06-21\", \"2021-06-22\", \"2021-06-23\", \"2021-06-24\", \"2021-06-25\", \"2021-06-28\", \"2021-06-29\", \"2021-06-30\", \"2021-07-01\", \"2021-07-02\", \"2021-07-05\", \"2021-07-06\", \"2021-07-07\", \"2021-07-08\", \"2021-07-09\", \"2021-07-12\", \"2021-07-13\", \"2021-07-14\", \"2021-07-15\", \"2021-07-16\", \"2021-07-19\", \"2021-07-20\", \"2021-07-21\", \"2021-07-22\", \"2021-07-23\", \"2021-07-26\", \"2021-07-27\", \"2021-07-28\", \"2021-07-29\", \"2021-07-30\", \"2021-08-02\", \"2021-08-03\", \"2021-08-04\", \"2021-08-05\", \"2021-08-06\", \"2021-08-09\", \"2021-08-10\", \"2021-08-11\", \"2021-08-12\", \"2021-08-13\", \"2021-08-16\", \"2021-08-17\", \"2021-08-18\", \"2021-08-19\", \"2021-08-20\", \"2021-08-23\", \"2021-08-24\", \"2021-08-25\", \"2021-08-26\", \"2021-08-27\", \"2021-08-30\", \"2021-08-31\", \"2021-09-01\", \"2021-09-02\", \"2021-09-03\"], \"y\": [-0.5060170338901533, -0.3797073709349626, -0.10151543518062196, -0.4472718280607213, -0.35243185101481617, -0.23217121077605235, -0.5321337442706534, -0.5136755143005366, -0.7582397063559567, -0.7275123323321877, -0.10204049912078049, 0.13698277428159697, 0.4870994707192384, 1.0154274372294974, 0.6955580464669137, 0.8929340926686239, 1.295718936504603, 1.3178983018871355, 1.2556173655566996, 1.3198272282803445, 1.3475067855369942, 0.8610030288870771, 1.0312340423838295, 1.1077830807611433, 1.031795448917077, 0.756197682069447, 1.0148771065341484, 1.1087218733959647, 1.1297820022846548, 1.3259161701625122, 1.0810697749874243, 1.03887579366406, 1.1677820483655013, 1.115939281636887, 1.2447990408938316, 1.2587203307666586, 1.5145074616880083, 1.8310875593427305, 1.956377437598501, 1.8761305692176748, 1.8954495994641027, 1.4180816784769772, 0.9183157596822273, 0.15090487176760373, 0.1407959775965049, -0.043657680862440276, 0.12595816213795885, 0.3507778271745208, 0.46441742381896006, 0.2410031210884978, -0.1454941262579469, -0.40195711403744366, -0.4307668682525184, -0.05616091736491424, 0.2812827130558825, -0.05998231218492752, -0.38770862545350193, -0.4075158001804459, -0.3307893176502045, -0.19926455027334752, -0.8825934455630722, -0.7829573999624864, -1.3582488804891668, -1.4091045131654871, -1.6328356310090404, -1.457716250308494, -1.0923421256787622, -1.8178596951195234, -1.7234497144051812, -1.4381787030102804, -1.602153829443277, -1.4471894740035216, -1.6305831978506844, -1.588076439480129, -1.4201015510877004, -1.18029512364758, -0.9732555242567535, -0.9716116853160003, -0.6463893190246259, -1.0032292798104916, -1.0857256970168911, -1.0840667441723497, -0.7101682624302122, -0.6171304165082903, -0.6520686856513463, 0.04971359392941523, 0.22673824949433508, 0.5030745209082029, -0.1323344156136351, -0.4074028497085903, -0.9579917505325343, -0.4827274311320683, -0.4748507797898363, -0.1655626215352002, -0.3298799452097892, -0.06764517678114798, 0.4744844374780261, 0.4761988848853491, -0.17069938747842905, 0.0628806884656524, 0.3134463694332067, 0.532757766463852, 0.4457191019878348, -0.10199734950231466, -0.006056249572458502, 0.3608913362780781, -0.049005810712140684, -0.03509490443734293, 0.01717266682383272, 0.023116353706955833, 0.08835142367565443, -0.0023250766819507126, 0.2175932993399426, 0.3102949474324592, 0.16391413561385396, 0.3308301277543015, 0.32568482418603006, 0.2518935540709846, 0.7107985147822242, 1.104621159789056, 1.1799938518833906, 1.5484211004525643, 1.9768730448745344, 1.4720603513194452, 1.6803151777991956, 2.131326988784677, 2.2133211859665782, 1.6105671653819797, 0.892684194076145, 1.0129358351966185, 1.347017487323371, 1.287452092623233, 1.1133828398029983, 0.9450595240101591, 0.5307157742254768, 0.6774468594174741, 0.592237438793622, 1.1743859013364248, 1.5785936442218367, 1.9954556472743372, 2.153567963515494, 1.9619105108663704, 1.4984189995339403, 1.8778423630388366, 1.669555808898456, 1.3131453829509157, 1.4988931838437756, 1.1569330344018045, 1.7027386731086367, 1.9728532079589192, 1.7819686411228304, 1.761204329404557, 1.3687452815651027, 1.1805092244653943, 1.0422285420931923, 1.06547395687301, 0.5723223900205237, 0.7123898588662944, 0.5178866081183106, 0.5376744001289402, 0.01577538064952771, -0.051636322211945314, 0.22709059958733496, 0.23590938939041897, 0.3773627224526642, -0.008030979170289478, -0.4099239873091862, -0.6837691181834178, -0.6145844736457414, -0.6579665693298474, -0.38579123639143403, -0.30493935036564696, -0.46299836413694034, -0.511131532784285, -0.5229282231277728, -0.18186936999442235, -0.38462954251899995, -0.007434499150381227, -0.1653776781170312, -0.12644668478654167, -0.2065081482559559, -0.5665332200494914, -0.7372154585671127, -0.6676405061169877, -0.8037979734395893, -1.1747547818610908, -1.3717708633312544, -1.3994195005404537, -1.3830362595757755, -1.2427597342897574, -1.1836102603771959, -0.9664152713707791, -1.2055497646453364, -1.3590592626284024, -1.239905167819228, -1.444099430604437, -1.2519193368547001, -1.4831635647362817, -1.6713860077852463, -1.7454191003609758, -2.054694567551359, -1.8170257768247577, -1.9594594369139253, -1.9254341167839364, -1.6776033601629996, -1.4398386942146282, -1.3690002886314225, -1.1411648806083086, -0.5276512603763438, -0.3518650219359304, -0.2295337768775651, -0.22523923610751795, -0.613943459527634, -0.6825657745455723, -1.1705758451490607, -0.8804518861569638, -0.9960894024348269, -0.2532863727342763, -0.44407806405469313, -0.4996773858023216, -0.4695760273661828, -0.3958665569289161, -0.6382500780256619, -0.6129878223893539, -0.930518480756655, -1.2183070531795048, -0.5760962830843839, -0.7608155309061545, -0.48705969897494283, -0.5468935673706941, -0.423004782608502, -0.28896914585576233, -0.3243909445468712, -0.5097825880274527, -0.4048055657224704, -0.23395003649113694, -0.2691964677489258, -0.12453517976334992, -0.15349538077648622, 0.3467338772368269, 0.7014493538666642, 0.5205939582434983, 0.46592835270498995, -0.22056142519702057, -0.4447569206189387, -0.19280629842140046, -0.5509942809776026, -0.5770030019386326, -0.6637382346056813, -0.6667603231243573, -0.5766647273896245, -0.5803796326432271]}, {\"line\": {\"color\": \"rgba(128, 0, 128, 1.0)\", \"dash\": \"solid\", \"shape\": \"linear\", \"width\": 1.3}, \"mode\": \"lines\", \"name\": \"33736873000116\", \"text\": \"\", \"type\": \"scatter\", \"x\": [\"2020-09-03\", \"2020-09-04\", \"2020-09-08\", \"2020-09-09\", \"2020-09-10\", \"2020-09-11\", \"2020-09-14\", \"2020-09-15\", \"2020-09-16\", \"2020-09-17\", \"2020-09-18\", \"2020-09-21\", \"2020-09-22\", \"2020-09-23\", \"2020-09-24\", \"2020-09-25\", \"2020-09-28\", \"2020-09-29\", \"2020-09-30\", \"2020-10-01\", \"2020-10-02\", \"2020-10-05\", \"2020-10-06\", \"2020-10-07\", \"2020-10-08\", \"2020-10-09\", \"2020-10-13\", \"2020-10-14\", \"2020-10-15\", \"2020-10-16\", \"2020-10-19\", \"2020-10-20\", \"2020-10-21\", \"2020-10-22\", \"2020-10-23\", \"2020-10-26\", \"2020-10-27\", \"2020-10-28\", \"2020-10-29\", \"2020-10-30\", \"2020-11-03\", \"2020-11-04\", \"2020-11-05\", \"2020-11-06\", \"2020-11-09\", \"2020-11-10\", \"2020-11-11\", \"2020-11-12\", \"2020-11-13\", \"2020-11-16\", \"2020-11-17\", \"2020-11-18\", \"2020-11-19\", \"2020-11-20\", \"2020-11-23\", \"2020-11-24\", \"2020-11-25\", \"2020-11-26\", \"2020-11-27\", \"2020-11-30\", \"2020-12-01\", \"2020-12-02\", \"2020-12-03\", \"2020-12-04\", \"2020-12-07\", \"2020-12-08\", \"2020-12-09\", \"2020-12-10\", \"2020-12-11\", \"2020-12-14\", \"2020-12-15\", \"2020-12-16\", \"2020-12-17\", \"2020-12-18\", \"2020-12-21\", \"2020-12-22\", \"2020-12-23\", \"2020-12-24\", \"2020-12-28\", \"2020-12-29\", \"2020-12-30\", \"2020-12-31\", \"2021-01-04\", \"2021-01-05\", \"2021-01-06\", \"2021-01-07\", \"2021-01-08\", \"2021-01-11\", \"2021-01-12\", \"2021-01-13\", \"2021-01-14\", \"2021-01-15\", \"2021-01-18\", \"2021-01-19\", \"2021-01-20\", \"2021-01-21\", \"2021-01-22\", \"2021-01-25\", \"2021-01-26\", \"2021-01-27\", \"2021-01-28\", \"2021-01-29\", \"2021-02-01\", \"2021-02-02\", \"2021-02-03\", \"2021-02-04\", \"2021-02-05\", \"2021-02-08\", \"2021-02-09\", \"2021-02-10\", \"2021-02-11\", \"2021-02-12\", \"2021-02-17\", \"2021-02-18\", \"2021-02-19\", \"2021-02-22\", \"2021-02-23\", \"2021-02-24\", \"2021-02-25\", \"2021-02-26\", \"2021-03-01\", \"2021-03-02\", \"2021-03-03\", \"2021-03-04\", \"2021-03-05\", \"2021-03-08\", \"2021-03-09\", \"2021-03-10\", \"2021-03-11\", \"2021-03-12\", \"2021-03-15\", \"2021-03-16\", \"2021-03-17\", \"2021-03-18\", \"2021-03-19\", \"2021-03-22\", \"2021-03-23\", \"2021-03-24\", \"2021-03-25\", \"2021-03-26\", \"2021-03-29\", \"2021-03-30\", \"2021-03-31\", \"2021-04-01\", \"2021-04-05\", \"2021-04-06\", \"2021-04-07\", \"2021-04-08\", \"2021-04-09\", \"2021-04-12\", \"2021-04-13\", \"2021-04-14\", \"2021-04-15\", \"2021-04-16\", \"2021-04-19\", \"2021-04-20\", \"2021-04-22\", \"2021-04-23\", \"2021-04-26\", \"2021-04-27\", \"2021-04-28\", \"2021-04-29\", \"2021-04-30\", \"2021-05-03\", \"2021-05-04\", \"2021-05-05\", \"2021-05-06\", \"2021-05-07\", \"2021-05-10\", \"2021-05-11\", \"2021-05-12\", \"2021-05-13\", \"2021-05-14\", \"2021-05-17\", \"2021-05-18\", \"2021-05-19\", \"2021-05-20\", \"2021-05-21\", \"2021-05-24\", \"2021-05-25\", \"2021-05-26\", \"2021-05-27\", \"2021-05-28\", \"2021-05-31\", \"2021-06-01\", \"2021-06-02\", \"2021-06-04\", \"2021-06-07\", \"2021-06-08\", \"2021-06-09\", \"2021-06-10\", \"2021-06-11\", \"2021-06-14\", \"2021-06-15\", \"2021-06-16\", \"2021-06-17\", \"2021-06-18\", \"2021-06-21\", \"2021-06-22\", \"2021-06-23\", \"2021-06-24\", \"2021-06-25\", \"2021-06-28\", \"2021-06-29\", \"2021-06-30\", \"2021-07-01\", \"2021-07-02\", \"2021-07-05\", \"2021-07-06\", \"2021-07-07\", \"2021-07-08\", \"2021-07-09\", \"2021-07-12\", \"2021-07-13\", \"2021-07-14\", \"2021-07-15\", \"2021-07-16\", \"2021-07-19\", \"2021-07-20\", \"2021-07-21\", \"2021-07-22\", \"2021-07-23\", \"2021-07-26\", \"2021-07-27\", \"2021-07-28\", \"2021-07-29\", \"2021-07-30\", \"2021-08-02\", \"2021-08-03\", \"2021-08-04\", \"2021-08-05\", \"2021-08-06\", \"2021-08-09\", \"2021-08-10\", \"2021-08-11\", \"2021-08-12\", \"2021-08-13\", \"2021-08-16\", \"2021-08-17\", \"2021-08-18\", \"2021-08-19\", \"2021-08-20\", \"2021-08-23\", \"2021-08-24\", \"2021-08-25\", \"2021-08-26\", \"2021-08-27\", \"2021-08-30\", \"2021-08-31\", \"2021-09-01\", \"2021-09-02\", \"2021-09-03\"], \"y\": [-1.62765393587953, -1.6920220593064035, -1.7162863103608903, -1.7140183155396493, -1.6892901306421595, -1.6963689547387013, -1.6754374181573901, -1.6813260276456892, -1.685774568314092, -1.6789262915128487, -1.6377253320111087, -1.7219676544236129, -1.698422302078112, -1.6778564612065856, -1.7017464987940722, -1.6693750464218948, -1.6162219699953975, -1.6351330945651983, -1.647529270566122, -1.6385089656749323, -1.7007942135373821, -1.7060780622633824, -1.707888369596912, -1.7107599894794892, -1.654726207562718, -1.6465099789526698, -1.5822491792667108, -1.5787421346958588, -1.5856517393490528, -1.5968826861628997, -1.5740840571999553, -1.564349964254108, -1.484608424754262, -1.452870693518915, -1.4486532679962922, -1.4357971331057329, -1.4078401503730964, -1.4324456795666836, -1.4007749546880996, -1.4244548875976042, -1.4033297140022616, -1.4131319490058318, -1.3349872050586462, -1.3319537477889738, -1.3612678931712767, -1.3584553297387258, -1.3097116122974413, -1.2724123534508702, -1.2619610653474798, -1.2501327398275892, -1.2019653906245504, -1.1823143568779657, -1.1666360050966786, -1.0970215110755521, -1.0329651375627642, -0.9451595533817845, -0.9682267756222573, -0.9692057498515553, -1.1834455150361807, -0.9735486703304862, -1.0043579660293462, -1.0290747939172151, -1.0139370357938706, -1.0556695033458565, -1.0524997619607375, -1.0748497890436672, -1.0898313882847275, -1.1375296929904337, -1.138643815634218, -1.0604865789764497, -1.0590232282868302, -0.9693482803222943, -0.8047630647505305, -0.8577963247255295, -0.8412236084366173, -0.8079379167899781, -0.826527070137035, -0.8466340878198884, -0.6018916661961613, -0.6449222399477859, -0.5695883558817069, -0.5393730317860074, -0.2952768240096947, -0.2643363548497167, -0.12148050578511313, 0.13591021745311538, 0.211224226752358, -0.18483274470142164, -0.11736075054522807, -0.0991588712262365, 0.06923832462469492, -0.045903581713153126, -0.04519490431282528, 0.08982858306690607, -0.054257230139611694, -0.14698039948632546, -0.06943303424518595, 0.04972357499355673, -0.1138758521431365, -0.15356405796340852, -0.06091470917922785, 0.16993638612701858, 0.02195000796629341, 0.10285961590562315, 0.18889748153915034, 0.2357014217372314, 0.23518467779949215, 0.4237496513347475, 0.6001802279408339, 0.5375576768926524, 0.6321195460969475, 0.6234337051390856, 0.7752155959150265, 0.7865550021707496, 0.8555102217833992, 0.7868105348872143, 0.5345497728946274, 0.6395640659032731, 0.684414032596124, 0.6050961095551264, 0.6587841011347552, 0.6560022016281803, 0.8033389588386054, 0.6748077060085093, 0.7138599192900263, 0.8503456216584147, 0.9476439623308021, 0.9847353879013152, 0.9400995008398146, 0.934235308922199, 0.9369473628196066, 0.9125854414823817, 0.962349018387601, 0.9671944865422447, 0.9640326950638597, 0.9114610975299393, 0.868877989957368, 0.8976787985048174, 0.821835552557253, 0.8943642552470352, 1.0493056660994369, 1.0682627865582017, 1.0525202676725585, 1.0721332554369145, 1.0914742428208564, 1.0914742428208564, 0.9871691950630174, 1.0318363139009765, 1.0767152409683594, 1.1485335627063695, 1.2374720085970072, 1.2324652709057509, 1.2468494914407662, 1.2128170764115704, 1.0140978005745063, 1.0482568462609716, 0.9894695573616773, 0.8954278391980071, 0.9946074685140529, 1.0372854071169564, 1.0153107292019898, 0.9633790991601926, 1.0963475356490704, 1.2093140067940853, 1.1538276327410293, 1.2076473656322575, 1.1540456873257454, 1.1944579025093334, 1.2685646616859023, 1.2438711156677544, 1.2025770286871251, 1.0108474244210803, 1.1452014160836752, 0.85242338656851, 0.830305610332323, 0.5850526911261479, 0.6625688245908326, 0.5244329487245646, 0.5625635406753661, 0.5708961786340269, 0.6202741850626248, 0.6292257800456097, 0.47145022744237797, 0.474419517607693, 0.46549234019539165, 0.5307605066347015, 0.4799600347511194, 0.42330843151098546, 0.2876387302838397, 0.4290516712761413, 0.42354863226446215, 0.4336291140037379, 0.5376990716624286, 0.5603835626786858, 0.48414509279632345, 0.42399269134062856, 0.32435991734072084, 0.17963016168871282, 0.1619802330372836, 0.1761617309505707, 0.23141471845592262, 0.11158520639715781, 0.24097675270601623, 0.3447951526016106, 0.3079143995595596, 0.2566812256094308, 0.253297972443444, 0.2770375296534577, 0.3812267359131654, 0.4330856810933909, 0.329766989621105, 0.34088379848826356, 0.27950143289065443, 0.2428870017242078, 0.2324408242751472, 0.18578566090309634, 0.19802227091885016, 0.16503470077475269, 0.1178292902865823, 0.24356047239471126, 0.27503244960493395, 0.26954076760287576, 0.6043999248653822, 0.5285038688230814, 0.6019536249930963, 0.5608963316630569, 0.6038161745708812, 0.665816361491853, 0.6056486280731701, 0.6915280634224903, 0.7550586073898422, 0.8428170599808953, 0.9917369843324371, 0.9510550401703592, 1.0101978034707804, 0.9413391184399069, 1.029422949356591, 1.0345744889205115, 0.9991054121743053, 1.0059735637423848, 1.0755136693504956, 1.136990298127957, 1.1714219120453178, 1.0736607732308892, 1.0883294868569022, 1.037351845623238, 1.0716199186020607, 1.0895338977271702, 1.07198220720896, 1.1586526582783565, 1.196127950774047, 1.2554240337043452]}, {\"line\": {\"color\": \"rgba(219, 64, 82, 1.0)\", \"dash\": \"solid\", \"shape\": \"linear\", \"width\": 1.3}, \"mode\": \"lines\", \"name\": \"31964074000171\", \"text\": \"\", \"type\": \"scatter\", \"x\": [\"2020-09-03\", \"2020-09-04\", \"2020-09-08\", \"2020-09-09\", \"2020-09-10\", \"2020-09-11\", \"2020-09-14\", \"2020-09-15\", \"2020-09-16\", \"2020-09-17\", \"2020-09-18\", \"2020-09-21\", \"2020-09-22\", \"2020-09-23\", \"2020-09-24\", \"2020-09-25\", \"2020-09-28\", \"2020-09-29\", \"2020-09-30\", \"2020-10-01\", \"2020-10-02\", \"2020-10-05\", \"2020-10-06\", \"2020-10-07\", \"2020-10-08\", \"2020-10-09\", \"2020-10-13\", \"2020-10-14\", \"2020-10-15\", \"2020-10-16\", \"2020-10-19\", \"2020-10-20\", \"2020-10-21\", \"2020-10-22\", \"2020-10-23\", \"2020-10-26\", \"2020-10-27\", \"2020-10-28\", \"2020-10-29\", \"2020-10-30\", \"2020-11-03\", \"2020-11-04\", \"2020-11-05\", \"2020-11-06\", \"2020-11-09\", \"2020-11-10\", \"2020-11-11\", \"2020-11-12\", \"2020-11-13\", \"2020-11-16\", \"2020-11-17\", \"2020-11-18\", \"2020-11-19\", \"2020-11-20\", \"2020-11-23\", \"2020-11-24\", \"2020-11-25\", \"2020-11-26\", \"2020-11-27\", \"2020-11-30\", \"2020-12-01\", \"2020-12-02\", \"2020-12-03\", \"2020-12-04\", \"2020-12-07\", \"2020-12-08\", \"2020-12-09\", \"2020-12-10\", \"2020-12-11\", \"2020-12-14\", \"2020-12-15\", \"2020-12-16\", \"2020-12-17\", \"2020-12-18\", \"2020-12-21\", \"2020-12-22\", \"2020-12-23\", \"2020-12-24\", \"2020-12-28\", \"2020-12-29\", \"2020-12-30\", \"2020-12-31\", \"2021-01-04\", \"2021-01-05\", \"2021-01-06\", \"2021-01-07\", \"2021-01-08\", \"2021-01-11\", \"2021-01-12\", \"2021-01-13\", \"2021-01-14\", \"2021-01-15\", \"2021-01-18\", \"2021-01-19\", \"2021-01-20\", \"2021-01-21\", \"2021-01-22\", \"2021-01-25\", \"2021-01-26\", \"2021-01-27\", \"2021-01-28\", \"2021-01-29\", \"2021-02-01\", \"2021-02-02\", \"2021-02-03\", \"2021-02-04\", \"2021-02-05\", \"2021-02-08\", \"2021-02-09\", \"2021-02-10\", \"2021-02-11\", \"2021-02-12\", \"2021-02-17\", \"2021-02-18\", \"2021-02-19\", \"2021-02-22\", \"2021-02-23\", \"2021-02-24\", \"2021-02-25\", \"2021-02-26\", \"2021-03-01\", \"2021-03-02\", \"2021-03-03\", \"2021-03-04\", \"2021-03-05\", \"2021-03-08\", \"2021-03-09\", \"2021-03-10\", \"2021-03-11\", \"2021-03-12\", \"2021-03-15\", \"2021-03-16\", \"2021-03-17\", \"2021-03-18\", \"2021-03-19\", \"2021-03-22\", \"2021-03-23\", \"2021-03-24\", \"2021-03-25\", \"2021-03-26\", \"2021-03-29\", \"2021-03-30\", \"2021-03-31\", \"2021-04-01\", \"2021-04-05\", \"2021-04-06\", \"2021-04-07\", \"2021-04-08\", \"2021-04-09\", \"2021-04-12\", \"2021-04-13\", \"2021-04-14\", \"2021-04-15\", \"2021-04-16\", \"2021-04-19\", \"2021-04-20\", \"2021-04-22\", \"2021-04-23\", \"2021-04-26\", \"2021-04-27\", \"2021-04-28\", \"2021-04-29\", \"2021-04-30\", \"2021-05-03\", \"2021-05-04\", \"2021-05-05\", \"2021-05-06\", \"2021-05-07\", \"2021-05-10\", \"2021-05-11\", \"2021-05-12\", \"2021-05-13\", \"2021-05-14\", \"2021-05-17\", \"2021-05-18\", \"2021-05-19\", \"2021-05-20\", \"2021-05-21\", \"2021-05-24\", \"2021-05-25\", \"2021-05-26\", \"2021-05-27\", \"2021-05-28\", \"2021-05-31\", \"2021-06-01\", \"2021-06-02\", \"2021-06-04\", \"2021-06-07\", \"2021-06-08\", \"2021-06-09\", \"2021-06-10\", \"2021-06-11\", \"2021-06-14\", \"2021-06-15\", \"2021-06-16\", \"2021-06-17\", \"2021-06-18\", \"2021-06-21\", \"2021-06-22\", \"2021-06-23\", \"2021-06-24\", \"2021-06-25\", \"2021-06-28\", \"2021-06-29\", \"2021-06-30\", \"2021-07-01\", \"2021-07-02\", \"2021-07-05\", \"2021-07-06\", \"2021-07-07\", \"2021-07-08\", \"2021-07-09\", \"2021-07-12\", \"2021-07-13\", \"2021-07-14\", \"2021-07-15\", \"2021-07-16\", \"2021-07-19\", \"2021-07-20\", \"2021-07-21\", \"2021-07-22\", \"2021-07-23\", \"2021-07-26\", \"2021-07-27\", \"2021-07-28\", \"2021-07-29\", \"2021-07-30\", \"2021-08-02\", \"2021-08-03\", \"2021-08-04\", \"2021-08-05\", \"2021-08-06\", \"2021-08-09\", \"2021-08-10\", \"2021-08-11\", \"2021-08-12\", \"2021-08-13\", \"2021-08-16\", \"2021-08-17\", \"2021-08-18\", \"2021-08-19\", \"2021-08-20\", \"2021-08-23\", \"2021-08-24\", \"2021-08-25\", \"2021-08-26\", \"2021-08-27\", \"2021-08-30\", \"2021-08-31\", \"2021-09-01\", \"2021-09-02\", \"2021-09-03\"], \"y\": [-1.7937863910163496, -1.8220246508484426, -1.8000344528600931, -1.8423555274946837, -1.8206235703137845, -1.7779647961617577, -1.592701847662347, -1.5492044116572747, -1.5614199467751262, -1.6142171557043015, -1.4088523951210281, -1.5288573949605684, -1.5265642662520944, -1.3560359422855282, -1.532788118020139, -1.4501181587636318, -1.2963382410110915, -1.2823423341726383, -1.2115632467111526, -1.164344287531393, -1.1485947021327243, -1.2543443127840168, -1.172771256188005, -1.1619667339435602, -1.106345636954057, -1.1893775058036995, -0.9744777000222259, -0.9656807517472451, -1.0651909913511997, -1.0171253002931615, -1.1738296710358527, -1.12465031649568, -0.9985983846720476, -0.9509858565693927, -0.8762015535077257, -1.0167776684369767, -0.9554640998024536, -1.0168248470460304, -0.9479682879034789, -1.099091305040895, -1.058039707452549, -1.077384178706867, -1.033986686860447, -1.2774742466437132, -1.169029868335821, -1.336996269676542, -1.241941925543466, -1.1728041570601082, -1.0920790738847181, -1.0970222747254257, -1.2373246295679314, -1.2769770089351358, -1.3212001264399933, -1.198299849855374, -1.0817736516623657, -1.1822690551159003, -1.416135282508091, -1.3899815722707622, -1.3231276209283007, -1.3956101044850895, -1.4919767588752628, -1.405470433777292, -1.4906197530938003, -1.4407749318575036, -1.4747776727905395, -1.4457398596892228, -1.334951449436773, -1.334951449436773, -1.4607097564961633, -1.364628656845, -1.4152078503774852, -1.295227060613644, -1.2642158159573091, -1.311995331505168, -1.3523504238388018, -1.301404975314978, -1.145929731492368, -1.146290399543159, -1.0405078880197636, -1.0853368781882562, -1.1147130115781814, -1.0023161832197065, -0.8562313449122757, -0.7121149719904902, -0.6775485708334984, -0.46215152734344594, -0.24040089091045297, -0.056590546952954526, -0.3983151446668995, -0.32178709538376526, -0.4194089490832311, -0.2886975088443847, -0.33213535081696766, -0.06429369642329755, -0.0745742877987802, 0.14146525385404182, 0.2511263436585802, 0.1403056533051979, -0.18314468265454004, -0.049341801980338905, -0.17445823164813187, -0.07852549630701842, -0.07594557131719307, -0.050010993303493116, 0.0776232842369504, 0.10220147724035872, -0.12334765799262189, -0.013442605117582208, -0.005590470566017157, 0.03928445666918483, 0.08697954733768351, 0.13189979086842546, 0.40127661236985174, 0.4509885885753921, 0.39577409670339053, 0.46123565830759816, 0.35908527891015857, 0.26806905124936664, 0.47261811851295066, 0.37388135978900733, 0.42931498388463923, 0.574792087214917, 0.8031769051604877, 0.5537038697391318, 0.535438919552501, 0.6002449467993328, 0.4677345117047322, 0.4098792592680719, 0.3072527483818944, 0.24822113457475403, 0.3224411566412931, 0.4550384996999396, 0.42646378189275447, 0.4447982584506227, 0.3045319083360791, 0.26937887842177544, 0.22196561786525534, 0.35697155307032263, 0.3309494463214061, 0.6238975699856502, 0.5979319534133635, 0.5679102180048109, 0.4223381366852524, 0.593504613416386, 0.5168399944754639, 0.4356089827950921, 0.5620023387631908, 0.5056574225874184, 0.656581172178701, 0.48575115342265957, 0.37838815849596935, 0.5430967527273054, 0.4655978173315416, 0.5163837276642215, 0.4300381822997362, 0.4911475172187503, 0.17922179806269764, 0.40628685649710966, 0.46996556329602995, 0.5775526566157246, 0.343130218253638, 0.5435424664286272, 0.658019498983663, 0.6436151247141947, 0.6390443865765415, 0.36746941435592057, 0.3496464532435803, 0.32321587906364707, 0.33278134204926346, 0.19330399209402435, 0.275833036294543, 0.3062824830404369, 0.1879206644925399, 0.327577417316417, 0.3835324891963253, 0.5058523447353498, 0.2812685086744538, 0.6299718159013006, 0.5672037804113501, 0.8598682116501006, 0.8092716365248057, 0.7816982226176662, 0.6870933168129421, 0.8146226840253579, 0.7125983211757856, 0.43233689794875646, 0.37983393455499254, 0.4887426496993608, 0.5935263404073978, 0.6371268244269812, 0.8561243407132293, 0.9618652605681162, 0.8179804352933965, 0.9060542076000556, 0.8612935022604563, 0.7785273234723269, 0.9225325783543676, 0.7160678112547396, 1.0642682938324626, 1.033913825075848, 0.8687247539575691, 1.1323327489598516, 0.8899762342515283, 0.9391605549610738, 1.0383535804962594, 1.132044711136156, 1.1530416752496935, 1.3042944335620068, 1.5161561852288976, 1.5429846737299284, 1.5864504504052404, 1.4914929465749585, 1.407732913140845, 1.3315667734508445, 1.2169705528308306, 1.4629852720543237, 1.3466012304596469, 1.6307822028651555, 1.4328859402493002, 1.4497938846544687, 1.449954043616782, 1.4759047616809473, 1.217634777984612, 1.0804145520098831, 0.9148337742822267, 0.9770971228095384, 1.1466570437481634, 1.0673572511831289, 1.2503866650065563, 1.1523041990976446, 1.2482630068279719, 1.2853373235188659, 1.187125116435057, 1.1190085165292414, 1.0537902972243616, 1.1328535759729559, 1.0100948352154988, 1.0772554475168088, 0.9970418797869466, 1.2738834746287624, 1.3153547135292163, 1.1606181874009969, 1.261286786011451, 1.006632173619434, 1.0292468674065713, 1.2197062913847672, 1.121212254188981, 1.316086602740719, 1.3386733618251272, 1.4284623248793542, 1.536579556779731, 1.5642529148455238]}, {\"line\": {\"color\": \"rgba(0, 128, 128, 1.0)\", \"dash\": \"solid\", \"shape\": \"linear\", \"width\": 1.3}, \"mode\": \"lines\", \"name\": \"19959703000170\", \"text\": \"\", \"type\": \"scatter\", \"x\": [\"2020-09-03\", \"2020-09-04\", \"2020-09-08\", \"2020-09-09\", \"2020-09-10\", \"2020-09-11\", \"2020-09-14\", \"2020-09-15\", \"2020-09-16\", \"2020-09-17\", \"2020-09-18\", \"2020-09-21\", \"2020-09-22\", \"2020-09-23\", \"2020-09-24\", \"2020-09-25\", \"2020-09-28\", \"2020-09-29\", \"2020-09-30\", \"2020-10-01\", \"2020-10-02\", \"2020-10-05\", \"2020-10-06\", \"2020-10-07\", \"2020-10-08\", \"2020-10-09\", \"2020-10-13\", \"2020-10-14\", \"2020-10-15\", \"2020-10-16\", \"2020-10-19\", \"2020-10-20\", \"2020-10-21\", \"2020-10-22\", \"2020-10-23\", \"2020-10-26\", \"2020-10-27\", \"2020-10-28\", \"2020-10-29\", \"2020-10-30\", \"2020-11-03\", \"2020-11-04\", \"2020-11-05\", \"2020-11-06\", \"2020-11-09\", \"2020-11-10\", \"2020-11-11\", \"2020-11-12\", \"2020-11-13\", \"2020-11-16\", \"2020-11-17\", \"2020-11-18\", \"2020-11-19\", \"2020-11-20\", \"2020-11-23\", \"2020-11-24\", \"2020-11-25\", \"2020-11-26\", \"2020-11-27\", \"2020-11-30\", \"2020-12-01\", \"2020-12-02\", \"2020-12-03\", \"2020-12-04\", \"2020-12-07\", \"2020-12-08\", \"2020-12-09\", \"2020-12-10\", \"2020-12-11\", \"2020-12-14\", \"2020-12-15\", \"2020-12-16\", \"2020-12-17\", \"2020-12-18\", \"2020-12-21\", \"2020-12-22\", \"2020-12-23\", \"2020-12-24\", \"2020-12-28\", \"2020-12-29\", \"2020-12-30\", \"2020-12-31\", \"2021-01-04\", \"2021-01-05\", \"2021-01-06\", \"2021-01-07\", \"2021-01-08\", \"2021-01-11\", \"2021-01-12\", \"2021-01-13\", \"2021-01-14\", \"2021-01-15\", \"2021-01-18\", \"2021-01-19\", \"2021-01-20\", \"2021-01-21\", \"2021-01-22\", \"2021-01-25\", \"2021-01-26\", \"2021-01-27\", \"2021-01-28\", \"2021-01-29\", \"2021-02-01\", \"2021-02-02\", \"2021-02-03\", \"2021-02-04\", \"2021-02-05\", \"2021-02-08\", \"2021-02-09\", \"2021-02-10\", \"2021-02-11\", \"2021-02-12\", \"2021-02-17\", \"2021-02-18\", \"2021-02-19\", \"2021-02-22\", \"2021-02-23\", \"2021-02-24\", \"2021-02-25\", \"2021-02-26\", \"2021-03-01\", \"2021-03-02\", \"2021-03-03\", \"2021-03-04\", \"2021-03-05\", \"2021-03-08\", \"2021-03-09\", \"2021-03-10\", \"2021-03-11\", \"2021-03-12\", \"2021-03-15\", \"2021-03-16\", \"2021-03-17\", \"2021-03-18\", \"2021-03-19\", \"2021-03-22\", \"2021-03-23\", \"2021-03-24\", \"2021-03-25\", \"2021-03-26\", \"2021-03-29\", \"2021-03-30\", \"2021-03-31\", \"2021-04-01\", \"2021-04-05\", \"2021-04-06\", \"2021-04-07\", \"2021-04-08\", \"2021-04-09\", \"2021-04-12\", \"2021-04-13\", \"2021-04-14\", \"2021-04-15\", \"2021-04-16\", \"2021-04-19\", \"2021-04-20\", \"2021-04-22\", \"2021-04-23\", \"2021-04-26\", \"2021-04-27\", \"2021-04-28\", \"2021-04-29\", \"2021-04-30\", \"2021-05-03\", \"2021-05-04\", \"2021-05-05\", \"2021-05-06\", \"2021-05-07\", \"2021-05-10\", \"2021-05-11\", \"2021-05-12\", \"2021-05-13\", \"2021-05-14\", \"2021-05-17\", \"2021-05-18\", \"2021-05-19\", \"2021-05-20\", \"2021-05-21\", \"2021-05-24\", \"2021-05-25\", \"2021-05-26\", \"2021-05-27\", \"2021-05-28\", \"2021-05-31\", \"2021-06-01\", \"2021-06-02\", \"2021-06-04\", \"2021-06-07\", \"2021-06-08\", \"2021-06-09\", \"2021-06-10\", \"2021-06-11\", \"2021-06-14\", \"2021-06-15\", \"2021-06-16\", \"2021-06-17\", \"2021-06-18\", \"2021-06-21\", \"2021-06-22\", \"2021-06-23\", \"2021-06-24\", \"2021-06-25\", \"2021-06-28\", \"2021-06-29\", \"2021-06-30\", \"2021-07-01\", \"2021-07-02\", \"2021-07-05\", \"2021-07-06\", \"2021-07-07\", \"2021-07-08\", \"2021-07-09\", \"2021-07-12\", \"2021-07-13\", \"2021-07-14\", \"2021-07-15\", \"2021-07-16\", \"2021-07-19\", \"2021-07-20\", \"2021-07-21\", \"2021-07-22\", \"2021-07-23\", \"2021-07-26\", \"2021-07-27\", \"2021-07-28\", \"2021-07-29\", \"2021-07-30\", \"2021-08-02\", \"2021-08-03\", \"2021-08-04\", \"2021-08-05\", \"2021-08-06\", \"2021-08-09\", \"2021-08-10\", \"2021-08-11\", \"2021-08-12\", \"2021-08-13\", \"2021-08-16\", \"2021-08-17\", \"2021-08-18\", \"2021-08-19\", \"2021-08-20\", \"2021-08-23\", \"2021-08-24\", \"2021-08-25\", \"2021-08-26\", \"2021-08-27\", \"2021-08-30\", \"2021-08-31\", \"2021-09-01\", \"2021-09-02\", \"2021-09-03\"], \"y\": [-1.891795260804448, -1.8704785288407502, -1.8165174575234309, -1.7933701658352166, -1.7075564495205067, -1.7210281761064574, -1.7195993045691353, -1.6149267406455934, -1.582895608872814, -1.6455107010967047, -1.5020293256182138, -1.6041281559517557, -1.615634915726375, -1.7168860178764485, -1.7223691578320082, -1.7785641008411266, -1.4990927212556653, -1.6060536857313321, -1.6588140106433833, -1.615317514628818, -1.6211258590247688, -1.5625200880665941, -1.522464135477196, -1.4974163031033534, -1.4623828070685985, -1.286322259347596, -1.3642449001558776, -1.361709292820004, -1.3046433636286798, -1.2728802922685185, -1.2816720444757295, -1.2185629053443494, -1.2031804801849408, -1.1766150100551296, -1.1942095002169346, -1.2807922367345352, -1.313578610214384, -1.5064577431178574, -1.4886007052193249, -1.5840738893671864, -1.449649827599126, -1.45255002913739, -1.321723050348777, -1.2617991775057222, -1.0931230820727713, -1.0915501348666827, -1.1203622420782047, -1.2355588977631302, -1.1928678209430579, -1.1035370237988154, -1.1581447377469702, -1.2308537017743306, -1.1603049439916129, -1.276719872941724, -1.3582144441076927, -1.289247576458349, -1.2822692224982013, -1.1041042302392798, -1.059397680787266, -1.142370791231124, -0.9411059852849307, -0.8742829391598884, -0.6854494243088489, -0.5681443304301937, -0.5666385394977496, -0.5464352926875815, -0.6183316959542322, -0.6102440536285755, -0.6341470686643756, -0.6024274522654408, -0.5799083207324879, -0.5573021208595108, -0.5294495143693203, -0.5744753237702016, -0.6153929005745044, -0.6979120820826652, -0.7044227682156857, -0.7151788152371217, -0.7475625742980208, -0.792677413095125, -0.7288031835386163, -0.7246781855085018, -0.8146025068506435, -0.6699777346819848, -0.4578256429789248, -0.5288641563415917, -0.4457151410732079, -0.423667581593918, -0.3749848878588504, -0.35185735876236846, -0.33266053110273747, -0.34509098667296884, -0.4872645663514947, -0.5298729223717625, -0.4713259856546184, -0.4857615285630943, -0.4504838471764443, -0.47512304909640046, -0.29842973050233723, -0.4039108704737054, -0.4133803624250356, -0.462364096810976, -0.49686019956970584, -0.34035758724663917, -0.3016626625930782, -0.37371807110681593, -0.3278619045199324, -0.23782199073241522, -0.280544638640919, -0.22801943223005633, -0.24619665886433237, -0.18805396545646394, -0.12002508312297236, -0.19065582583033236, -0.14881860054379428, -0.12832035083623047, -0.07643463526949776, 0.0029308433734039335, 0.17126131894053784, 0.062190019092998594, -0.04203778495043387, 0.09627474208648074, 0.2924846874198045, 0.23329967922884656, 0.319518849980697, 0.25402226865510164, 0.346239460735447, 0.25020667930067514, 0.3135111958419594, 0.40403448251446655, 0.27310380537376944, 0.2669275515045312, 0.2500709512157455, 0.420777827017025, 0.548462988090736, 0.46033124458337993, 0.4046192733050935, 0.41152234442581387, 0.43452232693826676, 0.478114076626443, 0.38063261762553985, 0.6095142318982635, 0.6301230545138728, 0.4660120602811559, 0.4007009041649663, 0.36370089674758055, 0.36789206349665965, 0.6166218149903291, 0.616546145049908, 0.5054631707593997, 0.354726349829152, 0.559768777293213, 0.6335804796306318, 0.6321360435671532, 0.6731126002544443, 0.5570710155222879, 0.6870984697830477, 0.6335782183475902, 0.7487390013960624, 0.7346807708101321, 0.8100177660492752, 0.7584800849387242, 0.7025270634433355, 0.6676569802412566, 0.6558841402736343, 0.693922613182695, 0.7395660109212296, 0.8122348454787535, 0.777297370931794, 0.9870288306823741, 0.8794180117874173, 0.9071127883866809, 0.9146164920549289, 0.9138090862530182, 0.8970919573030097, 0.937568489374707, 0.9885090001281513, 0.9582678016388049, 0.9580124938404959, 0.9324408831586338, 1.0291285934851468, 1.1425803448030711, 1.172721446384902, 1.0797492412809133, 1.0832892351677086, 1.1371970730716008, 1.1134791395812824, 1.092911313899458, 1.1648792784702253, 1.1010716200644086, 0.996888919035945, 0.9430141316361699, 0.9574322128403425, 0.9917348800819469, 1.0072469112537814, 1.1245315117757906, 1.2493454566161237, 1.2533855006697354, 1.1886305179768644, 1.1605273051129938, 1.2561057602905823, 1.280135891372337, 1.3777586486243094, 1.3646772284342419, 1.3607353010685306, 1.31860617991305, 1.3208248946206609, 1.2715356187363012, 1.0913914761833754, 1.059996473991631, 1.018580627940606, 1.0052755962416404, 1.0576697414980563, 1.1185110564754257, 1.1294066591546692, 1.0221957807434074, 1.0767904610138266, 0.8733504272602749, 1.0024953040275082, 1.108506603724293, 1.0379670673771673, 0.9185502941324227, 0.9190610119339251, 0.899360100847276, 0.9226917893082524, 1.0793079716975646, 0.823312947752616, 0.8373243812776375, 0.8203301876648015, 0.7578441917064839, 0.8268578091469765, 0.876826172602351, 0.9185616644256825, 0.9864480003309734, 1.0139958063081511, 1.043722645947025, 1.0592731828086182, 1.1517424760090589, 1.1245408124201641, 1.1932270803952802, 0.9768014435296911, 1.1426172918683586, 1.0678438926821807, 1.1466687828688953, 1.0701708040343052, 1.1257121314844278, 1.2147031880987667, 1.248709895549756, 1.300029509766322, 1.2721562962165498, 1.2181689429135045, 1.2794816268123375]}, {\"line\": {\"color\": \"rgba(255, 255, 51, 1.0)\", \"dash\": \"solid\", \"shape\": \"linear\", \"width\": 1.3}, \"mode\": \"lines\", \"name\": \"21732619000160\", \"text\": \"\", \"type\": \"scatter\", \"x\": [\"2020-09-03\", \"2020-09-04\", \"2020-09-08\", \"2020-09-09\", \"2020-09-10\", \"2020-09-11\", \"2020-09-14\", \"2020-09-15\", \"2020-09-16\", \"2020-09-17\", \"2020-09-18\", \"2020-09-21\", \"2020-09-22\", \"2020-09-23\", \"2020-09-24\", \"2020-09-25\", \"2020-09-28\", \"2020-09-29\", \"2020-09-30\", \"2020-10-01\", \"2020-10-02\", \"2020-10-05\", \"2020-10-06\", \"2020-10-07\", \"2020-10-08\", \"2020-10-09\", \"2020-10-13\", \"2020-10-14\", \"2020-10-15\", \"2020-10-16\", \"2020-10-19\", \"2020-10-20\", \"2020-10-21\", \"2020-10-22\", \"2020-10-23\", \"2020-10-26\", \"2020-10-27\", \"2020-10-28\", \"2020-10-29\", \"2020-10-30\", \"2020-11-03\", \"2020-11-04\", \"2020-11-05\", \"2020-11-06\", \"2020-11-09\", \"2020-11-10\", \"2020-11-11\", \"2020-11-12\", \"2020-11-13\", \"2020-11-16\", \"2020-11-17\", \"2020-11-18\", \"2020-11-19\", \"2020-11-20\", \"2020-11-23\", \"2020-11-24\", \"2020-11-25\", \"2020-11-26\", \"2020-11-27\", \"2020-11-30\", \"2020-12-01\", \"2020-12-02\", \"2020-12-03\", \"2020-12-04\", \"2020-12-07\", \"2020-12-08\", \"2020-12-09\", \"2020-12-10\", \"2020-12-11\", \"2020-12-14\", \"2020-12-15\", \"2020-12-16\", \"2020-12-17\", \"2020-12-18\", \"2020-12-21\", \"2020-12-22\", \"2020-12-23\", \"2020-12-24\", \"2020-12-28\", \"2020-12-29\", \"2020-12-30\", \"2020-12-31\", \"2021-01-04\", \"2021-01-05\", \"2021-01-06\", \"2021-01-07\", \"2021-01-08\", \"2021-01-11\", \"2021-01-12\", \"2021-01-13\", \"2021-01-14\", \"2021-01-15\", \"2021-01-18\", \"2021-01-19\", \"2021-01-20\", \"2021-01-21\", \"2021-01-22\", \"2021-01-25\", \"2021-01-26\", \"2021-01-27\", \"2021-01-28\", \"2021-01-29\", \"2021-02-01\", \"2021-02-02\", \"2021-02-03\", \"2021-02-04\", \"2021-02-05\", \"2021-02-08\", \"2021-02-09\", \"2021-02-10\", \"2021-02-11\", \"2021-02-12\", \"2021-02-17\", \"2021-02-18\", \"2021-02-19\", \"2021-02-22\", \"2021-02-23\", \"2021-02-24\", \"2021-02-25\", \"2021-02-26\", \"2021-03-01\", \"2021-03-02\", \"2021-03-03\", \"2021-03-04\", \"2021-03-05\", \"2021-03-08\", \"2021-03-09\", \"2021-03-10\", \"2021-03-11\", \"2021-03-12\", \"2021-03-15\", \"2021-03-16\", \"2021-03-17\", \"2021-03-18\", \"2021-03-19\", \"2021-03-22\", \"2021-03-23\", \"2021-03-24\", \"2021-03-25\", \"2021-03-26\", \"2021-03-29\", \"2021-03-30\", \"2021-03-31\", \"2021-04-01\", \"2021-04-05\", \"2021-04-06\", \"2021-04-07\", \"2021-04-08\", \"2021-04-09\", \"2021-04-12\", \"2021-04-13\", \"2021-04-14\", \"2021-04-15\", \"2021-04-16\", \"2021-04-19\", \"2021-04-20\", \"2021-04-22\", \"2021-04-23\", \"2021-04-26\", \"2021-04-27\", \"2021-04-28\", \"2021-04-29\", \"2021-04-30\", \"2021-05-03\", \"2021-05-04\", \"2021-05-05\", \"2021-05-06\", \"2021-05-07\", \"2021-05-10\", \"2021-05-11\", \"2021-05-12\", \"2021-05-13\", \"2021-05-14\", \"2021-05-17\", \"2021-05-18\", \"2021-05-19\", \"2021-05-20\", \"2021-05-21\", \"2021-05-24\", \"2021-05-25\", \"2021-05-26\", \"2021-05-27\", \"2021-05-28\", \"2021-05-31\", \"2021-06-01\", \"2021-06-02\", \"2021-06-04\", \"2021-06-07\", \"2021-06-08\", \"2021-06-09\", \"2021-06-10\", \"2021-06-11\", \"2021-06-14\", \"2021-06-15\", \"2021-06-16\", \"2021-06-17\", \"2021-06-18\", \"2021-06-21\", \"2021-06-22\", \"2021-06-23\", \"2021-06-24\", \"2021-06-25\", \"2021-06-28\", \"2021-06-29\", \"2021-06-30\", \"2021-07-01\", \"2021-07-02\", \"2021-07-05\", \"2021-07-06\", \"2021-07-07\", \"2021-07-08\", \"2021-07-09\", \"2021-07-12\", \"2021-07-13\", \"2021-07-14\", \"2021-07-15\", \"2021-07-16\", \"2021-07-19\", \"2021-07-20\", \"2021-07-21\", \"2021-07-22\", \"2021-07-23\", \"2021-07-26\", \"2021-07-27\", \"2021-07-28\", \"2021-07-29\", \"2021-07-30\", \"2021-08-02\", \"2021-08-03\", \"2021-08-04\", \"2021-08-05\", \"2021-08-06\", \"2021-08-09\", \"2021-08-10\", \"2021-08-11\", \"2021-08-12\", \"2021-08-13\", \"2021-08-16\", \"2021-08-17\", \"2021-08-18\", \"2021-08-19\", \"2021-08-20\", \"2021-08-23\", \"2021-08-24\", \"2021-08-25\", \"2021-08-26\", \"2021-08-27\", \"2021-08-30\", \"2021-08-31\", \"2021-09-01\", \"2021-09-02\", \"2021-09-03\"], \"y\": [-1.8833803386137076, -1.8821149636636323, -1.9102159426539531, -1.901787227194138, -1.8083611503593606, -1.7961465221729116, -1.7876472502228504, -1.7623666740926367, -1.7965262274954203, -1.7800531437726599, -1.7697342570741437, -1.7946629791279962, -1.7868358505850188, -1.8166524663381698, -1.8733260387536126, -1.8469100601553579, -1.8236486993710097, -1.8208450072585918, -1.824820308459046, -1.7525277572027693, -1.778730209580543, -1.8014484710649696, -1.7950408277007626, -1.7995629417006251, -1.7012935331603902, -1.8788350152420523, -1.8718378538343403, -1.8689710322306499, -1.8496079175324063, -1.8720263139332884, -1.6473725922394207, -1.6541682962999822, -1.6872899265962482, -1.6263764661419258, -1.616233970669025, -1.5987879500807622, -1.6115605315650798, -1.6498745625185476, -1.7043738809845617, -1.6918463904663616, -1.6574148232261834, -1.5768866584833965, -1.5137952305801565, -1.505323809876245, -1.287476932741401, -1.0933388930790455, -1.4348258072468902, -1.2046361861933055, -1.2638460787581303, -1.2290543020677451, -1.1883664165674404, -1.0966290536242136, -1.0645806246795881, -1.0761593160789507, -1.0651627157241217, -1.0275505361736295, -1.038851643486364, -1.069024755190233, -1.0509910733082077, -1.0163181286013967, -0.9411986758609113, -0.8926520970719906, -0.8722510592672296, -0.8184220274585567, -0.7634028190644118, -0.679078529471403, -0.6409148952471434, -0.6213401110781632, -0.5674228836566806, -0.5062086297439394, -0.46686967293215675, -0.4214981362043187, -0.3560319253793695, -0.34166161074092155, -0.36115469792119725, -0.3288184727663578, -0.2725858784149519, -0.25353562604845953, -0.24486367637226952, -0.24692838208684417, -0.22040842550296236, -0.19471565092973356, -0.18398085228871122, -0.19832331568100958, -0.20535111345948576, -0.19869466562967453, -0.19944386415110366, -0.2015902668543848, -0.20855307839184592, -0.1854848195808027, -0.13661330958680032, -0.10075947204323493, -0.027713080391170052, -0.028400077796198665, 0.026868863438420675, 0.21778265717149753, 0.24339094963140528, 0.30681937761305933, 0.27204245492062124, 0.1777344219577657, 0.2597182784993162, 0.15220411298707562, 0.16943567897998296, 0.19399954970927405, 0.23433186763373315, 0.2515625052517704, 0.38672553119183256, 0.3942546514010059, 0.40342142488379185, 0.4473493386861966, 0.46328953523262334, 0.4516449292173734, 0.4658620620019964, 0.48305649300003833, 0.4909402524101873, 0.4193374836835557, 0.45987590082952445, 0.5024335333213567, 0.4813807763566902, 0.4992622047597607, 0.508525529229198, 0.5041408147103412, 0.4930309526211692, 0.4683993105262485, 0.4416704695962425, 0.38251813627346143, 0.3855362829812325, 0.3857804455724798, 0.41223727266508886, 0.3982763713450435, 0.3820613758366053, 0.3968670982898611, 0.4149899041595643, 0.4059521747839405, 0.42129821141250334, 0.4362385482221524, 0.4196011421471069, 0.40489754092973373, 0.40045898066832, 0.4187953127585043, 0.4177908111473676, 0.4114472256493034, 0.5455955378546409, 0.5640423465545534, 0.5829719101877294, 0.5880296964885422, 0.5912780801644857, 0.5276621204587558, 0.6261961158374162, 0.6024362177469834, 0.5936974250800339, 0.5544735867523385, 0.5753703767385654, 0.5499199080068395, 0.553435663645821, 0.5512001369548598, 0.45413018874881095, 0.4767277614999232, 0.47523214958167537, 0.4541747507426499, 0.47407725124132827, 0.5000002627827316, 0.5107211358006771, 0.5239458358474959, 0.5348291744679822, 0.5325138075380589, 0.5360193510534523, 0.5516281177706962, 0.571755284988316, 0.578445154313508, 0.59963438238431, 0.6636486149099822, 0.6892996126139866, 0.7143165302806491, 0.6959969089381521, 0.6862183364149428, 0.6970339036697994, 0.702255083948023, 0.6866723117271843, 0.7000269842560354, 0.7012450120876552, 0.6886107584592136, 0.6962327161555557, 0.6959152119494477, 0.707264594755508, 0.7213192619375902, 0.7306410740239434, 0.754147525774411, 0.7646743684441794, 0.7803796861480767, 0.7978702687301784, 0.8027739448022939, 0.8086542712393987, 0.8058153008818577, 0.8162344520665143, 0.823615960671094, 0.8411594606208802, 0.8428769541334529, 0.8468392580857045, 0.8635360801525359, 0.8687684009292198, 0.8763903586255599, 0.8760756395440664, 0.8829326163461582, 0.8546459623815058, 0.863933424597606, 0.8722470215733358, 0.8730045754686107, 0.8802951033357679, 0.9365991825522922, 0.9857501333826629, 1.0091915988921154, 1.0185524027230786, 1.0265002199993725, 1.0544535873850975, 1.0724603463958433, 1.0793108245738336, 1.0739773109361375, 1.074371870256593, 1.0705627481581663, 1.0826557592364288, 1.083753098334732, 1.0765210580844908, 1.0731037101819052, 1.0842776301372221, 1.0935530234799917, 1.104560764333281, 1.114514799707236, 1.118831742860461, 1.1174763155478356, 1.091585797126941, 1.0953225059853768, 1.0813616046653336, 1.0809048442284754, 1.0553940311300913, 1.0471305663974317, 1.0456637341002077, 1.0304068214593227, 1.0311244552351175, 1.0570214722801137, 1.0501180767344385, 1.0037438951452062, 0.9978672822075882, 0.9852840891970889, 0.9458560083976283, 0.9626549517003423, 0.9782377239211789, 0.9987640923336132, 1.0096093675843638, 1.0472995306240738, 1.0086364307188616, 0.9969908963287414]}, {\"line\": {\"color\": \"rgba(128, 128, 0, 1.0)\", \"dash\": \"solid\", \"shape\": \"linear\", \"width\": 1.3}, \"mode\": \"lines\", \"name\": \"26664935000166\", \"text\": \"\", \"type\": \"scatter\", \"x\": [\"2020-09-03\", \"2020-09-04\", \"2020-09-08\", \"2020-09-09\", \"2020-09-10\", \"2020-09-11\", \"2020-09-14\", \"2020-09-15\", \"2020-09-16\", \"2020-09-17\", \"2020-09-18\", \"2020-09-21\", \"2020-09-22\", \"2020-09-23\", \"2020-09-24\", \"2020-09-25\", \"2020-09-28\", \"2020-09-29\", \"2020-09-30\", \"2020-10-01\", \"2020-10-02\", \"2020-10-05\", \"2020-10-06\", \"2020-10-07\", \"2020-10-08\", \"2020-10-09\", \"2020-10-13\", \"2020-10-14\", \"2020-10-15\", \"2020-10-16\", \"2020-10-19\", \"2020-10-20\", \"2020-10-21\", \"2020-10-22\", \"2020-10-23\", \"2020-10-26\", \"2020-10-27\", \"2020-10-28\", \"2020-10-29\", \"2020-10-30\", \"2020-11-03\", \"2020-11-04\", \"2020-11-05\", \"2020-11-06\", \"2020-11-09\", \"2020-11-10\", \"2020-11-11\", \"2020-11-12\", \"2020-11-13\", \"2020-11-16\", \"2020-11-17\", \"2020-11-18\", \"2020-11-19\", \"2020-11-20\", \"2020-11-23\", \"2020-11-24\", \"2020-11-25\", \"2020-11-26\", \"2020-11-27\", \"2020-11-30\", \"2020-12-01\", \"2020-12-02\", \"2020-12-03\", \"2020-12-04\", \"2020-12-07\", \"2020-12-08\", \"2020-12-09\", \"2020-12-10\", \"2020-12-11\", \"2020-12-14\", \"2020-12-15\", \"2020-12-16\", \"2020-12-17\", \"2020-12-18\", \"2020-12-21\", \"2020-12-22\", \"2020-12-23\", \"2020-12-24\", \"2020-12-28\", \"2020-12-29\", \"2020-12-30\", \"2020-12-31\", \"2021-01-04\", \"2021-01-05\", \"2021-01-06\", \"2021-01-07\", \"2021-01-08\", \"2021-01-11\", \"2021-01-12\", \"2021-01-13\", \"2021-01-14\", \"2021-01-15\", \"2021-01-18\", \"2021-01-19\", \"2021-01-20\", \"2021-01-21\", \"2021-01-22\", \"2021-01-25\", \"2021-01-26\", \"2021-01-27\", \"2021-01-28\", \"2021-01-29\", \"2021-02-01\", \"2021-02-02\", \"2021-02-03\", \"2021-02-04\", \"2021-02-05\", \"2021-02-08\", \"2021-02-09\", \"2021-02-10\", \"2021-02-11\", \"2021-02-12\", \"2021-02-17\", \"2021-02-18\", \"2021-02-19\", \"2021-02-22\", \"2021-02-23\", \"2021-02-24\", \"2021-02-25\", \"2021-02-26\", \"2021-03-01\", \"2021-03-02\", \"2021-03-03\", \"2021-03-04\", \"2021-03-05\", \"2021-03-08\", \"2021-03-09\", \"2021-03-10\", \"2021-03-11\", \"2021-03-12\", \"2021-03-15\", \"2021-03-16\", \"2021-03-17\", \"2021-03-18\", \"2021-03-19\", \"2021-03-22\", \"2021-03-23\", \"2021-03-24\", \"2021-03-25\", \"2021-03-26\", \"2021-03-29\", \"2021-03-30\", \"2021-03-31\", \"2021-04-01\", \"2021-04-05\", \"2021-04-06\", \"2021-04-07\", \"2021-04-08\", \"2021-04-09\", \"2021-04-12\", \"2021-04-13\", \"2021-04-14\", \"2021-04-15\", \"2021-04-16\", \"2021-04-19\", \"2021-04-20\", \"2021-04-22\", \"2021-04-23\", \"2021-04-26\", \"2021-04-27\", \"2021-04-28\", \"2021-04-29\", \"2021-04-30\", \"2021-05-03\", \"2021-05-04\", \"2021-05-05\", \"2021-05-06\", \"2021-05-07\", \"2021-05-10\", \"2021-05-11\", \"2021-05-12\", \"2021-05-13\", \"2021-05-14\", \"2021-05-17\", \"2021-05-18\", \"2021-05-19\", \"2021-05-20\", \"2021-05-21\", \"2021-05-24\", \"2021-05-25\", \"2021-05-26\", \"2021-05-27\", \"2021-05-28\", \"2021-05-31\", \"2021-06-01\", \"2021-06-02\", \"2021-06-04\", \"2021-06-07\", \"2021-06-08\", \"2021-06-09\", \"2021-06-10\", \"2021-06-11\", \"2021-06-14\", \"2021-06-15\", \"2021-06-16\", \"2021-06-17\", \"2021-06-18\", \"2021-06-21\", \"2021-06-22\", \"2021-06-23\", \"2021-06-24\", \"2021-06-25\", \"2021-06-28\", \"2021-06-29\", \"2021-06-30\", \"2021-07-01\", \"2021-07-02\", \"2021-07-05\", \"2021-07-06\", \"2021-07-07\", \"2021-07-08\", \"2021-07-09\", \"2021-07-12\", \"2021-07-13\", \"2021-07-14\", \"2021-07-15\", \"2021-07-16\", \"2021-07-19\", \"2021-07-20\", \"2021-07-21\", \"2021-07-22\", \"2021-07-23\", \"2021-07-26\", \"2021-07-27\", \"2021-07-28\", \"2021-07-29\", \"2021-07-30\", \"2021-08-02\", \"2021-08-03\", \"2021-08-04\", \"2021-08-05\", \"2021-08-06\", \"2021-08-09\", \"2021-08-10\", \"2021-08-11\", \"2021-08-12\", \"2021-08-13\", \"2021-08-16\", \"2021-08-17\", \"2021-08-18\", \"2021-08-19\", \"2021-08-20\", \"2021-08-23\", \"2021-08-24\", \"2021-08-25\", \"2021-08-26\", \"2021-08-27\", \"2021-08-30\", \"2021-08-31\", \"2021-09-01\", \"2021-09-02\", \"2021-09-03\"], \"y\": [-1.785310451568991, -1.7805859667106367, -1.7580743686444882, -1.737120176733855, -1.7335604384926622, -1.6989934979189476, -1.6821577653618054, -1.6743075517941268, -1.6601956260094062, -1.6376059591555099, -1.6141962392303484, -1.615509184224241, -1.5831228769082109, -1.5593654862376243, -1.5512555947107087, -1.5290291461997982, -1.5131735738887913, -1.4837575193064965, -1.6043013511836395, -1.4864426224849938, -1.4541228059585258, -1.4727303030375385, -1.4583444748958119, -1.4555743561306627, -1.4448236886182937, -1.4267954222483594, -1.3996446857104548, -1.376119185803467, -1.3547935055511524, -1.3550746855070157, -1.3425608542714254, -1.4822953835360195, -1.4798838519145818, -1.4543093771292428, -1.4292456574637213, -1.4099808608878899, -1.3936423206527033, -1.4204377780463717, -1.3910796134549903, -1.524538536904734, -1.5008304354264042, -1.4712228476741795, -1.451074815236996, -1.4474750502020872, -1.435273824917427, -1.3929552491605552, -1.3672729335921392, -1.3450358994828888, -1.316941721493089, -1.292725842094478, -1.2977454005065108, -1.2757303331624186, -1.27073326914685, -1.274807732107243, -1.1147035344402605, -1.1279702663576614, -1.1190280821613958, -1.1104950975008976, -1.074032673224737, -1.1576817252935807, -1.1573591953442102, -1.1354010255911857, -1.113012485105721, -1.0904092554539555, -1.0368917782550773, -1.0238268343060002, -0.9946089288926004, -0.9550909054961065, -0.9351244822304123, -0.8700395924473827, -0.8627901115854014, -0.8511965658053424, -0.8473827732040321, -0.836074046179265, -0.4846252345493805, -0.46452086770534157, -0.4323743903516672, -0.4193322715990079, -0.5162341619874373, -0.4898221017335817, -0.5270490046897314, -0.5042936070618596, -0.4982498920105935, -0.48774434725974675, -0.531978916315838, -0.5083095184314398, -0.46138157619814807, -0.4100179374611688, -0.41531801422916537, -0.38855365203061015, -0.36055904482517703, -0.36294543565056714, -0.35147494745119195, -0.33325547871126654, -0.3435440186961825, -0.33836402230933327, -0.31478691761044414, -0.307388576771832, -0.29409703485832234, -0.29778446187947344, -0.28946980518470494, -0.33935609135360034, -0.3198951304085648, -0.28935931800204484, -0.2854089050221814, -0.2535895888171445, -0.243203793647499, -0.19766521119610278, 0.23985940092167746, 0.16913999562314913, 0.1715217552492577, 0.5604449081964584, 0.508540742344325, 0.46664459812114384, 0.37953868659494894, 0.4084687960535275, 0.4092349287332614, 0.41862137725978243, 0.4251421058361697, 0.4413883528858471, 0.43970755834969444, 0.4740254065625119, 0.4487559293292919, 0.47880315021250514, 0.607334477635772, 0.4973365481031521, 0.49482809209692363, 0.5779048602556078, 0.5710946817246617, 0.5340798215352226, 0.5104137316503069, 0.4921502665172836, 0.5130611236347183, 0.5323986961991239, 0.6017224565167449, 0.5806610854229344, 0.5917938268753321, 0.6134254970796112, 0.6179829279641911, 0.6041614445338745, 0.5986165758043019, 0.6452342276863081, 0.6518455954484595, 0.6544830634344304, 0.6411203995320915, 0.6348345389188399, 0.6207705791265844, 0.6118039157341634, 0.561106508092598, 0.5615213312274778, 0.5428119477644614, 0.5477008401970068, 0.5986867053932928, 0.6325715364740796, 0.6370356817733047, 0.618838707429851, 0.6431515112132454, 0.6526325685249202, 0.6413413738974044, 0.5601584354414288, 0.48396528340215694, 0.4733707534652763, 0.48516939521313446, 0.5998157256160591, 0.6263309954537174, 0.5752052018793956, 0.6706459488971936, 0.677552390213031, 0.6615790531205066, 0.562317897502433, 0.5600959142512414, 0.547605239012015, 0.58772366431426, 0.6126143756069412, 0.6230474751691599, 0.6341057866332386, 0.6179634107672559, 0.6190249478006145, 0.6269155189619621, 0.6457760780012465, 0.6491862946659092, 0.648621619154553, 0.7835413551749747, 0.6270620633389559, 0.578629312141881, 0.6953464502197366, 0.7086234369355241, 0.7508249095107778, 0.7722309741504699, 0.6801772878009781, 0.709557615988878, 0.7242027912898882, 0.7187227593501401, 0.7360920722235252, 0.7411367714316129, 0.7588719490475598, 0.7816458714725285, 0.7970839742490724, 0.8111621584390893, 0.8310399273186957, 0.8570646208333635, 0.8012285667984562, 0.717428339153337, 0.810028837816995, 0.8788253030173924, 0.9236754907768491, 0.9305600992961068, 0.9231885532532873, 0.9453650509720414, 0.9417434531405531, 0.9346993990463243, 0.9446505230842088, 1.0011776182106316, 0.9881622942537647, 1.0135568138673596, 1.033711131503555, 1.0418071294326476, 1.041926879013849, 1.0613468207653232, 1.0521932554022466, 1.072990978937438, 1.0808051353107755, 1.0912726380675974, 1.0957758177606927, 1.1112966205242514, 1.0805973929433859, 1.168039728016774, 1.1696265753676651, 1.1862046147652614, 1.2081323509230646, 1.2179094741882635, 1.2412166461295215, 1.2451038763193127, 1.2468746484413376, 1.2234827917133664, 1.2218033203770127, 1.2525968259430713, 1.3293314974973356, 1.3270327686581878, 1.338505903257146, 1.328260036465529, 1.3334165460560683, 1.3603572246269464, 1.3702504586739104, 1.374696079176046, 1.3895953088371735, 1.3993681317030442, 1.402054558081333, 1.5006405510053977, 1.5274214532013515, 1.5291389665317372, 1.5317837121165656]}, {\"line\": {\"color\": \"rgba(251, 128, 114, 1.0)\", \"dash\": \"solid\", \"shape\": \"linear\", \"width\": 1.3}, \"mode\": \"lines\", \"name\": \"30934757000113\", \"text\": \"\", \"type\": \"scatter\", \"x\": [\"2020-09-03\", \"2020-09-04\", \"2020-09-08\", \"2020-09-09\", \"2020-09-10\", \"2020-09-11\", \"2020-09-14\", \"2020-09-15\", \"2020-09-16\", \"2020-09-17\", \"2020-09-18\", \"2020-09-21\", \"2020-09-22\", \"2020-09-23\", \"2020-09-24\", \"2020-09-25\", \"2020-09-28\", \"2020-09-29\", \"2020-09-30\", \"2020-10-01\", \"2020-10-02\", \"2020-10-05\", \"2020-10-06\", \"2020-10-07\", \"2020-10-08\", \"2020-10-09\", \"2020-10-13\", \"2020-10-14\", \"2020-10-15\", \"2020-10-16\", \"2020-10-19\", \"2020-10-20\", \"2020-10-21\", \"2020-10-22\", \"2020-10-23\", \"2020-10-26\", \"2020-10-27\", \"2020-10-28\", \"2020-10-29\", \"2020-10-30\", \"2020-11-03\", \"2020-11-04\", \"2020-11-05\", \"2020-11-06\", \"2020-11-09\", \"2020-11-10\", \"2020-11-11\", \"2020-11-12\", \"2020-11-13\", \"2020-11-16\", \"2020-11-17\", \"2020-11-18\", \"2020-11-19\", \"2020-11-20\", \"2020-11-23\", \"2020-11-24\", \"2020-11-25\", \"2020-11-26\", \"2020-11-27\", \"2020-11-30\", \"2020-12-01\", \"2020-12-02\", \"2020-12-03\", \"2020-12-04\", \"2020-12-07\", \"2020-12-08\", \"2020-12-09\", \"2020-12-10\", \"2020-12-11\", \"2020-12-14\", \"2020-12-15\", \"2020-12-16\", \"2020-12-17\", \"2020-12-18\", \"2020-12-21\", \"2020-12-22\", \"2020-12-23\", \"2020-12-24\", \"2020-12-28\", \"2020-12-29\", \"2020-12-30\", \"2020-12-31\", \"2021-01-04\", \"2021-01-05\", \"2021-01-06\", \"2021-01-07\", \"2021-01-08\", \"2021-01-11\", \"2021-01-12\", \"2021-01-13\", \"2021-01-14\", \"2021-01-15\", \"2021-01-18\", \"2021-01-19\", \"2021-01-20\", \"2021-01-21\", \"2021-01-22\", \"2021-01-25\", \"2021-01-26\", \"2021-01-27\", \"2021-01-28\", \"2021-01-29\", \"2021-02-01\", \"2021-02-02\", \"2021-02-03\", \"2021-02-04\", \"2021-02-05\", \"2021-02-08\", \"2021-02-09\", \"2021-02-10\", \"2021-02-11\", \"2021-02-12\", \"2021-02-17\", \"2021-02-18\", \"2021-02-19\", \"2021-02-22\", \"2021-02-23\", \"2021-02-24\", \"2021-02-25\", \"2021-02-26\", \"2021-03-01\", \"2021-03-02\", \"2021-03-03\", \"2021-03-04\", \"2021-03-05\", \"2021-03-08\", \"2021-03-09\", \"2021-03-10\", \"2021-03-11\", \"2021-03-12\", \"2021-03-15\", \"2021-03-16\", \"2021-03-17\", \"2021-03-18\", \"2021-03-19\", \"2021-03-22\", \"2021-03-23\", \"2021-03-24\", \"2021-03-25\", \"2021-03-26\", \"2021-03-29\", \"2021-03-30\", \"2021-03-31\", \"2021-04-01\", \"2021-04-05\", \"2021-04-06\", \"2021-04-07\", \"2021-04-08\", \"2021-04-09\", \"2021-04-12\", \"2021-04-13\", \"2021-04-14\", \"2021-04-15\", \"2021-04-16\", \"2021-04-19\", \"2021-04-20\", \"2021-04-22\", \"2021-04-23\", \"2021-04-26\", \"2021-04-27\", \"2021-04-28\", \"2021-04-29\", \"2021-04-30\", \"2021-05-03\", \"2021-05-04\", \"2021-05-05\", \"2021-05-06\", \"2021-05-07\", \"2021-05-10\", \"2021-05-11\", \"2021-05-12\", \"2021-05-13\", \"2021-05-14\", \"2021-05-17\", \"2021-05-18\", \"2021-05-19\", \"2021-05-20\", \"2021-05-21\", \"2021-05-24\", \"2021-05-25\", \"2021-05-26\", \"2021-05-27\", \"2021-05-28\", \"2021-05-31\", \"2021-06-01\", \"2021-06-02\", \"2021-06-04\", \"2021-06-07\", \"2021-06-08\", \"2021-06-09\", \"2021-06-10\", \"2021-06-11\", \"2021-06-14\", \"2021-06-15\", \"2021-06-16\", \"2021-06-17\", \"2021-06-18\", \"2021-06-21\", \"2021-06-22\", \"2021-06-23\", \"2021-06-24\", \"2021-06-25\", \"2021-06-28\", \"2021-06-29\", \"2021-06-30\", \"2021-07-01\", \"2021-07-02\", \"2021-07-05\", \"2021-07-06\", \"2021-07-07\", \"2021-07-08\", \"2021-07-09\", \"2021-07-12\", \"2021-07-13\", \"2021-07-14\", \"2021-07-15\", \"2021-07-16\", \"2021-07-19\", \"2021-07-20\", \"2021-07-21\", \"2021-07-22\", \"2021-07-23\", \"2021-07-26\", \"2021-07-27\", \"2021-07-28\", \"2021-07-29\", \"2021-07-30\", \"2021-08-02\", \"2021-08-03\", \"2021-08-04\", \"2021-08-05\", \"2021-08-06\", \"2021-08-09\", \"2021-08-10\", \"2021-08-11\", \"2021-08-12\", \"2021-08-13\", \"2021-08-16\", \"2021-08-17\", \"2021-08-18\", \"2021-08-19\", \"2021-08-20\", \"2021-08-23\", \"2021-08-24\", \"2021-08-25\", \"2021-08-26\", \"2021-08-27\", \"2021-08-30\", \"2021-08-31\", \"2021-09-01\", \"2021-09-02\", \"2021-09-03\"], \"y\": [-1.4516433363564947, -1.454992368270105, -1.454779634845463, -1.4592227243715006, -1.4506617235542318, -1.457344592136826, -1.4452461383727067, -1.4407422678682056, -1.4308592807692546, -1.418545054531568, -1.4262946292862835, -1.4244742389811536, -1.4161502839799147, -1.4148222196003823, -1.4117558192366597, -1.373725161009023, -1.388397689211281, -1.3910842084595774, -1.3959314914924292, -1.3909930369918757, -1.3782594220027624, -1.350634467288906, -1.344984875340276, -1.348838389375164, -1.351603923895475, -1.3414565395401876, -1.3499719546235989, -1.3364147573762382, -1.31752099021936, -1.320678562050791, -1.3059908386039207, -1.2900662222452197, -1.2966457631644113, -1.297861382733779, -1.2879935908794475, -1.2748983290684457, -1.2480969566128368, -1.234658282273491, -1.2284403881761812, -1.2306710500859688, -1.2230703887285, -1.2099356192814978, -1.209628675340229, -1.2121055002128156, -1.2219094720397587, -1.2132968073907953, -1.2133970960052658, -1.1989524964722689, -1.22109500692828, -1.235047280535686, -1.1953208330087848, -1.1975788463588857, -1.1755153511748826, -1.1733849778795653, -1.1978705950555353, -1.1959803066251666, -1.1999827340573082, -1.002204469170295, -1.0018337052016377, -1.0059242650525557, -0.9991502250022597, -0.9803658636066209, -0.9834018734811117, -1.007297915165939, -0.9826177988588715, -0.9834018734811117, -0.7143518332421391, -0.6988192541945583, -0.689215859596563, -0.6944187113534462, -0.6988830742219467, -0.7027639396971481, -0.7128505430739721, -0.7155431404201188, -0.7097233617317728, -0.6993450096583058, -0.6936711053182879, -0.6919783550679486, -0.6917838559368443, -0.7369927477215912, -0.7427091987465348, -0.7405788254512177, -0.7568407762404192, -0.7353516613029464, -0.7336345986612123, -0.6892857577218019, -0.6561510073097864, -0.6309907212728222, -0.6253502464709612, -0.605961114339567, -0.5899969903448588, -0.5869731366660619, -0.5695077225031866, -0.5516593881759667, -0.5273135672504746, -0.48747163586448367, -0.4393361399664921, -0.43632444248338925, -0.4125499627555023, -0.3644023106618168, -0.3802144822103532, -0.3768776064924371, -0.3859856361159165, -0.38969327580248314, -0.3961542938136667, -0.3980081136569534, -0.3847852117911679, -0.4119451920197402, -0.38738663766961295, -0.37528210580764315, -0.3589958426270604, -0.3627824975856348, -0.35661626732001933, -0.31195440434149646, -0.3004911118023708, -0.28819208080930353, -0.15717868172082378, -0.14509542320131683, -0.1614576626049889, -0.15441010815158773, -0.16063408034674806, -0.13469275873646194, -0.13100943144128332, -0.09068429127647046, -0.05858585654734449, -0.05062962646584437, -0.05678977863360942, -0.052975772234721816, -0.039151138682099504, -0.0040470845677143255, -0.024840257301730083, -0.00627166837965837, -0.0035638757888924056, 0.08413699804305969, 0.24356854361440522, 0.24514277095673634, 0.25329046112041553, 0.26570193692364735, 0.3087044791899878, 0.3107102514794463, 0.34121622457269674, 0.3467320983686992, 0.35556965263799184, 0.368756085916702, 0.3790007198375347, 0.4063004963165848, 0.4294124633791648, 0.45574278325164586, 0.471585345289414, 0.46505442915299156, 0.4761104891363846, 0.5104517419709855, 0.5147611133443958, 0.5205140329564214, 0.5217296525257893, 0.5237779715001667, 0.5385507883168952, 0.5515427224645011, 0.5248416386233626, 0.5322842694368092, 0.5451485635296313, 0.5496615511809079, 0.6395535792866405, 0.5942170474471166, 0.6097070798097717, 0.6139313578133172, 0.6058930734108842, 0.6016839906519511, 0.606883803359916, 0.5973320725936152, 0.6458383324602641, 0.6163322064628143, 0.6262395059531533, 0.621294973354756, 0.6229451769201696, 0.6456438333291666, 0.9608691829105367, 0.9470992522385341, 0.9499468410797778, 0.9502841755102716, 0.9637745136813186, 0.9820513539067474, 0.9840115404623483, 0.9827229837188232, 0.9852180428849473, 0.9925391117414537, 1.0439172728407344, 1.0422154054436195, 0.9847500293507379, 0.9804801656133415, 0.9865430682155545, 0.9965172267822071, 1.0104816565853072, 1.0135450179001113, 1.0106609604717856, 1.045026525697781, 1.0585958791408359, 1.0661965404982978, 1.0922472678698234, 1.106761765528059, 1.1065581492501928, 1.1089073340679954, 1.1023794569804983, 1.121303614626608, 1.1241633596635459, 1.1255825955107799, 1.1211607793272118, 1.1218415262860564, 1.1234218317262312, 1.1340372296157213, 1.1519402668235676, 1.1574743749131144, 1.162279111261034, 1.1659290090180556, 1.1743076668999144, 1.1835646099206405, 1.1962435220291339, 1.1986869173635635, 1.1960064762131106, 1.1855278355251666, 1.1964319430623878, 1.2223975770640552, 1.2621361807866502, 1.2585470640080918, 1.327287311606852, 1.3365564108232721, 1.3808140802949807, 1.384825624873891, 1.3578084799447216, 1.3387354089013586, 1.3534231323482289, 1.3541433869430808, 1.3560306363245243, 1.3780941315085276, 1.3889617704586599, 1.4099555204216236, 1.4167386776186883, 1.433274142810995, 1.4418321045793387, 1.4661323397709733, 1.4780606067953832, 1.4792610311201317, 1.4851659031783293, 1.4941888394319573, 1.50691637632322, 1.4949546797606532, 1.5220690742553749, 1.5333682581526413, 1.5468737915683008, 1.5637526692889583, 1.571730172712928, 1.5779997306419324]}],                        {\"legend\": {\"bgcolor\": \"#F5F6F9\", \"font\": {\"color\": \"#4D5663\"}}, \"paper_bgcolor\": \"#F5F6F9\", \"plot_bgcolor\": \"#F5F6F9\", \"template\": {\"data\": {\"bar\": [{\"error_x\": {\"color\": \"#2a3f5f\"}, \"error_y\": {\"color\": \"#2a3f5f\"}, \"marker\": {\"line\": {\"color\": \"#E5ECF6\", \"width\": 0.5}}, \"type\": \"bar\"}], \"barpolar\": [{\"marker\": {\"line\": {\"color\": \"#E5ECF6\", \"width\": 0.5}}, \"type\": \"barpolar\"}], \"carpet\": [{\"aaxis\": {\"endlinecolor\": \"#2a3f5f\", \"gridcolor\": \"white\", \"linecolor\": \"white\", \"minorgridcolor\": \"white\", \"startlinecolor\": \"#2a3f5f\"}, \"baxis\": {\"endlinecolor\": \"#2a3f5f\", \"gridcolor\": \"white\", \"linecolor\": \"white\", \"minorgridcolor\": \"white\", \"startlinecolor\": \"#2a3f5f\"}, \"type\": \"carpet\"}], \"choropleth\": [{\"colorbar\": {\"outlinewidth\": 0, \"ticks\": \"\"}, \"type\": \"choropleth\"}], \"contour\": [{\"colorbar\": {\"outlinewidth\": 0, \"ticks\": \"\"}, \"colorscale\": [[0.0, \"#0d0887\"], [0.1111111111111111, \"#46039f\"], [0.2222222222222222, \"#7201a8\"], [0.3333333333333333, \"#9c179e\"], [0.4444444444444444, \"#bd3786\"], [0.5555555555555556, \"#d8576b\"], [0.6666666666666666, \"#ed7953\"], [0.7777777777777778, \"#fb9f3a\"], [0.8888888888888888, \"#fdca26\"], [1.0, \"#f0f921\"]], \"type\": \"contour\"}], \"contourcarpet\": [{\"colorbar\": {\"outlinewidth\": 0, \"ticks\": \"\"}, \"type\": \"contourcarpet\"}], \"heatmap\": [{\"colorbar\": {\"outlinewidth\": 0, \"ticks\": \"\"}, \"colorscale\": [[0.0, \"#0d0887\"], [0.1111111111111111, \"#46039f\"], [0.2222222222222222, \"#7201a8\"], [0.3333333333333333, \"#9c179e\"], [0.4444444444444444, \"#bd3786\"], [0.5555555555555556, \"#d8576b\"], [0.6666666666666666, \"#ed7953\"], [0.7777777777777778, \"#fb9f3a\"], [0.8888888888888888, \"#fdca26\"], [1.0, \"#f0f921\"]], \"type\": \"heatmap\"}], \"heatmapgl\": [{\"colorbar\": {\"outlinewidth\": 0, \"ticks\": \"\"}, \"colorscale\": [[0.0, \"#0d0887\"], [0.1111111111111111, \"#46039f\"], [0.2222222222222222, \"#7201a8\"], [0.3333333333333333, \"#9c179e\"], [0.4444444444444444, \"#bd3786\"], [0.5555555555555556, \"#d8576b\"], [0.6666666666666666, \"#ed7953\"], [0.7777777777777778, \"#fb9f3a\"], [0.8888888888888888, \"#fdca26\"], [1.0, \"#f0f921\"]], \"type\": \"heatmapgl\"}], \"histogram\": [{\"marker\": {\"colorbar\": {\"outlinewidth\": 0, \"ticks\": \"\"}}, \"type\": \"histogram\"}], \"histogram2d\": [{\"colorbar\": {\"outlinewidth\": 0, \"ticks\": \"\"}, \"colorscale\": [[0.0, \"#0d0887\"], [0.1111111111111111, \"#46039f\"], [0.2222222222222222, \"#7201a8\"], [0.3333333333333333, \"#9c179e\"], [0.4444444444444444, \"#bd3786\"], [0.5555555555555556, \"#d8576b\"], [0.6666666666666666, \"#ed7953\"], [0.7777777777777778, \"#fb9f3a\"], [0.8888888888888888, \"#fdca26\"], [1.0, \"#f0f921\"]], \"type\": \"histogram2d\"}], \"histogram2dcontour\": [{\"colorbar\": {\"outlinewidth\": 0, \"ticks\": \"\"}, \"colorscale\": [[0.0, \"#0d0887\"], [0.1111111111111111, \"#46039f\"], [0.2222222222222222, \"#7201a8\"], [0.3333333333333333, \"#9c179e\"], [0.4444444444444444, \"#bd3786\"], [0.5555555555555556, \"#d8576b\"], [0.6666666666666666, \"#ed7953\"], [0.7777777777777778, \"#fb9f3a\"], [0.8888888888888888, \"#fdca26\"], [1.0, \"#f0f921\"]], \"type\": \"histogram2dcontour\"}], \"mesh3d\": [{\"colorbar\": {\"outlinewidth\": 0, \"ticks\": \"\"}, \"type\": \"mesh3d\"}], \"parcoords\": [{\"line\": {\"colorbar\": {\"outlinewidth\": 0, \"ticks\": \"\"}}, \"type\": \"parcoords\"}], \"pie\": [{\"automargin\": true, \"type\": \"pie\"}], \"scatter\": [{\"marker\": {\"colorbar\": {\"outlinewidth\": 0, \"ticks\": \"\"}}, \"type\": \"scatter\"}], \"scatter3d\": [{\"line\": {\"colorbar\": {\"outlinewidth\": 0, \"ticks\": \"\"}}, \"marker\": {\"colorbar\": {\"outlinewidth\": 0, \"ticks\": \"\"}}, \"type\": \"scatter3d\"}], \"scattercarpet\": [{\"marker\": {\"colorbar\": {\"outlinewidth\": 0, \"ticks\": \"\"}}, \"type\": \"scattercarpet\"}], \"scattergeo\": [{\"marker\": {\"colorbar\": {\"outlinewidth\": 0, \"ticks\": \"\"}}, \"type\": \"scattergeo\"}], \"scattergl\": [{\"marker\": {\"colorbar\": {\"outlinewidth\": 0, \"ticks\": \"\"}}, \"type\": \"scattergl\"}], \"scattermapbox\": [{\"marker\": {\"colorbar\": {\"outlinewidth\": 0, \"ticks\": \"\"}}, \"type\": \"scattermapbox\"}], \"scatterpolar\": [{\"marker\": {\"colorbar\": {\"outlinewidth\": 0, \"ticks\": \"\"}}, \"type\": \"scatterpolar\"}], \"scatterpolargl\": [{\"marker\": {\"colorbar\": {\"outlinewidth\": 0, \"ticks\": \"\"}}, \"type\": \"scatterpolargl\"}], \"scatterternary\": [{\"marker\": {\"colorbar\": {\"outlinewidth\": 0, \"ticks\": \"\"}}, \"type\": \"scatterternary\"}], \"surface\": [{\"colorbar\": {\"outlinewidth\": 0, \"ticks\": \"\"}, \"colorscale\": [[0.0, \"#0d0887\"], [0.1111111111111111, \"#46039f\"], [0.2222222222222222, \"#7201a8\"], [0.3333333333333333, \"#9c179e\"], [0.4444444444444444, \"#bd3786\"], [0.5555555555555556, \"#d8576b\"], [0.6666666666666666, \"#ed7953\"], [0.7777777777777778, \"#fb9f3a\"], [0.8888888888888888, \"#fdca26\"], [1.0, \"#f0f921\"]], \"type\": \"surface\"}], \"table\": [{\"cells\": {\"fill\": {\"color\": \"#EBF0F8\"}, \"line\": {\"color\": \"white\"}}, \"header\": {\"fill\": {\"color\": \"#C8D4E3\"}, \"line\": {\"color\": \"white\"}}, \"type\": \"table\"}]}, \"layout\": {\"annotationdefaults\": {\"arrowcolor\": \"#2a3f5f\", \"arrowhead\": 0, \"arrowwidth\": 1}, \"autotypenumbers\": \"strict\", \"coloraxis\": {\"colorbar\": {\"outlinewidth\": 0, \"ticks\": \"\"}}, \"colorscale\": {\"diverging\": [[0, \"#8e0152\"], [0.1, \"#c51b7d\"], [0.2, \"#de77ae\"], [0.3, \"#f1b6da\"], [0.4, \"#fde0ef\"], [0.5, \"#f7f7f7\"], [0.6, \"#e6f5d0\"], [0.7, \"#b8e186\"], [0.8, \"#7fbc41\"], [0.9, \"#4d9221\"], [1, \"#276419\"]], \"sequential\": [[0.0, \"#0d0887\"], [0.1111111111111111, \"#46039f\"], [0.2222222222222222, \"#7201a8\"], [0.3333333333333333, \"#9c179e\"], [0.4444444444444444, \"#bd3786\"], [0.5555555555555556, \"#d8576b\"], [0.6666666666666666, \"#ed7953\"], [0.7777777777777778, \"#fb9f3a\"], [0.8888888888888888, \"#fdca26\"], [1.0, \"#f0f921\"]], \"sequentialminus\": [[0.0, \"#0d0887\"], [0.1111111111111111, \"#46039f\"], [0.2222222222222222, \"#7201a8\"], [0.3333333333333333, \"#9c179e\"], [0.4444444444444444, \"#bd3786\"], [0.5555555555555556, \"#d8576b\"], [0.6666666666666666, \"#ed7953\"], [0.7777777777777778, \"#fb9f3a\"], [0.8888888888888888, \"#fdca26\"], [1.0, \"#f0f921\"]]}, \"colorway\": [\"#636efa\", \"#EF553B\", \"#00cc96\", \"#ab63fa\", \"#FFA15A\", \"#19d3f3\", \"#FF6692\", \"#B6E880\", \"#FF97FF\", \"#FECB52\"], \"font\": {\"color\": \"#2a3f5f\"}, \"geo\": {\"bgcolor\": \"white\", \"lakecolor\": \"white\", \"landcolor\": \"#E5ECF6\", \"showlakes\": true, \"showland\": true, \"subunitcolor\": \"white\"}, \"hoverlabel\": {\"align\": \"left\"}, \"hovermode\": \"closest\", \"mapbox\": {\"style\": \"light\"}, \"paper_bgcolor\": \"white\", \"plot_bgcolor\": \"#E5ECF6\", \"polar\": {\"angularaxis\": {\"gridcolor\": \"white\", \"linecolor\": \"white\", \"ticks\": \"\"}, \"bgcolor\": \"#E5ECF6\", \"radialaxis\": {\"gridcolor\": \"white\", \"linecolor\": \"white\", \"ticks\": \"\"}}, \"scene\": {\"xaxis\": {\"backgroundcolor\": \"#E5ECF6\", \"gridcolor\": \"white\", \"gridwidth\": 2, \"linecolor\": \"white\", \"showbackground\": true, \"ticks\": \"\", \"zerolinecolor\": \"white\"}, \"yaxis\": {\"backgroundcolor\": \"#E5ECF6\", \"gridcolor\": \"white\", \"gridwidth\": 2, \"linecolor\": \"white\", \"showbackground\": true, \"ticks\": \"\", \"zerolinecolor\": \"white\"}, \"zaxis\": {\"backgroundcolor\": \"#E5ECF6\", \"gridcolor\": \"white\", \"gridwidth\": 2, \"linecolor\": \"white\", \"showbackground\": true, \"ticks\": \"\", \"zerolinecolor\": \"white\"}}, \"shapedefaults\": {\"line\": {\"color\": \"#2a3f5f\"}}, \"ternary\": {\"aaxis\": {\"gridcolor\": \"white\", \"linecolor\": \"white\", \"ticks\": \"\"}, \"baxis\": {\"gridcolor\": \"white\", \"linecolor\": \"white\", \"ticks\": \"\"}, \"bgcolor\": \"#E5ECF6\", \"caxis\": {\"gridcolor\": \"white\", \"linecolor\": \"white\", \"ticks\": \"\"}}, \"title\": {\"x\": 0.05}, \"xaxis\": {\"automargin\": true, \"gridcolor\": \"white\", \"linecolor\": \"white\", \"ticks\": \"\", \"title\": {\"standoff\": 15}, \"zerolinecolor\": \"white\", \"zerolinewidth\": 2}, \"yaxis\": {\"automargin\": true, \"gridcolor\": \"white\", \"linecolor\": \"white\", \"ticks\": \"\", \"title\": {\"standoff\": 15}, \"zerolinecolor\": \"white\", \"zerolinewidth\": 2}}}, \"title\": {\"font\": {\"color\": \"#4D5663\"}}, \"xaxis\": {\"gridcolor\": \"#E1E5ED\", \"showgrid\": true, \"tickfont\": {\"color\": \"#4D5663\"}, \"title\": {\"font\": {\"color\": \"#4D5663\"}, \"text\": \"\"}, \"zerolinecolor\": \"#E1E5ED\"}, \"yaxis\": {\"gridcolor\": \"#E1E5ED\", \"showgrid\": true, \"tickfont\": {\"color\": \"#4D5663\"}, \"title\": {\"font\": {\"color\": \"#4D5663\"}, \"text\": \"\"}, \"zerolinecolor\": \"#E1E5ED\"}},                        {\"showLink\": true, \"linkText\": \"Export to plot.ly\", \"plotlyServerURL\": \"https://plot.ly\", \"responsive\": true}                    ).then(function(){\n",
       "                            \n",
       "var gd = document.getElementById('f0cddbd1-4d96-43b6-b0da-7d541583183d');\n",
       "var x = new MutationObserver(function (mutations, observer) {{\n",
       "        var display = window.getComputedStyle(gd).display;\n",
       "        if (!display || display === 'none') {{\n",
       "            console.log([gd, 'removed!']);\n",
       "            Plotly.purge(gd);\n",
       "            observer.disconnect();\n",
       "        }}\n",
       "}});\n",
       "\n",
       "// Listen for the removal of the full notebook cells\n",
       "var notebookContainer = gd.closest('#notebook-container');\n",
       "if (notebookContainer) {{\n",
       "    x.observe(notebookContainer, {childList: true});\n",
       "}}\n",
       "\n",
       "// Listen for the clearing of the current output cell\n",
       "var outputEl = gd.closest('.output');\n",
       "if (outputEl) {{\n",
       "    x.observe(outputEl, {childList: true});\n",
       "}}\n",
       "\n",
       "                        })                };                });            </script>        </div>"
      ]
     },
     "metadata": {},
     "output_type": "display_data"
    }
   ],
   "source": [
    "import cufflinks as cf\n",
    "from plotly.offline import plot, iplot\n",
    "\n",
    "lista_cnpj = ['29177024000100', '08968733000126', '20077065000142', '33736873000116',\n",
    "'31964074000171', '19959703000170', '21732619000160', '26664935000166', '30934757000113']\n",
    "\n",
    "cf.go_offline()\n",
    "\n",
    "dados_periodo = df.loc['2020-09':]\n",
    "\n",
    "cnpj_periodo = lista_cnpj\n",
    "\n",
    "series_temp = dados_periodo[cnpj_periodo]\n",
    "\n",
    "series_temp = (series_temp - series_temp.mean())/series_temp.std()\n",
    "\n",
    "series_temp.iplot()\n"
   ]
  },
  {
   "cell_type": "code",
   "execution_count": 13,
   "metadata": {},
   "outputs": [
    {
     "data": {
      "text/plain": [
       "<AxesSubplot:title={'center':'Soma dos Escores Z das Séries'}>"
      ]
     },
     "execution_count": 13,
     "metadata": {},
     "output_type": "execute_result"
    },
    {
     "data": {
      "image/png": "[encoded data removed]",
      "text/plain": [
       "<Figure size 864x576 with 1 Axes>"
      ]
     },
     "metadata": {
      "needs_background": "light"
     },
     "output_type": "display_data"
    }
   ],
   "source": [
    "series_temp.sum(axis=1).plot(figsize=(12, 8), title='Soma dos Escores Z das Séries', grid=True)"
   ]
  },
  {
   "cell_type": "code",
   "execution_count": 56,
   "metadata": {},
   "outputs": [
    {
     "data": {
      "image/png": "[encoded data removed]",
      "text/plain": [
       "<Figure size 576x576 with 1 Axes>"
      ]
     },
     "metadata": {},
     "output_type": "display_data"
    },
    {
     "data": {
      "image/png": "[encoded data removed]",
      "text/plain": [
       "<Figure size 576x576 with 1 Axes>"
      ]
     },
     "metadata": {},
     "output_type": "display_data"
    }
   ],
   "source": [
    "from matplotlib import pyplot as plt\n",
    "%matplotlib inline\n",
    "\n",
    "lista_1 = [\n",
    "    '29177024000100', '08968733000126', '33736873000116', '31964074000171', '22652091000182',\n",
    "    '21732619000160', '32102131000176', '26759909000111', '26664935000166', '30934757000113'\n",
    "]\n",
    "\n",
    "valores = [15.17, 35, 49.83]\n",
    "#valores_1 = [15.17, 0, 35, 49.83]\n",
    "labels_dados = ['Ações', 'Multimercados', 'Renda Fixa']\n",
    "\n",
    "plt.figure(figsize=(8,8))\n",
    "plt.pie(valores, labels = labels_dados)\n",
    "#plt.savefig('moderado_pie_1.pdf')\n",
    "plt.show()\n",
    "\n",
    "explode_dados = (0.02, 0.02, 0.03)\n",
    "plt.figure(figsize=(8,8))\n",
    "plt.pie(valores, \n",
    "        autopct = '%1.1f%%', textprops = {'color':'w', 'fontsize': 20},\n",
    "        labels=labels_dados, shadow=True, explode=explode_dados\n",
    "       )\n",
    "plt.legend(labels_dados, loc=2)\n",
    "plt.axis('equal')\n",
    "#plt.savefig('moderado_pie_2.pdf')\n",
    "plt.show()\n"
   ]
  },
  {
   "cell_type": "code",
   "execution_count": 57,
   "metadata": {},
   "outputs": [
    {
     "data": {
      "image/png": "[encoded data removed]",
      "text/plain": [
       "<Figure size 576x576 with 1 Axes>"
      ]
     },
     "metadata": {},
     "output_type": "display_data"
    },
    {
     "data": {
      "image/png": "[encoded data removed]",
      "text/plain": [
       "<Figure size 576x576 with 1 Axes>"
      ]
     },
     "metadata": {},
     "output_type": "display_data"
    }
   ],
   "source": [
    "from matplotlib import pyplot as plt\n",
    "%matplotlib inline\n",
    "\n",
    "lista_2 = [\n",
    "    '29177024000100', '08968733000126', '20077065000142', '33736873000116', '31964074000171',\n",
    "    '19959703000170', '21732619000160', '26664935000166', '30934757000113'\n",
    "]\n",
    "\n",
    "valores = [25, 5, 35, 35]\n",
    "#valores_2 = [15.17, 0, 35, 49.83]\n",
    "labels_dados = ['Ações', 'Cambial', 'Multimercados', 'Renda Fixa']\n",
    "\n",
    "plt.figure(figsize=(8,8))\n",
    "plt.pie(valores, labels = labels_dados)\n",
    "#plt.savefig('arrojado_pie_1.pdf')\n",
    "plt.show()\n",
    "\n",
    "explode_dados = (0.03, 0.03, 0.03, 0.01)\n",
    "plt.figure(figsize=(8,8))\n",
    "plt.pie(valores, \n",
    "        autopct = '%1.1f%%', textprops = {'color':'w', 'fontsize': 20},\n",
    "        labels=labels_dados, shadow=True, explode=explode_dados\n",
    "       )\n",
    "plt.legend(labels_dados, loc=2)\n",
    "plt.axis('equal')\n",
    "#plt.savefig('arrojado_pie_2.pdf')\n",
    "plt.show()\n"
   ]
  },
  {
   "cell_type": "code",
   "execution_count": 27,
   "metadata": {},
   "outputs": [
    {
     "data": {
      "text/html": [
       "        <script type=\"text/javascript\">\n",
       "        window.PlotlyConfig = {MathJaxConfig: 'local'};\n",
       "        if (window.MathJax) {MathJax.Hub.Config({SVG: {font: \"STIX-Web\"}});}\n",
       "        if (typeof require !== 'undefined') {\n",
       "        require.undef(\"plotly\");\n",
       "        requirejs.config({\n",
       "            paths: {\n",
       "                'plotly': ['https://cdn.plot.ly/plotly-latest.min']\n",
       "            }\n",
       "        });\n",
       "        require(['plotly'], function(Plotly) {\n",
       "            window._Plotly = Plotly;\n",
       "        });\n",
       "        }\n",
       "        </script>\n",
       "        "
      ]
     },
     "metadata": {},
     "output_type": "display_data"
    },
    {
     "data": {
      "application/vnd.plotly.v1+json": {
       "config": {
        "linkText": "Export to plot.ly",
        "plotlyServerURL": "https://plot.ly",
        "showLink": true
       },
       "data": [
        {
         "labels": [
          "Ações",
          "Ações",
          "Cambial",
          "Multimercados",
          "Multimercados",
          "Multimercados",
          "Renda Fixa",
          "Renda Fixa"
         ],
         "marker": {
          "colors": [
           "rgba(31, 119, 180, 1.0)",
           "rgba(255, 127, 14, 1.0)",
           "rgba(44, 160, 44, 1.0)",
           "rgba(214, 39, 40, 1.0)",
           "rgba(148, 103, 189, 1.0)",
           "rgba(140, 86, 75, 1.0)",
           "rgba(227, 119, 194, 1.0)",
           "rgba(127, 127, 127, 1.0)"
          ]
         },
         "name": "",
         "type": "pie",
         "values": [
          0.15371939636399679,
          0.09628060363600321,
          0.15000000000000008,
          0.05,
          0.05487197852612816,
          0.14512802147387185,
          0.05,
          0.29999999999999993
         ]
        }
       ],
       "layout": {
        "legend": {
         "bgcolor": "#F5F6F9",
         "font": {
          "color": "#4D5663"
         }
        },
        "paper_bgcolor": "#F5F6F9",
        "plot_bgcolor": "#F5F6F9",
        "title": "CARTEIRA 1",
        "titlefont": {
         "color": "#4D5663"
        }
       }
      },
      "text/html": [
       "<div>                            <div id=\"67f8bb7c-57c7-41bc-980d-1def4fa735a8\" class=\"plotly-graph-div\" style=\"height:525px; width:100%;\"></div>            <script type=\"text/javascript\">                require([\"plotly\"], function(Plotly) {                    window.PLOTLYENV=window.PLOTLYENV || {};\n",
       "                    window.PLOTLYENV.BASE_URL='https://plot.ly';                                    if (document.getElementById(\"67f8bb7c-57c7-41bc-980d-1def4fa735a8\")) {                    Plotly.newPlot(                        \"67f8bb7c-57c7-41bc-980d-1def4fa735a8\",                        [{\"labels\": [\"A\\u00e7\\u00f5es\", \"A\\u00e7\\u00f5es\", \"Cambial\", \"Multimercados\", \"Multimercados\", \"Multimercados\", \"Renda Fixa\", \"Renda Fixa\"], \"marker\": {\"colors\": [\"rgba(31, 119, 180, 1.0)\", \"rgba(255, 127, 14, 1.0)\", \"rgba(44, 160, 44, 1.0)\", \"rgba(214, 39, 40, 1.0)\", \"rgba(148, 103, 189, 1.0)\", \"rgba(140, 86, 75, 1.0)\", \"rgba(227, 119, 194, 1.0)\", \"rgba(127, 127, 127, 1.0)\"]}, \"name\": \"\", \"type\": \"pie\", \"values\": [0.15371939636399679, 0.09628060363600321, 0.15000000000000008, 0.05, 0.05487197852612816, 0.14512802147387185, 0.05, 0.29999999999999993]}],                        {\"legend\": {\"bgcolor\": \"#F5F6F9\", \"font\": {\"color\": \"#4D5663\"}}, \"paper_bgcolor\": \"#F5F6F9\", \"plot_bgcolor\": \"#F5F6F9\", \"title\": \"CARTEIRA 1\", \"titlefont\": {\"color\": \"#4D5663\"}},                        {\"showLink\": true, \"linkText\": \"Export to plot.ly\", \"plotlyServerURL\": \"https://plot.ly\", \"responsive\": true}                    ).then(function(){\n",
       "                            \n",
       "var gd = document.getElementById('67f8bb7c-57c7-41bc-980d-1def4fa735a8');\n",
       "var x = new MutationObserver(function (mutations, observer) {{\n",
       "        var display = window.getComputedStyle(gd).display;\n",
       "        if (!display || display === 'none') {{\n",
       "            console.log([gd, 'removed!']);\n",
       "            Plotly.purge(gd);\n",
       "            observer.disconnect();\n",
       "        }}\n",
       "}});\n",
       "\n",
       "// Listen for the removal of the full notebook cells\n",
       "var notebookContainer = gd.closest('#notebook-container');\n",
       "if (notebookContainer) {{\n",
       "    x.observe(notebookContainer, {childList: true});\n",
       "}}\n",
       "\n",
       "// Listen for the clearing of the current output cell\n",
       "var outputEl = gd.closest('.output');\n",
       "if (outputEl) {{\n",
       "    x.observe(outputEl, {childList: true});\n",
       "}}\n",
       "\n",
       "                        })                };                });            </script>        </div>"
      ]
     },
     "metadata": {},
     "output_type": "display_data"
    }
   ],
   "source": [
    "import cufflinks as cf\n",
    "from plotly.offline import plot, iplot\n",
    "import plotly.express as px\n",
    "import plotly.graph_objects as go\n",
    "\n",
    "cf.go_offline()\n",
    "\n",
    "pie_dados = list()\n",
    "\n",
    "categoria = np.array(pf['CATEGORIA'][Carteira.descricao])\n",
    "subcategoria = np.array(pf['SUBCATEGORIA'][Carteira.descricao])\n",
    "\n",
    "for i in range(len(categoria)):\n",
    "    pie_dados.append( [Carteira.descricao[i], Carteira.porcentagem[i], categoria[i]])\n",
    "\n",
    "pie_dados = pd.DataFrame(pie_dados, columns = ['CNPJ', 'porcentagem', 'Tipo'])\n",
    "pie_dados\n",
    "pie_dados.iplot(kind='pie', values='porcentagem', labels='Tipo', colorscale='plotly', title='CARTEIRA 1')\n",
    "#pie_dados.iplot(kind='pie', values='porcentagem', labels='Tipo', colorscale='plotly', title='CARTEIRA 1', asImage=True)"
   ]
  },
  {
   "cell_type": "code",
   "execution_count": 37,
   "metadata": {
    "scrolled": true
   },
   "outputs": [
    {
     "data": {
      "text/html": [
       "<div style=\"display:inline-block;padding:10px;\"><div>accent</div><div style=\"background-color:rgb(127,201,127);height:20px;width:20px;margin-bottom:0px;display:inline-block;\"></div><div style=\"background-color:rgb(190,174,212);height:20px;width:20px;margin-bottom:0px;display:inline-block;\"></div><div style=\"background-color:rgb(253,192,134);height:20px;width:20px;margin-bottom:0px;display:inline-block;\"></div><div style=\"background-color:rgb(255,255,153);height:20px;width:20px;margin-bottom:0px;display:inline-block;\"></div><div style=\"background-color:rgb(56,108,176);height:20px;width:20px;margin-bottom:0px;display:inline-block;\"></div><div style=\"background-color:rgb(240,2,127);height:20px;width:20px;margin-bottom:0px;display:inline-block;\"></div><div style=\"background-color:rgb(191,91,23);height:20px;width:20px;margin-bottom:0px;display:inline-block;\"></div><div style=\"background-color:rgb(102,102,102);height:20px;width:20px;margin-bottom:0px;display:inline-block;\"></div></div><div style=\"display:inline-block;padding:10px;\"><div>blues</div><div style=\"background-color:rgb(247,251,255);height:20px;width:20px;margin-bottom:0px;display:inline-block;\"></div><div style=\"background-color:rgb(222,235,247);height:20px;width:20px;margin-bottom:0px;display:inline-block;\"></div><div style=\"background-color:rgb(198,219,239);height:20px;width:20px;margin-bottom:0px;display:inline-block;\"></div><div style=\"background-color:rgb(158,202,225);height:20px;width:20px;margin-bottom:0px;display:inline-block;\"></div><div style=\"background-color:rgb(107,174,214);height:20px;width:20px;margin-bottom:0px;display:inline-block;\"></div><div style=\"background-color:rgb(66,146,198);height:20px;width:20px;margin-bottom:0px;display:inline-block;\"></div><div style=\"background-color:rgb(33,113,181);height:20px;width:20px;margin-bottom:0px;display:inline-block;\"></div><div style=\"background-color:rgb(8,81,156);height:20px;width:20px;margin-bottom:0px;display:inline-block;\"></div><div style=\"background-color:rgb(8,48,107);height:20px;width:20px;margin-bottom:0px;display:inline-block;\"></div></div><div style=\"display:inline-block;padding:10px;\"><div>brbg</div><div style=\"background-color:rgb(84,48,5);height:20px;width:20px;margin-bottom:0px;display:inline-block;\"></div><div style=\"background-color:rgb(140,81,10);height:20px;width:20px;margin-bottom:0px;display:inline-block;\"></div><div style=\"background-color:rgb(191,129,45);height:20px;width:20px;margin-bottom:0px;display:inline-block;\"></div><div style=\"background-color:rgb(223,194,125);height:20px;width:20px;margin-bottom:0px;display:inline-block;\"></div><div style=\"background-color:rgb(246,232,195);height:20px;width:20px;margin-bottom:0px;display:inline-block;\"></div><div style=\"background-color:rgb(245,245,245);height:20px;width:20px;margin-bottom:0px;display:inline-block;\"></div><div style=\"background-color:rgb(199,234,229);height:20px;width:20px;margin-bottom:0px;display:inline-block;\"></div><div style=\"background-color:rgb(128,205,193);height:20px;width:20px;margin-bottom:0px;display:inline-block;\"></div><div style=\"background-color:rgb(53,151,143);height:20px;width:20px;margin-bottom:0px;display:inline-block;\"></div><div style=\"background-color:rgb(1,102,94);height:20px;width:20px;margin-bottom:0px;display:inline-block;\"></div><div style=\"background-color:rgb(0,60,48);height:20px;width:20px;margin-bottom:0px;display:inline-block;\"></div></div><div style=\"display:inline-block;padding:10px;\"><div>bugn</div><div style=\"background-color:rgb(247,252,253);height:20px;width:20px;margin-bottom:0px;display:inline-block;\"></div><div style=\"background-color:rgb(229,245,249);height:20px;width:20px;margin-bottom:0px;display:inline-block;\"></div><div style=\"background-color:rgb(204,236,230);height:20px;width:20px;margin-bottom:0px;display:inline-block;\"></div><div style=\"background-color:rgb(153,216,201);height:20px;width:20px;margin-bottom:0px;display:inline-block;\"></div><div style=\"background-color:rgb(102,194,164);height:20px;width:20px;margin-bottom:0px;display:inline-block;\"></div><div style=\"background-color:rgb(65,174,118);height:20px;width:20px;margin-bottom:0px;display:inline-block;\"></div><div style=\"background-color:rgb(35,139,69);height:20px;width:20px;margin-bottom:0px;display:inline-block;\"></div><div style=\"background-color:rgb(0,109,44);height:20px;width:20px;margin-bottom:0px;display:inline-block;\"></div><div style=\"background-color:rgb(0,68,27);height:20px;width:20px;margin-bottom:0px;display:inline-block;\"></div></div><div style=\"display:inline-block;padding:10px;\"><div>bupu</div><div style=\"background-color:rgb(247,252,253);height:20px;width:20px;margin-bottom:0px;display:inline-block;\"></div><div style=\"background-color:rgb(224,236,244);height:20px;width:20px;margin-bottom:0px;display:inline-block;\"></div><div style=\"background-color:rgb(191,211,230);height:20px;width:20px;margin-bottom:0px;display:inline-block;\"></div><div style=\"background-color:rgb(158,188,218);height:20px;width:20px;margin-bottom:0px;display:inline-block;\"></div><div style=\"background-color:rgb(140,150,198);height:20px;width:20px;margin-bottom:0px;display:inline-block;\"></div><div style=\"background-color:rgb(140,107,177);height:20px;width:20px;margin-bottom:0px;display:inline-block;\"></div><div style=\"background-color:rgb(136,65,157);height:20px;width:20px;margin-bottom:0px;display:inline-block;\"></div><div style=\"background-color:rgb(129,15,124);height:20px;width:20px;margin-bottom:0px;display:inline-block;\"></div><div style=\"background-color:rgb(77,0,75);height:20px;width:20px;margin-bottom:0px;display:inline-block;\"></div></div><div style=\"display:inline-block;padding:10px;\"><div>dark2</div><div style=\"background-color:rgb(27,158,119);height:20px;width:20px;margin-bottom:0px;display:inline-block;\"></div><div style=\"background-color:rgb(217,95,2);height:20px;width:20px;margin-bottom:0px;display:inline-block;\"></div><div style=\"background-color:rgb(117,112,179);height:20px;width:20px;margin-bottom:0px;display:inline-block;\"></div><div style=\"background-color:rgb(231,41,138);height:20px;width:20px;margin-bottom:0px;display:inline-block;\"></div><div style=\"background-color:rgb(102,166,30);height:20px;width:20px;margin-bottom:0px;display:inline-block;\"></div><div style=\"background-color:rgb(230,171,2);height:20px;width:20px;margin-bottom:0px;display:inline-block;\"></div><div style=\"background-color:rgb(166,118,29);height:20px;width:20px;margin-bottom:0px;display:inline-block;\"></div><div style=\"background-color:rgb(102,102,102);height:20px;width:20px;margin-bottom:0px;display:inline-block;\"></div></div><div style=\"display:inline-block;padding:10px;\"><div>dflt</div><div style=\"background-color:rgb(255, 153, 51);height:20px;width:20px;margin-bottom:0px;display:inline-block;\"></div><div style=\"background-color:rgb(55, 128, 191);height:20px;width:20px;margin-bottom:0px;display:inline-block;\"></div><div style=\"background-color:rgb(50, 171, 96);height:20px;width:20px;margin-bottom:0px;display:inline-block;\"></div><div style=\"background-color:rgb(128, 0, 128);height:20px;width:20px;margin-bottom:0px;display:inline-block;\"></div><div style=\"background-color:rgb(219, 64, 82);height:20px;width:20px;margin-bottom:0px;display:inline-block;\"></div><div style=\"background-color:rgb(0, 128, 128);height:20px;width:20px;margin-bottom:0px;display:inline-block;\"></div><div style=\"background-color:rgb(255, 255, 51);height:20px;width:20px;margin-bottom:0px;display:inline-block;\"></div><div style=\"background-color:rgb(128, 128, 0);height:20px;width:20px;margin-bottom:0px;display:inline-block;\"></div><div style=\"background-color:rgb(251, 128, 114);height:20px;width:20px;margin-bottom:0px;display:inline-block;\"></div><div style=\"background-color:rgb(128, 177, 211);height:20px;width:20px;margin-bottom:0px;display:inline-block;\"></div></div><div style=\"display:inline-block;padding:10px;\"><div>ggplot</div><div style=\"background-color:rgb(226, 74, 51);height:20px;width:20px;margin-bottom:0px;display:inline-block;\"></div><div style=\"background-color:rgb(62, 111, 176);height:20px;width:20px;margin-bottom:0px;display:inline-block;\"></div><div style=\"background-color:rgb(132, 118, 202);height:20px;width:20px;margin-bottom:0px;display:inline-block;\"></div><div style=\"background-color:rgb(101, 101, 101);height:20px;width:20px;margin-bottom:0px;display:inline-block;\"></div><div style=\"background-color:rgb(251, 193, 94);height:20px;width:20px;margin-bottom:0px;display:inline-block;\"></div><div style=\"background-color:rgb(142, 186, 66);height:20px;width:20px;margin-bottom:0px;display:inline-block;\"></div><div style=\"background-color:rgb(255, 181, 184);height:20px;width:20px;margin-bottom:0px;display:inline-block;\"></div></div><div style=\"display:inline-block;padding:10px;\"><div>gnbu</div><div style=\"background-color:rgb(247,252,240);height:20px;width:20px;margin-bottom:0px;display:inline-block;\"></div><div style=\"background-color:rgb(224,243,219);height:20px;width:20px;margin-bottom:0px;display:inline-block;\"></div><div style=\"background-color:rgb(204,235,197);height:20px;width:20px;margin-bottom:0px;display:inline-block;\"></div><div style=\"background-color:rgb(168,221,181);height:20px;width:20px;margin-bottom:0px;display:inline-block;\"></div><div style=\"background-color:rgb(123,204,196);height:20px;width:20px;margin-bottom:0px;display:inline-block;\"></div><div style=\"background-color:rgb(78,179,211);height:20px;width:20px;margin-bottom:0px;display:inline-block;\"></div><div style=\"background-color:rgb(43,140,190);height:20px;width:20px;margin-bottom:0px;display:inline-block;\"></div><div style=\"background-color:rgb(8,104,172);height:20px;width:20px;margin-bottom:0px;display:inline-block;\"></div><div style=\"background-color:rgb(8,64,129);height:20px;width:20px;margin-bottom:0px;display:inline-block;\"></div></div><div style=\"display:inline-block;padding:10px;\"><div>greens</div><div style=\"background-color:rgb(247,252,245);height:20px;width:20px;margin-bottom:0px;display:inline-block;\"></div><div style=\"background-color:rgb(229,245,224);height:20px;width:20px;margin-bottom:0px;display:inline-block;\"></div><div style=\"background-color:rgb(199,233,192);height:20px;width:20px;margin-bottom:0px;display:inline-block;\"></div><div style=\"background-color:rgb(161,217,155);height:20px;width:20px;margin-bottom:0px;display:inline-block;\"></div><div style=\"background-color:rgb(116,196,118);height:20px;width:20px;margin-bottom:0px;display:inline-block;\"></div><div style=\"background-color:rgb(65,171,93);height:20px;width:20px;margin-bottom:0px;display:inline-block;\"></div><div style=\"background-color:rgb(35,139,69);height:20px;width:20px;margin-bottom:0px;display:inline-block;\"></div><div style=\"background-color:rgb(0,109,44);height:20px;width:20px;margin-bottom:0px;display:inline-block;\"></div><div style=\"background-color:rgb(0,68,27);height:20px;width:20px;margin-bottom:0px;display:inline-block;\"></div></div><div style=\"display:inline-block;padding:10px;\"><div>greys</div><div style=\"background-color:rgb(255,255,255);height:20px;width:20px;margin-bottom:0px;display:inline-block;\"></div><div style=\"background-color:rgb(240,240,240);height:20px;width:20px;margin-bottom:0px;display:inline-block;\"></div><div style=\"background-color:rgb(217,217,217);height:20px;width:20px;margin-bottom:0px;display:inline-block;\"></div><div style=\"background-color:rgb(189,189,189);height:20px;width:20px;margin-bottom:0px;display:inline-block;\"></div><div style=\"background-color:rgb(150,150,150);height:20px;width:20px;margin-bottom:0px;display:inline-block;\"></div><div style=\"background-color:rgb(115,115,115);height:20px;width:20px;margin-bottom:0px;display:inline-block;\"></div><div style=\"background-color:rgb(82,82,82);height:20px;width:20px;margin-bottom:0px;display:inline-block;\"></div><div style=\"background-color:rgb(37,37,37);height:20px;width:20px;margin-bottom:0px;display:inline-block;\"></div><div style=\"background-color:rgb(0,0,0);height:20px;width:20px;margin-bottom:0px;display:inline-block;\"></div></div><div style=\"display:inline-block;padding:10px;\"><div>henanigans</div><div style=\"background-color:rgb(182, 236, 243);height:20px;width:20px;margin-bottom:0px;display:inline-block;\"></div><div style=\"background-color:rgb(222, 149, 142);height:20px;width:20px;margin-bottom:0px;display:inline-block;\"></div><div style=\"background-color:rgb(160, 209, 123);height:20px;width:20px;margin-bottom:0px;display:inline-block;\"></div><div style=\"background-color:rgb(147, 182, 230);height:20px;width:20px;margin-bottom:0px;display:inline-block;\"></div><div style=\"background-color:rgb(235, 180, 131);height:20px;width:20px;margin-bottom:0px;display:inline-block;\"></div><div style=\"background-color:rgb(172, 146, 222);height:20px;width:20px;margin-bottom:0px;display:inline-block;\"></div><div style=\"background-color:rgb(233, 234, 190);height:20px;width:20px;margin-bottom:0px;display:inline-block;\"></div><div style=\"background-color:rgb(244, 244, 244);height:20px;width:20px;margin-bottom:0px;display:inline-block;\"></div><div style=\"background-color:rgb(126, 196, 207);height:20px;width:20px;margin-bottom:0px;display:inline-block;\"></div><div style=\"background-color:rgb(247, 126, 112);height:20px;width:20px;margin-bottom:0px;display:inline-block;\"></div><div style=\"background-color:rgb(139, 209, 85);height:20px;width:20px;margin-bottom:0px;display:inline-block;\"></div><div style=\"background-color:rgb(95, 149, 222);height:20px;width:20px;margin-bottom:0px;display:inline-block;\"></div></div><div style=\"display:inline-block;padding:10px;\"><div>oranges</div><div style=\"background-color:rgb(255,245,235);height:20px;width:20px;margin-bottom:0px;display:inline-block;\"></div><div style=\"background-color:rgb(254,230,206);height:20px;width:20px;margin-bottom:0px;display:inline-block;\"></div><div style=\"background-color:rgb(253,208,162);height:20px;width:20px;margin-bottom:0px;display:inline-block;\"></div><div style=\"background-color:rgb(253,174,107);height:20px;width:20px;margin-bottom:0px;display:inline-block;\"></div><div style=\"background-color:rgb(253,141,60);height:20px;width:20px;margin-bottom:0px;display:inline-block;\"></div><div style=\"background-color:rgb(241,105,19);height:20px;width:20px;margin-bottom:0px;display:inline-block;\"></div><div style=\"background-color:rgb(217,72,1);height:20px;width:20px;margin-bottom:0px;display:inline-block;\"></div><div style=\"background-color:rgb(166,54,3);height:20px;width:20px;margin-bottom:0px;display:inline-block;\"></div><div style=\"background-color:rgb(127,39,4);height:20px;width:20px;margin-bottom:0px;display:inline-block;\"></div></div><div style=\"display:inline-block;padding:10px;\"><div>original</div><div style=\"background-color:rgb(255, 153, 51);height:20px;width:20px;margin-bottom:0px;display:inline-block;\"></div><div style=\"background-color:rgb(55, 128, 191);height:20px;width:20px;margin-bottom:0px;display:inline-block;\"></div><div style=\"background-color:rgb(50, 171, 96);height:20px;width:20px;margin-bottom:0px;display:inline-block;\"></div><div style=\"background-color:rgb(128, 0, 128);height:20px;width:20px;margin-bottom:0px;display:inline-block;\"></div><div style=\"background-color:rgb(219, 64, 82);height:20px;width:20px;margin-bottom:0px;display:inline-block;\"></div><div style=\"background-color:rgb(0, 128, 128);height:20px;width:20px;margin-bottom:0px;display:inline-block;\"></div><div style=\"background-color:rgb(255, 255, 51);height:20px;width:20px;margin-bottom:0px;display:inline-block;\"></div><div style=\"background-color:rgb(128, 128, 0);height:20px;width:20px;margin-bottom:0px;display:inline-block;\"></div><div style=\"background-color:rgb(251, 128, 114);height:20px;width:20px;margin-bottom:0px;display:inline-block;\"></div><div style=\"background-color:rgb(128, 177, 211);height:20px;width:20px;margin-bottom:0px;display:inline-block;\"></div></div><div style=\"display:inline-block;padding:10px;\"><div>orrd</div><div style=\"background-color:rgb(255,247,236);height:20px;width:20px;margin-bottom:0px;display:inline-block;\"></div><div style=\"background-color:rgb(254,232,200);height:20px;width:20px;margin-bottom:0px;display:inline-block;\"></div><div style=\"background-color:rgb(253,212,158);height:20px;width:20px;margin-bottom:0px;display:inline-block;\"></div><div style=\"background-color:rgb(253,187,132);height:20px;width:20px;margin-bottom:0px;display:inline-block;\"></div><div style=\"background-color:rgb(252,141,89);height:20px;width:20px;margin-bottom:0px;display:inline-block;\"></div><div style=\"background-color:rgb(239,101,72);height:20px;width:20px;margin-bottom:0px;display:inline-block;\"></div><div style=\"background-color:rgb(215,48,31);height:20px;width:20px;margin-bottom:0px;display:inline-block;\"></div><div style=\"background-color:rgb(179,0,0);height:20px;width:20px;margin-bottom:0px;display:inline-block;\"></div><div style=\"background-color:rgb(127,0,0);height:20px;width:20px;margin-bottom:0px;display:inline-block;\"></div></div><div style=\"display:inline-block;padding:10px;\"><div>paired</div><div style=\"background-color:rgb(166,206,227);height:20px;width:20px;margin-bottom:0px;display:inline-block;\"></div><div style=\"background-color:rgb(31,120,180);height:20px;width:20px;margin-bottom:0px;display:inline-block;\"></div><div style=\"background-color:rgb(178,223,138);height:20px;width:20px;margin-bottom:0px;display:inline-block;\"></div><div style=\"background-color:rgb(51,160,44);height:20px;width:20px;margin-bottom:0px;display:inline-block;\"></div><div style=\"background-color:rgb(251,154,153);height:20px;width:20px;margin-bottom:0px;display:inline-block;\"></div><div style=\"background-color:rgb(227,26,28);height:20px;width:20px;margin-bottom:0px;display:inline-block;\"></div><div style=\"background-color:rgb(253,191,111);height:20px;width:20px;margin-bottom:0px;display:inline-block;\"></div><div style=\"background-color:rgb(255,127,0);height:20px;width:20px;margin-bottom:0px;display:inline-block;\"></div><div style=\"background-color:rgb(202,178,214);height:20px;width:20px;margin-bottom:0px;display:inline-block;\"></div><div style=\"background-color:rgb(106,61,154);height:20px;width:20px;margin-bottom:0px;display:inline-block;\"></div><div style=\"background-color:rgb(255,255,153);height:20px;width:20px;margin-bottom:0px;display:inline-block;\"></div><div style=\"background-color:rgb(177,89,40);height:20px;width:20px;margin-bottom:0px;display:inline-block;\"></div></div><div style=\"display:inline-block;padding:10px;\"><div>pastel1</div><div style=\"background-color:rgb(251,180,174);height:20px;width:20px;margin-bottom:0px;display:inline-block;\"></div><div style=\"background-color:rgb(179,205,227);height:20px;width:20px;margin-bottom:0px;display:inline-block;\"></div><div style=\"background-color:rgb(204,235,197);height:20px;width:20px;margin-bottom:0px;display:inline-block;\"></div><div style=\"background-color:rgb(222,203,228);height:20px;width:20px;margin-bottom:0px;display:inline-block;\"></div><div style=\"background-color:rgb(254,217,166);height:20px;width:20px;margin-bottom:0px;display:inline-block;\"></div><div style=\"background-color:rgb(255,255,204);height:20px;width:20px;margin-bottom:0px;display:inline-block;\"></div><div style=\"background-color:rgb(229,216,189);height:20px;width:20px;margin-bottom:0px;display:inline-block;\"></div><div style=\"background-color:rgb(253,218,236);height:20px;width:20px;margin-bottom:0px;display:inline-block;\"></div><div style=\"background-color:rgb(242,242,242);height:20px;width:20px;margin-bottom:0px;display:inline-block;\"></div></div><div style=\"display:inline-block;padding:10px;\"><div>pastel2</div><div style=\"background-color:rgb(179,226,205);height:20px;width:20px;margin-bottom:0px;display:inline-block;\"></div><div style=\"background-color:rgb(253,205,172);height:20px;width:20px;margin-bottom:0px;display:inline-block;\"></div><div style=\"background-color:rgb(203,213,232);height:20px;width:20px;margin-bottom:0px;display:inline-block;\"></div><div style=\"background-color:rgb(244,202,228);height:20px;width:20px;margin-bottom:0px;display:inline-block;\"></div><div style=\"background-color:rgb(230,245,201);height:20px;width:20px;margin-bottom:0px;display:inline-block;\"></div><div style=\"background-color:rgb(255,242,174);height:20px;width:20px;margin-bottom:0px;display:inline-block;\"></div><div style=\"background-color:rgb(241,226,204);height:20px;width:20px;margin-bottom:0px;display:inline-block;\"></div><div style=\"background-color:rgb(204,204,204);height:20px;width:20px;margin-bottom:0px;display:inline-block;\"></div></div><div style=\"display:inline-block;padding:10px;\"><div>piyg</div><div style=\"background-color:rgb(142,1,82);height:20px;width:20px;margin-bottom:0px;display:inline-block;\"></div><div style=\"background-color:rgb(197,27,125);height:20px;width:20px;margin-bottom:0px;display:inline-block;\"></div><div style=\"background-color:rgb(222,119,174);height:20px;width:20px;margin-bottom:0px;display:inline-block;\"></div><div style=\"background-color:rgb(241,182,218);height:20px;width:20px;margin-bottom:0px;display:inline-block;\"></div><div style=\"background-color:rgb(253,224,239);height:20px;width:20px;margin-bottom:0px;display:inline-block;\"></div><div style=\"background-color:rgb(247,247,247);height:20px;width:20px;margin-bottom:0px;display:inline-block;\"></div><div style=\"background-color:rgb(230,245,208);height:20px;width:20px;margin-bottom:0px;display:inline-block;\"></div><div style=\"background-color:rgb(184,225,134);height:20px;width:20px;margin-bottom:0px;display:inline-block;\"></div><div style=\"background-color:rgb(127,188,65);height:20px;width:20px;margin-bottom:0px;display:inline-block;\"></div><div style=\"background-color:rgb(77,146,33);height:20px;width:20px;margin-bottom:0px;display:inline-block;\"></div><div style=\"background-color:rgb(39,100,25);height:20px;width:20px;margin-bottom:0px;display:inline-block;\"></div></div><div style=\"display:inline-block;padding:10px;\"><div>plotly</div><div style=\"background-color:rgb(31, 119, 180);height:20px;width:20px;margin-bottom:0px;display:inline-block;\"></div><div style=\"background-color:rgb(255, 127, 14);height:20px;width:20px;margin-bottom:0px;display:inline-block;\"></div><div style=\"background-color:rgb(44, 160, 44);height:20px;width:20px;margin-bottom:0px;display:inline-block;\"></div><div style=\"background-color:rgb(214, 39, 40);height:20px;width:20px;margin-bottom:0px;display:inline-block;\"></div><div style=\"background-color:rgb(148, 103, 189);height:20px;width:20px;margin-bottom:0px;display:inline-block;\"></div><div style=\"background-color:rgb(140, 86, 75);height:20px;width:20px;margin-bottom:0px;display:inline-block;\"></div><div style=\"background-color:rgb(227, 119, 194);height:20px;width:20px;margin-bottom:0px;display:inline-block;\"></div><div style=\"background-color:rgb(127, 127, 127);height:20px;width:20px;margin-bottom:0px;display:inline-block;\"></div><div style=\"background-color:rgb(188, 189, 34);height:20px;width:20px;margin-bottom:0px;display:inline-block;\"></div><div style=\"background-color:rgb(23, 190, 207);height:20px;width:20px;margin-bottom:0px;display:inline-block;\"></div></div><div style=\"display:inline-block;padding:10px;\"><div>polar</div><div style=\"background-color:rgb(0, 128, 240);height:20px;width:20px;margin-bottom:0px;display:inline-block;\"></div><div style=\"background-color:rgb(238, 118, 0);height:20px;width:20px;margin-bottom:0px;display:inline-block;\"></div><div style=\"background-color:rgb(48, 144, 84);height:20px;width:20px;margin-bottom:0px;display:inline-block;\"></div><div style=\"background-color:rgb(98, 98, 222);height:20px;width:20px;margin-bottom:0px;display:inline-block;\"></div><div style=\"background-color:rgb(217, 66, 85);height:20px;width:20px;margin-bottom:0px;display:inline-block;\"></div><div style=\"background-color:rgb(173, 252, 252);height:20px;width:20px;margin-bottom:0px;display:inline-block;\"></div><div style=\"background-color:rgb(70, 160, 240);height:20px;width:20px;margin-bottom:0px;display:inline-block;\"></div></div><div style=\"display:inline-block;padding:10px;\"><div>prgn</div><div style=\"background-color:rgb(64,0,75);height:20px;width:20px;margin-bottom:0px;display:inline-block;\"></div><div style=\"background-color:rgb(118,42,131);height:20px;width:20px;margin-bottom:0px;display:inline-block;\"></div><div style=\"background-color:rgb(153,112,171);height:20px;width:20px;margin-bottom:0px;display:inline-block;\"></div><div style=\"background-color:rgb(194,165,207);height:20px;width:20px;margin-bottom:0px;display:inline-block;\"></div><div style=\"background-color:rgb(231,212,232);height:20px;width:20px;margin-bottom:0px;display:inline-block;\"></div><div style=\"background-color:rgb(247,247,247);height:20px;width:20px;margin-bottom:0px;display:inline-block;\"></div><div style=\"background-color:rgb(217,240,211);height:20px;width:20px;margin-bottom:0px;display:inline-block;\"></div><div style=\"background-color:rgb(166,219,160);height:20px;width:20px;margin-bottom:0px;display:inline-block;\"></div><div style=\"background-color:rgb(90,174,97);height:20px;width:20px;margin-bottom:0px;display:inline-block;\"></div><div style=\"background-color:rgb(27,120,55);height:20px;width:20px;margin-bottom:0px;display:inline-block;\"></div><div style=\"background-color:rgb(0,68,27);height:20px;width:20px;margin-bottom:0px;display:inline-block;\"></div></div><div style=\"display:inline-block;padding:10px;\"><div>pubu</div><div style=\"background-color:rgb(255,247,251);height:20px;width:20px;margin-bottom:0px;display:inline-block;\"></div><div style=\"background-color:rgb(236,231,242);height:20px;width:20px;margin-bottom:0px;display:inline-block;\"></div><div style=\"background-color:rgb(208,209,230);height:20px;width:20px;margin-bottom:0px;display:inline-block;\"></div><div style=\"background-color:rgb(166,189,219);height:20px;width:20px;margin-bottom:0px;display:inline-block;\"></div><div style=\"background-color:rgb(116,169,207);height:20px;width:20px;margin-bottom:0px;display:inline-block;\"></div><div style=\"background-color:rgb(54,144,192);height:20px;width:20px;margin-bottom:0px;display:inline-block;\"></div><div style=\"background-color:rgb(5,112,176);height:20px;width:20px;margin-bottom:0px;display:inline-block;\"></div><div style=\"background-color:rgb(4,90,141);height:20px;width:20px;margin-bottom:0px;display:inline-block;\"></div><div style=\"background-color:rgb(2,56,88);height:20px;width:20px;margin-bottom:0px;display:inline-block;\"></div></div><div style=\"display:inline-block;padding:10px;\"><div>pubugn</div><div style=\"background-color:rgb(255,247,251);height:20px;width:20px;margin-bottom:0px;display:inline-block;\"></div><div style=\"background-color:rgb(236,226,240);height:20px;width:20px;margin-bottom:0px;display:inline-block;\"></div><div style=\"background-color:rgb(208,209,230);height:20px;width:20px;margin-bottom:0px;display:inline-block;\"></div><div style=\"background-color:rgb(166,189,219);height:20px;width:20px;margin-bottom:0px;display:inline-block;\"></div><div style=\"background-color:rgb(103,169,207);height:20px;width:20px;margin-bottom:0px;display:inline-block;\"></div><div style=\"background-color:rgb(54,144,192);height:20px;width:20px;margin-bottom:0px;display:inline-block;\"></div><div style=\"background-color:rgb(2,129,138);height:20px;width:20px;margin-bottom:0px;display:inline-block;\"></div><div style=\"background-color:rgb(1,108,89);height:20px;width:20px;margin-bottom:0px;display:inline-block;\"></div><div style=\"background-color:rgb(1,70,54);height:20px;width:20px;margin-bottom:0px;display:inline-block;\"></div></div><div style=\"display:inline-block;padding:10px;\"><div>puor</div><div style=\"background-color:rgb(127,59,8);height:20px;width:20px;margin-bottom:0px;display:inline-block;\"></div><div style=\"background-color:rgb(179,88,6);height:20px;width:20px;margin-bottom:0px;display:inline-block;\"></div><div style=\"background-color:rgb(224,130,20);height:20px;width:20px;margin-bottom:0px;display:inline-block;\"></div><div style=\"background-color:rgb(253,184,99);height:20px;width:20px;margin-bottom:0px;display:inline-block;\"></div><div style=\"background-color:rgb(254,224,182);height:20px;width:20px;margin-bottom:0px;display:inline-block;\"></div><div style=\"background-color:rgb(247,247,247);height:20px;width:20px;margin-bottom:0px;display:inline-block;\"></div><div style=\"background-color:rgb(216,218,235);height:20px;width:20px;margin-bottom:0px;display:inline-block;\"></div><div style=\"background-color:rgb(178,171,210);height:20px;width:20px;margin-bottom:0px;display:inline-block;\"></div><div style=\"background-color:rgb(128,115,172);height:20px;width:20px;margin-bottom:0px;display:inline-block;\"></div><div style=\"background-color:rgb(84,39,136);height:20px;width:20px;margin-bottom:0px;display:inline-block;\"></div><div style=\"background-color:rgb(45,0,75);height:20px;width:20px;margin-bottom:0px;display:inline-block;\"></div></div><div style=\"display:inline-block;padding:10px;\"><div>purd</div><div style=\"background-color:rgb(247,244,249);height:20px;width:20px;margin-bottom:0px;display:inline-block;\"></div><div style=\"background-color:rgb(231,225,239);height:20px;width:20px;margin-bottom:0px;display:inline-block;\"></div><div style=\"background-color:rgb(212,185,218);height:20px;width:20px;margin-bottom:0px;display:inline-block;\"></div><div style=\"background-color:rgb(201,148,199);height:20px;width:20px;margin-bottom:0px;display:inline-block;\"></div><div style=\"background-color:rgb(223,101,176);height:20px;width:20px;margin-bottom:0px;display:inline-block;\"></div><div style=\"background-color:rgb(231,41,138);height:20px;width:20px;margin-bottom:0px;display:inline-block;\"></div><div style=\"background-color:rgb(206,18,86);height:20px;width:20px;margin-bottom:0px;display:inline-block;\"></div><div style=\"background-color:rgb(152,0,67);height:20px;width:20px;margin-bottom:0px;display:inline-block;\"></div><div style=\"background-color:rgb(103,0,31);height:20px;width:20px;margin-bottom:0px;display:inline-block;\"></div></div><div style=\"display:inline-block;padding:10px;\"><div>purples</div><div style=\"background-color:rgb(252,251,253);height:20px;width:20px;margin-bottom:0px;display:inline-block;\"></div><div style=\"background-color:rgb(239,237,245);height:20px;width:20px;margin-bottom:0px;display:inline-block;\"></div><div style=\"background-color:rgb(218,218,235);height:20px;width:20px;margin-bottom:0px;display:inline-block;\"></div><div style=\"background-color:rgb(188,189,220);height:20px;width:20px;margin-bottom:0px;display:inline-block;\"></div><div style=\"background-color:rgb(158,154,200);height:20px;width:20px;margin-bottom:0px;display:inline-block;\"></div><div style=\"background-color:rgb(128,125,186);height:20px;width:20px;margin-bottom:0px;display:inline-block;\"></div><div style=\"background-color:rgb(106,81,163);height:20px;width:20px;margin-bottom:0px;display:inline-block;\"></div><div style=\"background-color:rgb(84,39,143);height:20px;width:20px;margin-bottom:0px;display:inline-block;\"></div><div style=\"background-color:rgb(63,0,125);height:20px;width:20px;margin-bottom:0px;display:inline-block;\"></div></div><div style=\"display:inline-block;padding:10px;\"><div>rdbu</div><div style=\"background-color:rgb(103,0,31);height:20px;width:20px;margin-bottom:0px;display:inline-block;\"></div><div style=\"background-color:rgb(178,24,43);height:20px;width:20px;margin-bottom:0px;display:inline-block;\"></div><div style=\"background-color:rgb(214,96,77);height:20px;width:20px;margin-bottom:0px;display:inline-block;\"></div><div style=\"background-color:rgb(244,165,130);height:20px;width:20px;margin-bottom:0px;display:inline-block;\"></div><div style=\"background-color:rgb(253,219,199);height:20px;width:20px;margin-bottom:0px;display:inline-block;\"></div><div style=\"background-color:rgb(247,247,247);height:20px;width:20px;margin-bottom:0px;display:inline-block;\"></div><div style=\"background-color:rgb(209,229,240);height:20px;width:20px;margin-bottom:0px;display:inline-block;\"></div><div style=\"background-color:rgb(146,197,222);height:20px;width:20px;margin-bottom:0px;display:inline-block;\"></div><div style=\"background-color:rgb(67,147,195);height:20px;width:20px;margin-bottom:0px;display:inline-block;\"></div><div style=\"background-color:rgb(33,102,172);height:20px;width:20px;margin-bottom:0px;display:inline-block;\"></div><div style=\"background-color:rgb(5,48,97);height:20px;width:20px;margin-bottom:0px;display:inline-block;\"></div></div><div style=\"display:inline-block;padding:10px;\"><div>rdgy</div><div style=\"background-color:rgb(103,0,31);height:20px;width:20px;margin-bottom:0px;display:inline-block;\"></div><div style=\"background-color:rgb(178,24,43);height:20px;width:20px;margin-bottom:0px;display:inline-block;\"></div><div style=\"background-color:rgb(214,96,77);height:20px;width:20px;margin-bottom:0px;display:inline-block;\"></div><div style=\"background-color:rgb(244,165,130);height:20px;width:20px;margin-bottom:0px;display:inline-block;\"></div><div style=\"background-color:rgb(253,219,199);height:20px;width:20px;margin-bottom:0px;display:inline-block;\"></div><div style=\"background-color:rgb(255,255,255);height:20px;width:20px;margin-bottom:0px;display:inline-block;\"></div><div style=\"background-color:rgb(224,224,224);height:20px;width:20px;margin-bottom:0px;display:inline-block;\"></div><div style=\"background-color:rgb(186,186,186);height:20px;width:20px;margin-bottom:0px;display:inline-block;\"></div><div style=\"background-color:rgb(135,135,135);height:20px;width:20px;margin-bottom:0px;display:inline-block;\"></div><div style=\"background-color:rgb(77,77,77);height:20px;width:20px;margin-bottom:0px;display:inline-block;\"></div><div style=\"background-color:rgb(26,26,26);height:20px;width:20px;margin-bottom:0px;display:inline-block;\"></div></div><div style=\"display:inline-block;padding:10px;\"><div>rdpu</div><div style=\"background-color:rgb(255,247,243);height:20px;width:20px;margin-bottom:0px;display:inline-block;\"></div><div style=\"background-color:rgb(253,224,221);height:20px;width:20px;margin-bottom:0px;display:inline-block;\"></div><div style=\"background-color:rgb(252,197,192);height:20px;width:20px;margin-bottom:0px;display:inline-block;\"></div><div style=\"background-color:rgb(250,159,181);height:20px;width:20px;margin-bottom:0px;display:inline-block;\"></div><div style=\"background-color:rgb(247,104,161);height:20px;width:20px;margin-bottom:0px;display:inline-block;\"></div><div style=\"background-color:rgb(221,52,151);height:20px;width:20px;margin-bottom:0px;display:inline-block;\"></div><div style=\"background-color:rgb(174,1,126);height:20px;width:20px;margin-bottom:0px;display:inline-block;\"></div><div style=\"background-color:rgb(122,1,119);height:20px;width:20px;margin-bottom:0px;display:inline-block;\"></div><div style=\"background-color:rgb(73,0,106);height:20px;width:20px;margin-bottom:0px;display:inline-block;\"></div></div><div style=\"display:inline-block;padding:10px;\"><div>rdylbu</div><div style=\"background-color:rgb(165,0,38);height:20px;width:20px;margin-bottom:0px;display:inline-block;\"></div><div style=\"background-color:rgb(215,48,39);height:20px;width:20px;margin-bottom:0px;display:inline-block;\"></div><div style=\"background-color:rgb(244,109,67);height:20px;width:20px;margin-bottom:0px;display:inline-block;\"></div><div style=\"background-color:rgb(253,174,97);height:20px;width:20px;margin-bottom:0px;display:inline-block;\"></div><div style=\"background-color:rgb(254,224,144);height:20px;width:20px;margin-bottom:0px;display:inline-block;\"></div><div style=\"background-color:rgb(255,255,191);height:20px;width:20px;margin-bottom:0px;display:inline-block;\"></div><div style=\"background-color:rgb(224,243,248);height:20px;width:20px;margin-bottom:0px;display:inline-block;\"></div><div style=\"background-color:rgb(171,217,233);height:20px;width:20px;margin-bottom:0px;display:inline-block;\"></div><div style=\"background-color:rgb(116,173,209);height:20px;width:20px;margin-bottom:0px;display:inline-block;\"></div><div style=\"background-color:rgb(69,117,180);height:20px;width:20px;margin-bottom:0px;display:inline-block;\"></div><div style=\"background-color:rgb(49,54,149);height:20px;width:20px;margin-bottom:0px;display:inline-block;\"></div></div><div style=\"display:inline-block;padding:10px;\"><div>rdylgn</div><div style=\"background-color:rgb(165,0,38);height:20px;width:20px;margin-bottom:0px;display:inline-block;\"></div><div style=\"background-color:rgb(215,48,39);height:20px;width:20px;margin-bottom:0px;display:inline-block;\"></div><div style=\"background-color:rgb(244,109,67);height:20px;width:20px;margin-bottom:0px;display:inline-block;\"></div><div style=\"background-color:rgb(253,174,97);height:20px;width:20px;margin-bottom:0px;display:inline-block;\"></div><div style=\"background-color:rgb(254,224,139);height:20px;width:20px;margin-bottom:0px;display:inline-block;\"></div><div style=\"background-color:rgb(255,255,191);height:20px;width:20px;margin-bottom:0px;display:inline-block;\"></div><div style=\"background-color:rgb(217,239,139);height:20px;width:20px;margin-bottom:0px;display:inline-block;\"></div><div style=\"background-color:rgb(166,217,106);height:20px;width:20px;margin-bottom:0px;display:inline-block;\"></div><div style=\"background-color:rgb(102,189,99);height:20px;width:20px;margin-bottom:0px;display:inline-block;\"></div><div style=\"background-color:rgb(26,152,80);height:20px;width:20px;margin-bottom:0px;display:inline-block;\"></div><div style=\"background-color:rgb(0,104,55);height:20px;width:20px;margin-bottom:0px;display:inline-block;\"></div></div><div style=\"display:inline-block;padding:10px;\"><div>reds</div><div style=\"background-color:rgb(255,245,240);height:20px;width:20px;margin-bottom:0px;display:inline-block;\"></div><div style=\"background-color:rgb(254,224,210);height:20px;width:20px;margin-bottom:0px;display:inline-block;\"></div><div style=\"background-color:rgb(252,187,161);height:20px;width:20px;margin-bottom:0px;display:inline-block;\"></div><div style=\"background-color:rgb(252,146,114);height:20px;width:20px;margin-bottom:0px;display:inline-block;\"></div><div style=\"background-color:rgb(251,106,74);height:20px;width:20px;margin-bottom:0px;display:inline-block;\"></div><div style=\"background-color:rgb(239,59,44);height:20px;width:20px;margin-bottom:0px;display:inline-block;\"></div><div style=\"background-color:rgb(203,24,29);height:20px;width:20px;margin-bottom:0px;display:inline-block;\"></div><div style=\"background-color:rgb(165,15,21);height:20px;width:20px;margin-bottom:0px;display:inline-block;\"></div><div style=\"background-color:rgb(103,0,13);height:20px;width:20px;margin-bottom:0px;display:inline-block;\"></div></div><div style=\"display:inline-block;padding:10px;\"><div>set1</div><div style=\"background-color:rgb(228,26,28);height:20px;width:20px;margin-bottom:0px;display:inline-block;\"></div><div style=\"background-color:rgb(55,126,184);height:20px;width:20px;margin-bottom:0px;display:inline-block;\"></div><div style=\"background-color:rgb(77,175,74);height:20px;width:20px;margin-bottom:0px;display:inline-block;\"></div><div style=\"background-color:rgb(152,78,163);height:20px;width:20px;margin-bottom:0px;display:inline-block;\"></div><div style=\"background-color:rgb(255,127,0);height:20px;width:20px;margin-bottom:0px;display:inline-block;\"></div><div style=\"background-color:rgb(255,255,51);height:20px;width:20px;margin-bottom:0px;display:inline-block;\"></div><div style=\"background-color:rgb(166,86,40);height:20px;width:20px;margin-bottom:0px;display:inline-block;\"></div><div style=\"background-color:rgb(247,129,191);height:20px;width:20px;margin-bottom:0px;display:inline-block;\"></div><div style=\"background-color:rgb(153,153,153);height:20px;width:20px;margin-bottom:0px;display:inline-block;\"></div></div><div style=\"display:inline-block;padding:10px;\"><div>set2</div><div style=\"background-color:rgb(102,194,165);height:20px;width:20px;margin-bottom:0px;display:inline-block;\"></div><div style=\"background-color:rgb(252,141,98);height:20px;width:20px;margin-bottom:0px;display:inline-block;\"></div><div style=\"background-color:rgb(141,160,203);height:20px;width:20px;margin-bottom:0px;display:inline-block;\"></div><div style=\"background-color:rgb(231,138,195);height:20px;width:20px;margin-bottom:0px;display:inline-block;\"></div><div style=\"background-color:rgb(166,216,84);height:20px;width:20px;margin-bottom:0px;display:inline-block;\"></div><div style=\"background-color:rgb(255,217,47);height:20px;width:20px;margin-bottom:0px;display:inline-block;\"></div><div style=\"background-color:rgb(229,196,148);height:20px;width:20px;margin-bottom:0px;display:inline-block;\"></div><div style=\"background-color:rgb(179,179,179);height:20px;width:20px;margin-bottom:0px;display:inline-block;\"></div></div><div style=\"display:inline-block;padding:10px;\"><div>set3</div><div style=\"background-color:rgb(141,211,199);height:20px;width:20px;margin-bottom:0px;display:inline-block;\"></div><div style=\"background-color:rgb(255,255,179);height:20px;width:20px;margin-bottom:0px;display:inline-block;\"></div><div style=\"background-color:rgb(190,186,218);height:20px;width:20px;margin-bottom:0px;display:inline-block;\"></div><div style=\"background-color:rgb(251,128,114);height:20px;width:20px;margin-bottom:0px;display:inline-block;\"></div><div style=\"background-color:rgb(128,177,211);height:20px;width:20px;margin-bottom:0px;display:inline-block;\"></div><div style=\"background-color:rgb(253,180,98);height:20px;width:20px;margin-bottom:0px;display:inline-block;\"></div><div style=\"background-color:rgb(179,222,105);height:20px;width:20px;margin-bottom:0px;display:inline-block;\"></div><div style=\"background-color:rgb(252,205,229);height:20px;width:20px;margin-bottom:0px;display:inline-block;\"></div><div style=\"background-color:rgb(217,217,217);height:20px;width:20px;margin-bottom:0px;display:inline-block;\"></div><div style=\"background-color:rgb(188,128,189);height:20px;width:20px;margin-bottom:0px;display:inline-block;\"></div><div style=\"background-color:rgb(204,235,197);height:20px;width:20px;margin-bottom:0px;display:inline-block;\"></div><div style=\"background-color:rgb(255,237,111);height:20px;width:20px;margin-bottom:0px;display:inline-block;\"></div></div><div style=\"display:inline-block;padding:10px;\"><div>spectral</div><div style=\"background-color:rgb(158,1,66);height:20px;width:20px;margin-bottom:0px;display:inline-block;\"></div><div style=\"background-color:rgb(213,62,79);height:20px;width:20px;margin-bottom:0px;display:inline-block;\"></div><div style=\"background-color:rgb(244,109,67);height:20px;width:20px;margin-bottom:0px;display:inline-block;\"></div><div style=\"background-color:rgb(253,174,97);height:20px;width:20px;margin-bottom:0px;display:inline-block;\"></div><div style=\"background-color:rgb(254,224,139);height:20px;width:20px;margin-bottom:0px;display:inline-block;\"></div><div style=\"background-color:rgb(255,255,191);height:20px;width:20px;margin-bottom:0px;display:inline-block;\"></div><div style=\"background-color:rgb(230,245,152);height:20px;width:20px;margin-bottom:0px;display:inline-block;\"></div><div style=\"background-color:rgb(171,221,164);height:20px;width:20px;margin-bottom:0px;display:inline-block;\"></div><div style=\"background-color:rgb(102,194,165);height:20px;width:20px;margin-bottom:0px;display:inline-block;\"></div><div style=\"background-color:rgb(50,136,189);height:20px;width:20px;margin-bottom:0px;display:inline-block;\"></div><div style=\"background-color:rgb(94,79,162);height:20px;width:20px;margin-bottom:0px;display:inline-block;\"></div></div><div style=\"display:inline-block;padding:10px;\"><div>ylgn</div><div style=\"background-color:rgb(255,255,229);height:20px;width:20px;margin-bottom:0px;display:inline-block;\"></div><div style=\"background-color:rgb(247,252,185);height:20px;width:20px;margin-bottom:0px;display:inline-block;\"></div><div style=\"background-color:rgb(217,240,163);height:20px;width:20px;margin-bottom:0px;display:inline-block;\"></div><div style=\"background-color:rgb(173,221,142);height:20px;width:20px;margin-bottom:0px;display:inline-block;\"></div><div style=\"background-color:rgb(120,198,121);height:20px;width:20px;margin-bottom:0px;display:inline-block;\"></div><div style=\"background-color:rgb(65,171,93);height:20px;width:20px;margin-bottom:0px;display:inline-block;\"></div><div style=\"background-color:rgb(35,132,67);height:20px;width:20px;margin-bottom:0px;display:inline-block;\"></div><div style=\"background-color:rgb(0,104,55);height:20px;width:20px;margin-bottom:0px;display:inline-block;\"></div><div style=\"background-color:rgb(0,69,41);height:20px;width:20px;margin-bottom:0px;display:inline-block;\"></div></div><div style=\"display:inline-block;padding:10px;\"><div>ylgnbu</div><div style=\"background-color:rgb(255,255,217);height:20px;width:20px;margin-bottom:0px;display:inline-block;\"></div><div style=\"background-color:rgb(237,248,177);height:20px;width:20px;margin-bottom:0px;display:inline-block;\"></div><div style=\"background-color:rgb(199,233,180);height:20px;width:20px;margin-bottom:0px;display:inline-block;\"></div><div style=\"background-color:rgb(127,205,187);height:20px;width:20px;margin-bottom:0px;display:inline-block;\"></div><div style=\"background-color:rgb(65,182,196);height:20px;width:20px;margin-bottom:0px;display:inline-block;\"></div><div style=\"background-color:rgb(29,145,192);height:20px;width:20px;margin-bottom:0px;display:inline-block;\"></div><div style=\"background-color:rgb(34,94,168);height:20px;width:20px;margin-bottom:0px;display:inline-block;\"></div><div style=\"background-color:rgb(37,52,148);height:20px;width:20px;margin-bottom:0px;display:inline-block;\"></div><div style=\"background-color:rgb(8,29,88);height:20px;width:20px;margin-bottom:0px;display:inline-block;\"></div></div><div style=\"display:inline-block;padding:10px;\"><div>ylorbr</div><div style=\"background-color:rgb(255,255,229);height:20px;width:20px;margin-bottom:0px;display:inline-block;\"></div><div style=\"background-color:rgb(255,247,188);height:20px;width:20px;margin-bottom:0px;display:inline-block;\"></div><div style=\"background-color:rgb(254,227,145);height:20px;width:20px;margin-bottom:0px;display:inline-block;\"></div><div style=\"background-color:rgb(254,196,79);height:20px;width:20px;margin-bottom:0px;display:inline-block;\"></div><div style=\"background-color:rgb(254,153,41);height:20px;width:20px;margin-bottom:0px;display:inline-block;\"></div><div style=\"background-color:rgb(236,112,20);height:20px;width:20px;margin-bottom:0px;display:inline-block;\"></div><div style=\"background-color:rgb(204,76,2);height:20px;width:20px;margin-bottom:0px;display:inline-block;\"></div><div style=\"background-color:rgb(153,52,4);height:20px;width:20px;margin-bottom:0px;display:inline-block;\"></div><div style=\"background-color:rgb(102,37,6);height:20px;width:20px;margin-bottom:0px;display:inline-block;\"></div></div><div style=\"display:inline-block;padding:10px;\"><div>ylorrd</div><div style=\"background-color:rgb(255,255,204);height:20px;width:20px;margin-bottom:0px;display:inline-block;\"></div><div style=\"background-color:rgb(255,237,160);height:20px;width:20px;margin-bottom:0px;display:inline-block;\"></div><div style=\"background-color:rgb(254,217,118);height:20px;width:20px;margin-bottom:0px;display:inline-block;\"></div><div style=\"background-color:rgb(254,178,76);height:20px;width:20px;margin-bottom:0px;display:inline-block;\"></div><div style=\"background-color:rgb(253,141,60);height:20px;width:20px;margin-bottom:0px;display:inline-block;\"></div><div style=\"background-color:rgb(252,78,42);height:20px;width:20px;margin-bottom:0px;display:inline-block;\"></div><div style=\"background-color:rgb(227,26,28);height:20px;width:20px;margin-bottom:0px;display:inline-block;\"></div><div style=\"background-color:rgb(189,0,38);height:20px;width:20px;margin-bottom:0px;display:inline-block;\"></div><div style=\"background-color:rgb(128,0,38);height:20px;width:20px;margin-bottom:0px;display:inline-block;\"></div></div>"
      ],
      "text/plain": [
       "<IPython.core.display.HTML object>"
      ]
     },
     "metadata": {},
     "output_type": "display_data"
    }
   ],
   "source": [
    "#cf.getThemes()\n",
    "cf.colors.scales()"
   ]
  },
  {
   "cell_type": "code",
   "execution_count": 17,
   "metadata": {},
   "outputs": [
    {
     "data": {
      "application/vnd.plotly.v1+json": {
       "config": {
        "plotlyServerURL": "https://plot.ly"
       },
       "data": [
        {
         "domain": {
          "x": [
           0,
           1
          ],
          "y": [
           0,
           1
          ]
         },
         "hovertemplate": "Tipo=%{label}<br>porcentagem=%{value}<extra></extra>",
         "labels": [
          "Ações",
          "Ações",
          "Cambial",
          "Multimercados",
          "Multimercados",
          "Multimercados",
          "Renda Fixa",
          "Renda Fixa"
         ],
         "legendgroup": "",
         "name": "",
         "showlegend": true,
         "textfont": {
          "color": "white",
          "size": 22
         },
         "textposition": "inside",
         "type": "pie",
         "values": [
          0.15371939636399679,
          0.09628060363600321,
          0.15000000000000008,
          0.05,
          0.05487197852612816,
          0.14512802147387185,
          0.05,
          0.29999999999999993
         ]
        }
       ],
       "layout": {
        "legend": {
         "tracegroupgap": 0
        },
        "template": {
         "data": {
          "bar": [
           {
            "error_x": {
             "color": "#2a3f5f"
            },
            "error_y": {
             "color": "#2a3f5f"
            },
            "marker": {
             "line": {
              "color": "#E5ECF6",
              "width": 0.5
             }
            },
            "type": "bar"
           }
          ],
          "barpolar": [
           {
            "marker": {
             "line": {
              "color": "#E5ECF6",
              "width": 0.5
             }
            },
            "type": "barpolar"
           }
          ],
          "carpet": [
           {
            "aaxis": {
             "endlinecolor": "#2a3f5f",
             "gridcolor": "white",
             "linecolor": "white",
             "minorgridcolor": "white",
             "startlinecolor": "#2a3f5f"
            },
            "baxis": {
             "endlinecolor": "#2a3f5f",
             "gridcolor": "white",
             "linecolor": "white",
             "minorgridcolor": "white",
             "startlinecolor": "#2a3f5f"
            },
            "type": "carpet"
           }
          ],
          "choropleth": [
           {
            "colorbar": {
             "outlinewidth": 0,
             "ticks": ""
            },
            "type": "choropleth"
           }
          ],
          "contour": [
           {
            "colorbar": {
             "outlinewidth": 0,
             "ticks": ""
            },
            "colorscale": [
             [
              0,
              "#0d0887"
             ],
             [
              0.1111111111111111,
              "#46039f"
             ],
             [
              0.2222222222222222,
              "#7201a8"
             ],
             [
              0.3333333333333333,
              "#9c179e"
             ],
             [
              0.4444444444444444,
              "#bd3786"
             ],
             [
              0.5555555555555556,
              "#d8576b"
             ],
             [
              0.6666666666666666,
              "#ed7953"
             ],
             [
              0.7777777777777778,
              "#fb9f3a"
             ],
             [
              0.8888888888888888,
              "#fdca26"
             ],
             [
              1,
              "#f0f921"
             ]
            ],
            "type": "contour"
           }
          ],
          "contourcarpet": [
           {
            "colorbar": {
             "outlinewidth": 0,
             "ticks": ""
            },
            "type": "contourcarpet"
           }
          ],
          "heatmap": [
           {
            "colorbar": {
             "outlinewidth": 0,
             "ticks": ""
            },
            "colorscale": [
             [
              0,
              "#0d0887"
             ],
             [
              0.1111111111111111,
              "#46039f"
             ],
             [
              0.2222222222222222,
              "#7201a8"
             ],
             [
              0.3333333333333333,
              "#9c179e"
             ],
             [
              0.4444444444444444,
              "#bd3786"
             ],
             [
              0.5555555555555556,
              "#d8576b"
             ],
             [
              0.6666666666666666,
              "#ed7953"
             ],
             [
              0.7777777777777778,
              "#fb9f3a"
             ],
             [
              0.8888888888888888,
              "#fdca26"
             ],
             [
              1,
              "#f0f921"
             ]
            ],
            "type": "heatmap"
           }
          ],
          "heatmapgl": [
           {
            "colorbar": {
             "outlinewidth": 0,
             "ticks": ""
            },
            "colorscale": [
             [
              0,
              "#0d0887"
             ],
             [
              0.1111111111111111,
              "#46039f"
             ],
             [
              0.2222222222222222,
              "#7201a8"
             ],
             [
              0.3333333333333333,
              "#9c179e"
             ],
             [
              0.4444444444444444,
              "#bd3786"
             ],
             [
              0.5555555555555556,
              "#d8576b"
             ],
             [
              0.6666666666666666,
              "#ed7953"
             ],
             [
              0.7777777777777778,
              "#fb9f3a"
             ],
             [
              0.8888888888888888,
              "#fdca26"
             ],
             [
              1,
              "#f0f921"
             ]
            ],
            "type": "heatmapgl"
           }
          ],
          "histogram": [
           {
            "marker": {
             "colorbar": {
              "outlinewidth": 0,
              "ticks": ""
             }
            },
            "type": "histogram"
           }
          ],
          "histogram2d": [
           {
            "colorbar": {
             "outlinewidth": 0,
             "ticks": ""
            },
            "colorscale": [
             [
              0,
              "#0d0887"
             ],
             [
              0.1111111111111111,
              "#46039f"
             ],
             [
              0.2222222222222222,
              "#7201a8"
             ],
             [
              0.3333333333333333,
              "#9c179e"
             ],
             [
              0.4444444444444444,
              "#bd3786"
             ],
             [
              0.5555555555555556,
              "#d8576b"
             ],
             [
              0.6666666666666666,
              "#ed7953"
             ],
             [
              0.7777777777777778,
              "#fb9f3a"
             ],
             [
              0.8888888888888888,
              "#fdca26"
             ],
             [
              1,
              "#f0f921"
             ]
            ],
            "type": "histogram2d"
           }
          ],
          "histogram2dcontour": [
           {
            "colorbar": {
             "outlinewidth": 0,
             "ticks": ""
            },
            "colorscale": [
             [
              0,
              "#0d0887"
             ],
             [
              0.1111111111111111,
              "#46039f"
             ],
             [
              0.2222222222222222,
              "#7201a8"
             ],
             [
              0.3333333333333333,
              "#9c179e"
             ],
             [
              0.4444444444444444,
              "#bd3786"
             ],
             [
              0.5555555555555556,
              "#d8576b"
             ],
             [
              0.6666666666666666,
              "#ed7953"
             ],
             [
              0.7777777777777778,
              "#fb9f3a"
             ],
             [
              0.8888888888888888,
              "#fdca26"
             ],
             [
              1,
              "#f0f921"
             ]
            ],
            "type": "histogram2dcontour"
           }
          ],
          "mesh3d": [
           {
            "colorbar": {
             "outlinewidth": 0,
             "ticks": ""
            },
            "type": "mesh3d"
           }
          ],
          "parcoords": [
           {
            "line": {
             "colorbar": {
              "outlinewidth": 0,
              "ticks": ""
             }
            },
            "type": "parcoords"
           }
          ],
          "pie": [
           {
            "automargin": true,
            "type": "pie"
           }
          ],
          "scatter": [
           {
            "marker": {
             "colorbar": {
              "outlinewidth": 0,
              "ticks": ""
             }
            },
            "type": "scatter"
           }
          ],
          "scatter3d": [
           {
            "line": {
             "colorbar": {
              "outlinewidth": 0,
              "ticks": ""
             }
            },
            "marker": {
             "colorbar": {
              "outlinewidth": 0,
              "ticks": ""
             }
            },
            "type": "scatter3d"
           }
          ],
          "scattercarpet": [
           {
            "marker": {
             "colorbar": {
              "outlinewidth": 0,
              "ticks": ""
             }
            },
            "type": "scattercarpet"
           }
          ],
          "scattergeo": [
           {
            "marker": {
             "colorbar": {
              "outlinewidth": 0,
              "ticks": ""
             }
            },
            "type": "scattergeo"
           }
          ],
          "scattergl": [
           {
            "marker": {
             "colorbar": {
              "outlinewidth": 0,
              "ticks": ""
             }
            },
            "type": "scattergl"
           }
          ],
          "scattermapbox": [
           {
            "marker": {
             "colorbar": {
              "outlinewidth": 0,
              "ticks": ""
             }
            },
            "type": "scattermapbox"
           }
          ],
          "scatterpolar": [
           {
            "marker": {
             "colorbar": {
              "outlinewidth": 0,
              "ticks": ""
             }
            },
            "type": "scatterpolar"
           }
          ],
          "scatterpolargl": [
           {
            "marker": {
             "colorbar": {
              "outlinewidth": 0,
              "ticks": ""
             }
            },
            "type": "scatterpolargl"
           }
          ],
          "scatterternary": [
           {
            "marker": {
             "colorbar": {
              "outlinewidth": 0,
              "ticks": ""
             }
            },
            "type": "scatterternary"
           }
          ],
          "surface": [
           {
            "colorbar": {
             "outlinewidth": 0,
             "ticks": ""
            },
            "colorscale": [
             [
              0,
              "#0d0887"
             ],
             [
              0.1111111111111111,
              "#46039f"
             ],
             [
              0.2222222222222222,
              "#7201a8"
             ],
             [
              0.3333333333333333,
              "#9c179e"
             ],
             [
              0.4444444444444444,
              "#bd3786"
             ],
             [
              0.5555555555555556,
              "#d8576b"
             ],
             [
              0.6666666666666666,
              "#ed7953"
             ],
             [
              0.7777777777777778,
              "#fb9f3a"
             ],
             [
              0.8888888888888888,
              "#fdca26"
             ],
             [
              1,
              "#f0f921"
             ]
            ],
            "type": "surface"
           }
          ],
          "table": [
           {
            "cells": {
             "fill": {
              "color": "#EBF0F8"
             },
             "line": {
              "color": "white"
             }
            },
            "header": {
             "fill": {
              "color": "#C8D4E3"
             },
             "line": {
              "color": "white"
             }
            },
            "type": "table"
           }
          ]
         },
         "layout": {
          "annotationdefaults": {
           "arrowcolor": "#2a3f5f",
           "arrowhead": 0,
           "arrowwidth": 1
          },
          "autotypenumbers": "strict",
          "coloraxis": {
           "colorbar": {
            "outlinewidth": 0,
            "ticks": ""
           }
          },
          "colorscale": {
           "diverging": [
            [
             0,
             "#8e0152"
            ],
            [
             0.1,
             "#c51b7d"
            ],
            [
             0.2,
             "#de77ae"
            ],
            [
             0.3,
             "#f1b6da"
            ],
            [
             0.4,
             "#fde0ef"
            ],
            [
             0.5,
             "#f7f7f7"
            ],
            [
             0.6,
             "#e6f5d0"
            ],
            [
             0.7,
             "#b8e186"
            ],
            [
             0.8,
             "#7fbc41"
            ],
            [
             0.9,
             "#4d9221"
            ],
            [
             1,
             "#276419"
            ]
           ],
           "sequential": [
            [
             0,
             "#0d0887"
            ],
            [
             0.1111111111111111,
             "#46039f"
            ],
            [
             0.2222222222222222,
             "#7201a8"
            ],
            [
             0.3333333333333333,
             "#9c179e"
            ],
            [
             0.4444444444444444,
             "#bd3786"
            ],
            [
             0.5555555555555556,
             "#d8576b"
            ],
            [
             0.6666666666666666,
             "#ed7953"
            ],
            [
             0.7777777777777778,
             "#fb9f3a"
            ],
            [
             0.8888888888888888,
             "#fdca26"
            ],
            [
             1,
             "#f0f921"
            ]
           ],
           "sequentialminus": [
            [
             0,
             "#0d0887"
            ],
            [
             0.1111111111111111,
             "#46039f"
            ],
            [
             0.2222222222222222,
             "#7201a8"
            ],
            [
             0.3333333333333333,
             "#9c179e"
            ],
            [
             0.4444444444444444,
             "#bd3786"
            ],
            [
             0.5555555555555556,
             "#d8576b"
            ],
            [
             0.6666666666666666,
             "#ed7953"
            ],
            [
             0.7777777777777778,
             "#fb9f3a"
            ],
            [
             0.8888888888888888,
             "#fdca26"
            ],
            [
             1,
             "#f0f921"
            ]
           ]
          },
          "colorway": [
           "#636efa",
           "#EF553B",
           "#00cc96",
           "#ab63fa",
           "#FFA15A",
           "#19d3f3",
           "#FF6692",
           "#B6E880",
           "#FF97FF",
           "#FECB52"
          ],
          "font": {
           "color": "#2a3f5f"
          },
          "geo": {
           "bgcolor": "white",
           "lakecolor": "white",
           "landcolor": "#E5ECF6",
           "showlakes": true,
           "showland": true,
           "subunitcolor": "white"
          },
          "hoverlabel": {
           "align": "left"
          },
          "hovermode": "closest",
          "mapbox": {
           "style": "light"
          },
          "paper_bgcolor": "white",
          "plot_bgcolor": "#E5ECF6",
          "polar": {
           "angularaxis": {
            "gridcolor": "white",
            "linecolor": "white",
            "ticks": ""
           },
           "bgcolor": "#E5ECF6",
           "radialaxis": {
            "gridcolor": "white",
            "linecolor": "white",
            "ticks": ""
           }
          },
          "scene": {
           "xaxis": {
            "backgroundcolor": "#E5ECF6",
            "gridcolor": "white",
            "gridwidth": 2,
            "linecolor": "white",
            "showbackground": true,
            "ticks": "",
            "zerolinecolor": "white"
           },
           "yaxis": {
            "backgroundcolor": "#E5ECF6",
            "gridcolor": "white",
            "gridwidth": 2,
            "linecolor": "white",
            "showbackground": true,
            "ticks": "",
            "zerolinecolor": "white"
           },
           "zaxis": {
            "backgroundcolor": "#E5ECF6",
            "gridcolor": "white",
            "gridwidth": 2,
            "linecolor": "white",
            "showbackground": true,
            "ticks": "",
            "zerolinecolor": "white"
           }
          },
          "shapedefaults": {
           "line": {
            "color": "#2a3f5f"
           }
          },
          "ternary": {
           "aaxis": {
            "gridcolor": "white",
            "linecolor": "white",
            "ticks": ""
           },
           "baxis": {
            "gridcolor": "white",
            "linecolor": "white",
            "ticks": ""
           },
           "bgcolor": "#E5ECF6",
           "caxis": {
            "gridcolor": "white",
            "linecolor": "white",
            "ticks": ""
           }
          },
          "title": {
           "x": 0.05
          },
          "xaxis": {
           "automargin": true,
           "gridcolor": "white",
           "linecolor": "white",
           "ticks": "",
           "title": {
            "standoff": 15
           },
           "zerolinecolor": "white",
           "zerolinewidth": 2
          },
          "yaxis": {
           "automargin": true,
           "gridcolor": "white",
           "linecolor": "white",
           "ticks": "",
           "title": {
            "standoff": 15
           },
           "zerolinecolor": "white",
           "zerolinewidth": 2
          }
         }
        },
        "title": {
         "text": "CARTEIRA 1"
        }
       }
      },
      "text/html": [
       "<div>                            <div id=\"854102ac-0dda-4076-b994-040de44effdc\" class=\"plotly-graph-div\" style=\"height:525px; width:100%;\"></div>            <script type=\"text/javascript\">                require([\"plotly\"], function(Plotly) {                    window.PLOTLYENV=window.PLOTLYENV || {};                                    if (document.getElementById(\"854102ac-0dda-4076-b994-040de44effdc\")) {                    Plotly.newPlot(                        \"854102ac-0dda-4076-b994-040de44effdc\",                        [{\"domain\": {\"x\": [0.0, 1.0], \"y\": [0.0, 1.0]}, \"hovertemplate\": \"Tipo=%{label}<br>porcentagem=%{value}<extra></extra>\", \"labels\": [\"A\\u00e7\\u00f5es\", \"A\\u00e7\\u00f5es\", \"Cambial\", \"Multimercados\", \"Multimercados\", \"Multimercados\", \"Renda Fixa\", \"Renda Fixa\"], \"legendgroup\": \"\", \"name\": \"\", \"showlegend\": true, \"textfont\": {\"color\": \"white\", \"size\": 22}, \"textposition\": \"inside\", \"type\": \"pie\", \"values\": [0.15371939636399679, 0.09628060363600321, 0.15000000000000008, 0.05, 0.05487197852612816, 0.14512802147387185, 0.05, 0.29999999999999993]}],                        {\"legend\": {\"tracegroupgap\": 0}, \"template\": {\"data\": {\"bar\": [{\"error_x\": {\"color\": \"#2a3f5f\"}, \"error_y\": {\"color\": \"#2a3f5f\"}, \"marker\": {\"line\": {\"color\": \"#E5ECF6\", \"width\": 0.5}}, \"type\": \"bar\"}], \"barpolar\": [{\"marker\": {\"line\": {\"color\": \"#E5ECF6\", \"width\": 0.5}}, \"type\": \"barpolar\"}], \"carpet\": [{\"aaxis\": {\"endlinecolor\": \"#2a3f5f\", \"gridcolor\": \"white\", \"linecolor\": \"white\", \"minorgridcolor\": \"white\", \"startlinecolor\": \"#2a3f5f\"}, \"baxis\": {\"endlinecolor\": \"#2a3f5f\", \"gridcolor\": \"white\", \"linecolor\": \"white\", \"minorgridcolor\": \"white\", \"startlinecolor\": \"#2a3f5f\"}, \"type\": \"carpet\"}], \"choropleth\": [{\"colorbar\": {\"outlinewidth\": 0, \"ticks\": \"\"}, \"type\": \"choropleth\"}], \"contour\": [{\"colorbar\": {\"outlinewidth\": 0, \"ticks\": \"\"}, \"colorscale\": [[0.0, \"#0d0887\"], [0.1111111111111111, \"#46039f\"], [0.2222222222222222, \"#7201a8\"], [0.3333333333333333, \"#9c179e\"], [0.4444444444444444, \"#bd3786\"], [0.5555555555555556, \"#d8576b\"], [0.6666666666666666, \"#ed7953\"], [0.7777777777777778, \"#fb9f3a\"], [0.8888888888888888, \"#fdca26\"], [1.0, \"#f0f921\"]], \"type\": \"contour\"}], \"contourcarpet\": [{\"colorbar\": {\"outlinewidth\": 0, \"ticks\": \"\"}, \"type\": \"contourcarpet\"}], \"heatmap\": [{\"colorbar\": {\"outlinewidth\": 0, \"ticks\": \"\"}, \"colorscale\": [[0.0, \"#0d0887\"], [0.1111111111111111, \"#46039f\"], [0.2222222222222222, \"#7201a8\"], [0.3333333333333333, \"#9c179e\"], [0.4444444444444444, \"#bd3786\"], [0.5555555555555556, \"#d8576b\"], [0.6666666666666666, \"#ed7953\"], [0.7777777777777778, \"#fb9f3a\"], [0.8888888888888888, \"#fdca26\"], [1.0, \"#f0f921\"]], \"type\": \"heatmap\"}], \"heatmapgl\": [{\"colorbar\": {\"outlinewidth\": 0, \"ticks\": \"\"}, \"colorscale\": [[0.0, \"#0d0887\"], [0.1111111111111111, \"#46039f\"], [0.2222222222222222, \"#7201a8\"], [0.3333333333333333, \"#9c179e\"], [0.4444444444444444, \"#bd3786\"], [0.5555555555555556, \"#d8576b\"], [0.6666666666666666, \"#ed7953\"], [0.7777777777777778, \"#fb9f3a\"], [0.8888888888888888, \"#fdca26\"], [1.0, \"#f0f921\"]], \"type\": \"heatmapgl\"}], \"histogram\": [{\"marker\": {\"colorbar\": {\"outlinewidth\": 0, \"ticks\": \"\"}}, \"type\": \"histogram\"}], \"histogram2d\": [{\"colorbar\": {\"outlinewidth\": 0, \"ticks\": \"\"}, \"colorscale\": [[0.0, \"#0d0887\"], [0.1111111111111111, \"#46039f\"], [0.2222222222222222, \"#7201a8\"], [0.3333333333333333, \"#9c179e\"], [0.4444444444444444, \"#bd3786\"], [0.5555555555555556, \"#d8576b\"], [0.6666666666666666, \"#ed7953\"], [0.7777777777777778, \"#fb9f3a\"], [0.8888888888888888, \"#fdca26\"], [1.0, \"#f0f921\"]], \"type\": \"histogram2d\"}], \"histogram2dcontour\": [{\"colorbar\": {\"outlinewidth\": 0, \"ticks\": \"\"}, \"colorscale\": [[0.0, \"#0d0887\"], [0.1111111111111111, \"#46039f\"], [0.2222222222222222, \"#7201a8\"], [0.3333333333333333, \"#9c179e\"], [0.4444444444444444, \"#bd3786\"], [0.5555555555555556, \"#d8576b\"], [0.6666666666666666, \"#ed7953\"], [0.7777777777777778, \"#fb9f3a\"], [0.8888888888888888, \"#fdca26\"], [1.0, \"#f0f921\"]], \"type\": \"histogram2dcontour\"}], \"mesh3d\": [{\"colorbar\": {\"outlinewidth\": 0, \"ticks\": \"\"}, \"type\": \"mesh3d\"}], \"parcoords\": [{\"line\": {\"colorbar\": {\"outlinewidth\": 0, \"ticks\": \"\"}}, \"type\": \"parcoords\"}], \"pie\": [{\"automargin\": true, \"type\": \"pie\"}], \"scatter\": [{\"marker\": {\"colorbar\": {\"outlinewidth\": 0, \"ticks\": \"\"}}, \"type\": \"scatter\"}], \"scatter3d\": [{\"line\": {\"colorbar\": {\"outlinewidth\": 0, \"ticks\": \"\"}}, \"marker\": {\"colorbar\": {\"outlinewidth\": 0, \"ticks\": \"\"}}, \"type\": \"scatter3d\"}], \"scattercarpet\": [{\"marker\": {\"colorbar\": {\"outlinewidth\": 0, \"ticks\": \"\"}}, \"type\": \"scattercarpet\"}], \"scattergeo\": [{\"marker\": {\"colorbar\": {\"outlinewidth\": 0, \"ticks\": \"\"}}, \"type\": \"scattergeo\"}], \"scattergl\": [{\"marker\": {\"colorbar\": {\"outlinewidth\": 0, \"ticks\": \"\"}}, \"type\": \"scattergl\"}], \"scattermapbox\": [{\"marker\": {\"colorbar\": {\"outlinewidth\": 0, \"ticks\": \"\"}}, \"type\": \"scattermapbox\"}], \"scatterpolar\": [{\"marker\": {\"colorbar\": {\"outlinewidth\": 0, \"ticks\": \"\"}}, \"type\": \"scatterpolar\"}], \"scatterpolargl\": [{\"marker\": {\"colorbar\": {\"outlinewidth\": 0, \"ticks\": \"\"}}, \"type\": \"scatterpolargl\"}], \"scatterternary\": [{\"marker\": {\"colorbar\": {\"outlinewidth\": 0, \"ticks\": \"\"}}, \"type\": \"scatterternary\"}], \"surface\": [{\"colorbar\": {\"outlinewidth\": 0, \"ticks\": \"\"}, \"colorscale\": [[0.0, \"#0d0887\"], [0.1111111111111111, \"#46039f\"], [0.2222222222222222, \"#7201a8\"], [0.3333333333333333, \"#9c179e\"], [0.4444444444444444, \"#bd3786\"], [0.5555555555555556, \"#d8576b\"], [0.6666666666666666, \"#ed7953\"], [0.7777777777777778, \"#fb9f3a\"], [0.8888888888888888, \"#fdca26\"], [1.0, \"#f0f921\"]], \"type\": \"surface\"}], \"table\": [{\"cells\": {\"fill\": {\"color\": \"#EBF0F8\"}, \"line\": {\"color\": \"white\"}}, \"header\": {\"fill\": {\"color\": \"#C8D4E3\"}, \"line\": {\"color\": \"white\"}}, \"type\": \"table\"}]}, \"layout\": {\"annotationdefaults\": {\"arrowcolor\": \"#2a3f5f\", \"arrowhead\": 0, \"arrowwidth\": 1}, \"autotypenumbers\": \"strict\", \"coloraxis\": {\"colorbar\": {\"outlinewidth\": 0, \"ticks\": \"\"}}, \"colorscale\": {\"diverging\": [[0, \"#8e0152\"], [0.1, \"#c51b7d\"], [0.2, \"#de77ae\"], [0.3, \"#f1b6da\"], [0.4, \"#fde0ef\"], [0.5, \"#f7f7f7\"], [0.6, \"#e6f5d0\"], [0.7, \"#b8e186\"], [0.8, \"#7fbc41\"], [0.9, \"#4d9221\"], [1, \"#276419\"]], \"sequential\": [[0.0, \"#0d0887\"], [0.1111111111111111, \"#46039f\"], [0.2222222222222222, \"#7201a8\"], [0.3333333333333333, \"#9c179e\"], [0.4444444444444444, \"#bd3786\"], [0.5555555555555556, \"#d8576b\"], [0.6666666666666666, \"#ed7953\"], [0.7777777777777778, \"#fb9f3a\"], [0.8888888888888888, \"#fdca26\"], [1.0, \"#f0f921\"]], \"sequentialminus\": [[0.0, \"#0d0887\"], [0.1111111111111111, \"#46039f\"], [0.2222222222222222, \"#7201a8\"], [0.3333333333333333, \"#9c179e\"], [0.4444444444444444, \"#bd3786\"], [0.5555555555555556, \"#d8576b\"], [0.6666666666666666, \"#ed7953\"], [0.7777777777777778, \"#fb9f3a\"], [0.8888888888888888, \"#fdca26\"], [1.0, \"#f0f921\"]]}, \"colorway\": [\"#636efa\", \"#EF553B\", \"#00cc96\", \"#ab63fa\", \"#FFA15A\", \"#19d3f3\", \"#FF6692\", \"#B6E880\", \"#FF97FF\", \"#FECB52\"], \"font\": {\"color\": \"#2a3f5f\"}, \"geo\": {\"bgcolor\": \"white\", \"lakecolor\": \"white\", \"landcolor\": \"#E5ECF6\", \"showlakes\": true, \"showland\": true, \"subunitcolor\": \"white\"}, \"hoverlabel\": {\"align\": \"left\"}, \"hovermode\": \"closest\", \"mapbox\": {\"style\": \"light\"}, \"paper_bgcolor\": \"white\", \"plot_bgcolor\": \"#E5ECF6\", \"polar\": {\"angularaxis\": {\"gridcolor\": \"white\", \"linecolor\": \"white\", \"ticks\": \"\"}, \"bgcolor\": \"#E5ECF6\", \"radialaxis\": {\"gridcolor\": \"white\", \"linecolor\": \"white\", \"ticks\": \"\"}}, \"scene\": {\"xaxis\": {\"backgroundcolor\": \"#E5ECF6\", \"gridcolor\": \"white\", \"gridwidth\": 2, \"linecolor\": \"white\", \"showbackground\": true, \"ticks\": \"\", \"zerolinecolor\": \"white\"}, \"yaxis\": {\"backgroundcolor\": \"#E5ECF6\", \"gridcolor\": \"white\", \"gridwidth\": 2, \"linecolor\": \"white\", \"showbackground\": true, \"ticks\": \"\", \"zerolinecolor\": \"white\"}, \"zaxis\": {\"backgroundcolor\": \"#E5ECF6\", \"gridcolor\": \"white\", \"gridwidth\": 2, \"linecolor\": \"white\", \"showbackground\": true, \"ticks\": \"\", \"zerolinecolor\": \"white\"}}, \"shapedefaults\": {\"line\": {\"color\": \"#2a3f5f\"}}, \"ternary\": {\"aaxis\": {\"gridcolor\": \"white\", \"linecolor\": \"white\", \"ticks\": \"\"}, \"baxis\": {\"gridcolor\": \"white\", \"linecolor\": \"white\", \"ticks\": \"\"}, \"bgcolor\": \"#E5ECF6\", \"caxis\": {\"gridcolor\": \"white\", \"linecolor\": \"white\", \"ticks\": \"\"}}, \"title\": {\"x\": 0.05}, \"xaxis\": {\"automargin\": true, \"gridcolor\": \"white\", \"linecolor\": \"white\", \"ticks\": \"\", \"title\": {\"standoff\": 15}, \"zerolinecolor\": \"white\", \"zerolinewidth\": 2}, \"yaxis\": {\"automargin\": true, \"gridcolor\": \"white\", \"linecolor\": \"white\", \"ticks\": \"\", \"title\": {\"standoff\": 15}, \"zerolinecolor\": \"white\", \"zerolinewidth\": 2}}}, \"title\": {\"text\": \"CARTEIRA 1\"}},                        {\"responsive\": true}                    ).then(function(){\n",
       "                            \n",
       "var gd = document.getElementById('854102ac-0dda-4076-b994-040de44effdc');\n",
       "var x = new MutationObserver(function (mutations, observer) {{\n",
       "        var display = window.getComputedStyle(gd).display;\n",
       "        if (!display || display === 'none') {{\n",
       "            console.log([gd, 'removed!']);\n",
       "            Plotly.purge(gd);\n",
       "            observer.disconnect();\n",
       "        }}\n",
       "}});\n",
       "\n",
       "// Listen for the removal of the full notebook cells\n",
       "var notebookContainer = gd.closest('#notebook-container');\n",
       "if (notebookContainer) {{\n",
       "    x.observe(notebookContainer, {childList: true});\n",
       "}}\n",
       "\n",
       "// Listen for the clearing of the current output cell\n",
       "var outputEl = gd.closest('.output');\n",
       "if (outputEl) {{\n",
       "    x.observe(outputEl, {childList: true});\n",
       "}}\n",
       "\n",
       "                        })                };                });            </script>        </div>"
      ]
     },
     "metadata": {},
     "output_type": "display_data"
    }
   ],
   "source": [
    "### PARA EXPORTAR IMAGENS DO PLOTLY, LEMBRAR DO PLOTLY-ORCA:\n",
    "# conda install -c plotly plotly-orca\n",
    "\n",
    "import cufflinks as cf\n",
    "from plotly.offline import plot, iplot\n",
    "import plotly.express as px\n",
    "import plotly.graph_objects as go\n",
    "\n",
    "cf.go_offline()\n",
    "\n",
    "fig = px.pie(pie_dados, values='porcentagem', names='Tipo', title='CARTEIRA 1')\n",
    "#fig.update_layout(uniformtext_minsize=12, uniformtext_mode='hide')\n",
    "fig.update_traces(textposition='inside', textfont_size=22, textfont_color='white')\n",
    "#fig.write_image(\"fig1.pdf\")\n",
    "fig.show()"
   ]
  },
  {
   "cell_type": "markdown",
   "metadata": {},
   "source": [
    "### Fronteira Interativa:"
   ]
  },
  {
   "cell_type": "code",
   "execution_count": 14,
   "metadata": {},
   "outputs": [
    {
     "data": {
      "text/html": [
       "        <script type=\"text/javascript\">\n",
       "        window.PlotlyConfig = {MathJaxConfig: 'local'};\n",
       "        if (window.MathJax) {MathJax.Hub.Config({SVG: {font: \"STIX-Web\"}});}\n",
       "        if (typeof require !== 'undefined') {\n",
       "        require.undef(\"plotly\");\n",
       "        requirejs.config({\n",
       "            paths: {\n",
       "                'plotly': ['https://cdn.plot.ly/plotly-latest.min']\n",
       "            }\n",
       "        });\n",
       "        require(['plotly'], function(Plotly) {\n",
       "            window._Plotly = Plotly;\n",
       "        });\n",
       "        }\n",
       "        </script>\n",
       "        "
      ]
     },
     "metadata": {},
     "output_type": "display_data"
    }
   ],
   "source": [
    "import cufflinks as cf\n",
    "from plotly.offline import plot, iplot\n",
    "import plotly.express as px\n",
    "import plotly.graph_objects as go\n",
    "\n",
    "cf.go_offline()\n",
    "\n",
    "taxa_livre_de_risco = 0.0525\n",
    "\n",
    "a_risco = [cart.Risco for cart in carteiras]\n",
    "a_retorno = [cart.Retorno for cart in carteiras]\n",
    "a_sharpe = [ (cart.Retorno - taxa_livre_de_risco)/cart.Risco for cart in carteiras  ]\n",
    "\n",
    "dados = pd.DataFrame([a_risco, a_retorno, a_sharpe]).T\n",
    "\n",
    "dados.columns = ['VOLATILIDADE ESPERADA', 'RETORNO ESPERADO', 'SHARPE']\n",
    "dados['Opt'] = ['No'] * len(a_risco)\n",
    "dados['Opt'][idx_max_sharpe] = 'Yes'\n"
   ]
  },
  {
   "cell_type": "code",
   "execution_count": 15,
   "metadata": {},
   "outputs": [
    {
     "data": {
      "application/vnd.plotly.v1+json": {
       "config": {
        "plotlyServerURL": "https://plot.ly"
       },
       "data": [
        {
         "hovertemplate": "VOLATILIDADE ESPERADA=%{x}<br>RETORNO ESPERADO=%{y}<br>SHARPE=%{marker.color}<extra></extra>",
         "legendgroup": "",
         "marker": {
          "color": [
           -2.586385858328958,
           -7.097270945164133,
           -12.1168157092117,
           -12.1168157092117,
           -12.1168157092117,
           -12.1168157092117,
           -12.1168157092117,
           -12.1168157092117,
           -11.977329271986575,
           -6.600881906949432,
           -1.925947988282694,
           1.7399438339686877,
           4.645061462241586,
           6.842859152353692,
           8.275335920333701,
           8.394181407636095,
           7.293806387291243,
           4.763201969419638,
           2.5083699541746003,
           2.150488689873587,
           2.2940839980782997,
           2.1058357560775507,
           1.8756016406140765,
           1.7085769624538791,
           1.5827241355498203,
           1.487407769248178,
           1.4129509781345253,
           1.3532165476352374,
           1.3042017597145341,
           1.262569518641915,
           1.2266283402258853,
           1.1951987591854871,
           1.166985540007956,
           1.1415749301864373,
           1.118646660751133,
           1.0979057213258387,
           1.079088810605778
          ],
          "coloraxis": "coloraxis",
          "size": 12,
          "symbol": "circle"
         },
         "mode": "markers",
         "name": "",
         "orientation": "v",
         "showlegend": false,
         "type": "scatter",
         "x": [
          0.0012874795965331803,
          0.0011347077331414893,
          0.0010432492623076238,
          0.0010432492623076238,
          0.0010432492623076238,
          0.0010432492623076238,
          0.0010432492623076238,
          0.0010432492623076238,
          0.0010436383367397172,
          0.0011362118131675667,
          0.0012980620531861673,
          0.0014368279890378264,
          0.00161461803271397,
          0.0018411570626287968,
          0.0021147177792505004,
          0.002680428133174724,
          0.0037703221801878507,
          0.006823141283668868,
          0.0149499478486377,
          0.01976294978910041,
          0.020705431902140307,
          0.024930719239846848,
          0.030656829656629206,
          0.03658014907928804,
          0.042647988037758267,
          0.04874251802291291,
          0.05484974439971078,
          0.06096585217212265,
          0.06709084644936547,
          0.07326329254289128,
          0.07948617914864523,
          0.0857597945214171,
          0.09211767953805766,
          0.09854806462999939,
          0.10503763531650183,
          0.11157606488475914,
          0.11815524241088574
         ],
         "xaxis": "x",
         "y": [
          0.04917008097863951,
          0.04444667177432185,
          0.039859140949847466,
          0.039859140949847466,
          0.039859140949847466,
          0.039859140949847466,
          0.039859140949847466,
          0.039859140949847466,
          0.04,
          0.045,
          0.049999999999999996,
          0.05499999999999999,
          0.059999999999999984,
          0.0650987784569301,
          0.06999999999999998,
          0.075,
          0.07999999999999999,
          0.08499999999999999,
          0.09000000000000001,
          0.09500000000000001,
          0.1,
          0.10500000000000002,
          0.11000000000000001,
          0.11500000000000002,
          0.12000000000000004,
          0.125,
          0.13000000000000003,
          0.13500000000000004,
          0.14000000000000004,
          0.14500000000000005,
          0.15000000000000005,
          0.15500000000000005,
          0.16000000000000006,
          0.16500000000000006,
          0.17000000000000004,
          0.17500000000000007,
          0.18000000000000008
         ],
         "yaxis": "y"
        }
       ],
       "layout": {
        "coloraxis": {
         "colorbar": {
          "title": {
           "text": "SHARPE"
          }
         },
         "colorscale": [
          [
           0,
           "#0d0887"
          ],
          [
           0.1111111111111111,
           "#46039f"
          ],
          [
           0.2222222222222222,
           "#7201a8"
          ],
          [
           0.3333333333333333,
           "#9c179e"
          ],
          [
           0.4444444444444444,
           "#bd3786"
          ],
          [
           0.5555555555555556,
           "#d8576b"
          ],
          [
           0.6666666666666666,
           "#ed7953"
          ],
          [
           0.7777777777777778,
           "#fb9f3a"
          ],
          [
           0.8888888888888888,
           "#fdca26"
          ],
          [
           1,
           "#f0f921"
          ]
         ]
        },
        "legend": {
         "tracegroupgap": 0
        },
        "margin": {
         "t": 60
        },
        "template": {
         "data": {
          "bar": [
           {
            "error_x": {
             "color": "#2a3f5f"
            },
            "error_y": {
             "color": "#2a3f5f"
            },
            "marker": {
             "line": {
              "color": "#E5ECF6",
              "width": 0.5
             }
            },
            "type": "bar"
           }
          ],
          "barpolar": [
           {
            "marker": {
             "line": {
              "color": "#E5ECF6",
              "width": 0.5
             }
            },
            "type": "barpolar"
           }
          ],
          "carpet": [
           {
            "aaxis": {
             "endlinecolor": "#2a3f5f",
             "gridcolor": "white",
             "linecolor": "white",
             "minorgridcolor": "white",
             "startlinecolor": "#2a3f5f"
            },
            "baxis": {
             "endlinecolor": "#2a3f5f",
             "gridcolor": "white",
             "linecolor": "white",
             "minorgridcolor": "white",
             "startlinecolor": "#2a3f5f"
            },
            "type": "carpet"
           }
          ],
          "choropleth": [
           {
            "colorbar": {
             "outlinewidth": 0,
             "ticks": ""
            },
            "type": "choropleth"
           }
          ],
          "contour": [
           {
            "colorbar": {
             "outlinewidth": 0,
             "ticks": ""
            },
            "colorscale": [
             [
              0,
              "#0d0887"
             ],
             [
              0.1111111111111111,
              "#46039f"
             ],
             [
              0.2222222222222222,
              "#7201a8"
             ],
             [
              0.3333333333333333,
              "#9c179e"
             ],
             [
              0.4444444444444444,
              "#bd3786"
             ],
             [
              0.5555555555555556,
              "#d8576b"
             ],
             [
              0.6666666666666666,
              "#ed7953"
             ],
             [
              0.7777777777777778,
              "#fb9f3a"
             ],
             [
              0.8888888888888888,
              "#fdca26"
             ],
             [
              1,
              "#f0f921"
             ]
            ],
            "type": "contour"
           }
          ],
          "contourcarpet": [
           {
            "colorbar": {
             "outlinewidth": 0,
             "ticks": ""
            },
            "type": "contourcarpet"
           }
          ],
          "heatmap": [
           {
            "colorbar": {
             "outlinewidth": 0,
             "ticks": ""
            },
            "colorscale": [
             [
              0,
              "#0d0887"
             ],
             [
              0.1111111111111111,
              "#46039f"
             ],
             [
              0.2222222222222222,
              "#7201a8"
             ],
             [
              0.3333333333333333,
              "#9c179e"
             ],
             [
              0.4444444444444444,
              "#bd3786"
             ],
             [
              0.5555555555555556,
              "#d8576b"
             ],
             [
              0.6666666666666666,
              "#ed7953"
             ],
             [
              0.7777777777777778,
              "#fb9f3a"
             ],
             [
              0.8888888888888888,
              "#fdca26"
             ],
             [
              1,
              "#f0f921"
             ]
            ],
            "type": "heatmap"
           }
          ],
          "heatmapgl": [
           {
            "colorbar": {
             "outlinewidth": 0,
             "ticks": ""
            },
            "colorscale": [
             [
              0,
              "#0d0887"
             ],
             [
              0.1111111111111111,
              "#46039f"
             ],
             [
              0.2222222222222222,
              "#7201a8"
             ],
             [
              0.3333333333333333,
              "#9c179e"
             ],
             [
              0.4444444444444444,
              "#bd3786"
             ],
             [
              0.5555555555555556,
              "#d8576b"
             ],
             [
              0.6666666666666666,
              "#ed7953"
             ],
             [
              0.7777777777777778,
              "#fb9f3a"
             ],
             [
              0.8888888888888888,
              "#fdca26"
             ],
             [
              1,
              "#f0f921"
             ]
            ],
            "type": "heatmapgl"
           }
          ],
          "histogram": [
           {
            "marker": {
             "colorbar": {
              "outlinewidth": 0,
              "ticks": ""
             }
            },
            "type": "histogram"
           }
          ],
          "histogram2d": [
           {
            "colorbar": {
             "outlinewidth": 0,
             "ticks": ""
            },
            "colorscale": [
             [
              0,
              "#0d0887"
             ],
             [
              0.1111111111111111,
              "#46039f"
             ],
             [
              0.2222222222222222,
              "#7201a8"
             ],
             [
              0.3333333333333333,
              "#9c179e"
             ],
             [
              0.4444444444444444,
              "#bd3786"
             ],
             [
              0.5555555555555556,
              "#d8576b"
             ],
             [
              0.6666666666666666,
              "#ed7953"
             ],
             [
              0.7777777777777778,
              "#fb9f3a"
             ],
             [
              0.8888888888888888,
              "#fdca26"
             ],
             [
              1,
              "#f0f921"
             ]
            ],
            "type": "histogram2d"
           }
          ],
          "histogram2dcontour": [
           {
            "colorbar": {
             "outlinewidth": 0,
             "ticks": ""
            },
            "colorscale": [
             [
              0,
              "#0d0887"
             ],
             [
              0.1111111111111111,
              "#46039f"
             ],
             [
              0.2222222222222222,
              "#7201a8"
             ],
             [
              0.3333333333333333,
              "#9c179e"
             ],
             [
              0.4444444444444444,
              "#bd3786"
             ],
             [
              0.5555555555555556,
              "#d8576b"
             ],
             [
              0.6666666666666666,
              "#ed7953"
             ],
             [
              0.7777777777777778,
              "#fb9f3a"
             ],
             [
              0.8888888888888888,
              "#fdca26"
             ],
             [
              1,
              "#f0f921"
             ]
            ],
            "type": "histogram2dcontour"
           }
          ],
          "mesh3d": [
           {
            "colorbar": {
             "outlinewidth": 0,
             "ticks": ""
            },
            "type": "mesh3d"
           }
          ],
          "parcoords": [
           {
            "line": {
             "colorbar": {
              "outlinewidth": 0,
              "ticks": ""
             }
            },
            "type": "parcoords"
           }
          ],
          "pie": [
           {
            "automargin": true,
            "type": "pie"
           }
          ],
          "scatter": [
           {
            "marker": {
             "colorbar": {
              "outlinewidth": 0,
              "ticks": ""
             }
            },
            "type": "scatter"
           }
          ],
          "scatter3d": [
           {
            "line": {
             "colorbar": {
              "outlinewidth": 0,
              "ticks": ""
             }
            },
            "marker": {
             "colorbar": {
              "outlinewidth": 0,
              "ticks": ""
             }
            },
            "type": "scatter3d"
           }
          ],
          "scattercarpet": [
           {
            "marker": {
             "colorbar": {
              "outlinewidth": 0,
              "ticks": ""
             }
            },
            "type": "scattercarpet"
           }
          ],
          "scattergeo": [
           {
            "marker": {
             "colorbar": {
              "outlinewidth": 0,
              "ticks": ""
             }
            },
            "type": "scattergeo"
           }
          ],
          "scattergl": [
           {
            "marker": {
             "colorbar": {
              "outlinewidth": 0,
              "ticks": ""
             }
            },
            "type": "scattergl"
           }
          ],
          "scattermapbox": [
           {
            "marker": {
             "colorbar": {
              "outlinewidth": 0,
              "ticks": ""
             }
            },
            "type": "scattermapbox"
           }
          ],
          "scatterpolar": [
           {
            "marker": {
             "colorbar": {
              "outlinewidth": 0,
              "ticks": ""
             }
            },
            "type": "scatterpolar"
           }
          ],
          "scatterpolargl": [
           {
            "marker": {
             "colorbar": {
              "outlinewidth": 0,
              "ticks": ""
             }
            },
            "type": "scatterpolargl"
           }
          ],
          "scatterternary": [
           {
            "marker": {
             "colorbar": {
              "outlinewidth": 0,
              "ticks": ""
             }
            },
            "type": "scatterternary"
           }
          ],
          "surface": [
           {
            "colorbar": {
             "outlinewidth": 0,
             "ticks": ""
            },
            "colorscale": [
             [
              0,
              "#0d0887"
             ],
             [
              0.1111111111111111,
              "#46039f"
             ],
             [
              0.2222222222222222,
              "#7201a8"
             ],
             [
              0.3333333333333333,
              "#9c179e"
             ],
             [
              0.4444444444444444,
              "#bd3786"
             ],
             [
              0.5555555555555556,
              "#d8576b"
             ],
             [
              0.6666666666666666,
              "#ed7953"
             ],
             [
              0.7777777777777778,
              "#fb9f3a"
             ],
             [
              0.8888888888888888,
              "#fdca26"
             ],
             [
              1,
              "#f0f921"
             ]
            ],
            "type": "surface"
           }
          ],
          "table": [
           {
            "cells": {
             "fill": {
              "color": "#EBF0F8"
             },
             "line": {
              "color": "white"
             }
            },
            "header": {
             "fill": {
              "color": "#C8D4E3"
             },
             "line": {
              "color": "white"
             }
            },
            "type": "table"
           }
          ]
         },
         "layout": {
          "annotationdefaults": {
           "arrowcolor": "#2a3f5f",
           "arrowhead": 0,
           "arrowwidth": 1
          },
          "autotypenumbers": "strict",
          "coloraxis": {
           "colorbar": {
            "outlinewidth": 0,
            "ticks": ""
           }
          },
          "colorscale": {
           "diverging": [
            [
             0,
             "#8e0152"
            ],
            [
             0.1,
             "#c51b7d"
            ],
            [
             0.2,
             "#de77ae"
            ],
            [
             0.3,
             "#f1b6da"
            ],
            [
             0.4,
             "#fde0ef"
            ],
            [
             0.5,
             "#f7f7f7"
            ],
            [
             0.6,
             "#e6f5d0"
            ],
            [
             0.7,
             "#b8e186"
            ],
            [
             0.8,
             "#7fbc41"
            ],
            [
             0.9,
             "#4d9221"
            ],
            [
             1,
             "#276419"
            ]
           ],
           "sequential": [
            [
             0,
             "#0d0887"
            ],
            [
             0.1111111111111111,
             "#46039f"
            ],
            [
             0.2222222222222222,
             "#7201a8"
            ],
            [
             0.3333333333333333,
             "#9c179e"
            ],
            [
             0.4444444444444444,
             "#bd3786"
            ],
            [
             0.5555555555555556,
             "#d8576b"
            ],
            [
             0.6666666666666666,
             "#ed7953"
            ],
            [
             0.7777777777777778,
             "#fb9f3a"
            ],
            [
             0.8888888888888888,
             "#fdca26"
            ],
            [
             1,
             "#f0f921"
            ]
           ],
           "sequentialminus": [
            [
             0,
             "#0d0887"
            ],
            [
             0.1111111111111111,
             "#46039f"
            ],
            [
             0.2222222222222222,
             "#7201a8"
            ],
            [
             0.3333333333333333,
             "#9c179e"
            ],
            [
             0.4444444444444444,
             "#bd3786"
            ],
            [
             0.5555555555555556,
             "#d8576b"
            ],
            [
             0.6666666666666666,
             "#ed7953"
            ],
            [
             0.7777777777777778,
             "#fb9f3a"
            ],
            [
             0.8888888888888888,
             "#fdca26"
            ],
            [
             1,
             "#f0f921"
            ]
           ]
          },
          "colorway": [
           "#636efa",
           "#EF553B",
           "#00cc96",
           "#ab63fa",
           "#FFA15A",
           "#19d3f3",
           "#FF6692",
           "#B6E880",
           "#FF97FF",
           "#FECB52"
          ],
          "font": {
           "color": "#2a3f5f"
          },
          "geo": {
           "bgcolor": "white",
           "lakecolor": "white",
           "landcolor": "#E5ECF6",
           "showlakes": true,
           "showland": true,
           "subunitcolor": "white"
          },
          "hoverlabel": {
           "align": "left"
          },
          "hovermode": "closest",
          "mapbox": {
           "style": "light"
          },
          "paper_bgcolor": "white",
          "plot_bgcolor": "#E5ECF6",
          "polar": {
           "angularaxis": {
            "gridcolor": "white",
            "linecolor": "white",
            "ticks": ""
           },
           "bgcolor": "#E5ECF6",
           "radialaxis": {
            "gridcolor": "white",
            "linecolor": "white",
            "ticks": ""
           }
          },
          "scene": {
           "xaxis": {
            "backgroundcolor": "#E5ECF6",
            "gridcolor": "white",
            "gridwidth": 2,
            "linecolor": "white",
            "showbackground": true,
            "ticks": "",
            "zerolinecolor": "white"
           },
           "yaxis": {
            "backgroundcolor": "#E5ECF6",
            "gridcolor": "white",
            "gridwidth": 2,
            "linecolor": "white",
            "showbackground": true,
            "ticks": "",
            "zerolinecolor": "white"
           },
           "zaxis": {
            "backgroundcolor": "#E5ECF6",
            "gridcolor": "white",
            "gridwidth": 2,
            "linecolor": "white",
            "showbackground": true,
            "ticks": "",
            "zerolinecolor": "white"
           }
          },
          "shapedefaults": {
           "line": {
            "color": "#2a3f5f"
           }
          },
          "ternary": {
           "aaxis": {
            "gridcolor": "white",
            "linecolor": "white",
            "ticks": ""
           },
           "baxis": {
            "gridcolor": "white",
            "linecolor": "white",
            "ticks": ""
           },
           "bgcolor": "#E5ECF6",
           "caxis": {
            "gridcolor": "white",
            "linecolor": "white",
            "ticks": ""
           }
          },
          "title": {
           "x": 0.05
          },
          "xaxis": {
           "automargin": true,
           "gridcolor": "white",
           "linecolor": "white",
           "ticks": "",
           "title": {
            "standoff": 15
           },
           "zerolinecolor": "white",
           "zerolinewidth": 2
          },
          "yaxis": {
           "automargin": true,
           "gridcolor": "white",
           "linecolor": "white",
           "ticks": "",
           "title": {
            "standoff": 15
           },
           "zerolinecolor": "white",
           "zerolinewidth": 2
          }
         }
        },
        "xaxis": {
         "anchor": "y",
         "domain": [
          0,
          1
         ],
         "title": {
          "text": "VOLATILIDADE ESPERADA"
         }
        },
        "yaxis": {
         "anchor": "x",
         "domain": [
          0,
          1
         ],
         "title": {
          "text": "RETORNO ESPERADO"
         }
        }
       }
      },
      "text/html": [
       "<div>                            <div id=\"ac3dcb95-82e2-4f0c-a199-8ac9df962062\" class=\"plotly-graph-div\" style=\"height:525px; width:100%;\"></div>            <script type=\"text/javascript\">                require([\"plotly\"], function(Plotly) {                    window.PLOTLYENV=window.PLOTLYENV || {};                                    if (document.getElementById(\"ac3dcb95-82e2-4f0c-a199-8ac9df962062\")) {                    Plotly.newPlot(                        \"ac3dcb95-82e2-4f0c-a199-8ac9df962062\",                        [{\"hovertemplate\": \"VOLATILIDADE ESPERADA=%{x}<br>RETORNO ESPERADO=%{y}<br>SHARPE=%{marker.color}<extra></extra>\", \"legendgroup\": \"\", \"marker\": {\"color\": [-2.586385858328958, -7.097270945164133, -12.1168157092117, -12.1168157092117, -12.1168157092117, -12.1168157092117, -12.1168157092117, -12.1168157092117, -11.977329271986575, -6.600881906949432, -1.925947988282694, 1.7399438339686877, 4.645061462241586, 6.842859152353692, 8.275335920333701, 8.394181407636095, 7.293806387291243, 4.763201969419638, 2.5083699541746003, 2.150488689873587, 2.2940839980782997, 2.1058357560775507, 1.8756016406140765, 1.7085769624538791, 1.5827241355498203, 1.487407769248178, 1.4129509781345253, 1.3532165476352374, 1.3042017597145341, 1.262569518641915, 1.2266283402258853, 1.1951987591854871, 1.166985540007956, 1.1415749301864373, 1.118646660751133, 1.0979057213258387, 1.079088810605778], \"coloraxis\": \"coloraxis\", \"size\": 12, \"symbol\": \"circle\"}, \"mode\": \"markers\", \"name\": \"\", \"orientation\": \"v\", \"showlegend\": false, \"type\": \"scatter\", \"x\": [0.0012874795965331803, 0.0011347077331414893, 0.0010432492623076238, 0.0010432492623076238, 0.0010432492623076238, 0.0010432492623076238, 0.0010432492623076238, 0.0010432492623076238, 0.0010436383367397172, 0.0011362118131675667, 0.0012980620531861673, 0.0014368279890378264, 0.00161461803271397, 0.0018411570626287968, 0.0021147177792505004, 0.002680428133174724, 0.0037703221801878507, 0.006823141283668868, 0.0149499478486377, 0.01976294978910041, 0.020705431902140307, 0.024930719239846848, 0.030656829656629206, 0.03658014907928804, 0.042647988037758267, 0.04874251802291291, 0.05484974439971078, 0.06096585217212265, 0.06709084644936547, 0.07326329254289128, 0.07948617914864523, 0.0857597945214171, 0.09211767953805766, 0.09854806462999939, 0.10503763531650183, 0.11157606488475914, 0.11815524241088574], \"xaxis\": \"x\", \"y\": [0.04917008097863951, 0.04444667177432185, 0.039859140949847466, 0.039859140949847466, 0.039859140949847466, 0.039859140949847466, 0.039859140949847466, 0.039859140949847466, 0.04, 0.045, 0.049999999999999996, 0.05499999999999999, 0.059999999999999984, 0.0650987784569301, 0.06999999999999998, 0.075, 0.07999999999999999, 0.08499999999999999, 0.09000000000000001, 0.09500000000000001, 0.1, 0.10500000000000002, 0.11000000000000001, 0.11500000000000002, 0.12000000000000004, 0.125, 0.13000000000000003, 0.13500000000000004, 0.14000000000000004, 0.14500000000000005, 0.15000000000000005, 0.15500000000000005, 0.16000000000000006, 0.16500000000000006, 0.17000000000000004, 0.17500000000000007, 0.18000000000000008], \"yaxis\": \"y\"}],                        {\"coloraxis\": {\"colorbar\": {\"title\": {\"text\": \"SHARPE\"}}, \"colorscale\": [[0.0, \"#0d0887\"], [0.1111111111111111, \"#46039f\"], [0.2222222222222222, \"#7201a8\"], [0.3333333333333333, \"#9c179e\"], [0.4444444444444444, \"#bd3786\"], [0.5555555555555556, \"#d8576b\"], [0.6666666666666666, \"#ed7953\"], [0.7777777777777778, \"#fb9f3a\"], [0.8888888888888888, \"#fdca26\"], [1.0, \"#f0f921\"]]}, \"legend\": {\"tracegroupgap\": 0}, \"margin\": {\"t\": 60}, \"template\": {\"data\": {\"bar\": [{\"error_x\": {\"color\": \"#2a3f5f\"}, \"error_y\": {\"color\": \"#2a3f5f\"}, \"marker\": {\"line\": {\"color\": \"#E5ECF6\", \"width\": 0.5}}, \"type\": \"bar\"}], \"barpolar\": [{\"marker\": {\"line\": {\"color\": \"#E5ECF6\", \"width\": 0.5}}, \"type\": \"barpolar\"}], \"carpet\": [{\"aaxis\": {\"endlinecolor\": \"#2a3f5f\", \"gridcolor\": \"white\", \"linecolor\": \"white\", \"minorgridcolor\": \"white\", \"startlinecolor\": \"#2a3f5f\"}, \"baxis\": {\"endlinecolor\": \"#2a3f5f\", \"gridcolor\": \"white\", \"linecolor\": \"white\", \"minorgridcolor\": \"white\", \"startlinecolor\": \"#2a3f5f\"}, \"type\": \"carpet\"}], \"choropleth\": [{\"colorbar\": {\"outlinewidth\": 0, \"ticks\": \"\"}, \"type\": \"choropleth\"}], \"contour\": [{\"colorbar\": {\"outlinewidth\": 0, \"ticks\": \"\"}, \"colorscale\": [[0.0, \"#0d0887\"], [0.1111111111111111, \"#46039f\"], [0.2222222222222222, \"#7201a8\"], [0.3333333333333333, \"#9c179e\"], [0.4444444444444444, \"#bd3786\"], [0.5555555555555556, \"#d8576b\"], [0.6666666666666666, \"#ed7953\"], [0.7777777777777778, \"#fb9f3a\"], [0.8888888888888888, \"#fdca26\"], [1.0, \"#f0f921\"]], \"type\": \"contour\"}], \"contourcarpet\": [{\"colorbar\": {\"outlinewidth\": 0, \"ticks\": \"\"}, \"type\": \"contourcarpet\"}], \"heatmap\": [{\"colorbar\": {\"outlinewidth\": 0, \"ticks\": \"\"}, \"colorscale\": [[0.0, \"#0d0887\"], [0.1111111111111111, \"#46039f\"], [0.2222222222222222, \"#7201a8\"], [0.3333333333333333, \"#9c179e\"], [0.4444444444444444, \"#bd3786\"], [0.5555555555555556, \"#d8576b\"], [0.6666666666666666, \"#ed7953\"], [0.7777777777777778, \"#fb9f3a\"], [0.8888888888888888, \"#fdca26\"], [1.0, \"#f0f921\"]], \"type\": \"heatmap\"}], \"heatmapgl\": [{\"colorbar\": {\"outlinewidth\": 0, \"ticks\": \"\"}, \"colorscale\": [[0.0, \"#0d0887\"], [0.1111111111111111, \"#46039f\"], [0.2222222222222222, \"#7201a8\"], [0.3333333333333333, \"#9c179e\"], [0.4444444444444444, \"#bd3786\"], [0.5555555555555556, \"#d8576b\"], [0.6666666666666666, \"#ed7953\"], [0.7777777777777778, \"#fb9f3a\"], [0.8888888888888888, \"#fdca26\"], [1.0, \"#f0f921\"]], \"type\": \"heatmapgl\"}], \"histogram\": [{\"marker\": {\"colorbar\": {\"outlinewidth\": 0, \"ticks\": \"\"}}, \"type\": \"histogram\"}], \"histogram2d\": [{\"colorbar\": {\"outlinewidth\": 0, \"ticks\": \"\"}, \"colorscale\": [[0.0, \"#0d0887\"], [0.1111111111111111, \"#46039f\"], [0.2222222222222222, \"#7201a8\"], [0.3333333333333333, \"#9c179e\"], [0.4444444444444444, \"#bd3786\"], [0.5555555555555556, \"#d8576b\"], [0.6666666666666666, \"#ed7953\"], [0.7777777777777778, \"#fb9f3a\"], [0.8888888888888888, \"#fdca26\"], [1.0, \"#f0f921\"]], \"type\": \"histogram2d\"}], \"histogram2dcontour\": [{\"colorbar\": {\"outlinewidth\": 0, \"ticks\": \"\"}, \"colorscale\": [[0.0, \"#0d0887\"], [0.1111111111111111, \"#46039f\"], [0.2222222222222222, \"#7201a8\"], [0.3333333333333333, \"#9c179e\"], [0.4444444444444444, \"#bd3786\"], [0.5555555555555556, \"#d8576b\"], [0.6666666666666666, \"#ed7953\"], [0.7777777777777778, \"#fb9f3a\"], [0.8888888888888888, \"#fdca26\"], [1.0, \"#f0f921\"]], \"type\": \"histogram2dcontour\"}], \"mesh3d\": [{\"colorbar\": {\"outlinewidth\": 0, \"ticks\": \"\"}, \"type\": \"mesh3d\"}], \"parcoords\": [{\"line\": {\"colorbar\": {\"outlinewidth\": 0, \"ticks\": \"\"}}, \"type\": \"parcoords\"}], \"pie\": [{\"automargin\": true, \"type\": \"pie\"}], \"scatter\": [{\"marker\": {\"colorbar\": {\"outlinewidth\": 0, \"ticks\": \"\"}}, \"type\": \"scatter\"}], \"scatter3d\": [{\"line\": {\"colorbar\": {\"outlinewidth\": 0, \"ticks\": \"\"}}, \"marker\": {\"colorbar\": {\"outlinewidth\": 0, \"ticks\": \"\"}}, \"type\": \"scatter3d\"}], \"scattercarpet\": [{\"marker\": {\"colorbar\": {\"outlinewidth\": 0, \"ticks\": \"\"}}, \"type\": \"scattercarpet\"}], \"scattergeo\": [{\"marker\": {\"colorbar\": {\"outlinewidth\": 0, \"ticks\": \"\"}}, \"type\": \"scattergeo\"}], \"scattergl\": [{\"marker\": {\"colorbar\": {\"outlinewidth\": 0, \"ticks\": \"\"}}, \"type\": \"scattergl\"}], \"scattermapbox\": [{\"marker\": {\"colorbar\": {\"outlinewidth\": 0, \"ticks\": \"\"}}, \"type\": \"scattermapbox\"}], \"scatterpolar\": [{\"marker\": {\"colorbar\": {\"outlinewidth\": 0, \"ticks\": \"\"}}, \"type\": \"scatterpolar\"}], \"scatterpolargl\": [{\"marker\": {\"colorbar\": {\"outlinewidth\": 0, \"ticks\": \"\"}}, \"type\": \"scatterpolargl\"}], \"scatterternary\": [{\"marker\": {\"colorbar\": {\"outlinewidth\": 0, \"ticks\": \"\"}}, \"type\": \"scatterternary\"}], \"surface\": [{\"colorbar\": {\"outlinewidth\": 0, \"ticks\": \"\"}, \"colorscale\": [[0.0, \"#0d0887\"], [0.1111111111111111, \"#46039f\"], [0.2222222222222222, \"#7201a8\"], [0.3333333333333333, \"#9c179e\"], [0.4444444444444444, \"#bd3786\"], [0.5555555555555556, \"#d8576b\"], [0.6666666666666666, \"#ed7953\"], [0.7777777777777778, \"#fb9f3a\"], [0.8888888888888888, \"#fdca26\"], [1.0, \"#f0f921\"]], \"type\": \"surface\"}], \"table\": [{\"cells\": {\"fill\": {\"color\": \"#EBF0F8\"}, \"line\": {\"color\": \"white\"}}, \"header\": {\"fill\": {\"color\": \"#C8D4E3\"}, \"line\": {\"color\": \"white\"}}, \"type\": \"table\"}]}, \"layout\": {\"annotationdefaults\": {\"arrowcolor\": \"#2a3f5f\", \"arrowhead\": 0, \"arrowwidth\": 1}, \"autotypenumbers\": \"strict\", \"coloraxis\": {\"colorbar\": {\"outlinewidth\": 0, \"ticks\": \"\"}}, \"colorscale\": {\"diverging\": [[0, \"#8e0152\"], [0.1, \"#c51b7d\"], [0.2, \"#de77ae\"], [0.3, \"#f1b6da\"], [0.4, \"#fde0ef\"], [0.5, \"#f7f7f7\"], [0.6, \"#e6f5d0\"], [0.7, \"#b8e186\"], [0.8, \"#7fbc41\"], [0.9, \"#4d9221\"], [1, \"#276419\"]], \"sequential\": [[0.0, \"#0d0887\"], [0.1111111111111111, \"#46039f\"], [0.2222222222222222, \"#7201a8\"], [0.3333333333333333, \"#9c179e\"], [0.4444444444444444, \"#bd3786\"], [0.5555555555555556, \"#d8576b\"], [0.6666666666666666, \"#ed7953\"], [0.7777777777777778, \"#fb9f3a\"], [0.8888888888888888, \"#fdca26\"], [1.0, \"#f0f921\"]], \"sequentialminus\": [[0.0, \"#0d0887\"], [0.1111111111111111, \"#46039f\"], [0.2222222222222222, \"#7201a8\"], [0.3333333333333333, \"#9c179e\"], [0.4444444444444444, \"#bd3786\"], [0.5555555555555556, \"#d8576b\"], [0.6666666666666666, \"#ed7953\"], [0.7777777777777778, \"#fb9f3a\"], [0.8888888888888888, \"#fdca26\"], [1.0, \"#f0f921\"]]}, \"colorway\": [\"#636efa\", \"#EF553B\", \"#00cc96\", \"#ab63fa\", \"#FFA15A\", \"#19d3f3\", \"#FF6692\", \"#B6E880\", \"#FF97FF\", \"#FECB52\"], \"font\": {\"color\": \"#2a3f5f\"}, \"geo\": {\"bgcolor\": \"white\", \"lakecolor\": \"white\", \"landcolor\": \"#E5ECF6\", \"showlakes\": true, \"showland\": true, \"subunitcolor\": \"white\"}, \"hoverlabel\": {\"align\": \"left\"}, \"hovermode\": \"closest\", \"mapbox\": {\"style\": \"light\"}, \"paper_bgcolor\": \"white\", \"plot_bgcolor\": \"#E5ECF6\", \"polar\": {\"angularaxis\": {\"gridcolor\": \"white\", \"linecolor\": \"white\", \"ticks\": \"\"}, \"bgcolor\": \"#E5ECF6\", \"radialaxis\": {\"gridcolor\": \"white\", \"linecolor\": \"white\", \"ticks\": \"\"}}, \"scene\": {\"xaxis\": {\"backgroundcolor\": \"#E5ECF6\", \"gridcolor\": \"white\", \"gridwidth\": 2, \"linecolor\": \"white\", \"showbackground\": true, \"ticks\": \"\", \"zerolinecolor\": \"white\"}, \"yaxis\": {\"backgroundcolor\": \"#E5ECF6\", \"gridcolor\": \"white\", \"gridwidth\": 2, \"linecolor\": \"white\", \"showbackground\": true, \"ticks\": \"\", \"zerolinecolor\": \"white\"}, \"zaxis\": {\"backgroundcolor\": \"#E5ECF6\", \"gridcolor\": \"white\", \"gridwidth\": 2, \"linecolor\": \"white\", \"showbackground\": true, \"ticks\": \"\", \"zerolinecolor\": \"white\"}}, \"shapedefaults\": {\"line\": {\"color\": \"#2a3f5f\"}}, \"ternary\": {\"aaxis\": {\"gridcolor\": \"white\", \"linecolor\": \"white\", \"ticks\": \"\"}, \"baxis\": {\"gridcolor\": \"white\", \"linecolor\": \"white\", \"ticks\": \"\"}, \"bgcolor\": \"#E5ECF6\", \"caxis\": {\"gridcolor\": \"white\", \"linecolor\": \"white\", \"ticks\": \"\"}}, \"title\": {\"x\": 0.05}, \"xaxis\": {\"automargin\": true, \"gridcolor\": \"white\", \"linecolor\": \"white\", \"ticks\": \"\", \"title\": {\"standoff\": 15}, \"zerolinecolor\": \"white\", \"zerolinewidth\": 2}, \"yaxis\": {\"automargin\": true, \"gridcolor\": \"white\", \"linecolor\": \"white\", \"ticks\": \"\", \"title\": {\"standoff\": 15}, \"zerolinecolor\": \"white\", \"zerolinewidth\": 2}}}, \"xaxis\": {\"anchor\": \"y\", \"domain\": [0.0, 1.0], \"title\": {\"text\": \"VOLATILIDADE ESPERADA\"}}, \"yaxis\": {\"anchor\": \"x\", \"domain\": [0.0, 1.0], \"title\": {\"text\": \"RETORNO ESPERADO\"}}},                        {\"responsive\": true}                    ).then(function(){\n",
       "                            \n",
       "var gd = document.getElementById('ac3dcb95-82e2-4f0c-a199-8ac9df962062');\n",
       "var x = new MutationObserver(function (mutations, observer) {{\n",
       "        var display = window.getComputedStyle(gd).display;\n",
       "        if (!display || display === 'none') {{\n",
       "            console.log([gd, 'removed!']);\n",
       "            Plotly.purge(gd);\n",
       "            observer.disconnect();\n",
       "        }}\n",
       "}});\n",
       "\n",
       "// Listen for the removal of the full notebook cells\n",
       "var notebookContainer = gd.closest('#notebook-container');\n",
       "if (notebookContainer) {{\n",
       "    x.observe(notebookContainer, {childList: true});\n",
       "}}\n",
       "\n",
       "// Listen for the clearing of the current output cell\n",
       "var outputEl = gd.closest('.output');\n",
       "if (outputEl) {{\n",
       "    x.observe(outputEl, {childList: true});\n",
       "}}\n",
       "\n",
       "                        })                };                });            </script>        </div>"
      ]
     },
     "metadata": {},
     "output_type": "display_data"
    }
   ],
   "source": [
    "fig = px.scatter(dados, x='VOLATILIDADE ESPERADA', y='RETORNO ESPERADO', color='SHARPE')\n",
    "\n",
    "#fig.add_trace(go.Scatter(x = [a_risco[max_i]], y = [a_retorno[max_i]], mode='markers', \n",
    "#    marker_color='rgb(255, 0, 0)', showlegend=False, name=f'Sharpe: {a_sharpe[max_i]}'))\n",
    "\n",
    "fig.update_traces(marker_size = 12)\n",
    "\n",
    "#fig.write_image(\"fig1.pdf\")\n",
    "fig.show()"
   ]
  }
 ],
 "metadata": {
  "colab": {
   "collapsed_sections": [],
   "name": "ModeloFinançasGurobipy.ipynb",
   "provenance": []
  },
  "kernelspec": {
   "display_name": "Python 3",
   "language": "python",
   "name": "python3"
  },
  "language_info": {
   "codemirror_mode": {
    "name": "ipython",
    "version": 3
   },
   "file_extension": ".py",
   "mimetype": "text/x-python",
   "name": "python",
   "nbconvert_exporter": "python",
   "pygments_lexer": "ipython3",
   "version": "3.8.5"
  }
 },
 "nbformat": 4,
 "nbformat_minor": 1
}
