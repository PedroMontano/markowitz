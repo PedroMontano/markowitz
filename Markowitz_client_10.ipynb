{
 "cells": [
  {
   "cell_type": "code",
   "execution_count": 1,
   "id": "injured-catch",
   "metadata": {},
   "outputs": [],
   "source": [
    "import gurobipy as gp\n",
    "import math\n",
    "import numpy as np\n",
    "import pandas as pd\n",
    "import matplotlib.pyplot as plt\n",
    "\n",
    "%matplotlib inline\n",
    "\n",
    "from markowitz import Markowitz\n",
    "from markowitz import par"
   ]
  },
  {
   "cell_type": "code",
   "execution_count": 2,
   "id": "suffering-annual",
   "metadata": {},
   "outputs": [],
   "source": [
    "def limpa(s):\n",
    "    return s.replace(\"/\",\"\").replace(\"-\",\"\").replace(\".\",\"\").replace(\"$\",\"\").replace(\"R\",\"\")\n",
    "\n",
    "def geo_mean(iterable):\n",
    "    a = np.array(iterable)\n",
    "    return a.prod()**(1.0/len(a))"
   ]
  },
  {
   "cell_type": "code",
   "execution_count": 3,
   "id": "aggressive-closer",
   "metadata": {},
   "outputs": [],
   "source": [
    "df = pd.read_excel('seriehistorica10anos.xlsx')"
   ]
  },
  {
   "cell_type": "code",
   "execution_count": 4,
   "id": "occupied-vegetarian",
   "metadata": {},
   "outputs": [],
   "source": [
    "df.fillna(method='ffill',inplace=True)\n",
    "df.rename(columns={df.columns[0]: 'datas'},\n",
    "          inplace=True, errors='raise')"
   ]
  },
  {
   "cell_type": "code",
   "execution_count": 5,
   "id": "czech-subdivision",
   "metadata": {},
   "outputs": [
    {
     "name": "stdout",
     "output_type": "stream",
     "text": [
      "['2011', '2012', '2013', '2014', '2015', '2016', '2017', '2018', '2019', '2020', '2021']\n"
     ]
    }
   ],
   "source": [
    "datas = list(df['datas'][:])\n",
    "aux = [i[0:4] for i in datas]\n",
    "anos = pd.Series(aux).unique().tolist()\n",
    "\n",
    "limites_anos = [0]\n",
    "\n",
    "a = 0\n",
    "\n",
    "for c in anos:\n",
    "    a += aux.count(c)\n",
    "    limites_anos.append(a)\n",
    "\n",
    "print(anos)"
   ]
  },
  {
   "cell_type": "code",
   "execution_count": 6,
   "id": "august-support",
   "metadata": {},
   "outputs": [],
   "source": [
    "DF_anos = dict()\n",
    "\n",
    "for k in range(len(limites_anos)-1):\n",
    "    DF_anos[anos[k]] = df[limites_anos[k]:limites_anos[k+1]].reset_index().drop(['index'],axis=1)"
   ]
  },
  {
   "cell_type": "code",
   "execution_count": 7,
   "id": "convertible-circuit",
   "metadata": {},
   "outputs": [],
   "source": [
    "DF_meses = dict()\n",
    "Meses = dict()\n",
    "\n",
    "for j  in range(len(limites_anos)-1):\n",
    "    year = anos[j]\n",
    "    datas = list(DF_anos[year]['datas'][:])\n",
    "    aux = [i[5:7] for i in datas]\n",
    "    Meses[year] = pd.Series(aux).unique().tolist()\n",
    "\n",
    "    limites_meses = [0]\n",
    "\n",
    "    a = 0\n",
    "\n",
    "    for c in Meses[year]:\n",
    "        a += aux.count(c)\n",
    "        limites_meses.append(a)\n",
    "        \n",
    "    for k in range(len(limites_meses)-1):\n",
    "        DF_meses[year,Meses[year][k]] = DF_anos[year][limites_meses[k]:limites_meses[k+1]].reset_index().drop(['index'],axis=1)"
   ]
  },
  {
   "cell_type": "code",
   "execution_count": 18,
   "id": "baking-moldova",
   "metadata": {},
   "outputs": [],
   "source": [
    "minRetorno = 0.2\n",
    "C = 100_000\n",
    "P_categorias = [0.25, 0.05, 0.4, 0.3]\n",
    "K_min = 3\n",
    "K_max = 10\n",
    "P_min = 0.05\n",
    "P_max = 0.3\n",
    "l = 1\n",
    "log = 0"
   ]
  },
  {
   "cell_type": "code",
   "execution_count": 19,
   "id": "earned-husband",
   "metadata": {},
   "outputs": [
    {
     "data": {
      "text/plain": [
       "1.0"
      ]
     },
     "execution_count": 19,
     "metadata": {},
     "output_type": "execute_result"
    }
   ],
   "source": [
    "sum(P_categorias)"
   ]
  },
  {
   "cell_type": "code",
   "execution_count": 20,
   "id": "political-committee",
   "metadata": {},
   "outputs": [],
   "source": [
    "ano_inicial = 2011\n",
    "ano_final = 2014\n",
    "mes_inicial = 9\n",
    "mes_final = 8\n",
    "intervalo_mensal = 12"
   ]
  },
  {
   "cell_type": "code",
   "execution_count": 21,
   "id": "proprietary-lucas",
   "metadata": {},
   "outputs": [
    {
     "name": "stdout",
     "output_type": "stream",
     "text": [
      "['2011', '2012', '2013', '2014']\n",
      "3.0\n",
      "[('2011', '09'), ('2011', '10'), ('2011', '11'), ('2011', '12'), ('2012', '01'), ('2012', '02'), ('2012', '03'), ('2012', '04'), ('2012', '05'), ('2012', '06'), ('2012', '07'), ('2012', '08'), ('2012', '09'), ('2012', '10'), ('2012', '11'), ('2012', '12'), ('2013', '01'), ('2013', '02'), ('2013', '03'), ('2013', '04'), ('2013', '05'), ('2013', '06'), ('2013', '07'), ('2013', '08'), ('2013', '09'), ('2013', '10'), ('2013', '11'), ('2013', '12'), ('2014', '01'), ('2014', '02'), ('2014', '03'), ('2014', '04'), ('2014', '05'), ('2014', '06'), ('2014', '07'), ('2014', '08')]\n"
     ]
    }
   ],
   "source": [
    "anos_escolhidos = anos[anos.index(str(ano_inicial)):(ano_final-ano_inicial+1+anos.index(str(ano_inicial)))]\n",
    "print(anos_escolhidos)\n",
    "seq = []\n",
    "for k  in anos_escolhidos:\n",
    "    if k == str(ano_final):\n",
    "        seq += [(k,q) for q  in Meses[k][0:mes_final]]\n",
    "    else:\n",
    "        seq += [(k,q) for q  in Meses[k]]\n",
    "print(len(seq)/intervalo_mensal)\n",
    "print(seq)"
   ]
  },
  {
   "cell_type": "code",
   "execution_count": 22,
   "id": "collectible-certificate",
   "metadata": {},
   "outputs": [
    {
     "name": "stdout",
     "output_type": "stream",
     "text": [
      "('2011', '09')\n",
      "('2011', '10')\n",
      "('2011', '11')\n",
      "('2011', '12')\n",
      "('2012', '01')\n",
      "('2012', '02')\n",
      "('2012', '03')\n",
      "('2012', '04')\n",
      "('2012', '05')\n",
      "('2012', '06')\n",
      "('2012', '07')\n",
      "('2012', '08')\n",
      "P_min = 5.0%\n",
      "P_max = 30.0%\n",
      "K_min = 4\n",
      "K_max = 10\n",
      "P_categorias = [0.25, 0.05, 0.4, 0.3]\n",
      "Tempo total: 0.32942962646484375 s\n",
      "Retorno esperado --> 20.0%\n",
      "Risco estimado --> 2.33%\n",
      "Fundo 5 (12287682000144) --> 8.75%; R$ 8753.82 --> R$ 5000.0\n",
      "Fundo 25 (10237480000162) --> 7.58%; R$ 7576.3 --> R$ 1000.0\n",
      "Fundo 52 (12004203000135) --> 8.67%; R$ 8669.87 --> R$ 5000.0\n",
      "Fundo 60 (01430938000104) --> 5.0%; R$ 5000.0 --> R$ 5000.0\n",
      "Fundo 68 (13001211000190) --> 22.82%; R$ 22824.39 --> R$ 5000.0\n",
      "Fundo 85 (06041290000106) --> 11.24%; R$ 11235.2 --> R$ 1000.0\n",
      "Fundo 125 (12120451000141) --> 5.94%; R$ 5940.41 --> R$ 1000.0\n",
      "Fundo 128 (09814233000100) --> 7.25%; R$ 7246.79 --> R$ 3000.0\n",
      "Fundo 149 (10783480000168) --> 10.77%; R$ 10770.13 --> R$ 100.0\n",
      "Fundo 150 (13554383000191) --> 11.98%; R$ 11983.08 --> R$ 5000.0\n",
      "\n",
      "\n",
      "###############################################\n",
      "\n",
      "\n",
      "('2012', '09')\n",
      "('2012', '10')\n",
      "('2012', '11')\n",
      "('2012', '12')\n",
      "('2013', '01')\n",
      "('2013', '02')\n",
      "('2013', '03')\n",
      "('2013', '04')\n",
      "('2013', '05')\n",
      "('2013', '06')\n",
      "('2013', '07')\n",
      "('2013', '08')\n",
      "P_min = 5.0%\n",
      "P_max = 30.0%\n",
      "K_min = 4\n",
      "K_max = 10\n",
      "P_categorias = [0.25, 0.05, 0.4, 0.3]\n",
      "Tempo total: 0.2252216339111328 s\n",
      "Retorno esperado --> 20.0%\n",
      "Risco estimado --> 4.25%\n",
      "Fundo 52 (12004203000135) --> 25.0%; R$ 25000.0 --> R$ 5000.0\n",
      "Fundo 60 (01430938000104) --> 5.0%; R$ 5000.0 --> R$ 5000.0\n",
      "Fundo 63 (11182072000113) --> 17.61%; R$ 17611.55 --> R$ 10000.0\n",
      "Fundo 64 (13503226000157) --> 6.36%; R$ 6356.54 --> R$ 5000.0\n",
      "Fundo 106 (11301137000100) --> 16.03%; R$ 16031.91 --> R$ 5000.0\n",
      "Fundo 152 (13615411000133) --> 30.0%; R$ 30000.0 --> R$ 5000.0\n",
      "\n",
      "\n",
      "###############################################\n",
      "\n",
      "\n",
      "('2013', '09')\n",
      "('2013', '10')\n",
      "('2013', '11')\n",
      "('2013', '12')\n",
      "('2014', '01')\n",
      "('2014', '02')\n",
      "('2014', '03')\n",
      "('2014', '04')\n",
      "('2014', '05')\n",
      "('2014', '06')\n",
      "('2014', '07')\n",
      "('2014', '08')\n",
      "P_min = 5.0%\n",
      "P_max = 30.0%\n",
      "K_min = 4\n",
      "K_max = 10\n",
      "P_categorias = [0.25, 0.05, 0.4, 0.3]\n",
      "Tempo total: 0.23614788055419922 s\n",
      "Retorno esperado --> 20.0%\n",
      "Risco estimado --> 5.65%\n",
      "Fundo 11 (11628883000103) --> 9.35%; R$ 9347.7 --> R$ 5000.0\n",
      "Fundo 58 (11898280000113) --> 15.65%; R$ 15652.3 --> R$ 0.0\n",
      "Fundo 60 (01430938000104) --> 5.0%; R$ 5000.0 --> R$ 5000.0\n",
      "Fundo 67 (12839769000187) --> 30.0%; R$ 30000.0 --> R$ 5000.0\n",
      "Fundo 74 (07552643000197) --> 10.0%; R$ 10000.0 --> R$ 1000.0\n",
      "Fundo 127 (09326708000101) --> 30.0%; R$ 30000.0 --> R$ 5000.0\n",
      "\n",
      "\n",
      "###############################################\n",
      "\n",
      "\n"
     ]
    }
   ],
   "source": [
    "Hist = dict()\n",
    "for i in range(int(len(seq)/intervalo_mensal)):\n",
    "    DF = pd.DataFrame()\n",
    "    for j in range(intervalo_mensal):\n",
    "        print(seq[intervalo_mensal*i+j])\n",
    "        DF = pd.concat([DF, DF_meses[seq[intervalo_mensal*i+j]]], axis=0).reset_index().drop(['index', 'datas'],axis=1)\n",
    "        \n",
    "    pf = pd.read_excel('perfilfundos.xlsx')\n",
    "    pf.drop(['NOME','DATA_INICIO','CARENCIA','FLAG_QUALIFICADO'],axis=1,inplace=True)\n",
    "    pf['CNPJ'] = pf['CNPJ'].apply(limpa)\n",
    "    pf['APLICACAO_MINIMA'] = pd.to_numeric(pf['APLICACAO_MINIMA'].apply(limpa),errors='coerce')\n",
    "    pf.fillna(0,inplace=True)\n",
    "    pf.set_index('CNPJ',inplace=True)\n",
    "    pf_ordered = pf.sort_values(by ='CATEGORIA')\n",
    "    pf_ordered.drop(index=(list(set(pf.index)-set(DF.columns))),inplace=True)\n",
    "\n",
    "    categorias = list(pf_ordered['CATEGORIA'].unique())\n",
    "\n",
    "    limites = [0]\n",
    "\n",
    "    a = 0\n",
    "\n",
    "    for c in categorias:\n",
    "        a += len(pf_ordered[pf_ordered['CATEGORIA'] == c])\n",
    "        limites.append(a)\n",
    "\n",
    "    cnpj = list(pf_ordered.index)\n",
    "    DF = DF[cnpj]\n",
    "\n",
    "    df_retorno = DF.pct_change().dropna()\n",
    "    sigma = (df_retorno.cov()*252).to_numpy()\n",
    "    media = (df_retorno+1).apply(geo_mean)**252-1\n",
    "\n",
    "    minFundos = np.array(pf_ordered['APLICACAO_MINIMA'])\n",
    "\n",
    "    n = len(minFundos)\n",
    "\n",
    "    parametros = par(C, minRetorno, K_min, K_max, P_min, P_max, P_categorias, limites, n, log)\n",
    "    parametros.Exibir_par()\n",
    "\n",
    "    import time\n",
    "\n",
    "    tempo_init = time.time()\n",
    "    Carteira = Markowitz(minFundos, sigma, media, cnpj, parametros);\n",
    "    print('Tempo total:', time.time() - tempo_init, 's')\n",
    "\n",
    "    Carteira.Exibir(C)\n",
    "\n",
    "    Hist[seq[intervalo_mensal*i]] = Carteira\n",
    "    print('\\n')\n",
    "    print('###############################################')\n",
    "    print('\\n')"
   ]
  },
  {
   "cell_type": "code",
   "execution_count": null,
   "id": "warming-carol",
   "metadata": {},
   "outputs": [],
   "source": []
  }
 ],
 "metadata": {
  "kernelspec": {
   "display_name": "Python 3",
   "language": "python",
   "name": "python3"
  },
  "language_info": {
   "codemirror_mode": {
    "name": "ipython",
    "version": 3
   },
   "file_extension": ".py",
   "mimetype": "text/x-python",
   "name": "python",
   "nbconvert_exporter": "python",
   "pygments_lexer": "ipython3",
   "version": "3.8.10"
  }
 },
 "nbformat": 4,
 "nbformat_minor": 5
}
