{
 "cells": [
  {
   "cell_type": "code",
   "execution_count": 1,
   "metadata": {},
   "outputs": [],
   "source": [
    "import gurobipy as gp\n",
    "import math\n",
    "import numpy as np\n",
    "import pandas as pd\n",
    "import matplotlib.pyplot as plt\n",
    "import re\n",
    "import time\n",
    "\n",
    "%matplotlib inline\n",
    "\n",
    "from markowitz import Markowitz"
   ]
  },
  {
   "cell_type": "code",
   "execution_count": 2,
   "metadata": {},
   "outputs": [],
   "source": [
    "def geo_mean(iterable):\n",
    "    a = np.array(iterable)\n",
    "    return a.prod()**(1.0/len(a))"
   ]
  },
  {
   "cell_type": "markdown",
   "metadata": {},
   "source": [
    "### Leitura e pré-processamento dos dados de entrada:"
   ]
  },
  {
   "cell_type": "code",
   "execution_count": 3,
   "metadata": {},
   "outputs": [],
   "source": [
    "df = pd.read_excel('seriehistorica10anos.xlsx')\n",
    "df.fillna(method='ffill',inplace=True)\n",
    "df.rename(columns={df.columns[0]: 'datas'},\n",
    "          inplace=True, errors='raise')\n",
    "\n",
    "df['datas'] = pd.to_datetime(df['datas'])\n",
    "df.set_index('datas', inplace = True)\n",
    "\n",
    "### PARA DROPAR AS ENTRADAS NULAS:\n",
    "#df = df[(df != 0).all(1)]\n",
    "\n",
    "### PARA INTERPOLAR AS ENTRADAS NULAS:\n",
    "df = df.replace(0, pd.NA).interpolate()\n",
    "\n",
    "pf = pd.read_excel('perfilfundos.xlsx', usecols = ['CNPJ', 'APLICACAO_MINIMA', 'CATEGORIA', 'SUBCATEGORIA'])\n",
    "pf['CNPJ'] = pf['CNPJ'].apply(lambda x: re.sub('\\W+', '', x))\n",
    "pf['APLICACAO_MINIMA'] = pd.to_numeric(pf['APLICACAO_MINIMA'].apply(lambda x : re.sub('\\D+', '', x)), errors='coerce')\n",
    "pf.fillna(0, inplace=True)\n",
    "pf.set_index('CNPJ',inplace=True)\n",
    "pf_ordered = pf.sort_values(by ='CATEGORIA')\n",
    "pf_ordered.drop(index=(list(set(pf.index)-set(df.columns))),inplace=True)\n",
    "\n",
    "cnpj = list(pf_ordered.index)\n",
    "    \n",
    "df = df[cnpj]\n",
    "categorias = list(pf_ordered['CATEGORIA'].unique())\n",
    "limites = [0]\n",
    "a = 0\n",
    "for c in categorias:\n",
    "    a += len(pf_ordered[pf_ordered['CATEGORIA'] == c])\n",
    "    limites.append(a)\n",
    "\n",
    "minFundos = np.array(pf_ordered['APLICACAO_MINIMA'])\n",
    "\n",
    "n = len(minFundos)"
   ]
  },
  {
   "cell_type": "code",
   "execution_count": 33,
   "metadata": {},
   "outputs": [],
   "source": [
    "#for col in df:\n",
    "#    print(df[col] [df[col] <= 0.0001])"
   ]
  },
  {
   "cell_type": "code",
   "execution_count": 34,
   "metadata": {},
   "outputs": [],
   "source": [
    "#df['11182072000113']['2019-02']"
   ]
  },
  {
   "cell_type": "code",
   "execution_count": 35,
   "metadata": {},
   "outputs": [],
   "source": [
    "#df['11182072000113']['2019-02'].replace(0, pd.NA).interpolate()\n",
    "\n",
    "#fig = plt.figure() \n",
    "#plt.figure(figsize=(16,12))\n",
    "#plt.plot(df['11182072000113']['2019-02'].replace(0, pd.NA).interpolate())\n",
    "#plt.plot(df['11182072000113']['2019-02'])\n",
    "#plt.ylim((4.5,5.5))\n",
    "#plt.grid()\n",
    "#plt.show()\n"
   ]
  },
  {
   "cell_type": "code",
   "execution_count": 4,
   "metadata": {},
   "outputs": [
    {
     "name": "stdout",
     "output_type": "stream",
     "text": [
      "['2011', '2012', '2013', '2014', '2015', '2016', '2017', '2018', '2019', '2020', '2021']\n"
     ]
    }
   ],
   "source": [
    "datas = list(df.index.astype(str))\n",
    "aux = [i[0:4] for i in datas]\n",
    "anos = pd.Series(aux).unique().tolist()\n",
    "\n",
    "limites_anos = [0]\n",
    "\n",
    "a = 0\n",
    "\n",
    "for c in anos:\n",
    "    a += aux.count(c)\n",
    "    limites_anos.append(a)\n",
    "\n",
    "print(anos)"
   ]
  },
  {
   "cell_type": "code",
   "execution_count": 5,
   "metadata": {},
   "outputs": [
    {
     "data": {
      "text/plain": [
       "[0, 82, 333, 586, 839, 1089, 1340, 1589, 1839, 2092, 2348, 2522]"
      ]
     },
     "execution_count": 5,
     "metadata": {},
     "output_type": "execute_result"
    }
   ],
   "source": [
    "limites_anos\n"
   ]
  },
  {
   "cell_type": "markdown",
   "metadata": {},
   "source": [
    "### Construção de DF_anos e DF_meses (Não utilizados na atual implementação)"
   ]
  },
  {
   "cell_type": "code",
   "execution_count": 6,
   "metadata": {},
   "outputs": [],
   "source": [
    "DF_anos = dict()\n",
    "\n",
    "for k in anos:\n",
    "    DF_anos[k] = df.loc[k].copy()"
   ]
  },
  {
   "cell_type": "code",
   "execution_count": 7,
   "metadata": {},
   "outputs": [
    {
     "data": {
      "text/plain": [
       "dict_keys([('2011', '09'), ('2011', '10'), ('2011', '11'), ('2011', '12'), ('2012', '01'), ('2012', '02'), ('2012', '03'), ('2012', '04'), ('2012', '05'), ('2012', '06'), ('2012', '07'), ('2012', '08'), ('2012', '09'), ('2012', '10'), ('2012', '11'), ('2012', '12'), ('2013', '01'), ('2013', '02'), ('2013', '03'), ('2013', '04'), ('2013', '05'), ('2013', '06'), ('2013', '07'), ('2013', '08'), ('2013', '09'), ('2013', '10'), ('2013', '11'), ('2013', '12'), ('2014', '01'), ('2014', '02'), ('2014', '03'), ('2014', '04'), ('2014', '05'), ('2014', '06'), ('2014', '07'), ('2014', '08'), ('2014', '09'), ('2014', '10'), ('2014', '11'), ('2014', '12'), ('2015', '01'), ('2015', '02'), ('2015', '03'), ('2015', '04'), ('2015', '05'), ('2015', '06'), ('2015', '07'), ('2015', '08'), ('2015', '09'), ('2015', '10'), ('2015', '11'), ('2015', '12'), ('2016', '01'), ('2016', '02'), ('2016', '03'), ('2016', '04'), ('2016', '05'), ('2016', '06'), ('2016', '07'), ('2016', '08'), ('2016', '09'), ('2016', '10'), ('2016', '11'), ('2016', '12'), ('2017', '01'), ('2017', '02'), ('2017', '03'), ('2017', '04'), ('2017', '05'), ('2017', '06'), ('2017', '07'), ('2017', '08'), ('2017', '09'), ('2017', '10'), ('2017', '11'), ('2017', '12'), ('2018', '01'), ('2018', '02'), ('2018', '03'), ('2018', '04'), ('2018', '05'), ('2018', '06'), ('2018', '07'), ('2018', '08'), ('2018', '09'), ('2018', '10'), ('2018', '11'), ('2018', '12'), ('2019', '01'), ('2019', '02'), ('2019', '03'), ('2019', '04'), ('2019', '05'), ('2019', '06'), ('2019', '07'), ('2019', '08'), ('2019', '09'), ('2019', '10'), ('2019', '11'), ('2019', '12'), ('2020', '01'), ('2020', '02'), ('2020', '03'), ('2020', '04'), ('2020', '05'), ('2020', '06'), ('2020', '07'), ('2020', '08'), ('2020', '09'), ('2020', '10'), ('2020', '11'), ('2020', '12'), ('2021', '01'), ('2021', '02'), ('2021', '03'), ('2021', '04'), ('2021', '05'), ('2021', '06'), ('2021', '07'), ('2021', '08'), ('2021', '09')])"
      ]
     },
     "execution_count": 7,
     "metadata": {},
     "output_type": "execute_result"
    }
   ],
   "source": [
    "DF_meses = dict()\n",
    "\n",
    "for j in anos:\n",
    "    for k in range(1, 13):\n",
    "        try:\n",
    "            DF_meses[j, str(k).zfill(2)] = df.loc[j + '-' + str(k)].copy()\n",
    "        except:\n",
    "            pass\n",
    "        \n",
    "DF_meses.keys()"
   ]
  },
  {
   "cell_type": "markdown",
   "metadata": {},
   "source": [
    "### Parâmetros de entrada do modelo:"
   ]
  },
  {
   "cell_type": "code",
   "execution_count": 9,
   "metadata": {},
   "outputs": [],
   "source": [
    "minRetorno = 0.1\n",
    "C = 100_000\n",
    "P_categorias = [0.50, 0.10, 0.35, 0.35] #[0.00, 0.00, 0.00, 1.0]\n",
    "K_min = 3\n",
    "K_max = 10\n",
    "P_min = 0.05\n",
    "P_max = 0.3\n",
    "l = 1\n",
    "log = 0"
   ]
  },
  {
   "cell_type": "markdown",
   "metadata": {},
   "source": [
    "## Loop Principal versão 2 - Treinamento + Teste:"
   ]
  },
  {
   "cell_type": "code",
   "execution_count": 10,
   "metadata": {},
   "outputs": [
    {
     "name": "stdout",
     "output_type": "stream",
     "text": [
      "Academic license - for non-commercial use only - expires 2021-11-05\n",
      "Using license file C:\\Users\\Eduardo\\gurobi.lic\n",
      "Nenhuma solucao encontrada!\n",
      "Tempo total: 9.012515544891357 s\n",
      "Retorno esperado --> 15.0%\n",
      "Risco estimado --> 2.31%\n",
      "Fundo 52 (12004203000135) --> 9.34%; R$ 9340.14 --> R$ 5000.0\n",
      "Fundo 56 (11392165000172) --> 10.66%; R$ 10659.86 --> R$ 10000.0\n",
      "Fundo 60 (01430938000104) --> 10.0%; R$ 10000.0 --> R$ 5000.0\n",
      "Fundo 85 (06041290000106) --> 20.03%; R$ 20032.57 --> R$ 1000.0\n",
      "Fundo 120 (09083868000177) --> 9.97%; R$ 9967.43 --> R$ 5000.0\n",
      "Fundo 125 (12120451000141) --> 5.0%; R$ 5000.0 --> R$ 1000.0\n",
      "Fundo 130 (10326625000100) --> 30.0%; R$ 30000.0 --> R$ 1000.0\n",
      "Fundo 142 (00836263000135) --> 5.0%; R$ 5000.0 --> R$ 1000.0\n",
      "Resultado referente a slice:  0 - 504\n",
      "\n",
      "\n",
      "###############################################\n",
      "\n",
      "\n",
      "Nenhuma solucao encontrada!\n",
      "Tempo total: 6.071347236633301 s\n",
      "Retorno esperado --> 10.0%\n",
      "Risco estimado --> 1.87%\n",
      "Fundo 28 (06118222000190) --> 10.0%; R$ 10000.0 --> R$ 5000.0\n",
      "Fundo 38 (06070574000112) --> 10.0%; R$ 10000.0 --> R$ 10000.0\n",
      "Fundo 60 (01430938000104) --> 10.0%; R$ 10000.0 --> R$ 5000.0\n",
      "Fundo 88 (01823373000125) --> 11.23%; R$ 11228.6 --> R$ 5000.0\n",
      "Fundo 102 (11701985000107) --> 5.94%; R$ 5937.04 --> R$ 1000.0\n",
      "Fundo 120 (09083868000177) --> 6.35%; R$ 6348.14 --> R$ 5000.0\n",
      "Fundo 121 (09141893000160) --> 11.49%; R$ 11486.22 --> R$ 5000.0\n",
      "Fundo 130 (10326625000100) --> 5.0%; R$ 5000.0 --> R$ 1000.0\n",
      "Fundo 152 (13615411000133) --> 30.0%; R$ 30000.0 --> R$ 5000.0\n",
      "Resultado referente a slice:  126 - 630\n",
      "\n",
      "\n",
      "###############################################\n",
      "\n",
      "\n",
      "Nenhuma solucao encontrada!\n",
      "Tempo total: 3.685210704803467 s\n",
      "Retorno esperado --> 10.0%\n",
      "Risco estimado --> 1.67%\n",
      "Fundo 22 (09550197000107) --> 5.0%; R$ 5000.0 --> R$ 500.0\n",
      "Fundo 28 (06118222000190) --> 9.48%; R$ 9481.39 --> R$ 5000.0\n",
      "Fundo 58 (11898280000113) --> 5.52%; R$ 5518.61 --> R$ 0.0\n",
      "Fundo 60 (01430938000104) --> 10.0%; R$ 10000.0 --> R$ 5000.0\n",
      "Fundo 102 (11701985000107) --> 30.0%; R$ 30000.0 --> R$ 1000.0\n",
      "Fundo 125 (12120451000141) --> 5.0%; R$ 5000.0 --> R$ 1000.0\n",
      "Fundo 130 (10326625000100) --> 5.0%; R$ 5000.0 --> R$ 1000.0\n",
      "Fundo 152 (13615411000133) --> 30.0%; R$ 30000.0 --> R$ 5000.0\n",
      "Resultado referente a slice:  252 - 756\n",
      "\n",
      "\n",
      "###############################################\n",
      "\n",
      "\n",
      "Nenhuma solucao encontrada!\n",
      "Tempo total: 6.012343883514404 s\n",
      "Retorno esperado --> 15.0%\n",
      "Risco estimado --> 2.86%\n",
      "Fundo 15 (12565159000132) --> 20.0%; R$ 20000.0 --> R$ 20000.0\n",
      "Fundo 60 (01430938000104) --> 10.0%; R$ 10000.0 --> R$ 5000.0\n",
      "Fundo 64 (13503226000157) --> 5.0%; R$ 5000.0 --> R$ 5000.0\n",
      "Fundo 102 (11701985000107) --> 16.08%; R$ 16084.53 --> R$ 1000.0\n",
      "Fundo 106 (11301137000100) --> 8.92%; R$ 8915.47 --> R$ 5000.0\n",
      "Fundo 118 (09586692000176) --> 5.0%; R$ 5000.0 --> R$ 1000.0\n",
      "Fundo 130 (10326625000100) --> 5.0%; R$ 5000.0 --> R$ 1000.0\n",
      "Fundo 151 (11447124000136) --> 30.0%; R$ 30000.0 --> R$ 1000.0\n",
      "Resultado referente a slice:  378 - 882\n",
      "\n",
      "\n",
      "###############################################\n",
      "\n",
      "\n",
      "Nenhuma solucao encontrada!\n",
      "Tempo total: 4.905280590057373 s\n",
      "Retorno esperado --> 15.0%\n",
      "Risco estimado --> 2.56%\n",
      "Fundo 15 (12565159000132) --> 20.0%; R$ 20000.0 --> R$ 20000.0\n",
      "Fundo 60 (01430938000104) --> 10.0%; R$ 10000.0 --> R$ 5000.0\n",
      "Fundo 102 (11701985000107) --> 22.56%; R$ 22555.11 --> R$ 1000.0\n",
      "Fundo 106 (11301137000100) --> 5.94%; R$ 5944.46 --> R$ 5000.0\n",
      "Fundo 118 (09586692000176) --> 6.5%; R$ 6500.43 --> R$ 1000.0\n",
      "Fundo 149 (10783480000168) --> 5.0%; R$ 5000.0 --> R$ 100.0\n",
      "Fundo 151 (11447124000136) --> 30.0%; R$ 30000.0 --> R$ 1000.0\n",
      "Resultado referente a slice:  504 - 1008\n",
      "\n",
      "\n",
      "###############################################\n",
      "\n",
      "\n",
      "Nenhuma solucao encontrada!\n",
      "Tempo total: 18.999086618423462 s\n",
      "Retorno esperado --> 15.0%\n",
      "Risco estimado --> 2.34%\n",
      "Fundo 8 (09120774000120) --> 14.78%; R$ 14776.82 --> R$ 5000.0\n",
      "Fundo 22 (09550197000107) --> 5.22%; R$ 5223.18 --> R$ 500.0\n",
      "Fundo 60 (01430938000104) --> 10.0%; R$ 10000.0 --> R$ 5000.0\n",
      "Fundo 102 (11701985000107) --> 12.64%; R$ 12637.84 --> R$ 1000.0\n",
      "Fundo 113 (09625909000100) --> 22.36%; R$ 22362.16 --> R$ 100.0\n",
      "Fundo 149 (10783480000168) --> 5.0%; R$ 5000.0 --> R$ 100.0\n",
      "Fundo 151 (11447124000136) --> 30.0%; R$ 30000.0 --> R$ 1000.0\n",
      "Resultado referente a slice:  630 - 1134\n",
      "\n",
      "\n",
      "###############################################\n",
      "\n",
      "\n",
      "Nenhuma solucao encontrada!\n",
      "Tempo total: 10.517601490020752 s\n",
      "Retorno esperado --> 15.0%\n",
      "Risco estimado --> 2.37%\n",
      "Fundo 50 (12082452000149) --> 20.11%; R$ 20105.85 --> R$ 20000.0\n",
      "Fundo 60 (01430938000104) --> 9.89%; R$ 9894.15 --> R$ 5000.0\n",
      "Fundo 68 (13001211000190) --> 6.31%; R$ 6305.67 --> R$ 5000.0\n",
      "Fundo 102 (11701985000107) --> 8.72%; R$ 8724.1 --> R$ 1000.0\n",
      "Fundo 113 (09625909000100) --> 19.97%; R$ 19970.23 --> R$ 100.0\n",
      "Fundo 127 (09326708000101) --> 5.0%; R$ 5000.0 --> R$ 5000.0\n",
      "Fundo 151 (11447124000136) --> 30.0%; R$ 30000.0 --> R$ 1000.0\n",
      "Resultado referente a slice:  756 - 1260\n",
      "\n",
      "\n",
      "###############################################\n",
      "\n",
      "\n",
      "Nenhuma solucao encontrada!\n",
      "Tempo total: 6.8963942527771 s\n",
      "Retorno esperado --> 15.0%\n",
      "Risco estimado --> 2.01%\n",
      "Fundo 20 (09401978000130) --> 5.0%; R$ 5000.0 --> R$ 5000.0\n",
      "Fundo 50 (12082452000149) --> 20.0%; R$ 20000.0 --> R$ 20000.0\n",
      "Fundo 61 (03319016000150) --> 5.0%; R$ 5000.0 --> R$ 1000.0\n",
      "Fundo 67 (12839769000187) --> 8.83%; R$ 8831.87 --> R$ 5000.0\n",
      "Fundo 80 (05903038000198) --> 5.0%; R$ 5000.0 --> R$ 1000.0\n",
      "Fundo 102 (11701985000107) --> 9.91%; R$ 9908.94 --> R$ 1000.0\n",
      "Fundo 113 (09625909000100) --> 6.26%; R$ 6259.2 --> R$ 100.0\n",
      "Fundo 125 (12120451000141) --> 5.0%; R$ 5000.0 --> R$ 1000.0\n",
      "Fundo 141 (08610270000126) --> 11.98%; R$ 11979.62 --> R$ 100.0\n",
      "Fundo 151 (11447124000136) --> 23.02%; R$ 23020.38 --> R$ 1000.0\n",
      "Resultado referente a slice:  882 - 1386\n",
      "\n",
      "\n",
      "###############################################\n",
      "\n",
      "\n",
      "Tempo total: 9.96256971359253 s\n",
      "Retorno esperado --> 15.0%\n",
      "Risco estimado --> 1.87%\n",
      "Fundo 49 (11108013000103) --> 5.03%; R$ 5033.4 --> R$ 5000.0\n",
      "Fundo 50 (12082452000149) --> 20.0%; R$ 20000.0 --> R$ 20000.0\n",
      "Fundo 61 (03319016000150) --> 5.0%; R$ 5000.0 --> R$ 1000.0\n",
      "Fundo 102 (11701985000107) --> 30.0%; R$ 30000.0 --> R$ 1000.0\n",
      "Fundo 113 (09625909000100) --> 5.0%; R$ 5000.0 --> R$ 100.0\n",
      "Fundo 132 (09720734000110) --> 5.0%; R$ 5000.0 --> R$ 1000.0\n",
      "Fundo 151 (11447124000136) --> 29.97%; R$ 29966.6 --> R$ 1000.0\n",
      "Resultado referente a slice:  1008 - 1512\n",
      "\n",
      "\n",
      "###############################################\n",
      "\n",
      "\n",
      "Tempo total: 13.18575406074524 s\n",
      "Retorno esperado --> 15.0%\n",
      "Risco estimado --> 1.65%\n",
      "Fundo 42 (05382556000103) --> 5.0%; R$ 5000.0 --> R$ 1000.0\n",
      "Fundo 50 (12082452000149) --> 20.0%; R$ 20000.0 --> R$ 20000.0\n",
      "Fundo 61 (03319016000150) --> 5.0%; R$ 5000.0 --> R$ 1000.0\n",
      "Fundo 111 (10447046000107) --> 6.3%; R$ 6301.76 --> R$ 1000.0\n",
      "Fundo 115 (09620860000100) --> 23.7%; R$ 23698.24 --> R$ 1000.0\n",
      "Fundo 125 (12120451000141) --> 5.0%; R$ 5000.0 --> R$ 1000.0\n",
      "Fundo 132 (09720734000110) --> 5.0%; R$ 5000.0 --> R$ 1000.0\n",
      "Fundo 151 (11447124000136) --> 30.0%; R$ 30000.0 --> R$ 1000.0\n",
      "Resultado referente a slice:  1134 - 1638\n",
      "\n",
      "\n",
      "###############################################\n",
      "\n",
      "\n",
      "Nenhuma solucao encontrada!\n",
      "Tempo total: 4.688268184661865 s\n",
      "Retorno esperado --> 10.82%\n",
      "Risco estimado --> 1.49%\n",
      "Fundo 50 (12082452000149) --> 20.0%; R$ 20000.0 --> R$ 20000.0\n",
      "Fundo 60 (01430938000104) --> 10.0%; R$ 10000.0 --> R$ 5000.0\n",
      "Fundo 64 (13503226000157) --> 5.0%; R$ 5000.0 --> R$ 5000.0\n",
      "Fundo 67 (12839769000187) --> 5.0%; R$ 5000.0 --> R$ 5000.0\n",
      "Fundo 68 (13001211000190) --> 5.0%; R$ 5000.0 --> R$ 5000.0\n",
      "Fundo 115 (09620860000100) --> 20.0%; R$ 20000.0 --> R$ 1000.0\n",
      "Fundo 132 (09720734000110) --> 8.94%; R$ 8937.44 --> R$ 1000.0\n",
      "Fundo 138 (05755769000133) --> 26.06%; R$ 26062.56 --> R$ 20000.0\n",
      "Resultado referente a slice:  1260 - 1764\n",
      "\n",
      "\n",
      "###############################################\n",
      "\n",
      "\n",
      "Nenhuma solucao encontrada!\n",
      "Tempo total: 13.512772798538208 s\n",
      "Retorno esperado --> 15.0%\n",
      "Risco estimado --> 2.56%\n",
      "Fundo 22 (09550197000107) --> 7.93%; R$ 7929.16 --> R$ 500.0\n",
      "Fundo 30 (08545330000174) --> 7.07%; R$ 7070.46 --> R$ 5000.0\n",
      "Fundo 55 (11447072000106) --> 5.0%; R$ 5000.38 --> R$ 500.0\n",
      "Fundo 60 (01430938000104) --> 10.0%; R$ 10000.0 --> R$ 5000.0\n",
      "Fundo 115 (09620860000100) --> 28.79%; R$ 28788.57 --> R$ 1000.0\n",
      "Fundo 125 (12120451000141) --> 6.21%; R$ 6211.43 --> R$ 1000.0\n",
      "Fundo 132 (09720734000110) --> 30.0%; R$ 30000.0 --> R$ 1000.0\n",
      "Fundo 151 (11447124000136) --> 5.0%; R$ 5000.0 --> R$ 1000.0\n",
      "Resultado referente a slice:  1386 - 1890\n",
      "\n",
      "\n",
      "###############################################\n",
      "\n",
      "\n"
     ]
    },
    {
     "name": "stdout",
     "output_type": "stream",
     "text": [
      "Nenhuma solucao encontrada!\n",
      "Tempo total: 27.12455129623413 s\n",
      "Retorno esperado --> 15.0%\n",
      "Risco estimado --> 2.71%\n",
      "Fundo 15 (12565159000132) --> 20.0%; R$ 20000.0 --> R$ 20000.0\n",
      "Fundo 60 (01430938000104) --> 10.0%; R$ 10000.0 --> R$ 5000.0\n",
      "Fundo 62 (09601190000177) --> 5.0%; R$ 5000.0 --> R$ 0.0\n",
      "Fundo 110 (09577092000141) --> 25.0%; R$ 25000.0 --> R$ 25000.0\n",
      "Fundo 125 (12120451000141) --> 5.0%; R$ 5000.0 --> R$ 1000.0\n",
      "Fundo 127 (09326708000101) --> 11.12%; R$ 11124.85 --> R$ 5000.0\n",
      "Fundo 132 (09720734000110) --> 23.88%; R$ 23875.15 --> R$ 1000.0\n",
      "Resultado referente a slice:  1512 - 2016\n",
      "\n",
      "\n",
      "###############################################\n",
      "\n",
      "\n",
      "Nenhuma solucao encontrada!\n",
      "Tempo total: 2.129121780395508 s\n",
      "Retorno esperado --> 15.0%\n",
      "Risco estimado --> 4.95%\n",
      "Fundo 22 (09550197000107) --> 20.0%; R$ 20000.0 --> R$ 500.0\n",
      "Fundo 60 (01430938000104) --> 10.0%; R$ 10000.0 --> R$ 5000.0\n",
      "Fundo 62 (09601190000177) --> 16.71%; R$ 16714.84 --> R$ 0.0\n",
      "Fundo 106 (11301137000100) --> 6.26%; R$ 6256.6 --> R$ 5000.0\n",
      "Fundo 125 (12120451000141) --> 12.03%; R$ 12028.56 --> R$ 1000.0\n",
      "Fundo 128 (09814233000100) --> 8.98%; R$ 8981.5 --> R$ 3000.0\n",
      "Fundo 139 (02603461000184) --> 26.02%; R$ 26018.5 --> R$ 20000.0\n",
      "Resultado referente a slice:  1638 - 2142\n",
      "\n",
      "\n",
      "###############################################\n",
      "\n",
      "\n",
      "Nenhuma solucao encontrada!\n",
      "Tempo total: 4.999285936355591 s\n",
      "Retorno esperado --> 25.0%\n",
      "Risco estimado --> 6.9%\n",
      "Fundo 22 (09550197000107) --> 5.0%; R$ 5000.0 --> R$ 500.0\n",
      "Fundo 31 (08830947000131) --> 15.0%; R$ 15000.0 --> R$ 5000.0\n",
      "Fundo 60 (01430938000104) --> 10.0%; R$ 10000.0 --> R$ 5000.0\n",
      "Fundo 62 (09601190000177) --> 17.92%; R$ 17921.27 --> R$ 0.0\n",
      "Fundo 106 (11301137000100) --> 7.35%; R$ 7352.66 --> R$ 5000.0\n",
      "Fundo 125 (12120451000141) --> 9.73%; R$ 9726.07 --> R$ 1000.0\n",
      "Fundo 128 (09814233000100) --> 13.4%; R$ 13401.0 --> R$ 3000.0\n",
      "Fundo 139 (02603461000184) --> 21.6%; R$ 21599.0 --> R$ 20000.0\n",
      "Resultado referente a slice:  1764 - 2268\n",
      "\n",
      "\n",
      "###############################################\n",
      "\n",
      "\n",
      "Nenhuma solucao encontrada!\n",
      "Tempo total: 2.9211666584014893 s\n",
      "Retorno esperado --> 20.0%\n",
      "Risco estimado --> 7.22%\n",
      "Fundo 31 (08830947000131) --> 5.0%; R$ 5000.0 --> R$ 5000.0\n",
      "Fundo 50 (12082452000149) --> 20.0%; R$ 20000.0 --> R$ 20000.0\n",
      "Fundo 60 (01430938000104) --> 5.0%; R$ 5000.0 --> R$ 5000.0\n",
      "Fundo 61 (03319016000150) --> 5.0%; R$ 5000.0 --> R$ 1000.0\n",
      "Fundo 62 (09601190000177) --> 16.0%; R$ 15995.78 --> R$ 0.0\n",
      "Fundo 71 (12154412000165) --> 5.0%; R$ 5000.0 --> R$ 5000.0\n",
      "Fundo 106 (11301137000100) --> 14.0%; R$ 14004.22 --> R$ 5000.0\n",
      "Fundo 128 (09814233000100) --> 13.15%; R$ 13151.55 --> R$ 3000.0\n",
      "Fundo 152 (13615411000133) --> 16.85%; R$ 16848.45 --> R$ 5000.0\n",
      "Resultado referente a slice:  1890 - 2394\n",
      "\n",
      "\n",
      "###############################################\n",
      "\n",
      "\n"
     ]
    }
   ],
   "source": [
    "tam_treinamento = 252*2\n",
    "tam_teste = 126\n",
    "inicio_treinamento = 0\n",
    "final_treinamento = inicio_treinamento + tam_treinamento\n",
    "inicio_teste = final_treinamento + 1\n",
    "final_teste = inicio_teste + tam_teste\n",
    "\n",
    "DF_retorno_completo = df.pct_change().dropna()\n",
    "\n",
    "matriz_pesos = DF_retorno_completo.copy()\n",
    "matriz_pesos = matriz_pesos * 0\n",
    "\n",
    "hist = dict()\n",
    "\n",
    "while(final_teste <= DF_retorno_completo.shape[0]):\n",
    "    minRetorno = 0\n",
    "    a_retorno = []\n",
    "    a_risco = []\n",
    "    a_sharpe = []\n",
    "\n",
    "    RES = dict()\n",
    "    k = 0\n",
    "    \n",
    "    DF_retorno_treinamento = DF_retorno_completo.iloc[inicio_treinamento:final_treinamento]\n",
    "   \n",
    "    sigma = (DF_retorno_treinamento.cov() * 252).to_numpy()\n",
    "    media = (DF_retorno_treinamento + 1).apply(geo_mean)**252-1\n",
    "    \n",
    "    modelo = Markowitz(C, minRetorno, K_min, K_max, P_min, P_max, P_categorias, limites,\n",
    "    n, minFundos, sigma, media, cnpj)\n",
    "    \n",
    "    tempo_init = time.time()\n",
    "    carteiras, idx_max_sharpe = modelo.solve_fronteira(0.0, 0.5, 0.05)\n",
    "    Carteira = carteiras[idx_max_sharpe]\n",
    "    \n",
    "    #Carteira = modelo.solve()\n",
    "    print('Tempo total:', time.time() - tempo_init, 's')\n",
    "\n",
    "    Carteira.exibir(C)\n",
    "\n",
    "    hist[str(inicio_treinamento), str(final_treinamento)] = Carteira\n",
    "    print('Resultado referente a slice: ', inicio_treinamento, '-', final_treinamento)\n",
    "    print('\\n')\n",
    "    print('###############################################')\n",
    "    print('\\n')\n",
    "\n",
    "    for idx, cnpj_loop in enumerate(Carteira.descricao):\n",
    "        matriz_pesos[cnpj_loop][inicio_teste:final_teste] = Carteira.porcentagem[idx]\n",
    "    \n",
    "    inicio_treinamento += tam_teste\n",
    "    final_treinamento += tam_teste\n",
    "    \n",
    "    inicio_teste += tam_teste\n",
    "    final_teste += tam_teste"
   ]
  },
  {
   "cell_type": "code",
   "execution_count": 11,
   "metadata": {},
   "outputs": [
    {
     "data": {
      "text/plain": [
       "2013-09-06    1.000000\n",
       "2013-09-09    1.002071\n",
       "2013-09-10    1.003803\n",
       "2013-09-11    1.003020\n",
       "2013-09-12    1.003899\n",
       "                ...   \n",
       "2021-08-30    2.262017\n",
       "2021-08-31    2.254900\n",
       "2021-09-01    2.260402\n",
       "2021-09-02    2.253919\n",
       "2021-09-03    2.254727\n",
       "Name: Retorno Acumulado, Length: 2017, dtype: float64"
      ]
     },
     "execution_count": 11,
     "metadata": {},
     "output_type": "execute_result"
    },
    {
     "data": {
      "image/png": "[encoded data removed]",
      "text/plain": [
       "<Figure size 1152x864 with 1 Axes>"
      ]
     },
     "metadata": {
      "needs_background": "light"
     },
     "output_type": "display_data"
    }
   ],
   "source": [
    "#plt.style.use('ggplot')\n",
    "#plt.style.use('classic')\n",
    "#plt.style.use('fast')\n",
    "\n",
    "#plt.style.use('grayscale')\n",
    "#plt.style.use('dark_background')\n",
    "\n",
    "#plt.style.available\n",
    "\n",
    "retorno_perc_carteira = (matriz_pesos * DF_retorno_completo).sum(axis=1)[tam_treinamento:]\n",
    "\n",
    "retorno_acum_carteira = (retorno_perc_carteira + 1).cumprod()\n",
    "retorno_acum_carteira.name = 'Retorno Acumulado'\n",
    "retorno_acum_carteira.rename_axis(None, inplace=True)\n",
    "fig = retorno_acum_carteira.plot(figsize = (16,12), grid=True, legend=True, fontsize = 18)\n",
    "plt.legend(loc='upper left', fontsize = 14)\n",
    "plt.title('CARTEIRA 1', fontdict = {'fontsize' : 25})\n",
    "retorno_acum_carteira\n",
    "\n",
    "#fig.get_figure().savefig('Carteira_Arrojado.pdf')\n",
    "\n",
    "#retorno_acum_carteira_arrojado = retorno_acum_carteira.copy()\n"
   ]
  },
  {
   "cell_type": "code",
   "execution_count": 20,
   "metadata": {},
   "outputs": [
    {
     "data": {
      "text/plain": [
       "1.0893508863442904"
      ]
     },
     "execution_count": 20,
     "metadata": {},
     "output_type": "execute_result"
    }
   ],
   "source": [
    "retorno_acum_carteira[-1]  ** (1./9.5)\n"
   ]
  },
  {
   "cell_type": "markdown",
   "metadata": {},
   "source": [
    "### Seleção do Período do Estudo - O período final é onde a janela TERMINA, e não o início do período final:"
   ]
  },
  {
   "cell_type": "code",
   "execution_count": null,
   "metadata": {},
   "outputs": [],
   "source": [
    "ano_inicial = 2012\n",
    "ano_final = 2017\n",
    "mes_inicial = 1\n",
    "mes_final = 1\n",
    "intervalo_mensal = 6"
   ]
  },
  {
   "cell_type": "code",
   "execution_count": null,
   "metadata": {},
   "outputs": [],
   "source": [
    "mes_atual = mes_inicial\n",
    "anos_escolhidos = [str(j) for j in range(ano_inicial, ano_final + 1)]\n",
    "datas_escolhidas = list()\n",
    "for i in anos_escolhidos:\n",
    "    while(True):\n",
    "        if( (int(i) == ano_final) and (mes_atual > mes_final)):\n",
    "            break\n",
    "        datas_escolhidas.append( (i, str(mes_atual).zfill(2)) )\n",
    "        if (mes_atual + intervalo_mensal) <= 12:\n",
    "            mes_atual += intervalo_mensal\n",
    "        else:\n",
    "            mes_atual = (mes_atual + intervalo_mensal) % 12\n",
    "            break\n",
    "\n",
    "datas_escolhidas"
   ]
  },
  {
   "cell_type": "markdown",
   "metadata": {},
   "source": [
    "## LOOP Principal versão 1 - sem a parte de teste - Resolvendo os modelos em cada período da janela rolante:"
   ]
  },
  {
   "cell_type": "code",
   "execution_count": 25,
   "metadata": {},
   "outputs": [
    {
     "ename": "NameError",
     "evalue": "name 'datas_escolhidas' is not defined",
     "output_type": "error",
     "traceback": [
      "\u001b[1;31m---------------------------------------------------------------------------\u001b[0m",
      "\u001b[1;31mNameError\u001b[0m                                 Traceback (most recent call last)",
      "\u001b[1;32m<ipython-input-25-e0518017af88>\u001b[0m in \u001b[0;36m<module>\u001b[1;34m\u001b[0m\n\u001b[0;32m     26\u001b[0m \u001b[0mDF_iteracao\u001b[0m \u001b[1;33m=\u001b[0m \u001b[1;32mNone\u001b[0m\u001b[1;33m\u001b[0m\u001b[1;33m\u001b[0m\u001b[0m\n\u001b[0;32m     27\u001b[0m \u001b[1;33m\u001b[0m\u001b[0m\n\u001b[1;32m---> 28\u001b[1;33m \u001b[1;32mif\u001b[0m\u001b[1;33m(\u001b[0m\u001b[0mlen\u001b[0m\u001b[1;33m(\u001b[0m\u001b[0mdatas_escolhidas\u001b[0m\u001b[1;33m)\u001b[0m \u001b[1;33m<=\u001b[0m \u001b[1;36m1\u001b[0m\u001b[1;33m)\u001b[0m\u001b[1;33m:\u001b[0m\u001b[1;33m\u001b[0m\u001b[1;33m\u001b[0m\u001b[0m\n\u001b[0m\u001b[0;32m     29\u001b[0m     \u001b[0mprint\u001b[0m\u001b[1;33m(\u001b[0m\u001b[1;34m'--- CASO ANTERIOR ---'\u001b[0m\u001b[1;33m)\u001b[0m\u001b[1;33m\u001b[0m\u001b[1;33m\u001b[0m\u001b[0m\n\u001b[0;32m     30\u001b[0m \u001b[1;32melse\u001b[0m\u001b[1;33m:\u001b[0m\u001b[1;33m\u001b[0m\u001b[1;33m\u001b[0m\u001b[0m\n",
      "\u001b[1;31mNameError\u001b[0m: name 'datas_escolhidas' is not defined"
     ]
    }
   ],
   "source": [
    "hist = dict()\n",
    "\n",
    "pf = pd.read_excel('perfilfundos.xlsx', usecols = ['CNPJ', 'APLICACAO_MINIMA', 'CATEGORIA', 'SUBCATEGORIA'])\n",
    "pf['CNPJ'] = pf['CNPJ'].apply(lambda x: re.sub('\\W+', '', x))\n",
    "pf['APLICACAO_MINIMA'] = pd.to_numeric(pf['APLICACAO_MINIMA'].apply(lambda x : re.sub('\\D+', '', x)), errors='coerce')\n",
    "pf.fillna(0, inplace=True)\n",
    "pf.set_index('CNPJ',inplace=True)\n",
    "pf_ordered = pf.sort_values(by ='CATEGORIA')\n",
    "pf_ordered.drop(index=(list(set(pf.index)-set(df.columns))),inplace=True)\n",
    "\n",
    "cnpj = list(pf_ordered.index)\n",
    "    \n",
    "df = df[cnpj]\n",
    "categorias = list(pf_ordered['CATEGORIA'].unique())\n",
    "limites = [0]\n",
    "a = 0\n",
    "for c in categorias:\n",
    "    a += len(pf_ordered[pf_ordered['CATEGORIA'] == c])\n",
    "    limites.append(a)\n",
    "\n",
    "minFundos = np.array(pf_ordered['APLICACAO_MINIMA'])\n",
    "\n",
    "n = len(minFundos)\n",
    "\n",
    "    \n",
    "DF_iteracao = None\n",
    "\n",
    "if(len(datas_escolhidas) <= 1):\n",
    "    print('--- CASO ANTERIOR ---')\n",
    "else:\n",
    "    for idx in range(len(datas_escolhidas) - 1):\n",
    "        DF_iteracao = df.loc[datas_escolhidas[idx][0]+'-'+datas_escolhidas[idx][1] : \n",
    "                             datas_escolhidas[idx+1][0]+'-'+datas_escolhidas[idx+1][1]]\n",
    "        \n",
    "        df_retorno = DF_iteracao.pct_change().dropna()\n",
    "        sigma = (df_retorno.cov()*252).to_numpy()\n",
    "        media = (df_retorno+1).apply(geo_mean)**252-1\n",
    "\n",
    "        tempo_init = time.time()\n",
    "        modelo = Markowitz(C, minRetorno, K_min, K_max, P_min, P_max, P_categorias, limites,\n",
    "        n, minFundos, sigma, media, cnpj)\n",
    "        Carteira = modelo.solve()\n",
    "        print('Tempo total:', time.time() - tempo_init, 's')\n",
    "\n",
    "        Carteira.exibir(C)\n",
    "\n",
    "        hist[datas_escolhidas[idx][0], datas_escolhidas[idx][1]] = Carteira\n",
    "        print('Resultado referente ao periodo: ', datas_escolhidas[idx][0] + '-' + datas_escolhidas[idx][1])\n",
    "        print('\\n')\n",
    "        print('###############################################')\n",
    "        print('\\n')\n",
    "        \n",
    "        DF_iteracao = None"
   ]
  },
  {
   "cell_type": "markdown",
   "metadata": {},
   "source": [
    "## Plot \"validação\" para um fundo:\n",
    "\n",
    "    -) Em azul: a série temporal usada para a previsão dos retornos;\n",
    "    -) Em vermelho: a série temporal dos seis próximos meses (período do investimento);\n",
    "    -) Em laranja: a série temporal do mês após o final do investimento."
   ]
  },
  {
   "cell_type": "code",
   "execution_count": null,
   "metadata": {},
   "outputs": [],
   "source": [
    "hist['2012', '01'].exibir(C)\n",
    "\n",
    "fundo = '13001211000190'\n",
    "fundo_ruim = '12120451000141'\n",
    "\n",
    "df['2012-01':'2012-07-03'][fundo].plot(style = '-b', figsize = (12, 8))\n",
    "df['2012-07':'2013-01-03'][fundo].plot(style = '--r')\n",
    "fig = df['2013-01'][fundo].plot(style = '--', color='orange', grid=True)\n",
    "\n",
    "#fig.get_figure().savefig('Figura1.pdf')"
   ]
  },
  {
   "cell_type": "code",
   "execution_count": null,
   "metadata": {},
   "outputs": [],
   "source": [
    "#sigma[63]\n"
   ]
  },
  {
   "cell_type": "code",
   "execution_count": null,
   "metadata": {},
   "outputs": [],
   "source": [
    "print(hist.keys())\n",
    "print()\n",
    "\n",
    "#Hist['2014', '01'].exibir(C)"
   ]
  },
  {
   "cell_type": "markdown",
   "metadata": {},
   "source": [
    "# Previsão X Resultado - Ano de 2012:\n",
    "\n",
    "`Observação:` Os dados foram convertidos em **escores Z** para o plot poder ser colocado em escala!"
   ]
  },
  {
   "cell_type": "markdown",
   "metadata": {},
   "source": [
    "### Saída do modelo - Fundos escolhidos tomando por base o período 2012/01 ~ 2012/06:"
   ]
  },
  {
   "cell_type": "code",
   "execution_count": null,
   "metadata": {},
   "outputs": [],
   "source": [
    "import cufflinks as cf\n",
    "from plotly.offline import plot, iplot\n",
    "\n",
    "cf.go_offline()\n",
    "\n",
    "dados_periodo = df.loc['2012-01':'2012-06']\n",
    "\n",
    "cnpj_periodo = hist['2012', '01'].descricao\n",
    "\n",
    "series_temp = dados_periodo[cnpj_periodo]\n",
    "\n",
    "series_temp = (series_temp - series_temp.mean())/series_temp.std()\n",
    "\n",
    "series_temp.iplot()\n"
   ]
  },
  {
   "cell_type": "markdown",
   "metadata": {},
   "source": [
    "### Seis próximos meses - Resultado da aplicação selecionada"
   ]
  },
  {
   "cell_type": "code",
   "execution_count": null,
   "metadata": {},
   "outputs": [],
   "source": [
    "import cufflinks as cf\n",
    "from plotly.offline import plot, iplot\n",
    "\n",
    "cf.go_offline()\n",
    "\n",
    "dados_periodo = df.loc['2012-07':'2013-01']\n",
    "\n",
    "cnpj_periodo = hist['2012', '01'].descricao\n",
    "\n",
    "series_temp = dados_periodo[cnpj_periodo]\n",
    "\n",
    "series_temp = (series_temp - series_temp.mean())/series_temp.std()\n",
    "\n",
    "series_temp.iplot()\n"
   ]
  },
  {
   "cell_type": "code",
   "execution_count": null,
   "metadata": {},
   "outputs": [],
   "source": []
  }
 ],
 "metadata": {
  "interpreter": {
   "hash": "976159802f39db625d1f2a98b322b726cfc97da7dfea90bf2aeac880abb0b7d1"
  },
  "kernelspec": {
   "display_name": "Python 3",
   "language": "python",
   "name": "python3"
  },
  "language_info": {
   "codemirror_mode": {
    "name": "ipython",
    "version": 3
   },
   "file_extension": ".py",
   "mimetype": "text/x-python",
   "name": "python",
   "nbconvert_exporter": "python",
   "pygments_lexer": "ipython3",
   "version": "3.8.5"
  }
 },
 "nbformat": 4,
 "nbformat_minor": 5
}
