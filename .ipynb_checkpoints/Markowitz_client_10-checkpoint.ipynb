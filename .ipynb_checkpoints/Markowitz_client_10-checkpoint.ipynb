{
 "cells": [
  {
   "cell_type": "code",
   "execution_count": 1,
   "id": "injured-catch",
   "metadata": {},
   "outputs": [],
   "source": [
    "import gurobipy as gp\n",
    "import math\n",
    "import numpy as np\n",
    "import pandas as pd\n",
    "import matplotlib.pyplot as plt\n",
    "\n",
    "%matplotlib inline\n",
    "\n",
    "from markowitz import Markowitz"
   ]
  },
  {
   "cell_type": "code",
   "execution_count": 2,
   "id": "suffering-annual",
   "metadata": {},
   "outputs": [],
   "source": [
    "def limpa(s):\n",
    "    return s.replace(\"/\",\"\").replace(\"-\",\"\").replace(\".\",\"\").replace(\"$\",\"\").replace(\"R\",\"\")\n",
    "\n",
    "def geo_mean(iterable):\n",
    "    a = np.array(iterable)\n",
    "    return a.prod()**(1.0/len(a))"
   ]
  },
  {
   "cell_type": "code",
   "execution_count": 3,
   "id": "aggressive-closer",
   "metadata": {},
   "outputs": [],
   "source": [
    "df = pd.read_excel('seriehistorica10anos.xlsx')"
   ]
  },
  {
   "cell_type": "code",
   "execution_count": 4,
   "id": "unexpected-movie",
   "metadata": {},
   "outputs": [],
   "source": [
    "for i in df.columns:\n",
    "    try:\n",
    "        list(df[i].values).index(0)\n",
    "        df.drop([f'{i}'],axis=1,inplace=True)\n",
    "    except:\n",
    "        True"
   ]
  },
  {
   "cell_type": "code",
   "execution_count": 5,
   "id": "occupied-vegetarian",
   "metadata": {},
   "outputs": [],
   "source": [
    "df.fillna(method='ffill',inplace=True)\n",
    "df.rename(columns={df.columns[0]: 'datas'},\n",
    "          inplace=True, errors='raise')"
   ]
  },
  {
   "cell_type": "code",
   "execution_count": 6,
   "id": "czech-subdivision",
   "metadata": {},
   "outputs": [
    {
     "name": "stdout",
     "output_type": "stream",
     "text": [
      "['2011', '2012', '2013', '2014', '2015', '2016', '2017', '2018', '2019', '2020', '2021']\n"
     ]
    }
   ],
   "source": [
    "datas = list(df['datas'][:])\n",
    "aux = [i[0:4] for i in datas]\n",
    "anos = pd.Series(aux).unique().tolist()\n",
    "\n",
    "limites_anos = [0]\n",
    "\n",
    "a = 0\n",
    "\n",
    "for c in anos:\n",
    "    a += aux.count(c)\n",
    "    limites_anos.append(a)\n",
    "\n",
    "print(anos)"
   ]
  },
  {
   "cell_type": "code",
   "execution_count": 7,
   "id": "august-support",
   "metadata": {},
   "outputs": [],
   "source": [
    "DF_anos = dict()\n",
    "\n",
    "for k in range(len(limites_anos)-1):\n",
    "    DF_anos[anos[k]] = df[limites_anos[k]:limites_anos[k+1]].reset_index().drop(['index'],axis=1)"
   ]
  },
  {
   "cell_type": "code",
   "execution_count": 8,
   "id": "convertible-circuit",
   "metadata": {},
   "outputs": [],
   "source": [
    "DF_meses = dict()\n",
    "Meses = dict()\n",
    "\n",
    "for j  in range(len(limites_anos)-1):\n",
    "    year = anos[j]\n",
    "    datas = list(DF_anos[year]['datas'][:])\n",
    "    aux = [i[5:7] for i in datas]\n",
    "    Meses[year] = pd.Series(aux).unique().tolist()\n",
    "\n",
    "    limites_meses = [0]\n",
    "\n",
    "    a = 0\n",
    "\n",
    "    for c in Meses[year]:\n",
    "        a += aux.count(c)\n",
    "        limites_meses.append(a)\n",
    "        \n",
    "    for k in range(len(limites_meses)-1):\n",
    "        DF_meses[year,Meses[year][k]] = DF_anos[year][limites_meses[k]:limites_meses[k+1]].reset_index().drop(['index'],axis=1)"
   ]
  },
  {
   "cell_type": "code",
   "execution_count": 9,
   "id": "baking-moldova",
   "metadata": {},
   "outputs": [],
   "source": [
    "minRetorno = 0.2\n",
    "C = 100_000\n",
    "P_categorias = [0.25, 0.05, 0.4, 0.3]\n",
    "K_min = 3\n",
    "K_max = 10\n",
    "P_min = 0.05\n",
    "P_max = 0.3\n",
    "l = 1\n",
    "log = 0"
   ]
  },
  {
   "cell_type": "code",
   "execution_count": 10,
   "id": "political-committee",
   "metadata": {},
   "outputs": [],
   "source": [
    "ano_inicial = 2018\n",
    "ano_final = 2019\n",
    "mes_inicial = 9\n",
    "mes_final = 9\n",
    "incr_janela = 6\n",
    "janela_meses = 18"
   ]
  },
  {
   "cell_type": "code",
   "execution_count": 12,
   "id": "proprietary-lucas",
   "metadata": {},
   "outputs": [
    {
     "name": "stdout",
     "output_type": "stream",
     "text": [
      "['2018', '2019']\n",
      "2.0\n",
      "[('2018', '09'), ('2018', '10'), ('2018', '11'), ('2019', '01'), ('2019', '02'), ('2019', '03'), ('2019', '04'), ('2019', '05'), ('2019', '06'), ('2019', '07'), ('2019', '08'), ('2019', '09')]\n"
     ]
    }
   ],
   "source": [
    "anos_escolhidos = anos[anos.index(str(ano_inicial)):(ano_final-ano_inicial+1+anos.index(str(ano_inicial)))]\n",
    "print(anos_escolhidos)\n",
    "seq = []\n",
    "for k  in anos_escolhidos:\n",
    "    if k == str(ano_final):\n",
    "        seq += [(k,q) for q  in Meses[k][0:mes_final]]\n",
    "    elif k == str(ano_inicial):\n",
    "        seq += [(k,q) for q  in Meses[k][mes_inicial-1:-1]]\n",
    "    else:\n",
    "        seq += [(k,q) for q  in Meses[k]]\n",
    "print(len(seq)/incr_janela)\n",
    "print(seq)"
   ]
  },
  {
   "cell_type": "code",
   "execution_count": 17,
   "id": "collectible-certificate",
   "metadata": {},
   "outputs": [
    {
     "name": "stdout",
     "output_type": "stream",
     "text": [
      "('2018', '09')\n",
      "('2018', '10')\n",
      "('2018', '11')\n",
      "('2019', '01')\n",
      "('2019', '02')\n",
      "('2019', '03')\n",
      "Tempo total: 0.2849400043487549 s\n",
      "Retorno esperado --> 20.0%\n",
      "Risco estimado --> 2.99%\n",
      "Fundo 31 (08830947000131) --> 5.0%; R$ 5000.0 --> R$ 5000.0\n",
      "Fundo 50 (12082452000149) --> 20.0%; R$ 20000.0 --> R$ 20000.0\n",
      "Fundo 60 (01430938000104) --> 5.0%; R$ 5000.0 --> R$ 5000.0\n",
      "Fundo 101 (11701985000107) --> 10.0%; R$ 10000.0 --> R$ 1000.0\n",
      "Fundo 114 (09620860000100) --> 30.0%; R$ 30000.0 --> R$ 1000.0\n",
      "Fundo 126 (09326708000101) --> 9.24%; R$ 9237.97 --> R$ 5000.0\n",
      "Fundo 131 (09720734000110) --> 20.76%; R$ 20762.03 --> R$ 1000.0\n",
      "\n",
      "\n",
      "###############################################\n",
      "\n",
      "\n",
      "('2019', '04')\n",
      "('2019', '05')\n",
      "('2019', '06')\n",
      "('2019', '07')\n",
      "('2019', '08')\n",
      "('2019', '09')\n",
      "Tempo total: 0.25188779830932617 s\n",
      "Retorno esperado --> 20.0%\n",
      "Risco estimado --> 2.9%\n",
      "Fundo 22 (09550197000107) --> 5.0%; R$ 5000.0 --> R$ 500.0\n",
      "Fundo 50 (12082452000149) --> 20.0%; R$ 20000.0 --> R$ 20000.0\n",
      "Fundo 60 (01430938000104) --> 5.0%; R$ 5000.0 --> R$ 5000.0\n",
      "Fundo 62 (09601190000177) --> 5.0%; R$ 5000.0 --> R$ 0.0\n",
      "Fundo 112 (09625909000100) --> 8.29%; R$ 8290.26 --> R$ 100.0\n",
      "Fundo 114 (09620860000100) --> 26.71%; R$ 26709.74 --> R$ 1000.0\n",
      "Fundo 126 (09326708000101) --> 24.56%; R$ 24562.2 --> R$ 5000.0\n",
      "Fundo 131 (09720734000110) --> 5.44%; R$ 5437.8 --> R$ 1000.0\n",
      "\n",
      "\n",
      "###############################################\n",
      "\n",
      "\n"
     ]
    }
   ],
   "source": [
    "Hist = dict()\n",
    "DF = pd.DataFrame()\n",
    "for i in range(int(len(seq)/incr_janela)):\n",
    "    #DF = pd.DataFrame()\n",
    "    for j in range(incr_janela):\n",
    "        print(seq[incr_janela*i+j])\n",
    "        DF = pd.concat([DF, DF_meses[seq[incr_janela*i+j]]], axis=0).reset_index().drop(['index', 'datas'],axis=1)\n",
    "        \n",
    "    pf = pd.read_excel('perfilfundos.xlsx')\n",
    "    pf.drop(['NOME','DATA_INICIO','CARENCIA','FLAG_QUALIFICADO'],axis=1,inplace=True)\n",
    "    pf['CNPJ'] = pf['CNPJ'].apply(limpa)\n",
    "    pf['APLICACAO_MINIMA'] = pd.to_numeric(pf['APLICACAO_MINIMA'].apply(limpa),errors='coerce')\n",
    "    pf.fillna(0,inplace=True)\n",
    "    pf.set_index('CNPJ',inplace=True)\n",
    "    pf_ordered = pf.sort_values(by ='CATEGORIA')\n",
    "    pf_ordered.drop(index=(list(set(pf.index)-set(DF.columns))),inplace=True)\n",
    "\n",
    "    categorias = list(pf_ordered['CATEGORIA'].unique())\n",
    "\n",
    "    limites = [0]\n",
    "\n",
    "    a = 0\n",
    "\n",
    "    for c in categorias:\n",
    "        a += len(pf_ordered[pf_ordered['CATEGORIA'] == c])\n",
    "        limites.append(a)\n",
    "\n",
    "    cnpj = list(pf_ordered.index)\n",
    "    DF = DF[cnpj]\n",
    "\n",
    "    df_retorno = DF.pct_change().dropna()\n",
    "    sigma = (df_retorno.cov()*252).to_numpy()\n",
    "    media = (df_retorno+1).apply(geo_mean)**252-1\n",
    "\n",
    "    minFundos = np.array(pf_ordered['APLICACAO_MINIMA'])\n",
    "\n",
    "    n = len(minFundos)\n",
    "\n",
    "    import time\n",
    "\n",
    "    tempo_init = time.time()\n",
    "    modelo = Markowitz(C, minRetorno, K_min, K_max, P_min, P_max, P_categorias, limites, \n",
    "        n, minFundos, sigma, media, cnpj);\n",
    "    Carteira = modelo.solve()\n",
    "    print('Tempo total:', time.time() - tempo_init, 's')\n",
    "\n",
    "    Carteira.Exibir(C)\n",
    "\n",
    "    Hist[seq[incr_janela*i]] = Carteira\n",
    "    print('\\n')\n",
    "    print('###############################################')\n",
    "    print('\\n')"
   ]
  },
  {
   "cell_type": "code",
   "execution_count": null,
   "id": "tough-projection",
   "metadata": {},
   "outputs": [],
   "source": []
  }
 ],
 "metadata": {
  "kernelspec": {
   "display_name": "Python 3",
   "language": "python",
   "name": "python3"
  },
  "language_info": {
   "codemirror_mode": {
    "name": "ipython",
    "version": 3
   },
   "file_extension": ".py",
   "mimetype": "text/x-python",
   "name": "python",
   "nbconvert_exporter": "python",
   "pygments_lexer": "ipython3",
   "version": "3.8.10"
  }
 },
 "nbformat": 4,
 "nbformat_minor": 5
}
