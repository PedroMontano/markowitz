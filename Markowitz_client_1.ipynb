{
 "cells": [
  {
   "cell_type": "code",
   "execution_count": 1,
   "metadata": {},
   "outputs": [],
   "source": [
    "import gurobipy as gp\n",
    "import math\n",
    "import numpy as np\n",
    "import pandas as pd\n",
    "import matplotlib.pyplot as plt\n",
    "import matplotlib.cm as cm\n",
    "\n",
    "%matplotlib inline\n",
    "\n",
    "from markowitz import Markowitz\n",
    "from markowitz import par"
   ]
  },
  {
   "cell_type": "code",
   "execution_count": 2,
   "metadata": {},
   "outputs": [],
   "source": [
    "def limpa(s):\n",
    "    return s.replace(\"/\",\"\").replace(\"-\",\"\").replace(\".\",\"\").replace(\"$\",\"\").replace(\"R\",\"\")\n",
    "\n",
    "def geo_mean(iterable):\n",
    "    a = np.array(iterable)\n",
    "    return a.prod()**(1.0/len(a))"
   ]
  },
  {
   "cell_type": "code",
   "execution_count": 3,
   "metadata": {},
   "outputs": [],
   "source": [
    "df = pd.read_excel('seriehistorica.xlsx')\n",
    "df.drop(['Unnamed: 0'],axis=1,inplace=True)\n",
    "df.fillna(method='ffill',inplace=True)"
   ]
  },
  {
   "cell_type": "code",
   "execution_count": 4,
   "metadata": {},
   "outputs": [],
   "source": [
    "pf = pd.read_excel('perfilfundos.xlsx')\n",
    "pf.drop(['NOME','DATA_INICIO','CARENCIA','FLAG_QUALIFICADO'],axis=1,inplace=True)\n",
    "pf['CNPJ'] = pf['CNPJ'].apply(limpa)\n",
    "pf['APLICACAO_MINIMA'] = pd.to_numeric(pf['APLICACAO_MINIMA'].apply(limpa),errors='coerce')\n",
    "pf.fillna(0,inplace=True)\n",
    "pf.set_index('CNPJ',inplace=True)\n",
    "pf_ordered = pf.sort_values(by ='CATEGORIA')\n",
    "pf_ordered.drop(index=(list(set(pf.index)-set(df.columns))),inplace=True)"
   ]
  },
  {
   "cell_type": "code",
   "execution_count": 5,
   "metadata": {},
   "outputs": [
    {
     "data": {
      "text/plain": [
       "['Ações', 'Cambial', 'Multimercados', 'Renda Fixa']"
      ]
     },
     "execution_count": 5,
     "metadata": {},
     "output_type": "execute_result"
    }
   ],
   "source": [
    "list(pf_ordered['CATEGORIA'].unique())"
   ]
  },
  {
   "cell_type": "code",
   "execution_count": 6,
   "metadata": {},
   "outputs": [
    {
     "name": "stdout",
     "output_type": "stream",
     "text": [
      "[0, 173, 177, 474, 569]\n"
     ]
    }
   ],
   "source": [
    "categorias = list(pf_ordered['CATEGORIA'].unique())\n",
    "\n",
    "limites = [0]\n",
    "\n",
    "a = 0\n",
    "\n",
    "for c in categorias:\n",
    "    a += len(pf_ordered[pf_ordered['CATEGORIA'] == c])\n",
    "    limites.append(a)\n",
    "\n",
    "print(limites)"
   ]
  },
  {
   "cell_type": "code",
   "execution_count": 7,
   "metadata": {},
   "outputs": [],
   "source": [
    "cnpj = list(pf_ordered.index)\n",
    "df = df[cnpj]"
   ]
  },
  {
   "cell_type": "code",
   "execution_count": 8,
   "metadata": {},
   "outputs": [
    {
     "data": {
      "text/html": [
       "<div>\n",
       "<style scoped>\n",
       "    .dataframe tbody tr th:only-of-type {\n",
       "        vertical-align: middle;\n",
       "    }\n",
       "\n",
       "    .dataframe tbody tr th {\n",
       "        vertical-align: top;\n",
       "    }\n",
       "\n",
       "    .dataframe thead th {\n",
       "        text-align: right;\n",
       "    }\n",
       "</style>\n",
       "<table border=\"1\" class=\"dataframe\">\n",
       "  <thead>\n",
       "    <tr style=\"text-align: right;\">\n",
       "      <th></th>\n",
       "      <th>00601692000123</th>\n",
       "      <th>17397804000179</th>\n",
       "      <th>17253801000161</th>\n",
       "      <th>33824951000134</th>\n",
       "      <th>10756685000154</th>\n",
       "      <th>17787909000134</th>\n",
       "      <th>18558694000142</th>\n",
       "      <th>18298864000105</th>\n",
       "      <th>32812185000125</th>\n",
       "      <th>11741429000156</th>\n",
       "      <th>...</th>\n",
       "      <th>14237118000142</th>\n",
       "      <th>14171644000157</th>\n",
       "      <th>14115118000170</th>\n",
       "      <th>23714047000112</th>\n",
       "      <th>35726805000100</th>\n",
       "      <th>27932660000167</th>\n",
       "      <th>14188162000100</th>\n",
       "      <th>30921203000181</th>\n",
       "      <th>30910553000142</th>\n",
       "      <th>27717045000138</th>\n",
       "    </tr>\n",
       "  </thead>\n",
       "  <tbody>\n",
       "    <tr>\n",
       "      <th>0</th>\n",
       "      <td>9476.238717</td>\n",
       "      <td>2.725072</td>\n",
       "      <td>230.083435</td>\n",
       "      <td>1.046469</td>\n",
       "      <td>4.746801</td>\n",
       "      <td>2.260868</td>\n",
       "      <td>2.835142</td>\n",
       "      <td>1.970838</td>\n",
       "      <td>107.189288</td>\n",
       "      <td>4.222595</td>\n",
       "      <td>...</td>\n",
       "      <td>2.273824</td>\n",
       "      <td>2.210487</td>\n",
       "      <td>2.738843</td>\n",
       "      <td>10.561692</td>\n",
       "      <td>1.013091</td>\n",
       "      <td>1.069223</td>\n",
       "      <td>2.185507</td>\n",
       "      <td>1.096534</td>\n",
       "      <td>1.098701</td>\n",
       "      <td>1133.645644</td>\n",
       "    </tr>\n",
       "    <tr>\n",
       "      <th>1</th>\n",
       "      <td>9492.145359</td>\n",
       "      <td>2.730746</td>\n",
       "      <td>230.583512</td>\n",
       "      <td>1.052654</td>\n",
       "      <td>4.759999</td>\n",
       "      <td>2.263318</td>\n",
       "      <td>2.876591</td>\n",
       "      <td>1.947510</td>\n",
       "      <td>108.257177</td>\n",
       "      <td>4.201679</td>\n",
       "      <td>...</td>\n",
       "      <td>2.274469</td>\n",
       "      <td>2.210556</td>\n",
       "      <td>2.742564</td>\n",
       "      <td>10.565436</td>\n",
       "      <td>1.013171</td>\n",
       "      <td>1.069712</td>\n",
       "      <td>2.185962</td>\n",
       "      <td>1.096746</td>\n",
       "      <td>1.099068</td>\n",
       "      <td>1133.072720</td>\n",
       "    </tr>\n",
       "    <tr>\n",
       "      <th>2</th>\n",
       "      <td>9553.200253</td>\n",
       "      <td>2.702602</td>\n",
       "      <td>229.758098</td>\n",
       "      <td>1.036770</td>\n",
       "      <td>4.746166</td>\n",
       "      <td>2.264003</td>\n",
       "      <td>2.868424</td>\n",
       "      <td>1.982873</td>\n",
       "      <td>109.125354</td>\n",
       "      <td>4.147773</td>\n",
       "      <td>...</td>\n",
       "      <td>2.275201</td>\n",
       "      <td>2.211370</td>\n",
       "      <td>2.733812</td>\n",
       "      <td>10.561309</td>\n",
       "      <td>1.013489</td>\n",
       "      <td>1.069716</td>\n",
       "      <td>2.186331</td>\n",
       "      <td>1.096750</td>\n",
       "      <td>1.098963</td>\n",
       "      <td>1133.635290</td>\n",
       "    </tr>\n",
       "    <tr>\n",
       "      <th>3</th>\n",
       "      <td>9619.547344</td>\n",
       "      <td>2.747348</td>\n",
       "      <td>230.940758</td>\n",
       "      <td>1.049486</td>\n",
       "      <td>4.797380</td>\n",
       "      <td>2.288290</td>\n",
       "      <td>2.851524</td>\n",
       "      <td>1.989195</td>\n",
       "      <td>109.888268</td>\n",
       "      <td>4.199290</td>\n",
       "      <td>...</td>\n",
       "      <td>2.275702</td>\n",
       "      <td>2.212492</td>\n",
       "      <td>2.741189</td>\n",
       "      <td>10.567026</td>\n",
       "      <td>1.013621</td>\n",
       "      <td>1.070110</td>\n",
       "      <td>2.187023</td>\n",
       "      <td>1.097007</td>\n",
       "      <td>1.099404</td>\n",
       "      <td>1134.137538</td>\n",
       "    </tr>\n",
       "    <tr>\n",
       "      <th>4</th>\n",
       "      <td>9374.414235</td>\n",
       "      <td>2.685006</td>\n",
       "      <td>228.070824</td>\n",
       "      <td>1.023026</td>\n",
       "      <td>4.698439</td>\n",
       "      <td>2.228894</td>\n",
       "      <td>2.835739</td>\n",
       "      <td>1.989170</td>\n",
       "      <td>107.191479</td>\n",
       "      <td>4.093083</td>\n",
       "      <td>...</td>\n",
       "      <td>2.276020</td>\n",
       "      <td>2.212905</td>\n",
       "      <td>2.727827</td>\n",
       "      <td>10.562323</td>\n",
       "      <td>1.013640</td>\n",
       "      <td>1.069958</td>\n",
       "      <td>2.187276</td>\n",
       "      <td>1.096997</td>\n",
       "      <td>1.099369</td>\n",
       "      <td>1133.160741</td>\n",
       "    </tr>\n",
       "    <tr>\n",
       "      <th>...</th>\n",
       "      <td>...</td>\n",
       "      <td>...</td>\n",
       "      <td>...</td>\n",
       "      <td>...</td>\n",
       "      <td>...</td>\n",
       "      <td>...</td>\n",
       "      <td>...</td>\n",
       "      <td>...</td>\n",
       "      <td>...</td>\n",
       "      <td>...</td>\n",
       "      <td>...</td>\n",
       "      <td>...</td>\n",
       "      <td>...</td>\n",
       "      <td>...</td>\n",
       "      <td>...</td>\n",
       "      <td>...</td>\n",
       "      <td>...</td>\n",
       "      <td>...</td>\n",
       "      <td>...</td>\n",
       "      <td>...</td>\n",
       "      <td>...</td>\n",
       "    </tr>\n",
       "    <tr>\n",
       "      <th>247</th>\n",
       "      <td>9855.075475</td>\n",
       "      <td>2.675408</td>\n",
       "      <td>257.478207</td>\n",
       "      <td>1.198670</td>\n",
       "      <td>5.848024</td>\n",
       "      <td>2.540130</td>\n",
       "      <td>3.197036</td>\n",
       "      <td>2.302362</td>\n",
       "      <td>109.086509</td>\n",
       "      <td>4.909076</td>\n",
       "      <td>...</td>\n",
       "      <td>2.397460</td>\n",
       "      <td>2.354895</td>\n",
       "      <td>2.809082</td>\n",
       "      <td>11.162081</td>\n",
       "      <td>1.037270</td>\n",
       "      <td>1.123219</td>\n",
       "      <td>2.315001</td>\n",
       "      <td>1.154868</td>\n",
       "      <td>1.176940</td>\n",
       "      <td>1198.768566</td>\n",
       "    </tr>\n",
       "    <tr>\n",
       "      <th>248</th>\n",
       "      <td>9777.223794</td>\n",
       "      <td>2.643776</td>\n",
       "      <td>253.182522</td>\n",
       "      <td>1.189572</td>\n",
       "      <td>5.775198</td>\n",
       "      <td>2.531583</td>\n",
       "      <td>3.204305</td>\n",
       "      <td>2.272741</td>\n",
       "      <td>106.653733</td>\n",
       "      <td>4.865191</td>\n",
       "      <td>...</td>\n",
       "      <td>2.398257</td>\n",
       "      <td>2.356297</td>\n",
       "      <td>2.795630</td>\n",
       "      <td>11.167268</td>\n",
       "      <td>1.037481</td>\n",
       "      <td>1.123563</td>\n",
       "      <td>2.315906</td>\n",
       "      <td>1.155241</td>\n",
       "      <td>1.177348</td>\n",
       "      <td>1199.217778</td>\n",
       "    </tr>\n",
       "    <tr>\n",
       "      <th>249</th>\n",
       "      <td>9774.313705</td>\n",
       "      <td>2.653076</td>\n",
       "      <td>254.260353</td>\n",
       "      <td>1.196228</td>\n",
       "      <td>5.752762</td>\n",
       "      <td>2.546687</td>\n",
       "      <td>3.163585</td>\n",
       "      <td>2.293661</td>\n",
       "      <td>106.260859</td>\n",
       "      <td>4.885949</td>\n",
       "      <td>...</td>\n",
       "      <td>2.398988</td>\n",
       "      <td>2.357508</td>\n",
       "      <td>2.799673</td>\n",
       "      <td>11.170731</td>\n",
       "      <td>1.037741</td>\n",
       "      <td>1.124061</td>\n",
       "      <td>2.316594</td>\n",
       "      <td>1.155610</td>\n",
       "      <td>1.177725</td>\n",
       "      <td>1199.590351</td>\n",
       "    </tr>\n",
       "    <tr>\n",
       "      <th>250</th>\n",
       "      <td>9576.696583</td>\n",
       "      <td>2.625754</td>\n",
       "      <td>249.479127</td>\n",
       "      <td>1.161523</td>\n",
       "      <td>5.657703</td>\n",
       "      <td>2.496497</td>\n",
       "      <td>3.143159</td>\n",
       "      <td>2.312158</td>\n",
       "      <td>103.945179</td>\n",
       "      <td>4.786635</td>\n",
       "      <td>...</td>\n",
       "      <td>2.399779</td>\n",
       "      <td>2.358092</td>\n",
       "      <td>2.786669</td>\n",
       "      <td>11.175085</td>\n",
       "      <td>1.037953</td>\n",
       "      <td>1.124395</td>\n",
       "      <td>2.317073</td>\n",
       "      <td>1.155876</td>\n",
       "      <td>1.177947</td>\n",
       "      <td>1199.023280</td>\n",
       "    </tr>\n",
       "    <tr>\n",
       "      <th>251</th>\n",
       "      <td>9610.491012</td>\n",
       "      <td>2.629050</td>\n",
       "      <td>250.492475</td>\n",
       "      <td>1.164934</td>\n",
       "      <td>5.639500</td>\n",
       "      <td>2.499984</td>\n",
       "      <td>3.132004</td>\n",
       "      <td>2.312619</td>\n",
       "      <td>103.963758</td>\n",
       "      <td>4.772699</td>\n",
       "      <td>...</td>\n",
       "      <td>2.399822</td>\n",
       "      <td>2.358898</td>\n",
       "      <td>2.782555</td>\n",
       "      <td>11.177772</td>\n",
       "      <td>1.038153</td>\n",
       "      <td>1.124489</td>\n",
       "      <td>2.317749</td>\n",
       "      <td>1.156197</td>\n",
       "      <td>1.178257</td>\n",
       "      <td>1199.626118</td>\n",
       "    </tr>\n",
       "  </tbody>\n",
       "</table>\n",
       "<p>252 rows × 569 columns</p>\n",
       "</div>"
      ],
      "text/plain": [
       "     00601692000123  17397804000179  17253801000161  33824951000134  \\\n",
       "0       9476.238717        2.725072      230.083435        1.046469   \n",
       "1       9492.145359        2.730746      230.583512        1.052654   \n",
       "2       9553.200253        2.702602      229.758098        1.036770   \n",
       "3       9619.547344        2.747348      230.940758        1.049486   \n",
       "4       9374.414235        2.685006      228.070824        1.023026   \n",
       "..              ...             ...             ...             ...   \n",
       "247     9855.075475        2.675408      257.478207        1.198670   \n",
       "248     9777.223794        2.643776      253.182522        1.189572   \n",
       "249     9774.313705        2.653076      254.260353        1.196228   \n",
       "250     9576.696583        2.625754      249.479127        1.161523   \n",
       "251     9610.491012        2.629050      250.492475        1.164934   \n",
       "\n",
       "     10756685000154  17787909000134  18558694000142  18298864000105  \\\n",
       "0          4.746801        2.260868        2.835142        1.970838   \n",
       "1          4.759999        2.263318        2.876591        1.947510   \n",
       "2          4.746166        2.264003        2.868424        1.982873   \n",
       "3          4.797380        2.288290        2.851524        1.989195   \n",
       "4          4.698439        2.228894        2.835739        1.989170   \n",
       "..              ...             ...             ...             ...   \n",
       "247        5.848024        2.540130        3.197036        2.302362   \n",
       "248        5.775198        2.531583        3.204305        2.272741   \n",
       "249        5.752762        2.546687        3.163585        2.293661   \n",
       "250        5.657703        2.496497        3.143159        2.312158   \n",
       "251        5.639500        2.499984        3.132004        2.312619   \n",
       "\n",
       "     32812185000125  11741429000156  ...  14237118000142  14171644000157  \\\n",
       "0        107.189288        4.222595  ...        2.273824        2.210487   \n",
       "1        108.257177        4.201679  ...        2.274469        2.210556   \n",
       "2        109.125354        4.147773  ...        2.275201        2.211370   \n",
       "3        109.888268        4.199290  ...        2.275702        2.212492   \n",
       "4        107.191479        4.093083  ...        2.276020        2.212905   \n",
       "..              ...             ...  ...             ...             ...   \n",
       "247      109.086509        4.909076  ...        2.397460        2.354895   \n",
       "248      106.653733        4.865191  ...        2.398257        2.356297   \n",
       "249      106.260859        4.885949  ...        2.398988        2.357508   \n",
       "250      103.945179        4.786635  ...        2.399779        2.358092   \n",
       "251      103.963758        4.772699  ...        2.399822        2.358898   \n",
       "\n",
       "     14115118000170  23714047000112  35726805000100  27932660000167  \\\n",
       "0          2.738843       10.561692        1.013091        1.069223   \n",
       "1          2.742564       10.565436        1.013171        1.069712   \n",
       "2          2.733812       10.561309        1.013489        1.069716   \n",
       "3          2.741189       10.567026        1.013621        1.070110   \n",
       "4          2.727827       10.562323        1.013640        1.069958   \n",
       "..              ...             ...             ...             ...   \n",
       "247        2.809082       11.162081        1.037270        1.123219   \n",
       "248        2.795630       11.167268        1.037481        1.123563   \n",
       "249        2.799673       11.170731        1.037741        1.124061   \n",
       "250        2.786669       11.175085        1.037953        1.124395   \n",
       "251        2.782555       11.177772        1.038153        1.124489   \n",
       "\n",
       "     14188162000100  30921203000181  30910553000142  27717045000138  \n",
       "0          2.185507        1.096534        1.098701     1133.645644  \n",
       "1          2.185962        1.096746        1.099068     1133.072720  \n",
       "2          2.186331        1.096750        1.098963     1133.635290  \n",
       "3          2.187023        1.097007        1.099404     1134.137538  \n",
       "4          2.187276        1.096997        1.099369     1133.160741  \n",
       "..              ...             ...             ...             ...  \n",
       "247        2.315001        1.154868        1.176940     1198.768566  \n",
       "248        2.315906        1.155241        1.177348     1199.217778  \n",
       "249        2.316594        1.155610        1.177725     1199.590351  \n",
       "250        2.317073        1.155876        1.177947     1199.023280  \n",
       "251        2.317749        1.156197        1.178257     1199.626118  \n",
       "\n",
       "[252 rows x 569 columns]"
      ]
     },
     "execution_count": 8,
     "metadata": {},
     "output_type": "execute_result"
    }
   ],
   "source": [
    "df"
   ]
  },
  {
   "cell_type": "code",
   "execution_count": 9,
   "metadata": {},
   "outputs": [],
   "source": [
    "df_retorno = df.pct_change().dropna()\n",
    "sigma = (df_retorno.cov()*252).to_numpy()\n",
    "#media = df_retorno.mean().values*252\n",
    "media = (df_retorno+1).apply(geo_mean)**252-1"
   ]
  },
  {
   "cell_type": "code",
   "execution_count": 10,
   "metadata": {},
   "outputs": [],
   "source": [
    "minFundos = np.array(pf_ordered['APLICACAO_MINIMA'])\n",
    "\n",
    "n = len(minFundos)"
   ]
  },
  {
   "cell_type": "code",
   "execution_count": 11,
   "metadata": {},
   "outputs": [],
   "source": [
    "minRetorno = 0.55\n",
    "C = 10_000\n",
    "P_categorias = [0.25, 0.0, 0.35, 0.4]\n",
    "K_min = 3\n",
    "K_max = 10\n",
    "P_min = 0.05\n",
    "P_max = 0.3\n",
    "l = 1\n",
    "log = 0"
   ]
  },
  {
   "cell_type": "code",
   "execution_count": 12,
   "metadata": {},
   "outputs": [],
   "source": [
    "parametros = par(C, minRetorno, K_min, K_max, P_min, P_max, P_categorias, limites, n, log)"
   ]
  },
  {
   "cell_type": "code",
   "execution_count": 13,
   "metadata": {},
   "outputs": [
    {
     "name": "stdout",
     "output_type": "stream",
     "text": [
      "P_min = 5.0%\n",
      "P_max = 30.0%\n",
      "K_min = 4\n",
      "K_max = 10\n",
      "P_categorias = [0.25, 0.0, 0.35, 0.4]\n"
     ]
    }
   ],
   "source": [
    "parametros.Exibir_par()"
   ]
  },
  {
   "cell_type": "code",
   "execution_count": 14,
   "metadata": {},
   "outputs": [
    {
     "name": "stdout",
     "output_type": "stream",
     "text": [
      "Academic license - for non-commercial use only - expires 2021-11-05\n",
      "Using license file /home/vinicius/gurobi.lic\n",
      "Tempo total: 2.0212738513946533 s\n",
      "Retorno esperado --> 0%\n",
      "Risco estimado --> 0%\n"
     ]
    }
   ],
   "source": [
    "import time\n",
    "\n",
    "tempo_init = time.time()\n",
    "Carteira = Markowitz(minFundos, sigma, media, cnpj, parametros);\n",
    "print('Tempo total:', time.time() - tempo_init, 's')\n",
    "\n",
    "Carteira.Exibir(C)"
   ]
  },
  {
   "cell_type": "code",
   "execution_count": 15,
   "metadata": {},
   "outputs": [],
   "source": [
    "categoria = np.array(pf['CATEGORIA'][Carteira.descricao])\n",
    "subcategoria = np.array(pf['SUBCATEGORIA'][Carteira.descricao])\n",
    "\n",
    "for i in range(len(categoria)):\n",
    "    print(f\"{Carteira.descricao[i]} --> {categoria[i]} --> {subcategoria[i]}\")"
   ]
  },
  {
   "cell_type": "code",
   "execution_count": 35,
   "metadata": {},
   "outputs": [
    {
     "name": "stdout",
     "output_type": "stream",
     "text": [
      "Tempo total: 247.82766199111938 s\n"
     ]
    }
   ],
   "source": [
    "minRetorno = 0.0\n",
    "C = 10_000\n",
    "P_categorias = [0.25, 0.0, 0.35, 0.4]\n",
    "K_min = 1\n",
    "#aux = 4\n",
    "#max(len(P_categorias), aux)\n",
    "K_max = 10\n",
    "P_min = 0.05\n",
    "P_max = 0.3 #max(P_categorias)\n",
    "log = 0\n",
    "\n",
    "a_retorno = []\n",
    "a_risco = []\n",
    "a_sharpe = []\n",
    "\n",
    "RES = dict()\n",
    "k = 0\n",
    "\n",
    "tempo_init = time.time()\n",
    "\n",
    "while minRetorno <= 1:\n",
    "    parametros = par(C, minRetorno, K_min, K_max, P_min, P_max, P_categorias, limites, n, log)\n",
    "    Carteira = Markowitz(minFundos, sigma, media, cnpj, parametros)\n",
    "    if Carteira.Risco != 0:\n",
    "        a_sharpe.append((Carteira.Retorno - 0.0525)/Carteira.Risco)\n",
    "        a_retorno.append(Carteira.Retorno)\n",
    "        a_risco.append(Carteira.Risco)\n",
    "        RES[k] = Carteira\n",
    "    minRetorno = minRetorno + 0.01\n",
    "    k += 1\n",
    "    \n",
    "print('Tempo total:', time.time() - tempo_init, 's')"
   ]
  },
  {
   "cell_type": "code",
   "execution_count": 36,
   "metadata": {},
   "outputs": [
    {
     "name": "stdout",
     "output_type": "stream",
     "text": [
      "6.88873953651461\n"
     ]
    }
   ],
   "source": [
    "max_i = np.argmax(a_sharpe)\n",
    "print(a_sharpe[max_i])"
   ]
  },
  {
   "cell_type": "code",
   "execution_count": 37,
   "metadata": {},
   "outputs": [
    {
     "name": "stdout",
     "output_type": "stream",
     "text": [
      "P_min = 5.0%\n",
      "P_max = 30.0%\n",
      "K_min = 4\n",
      "K_max = 10\n",
      "P_categorias = [0.25, 0.0, 0.35, 0.4]\n"
     ]
    }
   ],
   "source": [
    "parametros.Exibir_par()"
   ]
  },
  {
   "cell_type": "code",
   "execution_count": 38,
   "metadata": {},
   "outputs": [],
   "source": [
    "import matplotlib.colors as mcolors"
   ]
  },
  {
   "cell_type": "code",
   "execution_count": 39,
   "metadata": {},
   "outputs": [
    {
     "data": {
      "image/png": "[encoded data removed]",
      "text/plain": [
       "<Figure size 432x288 with 1 Axes>"
      ]
     },
     "metadata": {
      "needs_background": "light"
     },
     "output_type": "display_data"
    }
   ],
   "source": [
    "fig = plt.figure()\n",
    "plt.grid()\n",
    "plt.scatter(a_risco,a_retorno,c='k')\n",
    "plt.plot(a_risco[max_i], a_retorno[max_i], '*r', markersize='12')\n",
    "#plt.ylim((0,1.25))\n",
    "#plt.xlim((-0.01,0.7))\n",
    "plt.xlabel('VOLATILIDADE ESPERADA')\n",
    "plt.ylabel('RETORNO ESPERADO')\n",
    "plt.show()"
   ]
  },
  {
   "cell_type": "code",
   "execution_count": 40,
   "metadata": {},
   "outputs": [
    {
     "name": "stdout",
     "output_type": "stream",
     "text": [
      "Retorno esperado --> 37.0%\n",
      "Risco estimado --> 4.61%\n",
      "Fundo 63 (29177024000100) --> 14.32%; R$ 1431.94 --> R$ 250.0\n",
      "Fundo 113 (08968733000126) --> 10.68%; R$ 1068.06 --> R$ 250.0\n",
      "Fundo 242 (33736873000116) --> 5.0%; R$ 500.0 --> R$ 500.0\n",
      "Fundo 268 (36327569000103) --> 5.0%; R$ 500.0 --> R$ 100.0\n",
      "Fundo 447 (19959703000170) --> 5.0%; R$ 500.0 --> R$ 0.0\n",
      "Fundo 470 (21732619000160) --> 20.0%; R$ 2000.0 --> R$ 1000.0\n",
      "Fundo 489 (26759909000111) --> 10.0%; R$ 1000.0 --> R$ 1000.0\n",
      "Fundo 524 (30934757000113) --> 30.0%; R$ 3000.0 --> R$ 1000.0\n"
     ]
    }
   ],
   "source": [
    "RES[max_i].Exibir(C)"
   ]
  },
  {
   "cell_type": "code",
   "execution_count": 41,
   "metadata": {},
   "outputs": [
    {
     "name": "stdout",
     "output_type": "stream",
     "text": [
      "29177024000100 --> Ações --> Ações Dividendos\n",
      "08968733000126 --> Ações --> Ações Livre\n",
      "33736873000116 --> Multimercados --> Multimercados Estratégia Específica\n",
      "36327569000103 --> Multimercados --> Multimercados Investimento no Exterior\n",
      "19959703000170 --> Multimercados --> Multimercados Macro\n",
      "21732619000160 --> Multimercados --> Multimercados Investimento no Exterior\n",
      "26759909000111 --> Renda Fixa --> Renda Fixa Duração Livre Crédito Livre\n",
      "30934757000113 --> Renda Fixa --> Renda Fixa Duração Livre Crédito Livre\n"
     ]
    }
   ],
   "source": [
    "categoria = np.array(pf['CATEGORIA'][RES[max_i].descricao])\n",
    "subcategoria = np.array(pf['SUBCATEGORIA'][RES[max_i].descricao])\n",
    "\n",
    "for i in range(len(RES[max_i].descricao)):\n",
    "    print(f\"{RES[max_i].descricao[i]} --> {categoria[i]} --> {subcategoria[i]}\")"
   ]
  },
  {
   "cell_type": "code",
   "execution_count": null,
   "metadata": {},
   "outputs": [],
   "source": [
    "RES.keys()"
   ]
  },
  {
   "cell_type": "code",
   "execution_count": null,
   "metadata": {},
   "outputs": [],
   "source": []
  }
 ],
 "metadata": {
  "colab": {
   "collapsed_sections": [],
   "name": "ModeloFinançasGurobipy.ipynb",
   "provenance": []
  },
  "kernelspec": {
   "display_name": "Python 3",
   "language": "python",
   "name": "python3"
  },
  "language_info": {
   "codemirror_mode": {
    "name": "ipython",
    "version": 3
   },
   "file_extension": ".py",
   "mimetype": "text/x-python",
   "name": "python",
   "nbconvert_exporter": "python",
   "pygments_lexer": "ipython3",
   "version": "3.8.10"
  }
 },
 "nbformat": 4,
 "nbformat_minor": 1
}
